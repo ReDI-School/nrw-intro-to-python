{
 "metadata": {
  "language_info": {
   "codemirror_mode": {
    "name": "ipython",
    "version": 3
   },
   "file_extension": ".py",
   "mimetype": "text/x-python",
   "name": "python",
   "nbconvert_exporter": "python",
   "pygments_lexer": "ipython3",
   "version": "3.7.9-final"
  },
  "orig_nbformat": 2,
  "kernelspec": {
   "name": "Python 3.7.9 64-bit ('venv': venv)",
   "display_name": "Python 3.7.9 64-bit ('venv': venv)",
   "metadata": {
    "interpreter": {
     "hash": "be955fbfa8d5a955266875a901b54717e99b11011bba7c128f541330070001d6"
    }
   }
  }
 },
 "nbformat": 4,
 "nbformat_minor": 2,
 "cells": [
  {
   "source": [
    "# Introduction to Python\n",
    "## Lesson 2 - Variables, Data Types and Operators\n",
    "**Ian Clark - 07.10.2020**\n",
    "\n",
    "------"
   ],
   "cell_type": "markdown",
   "metadata": {}
  },
  {
   "source": [
    "## Objectives\n",
    "By the end of today's lesson, we'll have looked at:\n",
    "\n",
    "* What data types are\n",
    "* What variables are\n",
    "* What operators are\n",
    "* How we can *apply* operators *to* data types\n",
    "* How can we compare data types\n",
    "\n",
    "----"
   ],
   "cell_type": "markdown",
   "metadata": {}
  },
  {
   "source": [
    "## Data Types\n",
    "* In Python - just as in any programming language - we categorize data into \"types\".\n",
    "* These different data types have different properties\n",
    "* We can do different things with them (using operators, more on that later)\n",
    "* We can compare them to one another\n",
    "* Today, we're going to look at some of the most essential..."
   ],
   "cell_type": "markdown",
   "metadata": {}
  },
  {
   "source": [
    "----\n",
    "\n",
    "### Strings"
   ],
   "cell_type": "markdown",
   "metadata": {}
  },
  {
   "cell_type": "code",
   "execution_count": 1,
   "metadata": {
    "tags": []
   },
   "outputs": [
    {
     "output_type": "stream",
     "name": "stdout",
     "text": "Hello world!\n"
    }
   ],
   "source": [
    "# For text, we have the \"string\" type.\n",
    "# Think of a string as just a collection of letters and numbers\n",
    "print('Hello world!')"
   ]
  },
  {
   "cell_type": "code",
   "execution_count": 2,
   "metadata": {
    "tags": []
   },
   "outputs": [
    {
     "output_type": "stream",
     "name": "stdout",
     "text": "1) With single quotes\n2) With double quotes\n3) Or using three of either\n   Which is useful when you want to write multiple lines\n"
    }
   ],
   "source": [
    "# Note: To create a string, we need to wrap it in quotes.\n",
    "# We can actually do this in a variety of ways...\n",
    "print('1) With single quotes')\n",
    "print(\"2) With double quotes\")\n",
    "print(\"\"\"3) Or using three of either\n",
    "   Which is useful when you want to write multiple lines\"\"\")"
   ]
  },
  {
   "cell_type": "code",
   "execution_count": 3,
   "metadata": {
    "tags": []
   },
   "outputs": [
    {
     "output_type": "execute_result",
     "data": {
      "text/plain": "str"
     },
     "metadata": {},
     "execution_count": 3
    }
   ],
   "source": [
    "# To help us determine the type of some data, python provides the `type()` function\n",
    "# Note: \"str\" is short for string\n",
    "type(\"What am I?\")"
   ]
  },
  {
   "source": [
    "----\n",
    "\n",
    "### Numbers"
   ],
   "cell_type": "markdown",
   "metadata": {}
  },
  {
   "cell_type": "code",
   "execution_count": 4,
   "metadata": {},
   "outputs": [],
   "source": [
    "# Next, let's look at some numbers!\n",
    "# There are a many different ways of dealing with numbers in Python,\n",
    "# but 99% of the time, we'll only care about 2 of them."
   ]
  },
  {
   "cell_type": "code",
   "execution_count": 5,
   "metadata": {
    "tags": []
   },
   "outputs": [
    {
     "output_type": "stream",
     "name": "stdout",
     "text": "42\n"
    }
   ],
   "source": [
    "# The first are \"integers\" - or, whole numbers.\n",
    "print(42)"
   ]
  },
  {
   "cell_type": "code",
   "execution_count": 6,
   "metadata": {
    "tags": []
   },
   "outputs": [
    {
     "output_type": "execute_result",
     "data": {
      "text/plain": "int"
     },
     "metadata": {},
     "execution_count": 6
    }
   ],
   "source": [
    "# These have the data type \"int\".\n",
    "type(42)"
   ]
  },
  {
   "cell_type": "code",
   "execution_count": 7,
   "metadata": {
    "tags": []
   },
   "outputs": [
    {
     "output_type": "stream",
     "name": "stdout",
     "text": "3.14\n"
    }
   ],
   "source": [
    "# The second are \"floats\" - or, floating point numbers.\n",
    "# In mathematical terms, these describe \"real\" (non-whole) numbers,\n",
    "# which we often express using decimal points.\n",
    "print(3.14)"
   ]
  },
  {
   "cell_type": "code",
   "execution_count": 8,
   "metadata": {
    "tags": []
   },
   "outputs": [
    {
     "output_type": "execute_result",
     "data": {
      "text/plain": "float"
     },
     "metadata": {},
     "execution_count": 8
    }
   ],
   "source": [
    "# They have the data type \"float\"\n",
    "type(3.14)"
   ]
  },
  {
   "source": [
    "----\n",
    "\n",
    "### Booleans"
   ],
   "cell_type": "markdown",
   "metadata": {}
  },
  {
   "cell_type": "code",
   "execution_count": 9,
   "metadata": {
    "tags": []
   },
   "outputs": [
    {
     "output_type": "stream",
     "name": "stdout",
     "text": "True\nFalse\n"
    }
   ],
   "source": [
    "# In computing, we often need to consider something as having two possible\n",
    "# values, such as 0 or 1, 'on' or 'off', or true or false. These are called\n",
    "# booleans, and in Python we have the following\n",
    "# either...\n",
    "print(True)\n",
    "# or...\n",
    "print(False)"
   ]
  },
  {
   "cell_type": "code",
   "execution_count": 10,
   "metadata": {},
   "outputs": [
    {
     "output_type": "execute_result",
     "data": {
      "text/plain": "bool"
     },
     "metadata": {},
     "execution_count": 10
    }
   ],
   "source": [
    "# They have the data type \"bool\"\n",
    "type(True)"
   ]
  },
  {
   "source": [
    "----\n",
    "\n",
    "### None"
   ],
   "cell_type": "markdown",
   "metadata": {}
  },
  {
   "cell_type": "code",
   "execution_count": 11,
   "metadata": {
    "tags": []
   },
   "outputs": [
    {
     "output_type": "stream",
     "name": "stdout",
     "text": "None\n"
    }
   ],
   "source": [
    "# Finally, most languages have a data type to express that something\n",
    "# doesn't exist. This is sometimes called \"null\", or \"empty\", but in\n",
    "# python it is \"None\"\n",
    "print(None)"
   ]
  },
  {
   "cell_type": "code",
   "execution_count": 12,
   "metadata": {},
   "outputs": [
    {
     "output_type": "execute_result",
     "data": {
      "text/plain": "NoneType"
     },
     "metadata": {},
     "execution_count": 12
    }
   ],
   "source": [
    "# And, it's type?\n",
    "type(None)"
   ]
  },
  {
   "source": [
    "----\n",
    "\n",
    "## Variables\n",
    "* Now lets look at \"variables\"\n",
    "* A variable in Python, is simply a **name that points to an object** - such as the ones we just created above."
   ],
   "cell_type": "markdown",
   "metadata": {}
  },
  {
   "cell_type": "code",
   "execution_count": 13,
   "metadata": {
    "tags": []
   },
   "outputs": [
    {
     "output_type": "stream",
     "name": "stdout",
     "text": "1\n"
    }
   ],
   "source": [
    "a = 1\n",
    "print(a)"
   ]
  },
  {
   "source": [
    "* When we create a new variable in Python, we store into memory the name of the variable (`a`), the object (`1`) and the reference from the variable to the object\n",
    "* When we create a variable, we store in memory the variable (`a`), the object (`1`), and the link from one to the other\n",
    "* Were we to draw this relationship, it would look something like this\n",
    "\n",
    "![A pointing to the object 1](images/variable-single.svg)"
   ],
   "cell_type": "markdown",
   "metadata": {
    "tags": []
   }
  },
  {
   "source": [
    "* Wn create as many variables as we like"
   ],
   "cell_type": "markdown",
   "metadata": {}
  },
  {
   "cell_type": "code",
   "execution_count": 14,
   "metadata": {
    "tags": []
   },
   "outputs": [
    {
     "output_type": "stream",
     "name": "stdout",
     "text": "1\n2\n"
    }
   ],
   "source": [
    "a = 1\n",
    "b = 2\n",
    "print(a)\n",
    "print(b)"
   ]
  },
  {
   "source": [
    "![Multiple variables at once](images/variable-multiple.svg)"
   ],
   "cell_type": "markdown",
   "metadata": {}
  },
  {
   "source": [
    "* We can assign a variable from another variable"
   ],
   "cell_type": "markdown",
   "metadata": {}
  },
  {
   "cell_type": "code",
   "execution_count": 15,
   "metadata": {
    "tags": []
   },
   "outputs": [
    {
     "output_type": "stream",
     "name": "stdout",
     "text": "1\n"
    }
   ],
   "source": [
    "b = a\n",
    "print(b)"
   ]
  },
  {
   "source": [
    "* But an important point here: `b` is now referencing **the same object** as `a`, it is _not pointing directly to_ `a` itself. Looking at the relationship graphically makes it a little clearer\n",
    "\n",
    "![Variables passed by reference](images/variable-by-reference.svg)"
   ],
   "cell_type": "markdown",
   "metadata": {}
  },
  {
   "source": [
    "* When we assign `a` to a different object, `b` remains as it was"
   ],
   "cell_type": "markdown",
   "metadata": {}
  },
  {
   "cell_type": "code",
   "execution_count": 16,
   "metadata": {
    "tags": []
   },
   "outputs": [
    {
     "output_type": "stream",
     "name": "stdout",
     "text": "3\n1\n"
    }
   ],
   "source": [
    "a = 3\n",
    "print(a)\n",
    "print(b)"
   ]
  },
  {
   "source": [
    "![`b` remains 1 despite `a` being reassigned](images/variable-reassigned.svg)"
   ],
   "cell_type": "markdown",
   "metadata": {}
  },
  {
   "source": [
    "b = 4"
   ],
   "cell_type": "code",
   "metadata": {},
   "execution_count": 17,
   "outputs": []
  },
  {
   "source": [
    "* When we reassign `b` to `4`, our integer object `1` is no longer in use. Another way of putting this, is that it _no longer has any references_. Luckily Python deals with these situations automatically for us, by *removing* these objects from memory (this is known as \"Garbage Collecting\" 🗑️).\n",
    "\n",
    "![`1` no longer has any references](images/variable-zero-references.svg)"
   ],
   "cell_type": "markdown",
   "metadata": {}
  },
  {
   "source": [
    "----\n",
    "----\n",
    "----\n",
    "\n",
    "# WORK IN PROGRESS - To Cover\n",
    "* Know some basic data types (string, integer, float, boolean, None, etc.)  \n",
    "* Type function to acquire the type of data \n",
    "* Introduce the idea of simple variables and variable declaration, simple storage and access  \n",
    "* Talk about precedence of operations (multiplication, division, etc.) - BODMAS: brackets --> which operators comes before which \n",
    "* Variable assignment and difference between equality and assignment \n",
    "* Equality checking \n",
    "* Negation \n",
    "* Small operations \n",
    "* Generally play around with those concepts to get familiar with it \n",
    "* Input function \"Hello my name is …\" ==> variables' substitution  \n",
    "* String additions and trying to predict the outcomes \n",
    "\n",
    "# Ideas\n",
    "* Fizzbuzz homework\n"
   ],
   "cell_type": "markdown",
   "metadata": {}
  }
 ]
}