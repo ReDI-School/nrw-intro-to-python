{
 "cells": [
  {
   "cell_type": "markdown",
   "metadata": {},
   "source": [
    "# Exercise 1 - FizzBuzz\n",
    "\n",
    "a) Write a function `fizz_buzz()`that takes a number as parameter\n",
    "- if the number is divisible by 3, return `\"fizz\"`\n",
    "- if the number is devisible by 5 return `\"buzz\"`\n",
    "- if it is dvisble by 3 and 5, return `\"fizzbuzz\"`\n",
    "- in all other cases return an empty string\n",
    "\n",
    "\n",
    "*Example*:\n",
    "```python\n",
    "fizz_buzz(9) -> \"fizz\"\n",
    "fizz_buzz(10) -> \"buzz\"\n",
    "fizz_buzz(15) -> \"fizzbuzz\"\n",
    "fizz_buzz(16) -> \"\"\n",
    "```"
   ]
  },
  {
   "cell_type": "code",
   "execution_count": 5,
   "metadata": {},
   "outputs": [],
   "source": [
    "def fizz_buzz(number):\n",
    "    return 0"
   ]
  },
  {
   "cell_type": "markdown",
   "metadata": {},
   "source": [
    "b) **Bonus** \n",
    "Write a function `first_n_fizz_buzz()` that will accept a number as input and that will print the result of `fizz_buzz` for all numbers between one and the number\n",
    "\n",
    "*Example:*\n",
    "\n",
    "```python\n",
    "first_n_fizz_buzz(4)\n",
    "  -> 1: FizzBuzz is \"\"\n",
    "     2: FizzBuzz is \"\"\n",
    "     3: FizzBuzz is \"fizz\"\n",
    "     4: FizzBuzz is \"\"\n",
    "```"
   ]
  },
  {
   "cell_type": "markdown",
   "metadata": {
    "colab_type": "text",
    "id": "r0YOQMhBWcCq"
   },
   "source": [
    "# Exercise 2\n",
    " Extract individual letters from an input string and put them into a list\n",
    "\n",
    "**For example**\n",
    "\n",
    "Function get_characters(\"apple\") should return ['a', 'p', 'p', 'l', 'e']\n",
    "\n",
    "Function get_characters(\"baloon\") should return ['b', 'a', 'l', 'o', 'o', 'n']"
   ]
  },
  {
   "cell_type": "markdown",
   "metadata": {
    "colab": {},
    "colab_type": "code",
    "id": "kTAW4iS8Wad_"
   },
   "source": [
    "*Start with [   ] and use the append function (append  add a new item to the end of a list)*"
   ]
  },
  {
   "cell_type": "markdown",
   "metadata": {
    "colab_type": "text",
    "id": "jiwTnF7cW1sg"
   },
   "source": [
    "# Exercise 3\n",
    "Write a function to find the vowels in a String and return the vowels in a list.\n",
    "\n",
    "**For example:**  \n",
    "\n",
    "find_vowels(\"apple\") should return the list ['a', 'e']\n",
    "\n",
    "find_vowels(\"baloon\") should return the list ['a', 'o', 'o']"
   ]
  },
  {
   "cell_type": "markdown",
   "metadata": {
    "colab_type": "text",
    "id": "BImRxHn8YX4w"
   },
   "source": [
    "# Exercise 4\n",
    "\n",
    "Write a function that accept users first and last name and returns a full-name string after replacing all charachters except the initials.\n",
    "\n",
    "For example: Function mask_username(first_name, last_name)\n",
    "\n",
    "`mask_username(\"John\", \"Doe\") returns \"J*** D**\"` <br>\n",
    "`mask_username(\"Angela\", \"Merkel\") returns \"A***** M*****\"`"
   ]
  },
  {
   "cell_type": "markdown",
   "metadata": {},
   "source": [
    "# Exercise 5"
   ]
  },
  {
   "cell_type": "markdown",
   "metadata": {},
   "source": [
    "### Write a Python function that inputs a, b, c as coefficients of a quadratic function and returns roots of that quadratic function\n",
    "Here is what I mean: <br>\n",
    "solve_quadratic_function(1,1,1) -> output =  None <br>\n",
    "solve_quadratic_function(1,-2,1) -> output = 1 <br>\n",
    "solve_quadratic_function(1,-3,2) -> output = 1 and 2 <br>\n",
    "<br>\n",
    "*If you want to refresh your mind about how to solve a quadratic equation, have a look at this link <br> https://www.cliffsnotes.com/study-guides/algebra/algebra-i/quadratic-equations/solving-quadratic-equations*"
   ]
  },
  {
   "cell_type": "markdown",
   "metadata": {},
   "source": [
    "*Hint: consider 3 cases where delta >0, delta < 0 or delta = 0*"
   ]
  },
  {
   "cell_type": "code",
   "execution_count": null,
   "metadata": {},
   "outputs": [],
   "source": [
    "def solve_quadratic_function(a,b,c):\n",
    "    '''\n",
    "    Write your function description heree\n",
    "    '''"
   ]
  }
 ],
 "metadata": {
  "colab": {
   "collapsed_sections": [],
   "name": "Lesson 7 - Functions Exercises.ipynb",
   "provenance": []
  },
  "kernelspec": {
   "display_name": "Python 3",
   "language": "python",
   "name": "python3"
  },
  "language_info": {
   "codemirror_mode": {
    "name": "ipython",
    "version": 3
   },
   "file_extension": ".py",
   "mimetype": "text/x-python",
   "name": "python",
   "nbconvert_exporter": "python",
   "pygments_lexer": "ipython3",
   "version": "3.8.5"
  }
 },
 "nbformat": 4,
 "nbformat_minor": 1
}
