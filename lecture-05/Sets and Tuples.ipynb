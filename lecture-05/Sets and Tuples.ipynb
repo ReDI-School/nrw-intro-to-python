{
 "cells": [
  {
   "cell_type": "markdown",
   "metadata": {},
   "source": [
    "# Sets"
   ]
  },
  {
   "cell_type": "markdown",
   "metadata": {},
   "source": [
    "A Set is an unordered collection data type that is iterable, mutable and has no duplicate elements.The major advantage of using a set, as opposed to a list, is that it has a highly optimized method for checking whether a specific element is contained in the set.\n",
    "\n",
    "The Python datatype for integers is called `set`."
   ]
  },
  {
   "cell_type": "code",
   "execution_count": null,
   "metadata": {},
   "outputs": [],
   "source": [
    "myset = set(['a', 'b', 'c'])  # note: we use set() to do type conversion from a list to a set!\n",
    "print(myset)"
   ]
  },
  {
   "cell_type": "code",
   "execution_count": null,
   "metadata": {},
   "outputs": [],
   "source": [
    "myset_new = {1, 2, 3, 'a', 'b'} # Note that this approach does not work for empty sets: a = {} will create an empty DICTIONARY, not an empty set!\n",
    "print(myset_new)"
   ]
  },
  {
   "cell_type": "markdown",
   "metadata": {},
   "source": [
    "Since all elements in a set are unique, adding an element twice has no effect."
   ]
  },
  {
   "cell_type": "code",
   "execution_count": null,
   "metadata": {},
   "outputs": [],
   "source": [
    "myset = {'a', 'b', 'c', 'c'}\n",
    "print(myset)"
   ]
  },
  {
   "cell_type": "markdown",
   "metadata": {},
   "source": [
    "Likewise, when calling `set()` to do type conversion from a list, all duplicates are removed."
   ]
  },
  {
   "cell_type": "code",
   "execution_count": null,
   "metadata": {},
   "outputs": [],
   "source": [
    "mylist = ['a', 'a', 'b', 'c']\n",
    "print(mylist, set(mylist))"
   ]
  },
  {
   "cell_type": "markdown",
   "metadata": {},
   "source": [
    "Sets are unordered. There is no notion of \"first element\" in a set. Thus integer indexing (as applicable for lists) is not possible!"
   ]
  },
  {
   "cell_type": "code",
   "execution_count": null,
   "metadata": {},
   "outputs": [],
   "source": [
    "myset[2]"
   ]
  },
  {
   "cell_type": "markdown",
   "metadata": {},
   "source": [
    "## Elements in a Set\n",
    "### Adding individual Elements to a Set"
   ]
  },
  {
   "cell_type": "code",
   "execution_count": null,
   "metadata": {},
   "outputs": [],
   "source": [
    "myset = set()"
   ]
  },
  {
   "cell_type": "code",
   "execution_count": null,
   "metadata": {},
   "outputs": [],
   "source": [
    "myset.add('a')\n",
    "print(myset)"
   ]
  },
  {
   "cell_type": "markdown",
   "metadata": {},
   "source": [
    "If you want to add multiple elements, you can use:"
   ]
  },
  {
   "cell_type": "code",
   "execution_count": null,
   "metadata": {},
   "outputs": [],
   "source": [
    "myset.update('b', 'c')\n",
    "print(myset)"
   ]
  },
  {
   "cell_type": "markdown",
   "metadata": {},
   "source": [
    "### Removing individual Elements from a Set\n",
    "There are multiple ways to remove an element from a set:\n",
    "* `remove`: Removes element from set. Complains (\"raises an error\"), if element does not exist.\n",
    "* `discard`: Removes element from set. Does nothing, if element does not exist.\n",
    "* `pop`: Removes \"random\" element from set and returns it. Complains (\"raises an error\"), if set is empty.\n",
    "* `clear`: Removes all elements from a set (empties the set)."
   ]
  },
  {
   "cell_type": "code",
   "execution_count": null,
   "metadata": {},
   "outputs": [],
   "source": [
    "myset = {1, 2, 3, 4}"
   ]
  },
  {
   "cell_type": "code",
   "execution_count": null,
   "metadata": {},
   "outputs": [],
   "source": [
    "myset.remove(4)\n",
    "print(myset)"
   ]
  },
  {
   "cell_type": "code",
   "execution_count": null,
   "metadata": {},
   "outputs": [],
   "source": [
    "myset.remove(5)"
   ]
  },
  {
   "cell_type": "code",
   "execution_count": null,
   "metadata": {},
   "outputs": [],
   "source": [
    "myset.discard(5)\n",
    "print(myset)"
   ]
  },
  {
   "cell_type": "code",
   "execution_count": null,
   "metadata": {},
   "outputs": [],
   "source": [
    "myset.discard(3)\n",
    "print(myset)"
   ]
  },
  {
   "cell_type": "code",
   "execution_count": null,
   "metadata": {},
   "outputs": [],
   "source": [
    "# Pop removes and returns a value at the same time\n",
    "extracted_element = myset.pop()\n",
    "print(f'After extracting {extracted_element}, myset still has the following values: {myset}')"
   ]
  },
  {
   "cell_type": "code",
   "execution_count": null,
   "metadata": {},
   "outputs": [],
   "source": [
    "myset.clear()  # delete all elements\n",
    "print(myset)"
   ]
  },
  {
   "cell_type": "markdown",
   "metadata": {},
   "source": [
    "### Checking if an Element is in a Set\n",
    "You can use the keywords `in` and `not in` to understand if a given element is (not) in a set."
   ]
  },
  {
   "cell_type": "code",
   "execution_count": null,
   "metadata": {},
   "outputs": [],
   "source": [
    "myset = {1, 2, 3, 4, 5}"
   ]
  },
  {
   "cell_type": "code",
   "execution_count": null,
   "metadata": {},
   "outputs": [],
   "source": [
    "print(1 in myset)"
   ]
  },
  {
   "cell_type": "code",
   "execution_count": null,
   "metadata": {},
   "outputs": [],
   "source": [
    "print(6 in myset)"
   ]
  },
  {
   "cell_type": "code",
   "execution_count": null,
   "metadata": {},
   "outputs": [],
   "source": [
    "print(1 not in myset)"
   ]
  },
  {
   "cell_type": "code",
   "execution_count": null,
   "metadata": {},
   "outputs": [],
   "source": [
    "print(6 not in myset)"
   ]
  },
  {
   "cell_type": "markdown",
   "metadata": {},
   "source": [
    "## Operations on Sets\n",
    "So far, we have seen how to work with individual elements and sets. But we can also apply operations to two sets.\n",
    "\n",
    "Among others, the following operators are defined when working with sets. Let `A` and `B` be sets.\n",
    "\n",
    "| Operator | Operation | Example | Alternative Syntax | Example in Math Notation |\n",
    "| ----- | ----- | ------ | -------- |  ----- |\n",
    "| `&`  | [Intersection](https://en.wikipedia.org/wiki/Intersection_(set_theory)) (all elements that are in both sets) | `A & B` | `A.intersection(B)` | $A \\cap B$ |\n",
    "| `\\|`  | [Union](https://en.wikipedia.org/wiki/Union_(set_theory)) (all elements that are in at least one set) | `A \\| B` | `A.union(B)` | $A \\cup B$ |\n",
    "| `-`  | [Set Difference](https://en.wikipedia.org/wiki/Complement_(set_theory)#Relative_complement) (all elements that are in the first set but not in the second) | `A - B` | `A.difference(B)` | $A \\setminus B$ |\n",
    "| `^`  | [Symmetric difference](https://en.wikipedia.org/wiki/Symmetric_difference) (all elements that appear in one of the sets, but not both) | `A ^ B` | `A.symmetric_difference(B)` | $A \\ominus B$, or $A\\triangle B$ |\n",
    "\n",
    "It might help you to think about these operations visually through Venn Diagrams (source: [https://school.geekwall.in](https://school.geekwall.in/p/Hyjaygqb7/python-sets-and-set-theory)):\n",
    "\n",
    "![Venn Diagram of Set Operations in Python](https://cdn-images-1.medium.com/max/1600/0*a02OPI3-TnbKXyub.png)"
   ]
  },
  {
   "cell_type": "markdown",
   "metadata": {},
   "source": [
    "### Comparison Operators on Sets\n",
    "As with the comparison operators defined for e.g. numeric values (`<`, `<=`, `>`, `>=`, `==`), applying a comparison operator on two sets returns a `bool` value!\n",
    "\n",
    "| Operator | Check | Example | Alternative Syntax | Example in Math Notation |\n",
    "| ----- | ----- | ------ | -------- |  ----- |\n",
    "| `==`  | Set equality (Both sets contain the same values) | `A == B` |  | $A = B$ |\n",
    "| `<`  | Proper subset (Second set contains all elements of first set and more) | `A < B` |  | $A \\subset B$ |\n",
    "| `<=`  | Subset (Second set contains at least all elements of first set) | `A <= B` | `A.issubset(B)` | $A \\subseteq B$ |\n",
    "| `>`  | Proper superset (First set contains all elements of second set and more) | `A > B` |  | $A \\supset B$ |\n",
    "| `>=`  | Superset (First set contains at least all elements of second set) | `A >= B` | `A.issuperset(B)` | $A \\supseteq B$ |\n",
    "|   | [Sets disjoint](https://en.wikipedia.org/wiki/Disjoint_sets) (no element appears in both sets) |  | `A.isdisjoint(B)` |  $\\iff A \\cap B = \\varnothing$ |"
   ]
  },
  {
   "cell_type": "markdown",
   "metadata": {},
   "source": [
    "## Other Functions on Sets"
   ]
  },
  {
   "cell_type": "markdown",
   "metadata": {},
   "source": [
    "We can perform various operations on sets that we already discovered when discussing lists and dictionaries, such as `len()`, `max()`, `min()`, `sorted()`."
   ]
  },
  {
   "cell_type": "code",
   "execution_count": null,
   "metadata": {},
   "outputs": [],
   "source": [
    "len(myset)"
   ]
  },
  {
   "cell_type": "code",
   "execution_count": null,
   "metadata": {},
   "outputs": [],
   "source": [
    "max(myset)"
   ]
  },
  {
   "cell_type": "code",
   "execution_count": null,
   "metadata": {},
   "outputs": [],
   "source": [
    "min(myset)"
   ]
  },
  {
   "cell_type": "markdown",
   "metadata": {},
   "source": [
    "Functions like `max()` and `min()` require the set to contain the same data type elements to work with because we can’t compare integers and strings directly."
   ]
  },
  {
   "cell_type": "markdown",
   "metadata": {},
   "source": [
    "The `sorted()` function takes an iterable like sets and sorts the elements in ascending order. Note that the return value is a *list* because a set does not have any notion of order, so it cannot be sorted!"
   ]
  },
  {
   "cell_type": "markdown",
   "metadata": {},
   "source": [
    "## Excercise\n",
    "You took part in one of these call-in events at your local radio stations, and you won! You and your best friend can go on a 2 week safari! The only catch: You have to leave immediatly and you cannot align before packing your bags.\n",
    "\n",
    "As you arrive in the hotel, here is what you and your friend brought along:"
   ]
  },
  {
   "cell_type": "code",
   "execution_count": null,
   "metadata": {},
   "outputs": [],
   "source": [
    "my_bag = {'binoculars', 'sunscreen', 'pen', 'map', 'first aid kit', 'bottle'}\n",
    "friends_bag = {'sunscreen', 'bottle', 'flash light', 'pen', 'blanket'}"
   ]
  },
  {
   "cell_type": "markdown",
   "metadata": {},
   "source": [
    "Please answer the following questions using Python!\n",
    "\n",
    "**1.) How many items and in your bag?**"
   ]
  },
  {
   "cell_type": "code",
   "execution_count": null,
   "metadata": {},
   "outputs": [],
   "source": []
  },
  {
   "cell_type": "markdown",
   "metadata": {},
   "source": [
    "**2.) Which items did you bring twice?**"
   ]
  },
  {
   "cell_type": "code",
   "execution_count": null,
   "metadata": {},
   "outputs": [],
   "source": []
  },
  {
   "cell_type": "markdown",
   "metadata": {},
   "source": [
    "**3.) How many different items did you bring together?**"
   ]
  },
  {
   "cell_type": "code",
   "execution_count": null,
   "metadata": {},
   "outputs": [],
   "source": []
  },
  {
   "cell_type": "markdown",
   "metadata": {},
   "source": [
    "**4.) Did your friend bring a `'pen'`?**"
   ]
  },
  {
   "cell_type": "code",
   "execution_count": null,
   "metadata": {},
   "outputs": [],
   "source": []
  },
  {
   "cell_type": "markdown",
   "metadata": {},
   "source": [
    "**5.) Did anybody bring `'matches'`?**"
   ]
  },
  {
   "cell_type": "code",
   "execution_count": null,
   "metadata": {},
   "outputs": [],
   "source": []
  },
  {
   "cell_type": "markdown",
   "metadata": {},
   "source": [
    "**6.) How many items did you bring beyond what your friend brought?**"
   ]
  },
  {
   "cell_type": "code",
   "execution_count": null,
   "metadata": {},
   "outputs": [],
   "source": []
  },
  {
   "cell_type": "markdown",
   "metadata": {
    "tags": []
   },
   "source": [
    "**7.) Did both of your bring at least `'sunscreen'` and a `'bottle'`?**"
   ]
  },
  {
   "cell_type": "code",
   "execution_count": null,
   "metadata": {},
   "outputs": [],
   "source": []
  },
  {
   "cell_type": "markdown",
   "metadata": {},
   "source": [
    "**8.) What is the share of items in the bag of your friend that you also brought with you?**"
   ]
  },
  {
   "cell_type": "code",
   "execution_count": null,
   "metadata": {},
   "outputs": [],
   "source": []
  },
  {
   "cell_type": "markdown",
   "metadata": {},
   "source": [
    "## Typehints"
   ]
  },
  {
   "cell_type": "markdown",
   "metadata": {},
   "source": [
    "As for primitive datatypes, you can specify that a variable should be a set by annotating it with the type `set`."
   ]
  },
  {
   "cell_type": "code",
   "execution_count": null,
   "metadata": {},
   "outputs": [],
   "source": [
    "my_set: set = {1, 2, 3}"
   ]
  },
  {
   "cell_type": "markdown",
   "metadata": {},
   "source": [
    "You can also go one step further and specify the type of content you expect the elements to have. As of [Python 3.9](https://www.python.org/dev/peps/pep-0585/), this is possible right out of the box like so:"
   ]
  },
  {
   "cell_type": "code",
   "execution_count": null,
   "metadata": {},
   "outputs": [],
   "source": [
    "my_set: set[int] = {1, 2, 3}"
   ]
  },
  {
   "cell_type": "markdown",
   "metadata": {},
   "source": [
    "# Tuples"
   ]
  },
  {
   "cell_type": "markdown",
   "metadata": {},
   "source": [
    "Similar to Python lists, tuples are another standard data type that allows you to store values in a sequence. They might be useful in situations where you might want to share the data with someone but not allow them to manipulate the data.\n",
    "\n",
    "Not only do they provide \"read-only\" access to the data values but they are also faster than lists. So, if you're defining a constant set of values and all you're going to do with it is iterate through it, use a tuple instead of a list. It will be faster than working with lists and also safer, as the tuples contain \"write-protect\" data.\n",
    "\n",
    "Unlike Python lists, tuples does not have methods such as `append()`, `remove()`, `extend()`, `insert()` and `pop()` due to their immutable nature. However, there are many other built-in methods to work with tuples:"
   ]
  },
  {
   "cell_type": "markdown",
   "metadata": {},
   "source": [
    "## Common Tuple Operations"
   ]
  },
  {
   "cell_type": "markdown",
   "metadata": {},
   "source": [
    "### Creating a Tuple"
   ]
  },
  {
   "cell_type": "markdown",
   "metadata": {},
   "source": [
    "Use `tuple()` to converts a data type to tuple. For example, in the code chunk below, you convert a Python list to a tuple."
   ]
  },
  {
   "cell_type": "code",
   "execution_count": null,
   "metadata": {},
   "outputs": [],
   "source": [
    "mylist=[2,4,6]"
   ]
  },
  {
   "cell_type": "code",
   "execution_count": null,
   "metadata": {},
   "outputs": [],
   "source": [
    "type(mylist)"
   ]
  },
  {
   "cell_type": "code",
   "execution_count": null,
   "metadata": {},
   "outputs": [],
   "source": [
    "mytuple_new=tuple(mylist)"
   ]
  },
  {
   "cell_type": "code",
   "execution_count": null,
   "metadata": {},
   "outputs": [],
   "source": [
    "type(mytuple_new)"
   ]
  },
  {
   "cell_type": "markdown",
   "metadata": {},
   "source": [
    "Slicing is the same concept as in Lists"
   ]
  },
  {
   "cell_type": "raw",
   "metadata": {},
   "source": [
    "Slicing is the same concept as in Lists"
   ]
  },
  {
   "cell_type": "code",
   "execution_count": null,
   "metadata": {},
   "outputs": [],
   "source": [
    "mytuple=(5,10,12,14,17,10)"
   ]
  },
  {
   "cell_type": "code",
   "execution_count": null,
   "metadata": {},
   "outputs": [],
   "source": [
    "mytuple[:]"
   ]
  },
  {
   "cell_type": "code",
   "execution_count": null,
   "metadata": {},
   "outputs": [],
   "source": [
    "mytuple[3:]"
   ]
  },
  {
   "cell_type": "code",
   "execution_count": null,
   "metadata": {},
   "outputs": [],
   "source": [
    "mytuple[2:4] #point need to be remembered"
   ]
  },
  {
   "cell_type": "code",
   "execution_count": null,
   "metadata": {},
   "outputs": [],
   "source": [
    "mytuple[:3] # the element at position 3 is not included"
   ]
  },
  {
   "cell_type": "code",
   "execution_count": null,
   "metadata": {},
   "outputs": [],
   "source": [
    "mytuple[-2]"
   ]
  },
  {
   "cell_type": "code",
   "execution_count": null,
   "metadata": {},
   "outputs": [],
   "source": [
    "type(mytuple)"
   ]
  },
  {
   "cell_type": "code",
   "execution_count": null,
   "metadata": {},
   "outputs": [],
   "source": [
    "mytuple.index(12)"
   ]
  },
  {
   "cell_type": "code",
   "execution_count": null,
   "metadata": {},
   "outputs": [],
   "source": [
    "mytuple.count(10)"
   ]
  },
  {
   "cell_type": "markdown",
   "metadata": {},
   "source": [
    "### Tuple Addition"
   ]
  },
  {
   "cell_type": "markdown",
   "metadata": {},
   "source": [
    "Tuples can be added/concatenated together"
   ]
  },
  {
   "cell_type": "code",
   "execution_count": null,
   "metadata": {},
   "outputs": [],
   "source": [
    "T1 = (10, 15, 20)"
   ]
  },
  {
   "cell_type": "code",
   "execution_count": null,
   "metadata": {},
   "outputs": [],
   "source": [
    "T2 = (5, 10, 25)"
   ]
  },
  {
   "cell_type": "code",
   "execution_count": null,
   "metadata": {},
   "outputs": [],
   "source": [
    "T3 = T1 + T2\n",
    "print(T3)"
   ]
  },
  {
   "cell_type": "markdown",
   "metadata": {},
   "source": [
    "### Tuple Multiplication"
   ]
  },
  {
   "cell_type": "markdown",
   "metadata": {},
   "source": [
    "Tuples can be multiplied with an integer. Just as with strings or lists, this will cause the elements of the tuple to be repeated multiple times in the resulting tuple."
   ]
  },
  {
   "cell_type": "code",
   "execution_count": null,
   "metadata": {},
   "outputs": [],
   "source": [
    "T1 * 2"
   ]
  },
  {
   "cell_type": "code",
   "execution_count": null,
   "metadata": {},
   "outputs": [],
   "source": [
    "T1 * 4"
   ]
  },
  {
   "cell_type": "markdown",
   "metadata": {},
   "source": [
    "### Tuple Functions"
   ]
  },
  {
   "cell_type": "markdown",
   "metadata": {},
   "source": [
    "#### `count()` and `len()`:\n",
    "* count() returns the occurance of an element in a Tuple\n",
    "* len() returns the length of the tuple (same as Set, Dict, List, or String)"
   ]
  },
  {
   "cell_type": "code",
   "execution_count": null,
   "metadata": {},
   "outputs": [],
   "source": [
    "my_tuple = (1, 1, 3, 4, 5)\n",
    "print(f'the tuple has {len(my_tuple)} elements. The value 1 occurs {my_tuple.count(1)} times.')"
   ]
  },
  {
   "cell_type": "markdown",
   "metadata": {},
   "source": [
    "#### `min()` and `max()`:\n",
    "(Again as with lists), `max()` returns the largest element in the tuple. Use `min()` to return the smallest element of the tuple. "
   ]
  },
  {
   "cell_type": "code",
   "execution_count": null,
   "metadata": {},
   "outputs": [],
   "source": [
    "min(mytuple_new)"
   ]
  },
  {
   "cell_type": "code",
   "execution_count": null,
   "metadata": {},
   "outputs": [],
   "source": [
    "max(mytuple_new)"
   ]
  },
  {
   "cell_type": "markdown",
   "metadata": {},
   "source": [
    "#### `sum()`:\n",
    "(Again as with lists), `sum()` returns the sum of the items in a tuple. This can only be used with numerical values."
   ]
  },
  {
   "cell_type": "code",
   "execution_count": null,
   "metadata": {},
   "outputs": [],
   "source": [
    "sum(mytuple_new)"
   ]
  },
  {
   "cell_type": "markdown",
   "metadata": {},
   "source": [
    "#### `sorted()`:\n",
    "To return a tuple with the elements in an sorted order.\n",
    "\n",
    "**Note**: The return value is a `list`!"
   ]
  },
  {
   "cell_type": "code",
   "execution_count": null,
   "metadata": {},
   "outputs": [],
   "source": [
    "T5 = (5, 2, 3, 7, 1)"
   ]
  },
  {
   "cell_type": "code",
   "execution_count": null,
   "metadata": {},
   "outputs": [],
   "source": [
    "sorted(T5)"
   ]
  },
  {
   "cell_type": "markdown",
   "metadata": {},
   "source": [
    "## Excercise"
   ]
  },
  {
   "cell_type": "markdown",
   "metadata": {},
   "source": [
    "You are given the following tuple."
   ]
  },
  {
   "cell_type": "code",
   "execution_count": null,
   "metadata": {},
   "outputs": [],
   "source": [
    "mytuple = ('red', 'green', 'yellow', '6', '36', '46', '6')"
   ]
  },
  {
   "cell_type": "markdown",
   "metadata": {},
   "source": [
    "**1.) Use slicing to print third and fourth element from the following tuple**"
   ]
  },
  {
   "cell_type": "code",
   "execution_count": null,
   "metadata": {},
   "outputs": [],
   "source": []
  },
  {
   "cell_type": "markdown",
   "metadata": {},
   "source": [
    "**2.) Check how many times the element `'6'` occurs in the tuple**"
   ]
  },
  {
   "cell_type": "code",
   "execution_count": null,
   "metadata": {},
   "outputs": [],
   "source": []
  }
 ],
 "metadata": {
  "kernelspec": {
   "display_name": "Python 3 (ipykernel)",
   "language": "python",
   "name": "python3"
  },
  "language_info": {
   "codemirror_mode": {
    "name": "ipython",
    "version": 3
   },
   "file_extension": ".py",
   "mimetype": "text/x-python",
   "name": "python",
   "nbconvert_exporter": "python",
   "pygments_lexer": "ipython3",
   "version": "3.9.6"
  }
 },
 "nbformat": 4,
 "nbformat_minor": 4
}
