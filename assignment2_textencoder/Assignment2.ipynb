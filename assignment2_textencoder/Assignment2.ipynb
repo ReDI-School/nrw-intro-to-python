{
 "cells": [
  {
   "cell_type": "markdown",
   "id": "6316d1fe-c15f-43a3-90a2-a2d1b723c271",
   "metadata": {},
   "source": [
    "# Coding Challenge 2: Text Encoding\n",
    "In this coding challenge, you will write code that can encode and decode text to \"translate\" strings e.g. to morse code or to accomplish a (certainly very simple and not secure) \"encryption\" of a text you want to send to your friends.\n",
    "\n",
    "This challenge will revisit some of the topics discussed in the previous classes, among them:\n",
    "* Dealing with strings, dictionaries and lists\n",
    "* writing functions\n",
    "* Working with Exceptions\n",
    "* Object Oriented Programming (OOP)\n",
    "* and testing\n",
    "\n",
    "Since you have matured as a programmer, we will mostly program outside of this notebook, using it only for reference. You will also add test cases as you progress to make sure your work is correct.\n",
    "\n",
    "You will not be writing the code from scratch but you will be using, extending, and subclassing a base class that also defines the main interface your code should provide to the user.\n",
    "\n",
    "In the `baseencoder.py` module you will find the `BaseEncoder` class. It provides two main methods:\n",
    "* `encode` accepts a string in plain language and returns the encoded text.\n",
    "* `decode` should reverse the process.\n",
    "\n",
    "The `BaseEncoder` class is not particularly useful as of now, but we will be working to extend it. See it in action first!"
   ]
  },
  {
   "cell_type": "code",
   "execution_count": null,
   "id": "1a7a6184-da92-4ec4-bad6-2ebb022d27f3",
   "metadata": {},
   "outputs": [],
   "source": [
    "from baseencoder import BaseEncoder"
   ]
  },
  {
   "cell_type": "code",
   "execution_count": null,
   "id": "bc0467f1-6e91-4b5f-b19f-156bfd479c78",
   "metadata": {},
   "outputs": [],
   "source": [
    "c = BaseEncoder()\n",
    "encoded_string = c.encode('HALLO')\n",
    "print(encoded_string)"
   ]
  },
  {
   "cell_type": "code",
   "execution_count": null,
   "id": "a9eeb6c7-315e-4a35-af2b-2c034e231079",
   "metadata": {},
   "outputs": [],
   "source": [
    "print(c.decode(encoded_string))"
   ]
  },
  {
   "cell_type": "markdown",
   "id": "f83d59b6-85e0-4cbd-9c00-1af3b190002a",
   "metadata": {},
   "source": [
    "Not only is the encoded string equal to the input string (which is a valid encoding, just not a particulary fancy one), but you may also face some unexpected problems:"
   ]
  },
  {
   "cell_type": "code",
   "execution_count": null,
   "id": "9104bec6-6beb-4ee8-aeec-fc85876c8024",
   "metadata": {},
   "outputs": [],
   "source": [
    "c.encode('Test')"
   ]
  },
  {
   "cell_type": "markdown",
   "id": "d4b96f9b-ea0e-4407-b658-3a6bf877a748",
   "metadata": {},
   "source": [
    "Take a few minutes to understand the inner working of `BaseEncoder`, then tackle:\n",
    "\n",
    "### Task 1: Expand the code\n",
    "<div class=\"alert alert-block alert-info\">\n",
    "<b>Difficulty Level:</b> medium.<br> \n",
    "<b>Required Skills:</b> Code understanding, lists, working with libraries (here: <a href=\"https://docs.python.org/3/library/string.html\" target=\"_blank\"><code>string</code></a> library)<br> \n",
    "</div>\n",
    "\n",
    "Expand the set of characters supported in encoding and decoding to include also:\n",
    "* The set of lowercase characters\n",
    "* digits\n",
    "\n",
    "(hint: the <a href=\"https://docs.python.org/3/library/string.html\" target=\"_blank\"><code>string</code></a> library (part of Python's standard library) can keep you from writing those lists yourself)\n",
    "\n"
   ]
  },
  {
   "cell_type": "markdown",
   "id": "2beefe05-f642-42e7-bd3e-18156b1bed4a",
   "metadata": {},
   "source": [
    "### Task 2: Add a test to check your work\n",
    "<div class=\"alert alert-block alert-info\">\n",
    "<b>Difficulty Level:</b> Easy.<br> \n",
    "<b>Required Skills:</b> Testing<br> \n",
    "</div>\n",
    "\n",
    "Check the test cases in `test_baseencoder.py` and add a testcase that checks your work. Run the test suite to make sure your code changes worked as expected."
   ]
  },
  {
   "cell_type": "markdown",
   "id": "d6853884-6e43-4f83-bfc2-2ef74abfdb9e",
   "metadata": {},
   "source": [
    "### Task 3: Exception\n",
    "<div class=\"alert alert-block alert-info\">\n",
    "<b>Difficulty Level:</b> difficult.<br> \n",
    "<b>Required Skills:</b> Exception Handling, subclassing, Testing<br> \n",
    "</div>\n",
    "\n",
    "There are still symbols (e.g. punctuation symbols) that are not supported by our encoder. While it would be easy to fix this (see Task 1), we want to use this deficit to add and test another feature. Currently, a `KeyError` will be raised if an unknown symbol is detected during encoding or decoding. This Error is problematic because:\n",
    "* It is not informative to the user (what should (s)he do differently?)\n",
    "* It is related to the internal implementation of the encoding process. Would we switch to an approach other than dictionaries, we might get a different error.\n",
    "\n",
    "To fix both problems, your task is\n",
    "* to define a new exception called `UnknownSymbolError` that should be raised instead of the `KeyError`.\n",
    "* Make sure you intercept the `KeyError` and raise your custom exception (with a more helpful error message) instead.\n",
    "* Add a test case that checks that the correct type of error is raised (hint: check the [`assertRaises`](https://docs.python.org/3/library/unittest.html#unittest.TestCase.assertRaises) function within the unittest module)"
   ]
  },
  {
   "cell_type": "markdown",
   "id": "54f81f7b-421b-4ab5-b0ca-517e3643c5ac",
   "metadata": {},
   "source": [
    "### Task 4: Morse Code Encoder\n",
    "\n",
    "[Morse Code](https://en.wikipedia.org/wiki/Morse_code) encodes every character (no differentiation is made between upper- and lowercase, so we will support only uppercase characters) to sequences of short (`.`) and long signals (`-`). It was widely used in early forms of telecommunication and paved the way to any form of electronic information transmission known today. Letter are separated by a short break (` `), with a longer break (an additional space) separating two words.\n",
    "\n",
    "Your task is to write an encoder/decoder for morse code building upon the `BaseEncoder` class.\n",
    "\n",
    "#### Task 4a: Encoding/Decoding a single word.\n",
    "<div class=\"alert alert-block alert-info\">\n",
    "<b>Difficulty Level:</b> difficult.<br> \n",
    "<b>Required Skills:</b> Writing own module, subclassing, string manipulation, Testing<br> \n",
    "</div>\n",
    "\n",
    "* Check the `morseencoder.py` module. There you will already find a dictionary implementing the standard morse alphabet.\n",
    "* In this module\n",
    "  * Import `BaseEncoder`\n",
    "  * Create a new class `MorseEncoder` that inherits from `BaseEncoder` and uses\n",
    "  * Think about an efficient way to add the spaces between letters when encoding/removing spaces between letters when decoding\n",
    "  * Create a new module `test_morseencoder.py` that mirrors `test_baseencoder.py`\n",
    "  * Add a test that your class can successfully encode/decode the famous \"SOS\" as `... --- ... `\n",
    "  \n",
    "#### Task 4b: Encoding/Decoding multiple words\n",
    "<div class=\"alert alert-block alert-info\">\n",
    "<b>Difficulty Level:</b> medium.<br> \n",
    "<b>Required Skills:</b> Writing own module, subclassing, string manipulation, Testing<br> \n",
    "</div>\n",
    "\n",
    "* Extend the functionality of your `MorseEncoder` class to encode multiple words (separated by spaces).\n",
    "* In Morse code, a word break should be designated by two spaces\n",
    "* Ensure (by adding appropriate tests) that your `MorseEncoder` also decode multiple words!\n"
   ]
  },
  {
   "cell_type": "markdown",
   "id": "78e5456e-beb0-47a2-9f39-6b4608157ced",
   "metadata": {},
   "source": [
    "### Task 5: Cesar Cipher\n",
    "<div class=\"alert alert-block alert-info\">\n",
    "<b>Difficulty Level:</b> medium.<br> \n",
    "<b>Required Skills:</b> subclassing, list and dict manipulation, Testing<br> \n",
    "</div>\n",
    "\n",
    "[Cesar Cipher](https://en.wikipedia.org/wiki/Caesar_cipher) is a simple, old, and hugely insecure encryption method used by the famous Roman emperor to protect his communication. The roman Emperor whose name it bears used it to protect private communication. The process is very simple: Every letter of the alphabet (we will only consider capital letters), is replaced by the character $n$ positions further in the alphabet (starting from the beginning if necessary). Spaces are mapped to spaces.\n",
    "\n",
    "* Subclass `BaseEncoder` to create a new class `ShiftNEncoder`\n",
    "* This class should accept an integer parameter `n` in its constructor that specifies the shift\n",
    "* Write tests that check the behavior with different shifts."
   ]
  },
  {
   "cell_type": "code",
   "execution_count": null,
   "id": "0c7ad5eb-dc32-4ed2-9c56-777303dfb343",
   "metadata": {},
   "outputs": [],
   "source": []
  }
 ],
 "metadata": {
  "kernelspec": {
   "display_name": "Python 3 (ipykernel)",
   "language": "python",
   "name": "python3"
  },
  "language_info": {
   "codemirror_mode": {
    "name": "ipython",
    "version": 3
   },
   "file_extension": ".py",
   "mimetype": "text/x-python",
   "name": "python",
   "nbconvert_exporter": "python",
   "pygments_lexer": "ipython3",
   "version": "3.9.6"
  }
 },
 "nbformat": 4,
 "nbformat_minor": 5
}
