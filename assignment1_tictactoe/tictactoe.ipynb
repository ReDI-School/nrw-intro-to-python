{
 "cells": [
  {
   "cell_type": "markdown",
   "id": "8b702828-ba3f-41b6-b6d3-016b2e2f7e11",
   "metadata": {},
   "source": [
    "# Coding Challenge 1: Tic Tac Toe\n",
    "> This challenge is inspired by https://pythonprinciples.com/challenges/Tic-tac-toe-input/\n",
    "\n",
    "## Prerequisites\n",
    "To succeed in this challenge, you will need understanding of\n",
    "* dealing with different types in Python (string, integer, lists, dictionaries)\n",
    "* control structures in Python (for loops, while loops, if/else statements)\n",
    "* How to write and use functions in Python"
   ]
  },
  {
   "cell_type": "markdown",
   "id": "533afa95-6947-465e-9cb9-478c066ad3bc",
   "metadata": {},
   "source": [
    "## Goal\n",
    "Our goal is to enable two players to play [Tic Tac Toe](https://de.wikipedia.org/wiki/Tic-Tac-Toe).\n",
    "Our program should be able to\n",
    "* keep track whose turn it is\n",
    "* create an initial empty board\n",
    "* print out any tic tac toe board\n",
    "* accept input from the user as to where they want to place their piece (using \"chess-like\" notation like $\\text{a1}$ or $\\text{b3}$)\n",
    "* update the board based on user input"
   ]
  },
  {
   "cell_type": "markdown",
   "id": "49a97615-1335-4da4-80e7-8bf77dd97a15",
   "metadata": {},
   "source": [
    "## Approach\n",
    "*Wow!* Quite a goal! In programming, you will often find yourself facing a task that seems very complex and sprawling at the beginning. To avoid getting lost and to deliver high quality code, it is critical to [decompose](https://en.wikipedia.org/wiki/Decomposition_(computer_science)) the problem to identify smaller pieces that can be tackled one-by-one.\n",
    "\n",
    "So which individual requirements do we see?\n",
    "\n",
    "* We need to be able to store the state of a board (i.e. which pieces by which player are already on the board)\n",
    "* We need to be able to show this state to the user, so he/she can make a decision on the next move\n",
    "* We need to repeatedly ask the players for input, keeping track of which player's turn it is\n",
    "* We need to be able to understand \"chess-like\" notation.\n",
    "* We need to be able to \"put a new piece on the board\" (i.e. update the board according to the player's input)\n",
    "\n",
    "We will address these issues sequentially. As you will see, most of these components can be written in few lines of code. And with all components in place, putting together the actual game will also be relatively straightforward.\n",
    "\n",
    "Also, you do not have to implement everything before you can start playing. We have implemented all necessary bits and pieces in the background, so you can try out the entire game and then start implementing things yourself, one function at a time.\n",
    "\n",
    "The following code cell is the key to this magic. We will cover the meaning behind it in later lectures."
   ]
  },
  {
   "cell_type": "code",
   "execution_count": null,
   "id": "67f6183c-b200-47ac-8626-38960ee6f8f9",
   "metadata": {},
   "outputs": [],
   "source": [
    "from solutions import *"
   ]
  },
  {
   "cell_type": "markdown",
   "id": "34bad213-0156-476c-a639-d675855fc763",
   "metadata": {
    "tags": []
   },
   "source": [
    "## Data Structure\n",
    "Internally, we will represent the board as a list of lists (a list of three sub-lists each containing three fields in one row). Every field can have one of three values:\n",
    "* `' '` (space) if no piece was placed on this field\n",
    "* `'X'` if Player 1 has put a piece on this field\n",
    "* `'O'` (the capital letter O) if Player 2 has put a piece on this field\n",
    "\n",
    "Below is an example of a board with some pieces already placed:\n",
    "\n",
    "```python\n",
    "board = [\n",
    "    [\"X\", \"O\", \"X\"],\n",
    "    [\" \", \" \", \" \"],\n",
    "    [\"O\", \" \", \" \"],\n",
    "]\n",
    "```\n",
    "\n",
    "This represents the following Board state:\n",
    "$$\n",
    "\\begin{array}{c|c|c}\n",
    "\\text{X} & \\text{O} & \\text{X}  \\\\\n",
    "\\hline\n",
    " &  &   \\\\\n",
    "\\hline\n",
    "\\text{O} &  &  \\\\\n",
    "\\end{array}\n",
    "$$"
   ]
  },
  {
   "cell_type": "markdown",
   "id": "b03a7e16-1a7d-4d7e-b701-d2d4748f8fd2",
   "metadata": {
    "tags": []
   },
   "source": [
    "### Task 1: Create an empty board\n",
    "<div class=\"alert alert-block alert-info\">\n",
    "<b>Difficulty Level:</b> Easy.<br> \n",
    "<b>Required Skills:</b> Lists<br> \n",
    "</div>\n",
    "\n",
    "Write a function `create_new_board` that creates and returns and empty board.\n",
    "* The function should accept no parameters at all and\n",
    "* return the board as a list of lists (see above, but with all fields in their initial state)"
   ]
  },
  {
   "cell_type": "code",
   "execution_count": null,
   "id": "be90b401-b332-4d4d-b0a2-8113858971d9",
   "metadata": {},
   "outputs": [],
   "source": [
    "# write your solution here"
   ]
  },
  {
   "cell_type": "markdown",
   "id": "fadc0112-bb59-4ce3-a02b-40889166554d",
   "metadata": {},
   "source": [
    "Once you are done, the following cell should run without errors and return a list of lists that represents an empty board."
   ]
  },
  {
   "cell_type": "code",
   "execution_count": null,
   "id": "7c5578b7-e529-4d79-9e13-5dec8e96e177",
   "metadata": {},
   "outputs": [],
   "source": [
    "board = create_new_board()\n",
    "print('My board is ', board)"
   ]
  },
  {
   "cell_type": "markdown",
   "id": "eeb515f4-e8ed-4f40-a688-59d6d7983079",
   "metadata": {},
   "source": [
    "To be on the safe side, you can also run the following cell which should print `Test PASSED`."
   ]
  },
  {
   "cell_type": "code",
   "execution_count": null,
   "id": "b2a35a21-6e3c-4325-b4e3-8fda3b61aa9b",
   "metadata": {},
   "outputs": [],
   "source": [
    "board = create_new_board()\n",
    "if board is None:\n",
    "    print('Function did not return any value. Test FAILED')\n",
    "elif not isinstance(board, list):\n",
    "    print('Board is not a list. Test FAILED')\n",
    "elif len(board) != 3:\n",
    "    print('Board does not have three rows. Test FAILED')\n",
    "elif not all(map(lambda e: isinstance(e, list), board)):\n",
    "    print('At least one row is not a list. Test FAILED')\n",
    "elif not all(map(lambda e: len(e) == 3, board)):\n",
    "    print('At least one row of the board does not have three columns. Test FAILED')\n",
    "elif not all(map(lambda row: row[0] == row[1] == row[2] == ' ', board)):\n",
    "    print('At least one cell was not in the correct initial state. Test FAILED')\n",
    "elif len(set([id(row) for row in board])) < 3:\n",
    "    print('Multiple rows are actually the same python list instance. Test FAILED')\n",
    "else:\n",
    "    print('Test PASSED')"
   ]
  },
  {
   "cell_type": "markdown",
   "id": "b6f93c1c-0c26-4dfb-bee6-38ba9195fc85",
   "metadata": {
    "tags": []
   },
   "source": [
    "### Task 2: Visualize the board\n",
    "<div class=\"alert alert-block alert-info\">\n",
    "<b>Difficulty Level:</b> Easy - Medium.<br> \n",
    "<b>Required Skills:</b> Print statements, string interpolation or concatenation, handling of nested data structures.<br> \n",
    "</div>\n",
    "\n",
    "Write a function `print_board` that accepts a `board` (a list of lists) and prints it. Don't try to be too fance in the first iteration. Just make sure that columns and rows come out in the right order and that your printout gives a good impression of the state of the board."
   ]
  },
  {
   "cell_type": "code",
   "execution_count": null,
   "id": "d03d4ab4-f695-4f12-9e19-cfa8d59e096a",
   "metadata": {},
   "outputs": [],
   "source": [
    "# write your solution here"
   ]
  },
  {
   "cell_type": "markdown",
   "id": "7b0629c3-f410-4c49-938b-e006393f2ddd",
   "metadata": {},
   "source": [
    "Once you are done, the following code cell should run without errors and print the boards as expected:"
   ]
  },
  {
   "cell_type": "code",
   "execution_count": null,
   "id": "a56a5af8-fb10-479d-8919-96b1649832e5",
   "metadata": {},
   "outputs": [],
   "source": [
    "# Print an empty board\n",
    "print('new Board')\n",
    "print_board([\n",
    "    [' ', ' ', ' '],\n",
    "    [' ', ' ', ' '],\n",
    "    [' ', ' ', ' ']\n",
    "])\n",
    "\n",
    "print('')\n",
    "print('Partially filled board')\n",
    "# Print a partially filled board\n",
    "print_board([\n",
    "    [\"X\", \"O\", \"X\"],\n",
    "    [\" \", \" \", \" \"],\n",
    "    [\"O\", \" \", \" \"],\n",
    "])"
   ]
  },
  {
   "cell_type": "markdown",
   "id": "21891cb9-dceb-4a11-915b-d4f3add777df",
   "metadata": {
    "tags": []
   },
   "source": [
    "## Handling User Input\n",
    "User input will change the board by adding a new piece on the board. Consider the following example, where Player 1 makes a move to put a stone on field $\\text{a2}$:\n",
    "$$\n",
    "\\begin{array}{c|c|c}\n",
    "\\text{X} & \\text{O} & \\text{X}  \\\\\n",
    "\\hline\n",
    " & \\text{O} & \\text{O}  \\\\\n",
    "\\hline\n",
    "\\text{X} &  &  \\\\\n",
    "\\end{array}\n",
    "\\underbrace{\\rightarrow}_{\\text{Player 1 puts stone on a2}}\n",
    "\\begin{array}{c|c|c}\n",
    "\\text{X} & \\text{O} & \\text{X}  \\\\\n",
    "\\hline\n",
    "\\text{X} & \\text{O} & \\text{O}  \\\\\n",
    "\\hline\n",
    "\\text{X} &  &  \\\\\n",
    "\\end{array}\n",
    "$$\n",
    "\n",
    "Users will enter the field in which they want to place they piece in \"chess-like\" notation. I.e. $\\text{a1}$ or $\\text{b3}$.\n",
    "Below picture shows how the individual cells should be addressed.\n",
    "\n",
    "$$\n",
    "\\begin{array}{c|c|c}\n",
    "\\text{a3} & \\text{b3} & \\text{c3}  \\\\\n",
    "\\hline\n",
    "\\text{a2} & \\text{b2} & \\text{c2}  \\\\\n",
    "\\hline\n",
    "\\text{a1} & \\text{b1} & \\text{c1}  \\\\\n",
    "\\end{array}\n",
    "$$\n",
    "\n",
    "Note that this is substantially different two how you would be able to address the individual cells in the data structure (we assume that the variable `board` points to our list of lists).\n",
    "\n",
    "$$\n",
    "\\begin{array}{c|c|c}\n",
    "\\text{board[0][0]} & \\text{board[0][1]} & \\text{board[0][2]}  \\\\\n",
    "\\hline\n",
    "\\text{board[1][0]} & \\text{board[1][1]} & \\text{board[1][2]}  \\\\\n",
    "\\hline\n",
    "\\text{board[2][0]} & \\text{board[2][1]} & \\text{board[2][2]}  \\\\\n",
    "\\end{array}\n",
    "$$\n",
    "\n",
    "### Task 3: Converting user input\n",
    "<div class=\"alert alert-block alert-info\">\n",
    "<b>Difficulty Level:</b> Difficult.<br> \n",
    "<b>Required Skills:</b> String slicing, type conversion, dictionaries, tuples<br> \n",
    "</div>\n",
    "\n",
    "Write a function `convert_user_input` that\n",
    "* takes a parameter a cell address in \"chess notation\"\n",
    "* and returns a tuple of values\n",
    "  * first item is the row index\n",
    "  * second item is the column index"
   ]
  },
  {
   "cell_type": "code",
   "execution_count": null,
   "id": "64761c9f-da0f-41fb-b834-e884ec4ec153",
   "metadata": {},
   "outputs": [],
   "source": [
    "# write your solution here"
   ]
  },
  {
   "cell_type": "markdown",
   "id": "793c94b2-6203-402b-b805-ca0f9ec417f4",
   "metadata": {},
   "source": [
    "Once you are done, the following code cell should run without errors and tests should read `PASSED`."
   ]
  },
  {
   "cell_type": "code",
   "execution_count": null,
   "id": "388eb148-3aeb-40cc-8a38-dba580a4962d",
   "metadata": {},
   "outputs": [],
   "source": [
    "for chess_notation, expected_result in [('a1', (2, 0)), ('b3', (0, 1)), ('c2', (1, 2))]:\n",
    "    print(\n",
    "        f'{chess_notation} should be converted to {expected_result}. '\n",
    "        f'Actual result was {convert_user_input(chess_notation)}: '\n",
    "        f'Test {\"PASSED\" if convert_user_input(chess_notation) == expected_result else \"FAILED\"}'\n",
    "    )"
   ]
  },
  {
   "cell_type": "markdown",
   "id": "132506ec-6ae5-472e-8126-3f5a0cd88f44",
   "metadata": {},
   "source": [
    "## Updating the Board\n",
    "When a player makes a move, the board changes:\n",
    "* At the position the player has specified, a piece belonging to the current player is placed\n",
    "\n",
    "### Task 4: Updating the board\n",
    "<div class=\"alert alert-block alert-info\">\n",
    "<b>Difficulty Level:</b> Medium.<br> \n",
    "<b>Required Skills:</b> Functions, if/else, updating list structures<br> \n",
    "</div>\n",
    "\n",
    "Write a function `update_board` that takes three parameters:\n",
    "* The current board state (i.e. a list of lists)\n",
    "* The *index* of the current player (`0` for player 1, `1` for player 2)\n",
    "* The intended position in tuple notation (i.e. `(0, 1)` for field $\\text{b3}$)\n",
    "\n",
    "The function should return the updated board."
   ]
  },
  {
   "cell_type": "code",
   "execution_count": null,
   "id": "68e5a3c8-7677-4fe2-818f-2cc680ccc63b",
   "metadata": {},
   "outputs": [],
   "source": [
    "# write your solution here    "
   ]
  },
  {
   "cell_type": "markdown",
   "id": "1db89fc6-9705-4dc7-91bc-d0505342aa90",
   "metadata": {},
   "source": [
    "Once you are done, the following code cell should run without errors and tests should read `PASSED`."
   ]
  },
  {
   "cell_type": "code",
   "execution_count": null,
   "id": "ece3fbc2-3bd0-4a88-b792-a91b45dcdcde",
   "metadata": {},
   "outputs": [],
   "source": [
    "from copy import deepcopy\n",
    "for initial_board, active_player, move, expected_result in [\n",
    "    [\n",
    "        [[' ', ' ', ' '], [' ', ' ', ' '], [' ', ' ', ' ']],  # initial board\n",
    "        0,  # player to make move\n",
    "        (0, 0),  # move by player\n",
    "        [['X', ' ', ' '], [' ', ' ', ' '], [' ', ' ', ' ']],  # expected board after move\n",
    "    ],\n",
    "    [\n",
    "        [[' ', ' ', ' '], [' ', ' ', ' '], [' ', ' ', ' ']],\n",
    "        1,\n",
    "        (0, 0),\n",
    "        [['O', ' ', ' '], [' ', ' ', ' '], [' ', ' ', ' ']],\n",
    "    ],\n",
    "    [\n",
    "        [['O', ' ', ' '], [' ', ' ', ' '], [' ', ' ', ' ']],\n",
    "        0,\n",
    "        (1, 1),\n",
    "        [['O', ' ', ' '], [' ', 'X', ' '], [' ', ' ', ' ']],\n",
    "    ]\n",
    "]:\n",
    "    copy_of_initial_board = deepcopy(initial_board)  # make a deepcopy, so we can compare with result\n",
    "    actual_result = update_board(initial_board, active_player, move)\n",
    "    print(\n",
    "        f'Player {active_player + 1} seeing board {copy_of_initial_board} places a stone on {move}.\\n'\n",
    "        f'Result should be {expected_result}. '\n",
    "        f'Actual result was {actual_result}.\\n'\n",
    "        f'Test {\"PASSED\" if actual_result == expected_result else \"FAILED\"}'\n",
    "    )"
   ]
  },
  {
   "cell_type": "markdown",
   "id": "57f4a6f3-2be4-40e8-a918-71ec98eebfca",
   "metadata": {},
   "source": [
    "## Flow of the Game\n",
    "We now have all the pieces together. Now we need to write code that turns all of this into an interactive game. Your code should:\n",
    "1. Create a new board\n",
    "2. Make Player 1 the active player\n",
    "3. In every round, the code should:\n",
    "> 1. Print the current board\n",
    "> 2. Ask the current player for his/her decision in chess notation\n",
    "> 3. Convert the decision into a tuple\n",
    "> 4. Update the board\n",
    "> 5. Change the active player\n",
    "> 6. Repeat (start next round)\n",
    "\n",
    "The game should stop, as soon as one of the players enters `stop` instead of a field.\n",
    "\n",
    "### Task 5: Code the flow of the game\n",
    "<div class=\"alert alert-block alert-info\">\n",
    "<b>Difficulty Level:</b> Difficult.<br> \n",
    "<b>Required Skills:</b> Loops (incl. break statement), if/else, input handling, \"putting things together\"<br> \n",
    "</div>\n",
    "\n",
    "Write a piece of code that implements the logic above."
   ]
  },
  {
   "cell_type": "code",
   "execution_count": null,
   "id": "6a544707-179c-4d8c-ad1a-0d45608f4977",
   "metadata": {},
   "outputs": [],
   "source": [
    "# write your solution here    "
   ]
  },
  {
   "cell_type": "markdown",
   "id": "9a40a787-2dd8-4d54-b08b-f18adcc5ce7f",
   "metadata": {},
   "source": [
    "Alternatively, you can run the cell below to use a predefined game logic. The game will still make use of any piece of code you have written above."
   ]
  },
  {
   "cell_type": "code",
   "execution_count": null,
   "id": "fe289e1b-8f7b-4ca8-8b38-d090618c7281",
   "metadata": {},
   "outputs": [],
   "source": [
    "exec(open('solutions/game.py').read())"
   ]
  },
  {
   "cell_type": "markdown",
   "id": "d832a29b-8bf5-4e9d-8d52-0045101ec6e7",
   "metadata": {},
   "source": [
    "## Extensions\n",
    "<div class=\"alert alert-block alert-success\">\n",
    "    First of all: <b>Congratulations!</b> You created a first complex program and have used many of the techniques discussed in the past sessions.\n",
    "</div>\n",
    "\n",
    "\n",
    "As with any piece of software, you can always improve it. Here are a few ideas (roughly in order of increasing difficulty):\n",
    "* Reject inputs when the field the user requested is not empty\n",
    "* Allow both users to pick their own \"piece\" (single character string) to be used instead of `X` and `O`.\n",
    "* Allow the user to decide which player goes first (instead of always starting with player 1)\n",
    "* Change the internal representation of a Tic Tac Toe Board from \"list of lists\" to \"dictionary of dictionaries\".\n",
    "* Allow quadratic boards up to size $10 x 10$ (size to be specified by the user). Note, that now user inputs like $\\text{h7}$ are valid and should be handled correctly.\n",
    "* Implement a function that checks if (and if so: which) player has won the game by putting three own pieces in a row/colum/diagonal.\n",
    "* Once you have heard the lectures on \"Object-Oriented Programming\", think about how you would implement Tic Tac Toe as a `class`."
   ]
  }
 ],
 "metadata": {
  "kernelspec": {
   "display_name": "Python 3 (ipykernel)",
   "language": "python",
   "name": "python3"
  },
  "language_info": {
   "codemirror_mode": {
    "name": "ipython",
    "version": 3
   },
   "file_extension": ".py",
   "mimetype": "text/x-python",
   "name": "python",
   "nbconvert_exporter": "python",
   "pygments_lexer": "ipython3",
   "version": "3.9.6"
  }
 },
 "nbformat": 4,
 "nbformat_minor": 5
}
