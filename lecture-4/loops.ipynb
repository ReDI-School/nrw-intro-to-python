{
 "cells": [
  {
   "cell_type": "markdown",
   "metadata": {},
   "source": [
    "# Loops\n",
    "Loops are repetetive control flows in which the statements in their bodies are repeated. \n",
    "\n",
    "## While loops\n",
    "\n",
    "A while loops is a repetetive control flow in which a termination condition is checked before a body of statements is read and executed.\n",
    "\n",
    "    while condition:\n",
    "\n",
    "        statement 1 (first command)\n",
    "        ...\n",
    "        statement n (last command)\n",
    "\n",
    "    statement n+1 (first command outside of loop body)\n",
    "\n",
    "An iteration consists of sequential reading and execution of statements 1 through n in the loop body. After the execution of statement n, the interpreter jumps up to read and execute statement 1 again in the next iteration (loop) if the while condition is resatisfied, otherwise statement n+1 outside of the loop follows to be read and executed."
   ]
  },
  {
   "cell_type": "code",
   "execution_count": null,
   "metadata": {},
   "outputs": [],
   "source": [
    "# An infinite loop always has a satifisfied while condition\n",
    "\n",
    "while True:\n",
    "    print(\"hello infinite world\")"
   ]
  },
  {
   "cell_type": "code",
   "execution_count": 1,
   "metadata": {},
   "outputs": [],
   "source": [
    "# This is a trivial non-infinite loop\n",
    "\n",
    "while False:\n",
    "    print(\"hello never world\")"
   ]
  },
  {
   "cell_type": "code",
   "execution_count": 3,
   "metadata": {},
   "outputs": [
    {
     "name": "stdout",
     "output_type": "stream",
     "text": [
      "hello world\n",
      "1\n",
      "hello world\n",
      "2\n",
      "hello world\n",
      "3\n",
      "hello world\n",
      "4\n",
      "hello world\n",
      "5\n"
     ]
    }
   ],
   "source": [
    "# This is a non-infinite loop using termination condition \"((i<=5) == True)\"\n",
    "\n",
    "i = 1\n",
    "while ((i<=5) is True):\n",
    "    print(\"hello world\")\n",
    "    print(i)\n",
    "    i += 1\n",
    "    "
   ]
  },
  {
   "cell_type": "code",
   "execution_count": 6,
   "metadata": {},
   "outputs": [
    {
     "name": "stdout",
     "output_type": "stream",
     "text": [
      "True\n"
     ]
    }
   ],
   "source": [
    "print(-1<=5)"
   ]
  },
  {
   "cell_type": "code",
   "execution_count": 7,
   "metadata": {},
   "outputs": [
    {
     "name": "stdout",
     "output_type": "stream",
     "text": [
      "hello world 1\n",
      "hello world 2\n",
      "hello world 3\n",
      "hello world 4\n",
      "hello world 5\n",
      "stop saying hello to the world please 6\n"
     ]
    }
   ],
   "source": [
    "# Condition printed out before evaluation of while condition\n",
    "\n",
    "i = 1\n",
    "while ((i <= 5) is True):\n",
    "    print(\"hello world\", str(i))\n",
    "    i += 1\n",
    "print(\"stop saying hello to the world please\", str(i))"
   ]
  },
  {
   "cell_type": "code",
   "execution_count": 8,
   "metadata": {},
   "outputs": [
    {
     "name": "stdout",
     "output_type": "stream",
     "text": [
      "hello world A\n",
      "hello world B\n",
      "hello world C\n",
      "\n",
      "hello world A\n",
      "hello world B\n",
      "hello world C\n",
      "\n",
      "hello world A\n",
      "hello world B\n",
      "hello world C\n",
      "\n",
      "hello world A\n",
      "hello world B\n",
      "hello world C\n",
      "\n",
      "hello world A\n",
      "hello world B\n",
      "hello world C\n",
      "\n",
      "Are you done saying hello now?\n"
     ]
    }
   ],
   "source": [
    "# Let us add multiple statements in the loop body and see what we get as an output\n",
    "i = 1\n",
    "while ((i<=5) is True):\n",
    "    print(\"hello world A\")\n",
    "    print(\"hello world B\")\n",
    "    print(\"hello world C\\n\")\n",
    "    i += 1\n",
    "print(\"Are you done saying hello now?\")"
   ]
  },
  {
   "cell_type": "code",
   "execution_count": null,
   "metadata": {},
   "outputs": [],
   "source": [
    "# The equivalent non-loop code is a lot longer to code\n",
    "\n",
    "print(\"hello world A\")\n",
    "print(\"hello world B\")\n",
    "print(\"hello world C\\n\")\n",
    "\n",
    "print(\"hello world A\")\n",
    "print(\"hello world B\")\n",
    "print(\"hello world C\\n\")\n",
    "\n",
    "print(\"hello world A\")\n",
    "print(\"hello world B\")\n",
    "print(\"hello world C\\n\")\n",
    "\n",
    "print(\"hello world A\")\n",
    "print(\"hello world B\")\n",
    "print(\"hello world C\\n\")\n",
    "\n",
    "print(\"hello world A\")\n",
    "print(\"hello world B\")\n",
    "print(\"hello world C\\n\")\n",
    "\n",
    "print(\"Are you done saying hello now?\")"
   ]
  },
  {
   "cell_type": "code",
   "execution_count": 9,
   "metadata": {},
   "outputs": [
    {
     "name": "stdout",
     "output_type": "stream",
     "text": [
      "0\n",
      "5\n",
      "10\n",
      "15\n",
      "20\n",
      "25\n",
      "30\n",
      "35\n",
      "40\n",
      "45\n",
      "50\n"
     ]
    }
   ],
   "source": [
    "# What do we get for this output?\n",
    "\n",
    "i = 0\n",
    "while i <= 50:\n",
    "    print(str(i))\n",
    "    i = i + 5\n"
   ]
  },
  {
   "cell_type": "code",
   "execution_count": 11,
   "metadata": {},
   "outputs": [
    {
     "name": "stdout",
     "output_type": "stream",
     "text": [
      "printing i...\n",
      "10\n",
      "10\n",
      "10\n",
      "10\n",
      "10\n",
      "printing j...\n",
      "2\n",
      "1\n",
      "0\n",
      "-1\n",
      "-2\n"
     ]
    }
   ],
   "source": [
    "# What is the difference if we replace i with j?\n",
    "\n",
    "print(\"printing i...\")\n",
    "i = 10\n",
    "j = 2\n",
    "#           ((True) is False) \n",
    "#           (False)\n",
    "#            True\n",
    "while not ((j > -3) is False):\n",
    "    print(i) \n",
    "    j = j - 1\n",
    "\n",
    "print(\"printing j...\")    \n",
    "i = 10\n",
    "j = 2\n",
    "while not ((j > -3) is False):\n",
    "    print(j)\n",
    "    j = j - 1\n"
   ]
  },
  {
   "cell_type": "code",
   "execution_count": 12,
   "metadata": {},
   "outputs": [
    {
     "name": "stdout",
     "output_type": "stream",
     "text": [
      "1 byte\n",
      "2 bytes\n",
      "4 bytes\n",
      "8 bytes\n",
      "16 bytes\n",
      "32 bytes\n",
      "64 bytes\n",
      "128 bytes\n",
      "256 bytes\n",
      "512 bytes\n",
      "1024 bytes\n",
      "!!!\n",
      "2048 bytes, out of memory :(\n"
     ]
    }
   ],
   "source": [
    "# What do we get for this one? What is the if statement good for in this code snippet?\n",
    "\n",
    "i = 1\n",
    "while i <=2**10: # 1024\n",
    "    \n",
    "    if i == 1:\n",
    "        print(str(i) + \" byte\")\n",
    "    else:\n",
    "        print(str(i) + \" bytes\")\n",
    "    i *= 2\n",
    "   \n",
    "print(\"!!!\")\n",
    "print( str(i)+ \" bytes, out of memory :(\" )\n"
   ]
  },
  {
   "cell_type": "code",
   "execution_count": 15,
   "metadata": {},
   "outputs": [
    {
     "name": "stdout",
     "output_type": "stream",
     "text": [
      "0\n",
      "1\n",
      "2\n",
      "3\n",
      "4\n",
      "a\n",
      "6\n",
      "7\n",
      "8\n",
      "9\n",
      "10\n"
     ]
    }
   ],
   "source": [
    "# We can iterate over elements of a list:\n",
    "number_list = [0,1,2,3,4,\"a\",6,7,8,9,10]\n",
    "i = 0\n",
    "while i <= 10:\n",
    "    print(number_list[i])\n",
    "    i = i + 1\n",
    "# print(number_list[0])\n",
    "#...\n",
    "# print(number_list[9])"
   ]
  },
  {
   "cell_type": "code",
   "execution_count": null,
   "metadata": {},
   "outputs": [],
   "source": [
    "# Now let us try to implement the algorithm equivalent to the sum function using a while loop:\n",
    "\n",
    "number_list = [0,1,2,3,4,5,6,7,8,9,10]\n",
    "sum_ = 0 # initially we set the sum to zero\n",
    "counter = 0 # counter is supposed to go from 0 to the last entry of the number list\n",
    "\n",
    "while counter < len(number_list):\n",
    "    sum_ = sum_ + number_list[counter] # add value of current list index to the sum\n",
    "    counter = counter + 1\n",
    "    \n",
    "print(str(sum_) + \" is the sum for \" + str(number_list))\n",
    "print()\n",
    "print(\"using sum(number_list) we get same result\\n\")\n",
    "\n",
    "print(str(sum(number_list)) + \" is the sum for \" + str(number_list))"
   ]
  },
  {
   "cell_type": "markdown",
   "metadata": {},
   "source": [
    "## **Continue and Break** - Controlling loops\n",
    "\n",
    "**continue**\n",
    "\n",
    "The continue statement skips the rest of the code inside a loop for the current iteration.\n",
    "\n",
    "\n",
    "**break**\n",
    "\n",
    "The break statement immediately terminates the loop.\n",
    "The program continues immediately after the loop.\n"
   ]
  },
  {
   "cell_type": "code",
   "execution_count": 20,
   "metadata": {
    "scrolled": true
   },
   "outputs": [
    {
     "name": "stdout",
     "output_type": "stream",
     "text": [
      "0\n",
      "1\n",
      "2\n",
      "Not in the mood to count this number :(\n",
      "4\n",
      "5\n",
      "6\n",
      "7\n",
      "Not in the mood to count this number :(\n",
      "9\n",
      "10\n"
     ]
    }
   ],
   "source": [
    "# We can use the continue statement to skip iterations\n",
    "\n",
    "a_very_non_meaningful_name = 0 \n",
    "\n",
    "print(str(a_very_non_meaningful_name))\n",
    "while a_very_non_meaningful_name < 10:\n",
    "    \n",
    "    a_very_non_meaningful_name += 1\n",
    "    if a_very_non_meaningful_name == 3 or a_very_non_meaningful_name == 8:\n",
    "        print(\"Not in the mood to count this number :(\")\n",
    "        continue\n",
    "    print(str(a_very_non_meaningful_name))\n",
    "    "
   ]
  },
  {
   "cell_type": "code",
   "execution_count": 21,
   "metadata": {},
   "outputs": [
    {
     "name": "stdout",
     "output_type": "stream",
     "text": [
      "0\n",
      "1\n",
      "2\n",
      "3\n",
      "4\n",
      "5\n",
      "6\n",
      "7\n",
      "I do not like this number D:\n",
      "9\n",
      "10\n",
      "11\n",
      "12\n",
      "13\n",
      "14\n",
      "15\n",
      "16\n",
      "17\n",
      "18\n",
      "19\n",
      "20\n",
      "You want me to count over 20, c'mon give me a break!!!\n"
     ]
    }
   ],
   "source": [
    "# We can use the break statement instead of a termination condition to exit the body of the while loop\n",
    "\n",
    "a_very_non_meaningful_name = 0 \n",
    "print(str(a_very_non_meaningful_name))\n",
    "\n",
    "while True:\n",
    "    \n",
    "    a_very_non_meaningful_name += 1\n",
    "    \n",
    "    if a_very_non_meaningful_name == 8:\n",
    "        print(\"I do not like this number D:\")\n",
    "        continue\n",
    "    \n",
    "    if a_very_non_meaningful_name > 20:\n",
    "        print(\"You want me to count over 20, c'mon give me a break!!!\")\n",
    "        break\n",
    "    \n",
    "    print(str(a_very_non_meaningful_name))"
   ]
  },
  {
   "cell_type": "markdown",
   "metadata": {},
   "source": [
    "## For loops\n",
    "\n",
    "A for loop is a repetetive control flow iterating over items of an iterable object\n",
    "\n",
    "    for item in iterable:\n",
    "\n",
    "        statement 1 (first command)\n",
    "        ...\n",
    "        statement n (last command)\n",
    "\n",
    "    statement n+1 (first command outside of loop body)"
   ]
  },
  {
   "cell_type": "code",
   "execution_count": 22,
   "metadata": {},
   "outputs": [
    {
     "name": "stdout",
     "output_type": "stream",
     "text": [
      "0\n",
      "5\n",
      "10\n",
      "15\n",
      "20\n",
      "25\n",
      "30\n",
      "35\n",
      "40\n",
      "45\n",
      "50\n"
     ]
    }
   ],
   "source": [
    "# Let us repeat counting all the numbers from 0 to 50 in 5 steps\n",
    "# The code is shorter\n",
    "\n",
    "for counter in range(0,51,5):\n",
    "    print(counter)"
   ]
  },
  {
   "cell_type": "code",
   "execution_count": 35,
   "metadata": {},
   "outputs": [
    {
     "name": "stdout",
     "output_type": "stream",
     "text": [
      "apples\n",
      "bananas\n",
      "oranges\n",
      "milk\n",
      "butter\n",
      "oil\n",
      "1\n",
      "1\n",
      "1\n",
      "1\n",
      "1\n",
      "1\n"
     ]
    }
   ],
   "source": [
    "# Let us print out all the elements in our grocery list\n",
    "grocery_list = [\"apples\",\"bananas\",\"oranges\",\"milk\",\"butter\",\"oil\"]\n",
    "\n",
    "for item in grocery_list:\n",
    "    print(item)\n",
    "    "
   ]
  },
  {
   "cell_type": "code",
   "execution_count": 24,
   "metadata": {},
   "outputs": [
    {
     "name": "stdout",
     "output_type": "stream",
     "text": [
      "50\n",
      "45\n",
      "40\n",
      "35\n",
      "30\n",
      "25\n",
      "20\n",
      "15\n",
      "10\n",
      "5\n",
      "0\n"
     ]
    }
   ],
   "source": [
    "# We can also count backwards\n",
    "\n",
    "for counter in range(50,-1,-5):\n",
    "    print(counter)"
   ]
  },
  {
   "cell_type": "code",
   "execution_count": 25,
   "metadata": {},
   "outputs": [
    {
     "name": "stdout",
     "output_type": "stream",
     "text": [
      "[0, 1, 1, 2, 3, 5, 8, 13, 21, 34, 55]\n",
      "0\n",
      "1\n",
      "1\n",
      "2\n",
      "3\n",
      "5\n",
      "8\n",
      "13\n",
      "21\n",
      "34\n",
      "55\n"
     ]
    }
   ],
   "source": [
    "# Let us try a more intersting mathematical example and print out the first 10 Fibonacci numbers\n",
    "\n",
    "fibonacci_numbers = [0,1]\n",
    "\n",
    "# We generate the Fibbonacci sequence in a list\n",
    "for i in range(1,10):\n",
    "    fibonacci_numbers.append(fibonacci_numbers[i] + fibonacci_numbers[i-1])\n",
    "\n",
    "# We read them all out in the list:\n",
    "print(fibonacci_numbers)\n",
    "for number in fibonacci_numbers:\n",
    "    print(number)\n",
    "    "
   ]
  },
  {
   "cell_type": "code",
   "execution_count": null,
   "metadata": {},
   "outputs": [],
   "source": [
    "# For loops are better when you know in advance how long you will iterate e.g.\n",
    "# iterating through elements in an iterable or counter indices with a fix start, finish and step value\n",
    "\n",
    "# While loops are better when you do not know in advance how long you will need to iterate, \n",
    "# but have knowledge on the termination condition\n",
    "\n",
    "# Let us reformulate the previous task for a while loop and use numbers exceeding 100 \n",
    "# as a termination condition\n",
    "\n",
    "fibonacci_numbers = [0]\n",
    "\n",
    "# We generate the Fibbonacci sequence in a list\n",
    "i = 1\n",
    "number_below_100 = 1\n",
    "while number_below_100 <= 100:\n",
    "    fibonacci_numbers.append(number_below_100)\n",
    "    number_below_100 = fibonacci_numbers[i] + fibonacci_numbers[i-1]\n",
    "    i += 1\n",
    "\n",
    "# We read them all out in the list:\n",
    "print(fibonacci_numbers)\n",
    "print()\n",
    "for number in fibonacci_numbers:\n",
    "    print(number)"
   ]
  },
  {
   "cell_type": "code",
   "execution_count": 28,
   "metadata": {},
   "outputs": [
    {
     "name": "stdout",
     "output_type": "stream",
     "text": [
      "[0, 1, 4, 9, 16, 25, 36, 49, 64, 81, 100]\n"
     ]
    }
   ],
   "source": [
    "# We use the nice feature of list comprehention to create lists using loops.\n",
    "\n",
    "numbers = [i**2 for i in range(0,11)]\n",
    "print(numbers)"
   ]
  },
  {
   "cell_type": "code",
   "execution_count": 29,
   "metadata": {},
   "outputs": [
    {
     "name": "stdout",
     "output_type": "stream",
     "text": [
      "['d', 'l', 'r', 'o', 'w', 'o', 'l', 'l', 'e', 'h']\n"
     ]
    }
   ],
   "source": [
    "string = \"DLROWOLLEH\"\n",
    "letters = [character.lower() for character in string]\n",
    "print(letters)"
   ]
  },
  {
   "cell_type": "code",
   "execution_count": 30,
   "metadata": {},
   "outputs": [
    {
     "name": "stdout",
     "output_type": "stream",
     "text": [
      "['h', 'e', 'l', 'l', 'o', 'w', 'o', 'r', 'l', 'd']\n"
     ]
    }
   ],
   "source": [
    "# Let us reverse the order\n",
    "letters_reversed = [letters[-1-i] for i in range(0,len(letters))]\n",
    "print(letters_reversed)"
   ]
  },
  {
   "cell_type": "code",
   "execution_count": 32,
   "metadata": {},
   "outputs": [
    {
     "name": "stdout",
     "output_type": "stream",
     "text": [
      "['milk', 'butter', 'eggs', 'flour', 'chocolate']\n",
      "\n",
      "Let's make some chocolate cake. I do not like fruits anyways. :D\n",
      "Let's call it a day =)\n"
     ]
    }
   ],
   "source": [
    "# We can use if statements in list comprehensions in filters\n",
    "\n",
    "fruits = [\"apples\",\"bananas\",\"oranges\",\"grapes\"]\n",
    "\n",
    "grocery_list = [\"grapes\",\"milk\",\"apples\",\"butter\",\"eggs\",\"bananas\",\"oranges\", \"flour\"]\n",
    "\n",
    "# We do not need to use item                     if  (...             )\n",
    "modified_grocery_list = [_ for _ in grocery_list if _ not in fruits]+[\"chocolate\"]\n",
    "\n",
    "print(modified_grocery_list)\n",
    "print()\n",
    "print(\"Let's make some chocolate cake. I do not like fruits anyways. :D\\nLet's call it a day =)\")"
   ]
  },
  {
   "cell_type": "markdown",
   "metadata": {},
   "source": [
    "**Exercises**:\n",
    "\n",
    "temperatures = [12, 8, 9, 11, 7, 15, 14, 19, 10, 8, 6, 5, 9, 11, 12, 15, 17, 10, 9, 90, 8, 45, 11, 10, 11, 114, 13, 10, 105, 120]\n",
    "\n",
    "- Calcualte the average temperature with a while loop\n",
    "- Calculate the average temperature with for loop with the range function\n",
    "- Calculate the average temperature with for loop without the range function\n",
    "- Calculate the average temperature using list functions such as \"sum\", \"len\"\n",
    "- Print all element of the list which are greater than 10 using a while loop\n",
    "- Print all element of the list which are greater than 10 using a for loop without the range function\n",
    "- Print all element of the list which are greater than 10 using a for loop with the range function\n",
    "\n",
    "integer_list = [4, 6, -1, 0, 10, -7, 8, 8, 0, 10, -2, 1, 2, 3]\n",
    "\n",
    "- Use a for loop to iterate through the integer list\n",
    "    - Print each element\n",
    "    - if the value is smaller than 0 print 'Negative Value'\n",
    "    - if the value is 0 or 10 skip the iteration\n",
    "    - if the value is -2 stop the loop with a break statement\n"
   ]
  }
 ],
 "metadata": {
  "kernelspec": {
   "display_name": "venv",
   "language": "python",
   "name": "venv"
  },
  "language_info": {
   "codemirror_mode": {
    "name": "ipython",
    "version": 3
   },
   "file_extension": ".py",
   "mimetype": "text/x-python",
   "name": "python",
   "nbconvert_exporter": "python",
   "pygments_lexer": "ipython3",
   "version": "3.7.9"
  }
 },
 "nbformat": 4,
 "nbformat_minor": 4
}
