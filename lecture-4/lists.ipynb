{
 "cells": [
  {
   "cell_type": "markdown",
   "metadata": {},
   "source": [
    "# Lists\n",
    "\n",
    "A list is an abstract data type that represents a countable number of ordered values\n",
    "\n",
    "## Properties of Lists\n",
    "Lists have:\n",
    "\n",
    "- **values**\n",
    "- **indices**  - always start at 0\n",
    "- **a length** - number of elements in a list\n",
    "\n",
    "Lists are:\n",
    "\n",
    "- **mutable** - an object whose state can be modified after it is created\n",
    "- **non-static** - do not have a fix length, can be modified\n",
    "\n",
    "![alt text](https://developers.google.com/edu/python/images/list1.png)"
   ]
  },
  {
   "cell_type": "code",
   "execution_count": null,
   "metadata": {},
   "outputs": [],
   "source": [
    "my_list = [1,2,3]"
   ]
  },
  {
   "cell_type": "code",
   "execution_count": null,
   "metadata": {},
   "outputs": [],
   "source": [
    "type(my_list)"
   ]
  },
  {
   "cell_type": "code",
   "execution_count": null,
   "metadata": {},
   "outputs": [],
   "source": [
    "my_list[0]"
   ]
  },
  {
   "cell_type": "code",
   "execution_count": null,
   "metadata": {},
   "outputs": [],
   "source": [
    "my_list[1]"
   ]
  },
  {
   "cell_type": "code",
   "execution_count": null,
   "metadata": {},
   "outputs": [],
   "source": [
    "# my_list[3]\n",
    "my_list[2]"
   ]
  },
  {
   "cell_type": "code",
   "execution_count": null,
   "metadata": {},
   "outputs": [],
   "source": [
    "my_list.append(4)"
   ]
  },
  {
   "cell_type": "code",
   "execution_count": null,
   "metadata": {},
   "outputs": [],
   "source": [
    "len(my_list)\n",
    "print(my_list)"
   ]
  },
  {
   "cell_type": "code",
   "execution_count": null,
   "metadata": {},
   "outputs": [],
   "source": [
    "# Half open interval [0,4)=[0,3] for integers\n",
    "print(my_list[3])\n",
    "\n",
    "print(my_list[0])"
   ]
  },
  {
   "cell_type": "code",
   "execution_count": null,
   "metadata": {},
   "outputs": [],
   "source": [
    "my_list[-1]"
   ]
  },
  {
   "cell_type": "code",
   "execution_count": null,
   "metadata": {},
   "outputs": [],
   "source": [
    "my_list[-2]"
   ]
  },
  {
   "cell_type": "code",
   "execution_count": null,
   "metadata": {},
   "outputs": [],
   "source": [
    "long_list = list(range(1,100))\n",
    "print(long_list)"
   ]
  },
  {
   "cell_type": "code",
   "execution_count": null,
   "metadata": {},
   "outputs": [],
   "source": [
    "long_list[29:70]"
   ]
  },
  {
   "cell_type": "code",
   "execution_count": null,
   "metadata": {},
   "outputs": [],
   "source": [
    "long_list[0:100:2]"
   ]
  },
  {
   "cell_type": "code",
   "execution_count": null,
   "metadata": {},
   "outputs": [],
   "source": [
    "# Counting in five steps to hundred\n",
    "# long_list[4:99:5]\n",
    "# long_list[4:98:5]"
   ]
  },
  {
   "cell_type": "code",
   "execution_count": null,
   "metadata": {},
   "outputs": [],
   "source": [
    "zero_to_100 = list(range(0,101))\n",
    "print(zero_to_100)"
   ]
  },
  {
   "cell_type": "code",
   "execution_count": null,
   "metadata": {},
   "outputs": [],
   "source": [
    "# Adding each entry from zero to 100\n",
    "print(sum(zero_to_100))"
   ]
  },
  {
   "cell_type": "code",
   "execution_count": null,
   "metadata": {},
   "outputs": [],
   "source": [
    "# Alternative over Gaussian sum\n",
    "n = 100\n",
    "S = n*(n+1)/2\n",
    "S == sum(zero_to_100)"
   ]
  },
  {
   "cell_type": "code",
   "execution_count": null,
   "metadata": {},
   "outputs": [],
   "source": [
    "max_value = max(zero_to_100)\n",
    "print(max_value)"
   ]
  },
  {
   "cell_type": "code",
   "execution_count": null,
   "metadata": {},
   "outputs": [],
   "source": [
    "min_value = min(zero_to_100)\n",
    "print(min_value)"
   ]
  },
  {
   "cell_type": "code",
   "execution_count": null,
   "metadata": {},
   "outputs": [],
   "source": [
    "# Search for index containing value\n",
    "grocery_list = [\"apples\",\"bananas\",\"oranges\",\"milk\",\"butter\",\"oil\"]\n",
    "grocery_list.index(\"milk\")"
   ]
  },
  {
   "cell_type": "code",
   "execution_count": null,
   "metadata": {},
   "outputs": [],
   "source": [
    "# We can use the remove method to remove the entry with \"milk\" knowing its indexed position\n",
    "grocery_list.remove(\"milk\")\n",
    "print(grocery_list)"
   ]
  },
  {
   "cell_type": "code",
   "execution_count": null,
   "metadata": {},
   "outputs": [],
   "source": [
    "# We can add insert it back again to the list, using 2 as input parameter, it has switched its position with that of oranges\n",
    "grocery_list.insert(2,\"milk\")\n",
    "print(grocery_list)"
   ]
  },
  {
   "cell_type": "code",
   "execution_count": null,
   "metadata": {},
   "outputs": [],
   "source": [
    "# You can add an entry to the list using the plus operation\n",
    "grocery_list = grocery_list + [\"milk\"] # same effect\n",
    "grocery_list += [\"grapes\"]  # same effect\n",
    "grocery_list.append(\"carrots\") # same effect\n",
    "print(grocery_list)"
   ]
  },
  {
   "cell_type": "code",
   "execution_count": null,
   "metadata": {},
   "outputs": [],
   "source": [
    "# Now let's see what we get when we query for the index containing \"milk\"\n",
    "grocery_list.index(\"milk\")"
   ]
  },
  {
   "cell_type": "code",
   "execution_count": null,
   "metadata": {},
   "outputs": [],
   "source": [
    "grocery_list.index(\"milk\",3)"
   ]
  },
  {
   "cell_type": "code",
   "execution_count": null,
   "metadata": {},
   "outputs": [],
   "source": [
    "# Where do we get information on the conventions used for the index function?\n",
    "help(grocery_list.index)"
   ]
  },
  {
   "cell_type": "code",
   "execution_count": null,
   "metadata": {},
   "outputs": [],
   "source": [
    "# Mutable objects: Objects whose can be changed after it is created\n",
    "# list, dict, set, byte array\n",
    "# Immutable objects:\n",
    "# int, float, complex, string, tuple, frozen set , bytes \n",
    "# check out https://medium.com/@meghamohan/mutable-and-immutable-side-of-python-c2145cf72747\n",
    "new_list = [1,2,3]\n",
    "new_list[2]=2\n",
    "print(new_list)"
   ]
  },
  {
   "cell_type": "code",
   "execution_count": null,
   "metadata": {},
   "outputs": [],
   "source": [
    "my_list = [1,2,3,4]\n",
    "my_list *= 2\n",
    "print(my_list)"
   ]
  },
  {
   "cell_type": "code",
   "execution_count": null,
   "metadata": {},
   "outputs": [],
   "source": [
    "# You can check the id of lists using the id function\n",
    "old_list = [1,2,3,4]\n",
    "id(old_list)"
   ]
  },
  {
   "cell_type": "code",
   "execution_count": null,
   "metadata": {},
   "outputs": [],
   "source": [
    "# What is the id of the new list after assignment to the old list\n",
    "new_list = old_list\n",
    "id(new_list) == id(old_list)"
   ]
  },
  {
   "cell_type": "code",
   "execution_count": null,
   "metadata": {},
   "outputs": [],
   "source": [
    "# Now lets start off by recreating both lists and then comparing\n",
    "old_list = [1,2,3,4]\n",
    "new_list = [1,2,3,4]\n",
    "id(new_list) == id(old_list)"
   ]
  },
  {
   "cell_type": "code",
   "execution_count": null,
   "metadata": {},
   "outputs": [],
   "source": [
    "# Let's try try the same concept with non-mutable data types such as with two integers\n",
    "\n",
    "# Mutual variable assignment\n",
    "x = 10\n",
    "y = x\n",
    "print(id(x) == id(y))\n",
    "\n",
    "#  Same value assignment\n",
    "x = 10\n",
    "y = 10\n",
    "print(id(x) == id(y))"
   ]
  },
  {
   "cell_type": "code",
   "execution_count": null,
   "metadata": {},
   "outputs": [],
   "source": [
    "# If we change y what do we get for both x and y?\n",
    "x = 10\n",
    "y = x\n",
    "y += 1\n",
    "print(x,y)"
   ]
  },
  {
   "cell_type": "code",
   "execution_count": null,
   "metadata": {},
   "outputs": [],
   "source": [
    "# What do we get for the case of mutable lists?\n",
    "x = [10]\n",
    "y = x\n",
    "y[0] += 1\n",
    "print(x,y)"
   ]
  },
  {
   "cell_type": "code",
   "execution_count": null,
   "metadata": {},
   "outputs": [],
   "source": [
    "# What happens if we assign y to a (shallow) copy of x?\n",
    "x = [10]\n",
    "y = x.copy()\n",
    "y[0] += 1\n",
    "print(x,y)"
   ]
  },
  {
   "cell_type": "code",
   "execution_count": null,
   "metadata": {},
   "outputs": [],
   "source": [
    "# Let us compare the ids without and with copies\n",
    "x = [1,2]\n",
    "x = y\n",
    "print(id(x)==id(y), \": same value, same object id\")\n",
    "a = [1,2]\n",
    "b = a.copy()\n",
    "print(id(a)==id(b), \": same value, different object id\")"
   ]
  },
  {
   "cell_type": "markdown",
   "metadata": {},
   "source": [
    "**Exercises**:\n",
    "  \n",
    "- create a list of string entries of your favorite animals \n",
    "- print the object id of your list of favorite animals\n",
    "- print the length (number of elements) of your list of favourite animals\n",
    "- add the animals in *additional_animals* to your list with the + operator and assign the result to a new list called favorite animals copy\n",
    "- use the append method on the original list of favorite animals \n",
    "- use print statements to compare both lists and their respective ids\n",
    "- How often do *wombats* appear in your list of favourite animals?\n",
    "- Use a method to determine the list indices of *wombats* and your favorite animals\n",
    "- print the second last element in your list\n",
    "- print every second animal in your list, skipping the first list entry\n",
    "- Explore the other list methods: *pop*, *reverse*, *insert*, *remove*, *clear*\n",
    "- Approach: Print the list, execute the method, print the list again\n",
    "- Answer the following questions:\n",
    "    - what does the method do?\n",
    "    - does it require an input?\n",
    "    - does it have an output?"
   ]
  }
 ],
 "metadata": {
  "kernelspec": {
   "display_name": "venv",
   "language": "python",
   "name": "venv"
  },
  "language_info": {
   "codemirror_mode": {
    "name": "ipython",
    "version": 3
   },
   "file_extension": ".py",
   "mimetype": "text/x-python",
   "name": "python",
   "nbconvert_exporter": "python",
   "pygments_lexer": "ipython3",
   "version": "3.7.9"
  }
 },
 "nbformat": 4,
 "nbformat_minor": 4
}
