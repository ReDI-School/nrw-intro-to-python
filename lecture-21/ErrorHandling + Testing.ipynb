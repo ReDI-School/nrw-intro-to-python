{
 "cells": [
  {
   "cell_type": "markdown",
   "id": "21e3a0b0",
   "metadata": {},
   "source": [
    "# Errors\n"
   ]
  },
  {
   "cell_type": "markdown",
   "id": "89da939d",
   "metadata": {},
   "source": [
    "## Motivation\n",
    "So far in this course, when we ran into an errror our code just crashed. Like such:"
   ]
  },
  {
   "cell_type": "code",
   "execution_count": 1,
   "id": "4a52820f",
   "metadata": {},
   "outputs": [
    {
     "ename": "NameError",
     "evalue": "name 'a' is not defined",
     "output_type": "error",
     "traceback": [
      "\u001b[1;31m---------------------------------------------------------------------------\u001b[0m",
      "\u001b[1;31mNameError\u001b[0m                                 Traceback (most recent call last)",
      "\u001b[1;32m<ipython-input-1-bca0e2660b9f>\u001b[0m in \u001b[0;36m<module>\u001b[1;34m\u001b[0m\n\u001b[1;32m----> 1\u001b[1;33m \u001b[0mprint\u001b[0m\u001b[1;33m(\u001b[0m\u001b[0ma\u001b[0m\u001b[1;33m)\u001b[0m\u001b[1;33m\u001b[0m\u001b[1;33m\u001b[0m\u001b[0m\n\u001b[0m",
      "\u001b[1;31mNameError\u001b[0m: name 'a' is not defined"
     ]
    }
   ],
   "source": [
    "print(a)"
   ]
  },
  {
   "cell_type": "code",
   "execution_count": 2,
   "id": "31e0fa48",
   "metadata": {},
   "outputs": [
    {
     "ename": "ZeroDivisionError",
     "evalue": "division by zero",
     "output_type": "error",
     "traceback": [
      "\u001b[1;31m---------------------------------------------------------------------------\u001b[0m",
      "\u001b[1;31mZeroDivisionError\u001b[0m                         Traceback (most recent call last)",
      "\u001b[1;32m<ipython-input-2-fc2abf138dd5>\u001b[0m in \u001b[0;36m<module>\u001b[1;34m\u001b[0m\n\u001b[1;32m----> 1\u001b[1;33m \u001b[0mx\u001b[0m \u001b[1;33m=\u001b[0m \u001b[1;36m5\u001b[0m\u001b[1;33m/\u001b[0m\u001b[1;36m0\u001b[0m\u001b[1;33m\u001b[0m\u001b[1;33m\u001b[0m\u001b[0m\n\u001b[0m",
      "\u001b[1;31mZeroDivisionError\u001b[0m: division by zero"
     ]
    }
   ],
   "source": [
    "x = 5/0"
   ]
  },
  {
   "cell_type": "markdown",
   "id": "acb92c50",
   "metadata": {},
   "source": [
    "Here we have two different error NameError and ZeroDivisionError\n",
    "But in a \"real\" Software we don't want our whole program to crash. A lot of errors can be anticipated and therefore \"handled\" by us. This is what we will have a look at first"
   ]
  },
  {
   "cell_type": "markdown",
   "id": "b2a60ca2",
   "metadata": {},
   "source": [
    "In order for our code not to crash we need to tell Python that we want to \"catch\" errors. For this we are using the keywords try and except"
   ]
  },
  {
   "cell_type": "markdown",
   "id": "7ef15c40",
   "metadata": {},
   "source": [
    "### SyntaxError is not something we can catch\n",
    "This is because they aren't logical errors, but they code can't even be run, because the compiler doesn't know what to do with this code, as it is not a valid line of code\n",
    "So in this lecture we're not talking about SyntaxErrors at all"
   ]
  },
  {
   "cell_type": "code",
   "execution_count": 31,
   "id": "d9caae62",
   "metadata": {},
   "outputs": [
    {
     "ename": "SyntaxError",
     "evalue": "invalid syntax (<ipython-input-31-679c68afad72>, line 3)",
     "output_type": "error",
     "traceback": [
      "\u001b[1;36m  File \u001b[1;32m\"<ipython-input-31-679c68afad72>\"\u001b[1;36m, line \u001b[1;32m3\u001b[0m\n\u001b[1;33m    except SyntaxError:\u001b[0m\n\u001b[1;37m    ^\u001b[0m\n\u001b[1;31mSyntaxError\u001b[0m\u001b[1;31m:\u001b[0m invalid syntax\n"
     ]
    }
   ],
   "source": [
    "try:\n",
    "    x = (4/2\n",
    "except SyntaxError:\n",
    "    print(\"test\")"
   ]
  },
  {
   "cell_type": "code",
   "execution_count": 4,
   "id": "fa89e1b4",
   "metadata": {},
   "outputs": [
    {
     "name": "stdout",
     "output_type": "stream",
     "text": [
      "Ooooops! Looks like you wanna set this place on fire by dividing by zero\n"
     ]
    }
   ],
   "source": [
    "try:\n",
    "    x = 6/0\n",
    "except ZeroDivisionError:\n",
    "    print(\"Ooooops! Looks like you wanna set this place on fire by dividing by zero\")"
   ]
  },
  {
   "cell_type": "markdown",
   "id": "345e93ed",
   "metadata": {},
   "source": [
    "So in the part after the \"try\" we write the code, where we expect that an error could occur.\n",
    "And then after an except keyword we put the name of the Error, that we expect. And afterwards something that we want to do in this case:\n",
    "- For example just print out a message\n",
    "- Execute a function again\n",
    "- ..."
   ]
  },
  {
   "cell_type": "markdown",
   "id": "08fa110a",
   "metadata": {},
   "source": [
    "What happens if we don't catch the error?"
   ]
  },
  {
   "cell_type": "code",
   "execution_count": 6,
   "id": "1d27e623",
   "metadata": {},
   "outputs": [
    {
     "name": "stdout",
     "output_type": "stream",
     "text": [
      "No error caught! The value of x is: 2.0\n"
     ]
    }
   ],
   "source": [
    "try:\n",
    "    x = 4/2\n",
    "    print(f\"No error caught! The value of x is: {x}\")\n",
    "except ZeroDivisionError:\n",
    "    print(\"Ooooops! Looks like you wanna set this place on fire by dividing by zero\")\n"
   ]
  },
  {
   "cell_type": "markdown",
   "id": "32d1deb9",
   "metadata": {},
   "source": [
    "Nothing, the except statement just is ignored\n",
    "But if we wanna do something specific if no error is caught, we can add an else clause"
   ]
  },
  {
   "cell_type": "code",
   "execution_count": 5,
   "id": "5089fe0e",
   "metadata": {},
   "outputs": [
    {
     "name": "stdout",
     "output_type": "stream",
     "text": [
      "No error caught! The value of x is: 2.0\n",
      "yippie! no error caught!\n"
     ]
    }
   ],
   "source": [
    "try:\n",
    "    x = 4/2\n",
    "    print(f\"No error caught! The value of x is: {x}\")\n",
    "except ZeroDivisionError:\n",
    "    print(\"Ooooops! Looks like you wanna set this place on fire by dividing by zero\")\n",
    "else:\n",
    "    print(\"yippie! no error caught!\")"
   ]
  },
  {
   "cell_type": "code",
   "execution_count": 6,
   "id": "55a20a4e",
   "metadata": {},
   "outputs": [
    {
     "name": "stdout",
     "output_type": "stream",
     "text": [
      "Ooooops! Looks like you wanna set this place on fire by dividing by zero\n"
     ]
    }
   ],
   "source": [
    "try:\n",
    "    x = 4/0\n",
    "    print(f\"No error caught! The value of x is: {x}\")\n",
    "except ZeroDivisionError:\n",
    "    print(\"Ooooops! Looks like you wanna set this place on fire by dividing by zero\")\n",
    "else:\n",
    "    print(\"yippie! no error caught!\")"
   ]
  },
  {
   "cell_type": "markdown",
   "id": "9ceaf2d6",
   "metadata": {},
   "source": [
    "### And if we have some segment of code, that we always want to run independent of the errors, we can use the \"finally\" statement"
   ]
  },
  {
   "cell_type": "code",
   "execution_count": 7,
   "id": "8462c0e2",
   "metadata": {},
   "outputs": [
    {
     "name": "stdout",
     "output_type": "stream",
     "text": [
      "Ooooops! Looks like you wanna set this place on fire by dividing by zero\n",
      "Thank you for using my program! I hope there weren't too many errors\n"
     ]
    }
   ],
   "source": [
    "try:\n",
    "    x = 4/0\n",
    "    print(f\"No error caught! The value of x is: {x}\")\n",
    "except ZeroDivisionError:\n",
    "    print(\"Ooooops! Looks like you wanna set this place on fire by dividing by zero\")\n",
    "else:\n",
    "    print(\"yippie! no error caught!\")\n",
    "finally:\n",
    "    print(\"Thank you for using my program! I hope there weren't too many errors\")"
   ]
  },
  {
   "attachments": {
    "grafik.png": {
     "image/png": "[encoded data removed]"
    }
   },
   "cell_type": "markdown",
   "id": "8229ed95",
   "metadata": {},
   "source": [
    "![grafik.png](attachment:grafik.png)\n",
    "Graphic taken from https://realpython.com/python-exceptions/#exceptions-versus-syntax-errors"
   ]
  },
  {
   "cell_type": "markdown",
   "id": "7534ae34",
   "metadata": {},
   "source": [
    "Finally makes sense for example if we open a file or a database connection and want to make sure that the file/connection is properly closed at the end, no matter what happened before"
   ]
  },
  {
   "cell_type": "markdown",
   "id": "abd1e452",
   "metadata": {},
   "source": [
    "### We can also create and throw error ourselves using the \"raise\" keyword"
   ]
  },
  {
   "cell_type": "code",
   "execution_count": 4,
   "id": "d4e38634",
   "metadata": {},
   "outputs": [
    {
     "ename": "Exception",
     "evalue": "x shouldn't be bigger than 5, but it was 10",
     "output_type": "error",
     "traceback": [
      "\u001b[1;31m---------------------------------------------------------------------------\u001b[0m",
      "\u001b[1;31mException\u001b[0m                                 Traceback (most recent call last)",
      "\u001b[1;32m<ipython-input-4-ef2cf9716593>\u001b[0m in \u001b[0;36m<module>\u001b[1;34m\u001b[0m\n\u001b[0;32m      1\u001b[0m \u001b[0mx\u001b[0m \u001b[1;33m=\u001b[0m \u001b[1;36m10\u001b[0m\u001b[1;33m\u001b[0m\u001b[1;33m\u001b[0m\u001b[0m\n\u001b[0;32m      2\u001b[0m \u001b[1;32mif\u001b[0m \u001b[0mx\u001b[0m\u001b[1;33m>\u001b[0m\u001b[1;36m5\u001b[0m\u001b[1;33m:\u001b[0m\u001b[1;33m\u001b[0m\u001b[1;33m\u001b[0m\u001b[0m\n\u001b[1;32m----> 3\u001b[1;33m     \u001b[1;32mraise\u001b[0m \u001b[0mException\u001b[0m\u001b[1;33m(\u001b[0m\u001b[1;34mf\"x shouldn't be bigger than 5, but it was {x}\"\u001b[0m\u001b[1;33m)\u001b[0m\u001b[1;33m\u001b[0m\u001b[1;33m\u001b[0m\u001b[0m\n\u001b[0m",
      "\u001b[1;31mException\u001b[0m: x shouldn't be bigger than 5, but it was 10"
     ]
    }
   ],
   "source": [
    "x = 10\n",
    "if x>5:\n",
    "    raise Exception(f\"x shouldn't be bigger than 5, but it was {x}\")"
   ]
  },
  {
   "cell_type": "markdown",
   "id": "08010733",
   "metadata": {},
   "source": [
    "If we want to create our own errors, we need to create a class that inherits from the Exception class. Then we intercept them accordingly."
   ]
  },
  {
   "cell_type": "code",
   "execution_count": 29,
   "id": "ae345429",
   "metadata": {},
   "outputs": [
    {
     "name": "stdout",
     "output_type": "stream",
     "text": [
      "Email written to abc@gmail.com\n",
      "Email written to tester@gmx.de\n",
      "The email wasn't sent to fail.de, it is not a valid email address\n"
     ]
    }
   ],
   "source": [
    "class InvalidEmailError(Exception):\n",
    "    pass\n",
    "\n",
    "def write_email(email_address):\n",
    "    if \"@\" not in email_address:\n",
    "        raise InvalidEmailError(\"This email doesn't contain a @\")\n",
    "    print(f\"Email written to {email_address}\")\n",
    "\n",
    "email_list = [\"abc@gmail.com\",\"tester@gmx.de\", \"fail.de\"]\n",
    "try:\n",
    "    for email in email_list:\n",
    "        write_email(email)\n",
    "except InvalidEmailError :\n",
    "    print(f\"The email wasn't sent to {email}, it is not a valid email address\")"
   ]
  },
  {
   "cell_type": "markdown",
   "id": "4830bc44",
   "metadata": {},
   "source": [
    "### We can use the assert keyword to verify a certain condition is met, before executing code"
   ]
  },
  {
   "cell_type": "code",
   "execution_count": 11,
   "id": "fad1a8da",
   "metadata": {},
   "outputs": [
    {
     "name": "stdout",
     "output_type": "stream",
     "text": [
      "test\n"
     ]
    }
   ],
   "source": [
    "x=10\n",
    "try:\n",
    "    assert x==5, \"test\"\n",
    "except AssertionError as msg:\n",
    "    print(msg)"
   ]
  },
  {
   "cell_type": "markdown",
   "id": "2d07956f",
   "metadata": {},
   "source": [
    "### Assert and Raise are very similar conecept, and we're not going too much into the detail here. \n",
    "But in short:\n",
    "- Use assert to detect programming errors and conditions that should never occur and which should crash your program immediately, e.g., invariants of an algorithm.\n",
    "- Raise an exception for errors that are caused by invalid user input or other problems with the environment (e.g., network errors or unreadable files)."
   ]
  },
  {
   "cell_type": "markdown",
   "id": "84d7d02d",
   "metadata": {},
   "source": [
    "# NEVER DO !!!\n"
   ]
  },
  {
   "cell_type": "markdown",
   "id": "f33654f3",
   "metadata": {},
   "source": [
    "So far we've seen that we always write except ValueError/DivisionError etc. In theory we can just except all Errors:"
   ]
  },
  {
   "cell_type": "code",
   "execution_count": 17,
   "id": "0d06c675",
   "metadata": {},
   "outputs": [
    {
     "name": "stdout",
     "output_type": "stream",
     "text": [
      "division by zero\n"
     ]
    }
   ],
   "source": [
    "try:\n",
    "    5/0\n",
    "except Exception as e:\n",
    "    print(e)"
   ]
  },
  {
   "cell_type": "code",
   "execution_count": 18,
   "id": "a18b2487",
   "metadata": {},
   "outputs": [
    {
     "name": "stdout",
     "output_type": "stream",
     "text": [
      "unsupported operand type(s) for /: 'int' and 'str'\n"
     ]
    }
   ],
   "source": [
    "try:\n",
    "    5/\"2\"\n",
    "except Exception as e:\n",
    "    print(e)"
   ]
  },
  {
   "cell_type": "markdown",
   "id": "3432a2f4",
   "metadata": {},
   "source": [
    "So here two different errors were caught. But this is bad practice, because in hindsight it will be very hard to figure out where a problem in your code is. You should only catch exception by name that you can expect"
   ]
  },
  {
   "cell_type": "code",
   "execution_count": 21,
   "id": "0203089c",
   "metadata": {},
   "outputs": [
    {
     "name": "stdout",
     "output_type": "stream",
     "text": [
      "division by zero\n"
     ]
    }
   ],
   "source": [
    "try:\n",
    "    5/0\n",
    "except (ValueError, ZeroDivisionError) as e:\n",
    "    print(e)"
   ]
  },
  {
   "cell_type": "code",
   "execution_count": 23,
   "id": "fd96b18e",
   "metadata": {},
   "outputs": [
    {
     "name": "stdout",
     "output_type": "stream",
     "text": [
      "unsupported operand type(s) for /: 'int' and 'str'\n"
     ]
    }
   ],
   "source": [
    "try:\n",
    "    5/3\n",
    "    5/\"a\"\n",
    "except ZeroDivisionError as e:\n",
    "    print(e)\n",
    "except TypeError as e:\n",
    "    print(e)"
   ]
  },
  {
   "cell_type": "markdown",
   "id": "c44f86a9",
   "metadata": {},
   "source": [
    "The second block of code (with mutliple except statements) lets you handle each Error seperately"
   ]
  },
  {
   "cell_type": "markdown",
   "id": "0c49ce1d",
   "metadata": {},
   "source": [
    "# Exercise"
   ]
  },
  {
   "cell_type": "markdown",
   "id": "dec4c0d0",
   "metadata": {},
   "source": [
    "### Please fill in the appropriate Errors that are to be excepted and a error message\n",
    "#####  ( Hint : You can also run the code without the try/except and see what Error you get)"
   ]
  },
  {
   "cell_type": "code",
   "execution_count": null,
   "id": "75c97920",
   "metadata": {},
   "outputs": [],
   "source": [
    "a=5\n",
    "b=0\n",
    "try:\n",
    "    a/b\n",
    "except \"WRITE YOUR CODE HERE\":\n",
    "    \"AND HERE\""
   ]
  },
  {
   "cell_type": "code",
   "execution_count": null,
   "id": "d916fb5e",
   "metadata": {},
   "outputs": [],
   "source": [
    "a=5\n",
    "b = \"lets divide by this\"\n",
    "try:\n",
    "    a/b\n",
    "except \"WRITE YOUR CODE HERE\":\n",
    "    \"AND HERE\""
   ]
  },
  {
   "cell_type": "code",
   "execution_count": null,
   "id": "b980c34b",
   "metadata": {},
   "outputs": [],
   "source": [
    "dict1 = {\"key1\":1, \"key2\":2}\n",
    "try:\n",
    "    dict1[\"key3\"]\n",
    "except \"WRITE YOUR CODE HERE\":\n",
    "    \"AND HERE\""
   ]
  },
  {
   "cell_type": "code",
   "execution_count": null,
   "id": "3d7e4383",
   "metadata": {},
   "outputs": [],
   "source": [
    "a = 5\n",
    "b=10\n",
    "c=50\n",
    "try:\n",
    "    a*b + c *d\n",
    "except \"WRITE YOUR CODE HERE\":\n",
    "    \"AND HERE\" "
   ]
  },
  {
   "cell_type": "markdown",
   "id": "e259b244",
   "metadata": {},
   "source": []
  },
  {
   "cell_type": "markdown",
   "id": "e502ebc4",
   "metadata": {},
   "source": [
    "# (Unit) Testing"
   ]
  },
  {
   "cell_type": "markdown",
   "id": "c5642d3d",
   "metadata": {},
   "source": [
    "### Now we're going to talk about a related Topic which is testing\n",
    "### This will be mostly theoretical, and something that you probably won't use in this semester.\n",
    "### But it is important (especially in Software Engineering) to have heard about it, so don't pay too much attention to the exact implmentation and focus on why we're doing this"
   ]
  },
  {
   "cell_type": "markdown",
   "id": "2a2373e4",
   "metadata": {},
   "source": [
    "So far you have done some kind of testing: You write code and if there is an error, you find the error and play around until your code works again (for some random example)\n",
    "This works reasonably well for our small functions\n",
    "\n",
    "But what if we have 100+ functions and there is a bug (that is not throwing an error). \n",
    "\n",
    "I'll show you a more structured approach: Unit Testing\n",
    "So we try to systematically test every unit ( a part of our code/application) and see if it works as we like\n",
    "\n",
    "This has the advantage, that we can locate bugs more easily \n",
    "It also makes it easy to check if everything still works after we do a little change/refactoring"
   ]
  },
  {
   "cell_type": "markdown",
   "id": "0386542b",
   "metadata": {},
   "source": [
    "## Let's have a look at an example: We have a calculator class, that can perform basic arithmetics\n",
    "Code taken from here: https://github.com/mrozenbaum/calculator-unit-test.git"
   ]
  },
  {
   "cell_type": "code",
   "execution_count": 43,
   "id": "527908a0",
   "metadata": {},
   "outputs": [],
   "source": [
    "class Calculator():\n",
    "    \"\"\"Performs the four basic mathematical operations\n",
    "        Methods:\n",
    "     add(number, number)\n",
    "     subtract(number, number)\n",
    "     multiply(number, number)\n",
    "     divide(number,number)\n",
    "    \"\"\"\n",
    "\n",
    "    def add(self, firstOperand, secondOperand):\n",
    "        \"\"\"Adds two numbers together\n",
    "        Arguments:\n",
    "          firstOperand - Any number\n",
    "          secondOperand - Any number\n",
    "        \"\"\"\n",
    "        return firstOperand + secondOperand\n",
    "    def subtract(self, firstOperand, secondOperand): \n",
    "        \"\"\"Subtracts two numbers together\n",
    "        Arguments:\n",
    "          firstOperand - Any number\n",
    "          secondOperand - Any number\n",
    "        \"\"\"\n",
    "        return firstOperand - secondOperand\n",
    "    def multiply(self, firstOperand, secondOperand):\n",
    "        \"\"\"Multiplies two numbers together\n",
    "        Arguments:\n",
    "          firstOperand - Any number\n",
    "          secondOperand - Any number\n",
    "        \"\"\"\n",
    "        return firstOperand * secondOperand\n",
    "    def divide(self, firstOperand, secondOperand):   \n",
    "        \"\"\"Divides two numbers together\n",
    "        Arguments:\n",
    "          firstOperand - Any number\n",
    "          secondOperand - Any number\n",
    "        \"\"\"\n",
    "        return firstOperand / secondOperand"
   ]
  },
  {
   "cell_type": "code",
   "execution_count": 47,
   "id": "574f530b",
   "metadata": {},
   "outputs": [
    {
     "data": {
      "text/plain": [
       "0.375"
      ]
     },
     "execution_count": 47,
     "metadata": {},
     "output_type": "execute_result"
    }
   ],
   "source": [
    "calc = Calculator()\n",
    "calc.divide(3,8)"
   ]
  },
  {
   "cell_type": "markdown",
   "id": "09a8049d",
   "metadata": {},
   "source": [
    "Now we want to make sure that each opeartion works\n",
    "This will not run in Jupyter Notebook. I'll show it to you in PyCharm"
   ]
  },
  {
   "cell_type": "code",
   "execution_count": null,
   "id": "1192b6ec",
   "metadata": {},
   "outputs": [],
   "source": [
    "import unittest\n",
    "#from calculator import *\n",
    "\n",
    "def setUpModule():\n",
    "    print('set up module')\n",
    "\n",
    "def tearDownModule():\n",
    "    print('tear down module')\n",
    "\n",
    "class TestCalculator(unittest.TestCase):\n",
    "\n",
    "    # Create an instance of the calculator that can be used in all tests\n",
    "    @classmethod\n",
    "    def setUpClass(self):\n",
    "        print('Set up class')\n",
    "        self.calc = Calculator()\n",
    "\n",
    "    @classmethod\n",
    "    def tearDownClass(self):\n",
    "        print('Tear down class')\n",
    "\n",
    "    # Write test methods for subtract, multiply, and divide\n",
    "    def test_add(self):\n",
    "        self.assertEqual(self.calc.add(2, 7), 9, msg=None)\n",
    "\n",
    "    def test_subtract(self):\n",
    "        self.assertEqual(self.calc.subtract(9, 7), 2, msg=None)\n",
    "\n",
    "    def test_multiply(self):\n",
    "        self.assertEqual(self.calc.multiply(2, 7), 14, msg=None) \n",
    "\n",
    "    def test_divide(self):\n",
    "        self.assertEqual(self.calc.divide(4, 2), 2, msg=None)           \n",
    "\n",
    "\n",
    "if __name__ == '__main__':\n",
    "    unittest.main()"
   ]
  },
  {
   "cell_type": "markdown",
   "id": "254c7e57",
   "metadata": {},
   "source": [
    "### A common guideline for Testing is F.I.R.S.T, which stands for:\n",
    "1. Fast\n",
    "2. Independent\n",
    "3. Repeatable\n",
    "4. Self-Validating\n",
    "5. Timely"
   ]
  },
  {
   "cell_type": "code",
   "execution_count": null,
   "id": "057607c0",
   "metadata": {},
   "outputs": [],
   "source": []
  }
 ],
 "metadata": {
  "kernelspec": {
   "display_name": "Python 3",
   "language": "python",
   "name": "python3"
  },
  "language_info": {
   "codemirror_mode": {
    "name": "ipython",
    "version": 3
   },
   "file_extension": ".py",
   "mimetype": "text/x-python",
   "name": "python",
   "nbconvert_exporter": "python",
   "pygments_lexer": "ipython3",
   "version": "3.8.8"
  }
 },
 "nbformat": 4,
 "nbformat_minor": 5
}
