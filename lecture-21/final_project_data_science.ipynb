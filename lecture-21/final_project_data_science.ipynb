{
 "cells": [
  {
   "cell_type": "markdown",
   "metadata": {},
   "source": [
    "# Final Project - Data Science\n",
    "\n",
    "As a fresh data scientist at the company StackOverflow, you have been tasked with analyzing this year's developer survey results to find interesting facts and directions in the software development community. Once you're done, your colleagues at the design department will create a report from your analysis results and publish it online. They can't wait to see what interesting facts you uncover!\n",
    "\n",
    "## Data Acquisition and Data Understanding\n",
    "\n",
    "#### 1. Get the data from https://insights.stackoverflow.com/survey and unzip it.\n",
    "\n",
    "#### 2. Load the survey data into a pandas dataframe and display it.\n",
    "\n",
    "#### 3. How many rows does the table have and which columns are present?\n",
    "Hint: `df.columns` shows a list of columns\n",
    "\n",
    "#### 4. Load the *schema* table into a pandas dataframe and display it. -> Skim the column descriptions to get familiar with the data.\n",
    "\n",
    "## Research Questions\n",
    "\n",
    "#### 5. What values are present in the column `MainBranch` and how often are these values present. \n",
    "Hint: you can select a column via `df[<column name>]` and columns (called 'Series' in pandas) have a method called `value_counts`.\n",
    "\n",
    "#### 6. How high is the percentage of professional developers, who also code as a hobby? \n",
    "Use the columns `MainBranch` and `Hobbyist` to answer this. Hint: You can filter a dataframe by a column's values via `filtered_df = df[df[<column name>] == <value>]`.\n",
    "\n",
    "#### 7. Plot the age distribution of German developers. \n",
    "Hint: a violin plot (https://plotly.com/python/violin/) might be a good fit.\n",
    "\n",
    "#### 8. What are the 3 most popular databases ? \n",
    "\n",
    "* 8.1 Check out the column `DatabaseWorkedWith`. Look at the format of the values.\n",
    "* 8.2 The format is complicated to work with (semicolon-separated-values). To help with this, you can use the helper function `expand_column`. Try out the function and understand what it does. \n",
    "* 8.3 After expanding the column `DatabaseWorkedWith`, you can filter the columns of the dataframe, to only contain columns from the expansion. Hint: you can filter the columns of a dataframe like this: `filtered_df = df[<list of column names>]` (example: `filtered_df = df[['col_a', 'col_b']]`). \n",
    "* 8.4 To finish the task, you might want to look at the dataframe methods `sum` and `sort_values`. \n",
    "\n",
    "#### 9. Is there a difference between programming languages when it comes to job satisfaction?\n",
    "\n",
    "In this task we want to calculate the mean job satisfaction for each programming language.\n",
    "\n",
    "* 9.1 Check out the column `LanguageWorkedWith` and expand it as you did in question 8.\n",
    "* 9.2 Check out the column `JobSat`: What values does it have?\n",
    "* 9.3 Map the values of the column `JobSat` to numerical values from 1 to 5 (with 5 being the highest job satisfaction).\n",
    "    * 9.3.1 Write a function that gets a job satisfaction string as its input and returns the according number.\n",
    "    * 9.3.2 Create a new column `JobSatNum` in the dataframe, which contains the numerical job satisfaction value. Hint: `df['JobSatNum'] = df['JobSat'].map(<your mapping function>)`\n",
    "* 9.4 Print the mean numerical job satisfaction for each programming language. Hint: Loop through the column names of the programming language columns you created in 9.1. For each programming language, filter the dataframe, to only contain the rows where the programming language column has the value `True`. From the filtered dataframe, select the column containing the numerical job satisfaction value and compute the mean (pandas Series have a method `mean`).\n",
    "\n",
    "#### 10. Bonus: Think of additional interesting statistical questions yourself and find the answers.\n",
    "\n",
    "\n",
    "# 🎉🎉🎉 Have fun! 🎉🎉🎉"
   ]
  },
  {
   "cell_type": "code",
   "execution_count": null,
   "metadata": {},
   "outputs": [],
   "source": [
    "#  This function will come in handy later (question 8 and 9) 😉\n",
    "\n",
    "\n",
    "def expand_column(df, col):\n",
    "    \"Expand a column with semicolon-separated-values into multiple boolean columns, one for each value in the original column.\"\n",
    "\n",
    "    df = df.copy()\n",
    "\n",
    "    if col not in df.columns:\n",
    "        raise ValueError(f\"Column {col} not found in DataFrame\")\n",
    "\n",
    "    values = set()\n",
    "    for row in df[col]:\n",
    "        if not pd.isna(row):\n",
    "            for value in row.split(\";\"):\n",
    "                values.add(value)\n",
    "\n",
    "    for value in values:\n",
    "        df[f\"{col}_{value}\"] = df[col].map(\n",
    "            lambda v: value in v.split(\";\") if not pd.isna(v) else False\n",
    "        )\n",
    "\n",
    "    return df"
   ]
  },
  {
   "cell_type": "code",
   "execution_count": null,
   "metadata": {},
   "outputs": [],
   "source": [
    "import pandas as pd\n",
    "\n",
    "# if missing: pip install plotly\n",
    "import plotly.express as px  \n",
    "\n",
    "# increase the number of rows that are shown\n",
    "pd.set_option(\"display.max_rows\", 100)  \n",
    "\n",
    "# increase the number of columns that are shown\n",
    "pd.set_option(\n",
    "    \"display.max_columns\", 100\n",
    ")  \n",
    "\n",
    "# don't truncate columns\n",
    "pd.set_option(\"display.max_colwidth\", None)  "
   ]
  },
  {
   "cell_type": "code",
   "execution_count": null,
   "metadata": {},
   "outputs": [],
   "source": [
    "df = pd.read_csv(\"developer_survey_2020/survey_results_public.csv\")"
   ]
  }
 ],
 "metadata": {
  "kernelspec": {
   "display_name": "Python 3",
   "language": "python",
   "name": "python3"
  },
  "language_info": {
   "codemirror_mode": {
    "name": "ipython",
    "version": 3
   },
   "file_extension": ".py",
   "mimetype": "text/x-python",
   "name": "python",
   "nbconvert_exporter": "python",
   "pygments_lexer": "ipython3",
   "version": "3.7.4"
  }
 },
 "nbformat": 4,
 "nbformat_minor": 4
}
