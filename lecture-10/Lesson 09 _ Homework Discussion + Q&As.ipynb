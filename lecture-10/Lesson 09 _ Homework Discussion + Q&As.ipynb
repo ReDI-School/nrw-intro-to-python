{
 "cells": [
  {
   "cell_type": "code",
   "execution_count": 1,
   "metadata": {},
   "outputs": [],
   "source": [
    "# Thanh Nam Le - Thanh.Nam.Le@communityredi-school.org\n",
    "# Andreas Bollig - Andreas.Bollig@communityredi-school.org"
   ]
  },
  {
   "cell_type": "code",
   "execution_count": 2,
   "metadata": {},
   "outputs": [],
   "source": [
    "# !pip install nb_black"
   ]
  },
  {
   "cell_type": "code",
   "execution_count": 3,
   "metadata": {},
   "outputs": [],
   "source": [
    "# %load_ext nb_black"
   ]
  },
  {
   "cell_type": "markdown",
   "metadata": {},
   "source": [
    "## Functions"
   ]
  },
  {
   "cell_type": "markdown",
   "metadata": {},
   "source": [
    "### Exe. 1 - FizzBuzz\n",
    "\n",
    "a) Write a function `fizz_buzz(x)`that takes a number as parameter\n",
    "- if the number is divisible by 3, return `\"fizz\"`\n",
    "- if the number is divisible by 5 return `\"buzz\"`\n",
    "- if it is divisble by 3 and 5, return `\"fizzbuzz\"`\n",
    "- in all other cases return an empty string\n",
    "\n",
    "\n",
    "*Example*:\n",
    "```python\n",
    "fizz_buzz(9) -> \"fizz\"\n",
    "fizz_buzz(10) -> \"buzz\"\n",
    "fizz_buzz(15) -> \"fizzbuzz\"\n",
    "fizz_buzz(16) -> \"\"\n",
    "``"
   ]
  },
  {
   "cell_type": "code",
   "execution_count": 10,
   "metadata": {},
   "outputs": [
    {
     "name": "stdout",
     "output_type": "stream",
     "text": [
      "45: fizzbuzz\n",
      "25: buzz\n"
     ]
    }
   ],
   "source": [
    "def fizz_buzz(x):\n",
    "    if (x % 3 == 0) and (x % 5 == 0):\n",
    "        return \"fizzbuzz\"\n",
    "    elif x % 3 == 0:\n",
    "        return \"fizz\"\n",
    "    elif x % 5 == 0:\n",
    "        return \"buzz\"\n",
    "    else:\n",
    "        return \"\"\n",
    "\n",
    "\n",
    "print(\"45:\", fizz_buzz(45))\n",
    "print(\"25:\", fizz_buzz(25))"
   ]
  },
  {
   "cell_type": "markdown",
   "metadata": {},
   "source": [
    "b) **Bonus** \n",
    "Write a function `first_n_fizz_buzz()` that will accept a number as input and that will print the result of `fizz_buzz` for all numbers between one and the number\n",
    "\n",
    "*Example:*\n",
    "\n",
    "```python\n",
    "first_n_fizz_buzz(4) <br>\n",
    "  -> <br>\n",
    "     1: FizzBuzz is \"\" <br>\n",
    "     2: FizzBuzz is \"\" <br>\n",
    "     3: FizzBuzz is \"fizz\" <br>\n",
    "     4: FizzBuzz is \"\"\n",
    "``"
   ]
  },
  {
   "cell_type": "code",
   "execution_count": 11,
   "metadata": {},
   "outputs": [
    {
     "name": "stdout",
     "output_type": "stream",
     "text": [
      "1: FizzBuzz is \n",
      "2: FizzBuzz is \n",
      "3: FizzBuzz is fizz\n",
      "4: FizzBuzz is \n"
     ]
    }
   ],
   "source": [
    "def first_n_fizz_buzz(n):\n",
    "    for number in range(1, n + 1):\n",
    "        print(f\"{number}: FizzBuzz is {fizz_buzz(number)}\")\n",
    "\n",
    "\n",
    "first_n_fizz_buzz(4)"
   ]
  },
  {
   "cell_type": "markdown",
   "metadata": {},
   "source": [
    "### Exercise 2\n",
    " Extract individual letters from an input string and put them into a list\n",
    "\n",
    "**For example**\n",
    "\n",
    "Function get_characters(\"apple\") should return ['a', 'p', 'p', 'l', 'e']\n",
    "\n",
    "Function get_characters(\"baloon\") should return ['b', 'a', 'l', 'o', 'o', 'n']"
   ]
  },
  {
   "cell_type": "code",
   "execution_count": 12,
   "metadata": {},
   "outputs": [
    {
     "name": "stdout",
     "output_type": "stream",
     "text": [
      "['m', 'i', 'c', 'r', 'o', 's', 'o', 'f', 't']\n"
     ]
    }
   ],
   "source": [
    "def get_characters(word):\n",
    "    chars = []\n",
    "    for c in word:\n",
    "        chars.append(c)\n",
    "    return chars\n",
    "\n",
    "\n",
    "print(get_characters(\"microsoft\"))"
   ]
  },
  {
   "cell_type": "markdown",
   "metadata": {},
   "source": [
    "### Exercise 3\n",
    "Write a function to find the vowels in a String and return the vowels in a list.\n",
    "\n",
    "**For example:**  \n",
    "\n",
    "find_vowels(\"apple\") should return the list ['a', 'e']\n",
    "\n",
    "find_vowels(\"baloon\") should return the list ['a', 'o', 'o']"
   ]
  },
  {
   "cell_type": "code",
   "execution_count": 13,
   "metadata": {},
   "outputs": [
    {
     "name": "stdout",
     "output_type": "stream",
     "text": [
      "['i', 'o', 'o']\n"
     ]
    }
   ],
   "source": [
    "def find_vowels(word):\n",
    "    vowels = []\n",
    "    for c in word:\n",
    "        if c in [\"a\", \"e\", \"i\", \"o\", \"u\"]:\n",
    "            vowels.append(c)\n",
    "    return vowels\n",
    "\n",
    "\n",
    "print(find_vowels(\"microsoft\"))"
   ]
  },
  {
   "cell_type": "markdown",
   "metadata": {},
   "source": [
    "### Exercise 4\n",
    "\n",
    "Write a function that accept users first and last name and returns a full-name string after replacing all charachters except the initials.\n",
    "\n",
    "For example: Function mask_username(first_name, last_name)\n",
    "\n",
    "`mask_username(\"John\", \"Doe\") returns \"J*** D**\"` <br>\n",
    "`mask_username(\"Angela\", \"Merkel\") returns \"A***** M*****\"`"
   ]
  },
  {
   "cell_type": "code",
   "execution_count": 14,
   "metadata": {},
   "outputs": [
    {
     "data": {
      "text/plain": [
       "'J*** D**'"
      ]
     },
     "execution_count": 14,
     "metadata": {},
     "output_type": "execute_result"
    }
   ],
   "source": [
    "def mask_username(first_name, last_name):\n",
    "\n",
    "    output = \"\"\n",
    "\n",
    "    for i, char in enumerate(first_name):\n",
    "        if i == 0:\n",
    "            output += char\n",
    "        else:\n",
    "            output += \"*\"\n",
    "\n",
    "    output += \" \"\n",
    "\n",
    "    for i, char in enumerate(last_name):\n",
    "        if i == 0:\n",
    "            output += char\n",
    "        else:\n",
    "            output += \"*\"\n",
    "\n",
    "    return output\n",
    "\n",
    "\n",
    "mask_username(\"John\", \"Doe\")"
   ]
  },
  {
   "cell_type": "markdown",
   "metadata": {},
   "source": [
    "### Exe 5. Write a Python function that inputs a, b, c as coefficients of a quadratic function and returns roots of that quadratic function\n",
    "Here is what I mean: <br>\n",
    "solve_quadratic_function(1,1,1) -> output =  None <br>\n",
    "solve_quadratic_function(1,-2,1) -> output = 1 <br>\n",
    "solve_quadratic_function(1,-3,2) -> output = 1 and 2 <br>\n",
    "<br>\n",
    "*If you want to refresh your mind about how to solve a quadratic equation, have a look at this link <br> https://www.cliffsnotes.com/study-guides/algebra/algebra-i/quadratic-equations/solving-quadratic-equations*"
   ]
  },
  {
   "cell_type": "code",
   "execution_count": 15,
   "metadata": {},
   "outputs": [],
   "source": [
    "def solve_quadratic_function(a, b, c):\n",
    "    \"\"\"\n",
    "    Write your function description heree\n",
    "    \"\"\"\n",
    "    delta = b ** 2 - 4 * a * c\n",
    "    if delta > 0:\n",
    "        root_one = (-b + delta ** 0.5) / (2 * a)\n",
    "        root_two = (-b - delta ** 0.5) / (2 * a)\n",
    "        print(\"Your quadratic equation has two real roots\")\n",
    "        return root_one, root_two\n",
    "    elif delta == 0:\n",
    "        print(\"Your quadratic equation has one real root\")\n",
    "        return -b / (2 * a)\n",
    "    else:\n",
    "        print(\"Your quadratic equation has no real roots\")\n",
    "        return None"
   ]
  },
  {
   "cell_type": "code",
   "execution_count": 16,
   "metadata": {},
   "outputs": [
    {
     "name": "stdout",
     "output_type": "stream",
     "text": [
      "Your quadratic equation has two real roots\n",
      "(-1.0, -2.0)\n"
     ]
    }
   ],
   "source": [
    "print(solve_quadratic_function(1, 3, 2))"
   ]
  },
  {
   "cell_type": "code",
   "execution_count": 17,
   "metadata": {},
   "outputs": [
    {
     "name": "stdout",
     "output_type": "stream",
     "text": [
      "Your quadratic equation has one real root\n",
      "2.0\n"
     ]
    }
   ],
   "source": [
    "print(solve_quadratic_function(1, -4, 4))"
   ]
  },
  {
   "cell_type": "code",
   "execution_count": 18,
   "metadata": {},
   "outputs": [
    {
     "name": "stdout",
     "output_type": "stream",
     "text": [
      "Your quadratic equation has no real roots\n",
      "None\n"
     ]
    }
   ],
   "source": [
    "print(solve_quadratic_function(1, 1, 2))"
   ]
  },
  {
   "cell_type": "markdown",
   "metadata": {},
   "source": [
    "## Bonus content: Lambda as an anonymous function in Python"
   ]
  },
  {
   "cell_type": "code",
   "execution_count": 19,
   "metadata": {},
   "outputs": [
    {
     "name": "stdout",
     "output_type": "stream",
     "text": [
      "25\n"
     ]
    }
   ],
   "source": [
    "my_function = lambda x: 3 * x + 10\n",
    "print(my_function(5))"
   ]
  },
  {
   "cell_type": "code",
   "execution_count": 20,
   "metadata": {},
   "outputs": [
    {
     "name": "stdout",
     "output_type": "stream",
     "text": [
      "17\n"
     ]
    }
   ],
   "source": [
    "my_function = lambda x, y: x * y + x + y\n",
    "print(my_function(2, 5))"
   ]
  },
  {
   "cell_type": "code",
   "execution_count": 21,
   "metadata": {},
   "outputs": [
    {
     "name": "stdout",
     "output_type": "stream",
     "text": [
      "False\n"
     ]
    }
   ],
   "source": [
    "compare = lambda x, y: x == y\n",
    "print(compare(2, 5))"
   ]
  },
  {
   "cell_type": "code",
   "execution_count": 22,
   "metadata": {},
   "outputs": [
    {
     "name": "stdout",
     "output_type": "stream",
     "text": [
      "True\n"
     ]
    }
   ],
   "source": [
    "is_odd = lambda x: x % 2 == 1\n",
    "print(is_odd(7))"
   ]
  },
  {
   "cell_type": "code",
   "execution_count": 23,
   "metadata": {},
   "outputs": [
    {
     "name": "stdout",
     "output_type": "stream",
     "text": [
      "The length of this list is 9\n"
     ]
    }
   ],
   "source": [
    "list_length = lambda my_list: len(my_list)\n",
    "print(\"The length of this list is\", list_length([1, 2, 3, 4, 5, 6, 7, 8, 9]))"
   ]
  }
 ],
 "metadata": {
  "kernelspec": {
   "display_name": "Python 3.10.0 64-bit ('shims')",
   "language": "python",
   "name": "python3"
  },
  "language_info": {
   "codemirror_mode": {
    "name": "ipython",
    "version": 3
   },
   "file_extension": ".py",
   "mimetype": "text/x-python",
   "name": "python",
   "nbconvert_exporter": "python",
   "pygments_lexer": "ipython3",
   "version": "3.10.0"
  },
  "vscode": {
   "interpreter": {
    "hash": "c28fabd06cc59429ff85a1764202395e700d0cab4a820ec5bf068da32573324c"
   }
  }
 },
 "nbformat": 4,
 "nbformat_minor": 4
}
