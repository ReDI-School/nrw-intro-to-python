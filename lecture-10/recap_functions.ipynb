{
 "cells": [
  {
   "cell_type": "markdown",
   "id": "7322d7f9-5b85-4dcb-90fc-cbc063de56c4",
   "metadata": {},
   "source": [
    "### Exercise 1:\n",
    "Write a function that receives a string from the user and prints the number of times character 'a' is existent in that string.\n",
    "\n",
    "### Exercise 2:\n",
    "Write a function to return True if the first and last number of a given list is same. If numbers are different then return False.\n",
    "\n",
    "### Exercise 3:\n",
    "Given a two lists of numbers, write a function which retruns a sorted list that contains odd numbers from the first list and even numbers from the second list.\n",
    "\n",
    "### Exercise 4: \n",
    "Print multiplication table form 1 to 10\n",
    "\n",
    "### Exercise 5: Make all upper case\n",
    "my_var: str = 'all caps would be great'\n",
    "\n",
    "### Exercise 6: Make all lower case\n",
    "my_var_I_forgot_about: str = 'WHaT iS THis?' \n",
    "\n",
    "### Exercise 7: We need a capital first letter here\n",
    "my_other_var: str = 'manchester' \n",
    "\n",
    "### Exercise 8: Replace the h with a m\n",
    "some_var: str = 'A house is on fire' "
   ]
  }
 ],
 "metadata": {
  "kernelspec": {
   "display_name": "Python 3.10.0 64-bit ('shims')",
   "language": "python",
   "name": "python3"
  },
  "language_info": {
   "codemirror_mode": {
    "name": "ipython",
    "version": 3
   },
   "file_extension": ".py",
   "mimetype": "text/x-python",
   "name": "python",
   "nbconvert_exporter": "python",
   "pygments_lexer": "ipython3",
   "version": "3.10.0"
  },
  "vscode": {
   "interpreter": {
    "hash": "c28fabd06cc59429ff85a1764202395e700d0cab4a820ec5bf068da32573324c"
   }
  }
 },
 "nbformat": 4,
 "nbformat_minor": 5
}
