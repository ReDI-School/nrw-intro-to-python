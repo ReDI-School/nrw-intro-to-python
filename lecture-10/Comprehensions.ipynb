{
 "cells": [
  {
   "cell_type": "markdown",
   "id": "7ce5e68e",
   "metadata": {
    "slideshow": {
     "slide_type": "slide"
    }
   },
   "source": [
    "# Comprehensions\n",
    "> A list comprehension is a syntactic construct available in some programming languages for creating a list based on existing lists.\n",
    ">\n",
    "> (Source: Wikipedia, [\"List Comprehension\"](https://en.wikipedia.org/wiki/List_comprehension))\n",
    "\n",
    "In Python, comprehensions are not only available for lists, but for all of the complex iterable data structures that you have covered, namely\n",
    "* Lists\n",
    "* Tuples\n",
    "* Dicts\n",
    "* Sets\n",
    "\n",
    "You can think of list comprehension as a simple version of a `for`-loop turned upside down (you will see later what I mean).\n",
    "\n",
    "You should use comprehensions, because they are:\n",
    "* more concise (fewer lines of code)\n",
    "* often better readable\n",
    "* often faster (because of how Python works)"
   ]
  },
  {
   "cell_type": "markdown",
   "id": "11583115",
   "metadata": {
    "slideshow": {
     "slide_type": "slide"
    }
   },
   "source": [
    "## Lists\n",
    "\n",
    "Comprehensions that result in lists (list comprehensions) are the most widely used form. So we will mostly cover those!\n",
    "\n",
    "Assume you want to get the list of all integers between 0 and 10 **squared**.\n",
    "A simple `range()` won't work and manually listing all values is not feasible in real life situations.\n",
    "\n",
    "Instead, let's try the following:\n",
    "1. Create a list with all integers from 0 to 10 (that's easy)\n",
    "2. Create a new list where we go through each element of the original list and square it."
   ]
  },
  {
   "cell_type": "code",
   "execution_count": null,
   "id": "59f56b6b",
   "metadata": {
    "slideshow": {
     "slide_type": "subslide"
    }
   },
   "outputs": [],
   "source": [
    "basic_integers = list(range(11))  # up to 10 including, we convert to list so we can reuse it\n",
    "print(basic_integers)"
   ]
  },
  {
   "cell_type": "markdown",
   "id": "f8e2a9ef",
   "metadata": {
    "slideshow": {
     "slide_type": "-"
    }
   },
   "source": [
    "Here is the simple loop logic, using a `print` statement for now."
   ]
  },
  {
   "cell_type": "code",
   "execution_count": null,
   "id": "f1bc3a57",
   "metadata": {
    "slideshow": {
     "slide_type": "subslide"
    }
   },
   "outputs": [],
   "source": [
    "for element in basic_integers:\n",
    "    print(element**2)  # we square the number and print the result"
   ]
  },
  {
   "cell_type": "markdown",
   "id": "adcf74ee-f1ab-464b-a297-f9ccd9a4714f",
   "metadata": {},
   "source": [
    "However, if we want to use the results later, we need to create a new list. This already makes it more cumbersome:"
   ]
  },
  {
   "cell_type": "code",
   "execution_count": null,
   "id": "1f41017d-c658-4c4a-b77d-ac9aef8ef728",
   "metadata": {},
   "outputs": [],
   "source": [
    "squared_integers = []\n",
    "for element in basic_integers:\n",
    "    squared_integers.append(element**2)"
   ]
  },
  {
   "cell_type": "code",
   "execution_count": null,
   "id": "0e289d27-a890-436f-8fa5-ec8e31c9a896",
   "metadata": {},
   "outputs": [],
   "source": [
    "print(squared_integers)"
   ]
  },
  {
   "cell_type": "markdown",
   "id": "5eeb0310",
   "metadata": {
    "slideshow": {
     "slide_type": "slide"
    }
   },
   "source": [
    "(List) comprehension makes the code above much more concise. We can create a new list from an existing iterable with a statement of the form\n",
    "```python\n",
    "[some_statement for value in iterable]\n",
    "```\n",
    "\n",
    "Here\n",
    "* `some_statement` is the statement that returns the values of your new list. It will usually (but does not have to) depend on `value`.\n",
    "* `value` is the loop variable, each element in `iterable` will be assigned to this variable\n",
    "* `iterable` is an iterable object (e.g. a list)\n",
    "\n",
    "A list comprehension always creates a new list by default!\n",
    "\n",
    "Above code becomes as easy as:"
   ]
  },
  {
   "cell_type": "code",
   "execution_count": null,
   "id": "b050daa8-4f26-4da6-b3c2-fbe3fa50c646",
   "metadata": {},
   "outputs": [],
   "source": [
    "squared_integers = [element**2 for element in basic_integers]"
   ]
  },
  {
   "cell_type": "code",
   "execution_count": null,
   "id": "660024da-9507-4485-b36e-6bcb338365f3",
   "metadata": {},
   "outputs": [],
   "source": [
    "print(squared_integers)"
   ]
  },
  {
   "cell_type": "markdown",
   "id": "58808ccd",
   "metadata": {
    "slideshow": {
     "slide_type": "slide"
    }
   },
   "source": [
    "#### Exercise:\n",
    "Write the following for loop as list comprehension"
   ]
  },
  {
   "cell_type": "code",
   "execution_count": null,
   "id": "9ce1c73d",
   "metadata": {
    "slideshow": {
     "slide_type": "subslide"
    }
   },
   "outputs": [],
   "source": [
    "car_brands = ['Mazda', 'BMW', 'Ford', 'Opel']\n",
    "car_brands_fl = []\n",
    "    \n",
    "# Take the first letter of each brand name and lower it, then store it in a new list `car_brands_fl`\n",
    "for car_brand in car_brands:\n",
    "    car_brands_fl.append(car_brand.lower())\n",
    "    \n",
    "print(car_brands_fl)"
   ]
  },
  {
   "cell_type": "code",
   "execution_count": null,
   "id": "a07bc269-7e02-45bf-ba1a-53c4fc886695",
   "metadata": {},
   "outputs": [],
   "source": []
  },
  {
   "cell_type": "markdown",
   "id": "7474c25d",
   "metadata": {
    "slideshow": {
     "slide_type": "slide"
    }
   },
   "source": [
    "#### Solution:\n",
    "If you get stuck or want to compare nodes, execute the following cell to see the solution."
   ]
  },
  {
   "cell_type": "code",
   "execution_count": null,
   "id": "97ac4565",
   "metadata": {
    "slideshow": {
     "slide_type": "subslide"
    }
   },
   "outputs": [],
   "source": [
    "%load solutions/list_comprehension_car_brands.py"
   ]
  },
  {
   "cell_type": "markdown",
   "id": "8fad2c82",
   "metadata": {
    "slideshow": {
     "slide_type": "slide"
    }
   },
   "source": [
    "## Conditions\n",
    "So far, every item in our base list corresponded to an item in the resulting list. However, we can be more picky, by adding an `if` clause to the list comprehension.\n",
    "\n",
    "Let's create a simple list of animals and then create a second list that only contains animal names that contain the letter 'e'.\n",
    "\n",
    "In our old logic, this would look like:"
   ]
  },
  {
   "cell_type": "code",
   "execution_count": null,
   "id": "a7e45f73",
   "metadata": {
    "slideshow": {
     "slide_type": "subslide"
    }
   },
   "outputs": [],
   "source": [
    "# Our little list of animals\n",
    "animals = ['cat', 'horse', 'fish', 'dog', 'zebra', 'lion', 'mouse']\n",
    "\n",
    "# Create new empty list for animals containing an e:\n",
    "animals_with_e = []\n",
    "    \n",
    "# Add logic:\n",
    "for animal in animals:\n",
    "    # Check if animal string contains an 'e'\n",
    "    if 'e' in animal:  # check the condition\n",
    "        # Add it to the list\n",
    "        animals_with_e.append(animal)\n",
    "print(animals_with_e)"
   ]
  },
  {
   "cell_type": "markdown",
   "id": "be2febb1",
   "metadata": {
    "slideshow": {
     "slide_type": "slide"
    }
   },
   "source": [
    "That is quite a lot of code so let's make use of a more elaborate list comprehension syntax (using multiple lines here for redability):\n",
    "```python\n",
    "[\n",
    "    some_statement\n",
    "    for value in iterable\n",
    "    if condition\n",
    "]\n",
    "```\n",
    "\n",
    "Here:\n",
    "* `some_statement` is the statement that returns the values of your new list. It will usually (but does not have to) depend on `value`.\n",
    "* `value` is the loop variable, each element in `iterable` will be assigned to this variable\n",
    "* `iterable` is an iterable object (e.g. a list)\n",
    "* `condition` is an expression that evaluates to `True` or `False`. It will almost always depend on `value`."
   ]
  },
  {
   "cell_type": "code",
   "execution_count": null,
   "id": "8cf4d069",
   "metadata": {
    "slideshow": {
     "slide_type": "subslide"
    }
   },
   "outputs": [],
   "source": [
    "animals_with_e = [\n",
    "    animal.upper()\n",
    "    for animal in animals\n",
    "    if 'e' in animal\n",
    "]\n",
    "print(animals_with_e)"
   ]
  },
  {
   "cell_type": "markdown",
   "id": "51bdd64b",
   "metadata": {
    "slideshow": {
     "slide_type": "slide"
    }
   },
   "source": [
    "#### Exercise:\n",
    "Write a list comprehension that filters a list of integers (as given below) to only contain numbers\n",
    "* That are divisible by 3\n",
    "* **or** if the number - 1 is divisible by 5!"
   ]
  },
  {
   "cell_type": "code",
   "execution_count": null,
   "id": "612b2002-39f1-40be-afbd-9e64a3ce78c6",
   "metadata": {},
   "outputs": [],
   "source": [
    "my_random_numbers = [2, 6, 7, 10, 11, 15]\n",
    "\n",
    "# write your solution here"
   ]
  },
  {
   "cell_type": "markdown",
   "id": "db7d1ebf",
   "metadata": {
    "slideshow": {
     "slide_type": "slide"
    }
   },
   "source": [
    "#### Solution:\n",
    "If you get stuck or want to compare nodes, execute the following cell to see the solution."
   ]
  },
  {
   "cell_type": "code",
   "execution_count": null,
   "id": "d3ddbd0b",
   "metadata": {
    "slideshow": {
     "slide_type": "subslide"
    }
   },
   "outputs": [],
   "source": [
    "%load solutions/list_comprehension_filtered_numbers.py"
   ]
  },
  {
   "cell_type": "markdown",
   "id": "3bc7a7e2",
   "metadata": {
    "slideshow": {
     "slide_type": "slide"
    }
   },
   "source": [
    "## Nested Loops\n",
    "\n",
    "Comprehension statements allow even for nested loops. This can be useful e.g. when\n",
    "* we have nested data (e.g. lists of lists)\n",
    "* we want to pair every item from one list with every item from another list ([\"Cartesian Product\"](https://en.wikipedia.org/wiki/Cartesian_product)).\n",
    "\n",
    "### Working with Lists of Lists\n",
    "Sometime we want to work with list of lists: \n",
    "\n",
    "```python\n",
    "list_of_lists = [[1, 2, 3], [4, 5, 6], [7, 8, 9]]\n",
    "```\n",
    "One common task is to create one list with all elements of sublists (\"flattened list\"). I.e. here\n",
    "```python\n",
    "flattened_list = [1, 2, 3, 4, 5, 6, 7, 8, 9]\n",
    "```\n",
    "\n",
    "Without comprehension, the code would look like this:"
   ]
  },
  {
   "cell_type": "code",
   "execution_count": null,
   "id": "9c53b7f4",
   "metadata": {
    "slideshow": {
     "slide_type": "subslide"
    }
   },
   "outputs": [],
   "source": [
    "list_of_lists = [[1, 2, 3], [4, 5, 6], [7, 8, 9]]\n",
    "\n",
    "flattened_list = []\n",
    "for l in list_of_lists:\n",
    "    # extract each list\n",
    "    for e in l:  # l is again a list\n",
    "        # extract each element of that list\n",
    "        flattened_list.append(e)\n",
    "        \n",
    "print(flattened_list)"
   ]
  },
  {
   "cell_type": "markdown",
   "id": "074b2040",
   "metadata": {
    "slideshow": {
     "slide_type": "slide"
    }
   },
   "source": [
    "And now let's simplify that with a comprehension. We can simply add multiple `for` statements that define multiple loop variables.\n",
    "```python\n",
    "[\n",
    "    expression\n",
    "    for sub_list in list_of_lists\n",
    "    for element in sub_list\n",
    "]\n",
    "```\n",
    "So starting with the first `for` you can just write as you would write it in nested for-loops:"
   ]
  },
  {
   "cell_type": "code",
   "execution_count": null,
   "id": "899a4e39",
   "metadata": {
    "slideshow": {
     "slide_type": "subslide"
    }
   },
   "outputs": [],
   "source": [
    "flattened_list = [  # line breaks are again optional and added for readability\n",
    "    e\n",
    "    for l in list_of_lists\n",
    "    for e in l\n",
    "]\n",
    "print(flattened_list)"
   ]
  },
  {
   "cell_type": "markdown",
   "id": "a6233918",
   "metadata": {
    "slideshow": {
     "slide_type": "slide"
    }
   },
   "source": [
    "#### Exercise:  \n",
    "Again starting with a list of lists of integers, create a flattened list that only contains those integers that\n",
    "* appear at the first or second position of their sublists\n",
    "* are even (divisble by 2)"
   ]
  },
  {
   "cell_type": "code",
   "execution_count": null,
   "id": "58c430c5",
   "metadata": {
    "slideshow": {
     "slide_type": "subslide"
    }
   },
   "outputs": [],
   "source": [
    "list_of_lists = [[1, 2, 3], [4, 5, 6], [7, 8, 9]]\n",
    "\n",
    "# write your solution here"
   ]
  },
  {
   "cell_type": "markdown",
   "id": "d1be2d35",
   "metadata": {
    "slideshow": {
     "slide_type": "slide"
    }
   },
   "source": [
    "#### Solution:\n",
    "If you get stuck or want to compare nodes, execute the following cell to see the solution."
   ]
  },
  {
   "cell_type": "code",
   "execution_count": null,
   "id": "078d1e47",
   "metadata": {
    "slideshow": {
     "slide_type": "subslide"
    }
   },
   "outputs": [],
   "source": [
    "%load solutions/list_comprehension_list_of_lists.py"
   ]
  },
  {
   "cell_type": "markdown",
   "id": "72058e82-93d1-4b0f-9b57-6b2c55b5ded8",
   "metadata": {},
   "source": [
    "### Combining iterables\n",
    "The inner for loop does not have to iterate over the loop variable of the outer loop, but use any iterable. We can use this for example to call a function with **every combination** of values from two lists."
   ]
  },
  {
   "cell_type": "code",
   "execution_count": null,
   "id": "e7a7a7e2-0919-4bb0-a422-e7c89c180655",
   "metadata": {},
   "outputs": [],
   "source": [
    "multiples = [1, 2, 3]\n",
    "characters = ['a', 'b', 'c']\n",
    "\n",
    "def repeat_characters(character, times):\n",
    "    return character * times\n",
    "\n",
    "my_result = [\n",
    "    repeat_characters(character, times)\n",
    "    for character in characters\n",
    "    for times in multiples\n",
    "]\n",
    "\n",
    "print(my_result)"
   ]
  },
  {
   "cell_type": "markdown",
   "id": "ac3d79b8-19cb-46d2-adc2-31dd5bfd5bd8",
   "metadata": {},
   "source": [
    "## Tuple Comprehension\n",
    "To create a `Tuple` instead of a list, simply replace the square brackes (`[]`) by round ones and the class name (`tuple()`).\n",
    "\n",
    "I.e.:\n",
    "```python\n",
    "tuple(i**2 for i in range(11))\n",
    "```"
   ]
  },
  {
   "cell_type": "markdown",
   "id": "7fe0a13f-0f9c-4b15-bb6f-d40d0b65344b",
   "metadata": {},
   "source": [
    "## Set Comprehension\n",
    "To create a `Set` instead of a list, simply replace the square brackes (`[]`) by curly ones (`{}`).\n",
    "\n",
    "I.e.:\n",
    "```python\n",
    "{i**2 for i in range(11)}\n",
    "```\n",
    "Note that sets cannot have duplicate entries. Any duplicates are automatically removed! Think about the result of the following set comprehension:"
   ]
  },
  {
   "cell_type": "code",
   "execution_count": null,
   "id": "3bf1bab7-4990-4b50-9e98-5c4e7a7bc6ae",
   "metadata": {},
   "outputs": [],
   "source": [
    "{\n",
    "    i % 2\n",
    "    for i in range(100)\n",
    "}"
   ]
  },
  {
   "cell_type": "markdown",
   "id": "2a264b81",
   "metadata": {
    "slideshow": {
     "slide_type": "slide"
    }
   },
   "source": [
    "## Dict Comprehension\n",
    "We can also use comprehension to create dictionaries from other iterables. The notation is:\n",
    "```python\n",
    "{\n",
    "    key: value\n",
    "    for element in iterable\n",
    "    # optional further for-statements (as for list comprehension)\n",
    "    # optional if statements (as for list comprehension)\n",
    "}\n",
    "```\n",
    "\n",
    "Note that both `key` and `value` can depend on the loop variables.\n",
    "\n",
    "We can create e.g. a dictionary that maps every integer between 0 and 10 to its square:"
   ]
  },
  {
   "cell_type": "code",
   "execution_count": null,
   "id": "0904609b",
   "metadata": {
    "slideshow": {
     "slide_type": "subslide"
    }
   },
   "outputs": [],
   "source": [
    "keys = range(11)\n",
    "square_dict = {\n",
    "    element: element**2\n",
    "    for element in keys\n",
    "}\n",
    "print(square_dict)"
   ]
  },
  {
   "cell_type": "markdown",
   "id": "b3650f3a-8156-4b95-9362-1e5f493e9c1d",
   "metadata": {},
   "source": [
    "For comparison, here is the old approach:"
   ]
  },
  {
   "cell_type": "code",
   "execution_count": null,
   "id": "a4ed2ac3",
   "metadata": {
    "slideshow": {
     "slide_type": "subslide"
    }
   },
   "outputs": [],
   "source": [
    "square_dict = {}\n",
    "keys = range(11)\n",
    "for element in keys:\n",
    "    square_dict[element] = element**2\n",
    "    \n",
    "print(square_dict)"
   ]
  },
  {
   "cell_type": "markdown",
   "id": "26535f13-d3e6-468d-ae77-76d0e94baba7",
   "metadata": {},
   "source": [
    "### Dict Comprehension from two Lists\n",
    "A common problem is to create a dictionary from two lists (one with the keys, one with the respective values)."
   ]
  },
  {
   "cell_type": "code",
   "execution_count": null,
   "id": "ce7aa68f-4ad5-48be-9fc1-cd6de7d16f5d",
   "metadata": {},
   "outputs": [],
   "source": [
    "keys = ['banana', 'grapefruit', 'apple']  # e.g. product identifiers\n",
    "values = [5, 11, 34]  # e.g. product prices"
   ]
  },
  {
   "cell_type": "markdown",
   "id": "0891d773",
   "metadata": {
    "slideshow": {
     "slide_type": "slide"
    }
   },
   "source": [
    "How can we do this?\n",
    "\n",
    "#### 1. The \"old\" approach (no comprehension)"
   ]
  },
  {
   "cell_type": "code",
   "execution_count": null,
   "id": "f1be5a04-a103-42bd-b1c7-19088c140854",
   "metadata": {},
   "outputs": [],
   "source": [
    "d = {}\n",
    "for i in range(len(keys)):  # iterate over indices of both lists\n",
    "    d[keys[i]] = values[i]\n",
    "print(d)"
   ]
  },
  {
   "cell_type": "markdown",
   "id": "95af312f-9719-4d3c-921d-e5cdc6064f50",
   "metadata": {
    "tags": []
   },
   "source": [
    "#### 2. Using [`enumerate`](https://docs.python.org/3/library/functions.html#enumerate) to get index and value at the same time"
   ]
  },
  {
   "cell_type": "code",
   "execution_count": null,
   "id": "caf0354a-0140-4b26-b741-c43f1f69e64d",
   "metadata": {},
   "outputs": [],
   "source": [
    "print(list(enumerate(keys)))"
   ]
  },
  {
   "cell_type": "code",
   "execution_count": null,
   "id": "08ff3804-6117-4a60-ac96-286843fe99ce",
   "metadata": {},
   "outputs": [],
   "source": [
    "d = {\n",
    "    key_value_pair[1]: values[key_value_pair[0]]\n",
    "    for key_value_pair in enumerate(keys)\n",
    "}\n",
    "print(d)"
   ]
  },
  {
   "cell_type": "markdown",
   "id": "87e48ba6-9947-4e32-a294-5d5fd5773a48",
   "metadata": {},
   "source": [
    "We can also decompose iterables (e.g. tuples) into multiple variables:"
   ]
  },
  {
   "cell_type": "code",
   "execution_count": null,
   "id": "10e49672-d52a-44ca-b924-81dc13bdf101",
   "metadata": {},
   "outputs": [],
   "source": [
    "a, b = (1, 2)\n",
    "print(f'a={a} and b={b}')"
   ]
  },
  {
   "cell_type": "code",
   "execution_count": null,
   "id": "67f790a4-155b-4d7f-9a73-4f10c1efae20",
   "metadata": {},
   "outputs": [],
   "source": [
    "d = {\n",
    "    key: values[i]\n",
    "    for i, key in enumerate(keys)\n",
    "}\n",
    "print(d)"
   ]
  },
  {
   "cell_type": "markdown",
   "id": "6ef8a1e2-db44-4c81-b179-e1513ce02a22",
   "metadata": {},
   "source": [
    "#### 3. Creating a joint iterator over both lists using [`zip`](https://docs.python.org/3/library/functions.html#zip)"
   ]
  },
  {
   "cell_type": "code",
   "execution_count": null,
   "id": "473d36ca-321b-441d-b8cc-965fb13ef3da",
   "metadata": {},
   "outputs": [],
   "source": [
    "print(list(zip(keys, values)))"
   ]
  },
  {
   "cell_type": "code",
   "execution_count": null,
   "id": "930890f2-a3fb-4a1e-9c2c-34211d94e5ea",
   "metadata": {},
   "outputs": [],
   "source": [
    "d = {\n",
    "    key: value\n",
    "    for key, value in zip(keys, values)  # again, we decompose the key/value provided by zip() into two variables\n",
    "}\n",
    "print(d)"
   ]
  }
 ],
 "metadata": {
  "kernelspec": {
   "display_name": "Python 3 (ipykernel)",
   "language": "python",
   "name": "python3"
  },
  "language_info": {
   "codemirror_mode": {
    "name": "ipython",
    "version": 3
   },
   "file_extension": ".py",
   "mimetype": "text/x-python",
   "name": "python",
   "nbconvert_exporter": "python",
   "pygments_lexer": "ipython3",
   "version": "3.9.6"
  }
 },
 "nbformat": 4,
 "nbformat_minor": 5
}
