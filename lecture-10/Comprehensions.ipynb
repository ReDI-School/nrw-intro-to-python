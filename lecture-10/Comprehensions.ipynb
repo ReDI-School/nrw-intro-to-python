{
 "cells": [
  {
   "cell_type": "markdown",
   "id": "7ce5e68e",
   "metadata": {
    "slideshow": {
     "slide_type": "slide"
    }
   },
   "source": [
    "# Comprehensions"
   ]
  },
  {
   "cell_type": "markdown",
   "id": "11583115",
   "metadata": {
    "slideshow": {
     "slide_type": "slide"
    }
   },
   "source": [
    "## Lists"
   ]
  },
  {
   "cell_type": "code",
   "execution_count": null,
   "id": "59f56b6b",
   "metadata": {
    "slideshow": {
     "slide_type": "subslide"
    }
   },
   "outputs": [],
   "source": [
    "my_basic_list: list = [1, 2, 3, 4, 5, 6, 7]\n",
    "my_awesome_val: int = 5"
   ]
  },
  {
   "cell_type": "markdown",
   "id": "f8e2a9ef",
   "metadata": {
    "slideshow": {
     "slide_type": "-"
    }
   },
   "source": [
    "Simple for-loop over a given list, adding a defined value to the element of the list"
   ]
  },
  {
   "cell_type": "code",
   "execution_count": null,
   "id": "f1bc3a57",
   "metadata": {
    "slideshow": {
     "slide_type": "subslide"
    }
   },
   "outputs": [],
   "source": [
    "for element in my_basic_list:\n",
    "    print(element + my_awesome_val)"
   ]
  },
  {
   "cell_type": "markdown",
   "id": "5eeb0310",
   "metadata": {
    "slideshow": {
     "slide_type": "slide"
    }
   },
   "source": [
    "You can now transform the for loop into a list-comprehesion with the basic format of:\n",
    "`[x for x in my_list]`\n",
    "\n",
    "The first x in the comprehension is where you can apply logic, the second x is your current index and the last parameter at the end you list.\n",
    "A list comprehension always creates a new list by default!"
   ]
  },
  {
   "cell_type": "code",
   "execution_count": null,
   "id": "ee0921a7",
   "metadata": {
    "slideshow": {
     "slide_type": "subslide"
    }
   },
   "outputs": [],
   "source": [
    "my_test_list: list = [1, 2, 3]\n",
    "my_substract_value: int = 1\n",
    "\n",
    "print(f'My test list: {my_test_list}')\n",
    "\n",
    "my_new_list: list = []\n",
    "for element in my_test_list:\n",
    "    my_new_list.append(element - my_substract_value)\n",
    "\n",
    "print(f'My new list: {my_new_list}')"
   ]
  },
  {
   "cell_type": "markdown",
   "id": "1da79c68",
   "metadata": {
    "slideshow": {
     "slide_type": "slide"
    }
   },
   "source": [
    "And now with a comprehension:"
   ]
  },
  {
   "cell_type": "code",
   "execution_count": null,
   "id": "396fefee",
   "metadata": {
    "slideshow": {
     "slide_type": "subslide"
    }
   },
   "outputs": [],
   "source": [
    "my_new_comp_list: list = [float(e - my_substract_value) for e in my_test_list]\n",
    "\n",
    "print(f'My new comprehension list: {my_new_comp_list}')"
   ]
  },
  {
   "cell_type": "markdown",
   "id": "8ceab07e",
   "metadata": {
    "slideshow": {
     "slide_type": "slide"
    }
   },
   "source": [
    "As you can see we reduced the amount of code for this simple task from 5 lines to 2 lines\n",
    "\n",
    "Now see what always creating an new list means.\n",
    "\n",
    "First let's check the return value of the print() function:"
   ]
  },
  {
   "cell_type": "code",
   "execution_count": null,
   "id": "8ddfa487",
   "metadata": {
    "slideshow": {
     "slide_type": "subslide"
    }
   },
   "outputs": [],
   "source": [
    "test_var = print('Hello world')\n",
    "print(test_var)"
   ]
  },
  {
   "cell_type": "markdown",
   "id": "3eeabfe1",
   "metadata": {
    "slideshow": {
     "slide_type": "slide"
    }
   },
   "source": [
    "So printing in a list comprehension should create a new list of the return values of the print() function:"
   ]
  },
  {
   "cell_type": "code",
   "execution_count": null,
   "id": "ac75b793",
   "metadata": {
    "slideshow": {
     "slide_type": "subslide"
    }
   },
   "outputs": [],
   "source": [
    "return_val_list: list = [print(element + my_awesome_val) for element in my_basic_list]\n",
    "print(return_val_list)"
   ]
  },
  {
   "cell_type": "markdown",
   "id": "58808ccd",
   "metadata": {
    "slideshow": {
     "slide_type": "slide"
    }
   },
   "source": [
    "### Exercise:\n",
    "Write the following for loop as list comprehension\n",
    "\n",
    "Too easy? Join the letters to one word and capitalize the first letter!"
   ]
  },
  {
   "cell_type": "code",
   "execution_count": null,
   "id": "9ce1c73d",
   "metadata": {
    "slideshow": {
     "slide_type": "subslide"
    }
   },
   "outputs": [],
   "source": [
    "car_brands: list = ['Mazda', 'BMW', 'Ford', 'Opel']\n",
    "car_brands_fl: list = []\n",
    "    \n",
    "# Take the first letter of each brand name and lower it, then store it in a new list `car_brands_fl`\n",
    "for car_brand in car_brands:\n",
    "    car_brands_fl.append(car_brand[0].lower())\n",
    "    \n",
    "print(car_brands_fl)"
   ]
  },
  {
   "cell_type": "markdown",
   "id": "7474c25d",
   "metadata": {
    "slideshow": {
     "slide_type": "slide"
    }
   },
   "source": [
    "### Solution:\n",
    "Write the following for loop as list comprehension"
   ]
  },
  {
   "cell_type": "code",
   "execution_count": null,
   "id": "97ac4565",
   "metadata": {
    "slideshow": {
     "slide_type": "subslide"
    }
   },
   "outputs": [],
   "source": [
    "car_brands: list = ['BMW', 'Opel', 'Rolls-Royce', 'Infiniti', 'Nissan', 'General Motors']\n",
    "car_brands_fl: list = [car_brand[0].lower() for car_brand in car_brands]\n",
    "\n",
    "print(car_brands_fl)\n",
    "\n",
    "print(''.join(car_brands_fl).capitalize())"
   ]
  },
  {
   "cell_type": "markdown",
   "id": "8fad2c82",
   "metadata": {
    "slideshow": {
     "slide_type": "slide"
    }
   },
   "source": [
    "### Adding conditions:\n",
    "Now we add some if statements  🙃 \n",
    "\n",
    "Let's create a simple list of animals and create a new the animal name contains an 'e':"
   ]
  },
  {
   "cell_type": "code",
   "execution_count": null,
   "id": "a7e45f73",
   "metadata": {
    "slideshow": {
     "slide_type": "subslide"
    }
   },
   "outputs": [],
   "source": [
    "# Our little list of animals\n",
    "animals: list = ['cat', 'horse', 'fish', 'dog', 'zebra', 'lion', 'mouse']\n",
    "\n",
    "# Create new empty list for animals containing an e:\n",
    "animals_with_e: list = []\n",
    "    \n",
    "# Add logic:\n",
    "for animal in animals:\n",
    "    # Check if animal string contains an 'e'\n",
    "    if 'e' in animal:\n",
    "        # Add it to the list\n",
    "        animals_with_e.append(animal)\n",
    "print(animals_with_e)"
   ]
  },
  {
   "cell_type": "markdown",
   "id": "be2febb1",
   "metadata": {
    "slideshow": {
     "slide_type": "slide"
    }
   },
   "source": [
    "That is quite a lot of code so let's create a list comprehension:\n",
    "`new_list: list = [x for x in my_list if 'e' in x]`"
   ]
  },
  {
   "cell_type": "code",
   "execution_count": null,
   "id": "8cf4d069",
   "metadata": {
    "slideshow": {
     "slide_type": "subslide"
    }
   },
   "outputs": [],
   "source": [
    "animals_with_e = [animal for animal in animals if 'e' in animal]\n",
    "print(animals_with_e)"
   ]
  },
  {
   "cell_type": "markdown",
   "id": "01d40774",
   "metadata": {},
   "source": [
    "With else statement\n",
    "The structure will change:\n",
    "\n",
    "Python\n",
    "```\n",
    "new_list: list = [x if 😏 in x else 🙃 for x in my_list]\n",
    "```"
   ]
  },
  {
   "cell_type": "code",
   "execution_count": null,
   "id": "ac81eef1",
   "metadata": {},
   "outputs": [],
   "source": [
    "animals_new = []\n",
    "for animal in animals:\n",
    "    if 'e' in animal:\n",
    "        animals_new.append(f'I do like this animal {animal}')\n",
    "    animals_new.append(f'I do not like this animal {animal}')\n",
    "\n",
    "print(animals_new)\n",
    "\n",
    "animals_new = [f'I do like this animal {animal}' if 'e' in animal else f'I do not like this animal {animal}' for animal in animals]\n",
    "print(animals_new)"
   ]
  },
  {
   "cell_type": "markdown",
   "id": "2d82af60",
   "metadata": {
    "slideshow": {
     "slide_type": "slide"
    }
   },
   "source": [
    "And here an example with numbers:"
   ]
  },
  {
   "cell_type": "code",
   "execution_count": null,
   "id": "695ed354",
   "metadata": {
    "slideshow": {
     "slide_type": "subslide"
    }
   },
   "outputs": [],
   "source": [
    "import random as rnd\n",
    "\n",
    "# Creates a random in between 0 and 9\n",
    "rnd.randint(0, 9)\n"
   ]
  },
  {
   "cell_type": "code",
   "execution_count": null,
   "id": "4780b356",
   "metadata": {
    "slideshow": {
     "slide_type": "subslide"
    }
   },
   "outputs": [],
   "source": [
    "# Create a list of random numbers:\n",
    "my_random_numbers: list = [rnd.randint(0, 9) for _ in range(10)]\n",
    "print(my_random_numbers)"
   ]
  },
  {
   "cell_type": "code",
   "execution_count": null,
   "id": "d1a83813",
   "metadata": {
    "slideshow": {
     "slide_type": "subslide"
    }
   },
   "outputs": [],
   "source": [
    "# Create two lists: One with numbers from 0 to 5 and one from 5 to 10:\n",
    "numbers_less_five: list = [number for number in my_random_numbers if number <= 5]\n",
    "numbers_bigger_five: list = [number for number in my_random_numbers if number >= 5]\n",
    "\n",
    "print(numbers_less_five)\n",
    "print(numbers_bigger_five)"
   ]
  },
  {
   "cell_type": "markdown",
   "id": "5ba30ab0",
   "metadata": {
    "slideshow": {
     "slide_type": "slide"
    }
   },
   "source": [
    "Let's create a function that filters our input list"
   ]
  },
  {
   "cell_type": "code",
   "execution_count": null,
   "id": "045eeb6f",
   "metadata": {
    "slideshow": {
     "slide_type": "subslide"
    }
   },
   "outputs": [],
   "source": [
    "import operator\n",
    "\n",
    "# We can't use an operator as string that's why we need to use the operator functions in Python\n",
    "# For readability we let the user use a string and handle the logic on our end\n",
    "# In our case for > (greater than) operator.gt(list_element, filter_parameter)\n",
    "\n",
    "operator_mapping: dict = {\n",
    "        '>': operator.gt,\n",
    "        '<': operator.lt,\n",
    "        '>=': operator.ge,\n",
    "        '<=': operator.le,\n",
    "        '=': operator.eq\n",
    "    }\n",
    "\n",
    "\n",
    "def filter_on_val(input_list: list, filter_parameter: int, operator: str) -> list:\n",
    "    return [e for e in input_list if operator_mapping[operator](e, filter_parameter)]\n",
    "\n",
    "\n",
    "print(filter_on_val(my_random_numbers, 5, '<'))\n",
    "print(filter_on_val(my_random_numbers, 5, '>'))"
   ]
  },
  {
   "cell_type": "markdown",
   "id": "6a846dbc",
   "metadata": {
    "slideshow": {
     "slide_type": "slide"
    }
   },
   "source": [
    "Now let's add more if/else fun!"
   ]
  },
  {
   "cell_type": "code",
   "execution_count": null,
   "id": "128b321c",
   "metadata": {
    "slideshow": {
     "slide_type": "subslide"
    }
   },
   "outputs": [],
   "source": [
    "my_random_numbers: list = [rnd.randint(0, 9) for x in range(10)]\n",
    "print(my_random_numbers)\n",
    "# We only want values between 3 and 5\n",
    "\n",
    "my_new_list: list = [\n",
    "    x for x in my_random_numbers \n",
    "    if x <= 5 and x >= 3\n",
    "]\n",
    "\n",
    "print(my_new_list)"
   ]
  },
  {
   "cell_type": "markdown",
   "id": "51bdd64b",
   "metadata": {
    "slideshow": {
     "slide_type": "slide"
    }
   },
   "source": [
    "### Exercise:\n",
    "Write a list comprehension that filters our list and only returns the values equal to `2`, `6` and `9`\n",
    "\n",
    "Too easy? Adjust the logic to only return values that substracted by `1` equal to `2`, `6` and `9`."
   ]
  },
  {
   "cell_type": "code",
   "execution_count": null,
   "id": "610e16bc",
   "metadata": {
    "slideshow": {
     "slide_type": "subslide"
    }
   },
   "outputs": [],
   "source": [
    "our_new_list: list = [rnd.randint(0, 9) for x in range(10)]\n",
    "print(our_new_list)"
   ]
  },
  {
   "cell_type": "markdown",
   "id": "db7d1ebf",
   "metadata": {
    "slideshow": {
     "slide_type": "slide"
    }
   },
   "source": [
    "### Solution:"
   ]
  },
  {
   "cell_type": "code",
   "execution_count": null,
   "id": "d3ddbd0b",
   "metadata": {
    "slideshow": {
     "slide_type": "subslide"
    }
   },
   "outputs": [],
   "source": [
    "our_new_list_filtered: list = [\n",
    "    x for x in our_new_list \n",
    "    if x == 2 or x == 6 or x == 9\n",
    "]\n",
    "    \n",
    "print(our_new_list_filtered)\n",
    "\n",
    "# Or prettier:\n",
    "\n",
    "our_new_list_filtered: list = [\n",
    "    x for x in our_new_list \n",
    "    if x in [2, 6, 9]\n",
    "]\n",
    "    \n",
    "print(our_new_list_filtered)"
   ]
  },
  {
   "cell_type": "code",
   "execution_count": null,
   "id": "bef195fa",
   "metadata": {
    "slideshow": {
     "slide_type": "subslide"
    }
   },
   "outputs": [],
   "source": [
    "our_new_list_filtered: list = [\n",
    "    x for x in our_new_list \n",
    "    if x - 1 in [2, 6, 9]\n",
    "]\n",
    "\n",
    "print(our_new_list_filtered)"
   ]
  },
  {
   "cell_type": "markdown",
   "id": "3bc7a7e2",
   "metadata": {
    "slideshow": {
     "slide_type": "slide"
    }
   },
   "source": [
    "## Nested:\n",
    "\n",
    "Sometime we want to work with list of lists: \n",
    "Python\n",
    "```\n",
    "list_of_lists: list = [[1, 2, 3], [4, 5, 6], [7, 8, 9]]\n",
    "```\n",
    "So let's merge this list of lists into one list:"
   ]
  },
  {
   "cell_type": "code",
   "execution_count": null,
   "id": "9c53b7f4",
   "metadata": {
    "slideshow": {
     "slide_type": "subslide"
    }
   },
   "outputs": [],
   "source": [
    "our_list_of_lists: list = [[1, 2, 3], [4, 5, 6], [7, 8, 9]]\n",
    "\n",
    "as_one_list: list = []\n",
    "for l in our_list_of_lists:\n",
    "    # extract each list\n",
    "    for e in l:\n",
    "        # extract each element of that list\n",
    "        as_one_list.append(e)\n",
    "        \n",
    "print(as_one_list)"
   ]
  },
  {
   "cell_type": "markdown",
   "id": "074b2040",
   "metadata": {
    "slideshow": {
     "slide_type": "slide"
    }
   },
   "source": [
    "And now let's simplify that with a comprehension  🙃   \n",
    "`[element for sub_list in list for element in sub_list]`  \n",
    "So starting with the first \"for\" you can just write as you would write it in nested for-loops:"
   ]
  },
  {
   "cell_type": "code",
   "execution_count": null,
   "id": "899a4e39",
   "metadata": {
    "slideshow": {
     "slide_type": "subslide"
    }
   },
   "outputs": [],
   "source": [
    "as_one_list: list = [e for l in our_list_of_lists for e in l]\n",
    "print(as_one_list)"
   ]
  },
  {
   "cell_type": "markdown",
   "id": "a6233918",
   "metadata": {
    "slideshow": {
     "slide_type": "slide"
    }
   },
   "source": [
    "### Exercise:  \n",
    "Let's use our nested list and only return the first two elements of each sub list.\n",
    "\n",
    "Too easy? Only take the last element of each sub list, add the value `9` to each sublist and add 3 to each element if the element -4 is >= 0. Then sum all values of the new list."
   ]
  },
  {
   "cell_type": "code",
   "execution_count": null,
   "id": "58c430c5",
   "metadata": {
    "slideshow": {
     "slide_type": "subslide"
    }
   },
   "outputs": [],
   "source": [
    "our_list: list = [[1, 2, 3], [4, 5, 6], [7, 8, 9]]\n",
    "print(our_list)"
   ]
  },
  {
   "cell_type": "markdown",
   "id": "d1be2d35",
   "metadata": {
    "slideshow": {
     "slide_type": "slide"
    }
   },
   "source": [
    "### Solution:"
   ]
  },
  {
   "cell_type": "code",
   "execution_count": null,
   "id": "078d1e47",
   "metadata": {
    "slideshow": {
     "slide_type": "subslide"
    }
   },
   "outputs": [],
   "source": [
    "my_solution = [element for sub_list in our_list for element in sub_list[:2]]\n",
    "print(my_solution)"
   ]
  },
  {
   "cell_type": "code",
   "execution_count": null,
   "id": "8b234e97",
   "metadata": {
    "slideshow": {
     "slide_type": "subslide"
    }
   },
   "outputs": [],
   "source": [
    "my_solution = [e + 3 for l in our_list for e in l[-1:] + [9] if e - 4 >= 0]\n",
    "print(my_solution)\n",
    "print(sum(my_solution))"
   ]
  },
  {
   "cell_type": "markdown",
   "id": "2c00bb86",
   "metadata": {
    "slideshow": {
     "slide_type": "subslide"
    }
   },
   "source": [
    "You can as well use the `itertools` built in solution in python for more complex stuff!   \n",
    "https://docs.python.org/3/library/itertools.html"
   ]
  },
  {
   "cell_type": "markdown",
   "id": "2a264b81",
   "metadata": {
    "slideshow": {
     "slide_type": "slide"
    }
   },
   "source": [
    "## Dicts\n",
    "\n",
    "The same can be done with dictionaries --> dictionary comprehension\n",
    "\n",
    "Let's split the keys and values into two lists:"
   ]
  },
  {
   "cell_type": "code",
   "execution_count": null,
   "id": "0904609b",
   "metadata": {
    "slideshow": {
     "slide_type": "subslide"
    }
   },
   "outputs": [],
   "source": [
    "my_keys = ['one', 'two', 'three']\n",
    "my_values = [1, 2, 3]"
   ]
  },
  {
   "cell_type": "code",
   "execution_count": null,
   "id": "a4ed2ac3",
   "metadata": {
    "slideshow": {
     "slide_type": "subslide"
    }
   },
   "outputs": [],
   "source": [
    "my_number_mapper: dict = {}\n",
    "for key, value in zip(my_keys, my_values):\n",
    "    my_number_mapper[key] = value\n",
    "    \n",
    "print(my_number_mapper)"
   ]
  },
  {
   "cell_type": "code",
   "execution_count": null,
   "id": "66f40081",
   "metadata": {
    "slideshow": {
     "slide_type": "subslide"
    }
   },
   "outputs": [],
   "source": [
    "my_number_mapper: dict = {key: value for key, value in zip(my_keys, my_values)}\n",
    "    \n",
    "print(my_number_mapper)"
   ]
  },
  {
   "cell_type": "code",
   "execution_count": null,
   "id": "cdee33d7",
   "metadata": {
    "slideshow": {
     "slide_type": "subslide"
    }
   },
   "outputs": [],
   "source": [
    "print(f'One as number is: {my_number_mapper.get('one')}') # This won't work.... Why?"
   ]
  },
  {
   "cell_type": "markdown",
   "id": "0891d773",
   "metadata": {
    "slideshow": {
     "slide_type": "slide"
    }
   },
   "source": [
    "### Exercise:  \n",
    "Let's create a dict out of two lists:\n",
    "```Python\n",
    "list_1: list = ['banana', 'grapefruit', 'apple']\n",
    "list_2: list = [5, 11, 34]\n",
    "```\n",
    "\n",
    "The write a function that returns the amount of fruit a user has by using the fruit name as input parameter.\n",
    "Print a string like this for bananas:\n",
    "Python\n",
    "```\n",
    "print('The user owns <n> <fruit_name>s \\U0001F34C')\n",
    "```\n",
    "\n",
    "Too easy?\n",
    "```Python\n",
    "list_1: list = ['banana', 'grapefruit', 'apple', 'kiwi', 'orange']\n",
    "list_2: list = [5, 11, 34, 0, 22]\n",
    "```\n",
    "\n",
    "Do the same but only create a dict with values bigger than `0`. \n",
    "Create the same function but if the input parameter is `'all'` return the sum of all fruits the user owns."
   ]
  },
  {
   "cell_type": "markdown",
   "id": "a5378360",
   "metadata": {
    "slideshow": {
     "slide_type": "slide"
    }
   },
   "source": [
    "### Solution:"
   ]
  },
  {
   "cell_type": "code",
   "execution_count": null,
   "id": "4fec83ac",
   "metadata": {
    "slideshow": {
     "slide_type": "subslide"
    }
   },
   "outputs": [],
   "source": [
    "fruit_names: list = ['banana', 'grapefruit', 'apple']\n",
    "fruit_counts: list = [5, 11, 34]\n",
    "my_fruit_mapping: dict = {fruit_name: fruit_count for fruit_name, fruit_count in zip(fruit_names, fruit_counts)}\n",
    "    \n",
    "print(my_fruit_mapping)\n",
    "\n",
    "\n",
    "print(f'The user owns {my_fruit_mapping[\"banana\"]} \\U0001F34C')"
   ]
  },
  {
   "cell_type": "code",
   "execution_count": null,
   "id": "724bcdd3",
   "metadata": {
    "slideshow": {
     "slide_type": "subslide"
    }
   },
   "outputs": [],
   "source": [
    "def get_fruit_count(fruit_name: str) -> int:\n",
    "    return my_fruit_mapping[fruit_name]\n",
    "\n",
    "target_fruit = 'banana'\n",
    "print(f'The user owns {get_fruit_count(target_fruit)} \\U0001F34C')"
   ]
  },
  {
   "cell_type": "code",
   "execution_count": null,
   "id": "49a45147",
   "metadata": {
    "slideshow": {
     "slide_type": "subslide"
    }
   },
   "outputs": [],
   "source": [
    "fruit_names: list = ['banana', 'grapefruit', 'apple', 'kiwi', 'orange']\n",
    "fruit_count: list = [5, 11, 34, 0, 22]\n",
    "my_fruit_mapping: dict = {k: v for k, v in zip(fruit_names, fruit_count) if v > 0}\n",
    "    \n",
    "print(my_fruit_mapping)"
   ]
  },
  {
   "cell_type": "code",
   "execution_count": null,
   "id": "a05abaa8",
   "metadata": {
    "slideshow": {
     "slide_type": "subslide"
    }
   },
   "outputs": [],
   "source": [
    "def get_fruit_count(fruit_name: str) -> int:\n",
    "    if fruit_name == 'all':\n",
    "        return sum(my_fruit_mapping.values())\n",
    "    return my_fruit_mapping[fruit_name]\n",
    "\n",
    "\n",
    "print(f'The user owns {get_fruit_count(\"all\")} fruits \\U0001F64C')"
   ]
  }
 ],
 "metadata": {
  "kernelspec": {
   "display_name": "Python 3",
   "language": "python",
   "name": "python3"
  },
  "language_info": {
   "codemirror_mode": {
    "name": "ipython",
    "version": 3
   },
   "file_extension": ".py",
   "mimetype": "text/x-python",
   "name": "python",
   "nbconvert_exporter": "python",
   "pygments_lexer": "ipython3",
   "version": "3.7.5"
  }
 },
 "nbformat": 4,
 "nbformat_minor": 5
}
