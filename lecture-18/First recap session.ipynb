{
 "cells": [
  {
   "cell_type": "code",
   "execution_count": 1,
   "metadata": {},
   "outputs": [],
   "source": [
    "# Data types\n",
    "string = \"Onyi\""
   ]
  },
  {
   "cell_type": "code",
   "execution_count": 2,
   "metadata": {},
   "outputs": [
    {
     "name": "stdout",
     "output_type": "stream",
     "text": [
      "Onyi\n"
     ]
    }
   ],
   "source": [
    "#(): parentheses\n",
    "#[]: brackets\n",
    "#{}: curly braces\n",
    "\n",
    "# Why parentheses?\n",
    "print(string)"
   ]
  },
  {
   "cell_type": "code",
   "execution_count": 3,
   "metadata": {},
   "outputs": [
    {
     "name": "stdout",
     "output_type": "stream",
     "text": [
      "<class 'str'>\n"
     ]
    }
   ],
   "source": [
    "print(type(string))"
   ]
  },
  {
   "cell_type": "code",
   "execution_count": 4,
   "metadata": {},
   "outputs": [
    {
     "name": "stdout",
     "output_type": "stream",
     "text": [
      "n\n"
     ]
    }
   ],
   "source": [
    "# String is an array characters\n",
    "\n",
    "print(string[1])"
   ]
  },
  {
   "cell_type": "code",
   "execution_count": 5,
   "metadata": {},
   "outputs": [
    {
     "name": "stdout",
     "output_type": "stream",
     "text": [
      "i\n"
     ]
    }
   ],
   "source": [
    "print(string[-1])"
   ]
  },
  {
   "cell_type": "code",
   "execution_count": 6,
   "metadata": {},
   "outputs": [],
   "source": [
    "another_string = \"Kelly\""
   ]
  },
  {
   "cell_type": "code",
   "execution_count": 10,
   "metadata": {},
   "outputs": [
    {
     "name": "stdout",
     "output_type": "stream",
     "text": [
      "OnyiKelly\n",
      "True\n"
     ]
    }
   ],
   "source": [
    "print(string+another_string)\n",
    "\n",
    "# Precendence\n",
    "print(string+another_string == \"OnyiKelly\")"
   ]
  },
  {
   "cell_type": "code",
   "execution_count": 12,
   "metadata": {},
   "outputs": [
    {
     "ename": "TypeError",
     "evalue": "can only concatenate str (not \"bool\") to str",
     "output_type": "error",
     "traceback": [
      "\u001b[1;31m---------------------------------------------------------------------------\u001b[0m",
      "\u001b[1;31mTypeError\u001b[0m                                 Traceback (most recent call last)",
      "\u001b[1;32m<ipython-input-12-94af5bf7c97d>\u001b[0m in \u001b[0;36m<module>\u001b[1;34m\u001b[0m\n\u001b[0;32m      1\u001b[0m \u001b[1;31m# Precendence\u001b[0m\u001b[1;33m\u001b[0m\u001b[1;33m\u001b[0m\u001b[1;33m\u001b[0m\u001b[0m\n\u001b[1;32m----> 2\u001b[1;33m \u001b[0mprint\u001b[0m\u001b[1;33m(\u001b[0m\u001b[0mstring\u001b[0m\u001b[1;33m+\u001b[0m\u001b[1;33m(\u001b[0m\u001b[0manother_string\u001b[0m \u001b[1;33m==\u001b[0m \u001b[1;34m\"OnyiKelly\"\u001b[0m\u001b[1;33m)\u001b[0m\u001b[1;33m)\u001b[0m\u001b[1;33m\u001b[0m\u001b[1;33m\u001b[0m\u001b[0m\n\u001b[0m",
      "\u001b[1;31mTypeError\u001b[0m: can only concatenate str (not \"bool\") to str"
     ]
    }
   ],
   "source": [
    "# Precendence\n",
    "print(string+(another_string == \"OnyiKelly\"))"
   ]
  },
  {
   "cell_type": "code",
   "execution_count": 13,
   "metadata": {},
   "outputs": [
    {
     "ename": "TypeError",
     "evalue": "can only concatenate str (not \"int\") to str",
     "output_type": "error",
     "traceback": [
      "\u001b[1;31m---------------------------------------------------------------------------\u001b[0m",
      "\u001b[1;31mTypeError\u001b[0m                                 Traceback (most recent call last)",
      "\u001b[1;32m<ipython-input-13-3910a0d65447>\u001b[0m in \u001b[0;36m<module>\u001b[1;34m\u001b[0m\n\u001b[1;32m----> 1\u001b[1;33m \u001b[0mprint\u001b[0m\u001b[1;33m(\u001b[0m\u001b[0manother_string\u001b[0m\u001b[1;33m+\u001b[0m\u001b[1;36m1\u001b[0m\u001b[1;33m)\u001b[0m\u001b[1;33m\u001b[0m\u001b[1;33m\u001b[0m\u001b[0m\n\u001b[0m",
      "\u001b[1;31mTypeError\u001b[0m: can only concatenate str (not \"int\") to str"
     ]
    }
   ],
   "source": [
    "print(another_string+1)"
   ]
  },
  {
   "cell_type": "code",
   "execution_count": 15,
   "metadata": {},
   "outputs": [
    {
     "name": "stdout",
     "output_type": "stream",
     "text": [
      "Kelly101\n"
     ]
    }
   ],
   "source": [
    "print(another_string+str(100+1))"
   ]
  },
  {
   "cell_type": "code",
   "execution_count": 17,
   "metadata": {},
   "outputs": [
    {
     "name": "stdout",
     "output_type": "stream",
     "text": [
      "OnyiTrue\n"
     ]
    }
   ],
   "source": [
    "print(string+str(string+another_string == \"OnyiKelly\"))"
   ]
  },
  {
   "cell_type": "code",
   "execution_count": 22,
   "metadata": {},
   "outputs": [
    {
     "name": "stdout",
     "output_type": "stream",
     "text": [
      "True\n"
     ]
    }
   ],
   "source": [
    "# Boolean: True, False\n",
    "\n",
    "print(not not True)"
   ]
  },
  {
   "cell_type": "code",
   "execution_count": 23,
   "metadata": {},
   "outputs": [
    {
     "name": "stdout",
     "output_type": "stream",
     "text": [
      "True\n",
      "True\n",
      "False\n"
     ]
    }
   ],
   "source": [
    "# Boolean unary operation: not\n",
    "# Boolean binary operations: and, or, ==, ^\n",
    "\n",
    "print(True == True)\n",
    "print(False == False)\n",
    "print(True == False)"
   ]
  },
  {
   "cell_type": "code",
   "execution_count": 26,
   "metadata": {},
   "outputs": [
    {
     "name": "stdout",
     "output_type": "stream",
     "text": [
      "True\n",
      "True\n",
      "False\n"
     ]
    }
   ],
   "source": [
    "print(True is True)\n",
    "print(False is False)\n",
    "print(True is False)"
   ]
  },
  {
   "cell_type": "code",
   "execution_count": 28,
   "metadata": {},
   "outputs": [
    {
     "name": "stdout",
     "output_type": "stream",
     "text": [
      "True\n"
     ]
    }
   ],
   "source": [
    "# Tautology: It is either raining or not raining. Always a right statement.\n",
    "raining = True\n",
    "print( raining or not raining )"
   ]
  },
  {
   "cell_type": "code",
   "execution_count": 29,
   "metadata": {},
   "outputs": [
    {
     "name": "stdout",
     "output_type": "stream",
     "text": [
      "False\n"
     ]
    }
   ],
   "source": [
    "# Contradiction: It cannot be raining and not raining at the same time. Cannot be fulfilled at the same time\n",
    "raining = True\n",
    "print( raining and not raining )"
   ]
  },
  {
   "cell_type": "code",
   "execution_count": 32,
   "metadata": {},
   "outputs": [
    {
     "name": "stdout",
     "output_type": "stream",
     "text": [
      "False\n",
      "True\n",
      "True\n",
      "False\n"
     ]
    }
   ],
   "source": [
    "# XOR (mutually exclusive or): means to choose either the one or the other\n",
    "print( True ^  True )\n",
    "print( True ^ False )\n",
    "print( False ^ True )\n",
    "print( False ^ False )"
   ]
  },
  {
   "cell_type": "code",
   "execution_count": 1,
   "metadata": {},
   "outputs": [
    {
     "name": "stdout",
     "output_type": "stream",
     "text": [
      "True\n",
      "True\n",
      "True\n",
      "False\n",
      "True\n"
     ]
    }
   ],
   "source": [
    "# Or: any True satisfies, then always True\n",
    "print( True or True )\n",
    "print( True or False )\n",
    "print( False or True )\n",
    "print( False or False )\n",
    "# any True satisfies, then always True, exaggerated case with one True and many Falses\n",
    "print( False or False or True or False or False or False ) "
   ]
  },
  {
   "cell_type": "code",
   "execution_count": 38,
   "metadata": {},
   "outputs": [
    {
     "name": "stdout",
     "output_type": "stream",
     "text": [
      "<class 'int'>\n",
      "<class 'float'>\n",
      "<class 'complex'>\n"
     ]
    }
   ],
   "source": [
    "print(type(1))\n",
    "print(type(1.))\n",
    "print(type(1.+0j))"
   ]
  },
  {
   "cell_type": "code",
   "execution_count": 2,
   "metadata": {},
   "outputs": [
    {
     "name": "stdout",
     "output_type": "stream",
     "text": [
      "2.0\n",
      "(6.123233995736766e-17+1j)\n"
     ]
    }
   ],
   "source": [
    "import math\n",
    "print(math.sqrt(4))\n",
    "print((-1.0)**0.5) # same as sqrt(-1.0)"
   ]
  },
  {
   "cell_type": "code",
   "execution_count": 44,
   "metadata": {},
   "outputs": [
    {
     "name": "stdout",
     "output_type": "stream",
     "text": [
      "1\n",
      "Remainder of 5/2 1\n"
     ]
    }
   ],
   "source": [
    "# Modulo\n",
    "print(5 % 2) \n",
    "print(\"Remainder of 5/2 \"+ str(5 % 2))"
   ]
  },
  {
   "cell_type": "code",
   "execution_count": 50,
   "metadata": {},
   "outputs": [
    {
     "name": "stdout",
     "output_type": "stream",
     "text": [
      "3\n",
      "2\n",
      "3\n",
      "11\n",
      "0\n",
      "11\n"
     ]
    }
   ],
   "source": [
    "# Clock as example for modulo\n",
    "print( 15 % 12)\n",
    "print( 2 % 12)\n",
    "print( 3 % 12)\n",
    "print(11 % 12)\n",
    "print( 12 % 12)\n",
    "print( 23 % 12)"
   ]
  },
  {
   "cell_type": "code",
   "execution_count": 51,
   "metadata": {},
   "outputs": [
    {
     "name": "stdout",
     "output_type": "stream",
     "text": [
      "3\n"
     ]
    }
   ],
   "source": [
    "# How many times the number fits in the modulo value?\n",
    "# What is the left over remainder\n",
    "print( 7 % 4)"
   ]
  },
  {
   "cell_type": "code",
   "execution_count": 55,
   "metadata": {},
   "outputs": [
    {
     "name": "stdout",
     "output_type": "stream",
     "text": [
      "-1\n",
      "-1\n"
     ]
    }
   ],
   "source": [
    "print(7 % -4)\n",
    "print((7-4) + (-4))"
   ]
  },
  {
   "cell_type": "code",
   "execution_count": 57,
   "metadata": {},
   "outputs": [
    {
     "name": "stdout",
     "output_type": "stream",
     "text": [
      "1\n",
      "2r1\n"
     ]
    }
   ],
   "source": [
    "print(9 % 4)\n",
    "# 9 divided by 4, but with remainder\n",
    "print( str(9 // 4)+\"r\"+str(9 % 4) )"
   ]
  },
  {
   "cell_type": "code",
   "execution_count": 60,
   "metadata": {},
   "outputs": [
    {
     "name": "stdout",
     "output_type": "stream",
     "text": [
      "0\n",
      "1\n",
      "2\n",
      "3\n",
      "4\n",
      "5\n",
      "0\n"
     ]
    }
   ],
   "source": [
    "print(30 % 6) # 6 x 5\n",
    "print(31 % 6)\n",
    "print(32 % 6)\n",
    "print(33 % 6)\n",
    "print(34 % 6)\n",
    "print(35 % 6)\n",
    "print(36 % 6) # 6 x 6"
   ]
  },
  {
   "cell_type": "code",
   "execution_count": 61,
   "metadata": {},
   "outputs": [
    {
     "name": "stdout",
     "output_type": "stream",
     "text": [
      "6\n",
      "7\n",
      "8\n",
      "9\n",
      "10\n",
      "11\n"
     ]
    }
   ],
   "source": [
    "print(6  % 30) \n",
    "print(7  % 30)\n",
    "print(8  % 30) \n",
    "print(9  % 30)\n",
    "print(10 % 30) \n",
    "print(11 % 30)"
   ]
  },
  {
   "cell_type": "code",
   "execution_count": 62,
   "metadata": {},
   "outputs": [
    {
     "name": "stdout",
     "output_type": "stream",
     "text": [
      "even\n",
      "even\n",
      "odd\n"
     ]
    }
   ],
   "source": [
    "# odds and evens\n",
    "\n",
    "def check_number_type(number):\n",
    "    if number % 2 == 0:\n",
    "        return \"even\"\n",
    "    elif number % 2 == 1:\n",
    "        return \"odd\"\n",
    "\n",
    "print(check_number_type(2))\n",
    "print(check_number_type(4))\n",
    "print(check_number_type(7))"
   ]
  },
  {
   "cell_type": "code",
   "execution_count": 69,
   "metadata": {},
   "outputs": [
    {
     "name": "stdout",
     "output_type": "stream",
     "text": [
      "30\n",
      "0\n",
      "0\n",
      "720\n",
      "180\n",
      "1080\n",
      "0\n"
     ]
    }
   ],
   "source": [
    "# Application calculations with angles\n",
    "def give_angle(number):\n",
    "    return number % 360\n",
    "\n",
    "print(give_angle(30))\n",
    "print(give_angle(360))\n",
    "print(give_angle(720))   \n",
    "print(360*2)\n",
    "print(give_angle(900))\n",
    "print(360*3)\n",
    "print(give_angle(1080))"
   ]
  },
  {
   "cell_type": "code",
   "execution_count": 74,
   "metadata": {},
   "outputs": [
    {
     "name": "stdout",
     "output_type": "stream",
     "text": [
      "names\n",
      "<class 'int'> 1\n",
      "<class 'float'> 1.0\n"
     ]
    }
   ],
   "source": [
    "# List, Tuple, Sets, Dictionary / check libaries containers, iterables, queues\n",
    "list_example = [\"names\",1,1.0]\n",
    "print(list_example[0] )\n",
    "print(str(type(list_example[1])) , str(list_example[1]) )\n",
    "print(str(type(list_example[2])) , str(list_example[2]) )"
   ]
  },
  {
   "cell_type": "code",
   "execution_count": 82,
   "metadata": {},
   "outputs": [
    {
     "name": "stdout",
     "output_type": "stream",
     "text": [
      "(1, 2, 3)\n"
     ]
    }
   ],
   "source": [
    "tuple_example = tuple([1,2,3])\n",
    "print(tuple_example)\n",
    "tuple_example = tuple([1,2,4])"
   ]
  },
  {
   "cell_type": "code",
   "execution_count": 94,
   "metadata": {},
   "outputs": [
    {
     "name": "stdout",
     "output_type": "stream",
     "text": [
      "(1, 2, 3, 4, 5)\n",
      "(1, 2, 3, 4, 4)\n"
     ]
    }
   ],
   "source": [
    "list_example = [1,2,3]\n",
    "#list_example[2] = 4\n",
    "tuple_example = tuple([1,2,3,4,5])\n",
    "print(tuple_example)\n",
    "tuple_another_example = tuple([*tuple_example[0:-1],4])\n",
    "tuple_example = tuple_another_example\n",
    "print(tuple_example)\n"
   ]
  },
  {
   "cell_type": "code",
   "execution_count": 96,
   "metadata": {},
   "outputs": [
    {
     "data": {
      "text/plain": [
       "tuple"
      ]
     },
     "execution_count": 96,
     "metadata": {},
     "output_type": "execute_result"
    }
   ],
   "source": [
    "third_tuple_example = (1,2,4)\n",
    "type(third_tuple_example)"
   ]
  },
  {
   "cell_type": "code",
   "execution_count": 3,
   "metadata": {},
   "outputs": [
    {
     "ename": "TypeError",
     "evalue": "'tuple' object does not support item assignment",
     "output_type": "error",
     "traceback": [
      "\u001b[1;31m---------------------------------------------------------------------------\u001b[0m",
      "\u001b[1;31mTypeError\u001b[0m                                 Traceback (most recent call last)",
      "\u001b[1;32m<ipython-input-3-91420ab9ba2b>\u001b[0m in \u001b[0;36m<module>\u001b[1;34m\u001b[0m\n\u001b[0;32m      6\u001b[0m \u001b[0mlist_example\u001b[0m\u001b[1;33m[\u001b[0m\u001b[1;36m2\u001b[0m\u001b[1;33m]\u001b[0m \u001b[1;33m=\u001b[0m \u001b[1;36m100\u001b[0m\u001b[1;33m\u001b[0m\u001b[1;33m\u001b[0m\u001b[0m\n\u001b[0;32m      7\u001b[0m \u001b[1;31m# This value reassignment is going to fail\u001b[0m\u001b[1;33m\u001b[0m\u001b[1;33m\u001b[0m\u001b[1;33m\u001b[0m\u001b[0m\n\u001b[1;32m----> 8\u001b[1;33m \u001b[0mtuple_example\u001b[0m\u001b[1;33m[\u001b[0m\u001b[1;36m2\u001b[0m\u001b[1;33m]\u001b[0m \u001b[1;33m=\u001b[0m \u001b[1;36m100\u001b[0m\u001b[1;33m\u001b[0m\u001b[1;33m\u001b[0m\u001b[0m\n\u001b[0m",
      "\u001b[1;31mTypeError\u001b[0m: 'tuple' object does not support item assignment"
     ]
    }
   ],
   "source": [
    "# lists mutable: you can reassign values to data structure\n",
    "list_example = [1,2,3]\n",
    "# tuples immutable: you cannot reassign values to data structure\n",
    "tuple_example = (1,2,3)\n",
    "# This value reassignment is going to work\n",
    "list_example[2] = 100\n",
    "# This value reassignment is going to fail\n",
    "tuple_example[2] = 100"
   ]
  },
  {
   "cell_type": "code",
   "execution_count": 102,
   "metadata": {},
   "outputs": [
    {
     "name": "stdout",
     "output_type": "stream",
     "text": [
      "{1, 2, 3}\n",
      "{1, 2, 3}\n"
     ]
    }
   ],
   "source": [
    "set_example = set([1,2,3])\n",
    "print(set_example)\n",
    "another_set = {1,2,3}\n",
    "print(another_set)"
   ]
  },
  {
   "cell_type": "code",
   "execution_count": 104,
   "metadata": {},
   "outputs": [
    {
     "name": "stdout",
     "output_type": "stream",
     "text": [
      "<class 'list'>\n",
      "<class 'tuple'>\n",
      "<class 'set'>\n",
      "<class 'dict'>\n"
     ]
    }
   ],
   "source": [
    "list_example  = [1,2,3]\n",
    "tuple_example = (1,2,3)\n",
    "set_example   = {1,2,3} # No key value pairs\n",
    "dict_example  = {\"one\":1,\"two\":2,\"three\":3} # Key value pairs\n",
    "\n",
    "print(type(list_example))\n",
    "print(type(tuple_example))\n",
    "print(type(set_example))\n",
    "print(type(dict_example))"
   ]
  },
  {
   "cell_type": "code",
   "execution_count": 105,
   "metadata": {},
   "outputs": [
    {
     "name": "stdout",
     "output_type": "stream",
     "text": [
      "{1, 2, 3}\n"
     ]
    }
   ],
   "source": [
    "# Sets give you unique values\n",
    "set_example = {1,2,2,2,3}\n",
    "print(set_example)"
   ]
  },
  {
   "cell_type": "code",
   "execution_count": 106,
   "metadata": {},
   "outputs": [
    {
     "name": "stdout",
     "output_type": "stream",
     "text": [
      "{1, 2, 3, 4}\n",
      "{1, 2, 3, 4}\n"
     ]
    }
   ],
   "source": [
    "# Sets are unordered data structures\n",
    "set_example         = {1,2,3,4}\n",
    "set_another_example = {1,3,2,4}\n",
    "print(set_example)\n",
    "print(set_another_example)"
   ]
  },
  {
   "cell_type": "code",
   "execution_count": 107,
   "metadata": {},
   "outputs": [
    {
     "name": "stdout",
     "output_type": "stream",
     "text": [
      "{'\"2\"', '\"1\"', '\"4\"', '\"3\"'}\n",
      "{'\"3\"', '\"1\"', '\"4\"', '\"2\"'}\n"
     ]
    }
   ],
   "source": [
    "set_example         = {'\"1\"','\"2\"','\"3\"','\"4\"'}\n",
    "set_another_example = {'\"1\"','\"3\"','\"2\"','\"4\"'}\n",
    "print(set_example)\n",
    "print(set_another_example)"
   ]
  },
  {
   "cell_type": "code",
   "execution_count": 111,
   "metadata": {},
   "outputs": [
    {
     "name": "stdout",
     "output_type": "stream",
     "text": [
      "{'bulbasaur', 'gyrados', 'charizard', 'pikachu', 'caterpilar', 'mewto', 'butterfly'}\n",
      "{'pikachu', 'caterpilar'}\n"
     ]
    }
   ],
   "source": [
    "# Set (math.): a collection of mathematical objects\n",
    "my_pokemons   = {\"pikachu\", \"charizard\", \"mewto\", \"caterpilar\"}\n",
    "your_pokemons = {\"pikachu\", \"bulbasaur\", \"gyrados\", \"caterpilar\", \"butterfly\"}\n",
    "\n",
    "# Union of a set: it gives you all elements of both sets combined together\n",
    "print(my_pokemons.union(your_pokemons))\n",
    "\n",
    "# Intersection of a set: it gives you the common elements of both sets\n",
    "print(my_pokemons.intersection(your_pokemons))"
   ]
  }
 ],
 "metadata": {
  "kernelspec": {
   "display_name": "Python 3",
   "language": "python",
   "name": "python3"
  },
  "language_info": {
   "codemirror_mode": {
    "name": "ipython",
    "version": 3
   },
   "file_extension": ".py",
   "mimetype": "text/x-python",
   "name": "python",
   "nbconvert_exporter": "python",
   "pygments_lexer": "ipython3",
   "version": "3.7.9"
  }
 },
 "nbformat": 4,
 "nbformat_minor": 4
}
