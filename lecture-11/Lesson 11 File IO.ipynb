{
 "cells": [
  {
   "cell_type": "markdown",
   "metadata": {},
   "source": [
    "# File IO\n",
    "\n",
    "\n",
    "## What is a file?\n",
    "\n",
    "- A file are named locations on disk to store related information. \n",
    "\n",
    "- A file consists of a contiguous set of bytes used to store data organized in a specific format.\n",
    "\n",
    "\n",
    "## Why do we use files?\n",
    "\n",
    "- Files are used to permanently store data in a **non-volatile** memory (e.g. hard disk).\n",
    "\n",
    "-  We use files for the future use of data. We can reuse the information after turning the computer on and off or store variables onto file which can by used by the another runtime execution of a Python\n",
    "\n",
    "- Random Access Memory (RAM) is **volatile**, data stored in RAM does get lost when the computer is turned off!\n",
    "\n",
    "\n",
    "\n",
    "## How is a file structured?\n",
    "\n",
    "1. **Header**:  metadata about the contents of the file (file name, size, type, creation date, etc.)\n",
    "\n",
    "2. **Data**: contents of the file as written by the creator or editor\n",
    "\n",
    "3. **End of file (EOF)**:Special character that indicates the end of the file\n"
   ]
  },
  {
   "cell_type": "markdown",
   "metadata": {},
   "source": [
    "## How are file operations performed?\n",
    "\n",
    "1. Open the file\n",
    "2. Perform a read or write operation on the file\n",
    "3. Close the file"
   ]
  },
  {
   "cell_type": "markdown",
   "metadata": {},
   "source": [
    "##  1. Open the file\n",
    "\n",
    "- Python offers a **built-in open() function** to open a file. \n",
    "- Function returns a **file object**"
   ]
  },
  {
   "cell_type": "code",
   "execution_count": 2,
   "metadata": {},
   "outputs": [],
   "source": [
    "f = open(\"say_hello.txt\")    # open file in current directory with file object \"f\""
   ]
  },
  {
   "cell_type": "code",
   "execution_count": 3,
   "metadata": {},
   "outputs": [
    {
     "name": "stdout",
     "output_type": "stream",
     "text": [
      "Help on TextIOWrapper object:\n",
      "\n",
      "class TextIOWrapper(_TextIOBase)\n",
      " |  TextIOWrapper(buffer, encoding=None, errors=None, newline=None, line_buffering=False, write_through=False)\n",
      " |  \n",
      " |  Character and line based layer over a BufferedIOBase object, buffer.\n",
      " |  \n",
      " |  encoding gives the name of the encoding that the stream will be\n",
      " |  decoded or encoded with. It defaults to locale.getpreferredencoding(False).\n",
      " |  \n",
      " |  errors determines the strictness of encoding and decoding (see\n",
      " |  help(codecs.Codec) or the documentation for codecs.register) and\n",
      " |  defaults to \"strict\".\n",
      " |  \n",
      " |  newline controls how line endings are handled. It can be None, '',\n",
      " |  '\\n', '\\r', and '\\r\\n'.  It works as follows:\n",
      " |  \n",
      " |  * On input, if newline is None, universal newlines mode is\n",
      " |    enabled. Lines in the input can end in '\\n', '\\r', or '\\r\\n', and\n",
      " |    these are translated into '\\n' before being returned to the\n",
      " |    caller. If it is '', universal newline mode is enabled, but line\n",
      " |    endings are returned to the caller untranslated. If it has any of\n",
      " |    the other legal values, input lines are only terminated by the given\n",
      " |    string, and the line ending is returned to the caller untranslated.\n",
      " |  \n",
      " |  * On output, if newline is None, any '\\n' characters written are\n",
      " |    translated to the system default line separator, os.linesep. If\n",
      " |    newline is '' or '\\n', no translation takes place. If newline is any\n",
      " |    of the other legal values, any '\\n' characters written are translated\n",
      " |    to the given string.\n",
      " |  \n",
      " |  If line_buffering is True, a call to flush is implied when a call to\n",
      " |  write contains a newline character.\n",
      " |  \n",
      " |  Method resolution order:\n",
      " |      TextIOWrapper\n",
      " |      _TextIOBase\n",
      " |      _IOBase\n",
      " |      builtins.object\n",
      " |  \n",
      " |  Methods defined here:\n",
      " |  \n",
      " |  __getstate__(...)\n",
      " |  \n",
      " |  __init__(self, /, *args, **kwargs)\n",
      " |      Initialize self.  See help(type(self)) for accurate signature.\n",
      " |  \n",
      " |  __next__(self, /)\n",
      " |      Implement next(self).\n",
      " |  \n",
      " |  __repr__(self, /)\n",
      " |      Return repr(self).\n",
      " |  \n",
      " |  close(self, /)\n",
      " |      Flush and close the IO object.\n",
      " |      \n",
      " |      This method has no effect if the file is already closed.\n",
      " |  \n",
      " |  detach(self, /)\n",
      " |      Separate the underlying buffer from the TextIOBase and return it.\n",
      " |      \n",
      " |      After the underlying buffer has been detached, the TextIO is in an\n",
      " |      unusable state.\n",
      " |  \n",
      " |  fileno(self, /)\n",
      " |      Returns underlying file descriptor if one exists.\n",
      " |      \n",
      " |      OSError is raised if the IO object does not use a file descriptor.\n",
      " |  \n",
      " |  flush(self, /)\n",
      " |      Flush write buffers, if applicable.\n",
      " |      \n",
      " |      This is not implemented for read-only and non-blocking streams.\n",
      " |  \n",
      " |  isatty(self, /)\n",
      " |      Return whether this is an 'interactive' stream.\n",
      " |      \n",
      " |      Return False if it can't be determined.\n",
      " |  \n",
      " |  read(self, size=-1, /)\n",
      " |      Read at most n characters from stream.\n",
      " |      \n",
      " |      Read from underlying buffer until we have n characters or we hit EOF.\n",
      " |      If n is negative or omitted, read until EOF.\n",
      " |  \n",
      " |  readable(self, /)\n",
      " |      Return whether object was opened for reading.\n",
      " |      \n",
      " |      If False, read() will raise OSError.\n",
      " |  \n",
      " |  readline(self, size=-1, /)\n",
      " |      Read until newline or EOF.\n",
      " |      \n",
      " |      Returns an empty string if EOF is hit immediately.\n",
      " |  \n",
      " |  reconfigure(self, /, *, encoding=None, errors=None, newline=None, line_buffering=None, write_through=None)\n",
      " |      Reconfigure the text stream with new parameters.\n",
      " |      \n",
      " |      This also does an implicit stream flush.\n",
      " |  \n",
      " |  seek(self, cookie, whence=0, /)\n",
      " |      Change stream position.\n",
      " |      \n",
      " |      Change the stream position to the given byte offset. The offset is\n",
      " |      interpreted relative to the position indicated by whence.  Values\n",
      " |      for whence are:\n",
      " |      \n",
      " |      * 0 -- start of stream (the default); offset should be zero or positive\n",
      " |      * 1 -- current stream position; offset may be negative\n",
      " |      * 2 -- end of stream; offset is usually negative\n",
      " |      \n",
      " |      Return the new absolute position.\n",
      " |  \n",
      " |  seekable(self, /)\n",
      " |      Return whether object supports random access.\n",
      " |      \n",
      " |      If False, seek(), tell() and truncate() will raise OSError.\n",
      " |      This method may need to do a test seek().\n",
      " |  \n",
      " |  tell(self, /)\n",
      " |      Return current stream position.\n",
      " |  \n",
      " |  truncate(self, pos=None, /)\n",
      " |      Truncate file to size bytes.\n",
      " |      \n",
      " |      File pointer is left unchanged.  Size defaults to the current IO\n",
      " |      position as reported by tell().  Returns the new size.\n",
      " |  \n",
      " |  writable(self, /)\n",
      " |      Return whether object was opened for writing.\n",
      " |      \n",
      " |      If False, write() will raise OSError.\n",
      " |  \n",
      " |  write(self, text, /)\n",
      " |      Write string to stream.\n",
      " |      Returns the number of characters written (which is always equal to\n",
      " |      the length of the string).\n",
      " |  \n",
      " |  ----------------------------------------------------------------------\n",
      " |  Static methods defined here:\n",
      " |  \n",
      " |  __new__(*args, **kwargs) from builtins.type\n",
      " |      Create and return a new object.  See help(type) for accurate signature.\n",
      " |  \n",
      " |  ----------------------------------------------------------------------\n",
      " |  Data descriptors defined here:\n",
      " |  \n",
      " |  buffer\n",
      " |  \n",
      " |  closed\n",
      " |  \n",
      " |  encoding\n",
      " |      Encoding of the text stream.\n",
      " |      \n",
      " |      Subclasses should override.\n",
      " |  \n",
      " |  errors\n",
      " |      The error setting of the decoder or encoder.\n",
      " |      \n",
      " |      Subclasses should override.\n",
      " |  \n",
      " |  line_buffering\n",
      " |  \n",
      " |  name\n",
      " |  \n",
      " |  newlines\n",
      " |      Line endings translated so far.\n",
      " |      \n",
      " |      Only line endings translated during reading are considered.\n",
      " |      \n",
      " |      Subclasses should override.\n",
      " |  \n",
      " |  write_through\n",
      " |  \n",
      " |  ----------------------------------------------------------------------\n",
      " |  Methods inherited from _IOBase:\n",
      " |  \n",
      " |  __del__(...)\n",
      " |  \n",
      " |  __enter__(...)\n",
      " |  \n",
      " |  __exit__(...)\n",
      " |  \n",
      " |  __iter__(self, /)\n",
      " |      Implement iter(self).\n",
      " |  \n",
      " |  readlines(self, hint=-1, /)\n",
      " |      Return a list of lines from the stream.\n",
      " |      \n",
      " |      hint can be specified to control the number of lines read: no more\n",
      " |      lines will be read if the total size (in bytes/characters) of all\n",
      " |      lines so far exceeds hint.\n",
      " |  \n",
      " |  writelines(self, lines, /)\n",
      " |      Write a list of lines to stream.\n",
      " |      \n",
      " |      Line separators are not added, so it is usual for each of the\n",
      " |      lines provided to have a line separator at the end.\n",
      " |  \n",
      " |  ----------------------------------------------------------------------\n",
      " |  Data descriptors inherited from _IOBase:\n",
      " |  \n",
      " |  __dict__\n",
      "\n"
     ]
    }
   ],
   "source": [
    "help(f)"
   ]
  },
  {
   "cell_type": "markdown",
   "metadata": {},
   "source": [
    "<div class=\"alert alert-block alert-warning\">\n",
    "    <b>Warning:</b> You should always make sure that an open file is properly <b>closed</b>. \n",
    "</div>\n",
    "\n",
    "- Files are **usually** closed after the execution or termination of an application or a script \n",
    "- Non-closed files + non-expected orunwanted behavior can lead to **resource** or **memory leaks**.  "
   ]
  },
  {
   "cell_type": "markdown",
   "metadata": {},
   "source": [
    "## 3. Close the file\n",
    "\n",
    "Use the close method of the file object."
   ]
  },
  {
   "cell_type": "code",
   "execution_count": 4,
   "metadata": {},
   "outputs": [],
   "source": [
    "f.close()"
   ]
  },
  {
   "cell_type": "markdown",
   "metadata": {},
   "source": [
    "Good Python practice: Ensure the code behaves in a well-defined manner and reduces any unwanted behavior.\n",
    "\n",
    "Two ways:\n",
    "\n",
    "1. **try-finally** block (error-handling)\n",
    "2. **with** statement \n"
   ]
  },
  {
   "cell_type": "code",
   "execution_count": 34,
   "metadata": {},
   "outputs": [],
   "source": [
    "# First way using try-finally block\n",
    "\n",
    "f_try_finally = open('say_hello.txt')\n",
    "try:\n",
    "    pass # Do something here.\n",
    "finally:\n",
    "    f_try_finally.close()\n",
    "    "
   ]
  },
  {
   "cell_type": "code",
   "execution_count": 36,
   "metadata": {},
   "outputs": [],
   "source": [
    "# Second way\n",
    "# With statement automatically takes care of closing the file \n",
    "# once it leaves the with block, even in cases of error \n",
    "\n",
    "with open('say_hello.txt') as f_with:\n",
    "    pass\n"
   ]
  },
  {
   "cell_type": "code",
   "execution_count": 38,
   "metadata": {},
   "outputs": [
    {
     "name": "stdout",
     "output_type": "stream",
     "text": [
      "False\n",
      "True\n"
     ]
    }
   ],
   "source": [
    "# Let us check the state of the file we are checking\n",
    "with open('say_hello.txt') as f_with:\n",
    "    print(f_with.closed) \n",
    "print(f_with.closed)"
   ]
  },
  {
   "cell_type": "markdown",
   "metadata": {},
   "source": [
    "# 2. Perform operations"
   ]
  },
  {
   "cell_type": "markdown",
   "metadata": {},
   "source": [
    "A detailed look at the open function:\n",
    "\n",
    "open(**file**, **mode**='r', **buffering**=-1, **encoding**=None, **errors**=None, **newline**=None, **closefd**=True, **opener**=None)\n",
    "\n",
    "The key **mode** with string of characters defining the **reading** or **writing** behavior.\n",
    "\n",
    "| Character | Meaning |\n",
    "|  :-: |  :- | \n",
    "| 'r' | open for reading (default) | \n",
    "| 'w' | open for writing, truncating the file first) | \n",
    "| 'x' | open for exclusive creation, failing if the file already exists | \n",
    "| 'a' | open for writing, appending to the end of the file if it exists | \n",
    "| 'b' | binary mode | \n",
    "| 't' | text mode (default) | \n",
    "| '+' | open for updating (reading and writing) | \n",
    "\n"
   ]
  },
  {
   "cell_type": "code",
   "execution_count": 39,
   "metadata": {},
   "outputs": [
    {
     "name": "stdout",
     "output_type": "stream",
     "text": [
      "hello world\n"
     ]
    }
   ],
   "source": [
    "# Let us try to read the first line using the first method\n",
    "\n",
    "method_1 = open('say_hello.txt')\n",
    "try:\n",
    "    line = method_1.readline()\n",
    "    print(line)\n",
    "finally:\n",
    "    method_1.close()"
   ]
  },
  {
   "cell_type": "code",
   "execution_count": 40,
   "metadata": {},
   "outputs": [
    {
     "name": "stdout",
     "output_type": "stream",
     "text": [
      "hello world\n"
     ]
    }
   ],
   "source": [
    "# Let us try to read the first line using the second method\n",
    "\n",
    "with open('say_hello.txt') as method_2:\n",
    "    line = method_2.readline()\n"
   ]
  },
  {
   "cell_type": "code",
   "execution_count": 55,
   "metadata": {},
   "outputs": [
    {
     "name": "stdout",
     "output_type": "stream",
     "text": [
      "<_io.TextIOWrapper name='say_hello.txt' mode='r' encoding='cp1252'>\n"
     ]
    }
   ],
   "source": [
    "with open('say_hello.txt') as method_2:\n",
    "    line = method_2.readline()\n",
    "    print(iter(method_2)) # The object is an iterable if the built-in method does not raise an error\n",
    "                          #Windows OS uses cp1252 encoding, but Linux uses utf-8 "
   ]
  },
  {
   "cell_type": "code",
   "execution_count": 53,
   "metadata": {},
   "outputs": [
    {
     "name": "stdout",
     "output_type": "stream",
     "text": [
      "Hello world!\n",
      "\n",
      "Hello world, again.\n",
      "\n",
      "Hellooo, can you hear me?\n",
      "\n"
     ]
    }
   ],
   "source": [
    "# You can use the readline method to iterate over method_2 file object\n",
    "with open('say_hello.txt') as method_2:\n",
    "    print(method_2.readline()) # Using readline()\n",
    "    print(method_2.readline()) # increments the content\n",
    "    print(method_2.readline())"
   ]
  },
  {
   "cell_type": "code",
   "execution_count": 56,
   "metadata": {},
   "outputs": [
    {
     "name": "stdout",
     "output_type": "stream",
     "text": [
      "Hello world!\n",
      "\n",
      "Hello world, again.\n",
      "\n",
      "Hellooo, can you hear me?\n"
     ]
    }
   ],
   "source": [
    "# Using the iterator property, you can use a for loop to iterate over the file object content\n",
    "with open('say_hello.txt') as method_2:\n",
    "    for line in method_2:\n",
    "        print(line)"
   ]
  },
  {
   "cell_type": "code",
   "execution_count": 62,
   "metadata": {},
   "outputs": [
    {
     "name": "stdout",
     "output_type": "stream",
     "text": [
      "['Hello world!\\n', 'Hello world, again.\\n', 'Hellooo, can you hear me?']\n",
      "Hello world!\n",
      "Hello world, again.\n",
      "Hellooo, can you hear me?\n"
     ]
    }
   ],
   "source": [
    "# Alternatively, you can break down the lines into a list\n",
    "with open('say_hello.txt') as method_2:\n",
    "    output_list = method_2.readlines()\n",
    "    print(output_list)                # Notably, the newline character is contained\n",
    "    \n",
    "for item in output_list:\n",
    "    print(item.strip())"
   ]
  },
  {
   "cell_type": "code",
   "execution_count": 65,
   "metadata": {},
   "outputs": [
    {
     "name": "stdout",
     "output_type": "stream",
     "text": [
      "Help on built-in function strip:\n",
      "\n",
      "strip(chars=None, /) method of builtins.str instance\n",
      "    Return a copy of the string with leading and trailing whitespace removed.\n",
      "    \n",
      "    If chars is given and not None, remove characters in chars instead.\n",
      "\n",
      "None\n"
     ]
    }
   ],
   "source": [
    "print(help(item.strip))"
   ]
  },
  {
   "cell_type": "code",
   "execution_count": 68,
   "metadata": {},
   "outputs": [
    {
     "name": "stdout",
     "output_type": "stream",
     "text": [
      "  ሰማይ አይታረስ ንጉሥ አይከሰስ።\n",
      "  ብላ ካለኝ እንደአባቴ በቆመጠኝ።\n",
      "  ጌጥ ያለቤቱ ቁምጥና ነው።\n",
      "  ደሀ በሕልሙ ቅቤ ባይጠጣ ንጣት በገደለው።\n",
      "  የአፍ ወለምታ በቅቤ አይታሽም።\n",
      "  አይጥ በበላ ዳዋ ተመታ።\n",
      "  ሲተረጉሙ ይደረግሙ።\n",
      "  ቀስ በቀስ፥ ዕንቁላል በእግሩ ይሄዳል።\n",
      "  ድር ቢያብር አንበሳ ያስር።\n",
      "  ሰው እንደቤቱ እንጅ እንደ ጉረቤቱ አይተዳደርም።\n",
      "  እግዜር የከፈተውን ጉሮሮ ሳይዘጋው አይድርም።\n",
      "  የጎረቤት ሌባ፥ ቢያዩት ይስቅ ባያዩት ያጠልቅ።\n",
      "  ሥራ ከመፍታት ልጄን ላፋታት።\n",
      "  ዓባይ ማደሪያ የለው፥ ግንድ ይዞ ይዞራል።\n",
      "  የእስላም አገሩ መካ የአሞራ አገሩ ዋርካ።\n",
      "  ተንጋሎ ቢተፉ ተመልሶ ባፉ።\n",
      "  ወዳጅህ ማር ቢሆን ጨርስህ አትላሰው።\n",
      "  እግርህን በፍራሽህ ልክ ዘርጋ።\n",
      "\n",
      "<class 'str'>\n"
     ]
    }
   ],
   "source": [
    "with open('utf-8.txt',encoding='utf-8') as utf_reader:\n",
    "    read_text = utf_reader.read()\n",
    "\n",
    "print(read_text)\n",
    "print(type(read_text))"
   ]
  },
  {
   "cell_type": "code",
   "execution_count": 86,
   "metadata": {},
   "outputs": [
    {
     "name": "stdout",
     "output_type": "stream",
     "text": [
      "b'Hello world!\\nHello world, again.\\nHellooo, can you hear me?'\n",
      "48656c6c6f20776f726c64210a48656c6c6f20776f726c642c20616761696e2e0a48656c6c6f6f6f2c2063616e20796f752068656172206d653f\n"
     ]
    }
   ],
   "source": [
    "# What happens if we use the wrong encoding or do not know it ahead of time\n",
    "with open('say_hello.txt', mode=\"rb\") as reading_in_binary:\n",
    "    binary_text = reading_in_binary.read()\n",
    "print(binary_text)\n",
    "print(binary_text.hex())"
   ]
  },
  {
   "cell_type": "markdown",
   "metadata": {},
   "source": [
    "#### How to we read the binaries?\n",
    "\n",
    "- Check the encoding \n",
    "- We did not use an encoding key => we are using the default => cp-1252 encoding\n",
    "- Look up proper encoding table\n",
    "- Find information on encoding size: \"single-byte character encoding\" (wikipedia)\n",
    "\n",
    "<img src=\"images/cp-1252.png\" width= 550>\n"
   ]
  },
  {
   "cell_type": "code",
   "execution_count": 104,
   "metadata": {},
   "outputs": [],
   "source": [
    "# Let us move on and check how to write files.\n",
    "with open('store_information.dat', mode='w') as f:\n",
    "    f.write('this is important data')\n"
   ]
  },
  {
   "cell_type": "code",
   "execution_count": 105,
   "metadata": {},
   "outputs": [],
   "source": [
    "# What happens if I just write onto the file again?\n",
    "with open('store_information.dat', mode='wb') as f:\n",
    "    f.write(b'Oops, I overwrote the data') # Binary string required!"
   ]
  },
  {
   "cell_type": "code",
   "execution_count": 108,
   "metadata": {},
   "outputs": [],
   "source": [
    "# How to I append data onto a file?\n",
    "with open('store_information.dat', mode='ab') as f:\n",
    "    f.write(b'I am attaching the data') # Binary string required!"
   ]
  },
  {
   "cell_type": "code",
   "execution_count": 134,
   "metadata": {},
   "outputs": [
    {
     "name": "stdout",
     "output_type": "stream",
     "text": [
      "<class 'bytearray'> bytearray(b'\\x01\\x02\\x03\\x04\\x05\\x01\\x04\\t\\x10\\x19')\n"
     ]
    }
   ],
   "source": [
    "# When you want to store a lot of data, you can save space via binary storage\n",
    "with open(\"binfile.bin\",\"wb\") as binary_file:\n",
    "    X = [1,  2,  3,  4,  5]\n",
    "    Y = [1,  4,  9, 16, 25]\n",
    "    arr = bytearray(X)+bytearray(Y)\n",
    "    print(type(arr),arr)\n",
    "    binary_file.write(arr)\n",
    "    \n",
    "    "
   ]
  },
  {
   "cell_type": "code",
   "execution_count": 118,
   "metadata": {},
   "outputs": [
    {
     "name": "stdout",
     "output_type": "stream",
     "text": [
      "\u0001\u0002\u0003\u0004\u0005\u0001\u0004\t\u0010\u0019\n"
     ]
    }
   ],
   "source": [
    "# Let us read the binary wile without the binary mode\n",
    "with open(\"binfile.bin\",\"r\") as binary_file:\n",
    "    text = binary_file.read()\n",
    "print(text)"
   ]
  },
  {
   "cell_type": "code",
   "execution_count": 153,
   "metadata": {},
   "outputs": [
    {
     "name": "stdout",
     "output_type": "stream",
     "text": [
      "b'\\x01\\x02\\x03\\x04\\x05\\x01\\x04\\t\\x10\\x19'\n",
      "\u0001\u0002\u0003\u0004\u0005\u0001\u0004\t\u0010\u0019\n"
     ]
    }
   ],
   "source": [
    "# Now let us read with the binary mode\n",
    "with open(\"binfile.bin\",\"rb\") as binary_file:\n",
    "    text = binary_file.read()\n",
    "print(text) # You get hex value\n",
    "print(text.decode()) # You get decoded representation"
   ]
  },
  {
   "cell_type": "code",
   "execution_count": 143,
   "metadata": {},
   "outputs": [
    {
     "name": "stdout",
     "output_type": "stream",
     "text": [
      "Help on bytes object:\n",
      "\n",
      "class bytes(object)\n",
      " |  bytes(iterable_of_ints) -> bytes\n",
      " |  bytes(string, encoding[, errors]) -> bytes\n",
      " |  bytes(bytes_or_buffer) -> immutable copy of bytes_or_buffer\n",
      " |  bytes(int) -> bytes object of size given by the parameter initialized with null bytes\n",
      " |  bytes() -> empty bytes object\n",
      " |  \n",
      " |  Construct an immutable array of bytes from:\n",
      " |    - an iterable yielding integers in range(256)\n",
      " |    - a text string encoded using the specified encoding\n",
      " |    - any object implementing the buffer API.\n",
      " |    - an integer\n",
      " |  \n",
      " |  Methods defined here:\n",
      " |  \n",
      " |  __add__(self, value, /)\n",
      " |      Return self+value.\n",
      " |  \n",
      " |  __contains__(self, key, /)\n",
      " |      Return key in self.\n",
      " |  \n",
      " |  __eq__(self, value, /)\n",
      " |      Return self==value.\n",
      " |  \n",
      " |  __ge__(self, value, /)\n",
      " |      Return self>=value.\n",
      " |  \n",
      " |  __getattribute__(self, name, /)\n",
      " |      Return getattr(self, name).\n",
      " |  \n",
      " |  __getitem__(self, key, /)\n",
      " |      Return self[key].\n",
      " |  \n",
      " |  __getnewargs__(...)\n",
      " |  \n",
      " |  __gt__(self, value, /)\n",
      " |      Return self>value.\n",
      " |  \n",
      " |  __hash__(self, /)\n",
      " |      Return hash(self).\n",
      " |  \n",
      " |  __iter__(self, /)\n",
      " |      Implement iter(self).\n",
      " |  \n",
      " |  __le__(self, value, /)\n",
      " |      Return self<=value.\n",
      " |  \n",
      " |  __len__(self, /)\n",
      " |      Return len(self).\n",
      " |  \n",
      " |  __lt__(self, value, /)\n",
      " |      Return self<value.\n",
      " |  \n",
      " |  __mod__(self, value, /)\n",
      " |      Return self%value.\n",
      " |  \n",
      " |  __mul__(self, value, /)\n",
      " |      Return self*value.\n",
      " |  \n",
      " |  __ne__(self, value, /)\n",
      " |      Return self!=value.\n",
      " |  \n",
      " |  __repr__(self, /)\n",
      " |      Return repr(self).\n",
      " |  \n",
      " |  __rmod__(self, value, /)\n",
      " |      Return value%self.\n",
      " |  \n",
      " |  __rmul__(self, value, /)\n",
      " |      Return value*self.\n",
      " |  \n",
      " |  __str__(self, /)\n",
      " |      Return str(self).\n",
      " |  \n",
      " |  capitalize(...)\n",
      " |      B.capitalize() -> copy of B\n",
      " |      \n",
      " |      Return a copy of B with only its first character capitalized (ASCII)\n",
      " |      and the rest lower-cased.\n",
      " |  \n",
      " |  center(...)\n",
      " |      B.center(width[, fillchar]) -> copy of B\n",
      " |      \n",
      " |      Return B centered in a string of length width.  Padding is\n",
      " |      done using the specified fill character (default is a space).\n",
      " |  \n",
      " |  count(...)\n",
      " |      B.count(sub[, start[, end]]) -> int\n",
      " |      \n",
      " |      Return the number of non-overlapping occurrences of subsection sub in\n",
      " |      bytes B[start:end].  Optional arguments start and end are interpreted\n",
      " |      as in slice notation.\n",
      " |  \n",
      " |  decode(self, /, encoding='utf-8', errors='strict')\n",
      " |      Decode the bytes using the codec registered for encoding.\n",
      " |      \n",
      " |      encoding\n",
      " |        The encoding with which to decode the bytes.\n",
      " |      errors\n",
      " |        The error handling scheme to use for the handling of decoding errors.\n",
      " |        The default is 'strict' meaning that decoding errors raise a\n",
      " |        UnicodeDecodeError. Other possible values are 'ignore' and 'replace'\n",
      " |        as well as any other name registered with codecs.register_error that\n",
      " |        can handle UnicodeDecodeErrors.\n",
      " |  \n",
      " |  endswith(...)\n",
      " |      B.endswith(suffix[, start[, end]]) -> bool\n",
      " |      \n",
      " |      Return True if B ends with the specified suffix, False otherwise.\n",
      " |      With optional start, test B beginning at that position.\n",
      " |      With optional end, stop comparing B at that position.\n",
      " |      suffix can also be a tuple of bytes to try.\n",
      " |  \n",
      " |  expandtabs(...)\n",
      " |      B.expandtabs(tabsize=8) -> copy of B\n",
      " |      \n",
      " |      Return a copy of B where all tab characters are expanded using spaces.\n",
      " |      If tabsize is not given, a tab size of 8 characters is assumed.\n",
      " |  \n",
      " |  find(...)\n",
      " |      B.find(sub[, start[, end]]) -> int\n",
      " |      \n",
      " |      Return the lowest index in B where subsection sub is found,\n",
      " |      such that sub is contained within B[start,end].  Optional\n",
      " |      arguments start and end are interpreted as in slice notation.\n",
      " |      \n",
      " |      Return -1 on failure.\n",
      " |  \n",
      " |  hex(...)\n",
      " |      B.hex() -> string\n",
      " |      \n",
      " |      Create a string of hexadecimal numbers from a bytes object.\n",
      " |      Example: b'\\xb9\\x01\\xef'.hex() -> 'b901ef'.\n",
      " |  \n",
      " |  index(...)\n",
      " |      B.index(sub[, start[, end]]) -> int\n",
      " |      \n",
      " |      Return the lowest index in B where subsection sub is found,\n",
      " |      such that sub is contained within B[start,end].  Optional\n",
      " |      arguments start and end are interpreted as in slice notation.\n",
      " |      \n",
      " |      Raises ValueError when the subsection is not found.\n",
      " |  \n",
      " |  isalnum(...)\n",
      " |      B.isalnum() -> bool\n",
      " |      \n",
      " |      Return True if all characters in B are alphanumeric\n",
      " |      and there is at least one character in B, False otherwise.\n",
      " |  \n",
      " |  isalpha(...)\n",
      " |      B.isalpha() -> bool\n",
      " |      \n",
      " |      Return True if all characters in B are alphabetic\n",
      " |      and there is at least one character in B, False otherwise.\n",
      " |  \n",
      " |  isascii(...)\n",
      " |      B.isascii() -> bool\n",
      " |      \n",
      " |      Return True if B is empty or all characters in B are ASCII,\n",
      " |      False otherwise.\n",
      " |  \n",
      " |  isdigit(...)\n",
      " |      B.isdigit() -> bool\n",
      " |      \n",
      " |      Return True if all characters in B are digits\n",
      " |      and there is at least one character in B, False otherwise.\n",
      " |  \n",
      " |  islower(...)\n",
      " |      B.islower() -> bool\n",
      " |      \n",
      " |      Return True if all cased characters in B are lowercase and there is\n",
      " |      at least one cased character in B, False otherwise.\n",
      " |  \n",
      " |  isspace(...)\n",
      " |      B.isspace() -> bool\n",
      " |      \n",
      " |      Return True if all characters in B are whitespace\n",
      " |      and there is at least one character in B, False otherwise.\n",
      " |  \n",
      " |  istitle(...)\n",
      " |      B.istitle() -> bool\n",
      " |      \n",
      " |      Return True if B is a titlecased string and there is at least one\n",
      " |      character in B, i.e. uppercase characters may only follow uncased\n",
      " |      characters and lowercase characters only cased ones. Return False\n",
      " |      otherwise.\n",
      " |  \n",
      " |  isupper(...)\n",
      " |      B.isupper() -> bool\n",
      " |      \n",
      " |      Return True if all cased characters in B are uppercase and there is\n",
      " |      at least one cased character in B, False otherwise.\n",
      " |  \n",
      " |  join(self, iterable_of_bytes, /)\n",
      " |      Concatenate any number of bytes objects.\n",
      " |      \n",
      " |      The bytes whose method is called is inserted in between each pair.\n",
      " |      \n",
      " |      The result is returned as a new bytes object.\n",
      " |      \n",
      " |      Example: b'.'.join([b'ab', b'pq', b'rs']) -> b'ab.pq.rs'.\n",
      " |  \n",
      " |  ljust(...)\n",
      " |      B.ljust(width[, fillchar]) -> copy of B\n",
      " |      \n",
      " |      Return B left justified in a string of length width. Padding is\n",
      " |      done using the specified fill character (default is a space).\n",
      " |  \n",
      " |  lower(...)\n",
      " |      B.lower() -> copy of B\n",
      " |      \n",
      " |      Return a copy of B with all ASCII characters converted to lowercase.\n",
      " |  \n",
      " |  lstrip(self, bytes=None, /)\n",
      " |      Strip leading bytes contained in the argument.\n",
      " |      \n",
      " |      If the argument is omitted or None, strip leading  ASCII whitespace.\n",
      " |  \n",
      " |  partition(self, sep, /)\n",
      " |      Partition the bytes into three parts using the given separator.\n",
      " |      \n",
      " |      This will search for the separator sep in the bytes. If the separator is found,\n",
      " |      returns a 3-tuple containing the part before the separator, the separator\n",
      " |      itself, and the part after it.\n",
      " |      \n",
      " |      If the separator is not found, returns a 3-tuple containing the original bytes\n",
      " |      object and two empty bytes objects.\n",
      " |  \n",
      " |  replace(self, old, new, count=-1, /)\n",
      " |      Return a copy with all occurrences of substring old replaced by new.\n",
      " |      \n",
      " |        count\n",
      " |          Maximum number of occurrences to replace.\n",
      " |          -1 (the default value) means replace all occurrences.\n",
      " |      \n",
      " |      If the optional argument count is given, only the first count occurrences are\n",
      " |      replaced.\n",
      " |  \n",
      " |  rfind(...)\n",
      " |      B.rfind(sub[, start[, end]]) -> int\n",
      " |      \n",
      " |      Return the highest index in B where subsection sub is found,\n",
      " |      such that sub is contained within B[start,end].  Optional\n",
      " |      arguments start and end are interpreted as in slice notation.\n",
      " |      \n",
      " |      Return -1 on failure.\n",
      " |  \n",
      " |  rindex(...)\n",
      " |      B.rindex(sub[, start[, end]]) -> int\n",
      " |      \n",
      " |      Return the highest index in B where subsection sub is found,\n",
      " |      such that sub is contained within B[start,end].  Optional\n",
      " |      arguments start and end are interpreted as in slice notation.\n",
      " |      \n",
      " |      Raise ValueError when the subsection is not found.\n",
      " |  \n",
      " |  rjust(...)\n",
      " |      B.rjust(width[, fillchar]) -> copy of B\n",
      " |      \n",
      " |      Return B right justified in a string of length width. Padding is\n",
      " |      done using the specified fill character (default is a space)\n",
      " |  \n",
      " |  rpartition(self, sep, /)\n",
      " |      Partition the bytes into three parts using the given separator.\n",
      " |      \n",
      " |      This will search for the separator sep in the bytes, starting at the end. If\n",
      " |      the separator is found, returns a 3-tuple containing the part before the\n",
      " |      separator, the separator itself, and the part after it.\n",
      " |      \n",
      " |      If the separator is not found, returns a 3-tuple containing two empty bytes\n",
      " |      objects and the original bytes object.\n",
      " |  \n",
      " |  rsplit(self, /, sep=None, maxsplit=-1)\n",
      " |      Return a list of the sections in the bytes, using sep as the delimiter.\n",
      " |      \n",
      " |        sep\n",
      " |          The delimiter according which to split the bytes.\n",
      " |          None (the default value) means split on ASCII whitespace characters\n",
      " |          (space, tab, return, newline, formfeed, vertical tab).\n",
      " |        maxsplit\n",
      " |          Maximum number of splits to do.\n",
      " |          -1 (the default value) means no limit.\n",
      " |      \n",
      " |      Splitting is done starting at the end of the bytes and working to the front.\n",
      " |  \n",
      " |  rstrip(self, bytes=None, /)\n",
      " |      Strip trailing bytes contained in the argument.\n",
      " |      \n",
      " |      If the argument is omitted or None, strip trailing ASCII whitespace.\n",
      " |  \n",
      " |  split(self, /, sep=None, maxsplit=-1)\n",
      " |      Return a list of the sections in the bytes, using sep as the delimiter.\n",
      " |      \n",
      " |      sep\n",
      " |        The delimiter according which to split the bytes.\n",
      " |        None (the default value) means split on ASCII whitespace characters\n",
      " |        (space, tab, return, newline, formfeed, vertical tab).\n",
      " |      maxsplit\n",
      " |        Maximum number of splits to do.\n",
      " |        -1 (the default value) means no limit.\n",
      " |  \n",
      " |  splitlines(self, /, keepends=False)\n",
      " |      Return a list of the lines in the bytes, breaking at line boundaries.\n",
      " |      \n",
      " |      Line breaks are not included in the resulting list unless keepends is given and\n",
      " |      true.\n",
      " |  \n",
      " |  startswith(...)\n",
      " |      B.startswith(prefix[, start[, end]]) -> bool\n",
      " |      \n",
      " |      Return True if B starts with the specified prefix, False otherwise.\n",
      " |      With optional start, test B beginning at that position.\n",
      " |      With optional end, stop comparing B at that position.\n",
      " |      prefix can also be a tuple of bytes to try.\n",
      " |  \n",
      " |  strip(self, bytes=None, /)\n",
      " |      Strip leading and trailing bytes contained in the argument.\n",
      " |      \n",
      " |      If the argument is omitted or None, strip leading and trailing ASCII whitespace.\n",
      " |  \n",
      " |  swapcase(...)\n",
      " |      B.swapcase() -> copy of B\n",
      " |      \n",
      " |      Return a copy of B with uppercase ASCII characters converted\n",
      " |      to lowercase ASCII and vice versa.\n",
      " |  \n",
      " |  title(...)\n",
      " |      B.title() -> copy of B\n",
      " |      \n",
      " |      Return a titlecased version of B, i.e. ASCII words start with uppercase\n",
      " |      characters, all remaining cased characters have lowercase.\n",
      " |  \n",
      " |  translate(self, table, /, delete=b'')\n",
      " |      Return a copy with each character mapped by the given translation table.\n",
      " |      \n",
      " |        table\n",
      " |          Translation table, which must be a bytes object of length 256.\n",
      " |      \n",
      " |      All characters occurring in the optional argument delete are removed.\n",
      " |      The remaining characters are mapped through the given translation table.\n",
      " |  \n",
      " |  upper(...)\n",
      " |      B.upper() -> copy of B\n",
      " |      \n",
      " |      Return a copy of B with all ASCII characters converted to uppercase.\n",
      " |  \n",
      " |  zfill(...)\n",
      " |      B.zfill(width) -> copy of B\n",
      " |      \n",
      " |      Pad a numeric string B with zeros on the left, to fill a field\n",
      " |      of the specified width.  B is never truncated.\n",
      " |  \n",
      " |  ----------------------------------------------------------------------\n",
      " |  Class methods defined here:\n",
      " |  \n",
      " |  fromhex(string, /) from builtins.type\n",
      " |      Create a bytes object from a string of hexadecimal numbers.\n",
      " |      \n",
      " |      Spaces between two numbers are accepted.\n",
      " |      Example: bytes.fromhex('B9 01EF') -> b'\\\\xb9\\\\x01\\\\xef'.\n",
      " |  \n",
      " |  ----------------------------------------------------------------------\n",
      " |  Static methods defined here:\n",
      " |  \n",
      " |  __new__(*args, **kwargs) from builtins.type\n",
      " |      Create and return a new object.  See help(type) for accurate signature.\n",
      " |  \n",
      " |  maketrans(frm, to, /)\n",
      " |      Return a translation table useable for the bytes or bytearray translate method.\n",
      " |      \n",
      " |      The returned table will be one where each byte in frm is mapped to the byte at\n",
      " |      the same position in to.\n",
      " |      \n",
      " |      The bytes objects frm and to must be of the same length.\n",
      "\n",
      "None\n"
     ]
    }
   ],
   "source": [
    "print(help(text)) # Decoded representation?"
   ]
  },
  {
   "cell_type": "code",
   "execution_count": 166,
   "metadata": {},
   "outputs": [
    {
     "name": "stdout",
     "output_type": "stream",
     "text": [
      "(b'\\x01', b'\\x02', b'\\x03', b'\\x04', b'\\x05', b'\\x01', b'\\x04', b'\\t', b'\\x10', b'\\x19')\n",
      "(1, 2, 3, 4, 5, 1, 4, 9, 16, 25)\n",
      "(513, 1027, 261, 2308, 6416)\n",
      "<class 'tuple'>\n",
      "[1, 2, 3, 4, 5] [1, 4, 9, 16, 25]\n"
     ]
    }
   ],
   "source": [
    "# Better handling binary information with struct package from standard library\n",
    "import struct # https://docs.python.org/2/library/struct.html\n",
    "\n",
    "with open(\"binfile.bin\",\"rb\") as binary_file:\n",
    "    binary_string = binary_file.read()\n",
    "\n",
    "# The struct library is useful when you have the exact knowledge on the binary format\n",
    "# We stored 10 units of data, each containing 1 byte of information\n",
    "\n",
    "print(struct.unpack(10*\"s\",binary_string))  #  s: string (1 byte units)\n",
    "\n",
    "data_tuple = struct.unpack(10*\"b\",binary_string)\n",
    "print(struct.unpack(10*\"b\",binary_string))  #  b: signed char (1 byte units)\n",
    "\n",
    "print(struct.unpack( 5*\"h\",binary_string))  #  h: short integer (2 byte units)\n",
    "\n",
    "print(type(data_tuple))\n",
    "\n",
    "X = list(data_tuple[0:5])\n",
    "Y = list(data_tuple[5:10])\n",
    "print(X,Y)\n"
   ]
  },
  {
   "cell_type": "code",
   "execution_count": 194,
   "metadata": {},
   "outputs": [],
   "source": [
    "# Now let us use struct.pack and write binary files again\n",
    "import struct\n",
    "\n",
    "X = [1,  2,  3,  4,  5]\n",
    "Y = [1,  4,  9, 16, 25]\n",
    "\n",
    "with open(\"binfile2.bin\",\"wb\") as binary_file:    # first asterisk (*) for string multiplication\n",
    "    binary_file.write(struct.pack(10*'b', *(X+Y)))# second asterisk(*) for list unpacking"
   ]
  },
  {
   "cell_type": "code",
   "execution_count": 206,
   "metadata": {},
   "outputs": [
    {
     "name": "stdout",
     "output_type": "stream",
     "text": [
      "b'X' 1.0 2.0 3.0 4.0 5.0 b'Y' 1.0 4.0 9.0 16.0 25.0\n",
      "sdddddsddddd\n"
     ]
    }
   ],
   "source": [
    "# Now let us use struct.pack and write binary files again, \n",
    "# this time we are going to specify our format:\n",
    "# 1 byte character 'X', double precision float values for X, 1 byte for character 'Y', \"\" Y\n",
    "\n",
    "# Now let us use struct.pack and write binary files again\n",
    "\n",
    "X = [\"X\" , 1.,  2.,  3.,  4.,  5.]\n",
    "Y = [\"Y\" , 1.,  4.,  9., 16., 25.]\n",
    "X[0] = bytes(\"X\".encode(\"utf-8\")) # utf-8 encoding require, or else error\n",
    "Y[0] = bytes(\"Y\".encode(\"utf-8\"))\n",
    "\n",
    "n = len(X)-1 # We disregard \"X\" or \"Y\"\n",
    "print(*(X+Y))\n",
    "\n",
    "with open(\"binfile2.bin\",\"wb\") as binary_file:  \n",
    "    fmt = 's'+n*'d'+'s'+n*'d'  # Our specified format\n",
    "    print(fmt)\n",
    "    binary_file.write(struct.pack(fmt, *(X+Y)))"
   ]
  },
  {
   "cell_type": "code",
   "execution_count": 1,
   "metadata": {},
   "outputs": [
    {
     "name": "stdout",
     "output_type": "stream",
     "text": [
      "little\n"
     ]
    }
   ],
   "source": [
    "import sys\n",
    "\n",
    "# Check endianness of system\n",
    "print(sys.byteorder)\n",
    "\n",
    "# Check on https://hexed.it/  (C:\\Users\\dean.emmett.smith\\PycharmProjects\\jupyter_test\\lecture-11)"
   ]
  },
  {
   "cell_type": "markdown",
   "metadata": {},
   "source": [
    " **Endianness**: order or sequence of bytes of a word of digital data in computer memory\n",
    "\n",
    "<img src=\"images/endianness.png\" width=500>\n"
   ]
  },
  {
   "cell_type": "code",
   "execution_count": 24,
   "metadata": {},
   "outputs": [
    {
     "name": "stdout",
     "output_type": "stream",
     "text": [
      "False\n",
      "True\n",
      "18\n"
     ]
    }
   ],
   "source": [
    "# Analageously,there is a \"writelines\" method\n",
    "# Let us write a file in an existing folder named \"folder\"\n",
    "\n",
    "with open(\".\\\\folder\\hello_nrw.txt\",mode=\"w\") as file: \n",
    "    file.writelines([\"Hello\\n\",\"ReDi NRW\", \"!!!\"])\n",
    "    print(file.readable())\n",
    "    print(file.writable())\n",
    "    print(file.tell()) # Display current file location.\n",
    "\n"
   ]
  },
  {
   "cell_type": "markdown",
   "metadata": {},
   "source": [
    "### Insights on how to work with some data formats\n",
    "\n",
    "- csv  (today)\n",
    "- json (today)\n",
    "- xslx\n",
    "- xml, html\n",
    "- png, jpg, svg\n",
    "- wav, mp4"
   ]
  },
  {
   "cell_type": "code",
   "execution_count": 5,
   "metadata": {},
   "outputs": [
    {
     "name": "stdout",
     "output_type": "stream",
     "text": [
      "price ;item;type\n",
      "1,30;eggs;dairy\n",
      "4,50;cheese;dairy\n",
      "0,9;banana;fruit\n",
      "0,5;orange ;fruit\n",
      "0,4;apple;fruit\n",
      "1,3;carrot;vegetable\n",
      "2,5;sugar;miscellaneous\n",
      "1,3;flour;miscellaneous\n",
      "3,7;oil;miscellaneous\n",
      "0,9;onion;vegetable\n",
      "3,2;milk;dairy\n",
      "5,7;chocolate;miscellaneous\n",
      "\n"
     ]
    }
   ],
   "source": [
    "# Let us read a csv (comma separated values)\n",
    "with open('.\\\\folder\\grocery_list.csv') as csv_file: # Why did I use a double backslash?\n",
    "    file_content = csv_file.read()\n",
    "print(file_content)"
   ]
  },
  {
   "cell_type": "code",
   "execution_count": 50,
   "metadata": {},
   "outputs": [
    {
     "name": "stdout",
     "output_type": "stream",
     "text": [
      "raw labels ['price ', 'item', 'type\\n']\n",
      "processed labels ['price', 'item', 'type']\n",
      "list index of prices 0\n",
      "My groceries cost 26.2 €\n",
      "I bought the chocolate and have 3.8 € left.:D\n"
     ]
    }
   ],
   "source": [
    "# Script to calculate total expense from list and check of budged of 30 € has been exceeded or not\n",
    "with open(\".\\\\folder\\grocery_list.csv\") as csv_file:\n",
    "    price = []\n",
    "    \n",
    "    # Break down lineinto parts with \";\" separator\n",
    "    raw_labels = csv_file.readline().split(\";\")\n",
    "    print(\"raw labels\",raw_labels)\n",
    "    \n",
    "    # strip removes trailing spaces and newlines\n",
    "    labels = [ label.strip() for label in raw_labels] \n",
    "    print(\"processed labels\", labels)\n",
    "    \n",
    "    key = \"price\"\n",
    "    \n",
    "    # Check if key price is contained in labels\n",
    "    if key in labels:\n",
    "        \n",
    "        # get list index of 'price'\n",
    "        price_idx = labels.index(\"price\")\n",
    "        print(\"list index of prices\",price_idx)\n",
    "        \n",
    "        prices = []\n",
    "\n",
    "        for line in csv_file:\n",
    "            \n",
    "            # Break down line into parts with \";\" separator\n",
    "            raw_data = line.split(\";\")\n",
    "            \n",
    "            # \"strip\" removes trailing spaces and newlines\n",
    "            data = [item.strip() for item in raw_data]\n",
    "            \n",
    "            # Retrieve the price value \n",
    "            price_value_comma = data[price_idx]\n",
    "            \n",
    "            # Replace German \",\" with \".\" demical number convention\n",
    "            price_value = price_value_comma.replace(\",\",\".\")\n",
    "            \n",
    "            prices.append(float(price_value))\n",
    "        \n",
    "        total_expenses = sum(prices)\n",
    "        print(\"My groceries cost\",str(total_expenses), \"€\")\n",
    "        \n",
    "        # Check if budget has been exceeded\n",
    "        budget = 30\n",
    "        if total_expenses >= budget:\n",
    "            print(\"I paid too much, but it was worth the chocolate. :)\")\n",
    "        elif 0 < total_expenses < budget:\n",
    "            print(\"I bought the chocolate and have\",str(round(budget-total_expenses,2)),\"€ left.:D\")\n",
    "        else:\n",
    "            print(\"Oops. How did that happen? :o\")\n",
    "        "
   ]
  },
  {
   "cell_type": "markdown",
   "metadata": {},
   "source": [
    "### JSON file format\n",
    "\n",
    "- Abbreviation for **J**ava**S**cript **O**bject **N**otation (\"self-describing\" and easy to understand)\n",
    "\n",
    "- A lightweight format for storing and transporting (meta-)data\n",
    "\n",
    "- JSON is often used when data is sent from a server to a web page\n",
    "\n",
    "#### Format rules\n",
    "- Data is in key/value pairs\n",
    "- Data is separated by commas\n",
    "- Curly braces hold objects\n",
    "- Square brackets hold arrays\n",
    "\n",
    "#### Example in JSON vs XML\n",
    "\n",
    "Data for a\n",
    "\n",
    "JSON:"
   ]
  },
  {
   "cell_type": "code",
   "execution_count": null,
   "metadata": {},
   "outputs": [],
   "source": [
    "{\n",
    "\n",
    "    \"widget\": {\n",
    "        \"debug\": \"on\",\n",
    "        \"window\": {\n",
    "            \"title\": \"Sample Konfabulator Widget\",\n",
    "            \"name\": \"main_window\",\n",
    "            \"width\": 500,\n",
    "            \"height\": 500\n",
    "        },\n",
    "        \"image\": { \n",
    "            \"src\": \"Images/Sun.png\",\n",
    "            \"name\": \"sun1\",\n",
    "            \"hOffset\": 250,\n",
    "            \"vOffset\": 250,\n",
    "            \"alignment\": \"center\"\n",
    "        },\n",
    "        \"text\": {\n",
    "            \"data\": \"Click Here\",\n",
    "            \"size\": 36,\n",
    "            \"style\": \"bold\",\n",
    "            \"name\": \"text1\",\n",
    "            \"hOffset\": 250,\n",
    "            \"vOffset\": 100,\n",
    "            \"alignment\": \"center\",\n",
    "            \"onMouseUp\": \"sun1.opacity = (sun1.opacity / 100) * 90;\"\n",
    "        }\n",
    "    }\n",
    "\n",
    "}  "
   ]
  },
  {
   "cell_type": "markdown",
   "metadata": {},
   "source": [
    "XML:"
   ]
  },
  {
   "cell_type": "code",
   "execution_count": null,
   "metadata": {},
   "outputs": [],
   "source": [
    "<widget>\n",
    "    <debug>on</debug>\n",
    "    <window title=\"Sample Konfabulator Widget\">\n",
    "        <name>main_window</name>\n",
    "        <width>500</width>\n",
    "        <height>500</height>\n",
    "    </window>\n",
    "    <image src=\"Images/Sun.png\" name=\"sun1\">\n",
    "        <hOffset>250</hOffset>\n",
    "        <vOffset>250</vOffset>\n",
    "        <alignment>center</alignment>\n",
    "    </image>\n",
    "    <text data=\"Click Here\" size=\"36\" style=\"bold\">\n",
    "        <name>text1</name>\n",
    "        <hOffset>250</hOffset>\n",
    "        <vOffset>100</vOffset>\n",
    "        <alignment>center</alignment>\n",
    "        <onMouseUp>\n",
    "            sun1.opacity = (sun1.opacity / 100) * 90;\n",
    "        </onMouseUp>\n",
    "    </text>\n",
    "</widget>"
   ]
  },
  {
   "cell_type": "code",
   "execution_count": 60,
   "metadata": {},
   "outputs": [
    {
     "name": "stdout",
     "output_type": "stream",
     "text": [
      "JSON string (formatted):\n",
      "\n",
      "{\"widget\": {\n",
      "    \"debug\": \"on\",\n",
      "    \"window\": {\n",
      "        \"title\": \"Sample Konfabulator Widget\",\n",
      "        \"name\": \"main_window\",\n",
      "        \"width\": 500,\n",
      "        \"height\": 500\n",
      "    },\n",
      "    \"image\": {\n",
      "        \"src\": \"Images/Sun.png\",\n",
      "        \"name\": \"sun1\",\n",
      "        \"hOffset\": 250,\n",
      "        \"vOffset\": 250,\n",
      "        \"alignment\": \"center\"\n",
      "    },\n",
      "    \"text\": {\n",
      "        \"data\": \"Click Here\",\n",
      "        \"size\": 36,\n",
      "        \"style\": \"bold\",\n",
      "        \"name\": \"text1\",\n",
      "        \"hOffset\": 250,\n",
      "        \"vOffset\": 100,\n",
      "        \"alignment\": \"center\",\n",
      "        \"onMouseUp\": \"sun1.opacity = (sun1.opacity / 100) * 90;\"\n",
      "    }\n",
      "}} \n",
      "Dictionary version (less formatted):\n",
      "\n",
      "{'widget': {'debug': 'on', 'window': {'title': 'Sample Konfabulator Widget', 'name': 'main_window', 'width': 500, 'height': 500}, 'image': {'src': 'Images/Sun.png', 'name': 'sun1', 'hOffset': 250, 'vOffset': 250, 'alignment': 'center'}, 'text': {'data': 'Click Here', 'size': 36, 'style': 'bold', 'name': 'text1', 'hOffset': 250, 'vOffset': 100, 'alignment': 'center', 'onMouseUp': 'sun1.opacity = (sun1.opacity / 100) * 90;'}}}\n"
     ]
    }
   ],
   "source": [
    "# Read json file to python dictionary with loads method\n",
    "import json\n",
    "\n",
    "with open(\".//folder/widget_metadata.json\") as json_file:\n",
    "    # 1. Read content as string\n",
    "    json_string = json_file.read()\n",
    "    print(\"JSON string (formatted):\\n\")\n",
    "    print(json_string)\n",
    "    # 2.\n",
    "    dictionary = json.loads(json_string)\n",
    "\n",
    "print(\"Dictionary version (less formatted):\\n\")\n",
    "print(dictionary)"
   ]
  },
  {
   "cell_type": "code",
   "execution_count": 58,
   "metadata": {},
   "outputs": [
    {
     "name": "stdout",
     "output_type": "stream",
     "text": [
      "[{\"item\": \"eggs\", \"price\": 1.3, \"availability\": true}, {\"item\": \"chocolate\", \"price\": 5.7, \"availability\": false}]\n"
     ]
    }
   ],
   "source": [
    "# Write Python list-dictionary to json file with dumps method\n",
    "\n",
    "short_grocery_list = [{\"item\": \"eggs\", \"price\": 1.3, \"availability\": True}, \n",
    "                     {\"item\": \"chocolate\", \"price\": 5.7, \"availability\": False}]\n",
    "\n",
    "grocery_json_string = json.dumps(short_grocery_list)\n",
    "print(grocery_json_string)\n",
    "\n",
    "with open(\".//folder/grocery_metadata.json\",mode=\"w\") as json_file:\n",
    "    json_file.write(grocery_json_string)"
   ]
  },
  {
   "cell_type": "markdown",
   "metadata": {},
   "source": [
    "**Exercises**:\n",
    "\n",
    "- Write a function \"generate_temp\" to add an empty file \"temp.tmp\" using the \"x\" mode option in a directory \"temp\". The function should use proper error handling (no failures) and used return strings  \"temp file created\" or \"file already existing\" respective of the case. Execute the function twice an print each return value.\n",
    "\n",
    "- Write a script which stores the grocery list data of \"expenses.csv\"\n",
    "- The script should then store data in csv format \"expenses_swapped_format.csv\", but with the rows and colums swapped\n",
    "- Write a script to read the file \"grocery_list.csv\" and print out the <ins>total</ins> expense per  type using csv format:\n",
    "  \n",
    "  type 1,       type 2, ...\n",
    "  \n",
    "  expense 1, expense 2, ...\n",
    "  \n",
    "  \n",
    "- Store the content to file \"expsenses.csv\" using this format given above\n",
    "- Store the content in a json structured dictionary, iterate over list and print each key value pair  per dictionary entry:\n",
    "  \n",
    "  [{\"item\": item_1_name, \"price\": price_1, \"category\": type_1}, {\"item\": item_2_name, \"price\": price_2 \"category\": type_2}, ...]\n",
    "  \n",
    "  \n",
    "- Store the format into a in json file \"expenses.json\"\n",
    "- Store the content in a binary file \"expenses.bin\" using (big endian) memory blocks: \n",
    "  \n",
    "  |item 1| price 1| item 2 | price 2 | ...\n",
    "  \n",
    "  Format: 20 byte charts for per item key, add padding spaces if necessary, and a single precision float value per price.\n",
    "- Print the number of bytes required for the buffer. Research if there is a method.\n",
    "- Write a script to open \"wasser.xyz\" using the first method. The file format specification can be found in the link https://de.wikipedia.org/wiki/Xyz-Format\n",
    "- install numpy https://numpy.org/install/\n",
    "- Iterating over each (relevant coordinate) row in the file,\n",
    "\n",
    "  Store the values of the fifth column in numpy array Q\n",
    "  \n",
    "  Store value of rows two through four in a 2D numpy array R, R should look like\n",
    "  \n",
    "  R = array([[0.000000, 0.000000, 0.000000],\n",
    "  \n",
    "           [0.9611, 0.000000, 0.000000],\n",
    "      \n",
    "           [-0.224986, 0.934448, 0.000000]])\n",
    "  \n",
    "- Assign the product (*) of Q and R to P\n",
    "- Create file \"wasser_analytik.dat\"\n",
    "- Write entire content of \"wasser.xyz\" to file \"wasser_analytik.dat\"\n",
    "- Append line \\*\\*\\*Electrostatic Properties\\*\\*\\*\n",
    "- Append line \"Net charge\": sum(Q) \n",
    "\n",
    "  (Summing all partial charges in Q should give zero net charge)\n",
    "  \n",
    "  \n",
    "- Append line \"Dipole moment\": numpy.linalg.norm(sum(P)) \n",
    "  \n",
    "  (Summing up each dipole moment contribution in P and determining the magnitude of this should give a non-zero value)\n",
    "  \n",
    "  https://numpy.org/doc/stable/reference/generated/numpy.linalg.norm.html\n",
    "  \n",
    "  \n",
    "- Append an empty line (often important in files)\n"
   ]
  }
 ],
 "metadata": {
  "kernelspec": {
   "display_name": "Python 3",
   "language": "python",
   "name": "python3"
  },
  "language_info": {
   "codemirror_mode": {
    "name": "ipython",
    "version": 3
   },
   "file_extension": ".py",
   "mimetype": "text/x-python",
   "name": "python",
   "nbconvert_exporter": "python",
   "pygments_lexer": "ipython3",
   "version": "3.7.9"
  }
 },
 "nbformat": 4,
 "nbformat_minor": 4
}
