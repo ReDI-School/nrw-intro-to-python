{
 "cells": [
  {
   "cell_type": "code",
   "execution_count": null,
   "metadata": {},
   "outputs": [],
   "source": [
    "#Class = template, blueprint for its objects\n",
    "#Objects = sum of instances of a class, \n",
    "#Instance = specific individual representation of class\n",
    "#Attribute = Property of the class or instance\n",
    "#Method = Ddescribes the behaviour of class"
   ]
  },
  {
   "cell_type": "code",
   "execution_count": null,
   "metadata": {},
   "outputs": [],
   "source": [
    "class Dog:\n",
    "    rasse = \"unbekannt\"\n",
    "\n",
    "    def makeSound():\n",
    "        print(\"wau!\")\n",
    "    pass"
   ]
  },
  {
   "cell_type": "code",
   "execution_count": 3,
   "metadata": {},
   "outputs": [
    {
     "name": "stdout",
     "output_type": "stream",
     "text": [
      "Total Employees:  1\n",
      "Total Employees:  1\n"
     ]
    }
   ],
   "source": [
    "class Employee:\n",
    "    empCount = 0 # class variable\n",
    "\n",
    "    def __init__(self, name, salary):\n",
    "        self.name = name # instance variable\n",
    "        self.salary = salary # instance variable\n",
    "        Employee.empCount += 1\n",
    "\n",
    "    @classmethod\n",
    "    def displayEmployeeCount(self):\n",
    "        print(\"Total Employees: \",Employee.empCount)\n",
    "\n",
    "# Create instance\n",
    "e = Employee(\"Stephi\", 100)\n",
    "e.displayEmployeeCount()\n",
    "Employee.displayEmployeeCount()"
   ]
  },
  {
   "cell_type": "markdown",
   "metadata": {},
   "source": [
    "4 Principles of Object Oriented Design\n",
    "1. Encapsulation\n",
    "2. Access control: private, protected, public\n",
    "3. hiding implementation details\n",
    "4. Polymorphism"
   ]
  },
  {
   "cell_type": "markdown",
   "metadata": {},
   "source": [
    "Single Underscore (Protected Variable, similar to Java)"
   ]
  },
  {
   "cell_type": "code",
   "execution_count": null,
   "metadata": {},
   "outputs": [],
   "source": [
    "class Employee:\n",
    "    empCount = 0 # class variable\n",
    "\n",
    "    def __init__(self, name, salary):\n",
    "        self.name = name # instance variable\n",
    "        self._salary = salary # instance variable\n",
    "        Employee.empCount += 1"
   ]
  },
  {
   "cell_type": "markdown",
   "metadata": {},
   "source": [
    "Double Underscore (Private Variable)\n"
   ]
  },
  {
   "cell_type": "code",
   "execution_count": 6,
   "metadata": {},
   "outputs": [
    {
     "name": "stdout",
     "output_type": "stream",
     "text": [
      "Salary:  100\n",
      "New salary:  400\n"
     ]
    }
   ],
   "source": [
    "class Employee:\n",
    "    empCount = 0 # class variable\n",
    "\n",
    "    def __init__(self, name, salary):\n",
    "        self.name = name # instance variable\n",
    "        self.__salary = salary # instance variable\n",
    "        Employee.empCount += 1\n",
    "\n",
    "    @property # Getter\n",
    "    def salary(self):\n",
    "        return self.__salary\n",
    "\n",
    "    @salary.setter\n",
    "    def salary(self, salary2):\n",
    "        self.__salary = salary2 * 2\n",
    "\n",
    "e = Employee(\"Stephi\", 100)\n",
    "print(\"Salary: \",e.salary)\n",
    "e.salary = 200\n",
    "print(\"New salary: \",e.salary)"
   ]
  },
  {
   "cell_type": "code",
   "execution_count": 9,
   "metadata": {},
   "outputs": [
    {
     "name": "stdout",
     "output_type": "stream",
     "text": [
      "Mohamed\n",
      "26\n",
      "Mohamed\n"
     ]
    },
    {
     "ename": "AttributeError",
     "evalue": "'Person' object has no attribute '__age'",
     "output_type": "error",
     "traceback": [
      "\u001b[1;31m---------------------------------------------------------------------------\u001b[0m",
      "\u001b[1;31mAttributeError\u001b[0m                            Traceback (most recent call last)",
      "\u001b[1;32mc:\\Users\\stephanie.cichon\\vscode_wspace\\nrw-intro-to-python\\lecture-11\\temp.ipynb Cell 9'\u001b[0m in \u001b[0;36m<cell line: 13>\u001b[1;34m()\u001b[0m\n\u001b[0;32m     <a href='vscode-notebook-cell:/c%3A/Users/stephanie.cichon/vscode_wspace/nrw-intro-to-python/lecture-11/temp.ipynb#ch0000047?line=10'>11</a>\u001b[0m person\u001b[39m.\u001b[39mdisplay()\n\u001b[0;32m     <a href='vscode-notebook-cell:/c%3A/Users/stephanie.cichon/vscode_wspace/nrw-intro-to-python/lecture-11/temp.ipynb#ch0000047?line=11'>12</a>\u001b[0m \u001b[39mprint\u001b[39m(person\u001b[39m.\u001b[39mname)\n\u001b[1;32m---> <a href='vscode-notebook-cell:/c%3A/Users/stephanie.cichon/vscode_wspace/nrw-intro-to-python/lecture-11/temp.ipynb#ch0000047?line=12'>13</a>\u001b[0m \u001b[39mprint\u001b[39m(person\u001b[39m.\u001b[39;49m__age)\n",
      "\u001b[1;31mAttributeError\u001b[0m: 'Person' object has no attribute '__age'"
     ]
    }
   ],
   "source": [
    "class Person:\n",
    "    def __init__(self, name, age=0):\n",
    "        self.name = name\n",
    "        self.__age = age\n",
    " \n",
    "    def display(self):\n",
    "        print(self.name)\n",
    "        print(self.__age)\n",
    "\n",
    "person = Person(\"Mohamed\", 26)\n",
    "person.display()\n",
    "print(person.name)\n",
    "print(person.__age)"
   ]
  },
  {
   "cell_type": "markdown",
   "metadata": {},
   "source": [
    "## Exercise\n",
    "\n",
    "Write a Python class named `Rectangle` constructed by a length and width and a method which will display the attributes. Use Data encapsulation technique to restrict scope and access through getter and setter"
   ]
  },
  {
   "cell_type": "code",
   "execution_count": 12,
   "metadata": {},
   "outputs": [
    {
     "name": "stdout",
     "output_type": "stream",
     "text": [
      "Width:  10\n",
      "Length:  20\n"
     ]
    }
   ],
   "source": [
    "class Rectangle:\n",
    "\n",
    "    def __init__(self, length, width):\n",
    "        self.__length = length\n",
    "        self.__width = width\n",
    "\n",
    "    @property\n",
    "    def length(self):\n",
    "        return self.__length\n",
    "\n",
    "    @property\n",
    "    def width(self):\n",
    "        return self.__width\n",
    "\n",
    "    @length.setter\n",
    "    def length(self, length):\n",
    "        self.__length = length\n",
    "\n",
    "    @width.setter\n",
    "    def width(self, width):\n",
    "        self.__width = width\n",
    "\n",
    "    def display(self):\n",
    "        print(\"Width: \",self.width)\n",
    "        print(\"Length: \",self.length)\n",
    "    \n",
    "r = Rectangle(width=10, length=20)\n",
    "r.display()"
   ]
  },
  {
   "cell_type": "markdown",
   "metadata": {},
   "source": [
    "# Polymorphism in Python"
   ]
  },
  {
   "cell_type": "code",
   "execution_count": 13,
   "metadata": {},
   "outputs": [
    {
     "name": "stdout",
     "output_type": "stream",
     "text": [
      "4\n",
      "3\n"
     ]
    }
   ],
   "source": [
    "# Example of inbuilt polymorphic functions :\n",
    "# Python program to demonstrate in-built poly-morphic functions\n",
    "  \n",
    "# len() being used for a string\n",
    "print(len(\"ReDi\"))\n",
    "  \n",
    "# len() being used for a list\n",
    "print(len([10, 20, 30]))"
   ]
  },
  {
   "cell_type": "code",
   "execution_count": 14,
   "metadata": {},
   "outputs": [
    {
     "name": "stdout",
     "output_type": "stream",
     "text": [
      "8\n",
      "Hello World\n",
      "[1, 2, 3]\n",
      "(1, 2, 3)\n"
     ]
    }
   ],
   "source": [
    "# We can add numbers\n",
    "print(3 + 5)\n",
    "# we can add (Concatenate) strings, lists, tuples, ...\n",
    "print('Hello ' + 'World')\n",
    "print([1] + [2, 3])\n",
    "print((1,) + (2, 3))"
   ]
  },
  {
   "cell_type": "code",
   "execution_count": 18,
   "metadata": {},
   "outputs": [
    {
     "name": "stdout",
     "output_type": "stream",
     "text": [
      "Miau!\n",
      "Wuf!\n",
      "Hello  How are u?\n"
     ]
    }
   ],
   "source": [
    "class Animal:\n",
    "\n",
    "    def __init__(self,color, name):\n",
    "        self.__color = color\n",
    "        self.__name = name\n",
    "\n",
    "    def makeSound(self):\n",
    "        print(\"undefined\")\n",
    "\n",
    "class Dog(Animal):\n",
    "\n",
    "    def __init__(self,color, name, volume):\n",
    "        super().__init__(color,name)\n",
    "        self.__volume = volume\n",
    "\n",
    "    def makeSound(self):\n",
    "        print(\"Wuf!\")\n",
    "\n",
    "    \n",
    "class Cat(Animal):\n",
    "\n",
    "    def __init__(self,color, name, sleepingHours):\n",
    "        super().__init__(color,name)\n",
    "        self.__sleepingHours = sleepingHours\n",
    "\n",
    "    def makeSound(self):\n",
    "        print(\"Miau!\")\n",
    "\n",
    "class Bird(Animal):\n",
    "\n",
    "    def __init__(self,color, name):\n",
    "        super().__init__(color,name)\n",
    "\n",
    "    def makeSound(self, voice):\n",
    "        print(\"Hello \",voice)\n",
    "\n",
    "    pass\n",
    "\n",
    "cat = Cat(\"red\",\"Poppy\", 18)\n",
    "cat.makeSound()\n",
    "\n",
    "dog = Dog(\"blue\",\"Cookie\", 70)\n",
    "dog.makeSound()\n",
    "\n",
    "bird = Bird(\"yellow\", \"Silvester\")\n",
    "#bird.makeSound()\n",
    "bird.makeSound(\"How are u?\")"
   ]
  },
  {
   "cell_type": "code",
   "execution_count": null,
   "metadata": {},
   "outputs": [],
   "source": [
    "class ParentClass:\n",
    "    # body of ParentClass\n",
    "    # method1 \n",
    "    # method2\n",
    "    pass\n",
    "\n",
    "class ChildClass(ParentClass):  # <- Class in parenthesis is the class we inherit from\n",
    "    # body of ChildClass\n",
    "    # method 1\n",
    "    # method 2\n",
    "    pass"
   ]
  },
  {
   "cell_type": "markdown",
   "metadata": {},
   "source": [
    "# Homework\n",
    "\n",
    "Exercise 1: Create a Vehicle class with max_speed and mileage instance attributes\n",
    "\n",
    "Exercise 2: Create a Vehicle class without any variables and methods\n",
    "\n",
    "Exercise 3: Create a child class Bus that will inherit all of the variables and methods of the Vehicle class\n",
    "\n",
    "Exercise 4: Create a Bus object that will inherit all of the variables and methods of the Vehicle class and display it.\n",
    "\n",
    "Exercise 5: Use the Data encapsulation Technique to make your code safe (By defining scope and using getter and setters)"
   ]
  }
 ],
 "metadata": {
  "colab": {
   "collapsed_sections": [],
   "name": "Advance OOP.ipynb",
   "provenance": [],
   "toc_visible": true
  },
  "kernelspec": {
   "display_name": "Python 3 (ipykernel)",
   "language": "python",
   "name": "python3"
  },
  "language_info": {
   "codemirror_mode": {
    "name": "ipython",
    "version": 3
   },
   "file_extension": ".py",
   "mimetype": "text/x-python",
   "name": "python",
   "nbconvert_exporter": "python",
   "pygments_lexer": "ipython3",
   "version": "3.10.4"
  }
 },
 "nbformat": 4,
 "nbformat_minor": 4
}
