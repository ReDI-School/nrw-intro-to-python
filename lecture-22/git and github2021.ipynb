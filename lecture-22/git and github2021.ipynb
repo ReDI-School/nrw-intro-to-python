{
 "cells": [
  {
   "cell_type": "markdown",
   "id": "286e50f3-6ba7-49a1-b074-1fa297e1c767",
   "metadata": {},
   "source": [
    "## what is git ? \n",
    "free and open source version control system (VCS)"
   ]
  },
  {
   "cell_type": "markdown",
   "id": "eac80a71-3154-414e-9545-310d4d4cb038",
   "metadata": {},
   "source": [
    "## what is version control system  VCS ? \n",
    "the management of changes to documents, computer programs, large web sites, and other collections of information \n"
   ]
  },
  {
   "cell_type": "markdown",
   "id": "24d2657d-6823-412f-b895-979eb79d9da4",
   "metadata": {},
   "source": [
    "## Terminology \n",
    "Directory = folder  \n",
    "\n",
    "Terminal or Command Line = interface for text commands  = bridge connecting local and remote repository \n",
    "\n",
    "cd = change directory   \n",
    "\n",
    "Repository = storage = Project, or the folder place where your project is kept  "
   ]
  },
  {
   "cell_type": "markdown",
   "id": "0daad93c-d10a-40e5-9789-44aa4036e054",
   "metadata": {},
   "source": [
    "## git commands \n",
    "clone = bring a repository that is hosted somewhere like github into a folder on your local machine\n",
    "\n",
    "add = track your files and changes in git  \n",
    "\n",
    "commit = save your files in git  \n",
    "\n",
    "push = upload git commits to a remote repo, like github  \n",
    "\n",
    "pull = download changes from github to your local machine, the opposite of push \n"
   ]
  },
  {
   "cell_type": "markdown",
   "id": "3f16800d-02cf-4089-9cd0-ab8e80dbe0c6",
   "metadata": {},
   "source": [
    "## Create a new repository in github "
   ]
  },
  {
   "cell_type": "markdown",
   "id": "feded216-fcb5-46be-98bc-679cf3efffff",
   "metadata": {},
   "source": [
    "## FYI : Jupyter lab shortcut \n",
    "m  \n",
    "y  \n",
    "shift enter  \n",
    "a  \n",
    "b  \n",
    "dd  \n",
    "c  \n",
    "v"
   ]
  },
  {
   "cell_type": "markdown",
   "id": "5eb05e64-54bf-4d14-9f7d-eded84b258dc",
   "metadata": {},
   "source": [
    "## FYI : Markdown shortcut \n",
    "\n",
    "https://www.ibm.com/docs/en/watson-studio-local/1.2.3?topic=notebooks-markdown-jupyter-cheatsheet"
   ]
  },
  {
   "cell_type": "markdown",
   "id": "3390724c-96be-48dd-b2ae-1166aca1cb6c",
   "metadata": {},
   "source": []
  },
  {
   "cell_type": "markdown",
   "id": "5ced84f3-bdd7-442f-b4c2-aa4bf5a2e161",
   "metadata": {},
   "source": []
  },
  {
   "cell_type": "markdown",
   "id": "6db71e28-f88e-4504-93aa-d3f6ae33feac",
   "metadata": {},
   "source": []
  }
 ],
 "metadata": {
  "kernelspec": {
   "display_name": "Python 3",
   "language": "python",
   "name": "python3"
  },
  "language_info": {
   "codemirror_mode": {
    "name": "ipython",
    "version": 3
   },
   "file_extension": ".py",
   "mimetype": "text/x-python",
   "name": "python",
   "nbconvert_exporter": "python",
   "pygments_lexer": "ipython3",
   "version": "3.8.8"
  }
 },
 "nbformat": 4,
 "nbformat_minor": 5
}
