{
 "cells": [
  {
   "cell_type": "markdown",
   "metadata": {},
   "source": [
    "## Housekeeping\n",
    "If you have not done so, you have to install the libraries\n",
    "* numpy\n",
    "* pandas\n",
    "* matplotlib"
   ]
  },
  {
   "cell_type": "markdown",
   "metadata": {},
   "source": [
    "# [Numpy](https://numpy.org/)\n",
    "(Numerical Python)"
   ]
  },
  {
   "cell_type": "markdown",
   "metadata": {},
   "source": [
    "[Numpy](https://numpy.org/) is the core library for scientific computing in Python. It provides a high-performance multidimensional array object, and tools for working with these arrays. It lays at the foundation of an entire ecosystem of libraries to deal with (numerical) data in Python, some of which will be covered later in this lecture and in this course.\n",
    "\n",
    "A [numpy array](https://numpy.org/doc/stable/reference/generated/numpy.ndarray.html) is\n",
    "* a grid of values,\n",
    "* all of the same type,\n",
    "* and is indexed by a tuple of nonnegative integers.\n",
    "\n",
    "Numpy arrays can have any number of dimenions\n",
    "* 1-dimensional (think of vectors)\n",
    "* 2-dimensional (think of matrices)\n",
    "* $n$-dimensional (hard to imagine and rarely used but mathematically possible)\n",
    "\n",
    "Numpy also provides many functions to work with these arrays (e.g. do math with them). These functions are usually by far the fastest way to work with numbers in Python (_much_ faster than writing your own for loop)!"
   ]
  },
  {
   "cell_type": "code",
   "execution_count": null,
   "metadata": {},
   "outputs": [],
   "source": [
    "# import Library\n",
    "import numpy as np  # np is the conventially used shorthand for numpy"
   ]
  },
  {
   "cell_type": "markdown",
   "metadata": {},
   "source": [
    "## One Dimensional Arrays"
   ]
  },
  {
   "cell_type": "code",
   "execution_count": null,
   "metadata": {},
   "outputs": [],
   "source": [
    "a = np.array([1, 2, 3])"
   ]
  },
  {
   "cell_type": "code",
   "execution_count": null,
   "metadata": {},
   "outputs": [],
   "source": [
    "a"
   ]
  },
  {
   "cell_type": "code",
   "execution_count": null,
   "metadata": {},
   "outputs": [],
   "source": [
    "type(a)  # note: It's not just a list or tuple"
   ]
  },
  {
   "cell_type": "markdown",
   "metadata": {},
   "source": [
    "The [`shape`](https://numpy.org/doc/stable/reference/generated/numpy.ndarray.shape.html) property of an ndarray object tells you\n",
    "* the numer of dimensions (given through the number of elements)\n",
    "* the number of entries per dimension"
   ]
  },
  {
   "cell_type": "code",
   "execution_count": null,
   "metadata": {},
   "outputs": [],
   "source": [
    "a.shape"
   ]
  },
  {
   "cell_type": "code",
   "execution_count": null,
   "metadata": {},
   "outputs": [],
   "source": [
    "a[2]  # remember, that indices are 0-based, so index 2 is the third entry in the vector"
   ]
  },
  {
   "cell_type": "code",
   "execution_count": null,
   "metadata": {},
   "outputs": [],
   "source": [
    "# We can also overwrite individual elements\n",
    "a[1] = 10\n",
    "a"
   ]
  },
  {
   "cell_type": "markdown",
   "metadata": {},
   "source": [
    "### Simple Math on Array Elements\n",
    "If you consider an array as a collection of numbers, it is easy to calculate let's say the sum or mean of the numbers.\n",
    "\n",
    "While you probably could do most of this also using for loops, this is _much_ faster!"
   ]
  },
  {
   "cell_type": "code",
   "execution_count": null,
   "metadata": {},
   "outputs": [],
   "source": [
    "x = np.array([1, 2, 3, 4, 5, 6])\n",
    "print(f'Sum of elements is {x.sum()}, the mean of elements is {x.mean()}, standard deviation of elements is {x.std()}')"
   ]
  },
  {
   "cell_type": "markdown",
   "metadata": {},
   "source": [
    "## Two-Dimensional Numpy Arrays"
   ]
  },
  {
   "cell_type": "code",
   "execution_count": null,
   "metadata": {},
   "outputs": [],
   "source": [
    "# Create a rank 2 array (line breaks are optional, but help to visualize the structure of the resulting object)\n",
    "b = np.array([\n",
    "    [1, 2, 3],\n",
    "    [4, 5, 6]\n",
    "])"
   ]
  },
  {
   "cell_type": "code",
   "execution_count": null,
   "metadata": {},
   "outputs": [],
   "source": [
    "b"
   ]
  },
  {
   "cell_type": "code",
   "execution_count": null,
   "metadata": {},
   "outputs": [],
   "source": [
    "b.shape"
   ]
  },
  {
   "cell_type": "code",
   "execution_count": null,
   "metadata": {},
   "outputs": [],
   "source": [
    "b[1, 2]  # following mathematical convention, first index specifies the row, second index the column"
   ]
  },
  {
   "cell_type": "markdown",
   "metadata": {},
   "source": [
    "### Example: Create the following rank 2 array with shape $3\\times 4$\n",
    "$$\n",
    "    \\begin{pmatrix}\n",
    "        1 & 2 & 3 & 4 \\\\\n",
    "        5 & 6 & 7 & 8 \\\\\n",
    "        9 & 10 & 11 & 12\n",
    "    \\end{pmatrix}\n",
    "$$"
   ]
  },
  {
   "cell_type": "code",
   "execution_count": null,
   "metadata": {},
   "outputs": [],
   "source": [
    "my_array_2d = np.array([\n",
    "    [1, 2, 3, 4],\n",
    "    [5, 6, 7, 8],\n",
    "    [9, 10, 11, 12]\n",
    "])"
   ]
  },
  {
   "cell_type": "code",
   "execution_count": null,
   "metadata": {},
   "outputs": [],
   "source": [
    "my_array_2d"
   ]
  },
  {
   "cell_type": "code",
   "execution_count": null,
   "metadata": {},
   "outputs": [],
   "source": [
    "my_array_2d.shape"
   ]
  },
  {
   "cell_type": "markdown",
   "metadata": {},
   "source": [
    "## Slicing of Numpy Arrays\n",
    "[Slicing](https://numpy.org/doc/stable/reference/arrays.indexing.html#basic-slicing-and-indexing) provides means to address/extract/overwrite more than a single element from an array at a time.\n",
    "\n",
    "For every dimension, you may specify:\n",
    "* A single index (as before, negative values count from the end)\n",
    "* A range of indices (using the `start:end` or `start:end:interval` notation)\n",
    "* All elements along the dimension (using `:`)"
   ]
  },
  {
   "cell_type": "code",
   "execution_count": null,
   "metadata": {},
   "outputs": [],
   "source": [
    "my_array_2d"
   ]
  },
  {
   "cell_type": "code",
   "execution_count": null,
   "metadata": {},
   "outputs": [],
   "source": [
    "# only the first row\n",
    "print(f'first row {my_array_2d[0, :]}')\n",
    "# only the first column\n",
    "print(f'first column {my_array_2d[:, 0]}')\n",
    "\n",
    "print(f'last row {my_array_2d[-1, :]}')\n",
    "print(f'last column {my_array_2d[:, -1]}')"
   ]
  },
  {
   "cell_type": "markdown",
   "metadata": {},
   "source": [
    "### Example:\n",
    "Use slicing to pull out the subarray consisting of the first 2 rows and columns 1 and 2. The result should be\n",
    "\n",
    "$$\n",
    "\\begin{pmatrix}\n",
    "2 & 3\\\\\n",
    "6 & 7\n",
    "\\end{pmatrix}\n",
    "$$"
   ]
  },
  {
   "cell_type": "code",
   "execution_count": null,
   "metadata": {},
   "outputs": [],
   "source": [
    "my_array_2d[0:2, 1:3]"
   ]
  },
  {
   "cell_type": "markdown",
   "metadata": {},
   "source": [
    "**Important**: A slice of an array is a _view_ into the same data, so modifying it will modify the original array."
   ]
  },
  {
   "cell_type": "code",
   "execution_count": null,
   "metadata": {},
   "outputs": [],
   "source": [
    "my_slice = my_array_2d[-1, :]"
   ]
  },
  {
   "cell_type": "code",
   "execution_count": null,
   "metadata": {},
   "outputs": [],
   "source": [
    "my_slice"
   ]
  },
  {
   "cell_type": "code",
   "execution_count": null,
   "metadata": {},
   "outputs": [],
   "source": [
    "# Overwriting a value \"in the slice\" will also affect the \"original\" array.\n",
    "my_slice = 15\n",
    "my_array_2d"
   ]
  },
  {
   "cell_type": "markdown",
   "metadata": {},
   "source": [
    "### Simple math on Elements of two (or more) dimensional arrays\n",
    "We can still take the sum/average/... of elements in two or more dimensional arrays, but we need to specify the dimension(s) along which we want to aggregate."
   ]
  },
  {
   "cell_type": "code",
   "execution_count": null,
   "metadata": {},
   "outputs": [],
   "source": [
    "b = np.array([\n",
    "    [1, 2, 3],\n",
    "    [4, 5, 6]\n",
    "])"
   ]
  },
  {
   "cell_type": "code",
   "execution_count": null,
   "metadata": {},
   "outputs": [],
   "source": [
    "b.sum(axis=0)  # take axis along first dimension (columns)"
   ]
  },
  {
   "cell_type": "code",
   "execution_count": null,
   "metadata": {},
   "outputs": [],
   "source": [
    "b.sum(axis=1)  # take axis along second dimension (rows)"
   ]
  },
  {
   "cell_type": "markdown",
   "metadata": {},
   "source": [
    "## Datatypes"
   ]
  },
  {
   "cell_type": "markdown",
   "metadata": {},
   "source": [
    "Every numpy array is a grid of elements of the same type. Numpy provides [a large set](https://numpy.org/doc/stable/user/basics.types.html) of numeric datatypes that you can use to construct arrays. Numpy tries to guess a datatype when you create an array.\n",
    "\n",
    "While you can store non-numeric data in numpy arrays, this is not what they are really meant for!"
   ]
  },
  {
   "cell_type": "code",
   "execution_count": null,
   "metadata": {},
   "outputs": [],
   "source": [
    "x = np.array([1, 2])"
   ]
  },
  {
   "cell_type": "code",
   "execution_count": null,
   "metadata": {},
   "outputs": [],
   "source": [
    "x.dtype"
   ]
  },
  {
   "cell_type": "code",
   "execution_count": null,
   "metadata": {},
   "outputs": [],
   "source": [
    "x = np.array([1.5, 2.5, 3.5])"
   ]
  },
  {
   "cell_type": "code",
   "execution_count": null,
   "metadata": {},
   "outputs": [],
   "source": [
    "x.dtype"
   ]
  },
  {
   "cell_type": "markdown",
   "metadata": {},
   "source": [
    "You can also specify the datatype"
   ]
  },
  {
   "cell_type": "code",
   "execution_count": null,
   "metadata": {},
   "outputs": [],
   "source": [
    "x = np.array([1, 2], dtype=np.int64)"
   ]
  },
  {
   "cell_type": "code",
   "execution_count": null,
   "metadata": {},
   "outputs": [],
   "source": [
    "x.dtype"
   ]
  },
  {
   "cell_type": "markdown",
   "metadata": {},
   "source": [
    "or change the datatype"
   ]
  },
  {
   "cell_type": "code",
   "execution_count": null,
   "metadata": {},
   "outputs": [],
   "source": [
    "x.astype(np.float64)  # note that the entries are now floats"
   ]
  },
  {
   "cell_type": "markdown",
   "metadata": {},
   "source": [
    "## Elementwise Operations on Numpy Arrays\n",
    "Numpy allows us to do algebraic operations on arrays."
   ]
  },
  {
   "cell_type": "code",
   "execution_count": null,
   "metadata": {},
   "outputs": [],
   "source": [
    "x = np.array([\n",
    "    [1, 2],\n",
    "    [3, 4]\n",
    "])"
   ]
  },
  {
   "cell_type": "code",
   "execution_count": null,
   "metadata": {},
   "outputs": [],
   "source": [
    "y = np.array([\n",
    "    [5, 6],\n",
    "    [7, 8]\n",
    "])"
   ]
  },
  {
   "cell_type": "code",
   "execution_count": null,
   "metadata": {},
   "outputs": [],
   "source": [
    "x + y  # Normal sum operation (element-wise summation)"
   ]
  },
  {
   "cell_type": "code",
   "execution_count": null,
   "metadata": {},
   "outputs": [],
   "source": [
    "np.add(x, y) #alternatively we can again use Numpy to do the sum operation:"
   ]
  },
  {
   "cell_type": "code",
   "execution_count": null,
   "metadata": {},
   "outputs": [],
   "source": [
    "y - x  # element-wise difference"
   ]
  },
  {
   "cell_type": "code",
   "execution_count": null,
   "metadata": {},
   "outputs": [],
   "source": [
    "np.subtract(y, x)"
   ]
  },
  {
   "cell_type": "code",
   "execution_count": null,
   "metadata": {},
   "outputs": [],
   "source": [
    "x * y  # this is the ELEMENTWISE Multiplication of two matrices"
   ]
  },
  {
   "cell_type": "code",
   "execution_count": null,
   "metadata": {},
   "outputs": [],
   "source": [
    "np.multiply(x,y)"
   ]
  },
  {
   "cell_type": "code",
   "execution_count": null,
   "metadata": {},
   "outputs": [],
   "source": [
    "x / y"
   ]
  },
  {
   "cell_type": "code",
   "execution_count": null,
   "metadata": {},
   "outputs": [],
   "source": [
    "np.divide(x,y)"
   ]
  },
  {
   "cell_type": "code",
   "execution_count": null,
   "metadata": {},
   "outputs": [],
   "source": [
    "np.sqrt(y)"
   ]
  },
  {
   "cell_type": "markdown",
   "metadata": {
    "tags": []
   },
   "source": [
    "## Binary Masks\n",
    "You can also select entries by passing a boolean array of the same shape.\n",
    "\n",
    "Assume, we want to get all odd numbers from an array:"
   ]
  },
  {
   "cell_type": "code",
   "execution_count": null,
   "metadata": {},
   "outputs": [],
   "source": [
    "x = np.array([1, 2, 3])\n",
    "x[[True, False, True]]  # only get first and third element"
   ]
  },
  {
   "cell_type": "markdown",
   "metadata": {},
   "source": [
    "This is particularly powerful in conjunction with element-wise operations and comparisons. Note that the following expression returns not a single boolean value, but a boolean array:"
   ]
  },
  {
   "cell_type": "code",
   "execution_count": null,
   "metadata": {},
   "outputs": [],
   "source": [
    "x % 2 == 1"
   ]
  },
  {
   "cell_type": "markdown",
   "metadata": {},
   "source": [
    "So to get all odd entries from an array, we can mask it like:"
   ]
  },
  {
   "cell_type": "code",
   "execution_count": null,
   "metadata": {},
   "outputs": [],
   "source": [
    "x[x % 2 == 1]"
   ]
  },
  {
   "cell_type": "markdown",
   "metadata": {},
   "source": [
    "## Matrix Multiplication (Dot-Product)\n",
    "Elementwise multiplication of matrices is not what you might expect when multiplying two matrices. [\"Proper Matrix Multiplication\"](https://en.wikipedia.org/wiki/Matrix_multiplication) (applying the [dot product](https://en.wikipedia.org/wiki/Dot_product)) is available using [`np.dot`](https://numpy.org/doc/stable/reference/generated/numpy.dot.html#numpy.dot)\n",
    "\n",
    "![Matrix Multiplication, figure from wikipedia.org (User:bilou)](https://upload.wikimedia.org/wikipedia/commons/thumb/e/eb/Matrix_multiplication_diagram_2.svg/546px-Matrix_multiplication_diagram_2.svg.png)"
   ]
  },
  {
   "cell_type": "code",
   "execution_count": null,
   "metadata": {},
   "outputs": [],
   "source": [
    "x = np.array([\n",
    "    [1, 2],\n",
    "    [3, 4]\n",
    "])\n",
    "y = np.array([\n",
    "    [5, 6],\n",
    "    [7, 8]\n",
    "])"
   ]
  },
  {
   "cell_type": "code",
   "execution_count": null,
   "metadata": {},
   "outputs": [],
   "source": [
    "np.dot(x, y)"
   ]
  },
  {
   "cell_type": "code",
   "execution_count": null,
   "metadata": {},
   "outputs": [],
   "source": [
    "# The top left element of the result of the matrix multiplication...\n",
    "matrix_multiplication = np.dot(x, y)[0, 0]\n",
    "# is the dot product of the first row of x and the first column of y\n",
    "dot_product = np.dot(x[0,:], y[:,0])\n",
    "print(matrix_multiplication, dot_product)"
   ]
  },
  {
   "cell_type": "markdown",
   "metadata": {},
   "source": [
    "Numpy's dot function also enables to multiply matrices (2d arrays) with vectors (1d arrays) (equivalent of calculating $A\\cdot \\vec{x}$:\n",
    "$$\n",
    "    \\begin{pmatrix}\n",
    "        a_{1,1} & a_{1,2} & a_{1,3} \\\\\n",
    "        a_{2,1} & a_{2,2} & a_{2,3}\n",
    "    \\end{pmatrix} \\cdot\n",
    "    \\left(\\begin{array}{c} x_1 \\\\ x_2 \\\\ x_3 \\end{array}\\right)\n",
    "    = \n",
    "    \\left(\\begin{array}{c} a_{1,1}\\cdot x_1 a_{1,2}\\cdot x_2 + a_{1,3}\\cdot x_3 \\\\ a_{2,1}\\cdot x_1 a_{2,2}\\cdot x_2 + a_{2,3}\\cdot x_3 \\end{array}\\right)\n",
    "$$"
   ]
  },
  {
   "cell_type": "code",
   "execution_count": null,
   "metadata": {},
   "outputs": [],
   "source": [
    "A = np.array([\n",
    "    [1, 2, 3],\n",
    "    [4, 5, 6]\n",
    "])\n",
    "x = np.array([1, 2, 3])\n",
    "np.dot(A, x)"
   ]
  },
  {
   "cell_type": "markdown",
   "metadata": {},
   "source": [
    "## [Broadcasting](https://numpy.org/doc/stable/user/basics.broadcasting.html) in Numpy\n",
    "So far, we have only added, multiplied, ... arrays that were in right format (e.g. had the same shape for elementwise operations). However, numpy can also do the following:"
   ]
  },
  {
   "cell_type": "code",
   "execution_count": null,
   "metadata": {},
   "outputs": [],
   "source": [
    "x = np.array([1, 2, 3])"
   ]
  },
  {
   "cell_type": "code",
   "execution_count": null,
   "metadata": {},
   "outputs": [],
   "source": [
    "x + 5  # one can also subtract/multiply with/divide by/take modulo w.r.t./... scalar"
   ]
  },
  {
   "cell_type": "code",
   "execution_count": null,
   "metadata": {},
   "outputs": [],
   "source": [
    "x % 3"
   ]
  },
  {
   "cell_type": "markdown",
   "metadata": {},
   "source": [
    "Under the hood, numpy realizes that the two objects, while not of compatible shape, can be brought into compatible shape by \"stretching\" the scalar as in this picture from the numpy documentation:\n",
    "\n",
    "![Broadcasting rules in Numpy](https://numpy.org/doc/stable/_images/theory.broadcast_1.gif)\n",
    "\n",
    "The [Numpy documentation](https://numpy.org/doc/stable/user/theory.broadcasting.html#array-broadcasting-in-numpy) states:\n",
    "> In order to broadcast, the size of the trailing axes for both arrays in an operation must either be the same size or one of them must be one.\n",
    "\n",
    "Scalars in this context are treated as $1\\times 1$ matrices.\n",
    "\n",
    "A more surprising example below, where we start with an array of shape $2 \\times 3$:"
   ]
  },
  {
   "cell_type": "code",
   "execution_count": null,
   "metadata": {},
   "outputs": [],
   "source": [
    "small_matrix = np.array([\n",
    "    [1, 2, 3],\n",
    "    [4, 5, 6]\n",
    "])\n",
    "small_matrix + np.array([1, 2, 3])  # the last dimension of the small_matrix equals the only dimension of the second array"
   ]
  },
  {
   "cell_type": "markdown",
   "metadata": {},
   "source": [
    "Under the hood, the array $\\left( 1, 2, 3\\right)$ is broadcasted into $\\begin{pmatrix} 1 & 2 & 3 \\\\ 1 & 2 & 3 \\end{pmatrix}$, so it has the same shape ($2 \\times 3$) as `small_matrix` and thus, elementwise operations can take place.\n",
    "\n",
    "The following also works: The second array is of shape $2 \\times 1$. So...\n",
    "* the first dimenion matches (2 for both objectts) and\n",
    "* for the second dimension, the element with only one entry is \"stretched\"."
   ]
  },
  {
   "cell_type": "code",
   "execution_count": null,
   "metadata": {},
   "outputs": [],
   "source": [
    "small_matrix + np.array([\n",
    "    [1],\n",
    "    [2]\n",
    "])"
   ]
  },
  {
   "cell_type": "markdown",
   "metadata": {},
   "source": [
    "# [Pandas](https://pandas.pydata.org/)"
   ]
  },
  {
   "cell_type": "markdown",
   "metadata": {},
   "source": [
    "## DataFrames in Python\n",
    "\n",
    "Pandas [DataFrames](https://pandas.pydata.org/pandas-docs/stable/reference/api/pandas.DataFrame.html) are the go-to tool in the python ecosystem to work _tabular_, such as\n",
    "* reading (e.g. from Excel, CSV, Databases, Big Data Platforms)\n",
    "* manipulating\n",
    "* filtering\n",
    "* transforming\n",
    "* storing (e.g. to Excel, CSV, Databases, Big Data Platforms)\n",
    "\n",
    "this data.\n",
    "\n",
    "_Tabular_ means that DataFrames always look like an Excel Spreadsheets, i.e. they have rows and columns.\n",
    "\n",
    "| _index_ | Name of City | Inhabitants |\n",
    "| --- | --- | --- |\n",
    "| 0 | Cologne | 1083498 |\n",
    "| 1 | Düsseldorf | 620523 |\n",
    "\n",
    "As compared with Numpy arrays, DataFrames\n",
    "* Always have 2 dimensions\n",
    "* Can have different data types in different columns\n",
    "* Can have indices that are not integers (similar to dictionaries)\n",
    "\n",
    "Pandas is a popular Python package for data science, it offers powerful, expressive and flexible data structures that make data manipulation and analysis easy, among many other things. The DataFrame is one of these structures.\n",
    "\n",
    "Data frame is a way to store data in rectangular grids that can easily be overviewed. Each row of these grids corresponds to measurements or values of an instance, while each column is a vector containing data for a specific variable. This means that a data frame’s rows do not need to contain, but can contain, the same type of values: they can be numeric, character, logical, etc.\n",
    "\n",
    "Besides that, pandas also offers the [`Series`](https://pandas.pydata.org/pandas-docs/stable/reference/series.html) class, which is one dimensional (has only one index plus an axes label). An example of a Series object is one column from a DataFrame."
   ]
  },
  {
   "cell_type": "code",
   "execution_count": null,
   "metadata": {},
   "outputs": [],
   "source": [
    "#import the library\n",
    "import pandas as pd  # again, pd is the commonly used shorthand for pandas"
   ]
  },
  {
   "cell_type": "markdown",
   "metadata": {},
   "source": [
    "## Creating DataFrames\n",
    "To create a DataFrame, we need to provide\n",
    "* the data\n",
    "* the `index` values (by which we can access rows) (By default, positive integers are used)\n",
    "* the names of the `columns` (by which we can access columns) (By default, positive integers are used)\n",
    "\n",
    "However: Pandas is smart and supports a variety of formats to define your data."
   ]
  },
  {
   "cell_type": "code",
   "execution_count": null,
   "metadata": {},
   "outputs": [],
   "source": [
    "# defining a Numpy array \n",
    "my_2darray = np.array([\n",
    "    [1, 2, 3],\n",
    "    [4, 5, 6],\n",
    "    [7, 8, 9]\n",
    "])"
   ]
  },
  {
   "cell_type": "code",
   "execution_count": null,
   "metadata": {},
   "outputs": [],
   "source": [
    "pd.DataFrame(my_2darray) # Converting it to a Data frame, not specifying index or columns"
   ]
  },
  {
   "cell_type": "code",
   "execution_count": null,
   "metadata": {},
   "outputs": [],
   "source": [
    "# Specifying the index as well names\n",
    "pd.DataFrame(\n",
    "    my_2darray,  # the data, as before\n",
    "    index=[10, 20, 30],\n",
    "    columns=['a', 'b', 'c']\n",
    ")"
   ]
  },
  {
   "cell_type": "markdown",
   "metadata": {},
   "source": [
    "### (Some) Alternative ways to construct DataFrames\n",
    "Alternatively, we could for example:"
   ]
  },
  {
   "cell_type": "code",
   "execution_count": null,
   "metadata": {},
   "outputs": [],
   "source": [
    "# Create a DataFrame from a Dictionary with lists as values (keys are interpreted as column names)\n",
    "pd.DataFrame(\n",
    "    {  # same data as before\n",
    "        'a': [1, 4, 7],  # values in column a\n",
    "        'b': [2, 5, 8],\n",
    "        'c': [3, 6, 9]\n",
    "    },  \n",
    "    index=[10, 20, 30],\n",
    "    # we do not need to specify the columns now, as the dictionary defined them\n",
    ")"
   ]
  },
  {
   "cell_type": "code",
   "execution_count": null,
   "metadata": {},
   "outputs": [],
   "source": [
    "# Create a DataFrame from a list of dictionaries (where every dictionary defines one row/observation).\n",
    "pd.DataFrame(\n",
    "    [  # same data as before\n",
    "        {'a': 1, 'b': 2, 'c': 3},  # values in first row\n",
    "        {'a': 4, 'b': 5, 'c': 6},\n",
    "        {'a': 7, 'b': 8, 'c': 9},\n",
    "    ],  \n",
    "    index=[10, 20, 30],\n",
    "    # we do not need to specify the columns now, as the dictionaries defined them\n",
    ")"
   ]
  },
  {
   "cell_type": "markdown",
   "metadata": {},
   "source": [
    "### Reading DataFrames from sources\n",
    "Pandas offers a [wide range](https://pandas.pydata.org/pandas-docs/stable/user_guide/io.html#io) of supported in- and output formats. In this example, we will simply read in a CSV file:"
   ]
  },
  {
   "cell_type": "code",
   "execution_count": null,
   "metadata": {},
   "outputs": [],
   "source": [
    "nrw_cities = pd.read_csv(\n",
    "    'data/nrw_cities.csv',  # filename\n",
    "    sep=';'  # field separator\n",
    ")"
   ]
  },
  {
   "cell_type": "markdown",
   "metadata": {},
   "source": [
    "## Exploring a new DataFrame"
   ]
  },
  {
   "cell_type": "code",
   "execution_count": null,
   "metadata": {},
   "outputs": [],
   "source": [
    "nrw_cities.shape  # as with numpy arrays (first entry is number of rows, second entry is number of columns)"
   ]
  },
  {
   "cell_type": "code",
   "execution_count": null,
   "metadata": {},
   "outputs": [],
   "source": [
    "len(nrw_cities)  # lengths is the number of rows"
   ]
  },
  {
   "cell_type": "code",
   "execution_count": null,
   "metadata": {},
   "outputs": [],
   "source": [
    "nrw_cities.head(2)  # print first 2 rows, use .tail() to print the last rows"
   ]
  },
  {
   "cell_type": "code",
   "execution_count": null,
   "metadata": {},
   "outputs": [],
   "source": [
    "nrw_cities.info()"
   ]
  },
  {
   "cell_type": "code",
   "execution_count": null,
   "metadata": {},
   "outputs": [],
   "source": [
    "nrw_cities.describe()  # statistical properties, only available for numeric columns"
   ]
  },
  {
   "cell_type": "markdown",
   "metadata": {},
   "source": [
    "## Viewing (and changing) the Index\n",
    "Index labels are currently still integers and not particularly helpful. Let's use the UNLOCODEs (which are unique) as indices:"
   ]
  },
  {
   "cell_type": "code",
   "execution_count": null,
   "metadata": {},
   "outputs": [],
   "source": [
    "nrw_cities.columns"
   ]
  },
  {
   "cell_type": "code",
   "execution_count": null,
   "metadata": {},
   "outputs": [],
   "source": [
    "nrw_cities.index"
   ]
  },
  {
   "cell_type": "code",
   "execution_count": null,
   "metadata": {},
   "outputs": [],
   "source": [
    "nrw_cities = nrw_cities.set_index('UNLOCODE')"
   ]
  },
  {
   "cell_type": "code",
   "execution_count": null,
   "metadata": {},
   "outputs": [],
   "source": [
    "nrw_cities.head(3)"
   ]
  },
  {
   "cell_type": "code",
   "execution_count": null,
   "metadata": {},
   "outputs": [],
   "source": [
    "nrw_cities.index"
   ]
  },
  {
   "cell_type": "markdown",
   "metadata": {},
   "source": [
    "## Accessing Data\n",
    "Pandas offers [different data access methods](https://pandas.pydata.org/pandas-docs/stable/user_guide/indexing.html), depending on whether you want to use the index/column values specified or use numerical indices.\n",
    "* `my_df.loc` should be used, if you specify rows/columns by their labels\n",
    "* `my_df.iloc` should be used, if you use numerical indices."
   ]
  },
  {
   "cell_type": "code",
   "execution_count": null,
   "metadata": {},
   "outputs": [],
   "source": [
    "#Label based\n",
    "nrw_cities.loc['DEMSR', 'inhabitants']"
   ]
  },
  {
   "cell_type": "code",
   "execution_count": null,
   "metadata": {},
   "outputs": [],
   "source": [
    "# Select multiple rows and columns\n",
    "nrw_cities.loc[['DEDUS', 'DEMSR'], ['name', 'inhabitants']]"
   ]
  },
  {
   "cell_type": "code",
   "execution_count": null,
   "metadata": {},
   "outputs": [],
   "source": [
    "nrw_cities.iloc[2, 1]  # third row is Münster, second column is inhabitants."
   ]
  },
  {
   "cell_type": "code",
   "execution_count": null,
   "metadata": {},
   "outputs": [],
   "source": [
    "# the more advanced sliciing options of Numpy are also supported\n",
    "nrw_cities.iloc[1:3, 0:2]  # first two columns of third rows two and three"
   ]
  },
  {
   "cell_type": "markdown",
   "metadata": {},
   "source": [
    "You can access individual columns by their column label. The result is a Pandas Series. The index labels are the same as before."
   ]
  },
  {
   "cell_type": "code",
   "execution_count": null,
   "metadata": {},
   "outputs": [],
   "source": [
    "nrw_cities['inhabitants']"
   ]
  },
  {
   "cell_type": "markdown",
   "metadata": {},
   "source": [
    "## Adding Columns to a DataFrame\n",
    "To set the same value for all rows, simply assign it to the new column name:"
   ]
  },
  {
   "cell_type": "code",
   "execution_count": null,
   "metadata": {},
   "outputs": [],
   "source": [
    "nrw_cities['state'] = 'NRW'"
   ]
  },
  {
   "cell_type": "code",
   "execution_count": null,
   "metadata": {},
   "outputs": [],
   "source": [
    "nrw_cities"
   ]
  },
  {
   "cell_type": "markdown",
   "metadata": {},
   "source": [
    "But you can also use existing value and operations on column values (as with Numpy arrays):"
   ]
  },
  {
   "cell_type": "code",
   "execution_count": null,
   "metadata": {},
   "outputs": [],
   "source": [
    "nrw_cities['is_megacity'] = nrw_cities['inhabitants'] > 1000000"
   ]
  },
  {
   "cell_type": "code",
   "execution_count": null,
   "metadata": {},
   "outputs": [],
   "source": [
    "nrw_cities['area'] = nrw_cities['inhabitants'] / nrw_cities['population_density']"
   ]
  },
  {
   "cell_type": "code",
   "execution_count": null,
   "metadata": {},
   "outputs": [],
   "source": [
    "nrw_cities"
   ]
  },
  {
   "cell_type": "markdown",
   "metadata": {},
   "source": [
    "## Filtering Rows\n",
    "To filter rows, there are essentially two options\n",
    "* Boolean masking (as with Numpy arrays)\n",
    "* Using the [`query`](https://pandas.pydata.org/pandas-docs/stable/reference/api/pandas.DataFrame.query.html) function"
   ]
  },
  {
   "cell_type": "code",
   "execution_count": null,
   "metadata": {},
   "outputs": [],
   "source": [
    "nrw_cities.loc[nrw_cities['inhabitants'] < 400000, :]  # also works in combination with .iloc"
   ]
  },
  {
   "cell_type": "code",
   "execution_count": null,
   "metadata": {},
   "outputs": [],
   "source": [
    "nrw_cities.query('inhabitants < 400000')"
   ]
  },
  {
   "cell_type": "markdown",
   "metadata": {},
   "source": [
    "## Sorting the DataFrame\n",
    "DataFrames [can be sorted](https://pandas.pydata.org/pandas-docs/stable/reference/api/pandas.DataFrame.sort_values.html) by one or multiple columns."
   ]
  },
  {
   "cell_type": "code",
   "execution_count": null,
   "metadata": {},
   "outputs": [],
   "source": [
    "nrw_cities.sort_values('inhabitants').head(2)  # the two smallest cities (by number of inhabitants), since we sort from small to large"
   ]
  },
  {
   "cell_type": "code",
   "execution_count": null,
   "metadata": {},
   "outputs": [],
   "source": [
    "# Now, let's sort by two columns\n",
    "nrw_cities.sort_values(['state', 'inhabitants'], ascending=False).head(2)  # the two largest cities (by number of inhabitants), since we sort from small to large"
   ]
  },
  {
   "cell_type": "markdown",
   "metadata": {},
   "source": [
    "## Math using Pandas DataFrames\n",
    "Since pandas makes use of Numpy arrays under the hood, the way to e.g. take the sum of values is very similar to numpy."
   ]
  },
  {
   "cell_type": "code",
   "execution_count": null,
   "metadata": {},
   "outputs": [],
   "source": [
    "print(f'total number of inhabitants is {nrw_cities[\"inhabitants\"].sum()}')  # a single column is a 1-dimensional array, so we do not need to specify the axis"
   ]
  },
  {
   "cell_type": "markdown",
   "metadata": {},
   "source": [
    "## Plotting Data\n",
    "Plotting will be discussed in more detail in [Lecture 15](https://github.com/ReDI-School/nrw-intro-to-python/tree/master/lecture-15). Pandas however has some [built-in functionality](https://pandas.pydata.org/docs/user_guide/visualization.html) (building on the same library that will be used in Lecture 15) to produce easy plots from tabular data."
   ]
  },
  {
   "cell_type": "code",
   "execution_count": null,
   "metadata": {},
   "outputs": [],
   "source": [
    "# don't worry about anything in this cell, you will learn more about it in lecture 15\n",
    "import matplotlib.pylab as plt  \n",
    "plt.close(\"all\")\n",
    "%matplotlib inline"
   ]
  },
  {
   "cell_type": "code",
   "execution_count": null,
   "metadata": {},
   "outputs": [],
   "source": [
    "# we can plot the values of single columns. The row indices will be used on the x-axis\n",
    "nrw_cities['inhabitants'].plot(kind='bar')"
   ]
  },
  {
   "cell_type": "code",
   "execution_count": null,
   "metadata": {},
   "outputs": [],
   "source": [
    "# Alternatively, we can plot two columns against each other\n",
    "nrw_cities.plot(\n",
    "    x='area',  # column name from which to take x-coordinate\n",
    "    y='inhabitants',  # column name from which to take the y-coordinate\n",
    "    kind='scatter',  # tell pandas to do a scatter plot\n",
    "    title='Number of People vs. Area for Cities in NRW',  # title\n",
    "    xlabel='Area in km²',  # axis label for x-axis of the chart\n",
    "    ylabel='Number of Inhabitants'  # axis label for y-axis of the chart\n",
    ")"
   ]
  },
  {
   "cell_type": "markdown",
   "metadata": {},
   "source": [
    "## Storing data\n",
    "Very similar to loading data, we can store dataframes in a variety of formats (c.f. [list of IO Formats](https://pandas.pydata.org/pandas-docs/stable/user_guide/io.html#io))."
   ]
  },
  {
   "cell_type": "code",
   "execution_count": null,
   "metadata": {},
   "outputs": [],
   "source": [
    "nrw_cities.to_csv('expanded_city_data.csv', sep=';')  # by default, index labels are stored as well"
   ]
  }
 ],
 "metadata": {
  "kernelspec": {
   "display_name": "Python 3 (ipykernel)",
   "language": "python",
   "name": "python3"
  },
  "language_info": {
   "codemirror_mode": {
    "name": "ipython",
    "version": 3
   },
   "file_extension": ".py",
   "mimetype": "text/x-python",
   "name": "python",
   "nbconvert_exporter": "python",
   "pygments_lexer": "ipython3",
   "version": "3.9.6"
  }
 },
 "nbformat": 4,
 "nbformat_minor": 4
}
