{
 "cells": [
  {
   "cell_type": "markdown",
   "id": "821edef5-3089-4dac-88db-59cd9bfe414d",
   "metadata": {
    "tags": []
   },
   "source": [
    "# Final Project: Todo List\n",
    "\n",
    "In this final project assignment, you are gonna use [your skills in building APIs](https://github.com/ReDI-School/nrw-intro-to-python/tree/master/lecture-17), to build the backend (the server) for a simple ToDo List Application.\n",
    "\n",
    "Through the API, a user should be able to:\n",
    "* List items\n",
    "* Add a new ToDo list item\n",
    "* Mark an item as completed\n",
    "* Delete an item\n",
    "\n",
    "You should complete the assignment by extendeing the file `api.py` you find in this folder."
   ]
  },
  {
   "cell_type": "markdown",
   "id": "657554ab-cc6a-42b6-a9e4-909a70e7c55e",
   "metadata": {},
   "source": [
    "### Tests\n",
    "You will also find a second module called `test_api.py` in this folder. This module contains [unit-tests](https://github.com/ReDI-School/nrw-intro-to-python/tree/master/lecture-13) that you can use across this notebook to validate your work.\n",
    "\n",
    "Initially, all tests will fail:"
   ]
  },
  {
   "cell_type": "code",
   "execution_count": null,
   "id": "1cd4a115-cfc6-47b5-9125-99e4c6ee25fd",
   "metadata": {},
   "outputs": [],
   "source": [
    "! python -m unittest -v"
   ]
  },
  {
   "cell_type": "markdown",
   "id": "df84a194-03b6-4a92-a265-6be08440ceb9",
   "metadata": {},
   "source": [
    "## Task 0: Make sure you start the API Server\n",
    "After any task (and even before you start), you can run the API by running (in a console window in this folder) the command:\n",
    "```bash\n",
    "uvicorn api:app --reload --port 8000\n",
    "```\n",
    "This starts the [uvicorn](https://www.uvicorn.org/) webserver (itself written in Python) to load the web application specified in variable `app` in the module (=file) `api` on port 8000.\n",
    "\n",
    "Upon startup, you should be able to see the API's initial documentation page [here](http://localhost:8000/docs)."
   ]
  },
  {
   "cell_type": "markdown",
   "id": "4f136ac5-7ca7-4c55-b86e-70882e7da573",
   "metadata": {
    "jp-MarkdownHeadingCollapsed": true,
    "tags": []
   },
   "source": [
    "## Task 1: Finalize the `dataclass` for a single Todo List Iteam"
   ]
  },
  {
   "cell_type": "markdown",
   "id": "715c04db-5546-4930-a9cd-c4ffe09c0e80",
   "metadata": {},
   "source": [
    "As discussed in the session on FastAPI, dataclasses (or concepts derived from that, such as in the 3rd party module pydantic), are the backbone of any FastAPI application that uses more complex data structures.\n",
    "\n",
    "`api.py` already contains a dataclass called `ListItem`. As of now, the class has only two properties:\n",
    "* `uid`: A unique ID. We use Python's built in [`uuid` library](https://docs.python.org/3/library/uuid.html) to create [Universally Unique Identifiers](https://en.wikipedia.org/wiki/Universally_Unique_Identifier) automatically. We will not have to specify this field manually.\n",
    "* `completed`: a flag whether the item has been completed or not.\n",
    "\n",
    "### Your Task:\n",
    "* Add a new field `title` (of type `str`) to the class. This field should have no default value. Thus it must be specified above the existing fields (which do have a default value)\n",
    "\n",
    "### Check the result\n",
    "* Upon saving `api.py`, the server should re-start automatically.\n",
    "* Refreshing the [User Interface page](http://localhost:8000/docs), you should the see new field under the `ListItem` schema.\n",
    "![](img/ListItemSchema.png)\n",
    "\n",
    "### Checking the Test-Status\n",
    "With this fix applied, more tests should run through. Verify that the following tests all executed correctly."
   ]
  },
  {
   "cell_type": "code",
   "execution_count": null,
   "id": "bf8c2deb-a9e5-4d63-a791-e696002c521d",
   "metadata": {},
   "outputs": [],
   "source": [
    "! python -m unittest -v test_api.TestAPI.test_docs_endpoint test_api.TestListItem"
   ]
  },
  {
   "cell_type": "markdown",
   "id": "f1857f6f-6d42-4a0e-afa5-f3584c5ca6af",
   "metadata": {
    "tags": []
   },
   "source": [
    "## Task 2: Provide default tasks"
   ]
  },
  {
   "cell_type": "markdown",
   "id": "02b22211-69ad-4fc9-b63c-2efc3bd31040",
   "metadata": {
    "tags": []
   },
   "source": [
    "In the `api.py` module, you will find the following line:\n",
    "```python\n",
    "todo_list = []\n",
    "```\n",
    "\n",
    "This is our global storage for the todo items. This approach is very simple but has its disadvantages: Items are not persisted and thus lost, everytime the server restarts! So in order to have some Todo Items to play around with, we want to add some `ListItem` instances by default.\n",
    "\n",
    "### Your Task\n",
    "By default, your todo list should have 2 `ListItem`s:\n",
    "* One with title `Gain basic understanding of Python` where `completed` is set to `True` and\n",
    "* One with title `Complete final project`, where `completed` is set to `False`\n",
    "\n",
    "### Check the result\n",
    "After saving your changes in `api.py`:\n",
    "* Refresh the [User Interface page](http://localhost:8000/docs).\n",
    "* Click on \"Show Todolist\" endpoint, select click \"Try it out\" and then \"Execute\". Under \"Server Response\" you should see two list items as shown below (note that the values under `uid` will be different!)\n",
    "![](img/RootEndpointResult.png)\n",
    "\n",
    "### Checking the Test-Status\n",
    "With this fix applied, more tests should run through. Verify that the following tests all executed correctly."
   ]
  },
  {
   "cell_type": "code",
   "execution_count": null,
   "id": "9fa2df03-b846-47ad-abf6-ba93bb315683",
   "metadata": {},
   "outputs": [],
   "source": [
    "! python -m unittest -v test_api.TestAPI.test_list_items"
   ]
  },
  {
   "cell_type": "markdown",
   "id": "7f19c36e-b0c4-47a8-83ea-23f8aeafcd01",
   "metadata": {},
   "source": [
    "## Task 3: Add a new task"
   ]
  },
  {
   "cell_type": "markdown",
   "id": "7010b7f7-56bf-4392-a12e-bf32ff9a184c",
   "metadata": {},
   "source": [
    "Next, we want to add new tasks to the task list.\n",
    "\n",
    "The module `api.py` already has a function called `add_task` that accepts a `ListItem` instance as parameter `item` and returns the item's uid. However, there are two important aspects missing:\n",
    "* The item is not \"stored\" yet (not added to `todo_list`).\n",
    "* The function is not registered as an endpoint yet.\n",
    "\n",
    "### Your task\n",
    "* Extend the function `add_task` such that `item` is added to `todo_list`\n",
    "* Annotate the function such that is available under the endpoint (`/add`) to be used using the [HTTP `POST` method](https://developer.mozilla.org/en-US/docs/Web/HTTP/Methods/POST) (note that you do not have to specify a `response_model` here).\n",
    "\n",
    "### Check the Result\n",
    "After saving your changes in `api.py`:\n",
    "* Refresh the [User Interface page](http://localhost:8000/docs).\n",
    "* You should see the \"Add task\" endpoint. Click on it and click \"Try it out\". Copy the following request body into the input field and click \"Execute\".\n",
    "  ```json\n",
    "  {\"title\": \"Create POST endpoint\", \"completed\": true}\n",
    "  ```\n",
    "* The server response should show a unique ID, something like (not exactly the same as!): `d2f27570-c1d8-4b4b-bdda-ac2ef4f7031d`\n",
    "* Click again on the \"Show Todolist\" endpoint, click \"Try it out\", and then \"Execute\". In the server response, you should not see three items (including the one you just added!)\n",
    "\n",
    "### Checking the Test-Status\n",
    "With this fix applied, more tests should run through. Verify that the following tests all executed correctly."
   ]
  },
  {
   "cell_type": "code",
   "execution_count": null,
   "id": "fffa73d8-5ebb-4d6c-8700-4b6a5be3d4e3",
   "metadata": {},
   "outputs": [],
   "source": [
    "! python -m unittest -v test_api.TestAPI.test_add_item_default_completion_status test_api.TestAPI.test_add_item_completion_status_set"
   ]
  },
  {
   "cell_type": "markdown",
   "id": "b178ba76-b98f-48b3-b382-ea398c7ffbe2",
   "metadata": {},
   "source": [
    "## Task 4: Delete a Task"
   ]
  },
  {
   "cell_type": "markdown",
   "id": "76d903ff-eaf0-4875-aab3-ecd3bcc91825",
   "metadata": {},
   "source": [
    "Next, we want to delete an existing task from the task list.\n",
    "\n",
    "The module `api.py` already has a function called `delete_task` that accepts a parameter named `uid`.\n",
    "\n",
    "### Your task\n",
    "* Extend the function `delete_task` such that any task with the specified uid is deleted from the `todo_list` (hint: Use list comprehension to create a new list with only items from `todo_list` that have a different `uid`).\n",
    "* Annotate the function such that is available under the endpoint (`/delete/<uid>`) (where `uid` is a parameter) and that can be used using the [HTTP `DELETE` method](https://developer.mozilla.org/en-US/docs/Web/HTTP/Methods/DELETE).\n",
    "\n",
    "### Check the Result\n",
    "After saving your changes in `api.py`:\n",
    "* Refresh the [User Interface page](http://localhost:8000/docs).\n",
    "* Get the list of tasks (as described in task 2). Copy the `uid` of the task you want to delete.\n",
    "* You should see the \"Delete task\" endpoint. Click on it and click \"Try it out\". Copy in the UID of the task from above and click \"Execute\".\n",
    "* Click again on the \"Show Todolist\" endpoint, click \"Try it out\", and then \"Execute\". In the server response, you should no longer see the task you just deleted.\n",
    "\n",
    "### Checking the Test-Status\n",
    "With this fix applied, more tests should run through. Verify that the following tests all executed correctly."
   ]
  },
  {
   "cell_type": "code",
   "execution_count": null,
   "id": "005f0365-4075-4d8b-bd33-66aa062c28f5",
   "metadata": {},
   "outputs": [],
   "source": [
    "! python -m unittest -v test_api.TestAPI.test_delete_item"
   ]
  },
  {
   "cell_type": "markdown",
   "id": "da632149-f9c5-4188-8257-4424e28b7746",
   "metadata": {},
   "source": [
    "## Task 5: Mark a Task as completed"
   ]
  },
  {
   "cell_type": "markdown",
   "id": "b9c6f831-6f82-4f63-83a3-4f4e8cb56908",
   "metadata": {},
   "source": [
    "Beyond deleting a task, we may also want to simply mark it as complete (but keep it in the list).\n",
    "\n",
    "The module `api.py` already has a function called `mark_task_complete` that accepts a parameter named `uid`.\n",
    "\n",
    "### Your task\n",
    "* Extend the function `mark_task_complete` such that any task with the specified uid is marked as completed and is returned.\n",
    "* Annotate the function such that is available under the endpoint (`/complete/<uid>`) (where `uid` is a parameter) and that can be used using the [HTTP `PATCH` method](https://developer.mozilla.org/en-US/docs/Web/HTTP/Methods/PATCH).\n",
    "\n",
    "### Check the Result\n",
    "After saving your changes in `api.py`:\n",
    "* Refresh the [User Interface page](http://localhost:8000/docs).\n",
    "* Get the list of tasks (as described in task 2). Copy the `uid` of an uncompleted task.\n",
    "* You should see the \"Mark Task Complete\" endpoint. Click on it and click \"Try it out\". Copy in the UID of the task from above and click \"Execute\".\n",
    "* Click again on the \"Show Todolist\" endpoint, click \"Try it out\", and then \"Execute\". In the server response, you should see that the task is marked as completed.\n",
    "\n",
    "### Checking the Test-Status\n",
    "With this fix applied, more tests should run through. Verify that the following tests all executed correctly."
   ]
  },
  {
   "cell_type": "code",
   "execution_count": null,
   "id": "466ff9a3-74b5-4669-b5a0-df4d122167c6",
   "metadata": {},
   "outputs": [],
   "source": [
    "! python -m unittest -v test_api.TestAPI.test_mark_item_complete_changes_completed_flag test_api.TestAPI.test_mark_item_complete_returns_item"
   ]
  },
  {
   "cell_type": "markdown",
   "id": "225b6701-212a-448f-bbed-d34166d9177e",
   "metadata": {},
   "source": [
    "## Final Check:\n",
    "Congratulation! You have completed all tasks. Run the entire test suite to check if all tests are passing:"
   ]
  },
  {
   "cell_type": "code",
   "execution_count": null,
   "id": "e0fa1626-e01b-4055-b57d-61b39ed606b1",
   "metadata": {},
   "outputs": [],
   "source": [
    "! python -m unittest -v"
   ]
  }
 ],
 "metadata": {
  "kernelspec": {
   "display_name": "Python 3 (ipykernel)",
   "language": "python",
   "name": "python3"
  },
  "language_info": {
   "codemirror_mode": {
    "name": "ipython",
    "version": 3
   },
   "file_extension": ".py",
   "mimetype": "text/x-python",
   "name": "python",
   "nbconvert_exporter": "python",
   "pygments_lexer": "ipython3",
   "version": "3.9.6"
  }
 },
 "nbformat": 4,
 "nbformat_minor": 5
}
