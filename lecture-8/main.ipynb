{
 "metadata": {
  "language_info": {
   "codemirror_mode": {
    "name": "ipython",
    "version": 3
   },
   "file_extension": ".py",
   "mimetype": "text/x-python",
   "name": "python",
   "nbconvert_exporter": "python",
   "pygments_lexer": "ipython3",
   "version": "3.6.9-final"
  },
  "orig_nbformat": 2,
  "kernelspec": {
   "name": "Python 3.6.9 64-bit",
   "display_name": "Python 3.6.9 64-bit",
   "metadata": {
    "interpreter": {
     "hash": "31f2aee4e71d21fbe5cf8b01ff0e069b9275f58929596ceb00d14d90e3e16cd6"
    }
   }
  }
 },
 "nbformat": 4,
 "nbformat_minor": 2,
 "cells": [
  {
   "source": [
    "# Python Classes\n",
    "\n",
    "- [Python Classes](#python-classes)\n",
    "  - [What is a class?](#what-is-a-class)\n",
    "  - [Class Definition Syntax](#class-definition-syntax)\n",
    "  - [Class Objects](#class-objects)\n",
    "  - [Instance Objects](#instance-objects)\n",
    "  - [Method Objects](#method-objects)\n",
    "  - [Special Class methods](#special-class-methods)\n",
    "  - [Class and Instance Variables](#class-and-instance-variables)\n",
    "  - [Inheritance](#inheritance)\n",
    "\n",
    "## What is a class?\n",
    "\n",
    "![Car class](./prettycars.png)\n",
    "\n",
    "## Class Definition Syntax\n",
    "\n",
    "```python\n",
    "class ClassName:\n",
    "    <statement-1>\n",
    "    .\n",
    "    .\n",
    "    .\n",
    "    <statement-N>\n",
    "\n",
    "```\n",
    "\n"
   ],
   "cell_type": "markdown",
   "metadata": {}
  },
  {
   "source": [
    "\n",
    "## Class Objects\n"
   ],
   "cell_type": "markdown",
   "metadata": {}
  },
  {
   "cell_type": "code",
   "execution_count": 30,
   "metadata": {},
   "outputs": [],
   "source": [
    "# `class` identifier tells python that the following is a class definition\n",
    "class Car:\n",
    "    # class variable shared by all instances\n",
    "    wheels = 4\n",
    "\n",
    "    def __init__(self, kind = \"\"):\n",
    "        # instance variable unique to each instance\n",
    "        self.doors = 4\n",
    "        self.kind = kind\n",
    "\n",
    "    def honk(self):\n",
    "        return 'honk honk'\n",
    "\n",
    "x = Car()"
   ]
  },
  {
   "source": [
    "## Instance Properties"
   ],
   "cell_type": "markdown",
   "metadata": {}
  },
  {
   "cell_type": "code",
   "execution_count": 31,
   "metadata": {},
   "outputs": [
    {
     "output_type": "execute_result",
     "data": {
      "text/plain": "4"
     },
     "metadata": {},
     "execution_count": 31
    }
   ],
   "source": [
    "class Car:\n",
    "    # class variable shared by all instances\n",
    "    wheels = 4\n",
    "\n",
    "\n",
    "x = Car()\n",
    "x.wheels"
   ]
  },
  {
   "source": [
    "## Methods"
   ],
   "cell_type": "markdown",
   "metadata": {}
  },
  {
   "cell_type": "code",
   "execution_count": 32,
   "metadata": {
    "tags": []
   },
   "outputs": [
    {
     "output_type": "stream",
     "name": "stdout",
     "text": "honk honk\n"
    }
   ],
   "source": [
    "class Car:\n",
    "\n",
    "    def honk(self):\n",
    "        print('honk honk')\n",
    "\n",
    "x = Car()\n",
    "x.honk()"
   ]
  },
  {
   "source": [
    "Special Class methods"
   ],
   "cell_type": "markdown",
   "metadata": {}
  },
  {
   "cell_type": "code",
   "execution_count": 33,
   "metadata": {},
   "outputs": [
    {
     "output_type": "execute_result",
     "data": {
      "text/plain": "4"
     },
     "metadata": {},
     "execution_count": 33
    }
   ],
   "source": [
    "class Car:\n",
    "    def __init__(self):\n",
    "        self.doors = 4\n",
    "\n",
    "x = Car()\n",
    "x.doors"
   ]
  },
  {
   "source": [
    " ## Class and Instance Variables"
   ],
   "cell_type": "markdown",
   "metadata": {}
  },
  {
   "cell_type": "code",
   "execution_count": 34,
   "metadata": {
    "tags": []
   },
   "outputs": [
    {
     "output_type": "stream",
     "name": "stdout",
     "text": "Polo\n"
    }
   ],
   "source": [
    "class Car:\n",
    "    def __init__(self, kind):\n",
    "        # instance variable unique to each instance\n",
    "        self.kind = kind\n",
    "\n",
    "\n",
    "d = Car('Polo')\n",
    "e = Car('Mini')\n",
    "print(d.kind)"
   ]
  },
  {
   "source": [
    "## Class Object"
   ],
   "cell_type": "markdown",
   "metadata": {}
  },
  {
   "cell_type": "code",
   "execution_count": 35,
   "metadata": {
    "tags": []
   },
   "outputs": [],
   "source": [
    "# `class` identifier tells python that the following is a class definition\n",
    "class Car:\n",
    "    # class variable shared by all instances\n",
    "    wheels = 4\n",
    "\n",
    "    def __init__(self, kind = \"\"):\n",
    "        # instance variable unique to each instance\n",
    "        self.doors = 4\n",
    "        self.kind = kind\n",
    "\n",
    "    def honk(self):\n",
    "        print('honk honk')\n",
    "\n",
    "polo = Car('Polo')\n",
    "mini = Car('Mini')\n",
    "beetle = Car('Beetle')"
   ]
  },
  {
   "cell_type": "code",
   "execution_count": 36,
   "metadata": {
    "tags": []
   },
   "outputs": [
    {
     "output_type": "stream",
     "name": "stdout",
     "text": "The car is a Polo\nThe car has 4 doors\nThe car has 4 wheels\nhonk honk\n"
    }
   ],
   "source": [
    "\n",
    "print(f'The car is a {polo.kind}')\n",
    "print(f'The car has {polo.doors} doors')\n",
    "print(f'The car has {polo.wheels} wheels')\n",
    "polo.honk()\n"
   ]
  },
  {
   "cell_type": "code",
   "execution_count": 37,
   "metadata": {
    "tags": []
   },
   "outputs": [
    {
     "output_type": "stream",
     "name": "stdout",
     "text": "The car is a Mini\nThe car has 4 doors\nThe car has 4 wheels\nhonk honk\n"
    }
   ],
   "source": [
    "print(f'The car is a {mini.kind}')\n",
    "print(f'The car has {mini.doors} doors')\n",
    "print(f'The car has {mini.wheels} wheels')\n",
    "mini.honk()\n",
    "\n"
   ]
  },
  {
   "cell_type": "code",
   "execution_count": 38,
   "metadata": {
    "tags": []
   },
   "outputs": [
    {
     "output_type": "stream",
     "name": "stdout",
     "text": "The car is a Beetle\nThe car has 4 doors\nThe car has 4 wheels\nhonk honk\n"
    }
   ],
   "source": [
    "print(f'The car is a {beetle.kind}')\n",
    "print(f'The car has {beetle.doors} doors')\n",
    "print(f'The car has {beetle.wheels} wheels')\n",
    "beetle.honk()"
   ]
  },
  {
   "cell_type": "code",
   "execution_count": null,
   "metadata": {},
   "outputs": [],
   "source": []
  }
 ]
}