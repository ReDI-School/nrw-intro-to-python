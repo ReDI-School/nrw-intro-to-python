{
 "metadata": {
  "language_info": {
   "codemirror_mode": {
    "name": "ipython",
    "version": 3
   },
   "file_extension": ".py",
   "mimetype": "text/x-python",
   "name": "python",
   "nbconvert_exporter": "python",
   "pygments_lexer": "ipython3",
   "version": "3.6.9-final"
  },
  "orig_nbformat": 2,
  "kernelspec": {
   "name": "Python 3.6.9 64-bit",
   "display_name": "Python 3.6.9 64-bit",
   "metadata": {
    "interpreter": {
     "hash": "31f2aee4e71d21fbe5cf8b01ff0e069b9275f58929596ceb00d14d90e3e16cd6"
    }
   }
  }
 },
 "nbformat": 4,
 "nbformat_minor": 2,
 "cells": [
  {
   "source": [
    "# Python Classes\n",
    "\n",
    "- What is a class?\n",
    "- Class Definition Syntax\n",
    "- Class Objects\n",
    "- Simplest Class\n",
    "- Instance Properties/Variables (Fields)\n",
    "- Method\n",
    "- Special Class methods\n",
    "- Class and Instance Variables\n",
    "- Modify Data of instance variables\n",
    "- ** Break **\n",
    "- WarpUp: Class Object\n",
    "- ** Excercise ** \n",
    "- Inheritance\n",
    "- Super\n",
    "- isinstance\n",
    "- ** Excercise ** \n",
    "- Bonus\n",
    "\n",
    "## Objectives\n",
    "\n",
    ">  As a participant, ...\n",
    "\n",
    "- I want to understand what object oriented programming language, fields, methods and instances in Python mean.\n",
    "- I want to be able to create classes in python so that I can store and modify data assoicated to objects.\n",
    "- I want to be able to create abstractions and reuse classes so that childs inherit properties of parents.\n",
    "- I want to apply the knowledge of the session in an excercise.\n",
    "\n",
    "## What is a class?\n",
    "\n",
    "Python is an object oriented programming language.\n",
    "Almost everything in Python is an object, with its properties and methods.\n",
    "\n",
    "Classes provide a means of bundling data and functionality together. Creating a new class creates a new type of object, allowing new instances of that type to be made. Each class instance can have attributes attached to it for maintaining its state. Class instances can also have methods (defined by its class) for modifying its state.\n",
    "\n",
    "![Car class](./prettycars.png)\n",
    "\n",
    "A Class is like an object constructor, or a \"blueprint\" for creating objects.\n",
    "\n",
    "## Class Definition Syntax\n",
    "\n",
    "```python\n",
    "class ClassName:\n",
    "    <statement-1>\n",
    "    .\n",
    "    .\n",
    "    .\n",
    "    <statement-N>\n",
    "\n",
    "```\n",
    "\n"
   ],
   "cell_type": "markdown",
   "metadata": {}
  },
  {
   "source": [
    "\n",
    "## Class Objects\n",
    "\n",
    "This is a full representation of the \"Car\" class. We will look into each specific detail of that class now.\n",
    "\n"
   ],
   "cell_type": "markdown",
   "metadata": {}
  },
  {
   "cell_type": "code",
   "execution_count": null,
   "metadata": {},
   "outputs": [],
   "source": [
    "# A `class` identifier tells python that the following is a class definition\n",
    "# Class-Names typicall captialize the first letter as names \n",
    "class Car:\n",
    "\n",
    "    # class variable shared by all instances\n",
    "    wheels = 4\n",
    "\n",
    "    # __init__ is always executed when the class is being initiated.\n",
    "    def __init__(self, kind = \"\"):\n",
    "        # self parameter is a reference to the current instance of the class,\n",
    "        # self is used to access variables that belongs to the class.\n",
    "        # instance variable unique to each instance\n",
    "        self.doors = 4\n",
    "        self.kind = kind\n",
    "        self.speed = 0\n",
    "    \n",
    "    # Objects can also contain methods. Methods in objects are functions that belong to the object.\n",
    "    def honk(self):\n",
    "        return 'honk honk'\n",
    "\n",
    "    # Methods can modify the state of an object.\n",
    "    def accelerate(self, new_speed):\n",
    "        self.speed = new_speed\n",
    "\n",
    "x = Car()"
   ]
  },
  {
   "source": [
    "# Simplest Class\n",
    "\n",
    "A `class` identifier tells python that the following is a class definition.\n",
    "Class-Names typicall captialize the first letter as names.\n",
    "e.g. a class for cars should be called `Car`\n",
    "\n",
    "> Q: What would the class for a person be called?"
   ],
   "cell_type": "markdown",
   "metadata": {}
  },
  {
   "cell_type": "code",
   "execution_count": null,
   "metadata": {},
   "outputs": [],
   "source": [
    "# class definitions cannot be empty, \n",
    "# but if you for some reason have a class definition with no content\n",
    "# put in the pass statement to avoid getting an error.\n",
    "class Car:\n",
    "  pass\n",
    "\n"
   ]
  },
  {
   "cell_type": "code",
   "execution_count": null,
   "metadata": {},
   "outputs": [],
   "source": [
    "# \"Intantiate\" the car class\n",
    "# With intantiating, you create an \"Object\"\n",
    "c = Car()\n",
    "\n"
   ]
  },
  {
   "cell_type": "code",
   "execution_count": null,
   "metadata": {},
   "outputs": [],
   "source": [
    "# modify the object properties\n",
    "c.wheels = 4\n",
    "print(c.wheels)\n",
    "\n"
   ]
  },
  {
   "source": [
    "We defined an object schema called a Class for our Car.\n",
    "The class definition is empty.\n",
    "\n",
    "> Q: What are you expecting this returns?"
   ],
   "cell_type": "markdown",
   "metadata": {}
  },
  {
   "cell_type": "code",
   "execution_count": null,
   "metadata": {},
   "outputs": [],
   "source": [
    "c2 = Car()\n",
    "print(c2.wheels)"
   ]
  },
  {
   "source": [
    "## Instance Properties\n",
    "\n",
    "Data attributes correspond to “instance variables” \n"
   ],
   "cell_type": "markdown",
   "metadata": {}
  },
  {
   "cell_type": "code",
   "execution_count": null,
   "metadata": {},
   "outputs": [],
   "source": [
    "class Car:\n",
    "    # class variable shared by all instances\n",
    "    wheels = 4\n",
    "\n",
    "    # \"Private\" variables are at least two leading underscores\n",
    "    __steering_wheel = 1"
   ]
  },
  {
   "cell_type": "code",
   "execution_count": null,
   "metadata": {},
   "outputs": [],
   "source": [
    "x = Car()\n",
    "print(x.wheels)"
   ]
  },
  {
   "cell_type": "code",
   "execution_count": null,
   "metadata": {},
   "outputs": [],
   "source": [
    "x2 = Car()\n",
    "print(x2.wheels)\n",
    "\n"
   ]
  },
  {
   "cell_type": "code",
   "execution_count": null,
   "metadata": {},
   "outputs": [],
   "source": [
    "x2.wheels = 3\n",
    "print(x2.wheels)"
   ]
  },
  {
   "cell_type": "code",
   "execution_count": null,
   "metadata": {},
   "outputs": [],
   "source": [
    "> Q: What will happen?"
   ]
  },
  {
   "cell_type": "code",
   "execution_count": null,
   "metadata": {},
   "outputs": [],
   "source": [
    "print(x.__steering_wheel)"
   ]
  },
  {
   "source": [
    "## Methods\n",
    "\n",
    "Instance attribute reference is a method. A method is a function that “belongs to” an object. \n",
    "\n",
    "In Python, the term method is not unique to class instances: other object types can have methods as well. For example, list objects have methods called append, insert, remove, sort, and so on. \n",
    "\n",
    "However, in the following discussion, we’ll use the term method exclusively to mean methods of class instance objects, unless explicitly stated otherwise.\n",
    "\n",
    "\n",
    "Often, the first argument of a method is called `self`. This is nothing more than a convention: the name `self` has absolutely no special meaning to Python.\n",
    "\n",
    "The `self` parameter is a reference to the current instance of the class, and is used to access variables that belongs to the class."
   ],
   "cell_type": "markdown",
   "metadata": {}
  },
  {
   "cell_type": "code",
   "execution_count": null,
   "metadata": {
    "tags": []
   },
   "outputs": [],
   "source": [
    "class Car:\n",
    "\n",
    "    # The `self` parameter is a reference to the current instance of the class\n",
    "    # self is used to access variables that belongs to the class.\n",
    "    def honk(self):\n",
    "        print('honk honk')"
   ]
  },
  {
   "cell_type": "code",
   "execution_count": null,
   "metadata": {},
   "outputs": [],
   "source": [
    "x = Car()\n",
    "x.honk()"
   ]
  },
  {
   "source": [
    "# Special Class Method\n",
    "\n",
    "When a class defines an `__init__()` method, class instantiation automatically invokes `__init__()` for the newly-created class instance. So in this example, a new, initialized instance can be obtained by:"
   ],
   "cell_type": "markdown",
   "metadata": {}
  },
  {
   "cell_type": "code",
   "execution_count": null,
   "metadata": {},
   "outputs": [],
   "source": [
    "class Car:\n",
    "    def __init__(self):\n",
    "        self.doors = 4\n",
    "\n"
   ]
  },
  {
   "cell_type": "code",
   "execution_count": null,
   "metadata": {},
   "outputs": [],
   "source": [
    "x = Car()\n",
    "x.doors"
   ]
  },
  {
   "source": [
    " ## Class and Instance Variables"
   ],
   "cell_type": "markdown",
   "metadata": {}
  },
  {
   "cell_type": "code",
   "execution_count": 5,
   "metadata": {
    "tags": []
   },
   "outputs": [
    {
     "output_type": "stream",
     "name": "stdout",
     "text": [
      "Polo\n"
     ]
    }
   ],
   "source": [
    "class Car:\n",
    "    def __init__(self, kind):\n",
    "        # instance variable unique to each instance\n",
    "        self.kind = kind\n",
    "\n",
    "\n",
    "p = Car('Polo')\n",
    "m = Car('Mini')\n",
    "\n",
    "print(p.kind)\n"
   ]
  },
  {
   "source": [
    "> Q: What is the output of `m.kind`?"
   ],
   "cell_type": "markdown",
   "metadata": {}
  },
  {
   "cell_type": "code",
   "execution_count": 6,
   "metadata": {},
   "outputs": [
    {
     "output_type": "stream",
     "name": "stdout",
     "text": [
      "Mini\n"
     ]
    }
   ],
   "source": [
    "print(m.kind)"
   ]
  },
  {
   "source": [
    "# Modify Data of fields\n",
    "\n",
    "We can use funcitons to modify the state of the object"
   ],
   "cell_type": "markdown",
   "metadata": {}
  },
  {
   "cell_type": "code",
   "execution_count": null,
   "metadata": {},
   "outputs": [],
   "source": [
    "class Car:\n",
    "\n",
    "    def __init__(self):\n",
    "        self.speed = 0\n",
    "\n",
    "    def accelerate(self, new_speed):\n",
    "        self.speed = new_speed\n",
    "\n",
    "c = Car()\n",
    "print(\"Inital Speed {}\".format(c.speed))\n",
    "\n",
    "c.accelerate(20)\n",
    "print(\"New Speed {}\".format(c.speed))"
   ]
  },
  {
   "source": [
    "# Break?"
   ],
   "cell_type": "markdown",
   "metadata": {}
  },
  {
   "source": [
    "## Class Object\n",
    "\n",
    "To reiterate of what we learned.\n",
    "- Keyword: `class`\n",
    "- Class name: uppercase word\n",
    "- Fields\n",
    "- Special methods: `__init__`\n",
    "- Keyword: `self`\n",
    "- Methods\n",
    "- Instances\n",
    "\n",
    "Something new! Remeber *Docstring* ?"
   ],
   "cell_type": "markdown",
   "metadata": {}
  },
  {
   "cell_type": "code",
   "execution_count": null,
   "metadata": {
    "tags": []
   },
   "outputs": [],
   "source": [
    "# `class` identifier tells python that the following is a class definition\n",
    "class Car:\n",
    "    \"\"\" A Class is like an object constructor, or a \"blueprint\" for creating objects.\n",
    "    Classes provide a means of bundling data and functionality together. \n",
    "\n",
    "    Creating a new class creates a new type of object, allowing new instances of that type to be made. \n",
    "    \n",
    "    Each class instance can have attributes attached to it for maintaining its state. \n",
    "    Class instances can also have methods (defined by its class) for modifying its state.\n",
    "    \"\"\"\n",
    "\n",
    "    # class variable shared by all instances\n",
    "    wheels = 4\n",
    "\n",
    "    def __init__(self, kind = \"\"):\n",
    "        # instance variable unique to each instance\n",
    "        self.doors = 4\n",
    "        self.kind = kind\n",
    "        self.speed = 0\n",
    "\n",
    "    def honk(self):\n",
    "        \"\"\"Press the horn of the object \"\"\"\n",
    "        print('honk honk')\n",
    "\n",
    "    def accelerate(self, new_speed):\n",
    "        \"\"\"Accelerates the car to a particular speed value\"\"\"\n",
    "        self.speed = new_speed"
   ]
  },
  {
   "cell_type": "code",
   "execution_count": null,
   "metadata": {},
   "outputs": [],
   "source": [
    "# Lets see the help\n",
    "help(Car)"
   ]
  },
  {
   "cell_type": "code",
   "execution_count": null,
   "metadata": {},
   "outputs": [],
   "source": [
    "# Noticed the `__dict__` ?\n",
    "c = Car()\n",
    "c.__dict__"
   ]
  },
  {
   "cell_type": "code",
   "execution_count": null,
   "metadata": {},
   "outputs": [],
   "source": [
    "polo = Car('Polo')\n",
    "mini = Car('Mini')\n",
    "beetle = Car('Beetle')"
   ]
  },
  {
   "cell_type": "code",
   "execution_count": null,
   "metadata": {
    "tags": []
   },
   "outputs": [],
   "source": [
    "\n",
    "print(f'The car is a {polo.kind}')\n",
    "print(f'The car has {polo.doors} doors')\n",
    "print(f'The car has {polo.wheels} wheels')\n",
    "polo.honk()\n"
   ]
  },
  {
   "cell_type": "code",
   "execution_count": null,
   "metadata": {
    "tags": []
   },
   "outputs": [],
   "source": [
    "print(f'The car is a {mini.kind}')\n",
    "print(f'The car has {mini.doors} doors')\n",
    "print(f'The car has {mini.wheels} wheels')\n",
    "mini.honk()\n",
    "\n"
   ]
  },
  {
   "cell_type": "code",
   "execution_count": null,
   "metadata": {
    "tags": []
   },
   "outputs": [],
   "source": [
    "print(f'The car is a {beetle.kind}')\n",
    "print(f'The car has {beetle.doors} doors')\n",
    "print(f'The car has {beetle.wheels} wheels')\n",
    "beetle.honk()"
   ]
  },
  {
   "cell_type": "code",
   "execution_count": null,
   "metadata": {},
   "outputs": [],
   "source": []
  },
  {
   "source": [
    "# References\n",
    "\n",
    "- [docs.ptyhon: Classes](https://docs.python.org/3/tutorial/classes.html)\n",
    "- [w3schools: Python Classes and Objects](https://www.w3schools.com/python/python_classes.asp)\n",
    "- [Socratica: Python Classes and Objects || Python Tutorial || Learn Python Programming](https://www.youtube.com/watch?v=apACNr7DC_s)"
   ],
   "cell_type": "markdown",
   "metadata": {}
  },
  {
   "source": [
    "# Exercise\n",
    "\n",
    "1. Create a new class that represents a *person* \n",
    "2. The person should have fields for a **First Name**, **Last Name** and an **Age** (the age should be a positive number, with a default of 0 assuming a new born)\n",
    "3. The person should be able to speak and when greeted (`greet()`) should be able to respond with `Hello my name is <first name> <last name> and I am <age> years old` with the combined name of the persons instance\n",
    "4. Ther person should also be able to age, when the birthday (`birthday()`) is happening, the age should increase by `1`\n",
    "5. Bonus: Think about other valuable properties that a person could consist of. \n"
   ],
   "cell_type": "markdown",
   "metadata": {}
  },
  {
   "source": [
    "# Inheritance\n",
    "\n",
    "*Inheritance* allows us to define a class that inherits all the methods and properties from another class.\n",
    "\n",
    "- **Parent class** is the class being inherited from, also called *base class*.\n",
    "- **Child class** is the class that inherits from another class, also called *derived class*.\n",
    "\n",
    "\n",
    "\n",
    "```python\n",
    "class DerivedClassName(BaseClassName):\n",
    "    <statement-1>\n",
    "    .\n",
    "    .\n",
    "    .\n",
    "    <statement-N>\n",
    "```"
   ],
   "cell_type": "markdown",
   "metadata": {}
  },
  {
   "cell_type": "code",
   "execution_count": null,
   "metadata": {},
   "outputs": [],
   "source": [
    "class Vehicle:\n",
    "    \n",
    "    def __init__(self, wheels):\n",
    "        self.wheels = wheels\n",
    "\n",
    "    def honk(self):\n",
    "        print(\"honk honk\")"
   ]
  },
  {
   "cell_type": "code",
   "execution_count": null,
   "metadata": {},
   "outputs": [],
   "source": [
    "car = Vehicle(4)\n",
    "print(car.wheels)\n",
    "car.honk()"
   ]
  },
  {
   "cell_type": "code",
   "execution_count": null,
   "metadata": {},
   "outputs": [],
   "source": [
    "class Car(Vehicle):\n",
    "    def __init__(self, wheels, kind):\n",
    "         Vehical.__init__(self, wheels)\n",
    "         self.kind = kind"
   ]
  },
  {
   "cell_type": "code",
   "execution_count": null,
   "metadata": {},
   "outputs": [],
   "source": [
    "actual_car = Car(4, 'mini')\n",
    "print(actual_car.wheels)\n",
    "print(actual_car.kind)\n",
    "actual_car.honk()"
   ]
  },
  {
   "source": [
    "# Super\n",
    "Python also has a super() function that will make the child class inherit all the methods and properties from its parent:"
   ],
   "cell_type": "markdown",
   "metadata": {}
  },
  {
   "cell_type": "code",
   "execution_count": null,
   "metadata": {},
   "outputs": [],
   "source": [
    "class Car(Vehicle):\n",
    "    def __init__(self, wheels, kind):\n",
    "         super().__init__(wheels)\n",
    "         self.kind = kind\n",
    "\n",
    "    def honk(self):\n",
    "        print(\"Beep Beep\")\n",
    "\n",
    "class Bike(Vehicle):\n",
    "    def __init__(self, wheels):\n",
    "         super().__init__(wheels)\n",
    "\n",
    "    def honk(self):\n",
    "        print(\"Kling Kling\")"
   ]
  },
  {
   "cell_type": "code",
   "execution_count": null,
   "metadata": {},
   "outputs": [],
   "source": [
    "actual_car = Car(4, 'mini')\n",
    "print(actual_car.wheels)\n",
    "print(actual_car.kind)\n",
    "actual_car.honk()\n",
    "\n",
    "bike = Bike(2)\n",
    "print(bike.wheels)\n",
    "bike.honk()"
   ]
  },
  {
   "source": [
    "# isinstance()\n",
    "\n",
    "Python `isinstance()` function is used to check whether the object or variable is an instance of the specified class type or data type.\n"
   ],
   "cell_type": "markdown",
   "metadata": {}
  },
  {
   "cell_type": "code",
   "execution_count": null,
   "metadata": {},
   "outputs": [],
   "source": [
    "# Check if `actual_car` is ACTUALLY a car?\n",
    "print(isinstance(actual_car, Car))"
   ]
  },
  {
   "cell_type": "code",
   "execution_count": null,
   "metadata": {},
   "outputs": [],
   "source": [
    "# Is it a vehical too?\n",
    "print(isinstance(actual_car, Vehicle))"
   ]
  },
  {
   "cell_type": "code",
   "execution_count": null,
   "metadata": {},
   "outputs": [],
   "source": [
    "# Q: Is it a bike then, too?\n",
    "print(isinstance(actual_car, Bike))"
   ]
  },
  {
   "cell_type": "code",
   "execution_count": null,
   "metadata": {},
   "outputs": [],
   "source": [
    "# References\n",
    "\n",
    "- [docs.ptyhon: Inheritance](https://docs.python.org/3/tutorial/classes.html#inheritance)\n",
    "- [w3schools: Python Inheritance](https://www.w3schools.com/python/python_inheritance.asp)"
   ]
  },
  {
   "source": [],
   "cell_type": "markdown",
   "metadata": {}
  },
  {
   "source": [
    "# Exercise\n",
    "\n",
    "1. Create a zoo of different animals\n",
    "1. Animals should be of different species, the zoo should consist of **Fish**, **Reptiles**,  **Birds**, and **Mammals**\n",
    "1. Each animal can be identified by its **species**\n",
    "1. The zoo gives every animal a new name\n",
    "1. Each animal can make a specifc sound (`sound()`)\n",
    "1. Bonus: Think about other things to add to the Zoo. Maybe the Zoo has special Mammals, like me and you?"
   ],
   "cell_type": "markdown",
   "metadata": {}
  },
  {
   "source": [
    "# Bonus\n",
    "\n",
    "[`object.__str__(self)`](https://docs.python.org/3/reference/datamodel.html#object.__str__)\n",
    "\n",
    "Called by `str(object)` and the built-in functions `format()` and `print()` to compute the “informal” or nicely printable string representation of an object. The return value must be a string object."
   ],
   "cell_type": "markdown",
   "metadata": {}
  },
  {
   "cell_type": "code",
   "execution_count": null,
   "metadata": {},
   "outputs": [],
   "source": [
    "class Car:\n",
    "    def __init__(self, kind):\n",
    "        self.kind = kind\n",
    "\n",
    "    def __str__(self):\n",
    "        return 'Car of kind {}'.format(str(self.kind))\n",
    "\n",
    "c = Car('mini')\n",
    "print(c)"
   ]
  },
  {
   "cell_type": "code",
   "execution_count": null,
   "metadata": {},
   "outputs": [],
   "source": []
  }
 ]
}