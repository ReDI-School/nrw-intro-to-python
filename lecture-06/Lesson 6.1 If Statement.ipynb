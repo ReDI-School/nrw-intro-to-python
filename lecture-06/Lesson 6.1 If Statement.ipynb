{
 "cells": [
  {
   "cell_type": "markdown",
   "metadata": {},
   "source": [
    "# If statements\n",
    "## Basic if Statment (keyword = if)\n",
    "\n",
    "<code>if</code> statements in Python are very simple. We tell the computer to perform alternative actions based on a certain result. \n",
    "\n",
    "Let's take an easy example: \"if A is true, then do B\" -> the computer checks whether condition \"A is True\" is met. If yes it will perform action B, otherwise it will not perform action B.\n",
    "\n",
    "    if A is True:\n",
    "        do B\n",
    "\n",
    "Let's try this in Python:"
   ]
  },
  {
   "cell_type": "code",
   "execution_count": 4,
   "metadata": {},
   "outputs": [
    {
     "name": "stdout",
     "output_type": "stream",
     "text": [
      "do B\n",
      "No matter what: This statement will be executed!\n"
     ]
    }
   ],
   "source": [
    "a = True   # a is our variable, we assign it the boolean value True\n",
    "\n",
    "if a == True:  # \"a == True\" is the condition\n",
    "    print('do B')  # note the indentation here!\n",
    "\n",
    "# Code that is not indented is not part of the \"if-clause\" and always executed\n",
    "print('No matter what: This statement will be executed!')"
   ]
  },
  {
   "cell_type": "markdown",
   "metadata": {},
   "source": [
    "Note that\n",
    "```python\n",
    "a == True\n",
    "```\n",
    "\n",
    "returns a boolean value (in the same way that `5 == 5` or `5 == 4` or `3 < 4 < 5`) return boolean values."
   ]
  },
  {
   "cell_type": "code",
   "execution_count": 6,
   "metadata": {},
   "outputs": [
    {
     "name": "stdout",
     "output_type": "stream",
     "text": [
      "a if of type <class 'bool'>. It has the value True.\n",
      "a == True if of type <class 'bool'>. It has the value True.\n",
      "5 == 4 if of type <class 'bool'>. It has the value False.\n",
      "3 < 4 < 5 if of type <class 'bool'>. It has the value True.\n"
     ]
    }
   ],
   "source": [
    "a = True\n",
    "print(f'a if of type {type(a)}. It has the value {a}.')\n",
    "print(f'a == True if of type {type(a == True)}. It has the value {a == True}.')\n",
    "print(f'5 == 4 if of type {type(5 == 4)}. It has the value {5 == 4}.')\n",
    "print(f'3 < 4 < 5 if of type {type(3 < 4 < 5)}. It has the value {3 < 4 < 5}.')"
   ]
  },
  {
   "cell_type": "markdown",
   "metadata": {},
   "source": [
    "So we can write more concisely:"
   ]
  },
  {
   "cell_type": "code",
   "execution_count": 9,
   "metadata": {},
   "outputs": [
    {
     "name": "stdout",
     "output_type": "stream",
     "text": [
      "do B\n"
     ]
    }
   ],
   "source": [
    "a = False   # a is our variable, we assign it the boolean value True\n",
    "\n",
    "if 3 < 5:  # equivalent to \"if a == True\"\n",
    "    print('do B')"
   ]
  },
  {
   "cell_type": "markdown",
   "metadata": {},
   "source": [
    "### Combining conditions (keywords = and, or)\n",
    "You can also combine multiple conditions, using `and` and `or` respectively.\n",
    "* If you combine conditions, using `and`, the code block will only be executed, if **both** conditions are met\n",
    "* If you combine conditions, using `or`, the code block will only be executed, if **one or both** conditions are met"
   ]
  },
  {
   "cell_type": "code",
   "execution_count": 17,
   "metadata": {},
   "outputs": [
    {
     "name": "stdout",
     "output_type": "stream",
     "text": [
      "One of the conditions holds\n"
     ]
    }
   ],
   "source": [
    "if 3 < 5 or 10 == 20:\n",
    "    print('One of the conditions holds')"
   ]
  },
  {
   "cell_type": "markdown",
   "metadata": {},
   "source": [
    "Note that the condition\n",
    "```python\n",
    "3 < x < 5\n",
    "```\n",
    "\n",
    "we explored above, is a python shorthand for\n",
    "```python\n",
    "3 < x and x < 5\n",
    "```\n",
    "\n",
    "This is conveniency provided in Python, not found in a lot of other programming languages!"
   ]
  },
  {
   "cell_type": "markdown",
   "metadata": {},
   "source": [
    "### Negating conditions (keywords = not)\n",
    "If you want to check that a certain condition is _not_ met, you can use they keyword `not` to negate the condition."
   ]
  },
  {
   "cell_type": "code",
   "execution_count": 18,
   "metadata": {},
   "outputs": [
    {
     "name": "stdout",
     "output_type": "stream",
     "text": [
      "True\n",
      "False\n"
     ]
    }
   ],
   "source": [
    "a = True\n",
    "print(a)\n",
    "print(not a)"
   ]
  },
  {
   "cell_type": "code",
   "execution_count": 21,
   "metadata": {},
   "outputs": [
    {
     "name": "stdout",
     "output_type": "stream",
     "text": [
      "a is set to False\n"
     ]
    }
   ],
   "source": [
    "a = False\n",
    "\n",
    "if a:\n",
    "    print('a is set to True')\n",
    "else:\n",
    "    print('a is set to False')"
   ]
  },
  {
   "cell_type": "markdown",
   "metadata": {
    "tags": []
   },
   "source": [
    "## If-else Statements (keyword = else)\n",
    "Let's elaborate more on our example: \"if A is true, then do B, else do C\" -> the computer checks whether statement A is correct. If yes it will perform action B, otherwise it perform action C.\n",
    "\n",
    "    if A is True:\n",
    "        do B\n",
    "    else:\n",
    "        do C\n",
    "\n",
    "Let's try this in Python"
   ]
  },
  {
   "cell_type": "code",
   "execution_count": 26,
   "metadata": {},
   "outputs": [
    {
     "name": "stdout",
     "output_type": "stream",
     "text": [
      "do C\n",
      "Executed in any case\n"
     ]
    }
   ],
   "source": [
    "a = False\n",
    "\n",
    "if a:\n",
    "    # there might be more statements here\n",
    "    print('do B')\n",
    "else:\n",
    "    print('do C')\n",
    "    # there can also be more statements here\n",
    "print('Executed in any case')"
   ]
  },
  {
   "cell_type": "markdown",
   "metadata": {},
   "source": [
    "<img src=\"https://cdn.educba.com/academy/wp-content/uploads/2019/08/If-Else-Statement-Flow-Diagram-2.png\" style = \"width:550px;height:500px\"/>"
   ]
  },
  {
   "cell_type": "markdown",
   "metadata": {},
   "source": [
    "Let's do a more realistic example:\n",
    "\n",
    "> we have a supersonic jet. The flying speed (rating) is measured in km/h. The temperature of the jet engine (level) is a categorical variable, which takes values as either MILD or HOT.\n",
    "> If the rating is below 20000, the level is MILD, otherwise it is HOT."
   ]
  },
  {
   "cell_type": "code",
   "execution_count": 27,
   "metadata": {},
   "outputs": [
    {
     "name": "stdout",
     "output_type": "stream",
     "text": [
      "MILD\n"
     ]
    }
   ],
   "source": [
    "rating = 18000\n",
    "\n",
    "if rating < 20000:\n",
    "    level = 'MILD'\n",
    "else:\n",
    "    level = 'HOT'\n",
    "\n",
    "print(level)"
   ]
  },
  {
   "cell_type": "markdown",
   "metadata": {},
   "source": [
    "# If-elif-else Statements (keyword=elif)\n",
    "Only \"MILD\" or \"HOT\"? That's quite simplistic for a supersonic jet! In fact, the \"level\" can take more values, as follows:\n",
    "\n",
    "| min. rating | max. rating | level |\n",
    "| --- | --- | --- |\n",
    "| 0 | 5000 | MILD |\n",
    "| 5000 | 20000 | MEDIUM |\n",
    "| 20000 | 70000 | HOT |\n",
    "| 70000 | --- | EXTREME |\n",
    "\n",
    "Note that we now have **more than two alternatives**!"
   ]
  },
  {
   "cell_type": "markdown",
   "metadata": {},
   "source": [
    "Recall that [`input`](https://docs.python.org/3/library/functions.html#input) is a Python built-in function that returns a string value. We convert this string into a float number in order to make numeric comparisons"
   ]
  },
  {
   "cell_type": "code",
   "execution_count": 32,
   "metadata": {},
   "outputs": [
    {
     "name": "stdin",
     "output_type": "stream",
     "text": [
      "What is your rating in km/h? 100000\n"
     ]
    },
    {
     "name": "stdout",
     "output_type": "stream",
     "text": [
      "Unknown\n"
     ]
    }
   ],
   "source": [
    "rating = float(input('What is your rating in km/h?'))\n",
    "\n",
    "level = 'Unknown'\n",
    "\n",
    "if rating < 5000: \n",
    "    level = 'MILD'\n",
    "elif rating < 20000: # more explicityly: if 5000 <= rating < 20000\n",
    "    level = 'MEDIUM'\n",
    "elif rating < 70000: # more explicityly: if 20000 <= rating < 70000\n",
    "    level = 'HOT'\n",
    "else:\n",
    "    level = 'EXTREME'\n",
    "\n",
    "print(level)"
   ]
  },
  {
   "cell_type": "markdown",
   "metadata": {},
   "source": [
    "With if/elif/else we can implement a control flow like this (picture from [geeksforgeeks.org](http://geeksforgeeks.org)):\n",
    "![If/elif/else](https://media.geeksforgeeks.org/wp-content/uploads/if-elseif-ladder.jpg)\n",
    "\n",
    "Notice that we will always execute (at max) **one of the alternatives** defined by if/elif/else. Even when we enter a rating of (let's say 3000) that would meet $> 1$ of the defined conditions, we will only execute the code block associated with the first condition that is met.\n",
    "\n",
    "Remember that **INDENTATION** is very important, especially when things start to get messy (an if/elif/else statement is located inside another if/elif/else statement). Let's rewrite the above code\n",
    "\n",
    "## Nested if Statements\n",
    "We _can_ (**but you never should**) write the above case handling as follows:"
   ]
  },
  {
   "cell_type": "code",
   "execution_count": 33,
   "metadata": {},
   "outputs": [
    {
     "name": "stdin",
     "output_type": "stream",
     "text": [
      "What is your rating in km/h?  24000\n"
     ]
    },
    {
     "name": "stdout",
     "output_type": "stream",
     "text": [
      "HOT\n"
     ]
    }
   ],
   "source": [
    "rating = float(input('What is your rating in km/h? '))\n",
    "\n",
    "if rating < 20000:\n",
    "    if rating < 5000:  #0 < rating < 5000   \n",
    "        level = 'MILD'\n",
    "    else:              #5000 <= rating < 20000 \n",
    "        level = 'MEDIUM'\n",
    "else:\n",
    "    if rating < 70000: #20000 <= rating < 70000\n",
    "        level = 'HOT'\n",
    "    else:              #70000 <= rating \n",
    "        rating = 'EXTREME'\n",
    "print(level)"
   ]
  },
  {
   "cell_type": "code",
   "execution_count": null,
   "metadata": {},
   "outputs": [],
   "source": []
  }
 ],
 "metadata": {
  "kernelspec": {
   "display_name": "Python 3 (ipykernel)",
   "language": "python",
   "name": "python3"
  },
  "language_info": {
   "codemirror_mode": {
    "name": "ipython",
    "version": 3
   },
   "file_extension": ".py",
   "mimetype": "text/x-python",
   "name": "python",
   "nbconvert_exporter": "python",
   "pygments_lexer": "ipython3",
   "version": "3.9.6"
  }
 },
 "nbformat": 4,
 "nbformat_minor": 4
}
