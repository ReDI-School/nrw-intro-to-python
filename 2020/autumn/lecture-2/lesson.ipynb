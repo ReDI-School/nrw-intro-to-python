{
 "metadata": {
  "language_info": {
   "codemirror_mode": {
    "name": "ipython",
    "version": 3
   },
   "file_extension": ".py",
   "mimetype": "text/x-python",
   "name": "python",
   "nbconvert_exporter": "python",
   "pygments_lexer": "ipython3",
   "version": "3.7.9-final"
  },
  "orig_nbformat": 2,
  "kernelspec": {
   "name": "Python 3.7.9 64-bit ('venv': venv)",
   "display_name": "Python 3.7.9 64-bit ('venv': venv)",
   "metadata": {
    "interpreter": {
     "hash": "be955fbfa8d5a955266875a901b54717e99b11011bba7c128f541330070001d6"
    }
   }
  }
 },
 "nbformat": 4,
 "nbformat_minor": 2,
 "cells": [
  {
   "source": [
    "# Introduction to Python\n",
    "## Lesson 2 - Variables, Data Types and Operators\n",
    "**Ian Clark - 07.10.2020**\n",
    "\n",
    "------"
   ],
   "cell_type": "markdown",
   "metadata": {}
  },
  {
   "source": [
    "## Objectives\n",
    "By the end of today's lesson, we'll have looked at:\n",
    "\n",
    "* What data types are\n",
    "* What variables are\n",
    "* What operators are\n",
    "* How we can *apply* operators *to* data types\n",
    "* How can we compare data types\n",
    "\n",
    "----"
   ],
   "cell_type": "markdown",
   "metadata": {}
  },
  {
   "source": [
    "## Data Types\n",
    "* In Python - just as in any programming language - we categorize data into \"types\".\n",
    "* These different data types have different properties\n",
    "* We can do different things with them (using operators, more on that later)\n",
    "* We can compare them to one another\n",
    "* Today, we're going to look at some of the most essential..."
   ],
   "cell_type": "markdown",
   "metadata": {}
  },
  {
   "source": [
    "----\n",
    "\n",
    "### Strings"
   ],
   "cell_type": "markdown",
   "metadata": {}
  },
  {
   "cell_type": "code",
   "execution_count": null,
   "metadata": {
    "tags": []
   },
   "outputs": [],
   "source": [
    "# For text, we have the \"string\" type.\n",
    "# Think of a string as just a collection of letters and numbers\n",
    "print('Hello world!')"
   ]
  },
  {
   "cell_type": "code",
   "execution_count": null,
   "metadata": {
    "tags": []
   },
   "outputs": [],
   "source": [
    "# Note: To create a string, we need to wrap it in quotes.\n",
    "# We can actually do this in a variety of ways...\n",
    "print('1) With single quotes')\n",
    "print(\"2) With double quotes\")\n",
    "print(\"\"\"3) Or using three of either\n",
    "   Which is useful when you want to write multiple lines\"\"\")"
   ]
  },
  {
   "cell_type": "code",
   "execution_count": null,
   "metadata": {
    "tags": []
   },
   "outputs": [],
   "source": [
    "# To help us determine the type of some data, python provides the `type()` function\n",
    "# Note: \"str\" is short for string\n",
    "type(\"What am I?\")"
   ]
  },
  {
   "source": [
    "----\n",
    "\n",
    "### Numbers"
   ],
   "cell_type": "markdown",
   "metadata": {}
  },
  {
   "cell_type": "code",
   "execution_count": null,
   "metadata": {},
   "outputs": [],
   "source": [
    "# Next, let's look at some numbers!\n",
    "# There are a many different ways of dealing with numbers in Python,\n",
    "# but 99% of the time, we'll only care about 2 of them."
   ]
  },
  {
   "cell_type": "code",
   "execution_count": null,
   "metadata": {
    "tags": []
   },
   "outputs": [],
   "source": [
    "# The first are \"integers\" - or, whole numbers.\n",
    "print(42)"
   ]
  },
  {
   "cell_type": "code",
   "execution_count": null,
   "metadata": {
    "tags": []
   },
   "outputs": [],
   "source": [
    "# These have the data type \"int\".\n",
    "type(42)"
   ]
  },
  {
   "cell_type": "code",
   "execution_count": null,
   "metadata": {
    "tags": []
   },
   "outputs": [],
   "source": [
    "# The second are \"floats\" - or, floating point numbers.\n",
    "# In mathematical terms, these describe \"real\" (non-whole) numbers,\n",
    "# which we often express using decimal points.\n",
    "print(3.14)"
   ]
  },
  {
   "cell_type": "code",
   "execution_count": null,
   "metadata": {
    "tags": []
   },
   "outputs": [],
   "source": [
    "# They have the data type \"float\"\n",
    "type(3.14)"
   ]
  },
  {
   "source": [
    "----\n",
    "\n",
    "### Booleans"
   ],
   "cell_type": "markdown",
   "metadata": {}
  },
  {
   "cell_type": "code",
   "execution_count": null,
   "metadata": {
    "tags": []
   },
   "outputs": [],
   "source": [
    "# In computing, we often need to consider something as having two possible\n",
    "# values, such as 0 or 1, 'on' or 'off', or true or false. These are called\n",
    "# booleans, and in Python we have the following\n",
    "# either...\n",
    "print(True)\n",
    "# or...\n",
    "print(False)"
   ]
  },
  {
   "cell_type": "code",
   "execution_count": null,
   "metadata": {},
   "outputs": [],
   "source": [
    "# They have the data type \"bool\"\n",
    "type(True)"
   ]
  },
  {
   "source": [
    "----\n",
    "\n",
    "### None"
   ],
   "cell_type": "markdown",
   "metadata": {}
  },
  {
   "cell_type": "code",
   "execution_count": null,
   "metadata": {
    "tags": []
   },
   "outputs": [],
   "source": [
    "# Finally, most languages have a data type to express that something\n",
    "# doesn't exist. This is sometimes called \"null\", or \"empty\", but in\n",
    "# python it is \"None\"\n",
    "print(None)"
   ]
  },
  {
   "cell_type": "code",
   "execution_count": null,
   "metadata": {},
   "outputs": [],
   "source": [
    "# And, it's type?\n",
    "type(None)"
   ]
  },
  {
   "source": [
    "----\n",
    "\n",
    "## Variables\n",
    "* Now lets look at \"variables\"\n",
    "* A variable in Python, is simply a **name that points to an object** - such as the ones we just created above."
   ],
   "cell_type": "markdown",
   "metadata": {}
  },
  {
   "cell_type": "code",
   "execution_count": null,
   "metadata": {
    "tags": []
   },
   "outputs": [],
   "source": [
    "a = 1\n",
    "print(a)"
   ]
  },
  {
   "source": [
    "* When we create a new variable in Python, we store into memory the name of the variable (`a`), the object (`1`) and the reference from the variable to the object\n",
    "* When we create a variable, we store in memory the variable (`a`), the object (`1`), and the link from one to the other\n",
    "* Were we to draw this relationship, it would look something like this\n",
    "\n",
    "![A pointing to the object 1](images/variable-single.svg)"
   ],
   "cell_type": "markdown",
   "metadata": {
    "tags": []
   }
  },
  {
   "source": [
    "* We create as many variables as we like"
   ],
   "cell_type": "markdown",
   "metadata": {}
  },
  {
   "cell_type": "code",
   "execution_count": null,
   "metadata": {
    "tags": []
   },
   "outputs": [],
   "source": [
    "a = 1\n",
    "b = 2\n",
    "print(a)\n",
    "print(b)"
   ]
  },
  {
   "source": [
    "![Multiple variables at once](images/variable-multiple.svg)"
   ],
   "cell_type": "markdown",
   "metadata": {}
  },
  {
   "source": [
    "* If we try to reference a variable which doesn't exist, Python will raise an error"
   ],
   "cell_type": "markdown",
   "metadata": {}
  },
  {
   "cell_type": "code",
   "execution_count": null,
   "metadata": {},
   "outputs": [],
   "source": [
    "print(missing_variable)"
   ]
  },
  {
   "source": [
    "* Variable names are *case sensitive*!"
   ],
   "cell_type": "markdown",
   "metadata": {}
  },
  {
   "cell_type": "code",
   "execution_count": null,
   "metadata": {
    "tags": []
   },
   "outputs": [],
   "source": [
    "my_variable = 'Hello world'\n",
    "\n",
    "# This will work\n",
    "print(my_variable)\n",
    "\n",
    "# This won't\n",
    "print(My_Variable)"
   ]
  },
  {
   "source": [
    "* We can assign a variable from another variable"
   ],
   "cell_type": "markdown",
   "metadata": {}
  },
  {
   "cell_type": "code",
   "execution_count": null,
   "metadata": {
    "tags": []
   },
   "outputs": [],
   "source": [
    "b = a\n",
    "print(b)"
   ]
  },
  {
   "source": [
    "* But an important point here: `b` is now referencing **the same object** as `a`, it is _not pointing directly to_ `a` itself. Looking at the relationship graphically makes it a little clearer\n",
    "\n",
    "![Variables passed by reference](images/variable-by-reference.svg)"
   ],
   "cell_type": "markdown",
   "metadata": {}
  },
  {
   "source": [
    "* When we assign `a` to a different object, `b` remains as it was"
   ],
   "cell_type": "markdown",
   "metadata": {}
  },
  {
   "cell_type": "code",
   "execution_count": null,
   "metadata": {
    "tags": []
   },
   "outputs": [],
   "source": [
    "a = 3\n",
    "print(a)\n",
    "print(b)"
   ]
  },
  {
   "source": [
    "![`b` remains 1 despite `a` being reassigned](images/variable-reassigned.svg)"
   ],
   "cell_type": "markdown",
   "metadata": {}
  },
  {
   "source": [
    "b = 4"
   ],
   "cell_type": "code",
   "metadata": {},
   "execution_count": null,
   "outputs": []
  },
  {
   "source": [
    "* When we reassign `b` to `4`, our integer object `1` is no longer in use. Another way of putting this, is that it _no longer has any references_. Luckily Python deals with these situations automatically for us, by *removing* these objects from memory (this is known as \"Garbage Collecting\" 🗑️).\n",
    "\n",
    "![`1` no longer has any references](images/variable-zero-references.svg)"
   ],
   "cell_type": "markdown",
   "metadata": {}
  },
  {
   "source": [
    "----\n",
    "\n",
    "## Bonus: Exceptions\n",
    "* Errors can often cause new programmers great confusion, stress, and anger.\n",
    "* Do not be put off by this! Errors are a natural part of programming. Embrace them, read them, learn from them.\n",
    "* Lets look back at the error which was raised when we mis-spelled the variable before\n",
    "  * Errors are also data types and they each have names to describe them. Ours was a `NameError` - we tried to reference a variable which didn't exist\n",
    "  * Errors also have \"messages\" which accompany them, to provide some more information about what specifically went wrong. Our message was `\"name 'My_Variable' is not defined\"`. This is really helpful!\n",
    "  * Finally, errors have a \"context\" - this tells us exactly where the error happened. We can see that our error occurred on line 7, and the error also prints out the line, to make it easier to locate.\n",
    "* When you get an error, don't panic. Take a second, read the details, and see if you can fix it yourself"
   ],
   "cell_type": "markdown",
   "metadata": {}
  },
  {
   "source": [
    "----\n",
    "\n",
    "## Operators\n",
    "* An operator allows us to _transform_ our objects\n",
    "* We will all have seen operators before in maths, such as \n",
    "  * `+` - Addition\n",
    "  * `-` - Subtraction\n",
    "  * `*` - Multiplication\n",
    "  * `/` - Division\n",
    "* Lets look at these in more detail now"
   ],
   "cell_type": "markdown",
   "metadata": {}
  },
  {
   "source": [
    "### Addition"
   ],
   "cell_type": "markdown",
   "metadata": {}
  },
  {
   "cell_type": "code",
   "execution_count": null,
   "metadata": {
    "tags": []
   },
   "outputs": [],
   "source": [
    "# Lets use the addition operator to add two numbers together\n",
    "a = 1\n",
    "b = 2\n",
    "print(a + b)"
   ]
  },
  {
   "cell_type": "code",
   "execution_count": null,
   "metadata": {
    "tags": []
   },
   "outputs": [],
   "source": [
    "# Remember that variables are just references to our objects.\n",
    "# We could think of objects with variables as being \"assigned\".\n",
    "# We can mix these assigned and un-assigned objects at any time.\n",
    "print(3 + b)"
   ]
  },
  {
   "cell_type": "code",
   "execution_count": null,
   "metadata": {
    "tags": []
   },
   "outputs": [],
   "source": [
    "# When we use operators, we create \"expressions\" (such as 1 + 2).\n",
    "# We can assign variables to the *result* of these expressions\n",
    "c = a + 4\n",
    "print(c)"
   ]
  },
  {
   "cell_type": "code",
   "execution_count": null,
   "metadata": {
    "tags": []
   },
   "outputs": [],
   "source": [
    "# But the *result* point is important, expressions are evaluated\n",
    "# once, as we run them, so if we change our variable `a`, our\n",
    "# variable `c` does *not* change\n",
    "a = 10\n",
    "print(c)"
   ]
  },
  {
   "source": [
    "* Again, lets consider this graphically, to help us understand better\n",
    "\n",
    "![Expression evaluated once](images/operator-variable-evaluation.svg)"
   ],
   "cell_type": "markdown",
   "metadata": {}
  },
  {
   "source": [
    "### Subtraction"
   ],
   "cell_type": "markdown",
   "metadata": {}
  },
  {
   "cell_type": "code",
   "execution_count": null,
   "metadata": {
    "tags": []
   },
   "outputs": [],
   "source": [
    "# These next examples should come as no surprise!\n",
    "print(10 - 2)"
   ]
  },
  {
   "source": [
    "### Multiplication"
   ],
   "cell_type": "markdown",
   "metadata": {}
  },
  {
   "cell_type": "code",
   "execution_count": null,
   "metadata": {
    "tags": []
   },
   "outputs": [],
   "source": [
    "print(4 * 3)"
   ]
  },
  {
   "source": [
    "### Division"
   ],
   "cell_type": "markdown",
   "metadata": {}
  },
  {
   "cell_type": "code",
   "execution_count": null,
   "metadata": {
    "tags": []
   },
   "outputs": [],
   "source": [
    "print(12 / 4)"
   ]
  },
  {
   "source": [
    "### *Side Note:* Types and operators\n",
    "* This last result was very interesting, why is it `3.0`? Why not `3`?\n",
    "* Here we can see an example of using operators to transform data types..."
   ],
   "cell_type": "markdown",
   "metadata": {}
  },
  {
   "cell_type": "code",
   "execution_count": null,
   "metadata": {
    "tags": []
   },
   "outputs": [],
   "source": [
    "# We put the *integers* `12` and `4` in...\n",
    "print(type(12))\n",
    "print(type(4))"
   ]
  },
  {
   "cell_type": "code",
   "execution_count": null,
   "metadata": {
    "tags": []
   },
   "outputs": [],
   "source": [
    "# But dividing them, we ended up with a *float*!\n",
    "print(type(12 / 4))"
   ]
  },
  {
   "cell_type": "code",
   "execution_count": null,
   "metadata": {
    "tags": []
   },
   "outputs": [],
   "source": [
    "# The reason for this becomes a little clearer, when we consider that\n",
    "# dividing two numbers - whether whole numbers or not - can produce\n",
    "# *non*-whole numbers\n",
    "print(10 / 3)"
   ]
  },
  {
   "cell_type": "code",
   "execution_count": null,
   "metadata": {
    "tags": []
   },
   "outputs": [],
   "source": [
    "# Of course, we can apply any of operators above to floats\n",
    "# whenever we like\n",
    "print(2.5 + 1.2)"
   ]
  },
  {
   "cell_type": "code",
   "execution_count": null,
   "metadata": {
    "tags": []
   },
   "outputs": [],
   "source": [
    "# And we can even mix integers and floats together\n",
    "print(2 * 1.2)"
   ]
  },
  {
   "cell_type": "code",
   "execution_count": null,
   "metadata": {
    "tags": []
   },
   "outputs": [],
   "source": [
    "# So long as we use additional, subtraction or multiplication,\n",
    "# we know that integers will remain integers\n",
    "all_ints = 1 + 3 - 2\n",
    "print(all_ints)\n",
    "print(type(all_ints))"
   ]
  },
  {
   "cell_type": "code",
   "execution_count": null,
   "metadata": {
    "tags": []
   },
   "outputs": [],
   "source": [
    "# But *as soon as* we introduce just one float into the mix,\n",
    "# we'll end up with a float\n",
    "int_float_mix = 2.5 * 4\n",
    "print(type(int_float_mix))\n"
   ]
  },
  {
   "cell_type": "code",
   "execution_count": null,
   "metadata": {
    "tags": []
   },
   "outputs": [],
   "source": [
    "# Even if it *could* be an integer\n",
    "print(int_float_mix)"
   ]
  },
  {
   "source": [
    "----\n",
    "\n",
    "## Advanced Operators\n",
    "* In addition to the most common operators, Python provides us with some extras which can be very useful at times\n",
    "* Lets look at these briefly\n",
    "\n",
    "### Exponent"
   ],
   "cell_type": "markdown",
   "metadata": {}
  },
  {
   "cell_type": "code",
   "execution_count": null,
   "metadata": {
    "tags": []
   },
   "outputs": [],
   "source": [
    "# The exponent operator, allows us to make calculations such as...\n",
    "print(4 ** 2)"
   ]
  },
  {
   "cell_type": "code",
   "execution_count": null,
   "metadata": {
    "tags": []
   },
   "outputs": [],
   "source": [
    "# And...\n",
    "print(3 ** 3)"
   ]
  },
  {
   "source": [
    "### Floor Division"
   ],
   "cell_type": "markdown",
   "metadata": {}
  },
  {
   "cell_type": "code",
   "execution_count": null,
   "metadata": {
    "tags": []
   },
   "outputs": [],
   "source": [
    "# Remember that normal division always returns a float?\n",
    "# Floor division is one solution to that.\n",
    "a = 12 // 4\n",
    "print(a)\n",
    "print(type(a))"
   ]
  },
  {
   "cell_type": "code",
   "execution_count": null,
   "metadata": {
    "tags": []
   },
   "outputs": [],
   "source": [
    "# But the word \"floor\" here is important.\n",
    "# No clever rounding happens, Python simply takes\n",
    "# the \"integer\" part of the number, and removes the\n",
    "# \"fraction\" part of the number.\n",
    "\n",
    "# Take this example\n",
    "print(20 / 3)\n"
   ]
  },
  {
   "cell_type": "code",
   "execution_count": null,
   "metadata": {},
   "outputs": [],
   "source": [
    "# If we \"rounded\" it, we might expect to get 7.\n",
    "# But using floor division...\n",
    "print(20 // 3)"
   ]
  },
  {
   "source": [
    "### Modulus"
   ],
   "cell_type": "markdown",
   "metadata": {}
  },
  {
   "cell_type": "code",
   "execution_count": null,
   "metadata": {
    "tags": []
   },
   "outputs": [],
   "source": [
    "# The \"modulus\" of a number, is the remainder left\n",
    "# over after trying to divide a number into different\n",
    "# groups\n",
    "\n",
    "# Lets image we had a cake with 12 slices, and 5 very\n",
    "# hungry friends.\n",
    "slices = 19\n",
    "friends = 5"
   ]
  },
  {
   "cell_type": "code",
   "execution_count": null,
   "metadata": {},
   "outputs": [],
   "source": [
    "# The modulus operator - % - allows us to work out how\n",
    "# many slices would be left over, after evenly dividing\n",
    "# the cake out between the friends\n",
    "left_over_slices = slices % friends\n",
    "print('Slices left over:', left_over_slices)"
   ]
  },
  {
   "cell_type": "code",
   "execution_count": null,
   "metadata": {},
   "outputs": [],
   "source": [
    "# And how many slices of cake each would they have?\n",
    "# We can use floor division to work that out\n",
    "slices_each = slices // friends\n",
    "print('Slices each:', slices_each)"
   ]
  },
  {
   "cell_type": "code",
   "execution_count": null,
   "metadata": {},
   "outputs": [],
   "source": [
    "# We can prove this by adding our numbers back together!\n",
    "# Lets introduce some more complicated expressions\n",
    "print('Original slices:', (slices_each * friends) + left_over_slices)"
   ]
  },
  {
   "source": [
    "----\n",
    "\n",
    "## Operator Precedence\n",
    "* So now we've seen lots of operators in action, and we've just done used a complex expression to make a calculation\n",
    "* Notice that we also used brackets in that expression\n",
    "* Lets now look briefly at what we call \"precendence\" of operations. That is, **in what order do we apply these operations?**\n",
    "* Python follows the standard mathematics approach of operator precedence\n",
    "* There are lots of \"mnemonics\" for remembering the ordering of these, such as\n",
    "  * `PEMDAS` - in one commonly used in the United States.\n",
    "    1. **P**arenthesis\n",
    "    2. **E**xponents\n",
    "    3. **M**ultiplication and **D**ivision\n",
    "    4. **A**dition and **S**ubtraction\n",
    "  * In other countries, `BEDMAS` or `BODMAS` is used, but they all mean the same thing!\n",
    "* Lets look at how these work in action"
   ],
   "cell_type": "markdown",
   "metadata": {}
  },
  {
   "cell_type": "code",
   "execution_count": null,
   "metadata": {
    "tags": []
   },
   "outputs": [],
   "source": [
    "# Quiz time!\n",
    "# In each of these examples, guess the output\n",
    "# Hint: multiplication and division are considered *before*\n",
    "# addition and subtraction\n",
    "print(1 + 2 * 3 - 20 / 5)"
   ]
  },
  {
   "cell_type": "code",
   "execution_count": null,
   "metadata": {
    "tags": []
   },
   "outputs": [],
   "source": [
    "print(2 * 3 + 1 - 20 / 5)"
   ]
  },
  {
   "cell_type": "code",
   "execution_count": null,
   "metadata": {
    "tags": []
   },
   "outputs": [],
   "source": [
    "print(2 * 3 - 20 / 5 + 1)"
   ]
  },
  {
   "cell_type": "code",
   "execution_count": null,
   "metadata": {
    "tags": []
   },
   "outputs": [],
   "source": [
    "# Hint: Exponent \"beats\" the +-/*\n",
    "print(4 * 3 ** 2)"
   ]
  },
  {
   "cell_type": "code",
   "execution_count": null,
   "metadata": {
    "tags": []
   },
   "outputs": [],
   "source": [
    "# Hint: Brackets / Parenthesis always win\n",
    "print((1 + 2) * (4 / 2) / (9 / 3))"
   ]
  },
  {
   "source": [
    "# Finally, recall our slices of cake example\n",
    "print((slices_each * friends) + left_over_slices)\n",
    "\n",
    "# Now that we understand the order precedence, we\n",
    "# actually know that here the brackets are actually\n",
    "# unnecessary\n",
    "print(slices_each * friends + left_over_slices)\n",
    "\n",
    "# BUT! Whenever we program, we have to consider the trade-off\n",
    "# between was is strictly \"necessary\", and what is the most\n",
    "# readable to humans!\n",
    "\n",
    "# Personally, adding the brackets makes it easier for me to\n",
    "# follow the equation above, so I added them."
   ],
   "cell_type": "code",
   "metadata": {
    "tags": []
   },
   "execution_count": null,
   "outputs": []
  },
  {
   "source": [
    "----\n",
    "\n",
    "## Operators for non-numbers\n",
    "* Up until now, we've only applied operators to numbers, but many different data types will work nicely with operators.\n",
    "* Of the data types we've seen so far, strings also support operators\n",
    "\n",
    "### String operators"
   ],
   "cell_type": "markdown",
   "metadata": {}
  },
  {
   "cell_type": "code",
   "execution_count": null,
   "metadata": {
    "tags": []
   },
   "outputs": [],
   "source": [
    "# We can use the addition operator (+) to join strings together\n",
    "a = 'Hello'\n",
    "b = 'World'\n",
    "print(a + b)"
   ]
  },
  {
   "cell_type": "code",
   "execution_count": null,
   "metadata": {
    "tags": []
   },
   "outputs": [],
   "source": [
    "fixed = a + ' ' + b\n",
    "print(fixed)"
   ]
  },
  {
   "cell_type": "code",
   "execution_count": null,
   "metadata": {
    "tags": []
   },
   "outputs": [],
   "source": [
    "# We can also use the multiplication (*) operator to repeat\n",
    "# a string as many times as we wish\n",
    "a = 'This lesson just goes on'\n",
    "b = ', and on...' * 10\n",
    "print(a + b)"
   ]
  },
  {
   "cell_type": "code",
   "execution_count": null,
   "metadata": {},
   "outputs": [],
   "source": [
    "# But what about subtraction and division?\n",
    "# Lets try...\n",
    "print(\"I don't know\" - \"what should happen here?\")"
   ]
  },
  {
   "source": [
    "### Error Inspection Round 2!\n",
    "* So, strings only have limited support for our operators\n",
    "* Lets use the tips we saw earlier to \"debug\" this error a little\n",
    "  * Firstly, we can see the line which caused the error, that's really helpful!\n",
    "  * We can also see that it's a `TypeError`. OK... not sure what that means, but let's keep going...\n",
    "  * The details of the error say `\"unsupported operand type(s) for -: 'str' and 'str'\"` - what could this mean? Let's break it down step by step\n",
    "    1. `unsupported operand type(s)...` - An \"operand\" is simply the _thing which you apply an operator to_. Python is telling us that these operands don't support the operator. Let's keep reading...\n",
    "    2. `...for -...` - The operator is subtraction, `-`\n",
    "    3. `...'str' and 'str'...` - And the operands which don't work with it are two strings.\n",
    "  * Another way of writing this would be: \"You can't subtract one string from another\". But errors in programming languages are rarely written in plain English, as they need be very specific. There are lots of operators and an infinite number of operands, so we need to write error messages which can handle every possible scenario."
   ],
   "cell_type": "markdown",
   "metadata": {}
  },
  {
   "source": [
    "### Play time - Boolean operators!\n",
    "* Now that we know how to spot and debug an error when using operators, lets have some fun\n",
    "* In your own environment, run the following code, and then change the boolean operators and operators as you like. Try and guess what the output will be, before you run the code\n",
    "* Can you guess why you get the results you do? (Hint: re-read the section on booleans)"
   ],
   "cell_type": "markdown",
   "metadata": {}
  },
  {
   "cell_type": "code",
   "execution_count": null,
   "metadata": {
    "tags": []
   },
   "outputs": [],
   "source": [
    "# Run me - change the boolean operands, change the operator, and see what you get!\n",
    "print(True + False)"
   ]
  },
  {
   "source": [
    "-----\n",
    "\n",
    "## Comparison\n",
    "* Comparing objects is a fundamental part of programming\n",
    "* In Python, we can do this using a variety of comparison _operators_\n",
    "* These are a special category of operators, which always return a boolean - `True` or `False`\n",
    "* Lets look at some of the most common operators...\n",
    "\n",
    "### Equality (`==`)\n",
    "  "
   ],
   "cell_type": "markdown",
   "metadata": {}
  },
  {
   "cell_type": "code",
   "execution_count": null,
   "metadata": {
    "tags": []
   },
   "outputs": [],
   "source": [
    "# In Python, when we want to compare whether one object\n",
    "# is \"equal\" to another, we use the \"equality\" operator\n",
    "# == - note the *double* equals symbol, as only a single\n",
    "# equals symbol is used to assign variables\n",
    "print(1 == 1)\n",
    "print(1 == 0)"
   ]
  },
  {
   "cell_type": "code",
   "execution_count": null,
   "metadata": {
    "tags": []
   },
   "outputs": [],
   "source": [
    "# The order in which we compare the objects shouldn't matter, so...\n",
    "print(1 == 2)\n",
    "# Should be the same as...\n",
    "print(2 == 1)"
   ]
  },
  {
   "cell_type": "code",
   "execution_count": null,
   "metadata": {
    "tags": []
   },
   "outputs": [],
   "source": [
    "# Also in Python (and this is different to other languages)\n",
    "# we can compare objects of different types with one another\n",
    "# In some cases \n",
    "print(5 == 5.0)"
   ]
  },
  {
   "cell_type": "code",
   "execution_count": null,
   "metadata": {
    "tags": []
   },
   "outputs": [],
   "source": [
    "# But be prepared that the answer isn't always what you might expect\n",
    "print(5 == \"5\")"
   ]
  },
  {
   "cell_type": "code",
   "execution_count": null,
   "metadata": {
    "tags": []
   },
   "outputs": [],
   "source": [
    "# And sometimes it can be very confusing!\n",
    "print(True == 1)"
   ]
  },
  {
   "source": [
    "### Not Equal (`!=`)"
   ],
   "cell_type": "markdown",
   "metadata": {}
  },
  {
   "cell_type": "code",
   "execution_count": null,
   "metadata": {
    "tags": []
   },
   "outputs": [],
   "source": [
    "# The \"not equal\" operator just gives us the reverse of the\n",
    "# equals operator. It uses an exclamation mark (or a \"bang\"),\n",
    "# followed by an equals sign. In programming languages, a bang\n",
    "# is often used for \"negation\"\n",
    "print(True != False)\n",
    "print(1 != 2)\n",
    "print(2 != 2)"
   ]
  },
  {
   "source": [
    "### Greater Than (`>`) / Less Than (`<`)"
   ],
   "cell_type": "markdown",
   "metadata": {}
  },
  {
   "cell_type": "code",
   "execution_count": null,
   "metadata": {
    "tags": []
   },
   "outputs": [],
   "source": [
    "# These operators are just like the ones used in Maths\n",
    "print(2 > 1)"
   ]
  },
  {
   "cell_type": "code",
   "execution_count": null,
   "metadata": {
    "tags": []
   },
   "outputs": [],
   "source": [
    "# We can compare some types of object with one another\n",
    "print(2.5 > 5)"
   ]
  },
  {
   "cell_type": "code",
   "execution_count": null,
   "metadata": {},
   "outputs": [],
   "source": [
    "# But not others...\n",
    "print(\"Hello World\" > 9000)"
   ]
  },
  {
   "cell_type": "code",
   "execution_count": null,
   "metadata": {
    "tags": []
   },
   "outputs": [],
   "source": [
    "# And similar to equality checking, the answers might surprise you\n",
    "print('Six' > 'Eight')\n",
    "print(42 > True)"
   ]
  },
  {
   "source": [
    "### Greater Than Or Equal (`>=`) / Less Than or Equal (`<=`)"
   ],
   "cell_type": "markdown",
   "metadata": {}
  },
  {
   "cell_type": "code",
   "execution_count": null,
   "metadata": {
    "tags": []
   },
   "outputs": [],
   "source": [
    "# These are handy little variants on the above operators.\n",
    "# They'll return true in the above situations *plus* when the\n",
    "# objects are identical. Imagine the maximum score on a test\n",
    "# is 100\n",
    "maximum_score = 100\n",
    "your_score = 99\n",
    "\n",
    "# We could check if a score is valid using the less than operator\n",
    "is_valid = your_score < (maximum_score + 1)\n",
    "print(is_valid)\n",
    "\n",
    "# Or more simply, by using the less than or equal operator\n",
    "is_valid = your_score <= maximum_score\n",
    "print(is_valid)"
   ]
  },
  {
   "source": [
    "### Identity (`is` / `is not`)"
   ],
   "cell_type": "markdown",
   "metadata": {}
  },
  {
   "cell_type": "code",
   "execution_count": null,
   "metadata": {},
   "outputs": [],
   "source": [
    "# These special operators are used to compare whether two\n",
    "# objects are *literally* the same object, stored in memory\n",
    "# Consider the following\n",
    "a = 1\n",
    "b = 1.0"
   ]
  },
  {
   "cell_type": "code",
   "execution_count": null,
   "metadata": {
    "tags": []
   },
   "outputs": [],
   "source": [
    "# A and B are \"equal\" in value.\n",
    "# The float 1.0 is *equal to* the integer 1.\n",
    "print(a == b)"
   ]
  },
  {
   "cell_type": "code",
   "execution_count": null,
   "metadata": {
    "tags": []
   },
   "outputs": [],
   "source": [
    "# But, the float 1.0 *is not* the integer 1\n",
    "print(a is b)"
   ]
  },
  {
   "source": [
    "* This graph should help to explain why: the objects stored in memory are different.\n",
    "\n",
    "![A and B are different objects](images/comparison-identity.svg)"
   ],
   "cell_type": "markdown",
   "metadata": {}
  },
  {
   "source": [
    "* We'll return to identity checking later on in the course, but for now we should just know of its existence, and not be scared when we see `is` and `is not` when reading Python\n",
    "* For example, this is the standard way to check if an object is `None` (there's only one `None`!)"
   ],
   "cell_type": "markdown",
   "metadata": {}
  },
  {
   "source": [
    "---- \n",
    "\n",
    "## Converting Types\n",
    "* The importance of data types when making comparisons brings up an important question: how can we convert one type to another?"
   ],
   "cell_type": "markdown",
   "metadata": {}
  },
  {
   "source": [
    "### Numbers"
   ],
   "cell_type": "markdown",
   "metadata": {}
  },
  {
   "cell_type": "code",
   "execution_count": null,
   "metadata": {
    "tags": []
   },
   "outputs": [],
   "source": [
    "# Converting between numerical data types is pretty straight forward.\n",
    "# For floats, we simply use the `float()` function...\n",
    "print(float(1))"
   ]
  },
  {
   "cell_type": "code",
   "execution_count": null,
   "metadata": {},
   "outputs": [],
   "source": [
    "# We can pass the function a float already, in which case it remains unchanged.\n",
    "# This is true of all of the examples we'll show below.\n",
    "# Imagine we had a variable of an unknown type...\n",
    "unknown = 1.0\n",
    "\n",
    "# If we call the `float()` function on it, we *know* that we'll get back a float.\n",
    "# This can be very useful at times.\n",
    "must_be_a_float = float(unknown)\n",
    "print(must_be_a_float)"
   ]
  },
  {
   "cell_type": "code",
   "execution_count": null,
   "metadata": {
    "tags": []
   },
   "outputs": [],
   "source": [
    "# For integers, we use the `int()` function\n",
    "print(int(1.0))"
   ]
  },
  {
   "cell_type": "code",
   "execution_count": null,
   "metadata": {
    "tags": []
   },
   "outputs": [],
   "source": [
    "# This also \"floors\" the value (rounds down), and so...\n",
    "print(int(1.1))"
   ]
  },
  {
   "cell_type": "code",
   "execution_count": null,
   "metadata": {
    "tags": []
   },
   "outputs": [],
   "source": [
    "# Will produce the same result as...\n",
    "print(int(1.9))"
   ]
  },
  {
   "cell_type": "code",
   "execution_count": null,
   "metadata": {
    "tags": []
   },
   "outputs": [],
   "source": [
    "# We can also convert strings to numbers\n",
    "print(int(\"12\"))\n",
    "print(float(\"99.99\"))"
   ]
  },
  {
   "cell_type": "code",
   "execution_count": null,
   "metadata": {},
   "outputs": [],
   "source": [
    "# As long as they are valid numbers\n",
    "# Let's debug this one together...\n",
    "print(int(\"I am not a number...\"))"
   ]
  },
  {
   "cell_type": "code",
   "execution_count": null,
   "metadata": {
    "tags": []
   },
   "outputs": [],
   "source": [
    "# Cool! So, integers support different bases...\n",
    "print(int('100', 2))"
   ]
  },
  {
   "source": [
    "### Strings"
   ],
   "cell_type": "markdown",
   "metadata": {}
  },
  {
   "cell_type": "code",
   "execution_count": null,
   "metadata": {
    "tags": []
   },
   "outputs": [],
   "source": [
    "# To convert a value to a string, we call the `str()` function\n",
    "as_string = str(1)\n",
    "print(as_string)\n",
    "print(type(as_string))"
   ]
  },
  {
   "cell_type": "code",
   "execution_count": null,
   "metadata": {
    "tags": []
   },
   "outputs": [],
   "source": [
    "# *Almost any object* can be converted to a string\n",
    "print(str(True))\n",
    "print(str(None))\n",
    "print(str(1.23))"
   ]
  },
  {
   "cell_type": "code",
   "execution_count": null,
   "metadata": {},
   "outputs": [],
   "source": [
    "# And that's really hand if we want to create messages...\n",
    "reading = 9000"
   ]
  },
  {
   "cell_type": "code",
   "execution_count": null,
   "metadata": {},
   "outputs": [],
   "source": [
    "# Because, we can't add a string to a number directly\n",
    "print(\"It's over \" + reading)"
   ]
  },
  {
   "cell_type": "code",
   "execution_count": null,
   "metadata": {
    "tags": []
   },
   "outputs": [],
   "source": [
    "# We have to first convert it to a string\n",
    "print(\"It's over \" + str(reading))"
   ]
  },
  {
   "source": [
    "### Booleans"
   ],
   "cell_type": "markdown",
   "metadata": {}
  },
  {
   "source": [
    "# Converting values to booleans - `True` or `False` - is often very handy\n",
    "# We can do that using the `bool()` function.\n",
    "\n",
    "# This introduces an important point - numbers are considered \"truthy\"\n",
    "# (truth-like) as long as they're not 0\n",
    "print(bool(1))\n",
    "print(bool(2.3))\n",
    "print(bool(-15))"
   ],
   "cell_type": "code",
   "metadata": {
    "tags": []
   },
   "execution_count": null,
   "outputs": []
  },
  {
   "cell_type": "code",
   "execution_count": null,
   "metadata": {},
   "outputs": [],
   "source": [
    "# But zero values are considered \"falsey\" (false-like).\n",
    "# Remember the \"0 or 1\", \"true or false\", \"on or off\" examples from before.\n",
    "print(bool(0))\n",
    "print(bool(0.0))"
   ]
  },
  {
   "cell_type": "code",
   "execution_count": null,
   "metadata": {
    "tags": []
   },
   "outputs": [],
   "source": [
    "# With strings, we consider any *non-empty* value to be \"truthy\"\n",
    "print(bool(\"Hello world\"))\n",
    "# Even this!\n",
    "print(bool(\" \"))"
   ]
  },
  {
   "cell_type": "code",
   "execution_count": null,
   "metadata": {
    "tags": []
   },
   "outputs": [],
   "source": [
    "# But empty strings are \"falsey\"\n",
    "print(bool(\"\"))"
   ]
  },
  {
   "source": [],
   "cell_type": "markdown",
   "metadata": {}
  },
  {
   "source": [
    "----\n",
    "\n",
    "## Recap\n",
    "Today, we've looked at:\n",
    "\n",
    "✔️ Some of the most important data types in Python\n",
    "\n",
    "✔️ Assigning variables, and how variables link to objects by _reference_\n",
    "\n",
    "✔️ Errors, and how to \"debug\" them\n",
    "\n",
    "✔️ Comparing objects"
   ],
   "cell_type": "markdown",
   "metadata": {}
  },
  {
   "source": [
    "----\n",
    "\n",
    "## Closing Remarks\n",
    "* Learning to program can be hard, so **make it fun**! Play around. Tweak things. Make errors. Fix them.\n",
    "* Python is a beautiful language and is excellent for beginners. Be aware though, that around 90% of what you learn in these lessons will apply in some way to almost all languages, we're really learning the basics of programming, and that's cool!"
   ],
   "cell_type": "markdown",
   "metadata": {}
  },
  {
   "source": [
    "----\n",
    "\n",
    "## Homework\n",
    "* Try to complete the following exercises in your own time. If you get stuck, look back at the material in the notebook to try to help you.\n"
   ],
   "cell_type": "markdown",
   "metadata": {}
  },
  {
   "source": [
    "### The `input()` function\n",
    "* For these exercises, we're going to take advantage of a new function, called `input()`.\n",
    "* When this function is called, the user is prompted to provide a value, lets run the code below"
   ],
   "cell_type": "markdown",
   "metadata": {}
  },
  {
   "source": [
    "name = input()\n",
    "print(\"Hello \" + name)"
   ],
   "cell_type": "code",
   "metadata": {
    "tags": []
   },
   "execution_count": null,
   "outputs": []
  },
  {
   "source": [
    "* An important thing to note is that the data type returned by `input()` is *always* a string. Therefore..."
   ],
   "cell_type": "markdown",
   "metadata": {}
  },
  {
   "cell_type": "code",
   "execution_count": null,
   "metadata": {
    "tags": []
   },
   "outputs": [],
   "source": [
    "# This code will not work\n",
    "age = input()\n",
    "print(\"In 10 years time you will be\", age + 10)"
   ]
  },
  {
   "cell_type": "code",
   "execution_count": null,
   "metadata": {
    "tags": []
   },
   "outputs": [],
   "source": [
    "# We have to first convert the input to an integer\n",
    "age = int(input())\n",
    "print(\"In 10 years time you will be\", age + 10)"
   ]
  },
  {
   "source": [
    "\n",
    "### Exercise 1\n",
    "* You are in *country X* and travelling to Germany next week.\n",
    "* You have 100 dollars and want to convert them to euros.\n",
    "* You go to a currency exchange center, but are told that they cannot convert it directly, they'll first have to convert the 100 dollars to *currency X* (X), and then convert it from *currency X* to euros.  \n",
    "* Write a program which asks the user how many dollars they have, and print the number of euros they'll receive\n",
    "* The exchanges rates are\n",
    "  * 1 dollar equals 15X\n",
    "  * 1X equals 0.05 euros\n",
    "\n",
    "**Hints**\n",
    "* Ask the users how many dollars they have (using `input()`), store this as a variable\n",
    "* Remember that `input()` returns a string, and will need to be converted to a number\n",
    "* Create two variables for conversion rates\n",
    "* Multiply the amount of dollars by the conversion rate from dollars to currency X\n",
    "* Then multiply the result by the conversion rate from currency X to euros \n",
    "* Output the result using the `print()` function "
   ],
   "cell_type": "markdown",
   "metadata": {}
  },
  {
   "source": [
    "### Exercise 2\n",
    "Create a program which asks the user for a radius of a circle, and outputs the area and circumference of that circle. \n",
    "\n",
    "**Hints**\n",
    "* Ask the user for a radius using the `input()` function, store this as a variable\n",
    "* Remember that `input()` returns a string, and will need to be converted to a number\n",
    "* Use `3.14` as an approximation for `Pi`\n",
    "* Given `r` as the radius\n",
    "  * The area of a circle can be calculated as \"Pi R Squared\" (`πr²`)\n",
    "  * The circumference of a circle is \"2 Pi R\" (`2πr`)\n",
    "* Output the results using the `print()` function. Play around with the output, try to be creative and make it pretty!"
   ],
   "cell_type": "markdown",
   "metadata": {}
  }
 ]
}