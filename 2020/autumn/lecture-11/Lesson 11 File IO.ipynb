{
 "cells": [
  {
   "cell_type": "markdown",
   "metadata": {},
   "source": [
    "# File IO\n",
    "\n",
    "\n",
    "## What is a file?\n",
    "\n",
    "- A file is a named location on disk to store related information. \n",
    "\n",
    "- A file consists of a contiguous set of bytes used to store data organized in a specific format.\n",
    "\n",
    "\n",
    "## Why do we use files?\n",
    "\n",
    "- Files are used to permanently store data in a **non-volatile** memory (e.g. hard disk).\n",
    "\n",
    "-  We use files for the future use of data. We can reuse the information after turning the computer on and off or store variables onto file which can by used by the another runtime execution of a Python\n",
    "\n",
    "- Random Access Memory (RAM) is **volatile**, data stored in RAM does get lost when the computer is turned off!\n",
    "\n",
    "\n",
    "\n",
    "## How is a file structured?\n",
    "\n",
    "1. **Header**:  metadata about the contents of the file (file name, size, type, creation date, etc.)\n",
    "\n",
    "2. **Data**: contents of the file as written by the creator or editor\n",
    "\n",
    "3. **End of file (EOF)**:Special character that indicates the end of the file\n"
   ]
  },
  {
   "cell_type": "markdown",
   "metadata": {},
   "source": [
    "## How are file operations performed?\n",
    "\n",
    "1. Open the file\n",
    "2. Perform a read or write operation on the file\n",
    "3. Close the file"
   ]
  },
  {
   "cell_type": "markdown",
   "metadata": {},
   "source": [
    "##  1. Open the file\n",
    "\n",
    "- Python offers a **built-in open() function** to open a file. \n",
    "- Function returns a **file object**"
   ]
  },
  {
   "cell_type": "code",
   "execution_count": null,
   "metadata": {},
   "outputs": [],
   "source": [
    "f = open(\"say_hello.txt\")    # open file in current directory with file object \"f\""
   ]
  },
  {
   "cell_type": "code",
   "execution_count": null,
   "metadata": {},
   "outputs": [],
   "source": [
    "help(open)"
   ]
  },
  {
   "cell_type": "code",
   "execution_count": null,
   "metadata": {},
   "outputs": [],
   "source": [
    "help(f)"
   ]
  },
  {
   "cell_type": "markdown",
   "metadata": {},
   "source": [
    "<div class=\"alert alert-block alert-warning\">\n",
    "    <b>Warning:</b> You should always make sure that an open file is properly <b>closed</b>. \n",
    "</div>\n",
    "\n",
    "- Files are **usually** closed after the execution or termination of an application or a script \n",
    "- Non-closed files + non-expected orunwanted behavior can lead to **resource** or memory **leaks**.  "
   ]
  },
  {
   "cell_type": "markdown",
   "metadata": {},
   "source": [
    "## 3. Close the file\n",
    "\n",
    "Use the close method of the file object."
   ]
  },
  {
   "cell_type": "code",
   "execution_count": null,
   "metadata": {},
   "outputs": [],
   "source": [
    "f.close()"
   ]
  },
  {
   "cell_type": "markdown",
   "metadata": {},
   "source": [
    "Good Python practice: Ensure the code behaves in a well-defined manner and reduces any unwanted behavior.\n",
    "\n",
    "Two ways:\n",
    "\n",
    "1. **try-finally** block (error-handling)\n",
    "2. **with** statement \n"
   ]
  },
  {
   "cell_type": "code",
   "execution_count": null,
   "metadata": {},
   "outputs": [],
   "source": [
    "# First way using try-finally block\n",
    "\n",
    "f_try_finally = open('say_hello.txt')\n",
    "try:\n",
    "    pass # Do something here.\n",
    "finally:\n",
    "    f_try_finally.close()\n",
    "    "
   ]
  },
  {
   "cell_type": "code",
   "execution_count": null,
   "metadata": {},
   "outputs": [],
   "source": [
    "# First way using try-finally block\n",
    "\n",
    "f_try_finally = open()\n",
    "try:\n",
    "    pass # Do something here.\n",
    "finally:\n",
    "    f_try_finally.close()"
   ]
  },
  {
   "cell_type": "code",
   "execution_count": null,
   "metadata": {},
   "outputs": [],
   "source": [
    "# Second way\n",
    "# With statement automatically takes care of closing the file \n",
    "# once it leaves the with block, even in cases of error \n",
    "\n",
    "with open('say_hello.txt') as f_with:\n",
    "    pass\n"
   ]
  },
  {
   "cell_type": "code",
   "execution_count": null,
   "metadata": {},
   "outputs": [],
   "source": [
    "# Let us check the state of the file we are checking\n",
    "with open('say_hello.txt') as f_with:\n",
    "    print(f_with.closed) \n",
    "print(f_with.closed)"
   ]
  },
  {
   "cell_type": "markdown",
   "metadata": {},
   "source": [
    "# 2. Perform operations"
   ]
  },
  {
   "cell_type": "markdown",
   "metadata": {},
   "source": [
    "A detailed look at the open function:\n",
    "\n",
    "open(**file**, **mode**='r', **buffering**=-1, **encoding**=None, **errors**=None, **newline**=None, **closefd**=True, **opener**=None)\n",
    "\n",
    "The key **mode** with string of characters defining the **reading** or **writing** behavior.\n",
    "\n",
    "| Character | Meaning |\n",
    "|  :-: |  :- | \n",
    "| 'r' | open for reading (default) | \n",
    "| 'w' | open for writing, truncating the file first) | \n",
    "| 'x' | open for exclusive creation, failing if the file already exists | \n",
    "| 'a' | open for writing, appending to the end of the file if it exists | \n",
    "| 'b' | binary mode | \n",
    "| 't' | text mode (default) | \n",
    "| '+' | open for updating (reading and writing) | \n",
    "\n"
   ]
  },
  {
   "cell_type": "code",
   "execution_count": null,
   "metadata": {},
   "outputs": [],
   "source": [
    "# Let us try to read the first line using the first method\n",
    "\n",
    "method_1 = open('say_hello.txt')\n",
    "try:\n",
    "    line = method_1.readline()\n",
    "    print(line)\n",
    "finally:\n",
    "    method_1.close()"
   ]
  },
  {
   "cell_type": "code",
   "execution_count": null,
   "metadata": {},
   "outputs": [],
   "source": [
    "# Let us try to read the first line using the second method\n",
    "\n",
    "with open('say_hello.txt') as method_2:\n",
    "    line = method_2.readline()\n",
    "    print(line)\n"
   ]
  },
  {
   "cell_type": "code",
   "execution_count": null,
   "metadata": {},
   "outputs": [],
   "source": [
    "with open('say_hello.txt') as method_2:\n",
    "    line = method_2.readline()\n",
    "    print(iter(method_2)) # The object is an iterable if the built-in method does not raise an error\n",
    "                          #Windows OS uses cp1252 encoding, but Linux uses utf-8 "
   ]
  },
  {
   "cell_type": "code",
   "execution_count": null,
   "metadata": {},
   "outputs": [],
   "source": [
    "# You can use the readline method to iterate over method_2 file object\n",
    "with open('say_hello.txt') as method_2:\n",
    "    print(method_2.readline()) # Using readline()\n",
    "    print(method_2.readline()) # increments the content\n",
    "    print(method_2.readline())"
   ]
  },
  {
   "cell_type": "code",
   "execution_count": null,
   "metadata": {},
   "outputs": [],
   "source": [
    "# Using the iterator property, you can use a for loop to iterate over the file object content\n",
    "with open('say_hello.txt') as method_2:\n",
    "    for line in method_2:\n",
    "        print(line)"
   ]
  },
  {
   "cell_type": "code",
   "execution_count": null,
   "metadata": {},
   "outputs": [],
   "source": [
    "# Alternatively, you can break down the lines into a list\n",
    "with open('say_hello.txt') as method_2:\n",
    "    output_list = method_2.readlines()\n",
    "    print(output_list)                # Notably, the newline character is contained\n",
    "    \n",
    "for item in output_list:\n",
    "    print(item.strip())"
   ]
  },
  {
   "cell_type": "code",
   "execution_count": null,
   "metadata": {},
   "outputs": [],
   "source": [
    "with open('say_hello.txt') as method_2:\n",
    "    output_list = method_2.read()\n",
    "    print(output_list)  \n",
    "print(type(output_list))\n",
    "\n",
    "# methods:\n",
    "# read: entire text\n",
    "# readline: just the current line\n",
    "# readlines: list containing every line"
   ]
  },
  {
   "cell_type": "code",
   "execution_count": null,
   "metadata": {},
   "outputs": [],
   "source": [
    "print(help(item.strip))"
   ]
  },
  {
   "cell_type": "code",
   "execution_count": null,
   "metadata": {},
   "outputs": [],
   "source": [
    "with open('utf-8.txt',encoding='utf-8') as utf_reader:\n",
    "    read_text = utf_reader.read()\n",
    "\n",
    "print(read_text)\n",
    "print(type(read_text))"
   ]
  },
  {
   "cell_type": "code",
   "execution_count": null,
   "metadata": {},
   "outputs": [],
   "source": [
    "# What happens if we use the wrong encoding or do not know it ahead of time\n",
    "with open('say_hello.txt', mode=\"rb\") as reading_in_binary:\n",
    "    binary_text = reading_in_binary.read()\n",
    "print(binary_text)\n",
    "print(binary_text.hex())"
   ]
  },
  {
   "cell_type": "markdown",
   "metadata": {},
   "source": [
    "#### How to we read the binaries?\n",
    "\n",
    "- Check the encoding \n",
    "- We did not use an encoding key => we are using the default => cp-1252 encoding\n",
    "- Look up proper encoding table\n",
    "- Find information on encoding size: \"single-byte character encoding\" (wikipedia)\n",
    "\n",
    "<img src=\"images/cp-1252.png\" width= 550>\n"
   ]
  },
  {
   "cell_type": "code",
   "execution_count": null,
   "metadata": {},
   "outputs": [],
   "source": [
    "# Let us move on and check how to write files.\n",
    "with open('store_information.dat', mode='w') as f:\n",
    "    f.write('this is important data')\n"
   ]
  },
  {
   "cell_type": "code",
   "execution_count": null,
   "metadata": {},
   "outputs": [],
   "source": [
    "# What happens if I just write onto the file again?\n",
    "with open('store_information.dat', mode='wb') as f:\n",
    "    f.write(b'Oops, I overwrote the data') # Binary string required!"
   ]
  },
  {
   "cell_type": "code",
   "execution_count": null,
   "metadata": {},
   "outputs": [],
   "source": [
    "# How to I append data onto a file?\n",
    "with open('store_information.dat', mode='ab') as f:\n",
    "    f.write(b'\\nI am attaching the data') # Binary string required!"
   ]
  },
  {
   "cell_type": "code",
   "execution_count": null,
   "metadata": {},
   "outputs": [],
   "source": [
    "# When you want to store a lot of data, you can save space via binary storage\n",
    "with open(\"binfile.bin\",\"wb\") as binary_file:\n",
    "    X = [1,  2,  3,  4,  5]\n",
    "    Y = [1,  4,  9, 16, 25]\n",
    "    arr = bytearray(X)+bytearray(Y)\n",
    "    print(type(arr),arr)\n",
    "    binary_file.write(arr)\n",
    "    \n",
    "    "
   ]
  },
  {
   "cell_type": "code",
   "execution_count": null,
   "metadata": {},
   "outputs": [],
   "source": [
    "hex(25)"
   ]
  },
  {
   "cell_type": "code",
   "execution_count": null,
   "metadata": {},
   "outputs": [],
   "source": [
    "# Let us read the binary while without the binary mode\n",
    "with open(\"binfile.bin\",\"r\") as binary_file:\n",
    "    text = binary_file.read()\n",
    "print(text)"
   ]
  },
  {
   "cell_type": "code",
   "execution_count": null,
   "metadata": {},
   "outputs": [],
   "source": [
    "# Now let us read with the binary mode\n",
    "with open(\"binfile.bin\",\"rb\") as binary_file:\n",
    "    text = binary_file.read()\n",
    "print(text) # You get hex value\n",
    "print(text.decode()) # You get decoded representation"
   ]
  },
  {
   "cell_type": "code",
   "execution_count": null,
   "metadata": {},
   "outputs": [],
   "source": [
    "print(help(text)) # Decoded representation?"
   ]
  },
  {
   "cell_type": "code",
   "execution_count": null,
   "metadata": {},
   "outputs": [],
   "source": [
    "# Better handling binary information with struct package from standard library\n",
    "import struct # https://docs.python.org/2/library/struct.html\n",
    "\n",
    "with open(\"binfile.bin\",\"rb\") as binary_file:\n",
    "    binary_string = binary_file.read()\n",
    "\n",
    "# The struct library is useful when you have the exact knowledge on the binary format\n",
    "# We stored 10 units of data, each containing 1 byte of information\n",
    "\n",
    "print(struct.unpack(10*\"s\",binary_string))  #  s: string (1 byte units)\n",
    "\n",
    "data_tuple = struct.unpack(10*\"b\",binary_string)\n",
    "print(struct.unpack(10*\"b\",binary_string))  #  b: signed char (1 byte units)\n",
    "\n",
    "print(struct.unpack( 5*\"h\",binary_string))  #  h: short integer (2 byte units)\n",
    "\n",
    "print(type(data_tuple))\n",
    "\n",
    "X = list(data_tuple[0:5])\n",
    "Y = list(data_tuple[5:10])\n",
    "print(X,Y)\n"
   ]
  },
  {
   "cell_type": "code",
   "execution_count": null,
   "metadata": {},
   "outputs": [],
   "source": [
    "print(5*\"h\")\n"
   ]
  },
  {
   "cell_type": "code",
   "execution_count": null,
   "metadata": {},
   "outputs": [],
   "source": [
    "# Now let us use struct.pack and write binary files again\n",
    "import struct\n",
    "\n",
    "X = [1,  2,  3,  4,  5]\n",
    "Y = [1,  4,  9, 16, 25]\n",
    "\n",
    "with open(\"binfile2.bin\",\"wb\") as binary_file:    # first asterisk (*) for string multiplication\n",
    "    binary_file.write(struct.pack(10*'b', *(X+Y)))# second asterisk(*) for list unpacking"
   ]
  },
  {
   "cell_type": "code",
   "execution_count": null,
   "metadata": {},
   "outputs": [],
   "source": [
    "# Now let us use struct.pack and write binary files again, \n",
    "# this time we are going to specify our format:\n",
    "# 1 byte character 'X', double precision float values for X, 1 byte for character 'Y', \"\" Y\n",
    "\n",
    "# Now let us use struct.pack and write binary files again\n",
    "\n",
    "X = [\"X\" , 1.,  2.,  3.,  4.,  5.]\n",
    "Y = [\"Y\" , 1.,  4.,  9., 16., 25.]\n",
    "X[0] = bytes(\"X\".encode(\"utf-8\")) # utf-8 encoding require, or else error\n",
    "Y[0] = bytes(\"Y\".encode(\"utf-8\"))\n",
    "\n",
    "n = len(X)-1 # We disregard \"X\" or \"Y\"\n",
    "print(*(X+Y))\n",
    "\n",
    "with open(\"binfile2.bin\",\"wb\") as binary_file:  \n",
    "    fmt = 's'+n*'d'+'s'+n*'d'  # Our specified format\n",
    "    print(fmt)\n",
    "    binary_file.write(struct.pack(fmt, *(X+Y)))"
   ]
  },
  {
   "cell_type": "code",
   "execution_count": null,
   "metadata": {},
   "outputs": [],
   "source": [
    "import sys\n",
    "\n",
    "# Check endianness of system\n",
    "print(sys.byteorder)\n",
    "\n",
    "# Check on https://hexed.it/  (C:\\Users\\dean.emmett.smith\\PycharmProjects\\jupyter_test\\lecture-11)"
   ]
  },
  {
   "cell_type": "markdown",
   "metadata": {},
   "source": [
    " **Endianness**: order or sequence of bytes of a word of digital data in computer memory\n",
    "\n",
    "<img src=\"images/endianness.png\" width=500>\n"
   ]
  },
  {
   "cell_type": "code",
   "execution_count": null,
   "metadata": {},
   "outputs": [],
   "source": [
    "# Analageously,there is a \"writelines\" method\n",
    "# Let us write a file in an existing folder named \"folder\"\n",
    "\n",
    "with open(\".\\\\folder\\hello_nrw.txt\",mode=\"w\") as file: \n",
    "    file.writelines([\"Hello\\n\",\"ReDi NRW\", \"!!!\"])\n",
    "    print(file.readable())\n",
    "    print(file.writable())\n",
    "    # print(file.tell()) # Display current file location.\n",
    "\n"
   ]
  },
  {
   "cell_type": "markdown",
   "metadata": {},
   "source": [
    "### Insights on how to work with some data formats\n",
    "\n",
    "- csv  (today)\n",
    "- json (today)\n",
    "- xslx\n",
    "- xml, html\n",
    "- png, jpg, svg\n",
    "- wav, mp4"
   ]
  },
  {
   "cell_type": "code",
   "execution_count": null,
   "metadata": {},
   "outputs": [],
   "source": [
    "# Let us read a csv (comma separated values)\n",
    "with open('.\\\\folder\\grocery_list.csv') as csv_file: # Why did I use a double backslash?\n",
    "    file_content = csv_file.read()\n",
    "print(file_content)"
   ]
  },
  {
   "cell_type": "code",
   "execution_count": null,
   "metadata": {},
   "outputs": [],
   "source": [
    "# Script to calculate total expense from list and check of budged of 30 € has been exceeded or not\n",
    "with open(\".\\\\folder\\grocery_list.csv\") as csv_file:\n",
    "    price = []\n",
    "    \n",
    "    # Break down lineinto parts with \";\" separator\n",
    "    raw_labels = csv_file.readline().split(\";\")\n",
    "    print(\"raw labels\",raw_labels)\n",
    "    \n",
    "    # strip removes trailing spaces and newlines\n",
    "    labels = [ label.strip() for label in raw_labels] \n",
    "    print(\"processed labels\", labels)\n",
    "    \n",
    "    key = \"price\"\n",
    "    \n",
    "    # Check if key price is contained in labels\n",
    "    if key in labels:\n",
    "        \n",
    "        # get list index of 'price'\n",
    "        price_idx = labels.index(\"price\")\n",
    "        print(\"list index of prices\",price_idx)\n",
    "        \n",
    "        prices = []\n",
    "\n",
    "        for line in csv_file:\n",
    "            \n",
    "            # Break down line into parts with \";\" separator\n",
    "            raw_data = line.split(\";\")\n",
    "            \n",
    "            # \"strip\" removes trailing spaces and newlines\n",
    "            data = [item.strip() for item in raw_data]\n",
    "            \n",
    "            # Retrieve the price value \n",
    "            price_value_comma = data[price_idx]\n",
    "            \n",
    "            # Replace German \",\" with \".\" demical number convention\n",
    "            price_value = price_value_comma.replace(\",\",\".\")\n",
    "            \n",
    "            prices.append(float(price_value))\n",
    "        \n",
    "        total_expenses = sum(prices)\n",
    "        print(\"My groceries cost\",str(total_expenses), \"€\")\n",
    "        \n",
    "        # Check if budget has been exceeded\n",
    "        budget = 30\n",
    "        if total_expenses >= budget:\n",
    "            print(\"I paid too much, but it was worth the chocolate. :)\")\n",
    "        elif 0 < total_expenses < budget:\n",
    "            print(\"I bought the chocolate and have\",str(round(budget-total_expenses,2)),\"€ left.:D\")\n",
    "        else:\n",
    "            print(\"Oops. How did that happen? :o\")\n",
    "        "
   ]
  },
  {
   "cell_type": "markdown",
   "metadata": {},
   "source": [
    "### JSON file format\n",
    "\n",
    "- Abbreviation for **J**ava**S**cript **O**bject **N**otation (\"self-describing\" and easy to understand)\n",
    "\n",
    "- A lightweight format for storing and transporting (meta-)data\n",
    "\n",
    "- JSON is often used when data is sent from a server to a web page\n",
    "\n",
    "#### Format rules\n",
    "- Data is in key/value pairs\n",
    "- Data is separated by commas\n",
    "- Curly braces hold objects\n",
    "- Square brackets hold arrays\n",
    "\n",
    "#### Example in JSON vs XML\n",
    "\n",
    "Data for a\n",
    "\n",
    "JSON:"
   ]
  },
  {
   "cell_type": "code",
   "execution_count": null,
   "metadata": {},
   "outputs": [],
   "source": [
    "{\n",
    "\n",
    "    \"widget\": {\n",
    "        \"debug\": \"on\",\n",
    "        \"window\": {\n",
    "            \"title\": \"Sample Konfabulator Widget\",\n",
    "            \"name\": \"main_window\",\n",
    "            \"width\": 500,\n",
    "            \"height\": 500\n",
    "        },\n",
    "        \"image\": { \n",
    "            \"src\": \"Images/Sun.png\",\n",
    "            \"name\": \"sun1\",\n",
    "            \"hOffset\": 250,\n",
    "            \"vOffset\": 250,\n",
    "            \"alignment\": \"center\"\n",
    "        },\n",
    "        \"text\": {\n",
    "            \"data\": \"Click Here\",\n",
    "            \"size\": 36,\n",
    "            \"style\": \"bold\",\n",
    "            \"name\": \"text1\",\n",
    "            \"hOffset\": 250,\n",
    "            \"vOffset\": 100,\n",
    "            \"alignment\": \"center\",\n",
    "            \"onMouseUp\": \"sun1.opacity = (sun1.opacity / 100) * 90;\"\n",
    "        }\n",
    "    }\n",
    "\n",
    "}  "
   ]
  },
  {
   "cell_type": "markdown",
   "metadata": {},
   "source": [
    "XML:"
   ]
  },
  {
   "cell_type": "code",
   "execution_count": null,
   "metadata": {},
   "outputs": [],
   "source": [
    "<widget>\n",
    "    <debug>on</debug>\n",
    "    <window title=\"Sample Konfabulator Widget\">\n",
    "        <name>main_window</name>\n",
    "        <width>500</width>\n",
    "        <height>500</height>\n",
    "    </window>\n",
    "    <image src=\"Images/Sun.png\" name=\"sun1\">\n",
    "        <hOffset>250</hOffset>\n",
    "        <vOffset>250</vOffset>\n",
    "        <alignment>center</alignment>\n",
    "    </image>\n",
    "    <text data=\"Click Here\" size=\"36\" style=\"bold\">\n",
    "        <name>text1</name>\n",
    "        <hOffset>250</hOffset>\n",
    "        <vOffset>100</vOffset>\n",
    "        <alignment>center</alignment>\n",
    "        <onMouseUp>\n",
    "            sun1.opacity = (sun1.opacity / 100) * 90;\n",
    "        </onMouseUp>\n",
    "    </text>\n",
    "</widget>"
   ]
  },
  {
   "cell_type": "code",
   "execution_count": null,
   "metadata": {},
   "outputs": [],
   "source": [
    "# Read json file to python dictionary with loads method\n",
    "import json\n",
    "\n",
    "with open(\".//folder/widget_metadata.json\") as json_file:\n",
    "    # 1. Read content as string\n",
    "    json_string = json_file.read()\n",
    "    print(\"JSON string (formatted):\\n\")\n",
    "    print(json_string)\n",
    "    # 2.\n",
    "    dictionary = json.loads(json_string)\n",
    "\n",
    "print(\"Dictionary version (less formatted):\\n\")\n",
    "print(dictionary)"
   ]
  },
  {
   "cell_type": "code",
   "execution_count": null,
   "metadata": {},
   "outputs": [],
   "source": [
    "# Write Python list-dictionary to json file with dumps method\n",
    "\n",
    "short_grocery_list = [{'item': 'eggs', \"price\": 1.3, \"availability\": True}, \n",
    "                     {\"item\": \"chocolate\", \"price\": 5.7, \"availability\": False}]\n",
    "\n",
    "grocery_json_string = json.dumps(short_grocery_list)\n",
    "print(grocery_json_string)\n",
    "\n",
    "with open(\".//folder/grocery_metadata.json\",mode=\"w\") as json_file:\n",
    "    json_file.write(grocery_json_string)"
   ]
  },
  {
   "cell_type": "markdown",
   "metadata": {},
   "source": [
    "**Exercises**:\n",
    "\n",
    "- Write a function \"generate_temp\" to add an empty file \"temp.tmp\" using the \"x\" mode option in a directory \"temp\". The function should use proper error handling (no failures) and used return strings  \"temp file created\" or \"file already existing\" respective of the case. Execute the function twice an print each return value.\n",
    "\n",
    "- Write a script which stores the grocery list data of \"expenses.csv\"\n",
    "- The script should then store data in csv format \"expenses_swapped_format.csv\", but with the rows and colums swapped\n",
    "- Write a script to read the file \"grocery_list.csv\" and print out the <ins>total</ins> expense per  type using csv format:\n",
    "  \n",
    "  type 1,       type 2, ...\n",
    "  \n",
    "  expense 1, expense 2, ...\n",
    "  \n",
    "  \n",
    "- Store the content to file \"expsenses.csv\" using this format given above\n",
    "- Store the content in a json structured dictionary, iterate over list and print each key value pair  per dictionary entry:\n",
    "  \n",
    "  [{\"item\": item_1_name, \"price\": price_1, \"category\": type_1}, {\"item\": item_2_name, \"price\": price_2 \"category\": type_2}, ...]\n",
    "  \n",
    "  \n",
    "- Store the format into a in json file \"expenses.json\"\n",
    "- Store the content in a binary file \"expenses.bin\" using (big endian) memory blocks: \n",
    "  \n",
    "  |item 1| price 1| item 2 | price 2 | ...\n",
    "  \n",
    "  Format: 20 byte charts for per item key, add padding spaces if necessary, and a single precision float value per price.\n",
    "- Print the number of bytes required for the buffer. Research if there is a method.\n",
    "- Write a script to open \"wasser.xyz\" using the first method. The file format specification can be found in the link https://de.wikipedia.org/wiki/Xyz-Format\n",
    "- install numpy https://numpy.org/install/\n",
    "- Iterating over each (relevant coordinate) row in the file,\n",
    "\n",
    "  Store the values of the fifth column in numpy array Q\n",
    "  \n",
    "  Store value of rows two through four in a 2D numpy array R, R should look like\n",
    "  \n",
    "  R = array([[0.000000, 0.000000, 0.000000],\n",
    "  \n",
    "           [0.9611, 0.000000, 0.000000],\n",
    "      \n",
    "           [-0.224986, 0.934448, 0.000000]])\n",
    "  \n",
    "- Assign the product (*) of Q and R to P\n",
    "- Create file \"wasser_analytik.dat\"\n",
    "- Write entire content of \"wasser.xyz\" to file \"wasser_analytik.dat\"\n",
    "- Append line \\*\\*\\*Electrostatic Properties\\*\\*\\*\n",
    "- Append line \"Net charge\": sum(Q) \n",
    "\n",
    "  (Summing all partial charges in Q should give zero net charge)\n",
    "  \n",
    "  \n",
    "- Append line \"Dipole moment\": numpy.linalg.norm(sum(P)) \n",
    "  \n",
    "  (Summing up each dipole moment contribution in P and determining the magnitude of this should give a non-zero value)\n",
    "  \n",
    "  https://numpy.org/doc/stable/reference/generated/numpy.linalg.norm.html\n",
    "  \n",
    "  \n",
    "- Append an empty line (often important in files)\n"
   ]
  }
 ],
 "metadata": {
  "celltoolbar": "Slideshow",
  "kernelspec": {
   "display_name": "Python 3",
   "language": "python",
   "name": "python3"
  },
  "language_info": {
   "codemirror_mode": {
    "name": "ipython",
    "version": 3
   },
   "file_extension": ".py",
   "mimetype": "text/x-python",
   "name": "python",
   "nbconvert_exporter": "python",
   "pygments_lexer": "ipython3",
   "version": "3.7.9"
  }
 },
 "nbformat": 4,
 "nbformat_minor": 4
}
