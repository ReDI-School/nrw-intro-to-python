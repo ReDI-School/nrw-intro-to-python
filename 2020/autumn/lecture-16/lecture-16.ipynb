{
 "metadata": {
  "language_info": {
   "codemirror_mode": {
    "name": "ipython",
    "version": 3
   },
   "file_extension": ".py",
   "mimetype": "text/x-python",
   "name": "python",
   "nbconvert_exporter": "python",
   "pygments_lexer": "ipython3",
   "version": "3.9.0-final"
  },
  "orig_nbformat": 2,
  "kernelspec": {
   "name": "python3",
   "display_name": "Python 3.9.0 64-bit",
   "metadata": {
    "interpreter": {
     "hash": "1cf512218a7815c24febbf9d1ede7dfb8005ef2acd30d93f395575b8166bab09"
    }
   }
  }
 },
 "nbformat": 4,
 "nbformat_minor": 2,
 "cells": [
  {
   "source": [
    "# Getting started with Flask\n",
    "\n",
    "Flask is a framework that lets you develop your own web apps. Today, we\n",
    "are going to use it to create an API that we can then test locally and\n",
    "later publish to the cloud!\n",
    "\n",
    "In order to install Flask, you need to use `pip install flask jsonify`.\n",
    "With this command, we are also installing jsonify, which helps convert\n",
    "objects to JSON data.\n",
    "\n",
    "## The app\n",
    "\n",
    "Taking in the requirements is a crucial step when you start developing\n",
    "your application. In our case, the requirements aren't many. Contoso Books Ltd would like us to:  \n",
    "- Develop a book store app\n",
    "- Users need to list all books, search for books and access books via ISBN\n",
    "- Users should be able to create new books, updating is not required\n",
    "- Users should be able to delete books\n",
    "- Books consist of isbn, author and name. Optionally, they may have a description.\n",
    "\n",
    "Think a moment about what this means for the methods our app needs to support.\n",
    "\n",
    "Thought about it? Great. Listing all books sounds just like GET, while creating\n",
    "new books would rather be POST. Deleting a book can be achieved with DELETE.\n",
    "\n",
    "Since the customer did not specify any other purposes for their store, we\n",
    "can assume that we only need one API endpoint: Books! Books are the only\n",
    "type of resource we store here.\n",
    "\n",
    "This means, our URIs will look like `https://contoso.books/Books` and \n",
    "`https://contoso.books/Books/1473200261`. Since the user needs to be able\n",
    "to search for books, the URIs will need to contain parameters, which we\n",
    "have gotten to know as Query Strings.\n",
    "So, a URI might also look like `https://contoso.books/Books?author=Terry%20Pratchett`.\n",
    "\n",
    "Since we need to create books, we not only need to take in qery strings\n",
    "but also a JSON body.\n",
    "\n",
    "## Getting started\n",
    "\n",
    "First of all, we need to import flask and create a list of books. In a real scenario\n",
    "the list of books would be stored in a relational database! Here, for the\n",
    "sake of simplicity, we use a list. This of course means that after a restart, all books\n",
    "are reset."
   ],
   "cell_type": "markdown",
   "metadata": {}
  },
  {
   "cell_type": "code",
   "execution_count": null,
   "metadata": {},
   "outputs": [],
   "source": [
    "from flask import Flask\n",
    "# The application name is set to the name of the module\n",
    "app = Flask(__name__)\n",
    "\n",
    "# We are using a static book store. Nothing fancy\n",
    "books = [\n",
    "    {\n",
    "        'isbn': '1473200261',\n",
    "        'name': 'Witches abroad',\n",
    "        'author': 'Terry Pratchett'\n",
    "    },\n",
    "    {\n",
    "        'isbn': '006051518X',\n",
    "        'name': 'Anansi boys',\n",
    "        'author': 'Neil Gaiman'\n",
    "    }\n",
    "]"
   ]
  },
  {
   "source": [
    "## GET\n",
    "\n",
    "The first method we will implement is our basic GET - list books. In an API, we define what is\n",
    "called a route. The route is relative to your application and contains the resource"
   ],
   "cell_type": "markdown",
   "metadata": {}
  },
  {
   "cell_type": "code",
   "execution_count": null,
   "metadata": {},
   "outputs": [],
   "source": [
    "# Routes define your API endpoints, if you will\n",
    "# @app.route() is called a Decorator - it \"decorates\" a function\n",
    "# This route is a dynamic route that can contain the ISBN of a book\n",
    "@app.route(\"/Books\", methods=['GET'])\n",
    "@app.route(\"/Books/<isbn>\", methods=['GET'])\n",
    "def get_books(isbn=None):\n",
    "    books_to_return = books.copy()\n",
    "\n",
    "    if isbn:\n",
    "        books_to_return = [book for book in books if book['isbn'] == isbn]\n",
    "\n",
    "    if 'author' in request.args:\n",
    "        books_to_return = [\n",
    "            book for book in books if book['author'] == request.args['author']]\n",
    "\n",
    "    if len(books_to_return) == 0:\n",
    "        response = app.response_class(\n",
    "            status=404\n",
    "        )\n",
    "    else:\n",
    "        response = app.response_class(\n",
    "            response=json.dumps(books_to_return),\n",
    "            status=200,\n",
    "            mimetype='application/json'\n",
    "        )\n",
    "\n",
    "    return response"
   ]
  },
  {
   "source": [
    "This app can be executed as is in order to try it locally. To do this, change into the directory of your\n",
    "application, and execute `flask run`.\n",
    "\n",
    "Flask will continue to host your app. Had you executed your script directly with Python, nothing\n",
    "would have happened apart from you defining a list and a function!\n",
    "\n"
   ],
   "cell_type": "markdown",
   "metadata": {}
  },
  {
   "cell_type": "code",
   "execution_count": null,
   "metadata": {},
   "outputs": [],
   "source": [
    "import requests\n",
    "\n",
    "response = requests.get('http://localhost:5000/Books')\n",
    "for book in response.json():\n",
    "  print('Found book ' + book['name'] + ' by ' + book['author'] + ' in our library')"
   ]
  },
  {
   "source": [
    "# POST\n",
    "\n",
    "This method accepts a JSON body which it derives the data from, and checks the book store first.\n",
    "If the book to be added already exists, it returns an error 409 (conflict).\n",
    "\n",
    "If the add was successful, the API returns 204 (success, but no output)."
   ],
   "cell_type": "markdown",
   "metadata": {}
  },
  {
   "cell_type": "code",
   "execution_count": null,
   "metadata": {},
   "outputs": [],
   "source": [
    "# The same route is now added with a POST method\n",
    "# We want new books to be added and use the request body to send this data\n",
    "# The entire request is stored in the request variable, and the body\n",
    "# is contained in request.data\n",
    "@app.route(\"/Books\", methods=['POST'])\n",
    "def add_books():\n",
    "    try:\n",
    "        request_data = request.json\n",
    "        print('req ok')\n",
    "        new_book = {\n",
    "            'isbn': request_data['isbn'],\n",
    "            'name': request_data['name'],\n",
    "            'author': request_data['author']\n",
    "        }\n",
    "        \n",
    "        if any(book.get('isbn', None) == new_book['isbn'] for book in books):\n",
    "            return app.response_class(\n",
    "                response= f'Uh oh... book with ISBN {new_book[\"isbn\"]} already exists',\n",
    "                status=409\n",
    "            )\n",
    "\n",
    "        books.append(new_book)\n",
    "        return app.response_class(\n",
    "            status=204\n",
    "        )\n",
    "    except:\n",
    "        return app.response_class(\n",
    "            response='Uh oh... This was not supposed to happen :(',\n",
    "            status=404\n",
    "        )"
   ]
  },
  {
   "source": [
    "### DELETE\n",
    "\n",
    "The DELETE route is rather simple. It has to be called with the ISBN of the book in the URI\n",
    "and will remove that book. To allow passing the book as a query string or in the body,\n",
    "you would simply add a route that does not require an ISBN and do the same checks as you\n",
    "have done in your GET route."
   ],
   "cell_type": "markdown",
   "metadata": {}
  },
  {
   "cell_type": "code",
   "execution_count": null,
   "metadata": {},
   "outputs": [],
   "source": [
    "# This route is a dynamic route that can contain the ISBN of a book\n",
    "@app.route(\"/Books/<isbn>\", methods=['DELETE'])\n",
    "def delete_book(isbn):\n",
    "    filtered_books = [book for book in books if book['isbn'] != isbn]\n",
    "    books.clear()\n",
    "    for book in filtered_books:\n",
    "        books.append(book)\n",
    "    return app.response_class(\n",
    "        status=204\n",
    "    )"
   ]
  },
  {
   "source": [
    "### Publishing the final app\n",
    "\n",
    "To make use of the cloud, you will need either a paid subscription by your school or employer, or you\n",
    "can make use of the free trial periods available from all big providers:\n",
    "- Amazon Web Services: https://aws.amazon.com/free\n",
    "- Microsoft Azure: https://azure.microsoft.com/en-us/free\n",
    "- Google Gloud Project: https://cloud.google.com/free\n",
    "\n",
    "Depending on the provider, you can provision a resource to host your web app.\n",
    "\n",
    "Going a slightly more traditional road, you can of course always host your web apps yourself.\n",
    "This is usually done in what is called a LAMP stack (Linux Apache MariaDb Python).\n",
    "On Windows, the XAMPP project provides such a stack for Windows as well.\n",
    "\n",
    "To you, as a developer, the operating system should hardly matter. Which is one benefit\n",
    "of going the PaaS route with one of the cloud providers - everything apart from\n",
    "your app is taken care of. Installation, Configuration, Updates, Security - the\n",
    "only thing you need to do is develop and publish!\n",
    "\n",
    "### Some helpful online courses\n",
    "\n",
    "To work a bit more with the cloud and make the most of your free trials with the different\n",
    "providers, check out these free courses on Microsoft Learn which will hone\n",
    "your Python skills as well:\n",
    "- https://docs.microsoft.com/en-us/learn/paths/foundations-data-science/\n",
    "- https://docs.microsoft.com/en-us/learn/modules/python-flask-build-ai-web-app/\n",
    "- https://docs.microsoft.com/en-us/learn/paths/python-first-steps/\n",
    "- https://docs.microsoft.com/en-us/learn/paths/introduction-python-space-exploration-nasa/\n",
    "\n",
    "All of the learning paths linked above can be done without any cloud subscription,\n",
    "you only need Python and an editor of your choice!\n"
   ],
   "cell_type": "markdown",
   "metadata": {}
  }
 ]
}