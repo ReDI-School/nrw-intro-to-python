{
 "cells": [
  {
   "cell_type": "markdown",
   "metadata": {},
   "source": [
    "# Exercise 1 - FizzBuzz as a Function\n",
    "\n",
    "a) Write a function `fizz_buzz()`that takes a number as parameter\n",
    "- if the number is divisible by 3, return `\"fizz\"`\n",
    "- if the number is devisible by 5 return `\"buzz\"`\n",
    "- if it is dvisble by 3 and 5, return `\"fizzbuzz\"`\n",
    "- in all other cases return an empty string\n",
    "\n",
    "\n",
    "*Example*:\n",
    "```python\n",
    "fizz_buzz(9) -> \"fizz\"\n",
    "fizz_buzz(10) -> \"buzz\"\n",
    "fizz_buzz(15) -> \"fizzbuzz\"\n",
    "fizz_buzz(16) -> \"\"\n",
    "```"
   ]
  },
  {
   "cell_type": "code",
   "execution_count": null,
   "metadata": {},
   "outputs": [],
   "source": [
    "def fizz_buzz(number: int):\n",
    "    return 0"
   ]
  },
  {
   "cell_type": "markdown",
   "metadata": {},
   "source": [
    "b) **Bonus** \n",
    "Write a function `first_n_fizz_buzz()` that will accept a number as input and that will print the result of `fizz_buzz` for all numbers between one and the number\n",
    "\n",
    "*Example:*\n",
    "\n",
    "```python\n",
    "first_n_fizz_buzz(4)\n",
    "  -> 1: FizzBuzz is \"\"\n",
    "     2: FizzBuzz is \"\"\n",
    "     3: FizzBuzz is \"fizz\"\n",
    "     4: FizzBuzz is \"\"\n",
    "```"
   ]
  },
  {
   "cell_type": "code",
   "execution_count": null,
   "metadata": {},
   "outputs": [],
   "source": []
  },
  {
   "cell_type": "markdown",
   "metadata": {
    "colab_type": "text",
    "id": "jiwTnF7cW1sg"
   },
   "source": [
    "# Exercise 2 - Hangman\n",
    "In the game [Hangman](https://en.wikipedia.org/wiki/Hangman_(game)), you have guess a word by guessing the characters it contains.\n",
    "\n",
    "After every round, the game can be described by the parameters:\n",
    "* The word we are looking for (capitalized)\n",
    "* A set of characters already guessed.\n",
    "  * If no set if passed, it should be assumed that no characters have been guessed yet.\n",
    "\n",
    "The game master will then write down the word but replace any character not guessed yet with a placeholder (`_`).\n",
    "\n",
    "Write a function that does this!\n",
    "\n",
    "Examples:\n",
    "* Search word: `REDI`, guessed characters: `{'e', 'i'}`. Result: `_ E _ I`\n",
    "* Search word: `PYTHON`, guessed characters: `{'a', 'e', 'n'}`. Result: `_ _ _ _ _ N`"
   ]
  },
  {
   "cell_type": "code",
   "execution_count": null,
   "metadata": {},
   "outputs": [],
   "source": []
  },
  {
   "cell_type": "markdown",
   "metadata": {},
   "source": [
    "# Exercise 3\n",
    "\n",
    "Write a Python function that inputs a, b, c as coefficients of a quadratic function and returns roots of that quadratic function\n",
    "\n",
    "Here is what I mean:\n",
    "solve_quadratic_function(1, 1, 1) -> output = None <br>\n",
    "solve_quadratic_function(1,-2, 1) -> output = 1 <br>\n",
    "solve_quadratic_function(1,-3, 2) -> output = [1, 2] <br>\n",
    "\n",
    "Remember that the roots of a quadratic function of the form $ax^2+bx+c$ are obtained as\n",
    "$$\n",
    "x=\\frac{-b \\pm \\sqrt{b^2-4ac}}{2a}\n",
    "$$\n",
    "\n",
    "Note:\n",
    "The value of the \"discriminant\" $(b^2-4ac)$ determines whether the function has 0, 1, or 2 roots.\n",
    "* If the discriminant is strictly positive, the function has two roots\n",
    "* If the discriminant is 0, the function has one root\n",
    "* If the discriminant is less than 0, the function has no roots."
   ]
  },
  {
   "cell_type": "code",
   "execution_count": null,
   "metadata": {},
   "outputs": [],
   "source": [
    "def solve_quadratic_function(a: float, b: float, c: float):\n",
    "    \"\"\"\n",
    "    Write your function description heree\n",
    "    \"\"\""
   ]
  },
  {
   "cell_type": "markdown",
   "metadata": {
    "colab_type": "text",
    "id": "BImRxHn8YX4w",
    "tags": []
   },
   "source": [
    "# Exercise 4 - Masked Inputs\n",
    "**(This excercise requires you to have read the section on Advanced Topics)**\n",
    "\n",
    "Write a function that accepts any number of strings as inputs and prints them (separated by spaces) with all but the first letter per word obfuscated.\n",
    "\n",
    "`mask_strings(\"John\", \"Doe\") returns \"J*** D**\"` <br>\n",
    "`mask_strings(\"Chancellor\", \"Angela\", \"Merkel\") returns \"C********* A***** M*****\"`"
   ]
  },
  {
   "cell_type": "code",
   "execution_count": null,
   "metadata": {},
   "outputs": [],
   "source": []
  }
 ],
 "metadata": {
  "colab": {
   "collapsed_sections": [],
   "name": "Lesson 7 - Functions Exercises.ipynb",
   "provenance": []
  },
  "kernelspec": {
   "display_name": "Python 3 (ipykernel)",
   "language": "python",
   "name": "python3"
  },
  "language_info": {
   "codemirror_mode": {
    "name": "ipython",
    "version": 3
   },
   "file_extension": ".py",
   "mimetype": "text/x-python",
   "name": "python",
   "nbconvert_exporter": "python",
   "pygments_lexer": "ipython3",
   "version": "3.9.6"
  }
 },
 "nbformat": 4,
 "nbformat_minor": 4
}
