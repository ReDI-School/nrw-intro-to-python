{
 "cells": [
  {
   "cell_type": "code",
   "execution_count": 1,
   "metadata": {},
   "outputs": [],
   "source": [
    "# Thanh Nam Le - Thanh.Nam.Le@communityredi-school.org\n",
    "# Andreas Bollig - Andreas.Bollig@communityredi-school.org"
   ]
  },
  {
   "cell_type": "code",
   "execution_count": 2,
   "metadata": {},
   "outputs": [],
   "source": [
    "# !pip install nb_black"
   ]
  },
  {
   "cell_type": "code",
   "execution_count": 3,
   "metadata": {},
   "outputs": [],
   "source": [
    "# %load_ext nb_black"
   ]
  },
  {
   "cell_type": "markdown",
   "metadata": {},
   "source": [
    "## If Statement\n",
    "### Exe. 1\n",
    "Naomi is trying to write a program in Python for her youth club, which asks the user to type in their age.  If the user’s age is between 12 and 16, then they are eligible to be members. If they are not in this age range, they are ineligible to be members. Please help her."
   ]
  },
  {
   "cell_type": "code",
   "execution_count": 4,
   "metadata": {},
   "outputs": [
    {
     "name": "stdout",
     "output_type": "stream",
     "text": [
      "10\n",
      "No access!\n"
     ]
    }
   ],
   "source": [
    "age = int(input())\n",
    "if age >= 12 and age <= 16:\n",
    "    print(\"Welcome to the club\")\n",
    "else:\n",
    "    print(\"No access!\")"
   ]
  },
  {
   "cell_type": "markdown",
   "metadata": {},
   "source": [
    "## for loop\n",
    "### Exe. 1\n",
    "Accept a number from user and calculate the PRODUCT of all numbers from 1 to a given number (factorial, denoted in Maths by !) <br>\n",
    "Example: 4! = 1 * 2 * 3 * 4 = 24. Try to use for loops instead of the factorial() function in the math library =))"
   ]
  },
  {
   "cell_type": "code",
   "execution_count": 5,
   "metadata": {},
   "outputs": [
    {
     "name": "stdout",
     "output_type": "stream",
     "text": [
      "Please type a number:4\n",
      "24\n"
     ]
    }
   ],
   "source": [
    "number = int(input(\"Please type a number:\"))\n",
    "factorial = 1\n",
    "for i in range(1, number + 1):\n",
    "    factorial *= i\n",
    "\n",
    "print(factorial)"
   ]
  },
  {
   "cell_type": "markdown",
   "metadata": {},
   "source": [
    "### Exe. 2\n",
    "Print the following pattern using for loop(s): <br>\n",
    "    5 4 3 2 1 <br>\n",
    "    4 3 2 1 <br>\n",
    "    3 2 1 <br>\n",
    "    2 1 <br>\n",
    "    1  "
   ]
  },
  {
   "cell_type": "code",
   "execution_count": 6,
   "metadata": {},
   "outputs": [
    {
     "name": "stdout",
     "output_type": "stream",
     "text": [
      "5 4 3 2 1 \n",
      "4 3 2 1 \n",
      "3 2 1 \n",
      "2 1 \n",
      "1 \n"
     ]
    }
   ],
   "source": [
    "number = 5\n",
    "for row_index in range(5, 0, -1):\n",
    "    row_str = \"\"\n",
    "    for col_index in range(row_index, 0, -1):\n",
    "        row_str += f\"{col_index} \"\n",
    "    print(row_str)"
   ]
  },
  {
   "cell_type": "markdown",
   "metadata": {},
   "source": [
    "### Exe. 3\n",
    "Write a Python program to count the number of even and odd numbers from a series of numbers <br>\n",
    "Example: input = (1, 2, 3, 4, 5, 6, 7, 8, 9) <br>\n",
    "Expected Output : <br>\n",
    "Number of even numbers : 4 <br>\n",
    "Number of odd numbers : 5 <br>"
   ]
  },
  {
   "cell_type": "code",
   "execution_count": 7,
   "metadata": {},
   "outputs": [
    {
     "name": "stdout",
     "output_type": "stream",
     "text": [
      "n_even_numbers:  4\n",
      "n_odd_numbers:  5\n"
     ]
    }
   ],
   "source": [
    "input_list = [1, 2, 3, 4, 5, 6, 7, 8, 9]\n",
    "\n",
    "n_even_numbers = 0\n",
    "n_odd_numbers = 0\n",
    "for number in input_list:\n",
    "    if number % 2 == 0:  # is even\n",
    "        n_even_numbers = n_even_numbers + 1\n",
    "    else:  # is odd\n",
    "        n_odd_numbers += 1\n",
    "\n",
    "print(\"n_even_numbers: \", n_even_numbers)\n",
    "print(\"n_odd_numbers: \", n_odd_numbers)"
   ]
  },
  {
   "cell_type": "markdown",
   "metadata": {},
   "source": [
    "## while loop\n",
    "\n",
    "### Exe. 1: get all the Fibonacci series between 0 to 50\n",
    "\n",
    "The Fibonacci Sequence is the series of numbers :\n",
    "0, 1, 1, 2, 3, 5, 8, 13, 21, .... <br>\n",
    "Every next number is calculated by adding up the two numbers before it. <br>\n",
    "Expected Output : 1 1 2 3 5 8 13 21 34 <br>\n",
    "<br>\n",
    "Hint: in previous examples we have only one variable x. For this problem, you will need two variables"
   ]
  },
  {
   "cell_type": "code",
   "execution_count": 8,
   "metadata": {},
   "outputs": [
    {
     "name": "stdout",
     "output_type": "stream",
     "text": [
      "0, 1, 1, 2, 3, 5, 8, 13, 21, 34\n"
     ]
    }
   ],
   "source": [
    "fib_one = 0\n",
    "fib_two = 1\n",
    "fib_str = \"0\"\n",
    "while fib_two < 50:\n",
    "    fib_str += f\", {fib_two}\"\n",
    "    fib_temp = fib_one\n",
    "    fib_one = fib_two\n",
    "    fib_two = fib_temp + fib_one\n",
    "\n",
    "print(fib_str)"
   ]
  },
  {
   "cell_type": "code",
   "execution_count": 9,
   "metadata": {},
   "outputs": [
    {
     "name": "stdout",
     "output_type": "stream",
     "text": [
      "0, 1, 1, 2, 3, 5, 8, 13, 21, 34\n"
     ]
    }
   ],
   "source": [
    "fib_one = 0\n",
    "fib_two = 1\n",
    "fib_str = \"0\"\n",
    "while fib_two < 50:\n",
    "    fib_str += f\", {fib_two}\"\n",
    "    fib_one, fib_two = fib_two, fib_one + fib_two\n",
    "\n",
    "print(fib_str)"
   ]
  },
  {
   "cell_type": "markdown",
   "metadata": {},
   "source": [
    "## Functions"
   ]
  },
  {
   "cell_type": "markdown",
   "metadata": {},
   "source": [
    "### Exe. 1 - FizzBuzz\n",
    "\n",
    "a) Write a function `fizz_buzz(x)`that takes a number as parameter\n",
    "- if the number is divisible by 3, return `\"fizz\"`\n",
    "- if the number is divisible by 5 return `\"buzz\"`\n",
    "- if it is divisble by 3 and 5, return `\"fizzbuzz\"`\n",
    "- in all other cases return an empty string\n",
    "\n",
    "\n",
    "*Example*:\n",
    "```python\n",
    "fizz_buzz(9) -> \"fizz\"\n",
    "fizz_buzz(10) -> \"buzz\"\n",
    "fizz_buzz(15) -> \"fizzbuzz\"\n",
    "fizz_buzz(16) -> \"\"\n",
    "``"
   ]
  },
  {
   "cell_type": "code",
   "execution_count": 10,
   "metadata": {},
   "outputs": [
    {
     "name": "stdout",
     "output_type": "stream",
     "text": [
      "45: fizzbuzz\n",
      "25: buzz\n"
     ]
    }
   ],
   "source": [
    "def fizz_buzz(x):\n",
    "    if (x % 3 == 0) and (x % 5 == 0):\n",
    "        return \"fizzbuzz\"\n",
    "    elif x % 3 == 0:\n",
    "        return \"fizz\"\n",
    "    elif x % 5 == 0:\n",
    "        return \"buzz\"\n",
    "    else:\n",
    "        return \"\"\n",
    "\n",
    "\n",
    "print(\"45:\", fizz_buzz(45))\n",
    "print(\"25:\", fizz_buzz(25))"
   ]
  },
  {
   "cell_type": "markdown",
   "metadata": {},
   "source": [
    "b) **Bonus** \n",
    "Write a function `first_n_fizz_buzz()` that will accept a number as input and that will print the result of `fizz_buzz` for all numbers between one and the number\n",
    "\n",
    "*Example:*\n",
    "\n",
    "```python\n",
    "first_n_fizz_buzz(4) <br>\n",
    "  -> <br>\n",
    "     1: FizzBuzz is \"\" <br>\n",
    "     2: FizzBuzz is \"\" <br>\n",
    "     3: FizzBuzz is \"fizz\" <br>\n",
    "     4: FizzBuzz is \"\"\n",
    "``"
   ]
  },
  {
   "cell_type": "code",
   "execution_count": 11,
   "metadata": {},
   "outputs": [
    {
     "name": "stdout",
     "output_type": "stream",
     "text": [
      "1: FizzBuzz is \n",
      "2: FizzBuzz is \n",
      "3: FizzBuzz is fizz\n",
      "4: FizzBuzz is \n"
     ]
    }
   ],
   "source": [
    "def first_n_fizz_buzz(n):\n",
    "    for number in range(1, n + 1):\n",
    "        print(f\"{number}: FizzBuzz is {fizz_buzz(number)}\")\n",
    "\n",
    "\n",
    "first_n_fizz_buzz(4)"
   ]
  },
  {
   "cell_type": "markdown",
   "metadata": {},
   "source": [
    "### Exercise 2\n",
    " Extract individual letters from an input string and put them into a list\n",
    "\n",
    "**For example**\n",
    "\n",
    "Function get_characters(\"apple\") should return ['a', 'p', 'p', 'l', 'e']\n",
    "\n",
    "Function get_characters(\"baloon\") should return ['b', 'a', 'l', 'o', 'o', 'n']"
   ]
  },
  {
   "cell_type": "code",
   "execution_count": 12,
   "metadata": {},
   "outputs": [
    {
     "name": "stdout",
     "output_type": "stream",
     "text": [
      "['m', 'i', 'c', 'r', 'o', 's', 'o', 'f', 't']\n"
     ]
    }
   ],
   "source": [
    "def get_characters(word):\n",
    "    chars = []\n",
    "    for c in word:\n",
    "        chars.append(c)\n",
    "    return chars\n",
    "\n",
    "\n",
    "print(get_characters(\"microsoft\"))"
   ]
  },
  {
   "cell_type": "markdown",
   "metadata": {},
   "source": [
    "### Exercise 3\n",
    "Write a function to find the vowels in a String and return the vowels in a list.\n",
    "\n",
    "**For example:**  \n",
    "\n",
    "find_vowels(\"apple\") should return the list ['a', 'e']\n",
    "\n",
    "find_vowels(\"baloon\") should return the list ['a', 'o', 'o']"
   ]
  },
  {
   "cell_type": "code",
   "execution_count": 13,
   "metadata": {},
   "outputs": [
    {
     "name": "stdout",
     "output_type": "stream",
     "text": [
      "['i', 'o', 'o']\n"
     ]
    }
   ],
   "source": [
    "def find_vowels(word):\n",
    "    vowels = []\n",
    "    for c in word:\n",
    "        if c in [\"a\", \"e\", \"i\", \"o\", \"u\"]:\n",
    "            vowels.append(c)\n",
    "    return vowels\n",
    "\n",
    "\n",
    "print(find_vowels(\"microsoft\"))"
   ]
  },
  {
   "cell_type": "markdown",
   "metadata": {},
   "source": [
    "### Exercise 4\n",
    "\n",
    "Write a function that accept users first and last name and returns a full-name string after replacing all charachters except the initials.\n",
    "\n",
    "For example: Function mask_username(first_name, last_name)\n",
    "\n",
    "`mask_username(\"John\", \"Doe\") returns \"J*** D**\"` <br>\n",
    "`mask_username(\"Angela\", \"Merkel\") returns \"A***** M*****\"`"
   ]
  },
  {
   "cell_type": "code",
   "execution_count": 14,
   "metadata": {},
   "outputs": [
    {
     "data": {
      "text/plain": [
       "'J*** D**'"
      ]
     },
     "execution_count": 14,
     "metadata": {},
     "output_type": "execute_result"
    }
   ],
   "source": [
    "def mask_username(first_name, last_name):\n",
    "\n",
    "    output = \"\"\n",
    "\n",
    "    for i, char in enumerate(first_name):\n",
    "        if i == 0:\n",
    "            output += char\n",
    "        else:\n",
    "            output += \"*\"\n",
    "\n",
    "    output += \" \"\n",
    "\n",
    "    for i, char in enumerate(last_name):\n",
    "        if i == 0:\n",
    "            output += char\n",
    "        else:\n",
    "            output += \"*\"\n",
    "\n",
    "    return output\n",
    "\n",
    "\n",
    "mask_username(\"John\", \"Doe\")"
   ]
  },
  {
   "cell_type": "markdown",
   "metadata": {},
   "source": [
    "### Exe 5. Write a Python function that inputs a, b, c as coefficients of a quadratic function and returns roots of that quadratic function\n",
    "Here is what I mean: <br>\n",
    "solve_quadratic_function(1,1,1) -> output =  None <br>\n",
    "solve_quadratic_function(1,-2,1) -> output = 1 <br>\n",
    "solve_quadratic_function(1,-3,2) -> output = 1 and 2 <br>\n",
    "<br>\n",
    "*If you want to refresh your mind about how to solve a quadratic equation, have a look at this link <br> https://www.cliffsnotes.com/study-guides/algebra/algebra-i/quadratic-equations/solving-quadratic-equations*"
   ]
  },
  {
   "cell_type": "code",
   "execution_count": 15,
   "metadata": {},
   "outputs": [],
   "source": [
    "def solve_quadratic_function(a, b, c):\n",
    "    \"\"\"\n",
    "    Write your function description heree\n",
    "    \"\"\"\n",
    "    delta = b ** 2 - 4 * a * c\n",
    "    if delta > 0:\n",
    "        root_one = (-b + delta ** 0.5) / (2 * a)\n",
    "        root_two = (-b - delta ** 0.5) / (2 * a)\n",
    "        print(\"Your quadratic equation has two real roots\")\n",
    "        return root_one, root_two\n",
    "    elif delta == 0:\n",
    "        print(\"Your quadratic equation has one real root\")\n",
    "        return -b / (2 * a)\n",
    "    else:\n",
    "        print(\"Your quadratic equation has no real roots\")\n",
    "        return None"
   ]
  },
  {
   "cell_type": "code",
   "execution_count": 16,
   "metadata": {},
   "outputs": [
    {
     "name": "stdout",
     "output_type": "stream",
     "text": [
      "Your quadratic equation has two real roots\n",
      "(-1.0, -2.0)\n"
     ]
    }
   ],
   "source": [
    "print(solve_quadratic_function(1, 3, 2))"
   ]
  },
  {
   "cell_type": "code",
   "execution_count": 17,
   "metadata": {},
   "outputs": [
    {
     "name": "stdout",
     "output_type": "stream",
     "text": [
      "Your quadratic equation has one real root\n",
      "2.0\n"
     ]
    }
   ],
   "source": [
    "print(solve_quadratic_function(1, -4, 4))"
   ]
  },
  {
   "cell_type": "code",
   "execution_count": 18,
   "metadata": {},
   "outputs": [
    {
     "name": "stdout",
     "output_type": "stream",
     "text": [
      "Your quadratic equation has no real roots\n",
      "None\n"
     ]
    }
   ],
   "source": [
    "print(solve_quadratic_function(1, 1, 2))"
   ]
  },
  {
   "cell_type": "markdown",
   "metadata": {},
   "source": [
    "## Bonus content: Lambda as an anonymous function in Python"
   ]
  },
  {
   "cell_type": "code",
   "execution_count": 19,
   "metadata": {},
   "outputs": [
    {
     "name": "stdout",
     "output_type": "stream",
     "text": [
      "25\n"
     ]
    }
   ],
   "source": [
    "my_function = lambda x: 3 * x + 10\n",
    "print(my_function(5))"
   ]
  },
  {
   "cell_type": "code",
   "execution_count": 20,
   "metadata": {},
   "outputs": [
    {
     "name": "stdout",
     "output_type": "stream",
     "text": [
      "17\n"
     ]
    }
   ],
   "source": [
    "my_function = lambda x, y: x * y + x + y\n",
    "print(my_function(2, 5))"
   ]
  },
  {
   "cell_type": "code",
   "execution_count": 21,
   "metadata": {},
   "outputs": [
    {
     "name": "stdout",
     "output_type": "stream",
     "text": [
      "False\n"
     ]
    }
   ],
   "source": [
    "compare = lambda x, y: x == y\n",
    "print(compare(2, 5))"
   ]
  },
  {
   "cell_type": "code",
   "execution_count": 22,
   "metadata": {},
   "outputs": [
    {
     "name": "stdout",
     "output_type": "stream",
     "text": [
      "True\n"
     ]
    }
   ],
   "source": [
    "is_odd = lambda x: x % 2 == 1\n",
    "print(is_odd(7))"
   ]
  },
  {
   "cell_type": "code",
   "execution_count": 23,
   "metadata": {},
   "outputs": [
    {
     "name": "stdout",
     "output_type": "stream",
     "text": [
      "The length of this list is 9\n"
     ]
    }
   ],
   "source": [
    "list_length = lambda my_list: len(my_list)\n",
    "print(\"The length of this list is\", list_length([1, 2, 3, 4, 5, 6, 7, 8, 9]))"
   ]
  }
 ],
 "metadata": {
  "kernelspec": {
   "display_name": "Python 3",
   "language": "python",
   "name": "python3"
  },
  "language_info": {
   "codemirror_mode": {
    "name": "ipython",
    "version": 3
   },
   "file_extension": ".py",
   "mimetype": "text/x-python",
   "name": "python",
   "nbconvert_exporter": "python",
   "pygments_lexer": "ipython3",
   "version": "3.7.4"
  }
 },
 "nbformat": 4,
 "nbformat_minor": 4
}
