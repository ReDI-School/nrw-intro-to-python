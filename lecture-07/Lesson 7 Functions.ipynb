{
 "cells": [
  {
   "cell_type": "markdown",
   "metadata": {
    "colab_type": "text",
    "id": "koW_skkAky7F",
    "tags": []
   },
   "source": [
    "# Functions"
   ]
  },
  {
   "cell_type": "markdown",
   "metadata": {
    "colab_type": "text",
    "id": "zi7iTt5-nOwY"
   },
   "source": [
    "\n",
    "You already used a few functions:\n",
    "-  `print()`\n",
    "- `input()`\n",
    "- `range()`\n",
    "- `type()`\n",
    "- `list(), str(), int(), float(), bool()`\n",
    "- ...\n",
    "\n",
    "Today we will learn:\n",
    "* **What** is a function\n",
    "* **How** can we write our own functions\n",
    "* **Why** are functions useful"
   ]
  },
  {
   "cell_type": "markdown",
   "metadata": {
    "colab_type": "text",
    "id": "8R-Nv6067omw"
   },
   "source": [
    "## 1. What is a function"
   ]
  },
  {
   "cell_type": "markdown",
   "metadata": {},
   "source": [
    "A function is a useful device that groups together a set of statements so they can be executed multiple times (reused).\n",
    "To achieve this, we need to be able to\n",
    "* change the values on which the operations work (**parameters**)\n",
    "* be able to receive and store the result (**return value**) of the statements."
   ]
  },
  {
   "cell_type": "markdown",
   "metadata": {
    "tags": []
   },
   "source": [
    "### 1.1 Functions from school"
   ]
  },
  {
   "cell_type": "markdown",
   "metadata": {
    "colab_type": "text",
    "id": "xF9OOAk64SX3"
   },
   "source": [
    "You have all seen functions before: In school. In math!\n",
    "\n",
    "Function definition from math classes in (High) School:\n",
    "\n",
    "$$f(x) = 0.5x + 2$$\n",
    "\n",
    "Here\n",
    "* $f$ is the *name* of our function\n",
    "* $x$ is the (single) *parameter*\n",
    "  * $x$ must not have a meaning/be defined outside of this function. The name only matters, because we want to refer to it in the following expression.\n",
    "* $0.5x + 2$ is the expression we want to calculate (the function *body*).\n",
    "* The result of this calculation is the *return value* of the function.\n",
    "\n",
    "We can apply $f$ on different \"data\" (different values of $x$) and assign the result to another variable:\n",
    "\n",
    "$$y = f(1)$$\n",
    "\n",
    "So what you would do in above math function (and what Python does when you call a function there) is:\n",
    "* Go through the function body,\n",
    "* using the parameter values passed in the function call whereever the parameter appears in the function body and\n",
    "* Replace the function call ($f(1)$) with the return value.\n",
    "\n",
    "$$\n",
    "\\begin{align}\n",
    "    y & = f(1) \\\\\n",
    "    & = 0.5\\cdot 1 + 2 \\\\\n",
    "    & = 2.5\n",
    "\\end{align}\n",
    "$$\n",
    "\n",
    "So we \"replace\" $f(1)$ with $2.5$. With this logic, it is also easy to solve:\n",
    "$$\n",
    "\\begin{align}\n",
    "    z & = f(1) - 1 \\\\\n",
    "    & = \\underbrace{(0.5\\cdot 1 + 2)}_{f(1)} - 1 \\\\\n",
    "    & = 2.5 - 1 \\\\\n",
    "    & = 1.5\n",
    "\\end{align}\n",
    "$$\n",
    "\n",
    "In fact, we could now evaluate $f(x)$ for any real number and would get the plot of the function. Note: The plot below is **not** the function. It is just a visualization. The function (in math as in Python) is a set of instructions to get from inputs ($x$) to outputs (below on the $y$ axis)\n",
    "\n",
    "![image.png](data:image/png;base64,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)\n"
   ]
  },
  {
   "cell_type": "markdown",
   "metadata": {
    "colab_type": "text",
    "id": "8MHo99Vw5-4Y",
    "tags": []
   },
   "source": [
    "### 1.2 Functions in Python"
   ]
  },
  {
   "cell_type": "markdown",
   "metadata": {},
   "source": [
    "Functions in python are very similar:\n",
    "\n",
    "Let's see how the same function would look in Python:"
   ]
  },
  {
   "cell_type": "code",
   "execution_count": null,
   "metadata": {
    "colab": {
     "base_uri": "https://localhost:8080/",
     "height": 34
    },
    "colab_type": "code",
    "executionInfo": {
     "elapsed": 588,
     "status": "ok",
     "timestamp": 1588869757788,
     "user": {
      "displayName": "Suleman Sami",
      "photoUrl": "",
      "userId": "10013056066699523321"
     },
     "user_tz": -120
    },
    "id": "FBAtuv9W-3Ga",
    "outputId": "0f29400a-a562-42dd-b50b-ee43fd4f9d51"
   },
   "outputs": [],
   "source": [
    "def linearity(x):\n",
    "    \"\"\"\n",
    "    This function returns y as 0.5*x + 2. It is a basic function\n",
    "    \"\"\"\n",
    "    # Here comes the function body.\n",
    "    output = 0.5 * x + 2 # dont have to write same thing multiple times\n",
    "    # Using the return statement we identify the return value\n",
    "    # of the function.\n",
    "    return output"
   ]
  },
  {
   "cell_type": "code",
   "execution_count": null,
   "metadata": {},
   "outputs": [],
   "source": [
    "# We can now evaluate the function for different values of x.\n",
    "for x in range (1, 5):\n",
    "    y = linearity(x)\n",
    "    print(f'f({x}) = {y}')"
   ]
  },
  {
   "cell_type": "markdown",
   "metadata": {},
   "source": [
    "We can define a *default value* for a parameter, in case the user does not specify any value:"
   ]
  },
  {
   "cell_type": "code",
   "execution_count": null,
   "metadata": {},
   "outputs": [],
   "source": [
    "def linearity(x=1):\n",
    "    \"\"\"\n",
    "    This function returns y as 0.5*x + 2. It is a basic function\n",
    "    \"\"\"\n",
    "    # Here comes the function body.\n",
    "    output = 0.5 * x + 2 # dont have to write same thing multiple times\n",
    "    # Using the return statement we identify the return value\n",
    "    # of the function.\n",
    "    return output"
   ]
  },
  {
   "cell_type": "code",
   "execution_count": null,
   "metadata": {},
   "outputs": [],
   "source": [
    "print(linearity())  # this works. It equivalent to calling linearity(1)"
   ]
  },
  {
   "cell_type": "markdown",
   "metadata": {
    "colab_type": "text",
    "id": "IjmslIPNo7QR"
   },
   "source": [
    "Let's recap:\n",
    "\n",
    "- they also have a ***specific name*** (like variables, in above example: `linearity`)\n",
    "  \n",
    "  You have already seen functions like\n",
    "  * `print`\n",
    "  * `type`\n",
    "  * `input`\n",
    "\n",
    "- they are executed by appending ***round parantheses***\n",
    "  ```python\n",
    "  print()\n",
    "  input()\n",
    "  ```\n",
    "\n",
    "- they can have zero, one or more ***parameters*** (in above example: one parameter `x`)\n",
    "- Parameters may have ***default values***.\n",
    "  ```python\n",
    "  print()  # Will print an empty line, although we passed no value at all\n",
    "  ```\n",
    "- When calling the function, we need to define which value the parameters should take. These values are called the ***arguments***.\n",
    "  ```python\n",
    "  print('Hello')  # Single Argument: Hello\n",
    "  print('Hello', 'World')  # Two arguments: Hello and World\n",
    "  ```\n",
    "\n",
    "- Some \"Magic\" happens inside the function (in above example: We calculate $0.5x + 2$)\n",
    "  * `print()` prints stuff\n",
    "  * `input()` llows user input into a running Python program\n",
    "\n",
    "- they ***can*** (but don't have to) ***return*** a value (in above example: The calculation result is returned)\n",
    "  ```python\n",
    "  print('Hello', 'World')      # does not return anything\n",
    "  return_value = input()      # return value can be preserved by assigning it to a variable\n",
    "  ```\n",
    "\n",
    "\n"
   ]
  },
  {
   "cell_type": "markdown",
   "metadata": {
    "tags": []
   },
   "source": [
    "#### 1.2.1 Positional and Keyword Arguments"
   ]
  },
  {
   "cell_type": "markdown",
   "metadata": {},
   "source": [
    "Note that in Python, when calling a function it (usually) does not matter if we specify the argument name"
   ]
  },
  {
   "cell_type": "code",
   "execution_count": null,
   "metadata": {},
   "outputs": [],
   "source": [
    "linearity(1) == linearity(x=1)"
   ]
  },
  {
   "cell_type": "markdown",
   "metadata": {},
   "source": [
    "All values passed to a function without specifying the parameter name are called *positional arguments*. Those passed with a specified parameter name are called *keyword arguments*.\n",
    "\n",
    "Positional arguments are assigned to parameters in the order in which they appear in the function definition. On the other hand, you can pass keyword arguments in any sequence. However:\n",
    "* Positional arguments must always come first!\n",
    "* Positional arguments will always be assigned to the first parameters of the function.\n",
    "\n",
    "<div class=\"alert alert-block alert-info\">\n",
    "    <b>Parameters</b> are <i>variables</i> defined in the function definition that the function body depends on. They do not change over time.<br>\n",
    "    <b>Arguments</b> are the <i>values</i> that are passed when calling the function. They may change each time you call the function.<br>\n",
    "</div>"
   ]
  },
  {
   "cell_type": "code",
   "execution_count": null,
   "metadata": {},
   "outputs": [],
   "source": [
    "def subtract(a, b):\n",
    "    return a-b"
   ]
  },
  {
   "cell_type": "code",
   "execution_count": null,
   "metadata": {},
   "outputs": [],
   "source": [
    "print(subtract(10, 5))  # Python assigns: a = 10, b = 5"
   ]
  },
  {
   "cell_type": "code",
   "execution_count": null,
   "metadata": {},
   "outputs": [],
   "source": [
    "subtract(10, b=5)  # you cannot do subtract(b=5, 10)"
   ]
  },
  {
   "cell_type": "code",
   "execution_count": null,
   "metadata": {},
   "outputs": [],
   "source": [
    "# This won't work, because the positional argument 6 is assigned to a. We can't overwrite that.\n",
    "subtract(6, a=10)"
   ]
  },
  {
   "cell_type": "markdown",
   "metadata": {},
   "source": [
    "#### Syntax Summary\n",
    "\n",
    "Before you get to write your first functions, here is a summary of the syntax.\n",
    "\n",
    "```python\n",
    "def function_name(s, t=4):  # (1)\n",
    "    \"\"\"\n",
    "    This is a human-readable description\n",
    "    of the function (2)\n",
    "    \"\"\"\n",
    "    # (3)\n",
    "    result = s * t\n",
    "    return result  # (4)\n",
    "    \n",
    "```\n",
    "* `(1)`:\n",
    "  * Every function starts with `def` keyword ( shorthand for *define*)\n",
    "  * Every function has a name without spaces or special characters.\n",
    "    * Use the name to execute the function anywhere after it was created. Make it as descriptive as possible!\n",
    "    * Python recommends lowercase-only names, using underscores (`_`) where needed\n",
    "  * After the function name, follow the parameters (if any).\n",
    "    * If you specify a value after a parameter name, this is the default value (used if user specifies no value)\n",
    "    * You can specify defaults for a subset of parameters, however\n",
    "    * There must not be an optional parameter (one with a default) after a mandatory one (without a default)\n",
    "  * The line ends with a colon (`:`)\n",
    "    * Note how this is consistent with how you have used colons followed by indented code before\n",
    "    \n",
    "* `(2)`:\n",
    "  * *Optionally* you should add a human-readable description, known as a docstring.\n",
    " \n",
    "* `(3)`:\n",
    "  * The logic of your function is defined in an intented code block\n",
    "  * Here you can do everything that you learned so far and are about to learn!\n",
    "  * Note again how this is consistent with how you specified the code block that should be the body of a `for` loop or `if`/`else` statement.\n",
    "  \n",
    "* `(4)`:\n",
    "  * As soon as a function returns something, it stops! Otherwise it will run untill the end of the indented block"
   ]
  },
  {
   "cell_type": "markdown",
   "metadata": {
    "colab_type": "text",
    "id": "M1k1Mt5L7HLk"
   },
   "source": [
    "## 2. Understanding functions"
   ]
  },
  {
   "cell_type": "markdown",
   "metadata": {},
   "source": [
    "Try to understand what the following functions do and what will happen when they are called in the statements below.\n",
    "\n",
    "If you understood what happens, feel free to add a docstring that documents it!"
   ]
  },
  {
   "cell_type": "code",
   "execution_count": null,
   "metadata": {
    "colab": {},
    "colab_type": "code",
    "id": "gM84fCyV70ty"
   },
   "outputs": [],
   "source": [
    "def my_function(x, y=3):\n",
    "    return x + y "
   ]
  },
  {
   "cell_type": "markdown",
   "metadata": {
    "colab": {
     "base_uri": "https://localhost:8080/",
     "height": 34
    },
    "colab_type": "code",
    "executionInfo": {
     "elapsed": 663,
     "status": "ok",
     "timestamp": 1586452591200,
     "user": {
      "displayName": "Alexander Müller",
      "photoUrl": "",
      "userId": "03815021071088519742"
     },
     "user_tz": -120
    },
    "id": "aeEyfWnd8TGP",
    "outputId": "d36c8550-ead2-46ba-97ff-8a9f88af5cd0"
   },
   "source": [
    "What will be the result here? Execute the cell to check!"
   ]
  },
  {
   "cell_type": "code",
   "execution_count": null,
   "metadata": {
    "colab": {
     "base_uri": "https://localhost:8080/",
     "height": 34
    },
    "colab_type": "code",
    "executionInfo": {
     "elapsed": 804,
     "status": "ok",
     "timestamp": 1586452729595,
     "user": {
      "displayName": "Alexander Müller",
      "photoUrl": "",
      "userId": "03815021071088519742"
     },
     "user_tz": -120
    },
    "id": "zzAV14O68xSM",
    "outputId": "db24e842-bf72-414b-afad-c750f398ac79"
   },
   "outputs": [],
   "source": [
    "print(my_function(0))"
   ]
  },
  {
   "cell_type": "code",
   "execution_count": null,
   "metadata": {
    "colab": {
     "base_uri": "https://localhost:8080/",
     "height": 34
    },
    "colab_type": "code",
    "executionInfo": {
     "elapsed": 639,
     "status": "ok",
     "timestamp": 1586452741425,
     "user": {
      "displayName": "Alexander Müller",
      "photoUrl": "",
      "userId": "03815021071088519742"
     },
     "user_tz": -120
    },
    "id": "QGkKpgaR86nh",
    "outputId": "dca6f3f5-6492-4532-8467-6a46d8316884"
   },
   "outputs": [],
   "source": [
    "print(my_function(0, 3))"
   ]
  },
  {
   "cell_type": "code",
   "execution_count": null,
   "metadata": {},
   "outputs": [],
   "source": [
    "print(my_function(1 + 1, 2))"
   ]
  },
  {
   "cell_type": "code",
   "execution_count": null,
   "metadata": {},
   "outputs": [],
   "source": [
    "print(my_function(5) - 4)"
   ]
  },
  {
   "cell_type": "code",
   "execution_count": null,
   "metadata": {},
   "outputs": [],
   "source": [
    "print(my_function(my_function(0), 2))"
   ]
  },
  {
   "cell_type": "markdown",
   "metadata": {},
   "source": [
    "## 3. Fixing Functions"
   ]
  },
  {
   "cell_type": "markdown",
   "metadata": {},
   "source": [
    "Check if you understood the syntax for defining functions by fixing the following, broken ones:"
   ]
  },
  {
   "cell_type": "code",
   "execution_count": null,
   "metadata": {},
   "outputs": [],
   "source": [
    "def add_two_numbers(a, b):\n",
    "    a + b\n",
    "    \n",
    "print(f'Calling add_two_numbers(1, 1) should return 2. It actually returns {add_two_numbers(1, 1)}.')"
   ]
  },
  {
   "cell_type": "code",
   "execution_count": null,
   "metadata": {},
   "outputs": [],
   "source": [
    "def twice_the_sum(a, b):\n",
    "    \"\"\"\n",
    "    Function returns twice the sum of a and b.\n",
    "    \"\"\"\n",
    "    simple_sum = a + b\n",
    "    return simple_sum\n",
    "    twice_the_sum = 2 * simple_sum\n",
    "    \n",
    "print(f'Calling twice_the_sum(1, 1) should return 4. It actually returns {twice_the_sum(1, 1)}.')"
   ]
  },
  {
   "cell_type": "code",
   "execution_count": null,
   "metadata": {},
   "outputs": [],
   "source": [
    "b = 5\n",
    "\n",
    "def add_two_numbers(a, c):\n",
    "    return a + b\n",
    "    \n",
    "print(f'Calling add_two_numbers(1, 1) should return 2. It actually returns {add_two_numbers(1, 1)}.')"
   ]
  },
  {
   "cell_type": "markdown",
   "metadata": {
    "tags": []
   },
   "source": [
    "## 3. Write your own functions\n",
    "Now would be a great time to start writing your own functions. Please check the [\"Homeworks\" Notebook](Lesson%207%20Functions%20Homework.ipynb) for examples!"
   ]
  },
  {
   "cell_type": "markdown",
   "metadata": {
    "tags": []
   },
   "source": [
    "## 4. Advanced Topics"
   ]
  },
  {
   "cell_type": "markdown",
   "metadata": {
    "tags": []
   },
   "source": [
    "### 4.1 Working with unspecified numbers of Arguments"
   ]
  },
  {
   "cell_type": "markdown",
   "metadata": {},
   "source": [
    "Sometimes, it can be useful to accept a large number of inputs. Python supports [*unnamed arguments*](https://realpython.com/python-kwargs-and-args/#passing-multiple-arguments-to-a-function) both for positional and keyword arguments. To handle varying numbers of arguments, you can use special parameters that collect any additional positional or keyword arguments.\n",
    "\n",
    "These special parameters look like:\n",
    "* `*args` (a single star preceeding the parameter name, `args` is a convention) to collect positional arguments\n",
    "* `**kwargs` (two stars preceeding the parameter name, `kwargs` is a convention) to collect positional arguments\n",
    "\n",
    "Inside the function body, the collected parameter will be available as\n",
    "* a `tuple` (in the case of positional arguments) or\n",
    "* a `dict` (in the case of keyword arguments) "
   ]
  },
  {
   "cell_type": "code",
   "execution_count": null,
   "metadata": {},
   "outputs": [],
   "source": [
    "def pass_me_anything(*args, **kwargs):\n",
    "    print(f'I received {len(args)} positional and {len(kwargs)} keyword arguments')\n",
    "    print(f'The positional arguments are {args}')\n",
    "    print(f'The keyword arguments are {kwargs}')"
   ]
  },
  {
   "cell_type": "code",
   "execution_count": null,
   "metadata": {},
   "outputs": [],
   "source": [
    "pass_me_anything(1, 2, 3, a=1, b=2, c=3)"
   ]
  },
  {
   "cell_type": "markdown",
   "metadata": {
    "tags": []
   },
   "source": [
    "### 4.2 Rules for good functions"
   ]
  },
  {
   "cell_type": "markdown",
   "metadata": {},
   "source": [
    "* perform one task and they perform it well and reliably\n",
    "* you can reuse and if you want to change the functionality you only have to change it in one place ([DRY Principle](https://de.wikipedia.org/wiki/Don%E2%80%99t_repeat_yourself))\n",
    "\n",
    "Since functions can call other functions or take the result of other functions as parameters, we can often dissolve complex functions into multiple smaller, easier to understand and re-use functions.\n",
    "\n",
    "Compare the two following implementations to achieve the same result:"
   ]
  },
  {
   "cell_type": "code",
   "execution_count": null,
   "metadata": {},
   "outputs": [],
   "source": [
    "def filter_and_take_mean(l, max_value):\n",
    "    \"\"\"\n",
    "    Function filters l (a list of numeric values) for\n",
    "    values less than or equal to max_value and returns\n",
    "    the mean of them.\n",
    "    \"\"\"\n",
    "    filtered_list = [e for e in l if e <= max_value]\n",
    "    sum_of_filtered_list = sum(filtered_list)\n",
    "    count_of_filtered_list = len(filtered_list)\n",
    "    return sum_of_filtered_list / count_of_filtered_list"
   ]
  },
  {
   "cell_type": "code",
   "execution_count": null,
   "metadata": {},
   "outputs": [],
   "source": [
    "print(filter_and_take_mean([1, 2, 3, 4, 5, 6, 7, 8, 9, 10], 5))"
   ]
  },
  {
   "cell_type": "code",
   "execution_count": null,
   "metadata": {},
   "outputs": [],
   "source": [
    "def filter_by_max_value(l, max_value):\n",
    "    return [e for e in l if e <= max_value]\n",
    "\n",
    "def mean_of_list(l):\n",
    "    sum_of_list = sum(l)\n",
    "    count_of_list = len(l)\n",
    "    return sum_of_list / count_of_list\n",
    "\n",
    "def simple_filter_and_take_mean(l, max_value):\n",
    "    filtered_list = filter_by_max_value(l, max_value)\n",
    "    return mean_of_list(filtered_list)"
   ]
  },
  {
   "cell_type": "code",
   "execution_count": null,
   "metadata": {},
   "outputs": [],
   "source": [
    "print(mean_of_list(filter_by_max_value([1, 2, 3, 4, 5, 6, 7, 8, 9, 10], 5)))\n",
    "print(simple_filter_and_take_mean([1, 2, 3, 4, 5, 6, 7, 8, 9, 10], 5))"
   ]
  },
  {
   "cell_type": "markdown",
   "metadata": {},
   "source": [
    "### 4.3 Typehints in Functions"
   ]
  },
  {
   "cell_type": "markdown",
   "metadata": {},
   "source": [
    "Consider the following function:\n",
    "    \n",
    "```python\n",
    "def multiply(s, t):\n",
    "    return s * t\n",
    "```\n",
    "\n",
    "Think about the kind of result you would get, if `a` and `b` are of different value types!\n",
    "* If `a` *and* `b` are numeric (`int`, `float`) or `bool`, the result would be numeric (the product of `a` and `b`)\n",
    "* If `a` *or* `b` are a string and the other parameter is an `int`, the result would be a string (we concatenate the string multiple times)\n",
    "* If `a` *and* `b` are strings (or one of them is None, ...) the function would probably crash!\n",
    "\n",
    "So just like this, it is hard\n",
    "* for you to document what the function is supposed to do (because the user may use if very differently)\n",
    "* for the user to understand which parameter types you expect.\n",
    "\n",
    "Again, we can use type hints. Type hints **can** be applied to every parameter as well as the return value (following the `->`).\n",
    "```python\n",
    "def multiply(s: int, t: int) -> int:\n",
    "    return s * t\n",
    "```\n",
    "\n",
    "```python\n",
    "def multiply_strings(s: str, t: int) -> str:\n",
    "    return s * t\n",
    "```\n",
    "\n",
    "Using type hints supports any other form of documentation (e.g. docstrings) and can automatically be picked up by many editors to automatically check your code."
   ]
  },
  {
   "cell_type": "markdown",
   "metadata": {},
   "source": [
    "### 4.4 Multiple return values\n",
    "Python function can (appear to be able to) return multiple values. Consider the following example:"
   ]
  },
  {
   "cell_type": "code",
   "execution_count": null,
   "metadata": {},
   "outputs": [],
   "source": [
    "def division(a: int, b: int):\n",
    "    \"\"\"\n",
    "    Return the result of true divide and modulo in one\n",
    "    operation\n",
    "    \"\"\"\n",
    "    return a // b, a % b  # 1\n",
    "\n",
    "true_div, modulo = division(5, 3)  #2\n",
    "print(f'Dividing 5 by 3 = {true_div} with a remainder of {modulo}')"
   ]
  },
  {
   "cell_type": "markdown",
   "metadata": {},
   "source": [
    "Here we returned two values (separated by comma) from the function (`#1`). Likewise, when calling the function we were able to store the two components of the return in two variables (`#2`).\n",
    "\n",
    "In reality, combining any two values with a comma creates a tuple:"
   ]
  },
  {
   "cell_type": "code",
   "execution_count": null,
   "metadata": {},
   "outputs": [],
   "source": [
    "c = 2, 3\n",
    "print(type(c))"
   ]
  },
  {
   "cell_type": "markdown",
   "metadata": {},
   "source": [
    "This is also what `division()` actually returns:"
   ]
  },
  {
   "cell_type": "code",
   "execution_count": null,
   "metadata": {},
   "outputs": [],
   "source": [
    "print(type(division(5, 3)))"
   ]
  },
  {
   "cell_type": "markdown",
   "metadata": {},
   "source": [
    "Tuples (as well as other iterables) can be deconstructed into its components:"
   ]
  },
  {
   "cell_type": "code",
   "execution_count": null,
   "metadata": {},
   "outputs": [],
   "source": [
    "c = 2, 3\n",
    "a, b = 2, 3\n",
    "print(f'I got a={a} and b={b}')"
   ]
  },
  {
   "cell_type": "code",
   "execution_count": null,
   "metadata": {},
   "outputs": [],
   "source": [
    "a, b = [5, 6]  # also works with lists\n",
    "print(f'I got a={a} and b={b}')"
   ]
  },
  {
   "cell_type": "code",
   "execution_count": null,
   "metadata": {},
   "outputs": [],
   "source": [
    "a, b = {5, 6}  # ... and sets\n",
    "print(f'I got a={a} and b={b}')"
   ]
  },
  {
   "cell_type": "code",
   "execution_count": null,
   "metadata": {},
   "outputs": [],
   "source": [
    "a, b = 'gh'  # ... and even with strings!\n",
    "print(f'I got a={a} and b={b}')"
   ]
  },
  {
   "cell_type": "markdown",
   "metadata": {},
   "source": [
    "### 4.5 Functions can call themselves: Recursion\n",
    "For certain problems that exhibit a degree of \"self-similarity\" the effort of writing code can be greatly reduced by calling the function within itself. This is called [\"Recursion\"](https://en.wikipedia.org/wiki/Recursion_(computer_science)).\n",
    "\n",
    "A simple example is the [Factorial](https://en.wikipedia.org/wiki/Factorial).\n",
    "\n",
    "The factorial of $5$ (written as $5!$) is defined as\n",
    "$$5! = 5 \\cdot 4 \\cdot \\ldots \\cdot 1 = 120$$\n",
    "Or in other words: $5! = 5 \\cdot 4!$ and $4! = 4 \\cdot 3!$, ..., except for $1!$ which is defined as $1$. Or in more general:\n",
    "$$x! = \\begin{cases} x\\cdot (x-1)! & \\text{if } x > 1 \\\\ 1 & \\text{otherwise} \\end{cases}$$\n",
    "\n",
    "In Python, you can always call the function itself in the same way that you can call any other function!"
   ]
  },
  {
   "cell_type": "code",
   "execution_count": null,
   "metadata": {},
   "outputs": [],
   "source": [
    "def factorial(n: int) -> int:\n",
    "    if n == 1:\n",
    "        return 1\n",
    "    else:\n",
    "        return n * factorial(n-1)"
   ]
  },
  {
   "cell_type": "code",
   "execution_count": null,
   "metadata": {},
   "outputs": [],
   "source": [
    "factorial(5)"
   ]
  }
 ],
 "metadata": {
  "colab": {
   "collapsed_sections": [],
   "name": "Lesson 6 - Functions.ipynb",
   "provenance": [
    {
     "file_id": "1DscUrg_l-9eDK4cJtMJyqIaaRtaDZqD5",
     "timestamp": 1586434315240
    }
   ],
   "toc_visible": true
  },
  "kernelspec": {
   "display_name": "Python 3 (ipykernel)",
   "language": "python",
   "name": "python3"
  },
  "language_info": {
   "codemirror_mode": {
    "name": "ipython",
    "version": 3
   },
   "file_extension": ".py",
   "mimetype": "text/x-python",
   "name": "python",
   "nbconvert_exporter": "python",
   "pygments_lexer": "ipython3",
   "version": "3.9.6"
  }
 },
 "nbformat": 4,
 "nbformat_minor": 4
}
