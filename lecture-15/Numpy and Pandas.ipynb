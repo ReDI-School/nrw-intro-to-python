{
 "cells": [
  {
   "cell_type": "markdown",
   "metadata": {},
   "source": [
    "## Housekeeping\n",
    "If you have not done so, you have to install the libraries\n",
    "* numpy\n",
    "* pandas\n",
    "* matplotlib"
   ]
  },
  {
   "cell_type": "markdown",
   "metadata": {},
   "source": [
    "# [Numpy](https://numpy.org/)\n",
    "(Numerical Python)"
   ]
  },
  {
   "cell_type": "markdown",
   "metadata": {},
   "source": [
    "[Numpy](https://numpy.org/) is the core library for scientific computing in Python. It provides a high-performance multidimensional array object, and tools for working with these arrays. It lays at the foundation of an entire ecosystem of libraries to deal with (numerical) data in Python, some of which will be covered later in this lecture and in this course.\n",
    "\n",
    "A [numpy array](https://numpy.org/doc/stable/reference/generated/numpy.ndarray.html) is\n",
    "* a grid of values,\n",
    "* all of the same type,\n",
    "* and is indexed by a tuple of nonnegative integers.\n",
    "\n",
    "Numpy arrays can have any number of dimenions\n",
    "* 1-dimensional (think of vectors)\n",
    "* 2-dimensional (think of matrices)\n",
    "* $n$-dimensional (hard to imagine and rarely used but mathematically possible)\n",
    "\n",
    "Numpy also provides many functions to work with these arrays (e.g. do math with them). These functions are usually by far the fastest way to work with numbers in Python (_much_ faster than writing your own for loop)!"
   ]
  },
  {
   "cell_type": "code",
   "execution_count": 1,
   "metadata": {},
   "outputs": [],
   "source": [
    "# import Library\n",
    "import numpy as np  # np is the conventially used shorthand for numpy"
   ]
  },
  {
   "cell_type": "markdown",
   "metadata": {},
   "source": [
    "## One Dimensional Arrays"
   ]
  },
  {
   "cell_type": "code",
   "execution_count": 6,
   "metadata": {},
   "outputs": [],
   "source": [
    "a = np.array([1, 2, 3, 4])"
   ]
  },
  {
   "cell_type": "code",
   "execution_count": 7,
   "metadata": {},
   "outputs": [
    {
     "data": {
      "text/plain": [
       "array([1, 2, 3, 4])"
      ]
     },
     "execution_count": 7,
     "metadata": {},
     "output_type": "execute_result"
    }
   ],
   "source": [
    "a"
   ]
  },
  {
   "cell_type": "code",
   "execution_count": 8,
   "metadata": {},
   "outputs": [
    {
     "data": {
      "text/plain": [
       "numpy.ndarray"
      ]
     },
     "execution_count": 8,
     "metadata": {},
     "output_type": "execute_result"
    }
   ],
   "source": [
    "type(a)  # note: It's not just a list or tuple"
   ]
  },
  {
   "cell_type": "markdown",
   "metadata": {},
   "source": [
    "The [`shape`](https://numpy.org/doc/stable/reference/generated/numpy.ndarray.shape.html) property of an ndarray object tells you\n",
    "* the numer of dimensions (given through the number of elements)\n",
    "* the number of entries per dimension"
   ]
  },
  {
   "cell_type": "code",
   "execution_count": 9,
   "metadata": {},
   "outputs": [
    {
     "data": {
      "text/plain": [
       "(4,)"
      ]
     },
     "execution_count": 9,
     "metadata": {},
     "output_type": "execute_result"
    }
   ],
   "source": [
    "a.shape"
   ]
  },
  {
   "cell_type": "code",
   "execution_count": 10,
   "metadata": {},
   "outputs": [
    {
     "data": {
      "text/plain": [
       "3"
      ]
     },
     "execution_count": 10,
     "metadata": {},
     "output_type": "execute_result"
    }
   ],
   "source": [
    "a[2]  # remember, that indices are 0-based, so index 2 is the third entry in the vector"
   ]
  },
  {
   "cell_type": "code",
   "execution_count": 11,
   "metadata": {},
   "outputs": [
    {
     "data": {
      "text/plain": [
       "array([ 1, 10,  3,  4])"
      ]
     },
     "execution_count": 11,
     "metadata": {},
     "output_type": "execute_result"
    }
   ],
   "source": [
    "# We can also overwrite individual elements\n",
    "a[1] = 10\n",
    "a"
   ]
  },
  {
   "cell_type": "markdown",
   "metadata": {},
   "source": [
    "### Simple Math on Array Elements\n",
    "If you consider an array as a collection of numbers, it is easy to calculate let's say the sum or mean of the numbers.\n",
    "\n",
    "While you probably could do most of this also using for loops, this is _much_ faster!"
   ]
  },
  {
   "cell_type": "code",
   "execution_count": 12,
   "metadata": {},
   "outputs": [
    {
     "name": "stdout",
     "output_type": "stream",
     "text": [
      "Sum of elements is 21, the mean of elements is 3.5, standard deviation of elements is 1.707825127659933\n"
     ]
    }
   ],
   "source": [
    "x = np.array([1, 2, 3, 4, 5, 6])\n",
    "print(f'Sum of elements is {x.sum()}, the mean of elements is {x.mean()}, standard deviation of elements is {x.std()}')"
   ]
  },
  {
   "cell_type": "markdown",
   "metadata": {},
   "source": [
    "## Two-Dimensional Numpy Arrays"
   ]
  },
  {
   "cell_type": "code",
   "execution_count": 13,
   "metadata": {},
   "outputs": [],
   "source": [
    "# Create a rank 2 array (line breaks are optional, but help to visualize the structure of the resulting object)\n",
    "b = np.array([\n",
    "    [1, 2, 3],\n",
    "    [4, 5, 6]\n",
    "])"
   ]
  },
  {
   "cell_type": "code",
   "execution_count": 14,
   "metadata": {},
   "outputs": [
    {
     "data": {
      "text/plain": [
       "array([[1, 2, 3],\n",
       "       [4, 5, 6]])"
      ]
     },
     "execution_count": 14,
     "metadata": {},
     "output_type": "execute_result"
    }
   ],
   "source": [
    "b"
   ]
  },
  {
   "cell_type": "code",
   "execution_count": 15,
   "metadata": {},
   "outputs": [
    {
     "data": {
      "text/plain": [
       "(2, 3)"
      ]
     },
     "execution_count": 15,
     "metadata": {},
     "output_type": "execute_result"
    }
   ],
   "source": [
    "b.shape"
   ]
  },
  {
   "cell_type": "code",
   "execution_count": 16,
   "metadata": {},
   "outputs": [
    {
     "data": {
      "text/plain": [
       "6"
      ]
     },
     "execution_count": 16,
     "metadata": {},
     "output_type": "execute_result"
    }
   ],
   "source": [
    "b[1, 2]  # following mathematical convention, first index specifies the row, second index the column"
   ]
  },
  {
   "cell_type": "markdown",
   "metadata": {},
   "source": [
    "### Example: Create the following rank 2 array with shape $3\\times 4$\n",
    "$$\n",
    "    \\begin{pmatrix}\n",
    "        1 & 2 & 3 & 4 \\\\\n",
    "        5 & 6 & 7 & 8 \\\\\n",
    "        9 & 10 & 11 & 12\n",
    "    \\end{pmatrix}\n",
    "$$"
   ]
  },
  {
   "cell_type": "code",
   "execution_count": 17,
   "metadata": {},
   "outputs": [],
   "source": [
    "my_array_2d = np.array([\n",
    "    [1, 2, 3, 4],\n",
    "    [5, 6, 7, 8],\n",
    "    [9, 10, 11, 12]\n",
    "])"
   ]
  },
  {
   "cell_type": "code",
   "execution_count": 18,
   "metadata": {},
   "outputs": [
    {
     "data": {
      "text/plain": [
       "array([[ 1,  2,  3,  4],\n",
       "       [ 5,  6,  7,  8],\n",
       "       [ 9, 10, 11, 12]])"
      ]
     },
     "execution_count": 18,
     "metadata": {},
     "output_type": "execute_result"
    }
   ],
   "source": [
    "my_array_2d"
   ]
  },
  {
   "cell_type": "code",
   "execution_count": 19,
   "metadata": {},
   "outputs": [
    {
     "data": {
      "text/plain": [
       "(3, 4)"
      ]
     },
     "execution_count": 19,
     "metadata": {},
     "output_type": "execute_result"
    }
   ],
   "source": [
    "my_array_2d.shape"
   ]
  },
  {
   "cell_type": "markdown",
   "metadata": {},
   "source": [
    "## Slicing of Numpy Arrays\n",
    "[Slicing](https://numpy.org/doc/stable/reference/arrays.indexing.html#basic-slicing-and-indexing) provides means to address/extract/overwrite more than a single element from an array at a time.\n",
    "\n",
    "For every dimension, you may specify:\n",
    "* A single index (as before, negative values count from the end)\n",
    "* A range of indices (using the `start:end` or `start:end:interval` notation)\n",
    "* All elements along the dimension (using `:`)"
   ]
  },
  {
   "cell_type": "code",
   "execution_count": 24,
   "metadata": {},
   "outputs": [
    {
     "data": {
      "text/plain": [
       "array([[ 1,  2,  3,  4],\n",
       "       [ 5,  6,  7,  8],\n",
       "       [ 9, 10, 11, 12]])"
      ]
     },
     "execution_count": 24,
     "metadata": {},
     "output_type": "execute_result"
    }
   ],
   "source": [
    "my_array_2d"
   ]
  },
  {
   "cell_type": "code",
   "execution_count": 27,
   "metadata": {},
   "outputs": [
    {
     "name": "stdout",
     "output_type": "stream",
     "text": [
      "first column [ 2  6 10]\n"
     ]
    }
   ],
   "source": [
    "# only the first column\n",
    "print(f'first column {my_array_2d[:, 1]}')\n"
   ]
  },
  {
   "cell_type": "code",
   "execution_count": null,
   "metadata": {},
   "outputs": [],
   "source": [
    "# only the first column\n",
    "print(f'first column {my_array_2d[:, 0]}')\n",
    "\n",
    "print(f'last row {my_array_2d[-1, :]}')\n",
    "print(f'last column {my_array_2d[:, -1]}')"
   ]
  },
  {
   "cell_type": "markdown",
   "metadata": {},
   "source": [
    "### Example:\n",
    "Use slicing to pull out the subarray consisting of the first 2 rows and columns 1 and 2. The result should be\n",
    "\n",
    "$$\n",
    "\\begin{pmatrix}\n",
    "2 & 3\\\\\n",
    "6 & 7\n",
    "\\end{pmatrix}\n",
    "$$"
   ]
  },
  {
   "cell_type": "code",
   "execution_count": 28,
   "metadata": {},
   "outputs": [
    {
     "data": {
      "text/plain": [
       "array([[2, 3],\n",
       "       [6, 7]])"
      ]
     },
     "execution_count": 28,
     "metadata": {},
     "output_type": "execute_result"
    }
   ],
   "source": [
    "my_array_2d[0:2, 1:3]"
   ]
  },
  {
   "cell_type": "markdown",
   "metadata": {},
   "source": [
    "**Important**: A slice of an array is a _view_ into the same data, so modifying it will modify the original array."
   ]
  },
  {
   "cell_type": "code",
   "execution_count": 30,
   "metadata": {},
   "outputs": [
    {
     "data": {
      "text/plain": [
       "array([[ 1,  2,  3,  4],\n",
       "       [ 5,  6,  7,  8],\n",
       "       [ 9, 10, 11, 12]])"
      ]
     },
     "execution_count": 30,
     "metadata": {},
     "output_type": "execute_result"
    }
   ],
   "source": [
    "my_array_2d"
   ]
  },
  {
   "cell_type": "code",
   "execution_count": 37,
   "metadata": {},
   "outputs": [],
   "source": [
    "my_slice = my_array_2d[-1, :]"
   ]
  },
  {
   "cell_type": "code",
   "execution_count": 38,
   "metadata": {},
   "outputs": [
    {
     "data": {
      "text/plain": [
       "array([ 9, 10, 11, 12])"
      ]
     },
     "execution_count": 38,
     "metadata": {},
     "output_type": "execute_result"
    }
   ],
   "source": [
    "my_slice"
   ]
  },
  {
   "cell_type": "markdown",
   "metadata": {},
   "source": [
    "### Simple math on Elements of two (or more) dimensional arrays\n",
    "We can still take the sum/average/... of elements in two or more dimensional arrays, but we need to specify the dimension(s) along which we want to aggregate."
   ]
  },
  {
   "cell_type": "code",
   "execution_count": 40,
   "metadata": {},
   "outputs": [],
   "source": [
    "b = np.array([\n",
    "    [1, 2, 3],\n",
    "    [4, 5, 6]\n",
    "])"
   ]
  },
  {
   "cell_type": "code",
   "execution_count": 41,
   "metadata": {},
   "outputs": [
    {
     "data": {
      "text/plain": [
       "array([5, 7, 9])"
      ]
     },
     "execution_count": 41,
     "metadata": {},
     "output_type": "execute_result"
    }
   ],
   "source": [
    "b.sum(axis=0)  # take axis along first dimension (columns)"
   ]
  },
  {
   "cell_type": "code",
   "execution_count": 42,
   "metadata": {},
   "outputs": [
    {
     "data": {
      "text/plain": [
       "array([ 6, 15])"
      ]
     },
     "execution_count": 42,
     "metadata": {},
     "output_type": "execute_result"
    }
   ],
   "source": [
    "b.sum(axis=1)  # take axis along second dimension (rows)"
   ]
  },
  {
   "cell_type": "markdown",
   "metadata": {},
   "source": [
    "## Datatypes"
   ]
  },
  {
   "cell_type": "markdown",
   "metadata": {},
   "source": [
    "Every numpy array is a grid of elements of the same type. Numpy provides [a large set](https://numpy.org/doc/stable/user/basics.types.html) of numeric datatypes that you can use to construct arrays. Numpy tries to guess a datatype when you create an array.\n",
    "\n",
    "While you can store non-numeric data in numpy arrays, this is not what they are really meant for!"
   ]
  },
  {
   "cell_type": "code",
   "execution_count": 43,
   "metadata": {},
   "outputs": [],
   "source": [
    "x = np.array([1, 2])"
   ]
  },
  {
   "cell_type": "code",
   "execution_count": 44,
   "metadata": {},
   "outputs": [
    {
     "data": {
      "text/plain": [
       "dtype('int32')"
      ]
     },
     "execution_count": 44,
     "metadata": {},
     "output_type": "execute_result"
    }
   ],
   "source": [
    "x.dtype"
   ]
  },
  {
   "cell_type": "code",
   "execution_count": 45,
   "metadata": {},
   "outputs": [],
   "source": [
    "x = np.array([1.5, 2.5, 3.5])"
   ]
  },
  {
   "cell_type": "code",
   "execution_count": 46,
   "metadata": {},
   "outputs": [
    {
     "data": {
      "text/plain": [
       "dtype('float64')"
      ]
     },
     "execution_count": 46,
     "metadata": {},
     "output_type": "execute_result"
    }
   ],
   "source": [
    "x.dtype"
   ]
  },
  {
   "cell_type": "markdown",
   "metadata": {},
   "source": [
    "You can also specify the datatype"
   ]
  },
  {
   "cell_type": "code",
   "execution_count": 47,
   "metadata": {},
   "outputs": [],
   "source": [
    "x = np.array([1, 2], dtype=np.int64)"
   ]
  },
  {
   "cell_type": "code",
   "execution_count": 48,
   "metadata": {},
   "outputs": [
    {
     "data": {
      "text/plain": [
       "dtype('int64')"
      ]
     },
     "execution_count": 48,
     "metadata": {},
     "output_type": "execute_result"
    }
   ],
   "source": [
    "x.dtype"
   ]
  },
  {
   "cell_type": "markdown",
   "metadata": {},
   "source": [
    "or change the datatype"
   ]
  },
  {
   "cell_type": "code",
   "execution_count": 49,
   "metadata": {},
   "outputs": [
    {
     "data": {
      "text/plain": [
       "array([1., 2.])"
      ]
     },
     "execution_count": 49,
     "metadata": {},
     "output_type": "execute_result"
    }
   ],
   "source": [
    "x.astype(np.float64)  # note that the entries are now floats"
   ]
  },
  {
   "cell_type": "markdown",
   "metadata": {},
   "source": [
    "## Elementwise Operations on Numpy Arrays\n",
    "Numpy allows us to do algebraic operations on arrays."
   ]
  },
  {
   "cell_type": "code",
   "execution_count": 50,
   "metadata": {},
   "outputs": [],
   "source": [
    "x = np.array([\n",
    "    [1, 2],\n",
    "    [3, 4]\n",
    "])"
   ]
  },
  {
   "cell_type": "code",
   "execution_count": 51,
   "metadata": {},
   "outputs": [],
   "source": [
    "y = np.array([\n",
    "    [5, 6],\n",
    "    [7, 8]\n",
    "])"
   ]
  },
  {
   "cell_type": "code",
   "execution_count": 52,
   "metadata": {},
   "outputs": [
    {
     "data": {
      "text/plain": [
       "array([[ 6,  8],\n",
       "       [10, 12]])"
      ]
     },
     "execution_count": 52,
     "metadata": {},
     "output_type": "execute_result"
    }
   ],
   "source": [
    "x + y  # Normal sum operation (element-wise summation)"
   ]
  },
  {
   "cell_type": "code",
   "execution_count": null,
   "metadata": {},
   "outputs": [],
   "source": [
    "np.add(x, y) #alternatively we can again use Numpy to do the sum operation:"
   ]
  },
  {
   "cell_type": "code",
   "execution_count": null,
   "metadata": {},
   "outputs": [],
   "source": [
    "y - x  # element-wise difference"
   ]
  },
  {
   "cell_type": "code",
   "execution_count": null,
   "metadata": {},
   "outputs": [],
   "source": [
    "np.subtract(y, x)"
   ]
  },
  {
   "cell_type": "code",
   "execution_count": 53,
   "metadata": {},
   "outputs": [
    {
     "data": {
      "text/plain": [
       "array([[ 5, 12],\n",
       "       [21, 32]])"
      ]
     },
     "execution_count": 53,
     "metadata": {},
     "output_type": "execute_result"
    }
   ],
   "source": [
    "x * y  # this is the ELEMENTWISE Multiplication of two matrices"
   ]
  },
  {
   "cell_type": "code",
   "execution_count": null,
   "metadata": {},
   "outputs": [],
   "source": [
    "np.multiply(x,y)"
   ]
  },
  {
   "cell_type": "code",
   "execution_count": null,
   "metadata": {},
   "outputs": [],
   "source": [
    "x / y"
   ]
  },
  {
   "cell_type": "code",
   "execution_count": null,
   "metadata": {},
   "outputs": [],
   "source": [
    "np.divide(x,y)"
   ]
  },
  {
   "cell_type": "code",
   "execution_count": null,
   "metadata": {},
   "outputs": [],
   "source": [
    "np.sqrt(y)"
   ]
  },
  {
   "cell_type": "markdown",
   "metadata": {
    "tags": []
   },
   "source": [
    "## Binary Masks\n",
    "You can also select entries by passing a boolean array of the same shape.\n",
    "\n",
    "Assume, we want to get all odd numbers from an array:"
   ]
  },
  {
   "cell_type": "code",
   "execution_count": 57,
   "metadata": {},
   "outputs": [
    {
     "data": {
      "text/plain": [
       "array([1, 3])"
      ]
     },
     "execution_count": 57,
     "metadata": {},
     "output_type": "execute_result"
    }
   ],
   "source": [
    "x = np.array([1, 2, 3])\n",
    "x[[True, False, True]]  # only get first and third element"
   ]
  },
  {
   "cell_type": "markdown",
   "metadata": {},
   "source": [
    "This is particularly powerful in conjunction with element-wise operations and comparisons. Note that the following expression returns not a single boolean value, but a boolean array:"
   ]
  },
  {
   "cell_type": "code",
   "execution_count": 59,
   "metadata": {},
   "outputs": [
    {
     "data": {
      "text/plain": [
       "array([ True, False,  True])"
      ]
     },
     "execution_count": 59,
     "metadata": {},
     "output_type": "execute_result"
    }
   ],
   "source": [
    "x % 2 == 1"
   ]
  },
  {
   "cell_type": "markdown",
   "metadata": {},
   "source": [
    "So to get all odd entries from an array, we can mask it like:"
   ]
  },
  {
   "cell_type": "code",
   "execution_count": 60,
   "metadata": {},
   "outputs": [
    {
     "data": {
      "text/plain": [
       "array([1, 3])"
      ]
     },
     "execution_count": 60,
     "metadata": {},
     "output_type": "execute_result"
    }
   ],
   "source": [
    "x[x % 2 == 1]"
   ]
  },
  {
   "cell_type": "code",
   "execution_count": 62,
   "metadata": {},
   "outputs": [
    {
     "data": {
      "text/plain": [
       "array([2, 3])"
      ]
     },
     "execution_count": 62,
     "metadata": {},
     "output_type": "execute_result"
    }
   ],
   "source": [
    "x[x > 1]"
   ]
  },
  {
   "cell_type": "markdown",
   "metadata": {},
   "source": [
    "## Matrix Multiplication (Dot-Product)\n",
    "Elementwise multiplication of matrices is not what you might expect when multiplying two matrices. [\"Proper Matrix Multiplication\"](https://en.wikipedia.org/wiki/Matrix_multiplication) (applying the [dot product](https://en.wikipedia.org/wiki/Dot_product)) is available using [`np.dot`](https://numpy.org/doc/stable/reference/generated/numpy.dot.html#numpy.dot)\n",
    "\n",
    "![Matrix Multiplication, figure from wikipedia.org (User:bilou)](https://upload.wikimedia.org/wikipedia/commons/thumb/e/eb/Matrix_multiplication_diagram_2.svg/546px-Matrix_multiplication_diagram_2.svg.png)"
   ]
  },
  {
   "cell_type": "code",
   "execution_count": null,
   "metadata": {},
   "outputs": [],
   "source": [
    "x = np.array([\n",
    "    [1, 2],\n",
    "    [3, 4]\n",
    "])\n",
    "y = np.array([\n",
    "    [5, 6],\n",
    "    [7, 8]\n",
    "])"
   ]
  },
  {
   "cell_type": "code",
   "execution_count": null,
   "metadata": {},
   "outputs": [],
   "source": [
    "np.dot(x, y)"
   ]
  },
  {
   "cell_type": "code",
   "execution_count": null,
   "metadata": {},
   "outputs": [],
   "source": [
    "# The top left element of the result of the matrix multiplication...\n",
    "matrix_multiplication = np.dot(x, y)[0, 0]\n",
    "# is the dot product of the first row of x and the first column of y\n",
    "dot_product = np.dot(x[0,:], y[:,0])\n",
    "print(matrix_multiplication, dot_product)"
   ]
  },
  {
   "cell_type": "markdown",
   "metadata": {},
   "source": [
    "Numpy's dot function also enables to multiply matrices (2d arrays) with vectors (1d arrays) (equivalent of calculating $A\\cdot \\vec{x}$:\n",
    "$$\n",
    "    \\begin{pmatrix}\n",
    "        a_{1,1} & a_{1,2} & a_{1,3} \\\\\n",
    "        a_{2,1} & a_{2,2} & a_{2,3}\n",
    "    \\end{pmatrix} \\cdot\n",
    "    \\left(\\begin{array}{c} x_1 \\\\ x_2 \\\\ x_3 \\end{array}\\right)\n",
    "    = \n",
    "    \\left(\\begin{array}{c} a_{1,1}\\cdot x_1 a_{1,2}\\cdot x_2 + a_{1,3}\\cdot x_3 \\\\ a_{2,1}\\cdot x_1 a_{2,2}\\cdot x_2 + a_{2,3}\\cdot x_3 \\end{array}\\right)\n",
    "$$"
   ]
  },
  {
   "cell_type": "code",
   "execution_count": null,
   "metadata": {},
   "outputs": [],
   "source": [
    "A = np.array([\n",
    "    [1, 2, 3],\n",
    "    [4, 5, 6]\n",
    "])\n",
    "x = np.array([1, 2, 3])\n",
    "np.dot(A, x)"
   ]
  },
  {
   "cell_type": "markdown",
   "metadata": {},
   "source": [
    "## [Broadcasting](https://numpy.org/doc/stable/user/basics.broadcasting.html) in Numpy\n",
    "So far, we have only added, multiplied, ... arrays that were in right format (e.g. had the same shape for elementwise operations). However, numpy can also do the following:"
   ]
  },
  {
   "cell_type": "code",
   "execution_count": 63,
   "metadata": {},
   "outputs": [],
   "source": [
    "x = np.array([1, 2, 3])"
   ]
  },
  {
   "cell_type": "code",
   "execution_count": 66,
   "metadata": {},
   "outputs": [
    {
     "data": {
      "text/plain": [
       "array([ 5, 10, 15])"
      ]
     },
     "execution_count": 66,
     "metadata": {},
     "output_type": "execute_result"
    }
   ],
   "source": [
    "x * 5  # one can also subtract/multiply with/divide by/take modulo w.r.t./... scalar"
   ]
  },
  {
   "cell_type": "code",
   "execution_count": null,
   "metadata": {},
   "outputs": [],
   "source": [
    "x % 3"
   ]
  },
  {
   "cell_type": "markdown",
   "metadata": {},
   "source": [
    "Under the hood, numpy realizes that the two objects, while not of compatible shape, can be brought into compatible shape by \"stretching\" the scalar as in this picture from the numpy documentation:\n",
    "\n",
    "![Broadcasting rules in Numpy](https://numpy.org/doc/stable/_images/theory.broadcast_1.gif)\n",
    "\n",
    "The [Numpy documentation](https://numpy.org/doc/stable/user/theory.broadcasting.html#array-broadcasting-in-numpy) states:\n",
    "> In order to broadcast, the size of the trailing axes for both arrays in an operation must either be the same size or one of them must be one.\n",
    "\n",
    "Scalars in this context are treated as $1\\times 1$ matrices.\n",
    "\n",
    "A more surprising example below, where we start with an array of shape $2 \\times 3$:"
   ]
  },
  {
   "cell_type": "code",
   "execution_count": null,
   "metadata": {},
   "outputs": [],
   "source": [
    "small_matrix = np.array([\n",
    "    [1, 2, 3],\n",
    "    [4, 5, 6]\n",
    "])\n",
    "small_matrix + np.array([1, 2, 3])  # the last dimension of the small_matrix equals the only dimension of the second array"
   ]
  },
  {
   "cell_type": "markdown",
   "metadata": {},
   "source": [
    "Under the hood, the array $\\left( 1, 2, 3\\right)$ is broadcasted into $\\begin{pmatrix} 1 & 2 & 3 \\\\ 1 & 2 & 3 \\end{pmatrix}$, so it has the same shape ($2 \\times 3$) as `small_matrix` and thus, elementwise operations can take place.\n",
    "\n",
    "The following also works: The second array is of shape $2 \\times 1$. So...\n",
    "* the first dimenion matches (2 for both objectts) and\n",
    "* for the second dimension, the element with only one entry is \"stretched\"."
   ]
  },
  {
   "cell_type": "code",
   "execution_count": null,
   "metadata": {},
   "outputs": [],
   "source": [
    "small_matrix + np.array([\n",
    "    [1],\n",
    "    [2]\n",
    "])"
   ]
  },
  {
   "cell_type": "markdown",
   "metadata": {},
   "source": [
    "# [Pandas](https://pandas.pydata.org/)"
   ]
  },
  {
   "cell_type": "markdown",
   "metadata": {},
   "source": [
    "## DataFrames in Python\n",
    "\n",
    "Pandas [DataFrames](https://pandas.pydata.org/pandas-docs/stable/reference/api/pandas.DataFrame.html) are the go-to tool in the python ecosystem to work _tabular_, such as\n",
    "* reading (e.g. from Excel, CSV, Databases, Big Data Platforms)\n",
    "* manipulating\n",
    "* filtering\n",
    "* transforming\n",
    "* storing (e.g. to Excel, CSV, Databases, Big Data Platforms)\n",
    "\n",
    "this data.\n",
    "\n",
    "_Tabular_ means that DataFrames always look like an Excel Spreadsheets, i.e. they have rows and columns.\n",
    "\n",
    "| _index_ | Name of City | Inhabitants |\n",
    "| --- | --- | --- |\n",
    "| 0 | Cologne | 1083498 |\n",
    "| 1 | Düsseldorf | 620523 |\n",
    "\n",
    "As compared with Numpy arrays, DataFrames\n",
    "* Always have 2 dimensions\n",
    "* Can have different data types in different columns\n",
    "* Can have indices that are not integers (similar to dictionaries)\n",
    "\n",
    "Pandas is a popular Python package for data science, it offers powerful, expressive and flexible data structures that make data manipulation and analysis easy, among many other things. The DataFrame is one of these structures.\n",
    "\n",
    "Data frame is a way to store data in rectangular grids that can easily be overviewed. Each row of these grids corresponds to measurements or values of an instance, while each column is a vector containing data for a specific variable. This means that a data frame’s rows do not need to contain, but can contain, the same type of values: they can be numeric, character, logical, etc.\n",
    "\n",
    "Besides that, pandas also offers the [`Series`](https://pandas.pydata.org/pandas-docs/stable/reference/series.html) class, which is one dimensional (has only one index plus an axes label). An example of a Series object is one column from a DataFrame."
   ]
  },
  {
   "cell_type": "code",
   "execution_count": 67,
   "metadata": {},
   "outputs": [],
   "source": [
    "#import the library\n",
    "import pandas as pd  # again, pd is the commonly used shorthand for pandas"
   ]
  },
  {
   "cell_type": "markdown",
   "metadata": {},
   "source": [
    "## Creating DataFrames\n",
    "To create a DataFrame, we need to provide\n",
    "* the data\n",
    "* the `index` values (by which we can access rows) (By default, positive integers are used)\n",
    "* the names of the `columns` (by which we can access columns) (By default, positive integers are used)\n",
    "\n",
    "However: Pandas is smart and supports a variety of formats to define your data."
   ]
  },
  {
   "cell_type": "code",
   "execution_count": 68,
   "metadata": {},
   "outputs": [],
   "source": [
    "# defining a Numpy array \n",
    "my_2darray = np.array([\n",
    "    [1, 2, 3],\n",
    "    [4, 5, 6],\n",
    "    [7, 8, 9]\n",
    "])"
   ]
  },
  {
   "cell_type": "code",
   "execution_count": 69,
   "metadata": {},
   "outputs": [
    {
     "data": {
      "text/html": [
       "<div>\n",
       "<style scoped>\n",
       "    .dataframe tbody tr th:only-of-type {\n",
       "        vertical-align: middle;\n",
       "    }\n",
       "\n",
       "    .dataframe tbody tr th {\n",
       "        vertical-align: top;\n",
       "    }\n",
       "\n",
       "    .dataframe thead th {\n",
       "        text-align: right;\n",
       "    }\n",
       "</style>\n",
       "<table border=\"1\" class=\"dataframe\">\n",
       "  <thead>\n",
       "    <tr style=\"text-align: right;\">\n",
       "      <th></th>\n",
       "      <th>0</th>\n",
       "      <th>1</th>\n",
       "      <th>2</th>\n",
       "    </tr>\n",
       "  </thead>\n",
       "  <tbody>\n",
       "    <tr>\n",
       "      <th>0</th>\n",
       "      <td>1</td>\n",
       "      <td>2</td>\n",
       "      <td>3</td>\n",
       "    </tr>\n",
       "    <tr>\n",
       "      <th>1</th>\n",
       "      <td>4</td>\n",
       "      <td>5</td>\n",
       "      <td>6</td>\n",
       "    </tr>\n",
       "    <tr>\n",
       "      <th>2</th>\n",
       "      <td>7</td>\n",
       "      <td>8</td>\n",
       "      <td>9</td>\n",
       "    </tr>\n",
       "  </tbody>\n",
       "</table>\n",
       "</div>"
      ],
      "text/plain": [
       "   0  1  2\n",
       "0  1  2  3\n",
       "1  4  5  6\n",
       "2  7  8  9"
      ]
     },
     "execution_count": 69,
     "metadata": {},
     "output_type": "execute_result"
    }
   ],
   "source": [
    "pd.DataFrame(my_2darray) # Converting it to a Data frame, not specifying index or columns"
   ]
  },
  {
   "cell_type": "code",
   "execution_count": 70,
   "metadata": {},
   "outputs": [
    {
     "data": {
      "text/html": [
       "<div>\n",
       "<style scoped>\n",
       "    .dataframe tbody tr th:only-of-type {\n",
       "        vertical-align: middle;\n",
       "    }\n",
       "\n",
       "    .dataframe tbody tr th {\n",
       "        vertical-align: top;\n",
       "    }\n",
       "\n",
       "    .dataframe thead th {\n",
       "        text-align: right;\n",
       "    }\n",
       "</style>\n",
       "<table border=\"1\" class=\"dataframe\">\n",
       "  <thead>\n",
       "    <tr style=\"text-align: right;\">\n",
       "      <th></th>\n",
       "      <th>a</th>\n",
       "      <th>b</th>\n",
       "      <th>c</th>\n",
       "    </tr>\n",
       "  </thead>\n",
       "  <tbody>\n",
       "    <tr>\n",
       "      <th>10</th>\n",
       "      <td>1</td>\n",
       "      <td>2</td>\n",
       "      <td>3</td>\n",
       "    </tr>\n",
       "    <tr>\n",
       "      <th>20</th>\n",
       "      <td>4</td>\n",
       "      <td>5</td>\n",
       "      <td>6</td>\n",
       "    </tr>\n",
       "    <tr>\n",
       "      <th>30</th>\n",
       "      <td>7</td>\n",
       "      <td>8</td>\n",
       "      <td>9</td>\n",
       "    </tr>\n",
       "  </tbody>\n",
       "</table>\n",
       "</div>"
      ],
      "text/plain": [
       "    a  b  c\n",
       "10  1  2  3\n",
       "20  4  5  6\n",
       "30  7  8  9"
      ]
     },
     "execution_count": 70,
     "metadata": {},
     "output_type": "execute_result"
    }
   ],
   "source": [
    "# Specifying the index as well names\n",
    "pd.DataFrame(\n",
    "    my_2darray,  # the data, as before\n",
    "    index=[10, 20, 30],\n",
    "    columns=['a', 'b', 'c']\n",
    ")"
   ]
  },
  {
   "cell_type": "markdown",
   "metadata": {},
   "source": [
    "### (Some) Alternative ways to construct DataFrames\n",
    "Alternatively, we could for example:"
   ]
  },
  {
   "cell_type": "code",
   "execution_count": 71,
   "metadata": {},
   "outputs": [
    {
     "data": {
      "text/html": [
       "<div>\n",
       "<style scoped>\n",
       "    .dataframe tbody tr th:only-of-type {\n",
       "        vertical-align: middle;\n",
       "    }\n",
       "\n",
       "    .dataframe tbody tr th {\n",
       "        vertical-align: top;\n",
       "    }\n",
       "\n",
       "    .dataframe thead th {\n",
       "        text-align: right;\n",
       "    }\n",
       "</style>\n",
       "<table border=\"1\" class=\"dataframe\">\n",
       "  <thead>\n",
       "    <tr style=\"text-align: right;\">\n",
       "      <th></th>\n",
       "      <th>a</th>\n",
       "      <th>b</th>\n",
       "      <th>c</th>\n",
       "    </tr>\n",
       "  </thead>\n",
       "  <tbody>\n",
       "    <tr>\n",
       "      <th>10</th>\n",
       "      <td>1</td>\n",
       "      <td>2</td>\n",
       "      <td>3</td>\n",
       "    </tr>\n",
       "    <tr>\n",
       "      <th>20</th>\n",
       "      <td>4</td>\n",
       "      <td>5</td>\n",
       "      <td>6</td>\n",
       "    </tr>\n",
       "    <tr>\n",
       "      <th>30</th>\n",
       "      <td>7</td>\n",
       "      <td>8</td>\n",
       "      <td>9</td>\n",
       "    </tr>\n",
       "  </tbody>\n",
       "</table>\n",
       "</div>"
      ],
      "text/plain": [
       "    a  b  c\n",
       "10  1  2  3\n",
       "20  4  5  6\n",
       "30  7  8  9"
      ]
     },
     "execution_count": 71,
     "metadata": {},
     "output_type": "execute_result"
    }
   ],
   "source": [
    "# Create a DataFrame from a Dictionary with lists as values (keys are interpreted as column names)\n",
    "pd.DataFrame(\n",
    "    {  # same data as before\n",
    "        'a': [1, 4, 7],  # values in column a\n",
    "        'b': [2, 5, 8],\n",
    "        'c': [3, 6, 9]\n",
    "    },  \n",
    "    index=[10, 20, 30],\n",
    "    # we do not need to specify the columns now, as the dictionary defined them\n",
    ")"
   ]
  },
  {
   "cell_type": "code",
   "execution_count": 72,
   "metadata": {},
   "outputs": [
    {
     "data": {
      "text/html": [
       "<div>\n",
       "<style scoped>\n",
       "    .dataframe tbody tr th:only-of-type {\n",
       "        vertical-align: middle;\n",
       "    }\n",
       "\n",
       "    .dataframe tbody tr th {\n",
       "        vertical-align: top;\n",
       "    }\n",
       "\n",
       "    .dataframe thead th {\n",
       "        text-align: right;\n",
       "    }\n",
       "</style>\n",
       "<table border=\"1\" class=\"dataframe\">\n",
       "  <thead>\n",
       "    <tr style=\"text-align: right;\">\n",
       "      <th></th>\n",
       "      <th>a</th>\n",
       "      <th>b</th>\n",
       "      <th>c</th>\n",
       "    </tr>\n",
       "  </thead>\n",
       "  <tbody>\n",
       "    <tr>\n",
       "      <th>10</th>\n",
       "      <td>1</td>\n",
       "      <td>2</td>\n",
       "      <td>3</td>\n",
       "    </tr>\n",
       "    <tr>\n",
       "      <th>20</th>\n",
       "      <td>4</td>\n",
       "      <td>5</td>\n",
       "      <td>6</td>\n",
       "    </tr>\n",
       "    <tr>\n",
       "      <th>30</th>\n",
       "      <td>7</td>\n",
       "      <td>8</td>\n",
       "      <td>9</td>\n",
       "    </tr>\n",
       "  </tbody>\n",
       "</table>\n",
       "</div>"
      ],
      "text/plain": [
       "    a  b  c\n",
       "10  1  2  3\n",
       "20  4  5  6\n",
       "30  7  8  9"
      ]
     },
     "execution_count": 72,
     "metadata": {},
     "output_type": "execute_result"
    }
   ],
   "source": [
    "# Create a DataFrame from a list of dictionaries (where every dictionary defines one row/observation).\n",
    "pd.DataFrame(\n",
    "    [  # same data as before\n",
    "        {'a': 1, 'b': 2, 'c': 3},  # values in first row\n",
    "        {'a': 4, 'b': 5, 'c': 6},\n",
    "        {'a': 7, 'b': 8, 'c': 9},\n",
    "    ],  \n",
    "    index=[10, 20, 30],\n",
    "    # we do not need to specify the columns now, as the dictionaries defined them\n",
    ")"
   ]
  },
  {
   "cell_type": "markdown",
   "metadata": {},
   "source": [
    "### Reading DataFrames from sources\n",
    "Pandas offers a [wide range](https://pandas.pydata.org/pandas-docs/stable/user_guide/io.html#io) of supported in- and output formats. In this example, we will simply read in a CSV file:"
   ]
  },
  {
   "cell_type": "code",
   "execution_count": 73,
   "metadata": {},
   "outputs": [],
   "source": [
    "nrw_cities = pd.read_csv(\n",
    "    'data/nrw_cities.csv',  # filename\n",
    "    sep=';'  # field separator\n",
    ")"
   ]
  },
  {
   "cell_type": "markdown",
   "metadata": {},
   "source": [
    "## Exploring a new DataFrame"
   ]
  },
  {
   "cell_type": "code",
   "execution_count": 74,
   "metadata": {},
   "outputs": [
    {
     "data": {
      "text/plain": [
       "(10, 4)"
      ]
     },
     "execution_count": 74,
     "metadata": {},
     "output_type": "execute_result"
    }
   ],
   "source": [
    "nrw_cities.shape  # as with numpy arrays (first entry is number of rows, second entry is number of columns)"
   ]
  },
  {
   "cell_type": "code",
   "execution_count": 75,
   "metadata": {},
   "outputs": [
    {
     "data": {
      "text/plain": [
       "10"
      ]
     },
     "execution_count": 75,
     "metadata": {},
     "output_type": "execute_result"
    }
   ],
   "source": [
    "len(nrw_cities)  # lengths is the number of rows"
   ]
  },
  {
   "cell_type": "code",
   "execution_count": 76,
   "metadata": {},
   "outputs": [
    {
     "data": {
      "text/html": [
       "<div>\n",
       "<style scoped>\n",
       "    .dataframe tbody tr th:only-of-type {\n",
       "        vertical-align: middle;\n",
       "    }\n",
       "\n",
       "    .dataframe tbody tr th {\n",
       "        vertical-align: top;\n",
       "    }\n",
       "\n",
       "    .dataframe thead th {\n",
       "        text-align: right;\n",
       "    }\n",
       "</style>\n",
       "<table border=\"1\" class=\"dataframe\">\n",
       "  <thead>\n",
       "    <tr style=\"text-align: right;\">\n",
       "      <th></th>\n",
       "      <th>name</th>\n",
       "      <th>inhabitants</th>\n",
       "      <th>population_density</th>\n",
       "      <th>UNLOCODE</th>\n",
       "    </tr>\n",
       "  </thead>\n",
       "  <tbody>\n",
       "    <tr>\n",
       "      <th>0</th>\n",
       "      <td>Düsseldorf</td>\n",
       "      <td>620523</td>\n",
       "      <td>2900</td>\n",
       "      <td>DEDUS</td>\n",
       "    </tr>\n",
       "    <tr>\n",
       "      <th>1</th>\n",
       "      <td>Münster</td>\n",
       "      <td>316403</td>\n",
       "      <td>1000</td>\n",
       "      <td>DEMSR</td>\n",
       "    </tr>\n",
       "  </tbody>\n",
       "</table>\n",
       "</div>"
      ],
      "text/plain": [
       "         name  inhabitants  population_density UNLOCODE\n",
       "0  Düsseldorf       620523                2900    DEDUS\n",
       "1     Münster       316403                1000    DEMSR"
      ]
     },
     "execution_count": 76,
     "metadata": {},
     "output_type": "execute_result"
    }
   ],
   "source": [
    "nrw_cities.head(2)  # print first 2 rows, use .tail() to print the last rows"
   ]
  },
  {
   "cell_type": "code",
   "execution_count": 77,
   "metadata": {},
   "outputs": [
    {
     "name": "stdout",
     "output_type": "stream",
     "text": [
      "<class 'pandas.core.frame.DataFrame'>\n",
      "RangeIndex: 10 entries, 0 to 9\n",
      "Data columns (total 4 columns):\n",
      " #   Column              Non-Null Count  Dtype \n",
      "---  ------              --------------  ----- \n",
      " 0   name                10 non-null     object\n",
      " 1   inhabitants         10 non-null     int64 \n",
      " 2   population_density  10 non-null     int64 \n",
      " 3   UNLOCODE            10 non-null     object\n",
      "dtypes: int64(2), object(2)\n",
      "memory usage: 448.0+ bytes\n"
     ]
    }
   ],
   "source": [
    "nrw_cities.info()"
   ]
  },
  {
   "cell_type": "code",
   "execution_count": 78,
   "metadata": {},
   "outputs": [
    {
     "data": {
      "text/html": [
       "<div>\n",
       "<style scoped>\n",
       "    .dataframe tbody tr th:only-of-type {\n",
       "        vertical-align: middle;\n",
       "    }\n",
       "\n",
       "    .dataframe tbody tr th {\n",
       "        vertical-align: top;\n",
       "    }\n",
       "\n",
       "    .dataframe thead th {\n",
       "        text-align: right;\n",
       "    }\n",
       "</style>\n",
       "<table border=\"1\" class=\"dataframe\">\n",
       "  <thead>\n",
       "    <tr style=\"text-align: right;\">\n",
       "      <th></th>\n",
       "      <th>inhabitants</th>\n",
       "      <th>population_density</th>\n",
       "    </tr>\n",
       "  </thead>\n",
       "  <tbody>\n",
       "    <tr>\n",
       "      <th>count</th>\n",
       "      <td>1.000000e+01</td>\n",
       "      <td>10.000000</td>\n",
       "    </tr>\n",
       "    <tr>\n",
       "      <th>mean</th>\n",
       "      <td>5.069966e+05</td>\n",
       "      <td>2183.500000</td>\n",
       "    </tr>\n",
       "    <tr>\n",
       "      <th>std</th>\n",
       "      <td>2.353563e+05</td>\n",
       "      <td>620.681749</td>\n",
       "    </tr>\n",
       "    <tr>\n",
       "      <th>min</th>\n",
       "      <td>3.164030e+05</td>\n",
       "      <td>1000.000000</td>\n",
       "    </tr>\n",
       "    <tr>\n",
       "      <th>25%</th>\n",
       "      <td>3.388828e+05</td>\n",
       "      <td>2097.500000</td>\n",
       "    </tr>\n",
       "    <tr>\n",
       "      <th>50%</th>\n",
       "      <td>4.301695e+05</td>\n",
       "      <td>2236.500000</td>\n",
       "    </tr>\n",
       "    <tr>\n",
       "      <th>75%</th>\n",
       "      <td>5.863758e+05</td>\n",
       "      <td>2650.500000</td>\n",
       "    </tr>\n",
       "    <tr>\n",
       "      <th>max</th>\n",
       "      <td>1.083498e+06</td>\n",
       "      <td>2900.000000</td>\n",
       "    </tr>\n",
       "  </tbody>\n",
       "</table>\n",
       "</div>"
      ],
      "text/plain": [
       "        inhabitants  population_density\n",
       "count  1.000000e+01           10.000000\n",
       "mean   5.069966e+05         2183.500000\n",
       "std    2.353563e+05          620.681749\n",
       "min    3.164030e+05         1000.000000\n",
       "25%    3.388828e+05         2097.500000\n",
       "50%    4.301695e+05         2236.500000\n",
       "75%    5.863758e+05         2650.500000\n",
       "max    1.083498e+06         2900.000000"
      ]
     },
     "execution_count": 78,
     "metadata": {},
     "output_type": "execute_result"
    }
   ],
   "source": [
    "nrw_cities.describe()  # statistical properties, only available for numeric columns"
   ]
  },
  {
   "cell_type": "markdown",
   "metadata": {},
   "source": [
    "## Viewing (and changing) the Index\n",
    "Index labels are currently still integers and not particularly helpful. Let's use the UNLOCODEs (which are unique) as indices:"
   ]
  },
  {
   "cell_type": "code",
   "execution_count": 79,
   "metadata": {},
   "outputs": [
    {
     "data": {
      "text/plain": [
       "Index(['name', 'inhabitants', 'population_density', 'UNLOCODE'], dtype='object')"
      ]
     },
     "execution_count": 79,
     "metadata": {},
     "output_type": "execute_result"
    }
   ],
   "source": [
    "nrw_cities.columns"
   ]
  },
  {
   "cell_type": "code",
   "execution_count": 80,
   "metadata": {},
   "outputs": [
    {
     "data": {
      "text/plain": [
       "RangeIndex(start=0, stop=10, step=1)"
      ]
     },
     "execution_count": 80,
     "metadata": {},
     "output_type": "execute_result"
    }
   ],
   "source": [
    "nrw_cities.index"
   ]
  },
  {
   "cell_type": "code",
   "execution_count": 81,
   "metadata": {},
   "outputs": [],
   "source": [
    "nrw_cities = nrw_cities.set_index('UNLOCODE')"
   ]
  },
  {
   "cell_type": "code",
   "execution_count": 82,
   "metadata": {},
   "outputs": [
    {
     "data": {
      "text/html": [
       "<div>\n",
       "<style scoped>\n",
       "    .dataframe tbody tr th:only-of-type {\n",
       "        vertical-align: middle;\n",
       "    }\n",
       "\n",
       "    .dataframe tbody tr th {\n",
       "        vertical-align: top;\n",
       "    }\n",
       "\n",
       "    .dataframe thead th {\n",
       "        text-align: right;\n",
       "    }\n",
       "</style>\n",
       "<table border=\"1\" class=\"dataframe\">\n",
       "  <thead>\n",
       "    <tr style=\"text-align: right;\">\n",
       "      <th></th>\n",
       "      <th>name</th>\n",
       "      <th>inhabitants</th>\n",
       "      <th>population_density</th>\n",
       "    </tr>\n",
       "    <tr>\n",
       "      <th>UNLOCODE</th>\n",
       "      <th></th>\n",
       "      <th></th>\n",
       "      <th></th>\n",
       "    </tr>\n",
       "  </thead>\n",
       "  <tbody>\n",
       "    <tr>\n",
       "      <th>DEDUS</th>\n",
       "      <td>Düsseldorf</td>\n",
       "      <td>620523</td>\n",
       "      <td>2900</td>\n",
       "    </tr>\n",
       "    <tr>\n",
       "      <th>DEMSR</th>\n",
       "      <td>Münster</td>\n",
       "      <td>316403</td>\n",
       "      <td>1000</td>\n",
       "    </tr>\n",
       "    <tr>\n",
       "      <th>DEBFE</th>\n",
       "      <td>Bielefeld</td>\n",
       "      <td>333509</td>\n",
       "      <td>1289</td>\n",
       "    </tr>\n",
       "  </tbody>\n",
       "</table>\n",
       "</div>"
      ],
      "text/plain": [
       "                name  inhabitants  population_density\n",
       "UNLOCODE                                             \n",
       "DEDUS     Düsseldorf       620523                2900\n",
       "DEMSR        Münster       316403                1000\n",
       "DEBFE      Bielefeld       333509                1289"
      ]
     },
     "execution_count": 82,
     "metadata": {},
     "output_type": "execute_result"
    }
   ],
   "source": [
    "nrw_cities.head(3)"
   ]
  },
  {
   "cell_type": "code",
   "execution_count": 83,
   "metadata": {},
   "outputs": [
    {
     "data": {
      "text/plain": [
       "Index(['DEDUS', 'DEMSR', 'DEBFE', 'DEBON', 'DEWUP', 'DEDTM', 'DECGN', 'DEESS',\n",
       "       'DEDUI', 'DEBOM'],\n",
       "      dtype='object', name='UNLOCODE')"
      ]
     },
     "execution_count": 83,
     "metadata": {},
     "output_type": "execute_result"
    }
   ],
   "source": [
    "nrw_cities.index"
   ]
  },
  {
   "cell_type": "markdown",
   "metadata": {},
   "source": [
    "## Accessing Data\n",
    "Pandas offers [different data access methods](https://pandas.pydata.org/pandas-docs/stable/user_guide/indexing.html), depending on whether you want to use the index/column values specified or use numerical indices.\n",
    "* `my_df.loc` should be used, if you specify rows/columns by their labels\n",
    "* `my_df.iloc` should be used, if you use numerical indices."
   ]
  },
  {
   "cell_type": "code",
   "execution_count": 84,
   "metadata": {},
   "outputs": [
    {
     "data": {
      "text/plain": [
       "316403"
      ]
     },
     "execution_count": 84,
     "metadata": {},
     "output_type": "execute_result"
    }
   ],
   "source": [
    "#Label based\n",
    "nrw_cities.loc['DEMSR', 'inhabitants']"
   ]
  },
  {
   "cell_type": "code",
   "execution_count": 85,
   "metadata": {},
   "outputs": [
    {
     "data": {
      "text/html": [
       "<div>\n",
       "<style scoped>\n",
       "    .dataframe tbody tr th:only-of-type {\n",
       "        vertical-align: middle;\n",
       "    }\n",
       "\n",
       "    .dataframe tbody tr th {\n",
       "        vertical-align: top;\n",
       "    }\n",
       "\n",
       "    .dataframe thead th {\n",
       "        text-align: right;\n",
       "    }\n",
       "</style>\n",
       "<table border=\"1\" class=\"dataframe\">\n",
       "  <thead>\n",
       "    <tr style=\"text-align: right;\">\n",
       "      <th></th>\n",
       "      <th>name</th>\n",
       "      <th>inhabitants</th>\n",
       "    </tr>\n",
       "    <tr>\n",
       "      <th>UNLOCODE</th>\n",
       "      <th></th>\n",
       "      <th></th>\n",
       "    </tr>\n",
       "  </thead>\n",
       "  <tbody>\n",
       "    <tr>\n",
       "      <th>DEDUS</th>\n",
       "      <td>Düsseldorf</td>\n",
       "      <td>620523</td>\n",
       "    </tr>\n",
       "    <tr>\n",
       "      <th>DEMSR</th>\n",
       "      <td>Münster</td>\n",
       "      <td>316403</td>\n",
       "    </tr>\n",
       "  </tbody>\n",
       "</table>\n",
       "</div>"
      ],
      "text/plain": [
       "                name  inhabitants\n",
       "UNLOCODE                         \n",
       "DEDUS     Düsseldorf       620523\n",
       "DEMSR        Münster       316403"
      ]
     },
     "execution_count": 85,
     "metadata": {},
     "output_type": "execute_result"
    }
   ],
   "source": [
    "# Select multiple rows and columns\n",
    "nrw_cities.loc[['DEDUS', 'DEMSR'], ['name', 'inhabitants']]"
   ]
  },
  {
   "cell_type": "code",
   "execution_count": null,
   "metadata": {},
   "outputs": [],
   "source": [
    "nrw_cities.iloc[2, 1]  # third row is Münster, second column is inhabitants."
   ]
  },
  {
   "cell_type": "code",
   "execution_count": null,
   "metadata": {},
   "outputs": [],
   "source": [
    "# the more advanced sliciing options of Numpy are also supported\n",
    "nrw_cities.iloc[1:3, 0:2]  # first two columns of third rows two and three"
   ]
  },
  {
   "cell_type": "markdown",
   "metadata": {},
   "source": [
    "You can access individual columns by their column label. The result is a Pandas Series. The index labels are the same as before."
   ]
  },
  {
   "cell_type": "code",
   "execution_count": 86,
   "metadata": {},
   "outputs": [
    {
     "data": {
      "text/plain": [
       "UNLOCODE\n",
       "DEDUS     620523\n",
       "DEMSR     316403\n",
       "DEBFE     333509\n",
       "DEBON     330579\n",
       "DEWUP     355004\n",
       "DEDTM     587696\n",
       "DECGN    1083498\n",
       "DEESS     582415\n",
       "DEDUI     495885\n",
       "DEBOM     364454\n",
       "Name: inhabitants, dtype: int64"
      ]
     },
     "execution_count": 86,
     "metadata": {},
     "output_type": "execute_result"
    }
   ],
   "source": [
    "nrw_cities['inhabitants']"
   ]
  },
  {
   "cell_type": "markdown",
   "metadata": {},
   "source": [
    "## Adding Columns to a DataFrame\n",
    "To set the same value for all rows, simply assign it to the new column name:"
   ]
  },
  {
   "cell_type": "code",
   "execution_count": 87,
   "metadata": {},
   "outputs": [],
   "source": [
    "nrw_cities['state'] = 'NRW'"
   ]
  },
  {
   "cell_type": "code",
   "execution_count": 88,
   "metadata": {},
   "outputs": [
    {
     "data": {
      "text/html": [
       "<div>\n",
       "<style scoped>\n",
       "    .dataframe tbody tr th:only-of-type {\n",
       "        vertical-align: middle;\n",
       "    }\n",
       "\n",
       "    .dataframe tbody tr th {\n",
       "        vertical-align: top;\n",
       "    }\n",
       "\n",
       "    .dataframe thead th {\n",
       "        text-align: right;\n",
       "    }\n",
       "</style>\n",
       "<table border=\"1\" class=\"dataframe\">\n",
       "  <thead>\n",
       "    <tr style=\"text-align: right;\">\n",
       "      <th></th>\n",
       "      <th>name</th>\n",
       "      <th>inhabitants</th>\n",
       "      <th>population_density</th>\n",
       "      <th>state</th>\n",
       "    </tr>\n",
       "    <tr>\n",
       "      <th>UNLOCODE</th>\n",
       "      <th></th>\n",
       "      <th></th>\n",
       "      <th></th>\n",
       "      <th></th>\n",
       "    </tr>\n",
       "  </thead>\n",
       "  <tbody>\n",
       "    <tr>\n",
       "      <th>DEDUS</th>\n",
       "      <td>Düsseldorf</td>\n",
       "      <td>620523</td>\n",
       "      <td>2900</td>\n",
       "      <td>NRW</td>\n",
       "    </tr>\n",
       "    <tr>\n",
       "      <th>DEMSR</th>\n",
       "      <td>Münster</td>\n",
       "      <td>316403</td>\n",
       "      <td>1000</td>\n",
       "      <td>NRW</td>\n",
       "    </tr>\n",
       "    <tr>\n",
       "      <th>DEBFE</th>\n",
       "      <td>Bielefeld</td>\n",
       "      <td>333509</td>\n",
       "      <td>1289</td>\n",
       "      <td>NRW</td>\n",
       "    </tr>\n",
       "    <tr>\n",
       "      <th>DEBON</th>\n",
       "      <td>Bonn</td>\n",
       "      <td>330579</td>\n",
       "      <td>2343</td>\n",
       "      <td>NRW</td>\n",
       "    </tr>\n",
       "    <tr>\n",
       "      <th>DEWUP</th>\n",
       "      <td>Wuppertal</td>\n",
       "      <td>355004</td>\n",
       "      <td>2108</td>\n",
       "      <td>NRW</td>\n",
       "    </tr>\n",
       "    <tr>\n",
       "      <th>DEDTM</th>\n",
       "      <td>Dortmund</td>\n",
       "      <td>587696</td>\n",
       "      <td>2094</td>\n",
       "      <td>NRW</td>\n",
       "    </tr>\n",
       "    <tr>\n",
       "      <th>DECGN</th>\n",
       "      <td>Cologne</td>\n",
       "      <td>1083498</td>\n",
       "      <td>2700</td>\n",
       "      <td>NRW</td>\n",
       "    </tr>\n",
       "    <tr>\n",
       "      <th>DEESS</th>\n",
       "      <td>Essen</td>\n",
       "      <td>582415</td>\n",
       "      <td>2769</td>\n",
       "      <td>NRW</td>\n",
       "    </tr>\n",
       "    <tr>\n",
       "      <th>DEDUI</th>\n",
       "      <td>Duisburg</td>\n",
       "      <td>495885</td>\n",
       "      <td>2130</td>\n",
       "      <td>NRW</td>\n",
       "    </tr>\n",
       "    <tr>\n",
       "      <th>DEBOM</th>\n",
       "      <td>Bochum</td>\n",
       "      <td>364454</td>\n",
       "      <td>2502</td>\n",
       "      <td>NRW</td>\n",
       "    </tr>\n",
       "  </tbody>\n",
       "</table>\n",
       "</div>"
      ],
      "text/plain": [
       "                name  inhabitants  population_density state\n",
       "UNLOCODE                                                   \n",
       "DEDUS     Düsseldorf       620523                2900   NRW\n",
       "DEMSR        Münster       316403                1000   NRW\n",
       "DEBFE      Bielefeld       333509                1289   NRW\n",
       "DEBON           Bonn       330579                2343   NRW\n",
       "DEWUP      Wuppertal       355004                2108   NRW\n",
       "DEDTM       Dortmund       587696                2094   NRW\n",
       "DECGN        Cologne      1083498                2700   NRW\n",
       "DEESS          Essen       582415                2769   NRW\n",
       "DEDUI       Duisburg       495885                2130   NRW\n",
       "DEBOM         Bochum       364454                2502   NRW"
      ]
     },
     "execution_count": 88,
     "metadata": {},
     "output_type": "execute_result"
    }
   ],
   "source": [
    "nrw_cities"
   ]
  },
  {
   "cell_type": "markdown",
   "metadata": {},
   "source": [
    "But you can also use existing value and operations on column values (as with Numpy arrays):"
   ]
  },
  {
   "cell_type": "code",
   "execution_count": 91,
   "metadata": {},
   "outputs": [],
   "source": [
    "nrw_cities['is_megacity'] = nrw_cities['inhabitants'] > 1000000"
   ]
  },
  {
   "cell_type": "code",
   "execution_count": 92,
   "metadata": {},
   "outputs": [],
   "source": [
    "nrw_cities['area'] = nrw_cities['inhabitants'] / nrw_cities['population_density']"
   ]
  },
  {
   "cell_type": "code",
   "execution_count": 93,
   "metadata": {},
   "outputs": [
    {
     "data": {
      "text/html": [
       "<div>\n",
       "<style scoped>\n",
       "    .dataframe tbody tr th:only-of-type {\n",
       "        vertical-align: middle;\n",
       "    }\n",
       "\n",
       "    .dataframe tbody tr th {\n",
       "        vertical-align: top;\n",
       "    }\n",
       "\n",
       "    .dataframe thead th {\n",
       "        text-align: right;\n",
       "    }\n",
       "</style>\n",
       "<table border=\"1\" class=\"dataframe\">\n",
       "  <thead>\n",
       "    <tr style=\"text-align: right;\">\n",
       "      <th></th>\n",
       "      <th>name</th>\n",
       "      <th>inhabitants</th>\n",
       "      <th>population_density</th>\n",
       "      <th>state</th>\n",
       "      <th>is_megacity</th>\n",
       "      <th>area</th>\n",
       "    </tr>\n",
       "    <tr>\n",
       "      <th>UNLOCODE</th>\n",
       "      <th></th>\n",
       "      <th></th>\n",
       "      <th></th>\n",
       "      <th></th>\n",
       "      <th></th>\n",
       "      <th></th>\n",
       "    </tr>\n",
       "  </thead>\n",
       "  <tbody>\n",
       "    <tr>\n",
       "      <th>DEDUS</th>\n",
       "      <td>Düsseldorf</td>\n",
       "      <td>620523</td>\n",
       "      <td>2900</td>\n",
       "      <td>NRW</td>\n",
       "      <td>False</td>\n",
       "      <td>213.973448</td>\n",
       "    </tr>\n",
       "    <tr>\n",
       "      <th>DEMSR</th>\n",
       "      <td>Münster</td>\n",
       "      <td>316403</td>\n",
       "      <td>1000</td>\n",
       "      <td>NRW</td>\n",
       "      <td>False</td>\n",
       "      <td>316.403000</td>\n",
       "    </tr>\n",
       "    <tr>\n",
       "      <th>DEBFE</th>\n",
       "      <td>Bielefeld</td>\n",
       "      <td>333509</td>\n",
       "      <td>1289</td>\n",
       "      <td>NRW</td>\n",
       "      <td>False</td>\n",
       "      <td>258.734678</td>\n",
       "    </tr>\n",
       "    <tr>\n",
       "      <th>DEBON</th>\n",
       "      <td>Bonn</td>\n",
       "      <td>330579</td>\n",
       "      <td>2343</td>\n",
       "      <td>NRW</td>\n",
       "      <td>False</td>\n",
       "      <td>141.092190</td>\n",
       "    </tr>\n",
       "    <tr>\n",
       "      <th>DEWUP</th>\n",
       "      <td>Wuppertal</td>\n",
       "      <td>355004</td>\n",
       "      <td>2108</td>\n",
       "      <td>NRW</td>\n",
       "      <td>False</td>\n",
       "      <td>168.407970</td>\n",
       "    </tr>\n",
       "    <tr>\n",
       "      <th>DEDTM</th>\n",
       "      <td>Dortmund</td>\n",
       "      <td>587696</td>\n",
       "      <td>2094</td>\n",
       "      <td>NRW</td>\n",
       "      <td>False</td>\n",
       "      <td>280.657116</td>\n",
       "    </tr>\n",
       "    <tr>\n",
       "      <th>DECGN</th>\n",
       "      <td>Cologne</td>\n",
       "      <td>1083498</td>\n",
       "      <td>2700</td>\n",
       "      <td>NRW</td>\n",
       "      <td>True</td>\n",
       "      <td>401.295556</td>\n",
       "    </tr>\n",
       "    <tr>\n",
       "      <th>DEESS</th>\n",
       "      <td>Essen</td>\n",
       "      <td>582415</td>\n",
       "      <td>2769</td>\n",
       "      <td>NRW</td>\n",
       "      <td>False</td>\n",
       "      <td>210.334056</td>\n",
       "    </tr>\n",
       "    <tr>\n",
       "      <th>DEDUI</th>\n",
       "      <td>Duisburg</td>\n",
       "      <td>495885</td>\n",
       "      <td>2130</td>\n",
       "      <td>NRW</td>\n",
       "      <td>False</td>\n",
       "      <td>232.809859</td>\n",
       "    </tr>\n",
       "    <tr>\n",
       "      <th>DEBOM</th>\n",
       "      <td>Bochum</td>\n",
       "      <td>364454</td>\n",
       "      <td>2502</td>\n",
       "      <td>NRW</td>\n",
       "      <td>False</td>\n",
       "      <td>145.665068</td>\n",
       "    </tr>\n",
       "  </tbody>\n",
       "</table>\n",
       "</div>"
      ],
      "text/plain": [
       "                name  inhabitants  population_density state  is_megacity  \\\n",
       "UNLOCODE                                                                   \n",
       "DEDUS     Düsseldorf       620523                2900   NRW        False   \n",
       "DEMSR        Münster       316403                1000   NRW        False   \n",
       "DEBFE      Bielefeld       333509                1289   NRW        False   \n",
       "DEBON           Bonn       330579                2343   NRW        False   \n",
       "DEWUP      Wuppertal       355004                2108   NRW        False   \n",
       "DEDTM       Dortmund       587696                2094   NRW        False   \n",
       "DECGN        Cologne      1083498                2700   NRW         True   \n",
       "DEESS          Essen       582415                2769   NRW        False   \n",
       "DEDUI       Duisburg       495885                2130   NRW        False   \n",
       "DEBOM         Bochum       364454                2502   NRW        False   \n",
       "\n",
       "                area  \n",
       "UNLOCODE              \n",
       "DEDUS     213.973448  \n",
       "DEMSR     316.403000  \n",
       "DEBFE     258.734678  \n",
       "DEBON     141.092190  \n",
       "DEWUP     168.407970  \n",
       "DEDTM     280.657116  \n",
       "DECGN     401.295556  \n",
       "DEESS     210.334056  \n",
       "DEDUI     232.809859  \n",
       "DEBOM     145.665068  "
      ]
     },
     "execution_count": 93,
     "metadata": {},
     "output_type": "execute_result"
    }
   ],
   "source": [
    "nrw_cities"
   ]
  },
  {
   "cell_type": "markdown",
   "metadata": {},
   "source": [
    "## Filtering Rows\n",
    "To filter rows, there are essentially two options\n",
    "* Boolean masking (as with Numpy arrays)\n",
    "* Using the [`query`](https://pandas.pydata.org/pandas-docs/stable/reference/api/pandas.DataFrame.query.html) function"
   ]
  },
  {
   "cell_type": "code",
   "execution_count": 94,
   "metadata": {},
   "outputs": [
    {
     "data": {
      "text/html": [
       "<div>\n",
       "<style scoped>\n",
       "    .dataframe tbody tr th:only-of-type {\n",
       "        vertical-align: middle;\n",
       "    }\n",
       "\n",
       "    .dataframe tbody tr th {\n",
       "        vertical-align: top;\n",
       "    }\n",
       "\n",
       "    .dataframe thead th {\n",
       "        text-align: right;\n",
       "    }\n",
       "</style>\n",
       "<table border=\"1\" class=\"dataframe\">\n",
       "  <thead>\n",
       "    <tr style=\"text-align: right;\">\n",
       "      <th></th>\n",
       "      <th>name</th>\n",
       "      <th>inhabitants</th>\n",
       "      <th>population_density</th>\n",
       "      <th>state</th>\n",
       "      <th>is_megacity</th>\n",
       "      <th>area</th>\n",
       "    </tr>\n",
       "    <tr>\n",
       "      <th>UNLOCODE</th>\n",
       "      <th></th>\n",
       "      <th></th>\n",
       "      <th></th>\n",
       "      <th></th>\n",
       "      <th></th>\n",
       "      <th></th>\n",
       "    </tr>\n",
       "  </thead>\n",
       "  <tbody>\n",
       "    <tr>\n",
       "      <th>DEMSR</th>\n",
       "      <td>Münster</td>\n",
       "      <td>316403</td>\n",
       "      <td>1000</td>\n",
       "      <td>NRW</td>\n",
       "      <td>False</td>\n",
       "      <td>316.403000</td>\n",
       "    </tr>\n",
       "    <tr>\n",
       "      <th>DEBFE</th>\n",
       "      <td>Bielefeld</td>\n",
       "      <td>333509</td>\n",
       "      <td>1289</td>\n",
       "      <td>NRW</td>\n",
       "      <td>False</td>\n",
       "      <td>258.734678</td>\n",
       "    </tr>\n",
       "    <tr>\n",
       "      <th>DEBON</th>\n",
       "      <td>Bonn</td>\n",
       "      <td>330579</td>\n",
       "      <td>2343</td>\n",
       "      <td>NRW</td>\n",
       "      <td>False</td>\n",
       "      <td>141.092190</td>\n",
       "    </tr>\n",
       "    <tr>\n",
       "      <th>DEWUP</th>\n",
       "      <td>Wuppertal</td>\n",
       "      <td>355004</td>\n",
       "      <td>2108</td>\n",
       "      <td>NRW</td>\n",
       "      <td>False</td>\n",
       "      <td>168.407970</td>\n",
       "    </tr>\n",
       "    <tr>\n",
       "      <th>DEBOM</th>\n",
       "      <td>Bochum</td>\n",
       "      <td>364454</td>\n",
       "      <td>2502</td>\n",
       "      <td>NRW</td>\n",
       "      <td>False</td>\n",
       "      <td>145.665068</td>\n",
       "    </tr>\n",
       "  </tbody>\n",
       "</table>\n",
       "</div>"
      ],
      "text/plain": [
       "               name  inhabitants  population_density state  is_megacity  \\\n",
       "UNLOCODE                                                                  \n",
       "DEMSR       Münster       316403                1000   NRW        False   \n",
       "DEBFE     Bielefeld       333509                1289   NRW        False   \n",
       "DEBON          Bonn       330579                2343   NRW        False   \n",
       "DEWUP     Wuppertal       355004                2108   NRW        False   \n",
       "DEBOM        Bochum       364454                2502   NRW        False   \n",
       "\n",
       "                area  \n",
       "UNLOCODE              \n",
       "DEMSR     316.403000  \n",
       "DEBFE     258.734678  \n",
       "DEBON     141.092190  \n",
       "DEWUP     168.407970  \n",
       "DEBOM     145.665068  "
      ]
     },
     "execution_count": 94,
     "metadata": {},
     "output_type": "execute_result"
    }
   ],
   "source": [
    "nrw_cities.loc[nrw_cities['inhabitants'] < 400000, :]  # also works in combination with .iloc"
   ]
  },
  {
   "cell_type": "code",
   "execution_count": 95,
   "metadata": {},
   "outputs": [
    {
     "data": {
      "text/html": [
       "<div>\n",
       "<style scoped>\n",
       "    .dataframe tbody tr th:only-of-type {\n",
       "        vertical-align: middle;\n",
       "    }\n",
       "\n",
       "    .dataframe tbody tr th {\n",
       "        vertical-align: top;\n",
       "    }\n",
       "\n",
       "    .dataframe thead th {\n",
       "        text-align: right;\n",
       "    }\n",
       "</style>\n",
       "<table border=\"1\" class=\"dataframe\">\n",
       "  <thead>\n",
       "    <tr style=\"text-align: right;\">\n",
       "      <th></th>\n",
       "      <th>name</th>\n",
       "      <th>inhabitants</th>\n",
       "      <th>population_density</th>\n",
       "      <th>state</th>\n",
       "      <th>is_megacity</th>\n",
       "      <th>area</th>\n",
       "    </tr>\n",
       "    <tr>\n",
       "      <th>UNLOCODE</th>\n",
       "      <th></th>\n",
       "      <th></th>\n",
       "      <th></th>\n",
       "      <th></th>\n",
       "      <th></th>\n",
       "      <th></th>\n",
       "    </tr>\n",
       "  </thead>\n",
       "  <tbody>\n",
       "    <tr>\n",
       "      <th>DEMSR</th>\n",
       "      <td>Münster</td>\n",
       "      <td>316403</td>\n",
       "      <td>1000</td>\n",
       "      <td>NRW</td>\n",
       "      <td>False</td>\n",
       "      <td>316.403000</td>\n",
       "    </tr>\n",
       "    <tr>\n",
       "      <th>DEBFE</th>\n",
       "      <td>Bielefeld</td>\n",
       "      <td>333509</td>\n",
       "      <td>1289</td>\n",
       "      <td>NRW</td>\n",
       "      <td>False</td>\n",
       "      <td>258.734678</td>\n",
       "    </tr>\n",
       "    <tr>\n",
       "      <th>DEBON</th>\n",
       "      <td>Bonn</td>\n",
       "      <td>330579</td>\n",
       "      <td>2343</td>\n",
       "      <td>NRW</td>\n",
       "      <td>False</td>\n",
       "      <td>141.092190</td>\n",
       "    </tr>\n",
       "    <tr>\n",
       "      <th>DEWUP</th>\n",
       "      <td>Wuppertal</td>\n",
       "      <td>355004</td>\n",
       "      <td>2108</td>\n",
       "      <td>NRW</td>\n",
       "      <td>False</td>\n",
       "      <td>168.407970</td>\n",
       "    </tr>\n",
       "    <tr>\n",
       "      <th>DEBOM</th>\n",
       "      <td>Bochum</td>\n",
       "      <td>364454</td>\n",
       "      <td>2502</td>\n",
       "      <td>NRW</td>\n",
       "      <td>False</td>\n",
       "      <td>145.665068</td>\n",
       "    </tr>\n",
       "  </tbody>\n",
       "</table>\n",
       "</div>"
      ],
      "text/plain": [
       "               name  inhabitants  population_density state  is_megacity  \\\n",
       "UNLOCODE                                                                  \n",
       "DEMSR       Münster       316403                1000   NRW        False   \n",
       "DEBFE     Bielefeld       333509                1289   NRW        False   \n",
       "DEBON          Bonn       330579                2343   NRW        False   \n",
       "DEWUP     Wuppertal       355004                2108   NRW        False   \n",
       "DEBOM        Bochum       364454                2502   NRW        False   \n",
       "\n",
       "                area  \n",
       "UNLOCODE              \n",
       "DEMSR     316.403000  \n",
       "DEBFE     258.734678  \n",
       "DEBON     141.092190  \n",
       "DEWUP     168.407970  \n",
       "DEBOM     145.665068  "
      ]
     },
     "execution_count": 95,
     "metadata": {},
     "output_type": "execute_result"
    }
   ],
   "source": [
    "nrw_cities.query('inhabitants < 400000')"
   ]
  },
  {
   "cell_type": "markdown",
   "metadata": {},
   "source": [
    "## Sorting the DataFrame\n",
    "DataFrames [can be sorted](https://pandas.pydata.org/pandas-docs/stable/reference/api/pandas.DataFrame.sort_values.html) by one or multiple columns."
   ]
  },
  {
   "cell_type": "code",
   "execution_count": null,
   "metadata": {},
   "outputs": [],
   "source": [
    "nrw_cities.sort_values('inhabitants').head(2)  # the two smallest cities (by number of inhabitants), since we sort from small to large"
   ]
  },
  {
   "cell_type": "code",
   "execution_count": null,
   "metadata": {},
   "outputs": [],
   "source": [
    "# Now, let's sort by two columns\n",
    "nrw_cities.sort_values(['state', 'inhabitants'], ascending=False).head(2)  # the two largest cities (by number of inhabitants), since we sort from small to large"
   ]
  },
  {
   "cell_type": "markdown",
   "metadata": {},
   "source": [
    "## Math using Pandas DataFrames\n",
    "Since pandas makes use of Numpy arrays under the hood, the way to e.g. take the sum of values is very similar to numpy."
   ]
  },
  {
   "cell_type": "code",
   "execution_count": null,
   "metadata": {},
   "outputs": [],
   "source": [
    "print(f'total number of inhabitants is {nrw_cities[\"inhabitants\"].sum()}')  # a single column is a 1-dimensional array, so we do not need to specify the axis"
   ]
  },
  {
   "cell_type": "markdown",
   "metadata": {},
   "source": [
    "## Plotting Data\n",
    "Plotting will be discussed in more detail in [Lecture 15](https://github.com/ReDI-School/nrw-intro-to-python/tree/master/lecture-15). Pandas however has some [built-in functionality](https://pandas.pydata.org/docs/user_guide/visualization.html) (building on the same library that will be used in Lecture 15) to produce easy plots from tabular data."
   ]
  },
  {
   "cell_type": "code",
   "execution_count": 96,
   "metadata": {},
   "outputs": [],
   "source": [
    "# don't worry about anything in this cell, you will learn more about it in lecture 15\n",
    "import matplotlib.pylab as plt  \n",
    "plt.close(\"all\")\n",
    "%matplotlib inline"
   ]
  },
  {
   "cell_type": "code",
   "execution_count": 97,
   "metadata": {},
   "outputs": [
    {
     "data": {
      "text/plain": [
       "<AxesSubplot:xlabel='UNLOCODE'>"
      ]
     },
     "execution_count": 97,
     "metadata": {},
     "output_type": "execute_result"
    },
    {
     "data": {
      "image/png": "[encoded data removed]",
      "text/plain": [
       "<Figure size 432x288 with 1 Axes>"
      ]
     },
     "metadata": {
      "needs_background": "light"
     },
     "output_type": "display_data"
    }
   ],
   "source": [
    "# we can plot the values of single columns. The row indices will be used on the x-axis\n",
    "nrw_cities['inhabitants'].plot(kind='bar')"
   ]
  },
  {
   "cell_type": "code",
   "execution_count": 98,
   "metadata": {},
   "outputs": [
    {
     "data": {
      "text/plain": [
       "<AxesSubplot:title={'center':'Number of People vs. Area for Cities in NRW'}, xlabel='Area in km²', ylabel='Number of Inhabitants'>"
      ]
     },
     "execution_count": 98,
     "metadata": {},
     "output_type": "execute_result"
    },
    {
     "data": {
      "image/png": "[encoded data removed]",
      "text/plain": [
       "<Figure size 432x288 with 1 Axes>"
      ]
     },
     "metadata": {
      "needs_background": "light"
     },
     "output_type": "display_data"
    }
   ],
   "source": [
    "# Alternatively, we can plot two columns against each other\n",
    "nrw_cities.plot(\n",
    "    x='area',  # column name from which to take x-coordinate\n",
    "    y='inhabitants',  # column name from which to take the y-coordinate\n",
    "    kind='scatter',  # tell pandas to do a scatter plot\n",
    "    title='Number of People vs. Area for Cities in NRW',  # title\n",
    "    xlabel='Area in km²',  # axis label for x-axis of the chart\n",
    "    ylabel='Number of Inhabitants'  # axis label for y-axis of the chart\n",
    ")"
   ]
  },
  {
   "cell_type": "markdown",
   "metadata": {},
   "source": [
    "## Storing data\n",
    "Very similar to loading data, we can store dataframes in a variety of formats (c.f. [list of IO Formats](https://pandas.pydata.org/pandas-docs/stable/user_guide/io.html#io))."
   ]
  },
  {
   "cell_type": "code",
   "execution_count": 99,
   "metadata": {},
   "outputs": [],
   "source": [
    "nrw_cities.to_csv('expanded_city_data.csv', sep=';')  # by default, index labels are stored as well"
   ]
  }
 ],
 "metadata": {
  "kernelspec": {
   "display_name": "Python 3 (ipykernel)",
   "language": "python",
   "name": "python3"
  },
  "language_info": {
   "codemirror_mode": {
    "name": "ipython",
    "version": 3
   },
   "file_extension": ".py",
   "mimetype": "text/x-python",
   "name": "python",
   "nbconvert_exporter": "python",
   "pygments_lexer": "ipython3",
   "version": "3.9.6"
  }
 },
 "nbformat": 4,
 "nbformat_minor": 4
}
