{
 "metadata": {
  "language_info": {
   "codemirror_mode": {
    "name": "ipython",
    "version": 3
   },
   "file_extension": ".py",
   "mimetype": "text/x-python",
   "name": "python",
   "nbconvert_exporter": "python",
   "pygments_lexer": "ipython3",
   "version": "3.9.0-final"
  },
  "orig_nbformat": 2,
  "kernelspec": {
   "name": "python3",
   "display_name": "Python 3.9.0 64-bit",
   "metadata": {
    "interpreter": {
     "hash": "1cf512218a7815c24febbf9d1ede7dfb8005ef2acd30d93f395575b8166bab09"
    }
   }
  }
 },
 "nbformat": 4,
 "nbformat_minor": 2,
 "cells": [
  {
   "source": [
    "# REST APIs\n",
    "\n",
    "Today's lesson is all about REST APIs - if these letters mean nothing to you yet, strap in.  \n",
    "\n",
    "In day to day development we often come across problems that someone else already solved. This\n",
    "deep in the course you all are aware that reinventing the wheel is never a great idea.  \n",
    "\n",
    "While many solutions can be accessed by importing libraries, others are provided via Application\n",
    "Programming Interfaces, or APIs. Often, APIs are used to gain access to data of all sorts. This\n",
    "means **C**reating, **R**eading, **U**pdating and **D**eleting data. We refer to these four atomic operations\n",
    "as CRUD operations.\n",
    "\n",
    "A special type of API is the REST API, or Representational State Transfer API. These well defined\n",
    "APIs are a staple in software development. You will for example find that all popular cloud providers\n",
    "offer a REST API to give programmatic access to resources.\n",
    "\n",
    "The great benefit of these APIs is the simplicity of them. While other data sources might require\n",
    "you to install countless additional packages, SDKs and so on, a REST API is just a web service\n",
    "running in the cloud or in an on-premises data center. We access these APIs with HTTP requests\n",
    "and the data exchange is done via JSON (Javascript Object Notation).\n",
    "\n",
    "Consuming an API endpoint can be done with even the simplest of tools. All you need is\n",
    "a way of invoking an URL, optionally with some data. With Python, this ability\n",
    "is introduced by means of the `requests` module.\n",
    "\n",
    "So, before continuing to run the examples, be sure to install this library!  \n",
    "```bash\n",
    "pip list\n",
    "pip install requests\n",
    "```\n",
    "\n",
    "## Accessing an API\n",
    "\n",
    "Before we delve into Python, we need to examine APIs a bit more. Specifically the URL format\n",
    "used by all APIs, as well as the different ways of passing parameters to these APIs.  \n",
    "\n",
    "Across all providers, APIs usually consist of multiple endpoints. A Weather API might for example\n",
    "contain seperate API endpoints to retrieve either the forecast, or the current weather, or\n",
    "specific weather information like aeronautical or agricultural weather.\n",
    "\n",
    "Generally speaking, each endpoint is used to manipulate one type of objects. We can usually\n",
    "infer the object type roughly by just looking at the URL.\n",
    "\n",
    "```output\n",
    "/posts      100 posts\n",
    "/comments   500 comments\n",
    "/albums     100 albums\n",
    "/photos     5000 photos\n",
    "/todos      200 todos\n",
    "/users      10 users\n",
    "```  \n",
    "\n",
    "In the previous example, the endpoint names already make it clear what we can expect to get back from each endpoint.\n",
    "The users endpoint for example will let you access up to 10 user objects, however they may\n",
    "look like.\n",
    "\n",
    "Since we access REST APIs through HTTP, we use different HTTP verbs in order to interact with the\n",
    "endpoint. The same endpoint will behave differently depending on the verb used. Reading data for example\n",
    "is different to updating data."
   ],
   "cell_type": "markdown",
   "metadata": {}
  },
  {
   "source": [
    "For our next operations we will use a fake API you can test against, hosted at <https://jsonplaceholder.typicode.com>.\n",
    "This API allows us to test all operations by simulating the result. We will start with the R in CRUD, Read, before\n",
    "we start to manipulate the data returned by the API.\n",
    "\n",
    "### Read (GET)\n",
    "\n",
    "The HTTP verb GET is used to do read operations against an API. In our next sample, we try the unbounded\n",
    "read first. The API endpoint, as its documentation states, returns 10 user objects. While we have no clue\n",
    "as to how they are stored we do know the data type we get: A dictionary.\n",
    "\n",
    "The data used within the API likely exists as some type of object, but everytime we hit the API the\n",
    "objects are serialized to a JSON string. They are quite literally deconstructed, sent over the wire\n",
    "and reconstructed or deserialized on the other end.\n",
    "\n",
    "Not all data types are easy to serialize, but this should not be of concern when you are consuming\n",
    "the API. When developing your own API though this is something to watch out for."
   ],
   "cell_type": "markdown",
   "metadata": {}
  },
  {
   "cell_type": "code",
   "execution_count": null,
   "metadata": {},
   "outputs": [],
   "source": [
    "import requests\n",
    "response = requests.get('https://jsonplaceholder.typicode.com/users')\n",
    "\n",
    "print(response)\n",
    "\n",
    "# The response contains a response code of 200, indicating a success\n",
    "# This means we can decode the JSON reply of the API back to a dictionary\n",
    "# The response here is a list of objects\n",
    "print(type(response.json())) # <class 'list'>\n",
    "\n",
    "# And the individual entry is a dictionary\n",
    "# This will be the first object, here: The User with ID 1\n",
    "print(type(response.json()[0])) # <class 'dict'>\n"
   ]
  },
  {
   "cell_type": "code",
   "execution_count": null,
   "metadata": {},
   "outputs": [],
   "source": [
    "print(response.status_code)\n",
    "\n",
    "if response.status_code == requests.codes.ok: # First of all, check if Server responded well :)\n",
    "    # json() method -> Parse the text returned by the server and translate it to objects\n",
    "    # This Process is called Serialization (Disassembly) and Deserialization (Reassembly)\n",
    "    for r in response.json():\n",
    "        print('Found user ID ' + str(r['id']) + ' belonging to ' + r['name'])\n",
    "        \n",
    "        # As with any dictionary, you can freely access nested keys and values\n",
    "        print('This user lives in ' + r['address']['city'])"
   ]
  },
  {
   "source": [
    "With every request, we get a list of objects back. Filtering them after having essentially\n",
    "downloaded everything has a very bad performance. As a general rule, try to filter as\n",
    "early as possible. In this case, the API can filter for us before returning the data\n",
    "to our program.  \n",
    "\n",
    "There are of course different ways of providing parameter values to an API call. It is best\n",
    "to just consult the documentation if it exists. In the following example, we use\n",
    "a query string. Query strings are part of the URL and are initiated with a question mark.\n",
    "Individual parameters can be separated using an ampersand `&`."
   ],
   "cell_type": "markdown",
   "metadata": {}
  },
  {
   "cell_type": "code",
   "execution_count": null,
   "metadata": {},
   "outputs": [],
   "source": [
    "import requests # requires you to use: pip install requests\n",
    "# The ID carries a special meaning, we can use it directly as part of the URL\n",
    "response = requests.get('https://jsonplaceholder.typicode.com/users/9')\n",
    "user = response.json()\n",
    "print('Retrieved single user ' + user['name'])\n",
    "\n",
    "# What happens, when the Resource does not exist?\n",
    "# Resource not found -> Return code 404\n",
    "response = requests.get('https://jsonplaceholder.typicode.com/users/42')\n",
    "print(response.status_code)"
   ]
  },
  {
   "cell_type": "code",
   "execution_count": null,
   "metadata": {},
   "outputs": [],
   "source": [
    "# We can do a similar operation using a Query string\n",
    "# Notice that the result of a Query is a list, even if it only contains one object\n",
    "response = requests.get('https://jsonplaceholder.typicode.com/users?id=1')\n",
    "user = response.json()\n",
    "print('Retrieved single user ' + user[0]['name'])"
   ]
  },
  {
   "cell_type": "code",
   "execution_count": null,
   "metadata": {},
   "outputs": [],
   "source": [
    "# The query string can be very flexible if implemented in the API\n",
    "response = requests.get('https://jsonplaceholder.typicode.com/users?name=Leanne%20Graham')\n",
    "user = response.json()\n",
    "print('Retrieved single user ' + user[0]['name'])"
   ]
  },
  {
   "source": [
    "### Create (POST)\n",
    "\n",
    "The first method in our CRUD methods is Create which is implemented using the HTTP verb PUT.\n",
    "The data for the object that is created by the PUT verb is passed either using a Query string\n",
    "or via the request body. APIs often allow both, but refer to the documentation of the API first.  \n",
    "\n",
    "To continue with our example, we want to create a new user, with some additional properties set  \n",
    "like the address of the account. To this end, we create a new dictionary that contains the\n",
    "necessary data.\n"
   ],
   "cell_type": "markdown",
   "metadata": {}
  },
  {
   "cell_type": "code",
   "execution_count": null,
   "metadata": {},
   "outputs": [],
   "source": [
    "user = {\n",
    "  \"name\": \"Bobby Tables\",\n",
    "  \"username\": \"roberta_tables\",\n",
    "  \"company\": {\n",
    "      \"name\" : \"A Company\"\n",
    "  }\n",
    "}\n",
    "print(user)\n",
    "response = requests.post('https://jsonplaceholder.typicode.com/users', data = user)\n",
    "print(response.status_code)\n",
    "print(response.json()['name'])"
   ]
  },
  {
   "source": [
    "### Update (PUT, PATCH)\n",
    "\n",
    "In order to update individual objects, either PUT or PATCH are used. Do not be confused however;\n",
    "PUT is used to replace an entire object - the object is PUT in place of the previous.\n",
    "PATCH is used to update (or patch) individual object properties rather than replace the entire thing.\n",
    "\n",
    "Again, the API documentation is very important. Your API endpoint might not support\n",
    "all verbs, or for example will require you to use PUT to update an object's properties.  \n",
    "\n",
    "In the following example, PUT is used to replace the entire object stored with ID 1 with an\n",
    "object with one changed property."
   ],
   "cell_type": "markdown",
   "metadata": {}
  },
  {
   "cell_type": "code",
   "execution_count": null,
   "metadata": {},
   "outputs": [],
   "source": [
    "# Typically, we update a resource that has been retrieved before\n",
    "user_uri = 'https://jsonplaceholder.typicode.com/users/1'\n",
    "response = requests.get(user_uri)\n",
    "user = response.json()\n",
    "user['email'] = 'info@python'\n",
    "response = requests.put(user_uri, data = user)\n",
    "print(response.json())"
   ]
  },
  {
   "source": [
    "Using the PATCH method, we do not need to replace an object, but rather just replace one individual property."
   ],
   "cell_type": "markdown",
   "metadata": {}
  },
  {
   "cell_type": "code",
   "execution_count": null,
   "metadata": {},
   "outputs": [],
   "source": [
    "# Typically, we update a resource that has been retrieved before\n",
    "user_uri = 'https://jsonplaceholder.typicode.com/users/1'\n",
    "updated_properties = {'email' : 'info@python'}\n",
    "response = requests.patch(user_uri, data = updated_properties)\n",
    "print(response.json())"
   ]
  },
  {
   "source": [
    "### Delete (DELETE)\n",
    "\n",
    "The last CRUD method regards the deletion of objects from an API. Much like the other\n",
    "methods, DELETE can be used:  \n",
    "- On a resource reference: `https://jsonplaceholder.typicode.com/users/1`\n",
    "- With a query string: `https://jsonplaceholder.typicode.com/users?name=john`\n",
    "- With a request body (JSON content): `{name = \"john\"}`\n",
    "\n",
    "The most commonplace implementation of a DELETE would usually be a direct resource\n",
    "reference, with neither the query string nor a request body necessary."
   ],
   "cell_type": "markdown",
   "metadata": {}
  },
  {
   "cell_type": "code",
   "execution_count": null,
   "metadata": {},
   "outputs": [],
   "source": [
    "# A very simple deletion\n",
    "# Response code 200 indicates a successful operation\n",
    "user_uri = 'https://jsonplaceholder.typicode.com/users/1'\n",
    "response = requests.delete(user_uri)\n",
    "print(response)"
   ]
  },
  {
   "cell_type": "code",
   "execution_count": null,
   "metadata": {},
   "outputs": [],
   "source": [
    "# Here, our API responds with a non-200 code, 404\n",
    "# This is a good indicator that our operation did not work.\n",
    "user_uri = 'https://jsonplaceholder.typicode.com/users?id=1'\n",
    "response = requests.delete(user_uri)\n",
    "print(response)"
   ]
  },
  {
   "cell_type": "code",
   "execution_count": null,
   "metadata": {},
   "outputs": [],
   "source": []
  }
 ]
}