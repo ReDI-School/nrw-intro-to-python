{
 "metadata": {
  "language_info": {
   "codemirror_mode": {
    "name": "ipython",
    "version": 3
   },
   "file_extension": ".py",
   "mimetype": "text/x-python",
   "name": "python",
   "nbconvert_exporter": "python",
   "pygments_lexer": "ipython3",
   "version": "3.8.5-final"
  },
  "orig_nbformat": 2,
  "kernelspec": {
   "name": "Python 3.8.5 32-bit",
   "display_name": "Python 3.8.5 32-bit",
   "metadata": {
    "interpreter": {
     "hash": "72f90aae225b33e48d7a8501261e124c854c63d7c499cae684ff05072378f77c"
    }
   }
  }
 },
 "nbformat": 4,
 "nbformat_minor": 2,
 "cells": [
  {
   "source": [
    "# REST APIs\n",
    "\n",
    "Today's lesson is all about REST APIs - if these letters mean nothing to you yet, strap in.  \n",
    "\n",
    "In day to day development we often come across problems that someone else already solved. This\n",
    "deep in the course you all are aware that reinventing the wheel is never a great idea.  \n",
    "\n",
    "While many solutions can be accessed by importing libraries, others are provided via Application\n",
    "Programming Interfaces, or APIs. Often, APIs are used to gain access to data of all sorts. This\n",
    "means **C**reating, **R**eading, **U**pdating and **D**eleting data. We refer to these four atomic operations\n",
    "as CRUD operations.\n",
    "\n",
    "A special type of API is the REST API, or Representational State Transfer API. These well defined\n",
    "APIs are a staple in software development. You will for example find that all popular cloud providers\n",
    "offer a REST API to give programmatic access to resources.\n",
    "\n",
    "The great benefit of these APIs is the simplicity of them. While other data sources might require\n",
    "you to install countless additional packages, SDKs and so on, a REST API is just a web service\n",
    "running in the cloud or in an on-premises data center. We access these APIs with HTTP requests\n",
    "and the data exchange is done via JSON (Javascript Object Notation).\n",
    "\n",
    "Consuming an API endpoint can be done with even the simplest of tools. All you need is\n",
    "a way of invoking an URL, optionally with some data. With Python, this ability\n",
    "is introduced by means of the `requests` module.\n",
    "\n",
    "So, before continuing to run the examples, be sure to install this library!  \n",
    "```bash\n",
    "pip install requests\n",
    "```\n",
    "\n",
    "## Accessing an API\n",
    "\n",
    "Before we delve into Python, we need to examine APIs a bit more. Specifically the URL format\n",
    "used by all APIs, as well as the different ways of passing parameters to these APIs.  \n",
    "\n",
    "Across all providers, APIs usually consist of multiple endpoints. A Weather API might for example\n",
    "contain seperate API endpoints to retrieve either the forecast, or the current weather, or\n",
    "specific weather information like aeronautical or agricultural weather.\n",
    "\n",
    "Generally speaking, each endpoint is used to manipulate one type of objects. We can usually\n",
    "infer the object type roughly by just looking at the URL.\n",
    "\n",
    "```output\n",
    "/posts      100 posts\n",
    "/comments   500 comments\n",
    "/albums     100 albums\n",
    "/photos     5000 photos\n",
    "/todos      200 todos\n",
    "/users      10 users\n",
    "```  \n",
    "\n",
    "In the previous example, the endpoint names already make it clear what we can expect to get back from each endpoint.\n",
    "The users endpoint for example will let you access up to 10 user objects, however they may\n",
    "look like.\n",
    "\n",
    "Since we access REST APIs through HTTP, we use different HTTP verbs in order to interact with the\n",
    "endpoint. The same endpoint will behave differently depending on the verb used. Reading data for example\n",
    "is obviously different to updating data."
   ],
   "cell_type": "markdown",
   "metadata": {}
  },
  {
   "source": [
    "For our next operations we will use a fake API you can test against, hosted at <https://jsonplaceholder.typicode.com>.\n",
    "This API allows us to test all operations by simulating the result. We will start with the R in CRUD, Read, before\n",
    "we start to manipulate the data returned by the API.\n",
    "\n",
    "### Read (GET)\n",
    "\n",
    "The HTTP verb GET is used to do read operations against an API. In our next sample, we try the unbounded\n",
    "read first. The API endpoint, as its documentation states, returns 10 user objects. While we have no clue\n",
    "as to how they are stored we do know the data type we get: A dictionary.\n",
    "\n",
    "The data used within the API likely exists as some type of object, but everytime we hit the API the\n",
    "objects are serialized to a JSON string. They are quite literally deconstructed, sent over the wire\n",
    "and reconstructed or deserialized on the other end.\n",
    "\n",
    "Not all data types are easy to serialize, but this should not be of concern when you are consuming\n",
    "the API. When developing your own API though this is something to watch out for."
   ],
   "cell_type": "markdown",
   "metadata": {}
  },
  {
   "cell_type": "code",
   "execution_count": null,
   "metadata": {},
   "outputs": [],
   "source": [
    "import requests\n",
    "response = requests.get('https://jsonplaceholder.typicode.com/users')\n",
    "\n",
    "# The response contains a response code of 200, indicating a success\n",
    "# This means we can decode the JSON reply of the API back to a dictionary\n",
    "if response.status_code == requests.codes.ok:\n",
    "    for r in response.json():\n",
    "        print('Found user ID ' + str(r['id']) + ' belonging to ' + r['name'])\n",
    "        \n",
    "        # As with any dictionary, you can freely access nested keys and values\n",
    "        print('This user lives in ' + r['address']['city'])"
   ]
  },
  {
   "source": [
    "With every request, we get a list of objects back. Filtering them after having essentially\n",
    "downloaded everything has a very bad performance. As a general rule, try to filter as\n",
    "early as possible. In this case, the API can filter for us before returning the data\n",
    "to our program."
   ],
   "cell_type": "markdown",
   "metadata": {}
  },
  {
   "cell_type": "code",
   "execution_count": null,
   "metadata": {},
   "outputs": [],
   "source": [
    "# The ID carries a special meaning, we can use it directly as part of the URL\n",
    "response = requests.get('https://jsonplaceholder.typicode.com/users/1')\n",
    "deserializedResponse = response.json()\n",
    "print('Retrieved single user ' + deserializedResponse['name'])"
   ]
  },
  {
   "cell_type": "code",
   "execution_count": null,
   "metadata": {},
   "outputs": [],
   "source": [
    "# We can do a similar operation using a Query string\n",
    "# Notice that the result of a Query is a list, even if it only contains one object\n",
    "response = requests.get('https://jsonplaceholder.typicode.com/users?id=1')\n",
    "deserializedResponse = response.json()\n",
    "print('Retrieved single user ' + deserializedResponse[0]['name'])"
   ]
  },
  {
   "cell_type": "code",
   "execution_count": null,
   "metadata": {},
   "outputs": [],
   "source": [
    "# The query string can be very flexible if implemented in the API\n",
    "response = requests.get('https://jsonplaceholder.typicode.com/users?name=Leanne%20Graham')\n",
    "deserializedResponse = response.json()\n",
    "print('Retrieved single user ' + deserializedResponse[0]['name'])"
   ]
  },
  {
   "source": [
    "### Create (PUT)\n",
    "\n",
    "The first method in our CRUD methods is Create which is implemented using the HTTP verb PUT.\n",
    "The data for the object that is created by the PUT verb is passed either using a Query string\n",
    "or via the request body. APIs often allow both, but refer to the documentation of the API first.  \n",
    "\n",
    "To continue with our example, we want to create a new user, with some additional properties set  \n",
    "like the address of the account. To this end, we create a new dictionary that contains the\n",
    "necessary data.\n"
   ],
   "cell_type": "markdown",
   "metadata": {}
  },
  {
   "cell_type": "code",
   "execution_count": null,
   "metadata": {},
   "outputs": [],
   "source": [
    "user = {\n",
    "  \"name\": \"Bobby Tables\",\n",
    "  \"username\": \"robert_tables\",\n",
    "  \"company\": {\n",
    "      \"name\" : \"A Company\"\n",
    "  }\n",
    "}\n",
    "print(user)\n",
    "response = requests.post('https://jsonplaceholder.typicode.com/users', data = user)\n",
    "print(response.json()['name'])"
   ]
  },
  {
   "source": [
    "### Update (POST)\n",
    "### Delete (DELETE)"
   ],
   "cell_type": "markdown",
   "metadata": {}
  }
 ]
}