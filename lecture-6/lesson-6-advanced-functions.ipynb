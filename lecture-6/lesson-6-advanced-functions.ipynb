{
 "metadata": {
  "language_info": {
   "codemirror_mode": {
    "name": "ipython",
    "version": 3
   },
   "file_extension": ".py",
   "mimetype": "text/x-python",
   "name": "python",
   "nbconvert_exporter": "python",
   "pygments_lexer": "ipython3",
   "version": "3.9.0-final"
  },
  "orig_nbformat": 2,
  "kernelspec": {
   "name": "Python 3.9.0 64-bit ('3.9.0')",
   "display_name": "Python 3.9.0 64-bit ('3.9.0')",
   "metadata": {
    "interpreter": {
     "hash": "7eabe791eb13ac77e5acf2b9b205a5dbab5a9da40dc6b61f28d8eba5dbb49606"
    }
   }
  }
 },
 "nbformat": 4,
 "nbformat_minor": 2,
 "cells": [
  {
   "source": [
    "# Introduction to Python\n",
    "## Lesson 6 - Advanced Functions\n",
    "**Ian Clark - 21.10.2020**\n",
    "\n",
    "------"
   ],
   "cell_type": "markdown",
   "metadata": {}
  },
  {
   "source": [
    "## Objectives\n",
    "By the end of today's lesson, we'll have looked at:\n",
    "\n",
    "* Functions which accept any number of arguments\n",
    "* Named function arguments\n",
    "* Recursion\n",
    "* Iterators and Generators"
   ],
   "cell_type": "markdown",
   "metadata": {}
  },
  {
   "source": [
    "-----\n",
    "\n",
    "## Revisited - Named arguments\n",
    "\n",
    "* Remember the `get_capital()` method we used in the last session..."
   ],
   "cell_type": "markdown",
   "metadata": {}
  },
  {
   "cell_type": "code",
   "execution_count": null,
   "metadata": {},
   "outputs": [],
   "source": [
    "def compound_interest(capital, rate, years):\n",
    "    return capital * (rate ** years)\n",
    "\n",
    "def get_capital(capital, rate, years, model):\n",
    "    return model(capital, rate, years)"
   ]
  },
  {
   "source": [
    "# Using the above, I could do\n",
    "get_capital(1000, 1.05, 2, compound_interest)"
   ],
   "cell_type": "code",
   "metadata": {},
   "execution_count": null,
   "outputs": []
  },
  {
   "cell_type": "code",
   "execution_count": null,
   "metadata": {},
   "outputs": [],
   "source": [
    "# But, it's a easier to read if I explicitly name my arguments\n",
    "get_capital(capital=1000, rate=1.05, years=2, model=compound_interest)"
   ]
  },
  {
   "cell_type": "code",
   "execution_count": null,
   "metadata": {},
   "outputs": [],
   "source": [
    "# The additional benefit this gives me, is that the *order* of the arguments becomes irrelevant\n",
    "get_capital(model=compound_interest, rate=1.05, years=2, capital=1000)"
   ]
  },
  {
   "source": [
    "----\n",
    "\n",
    "## Revisited - Default arguments\n",
    "* Recall that in the last lesson, we were introduced to the idea of giving our function arguments default values"
   ],
   "cell_type": "markdown",
   "metadata": {}
  },
  {
   "cell_type": "code",
   "execution_count": null,
   "metadata": {},
   "outputs": [],
   "source": [
    "def say_hello_less_buggy(name=\"world\"):\n",
    "    print(\"Hello \" + name + \"!\")"
   ]
  },
  {
   "source": [
    "* We could simplify our `get_capital()` method, by defaulting to a compound interest formula"
   ],
   "cell_type": "markdown",
   "metadata": {}
  },
  {
   "cell_type": "code",
   "execution_count": null,
   "metadata": {},
   "outputs": [],
   "source": [
    "def get_capital(capital, rate, years, model=compound_interest):\n",
    "    return model(capital, rate, years)"
   ]
  },
  {
   "source": [
    "* Then, as users, we only need to provide 3 arguments!"
   ],
   "cell_type": "markdown",
   "metadata": {}
  },
  {
   "cell_type": "code",
   "execution_count": null,
   "metadata": {},
   "outputs": [],
   "source": [
    "get_capital(1000, 1.1, 10)"
   ]
  },
  {
   "source": [
    "* Note: _the arguments with defaults must **always come at the end**_"
   ],
   "cell_type": "markdown",
   "metadata": {}
  },
  {
   "cell_type": "code",
   "execution_count": null,
   "metadata": {},
   "outputs": [],
   "source": [
    "# What would we even expect to happen here?\n",
    "#def get_capital(model=compound_interest, capital, rate, years):\n",
    "#    return model(capital, rate, years)\n",
    "# get_capital(1000, 1.1, 10)"
   ]
  },
  {
   "source": [
    "----\n",
    "\n",
    "## Dynamic argument length (`*args`)\n",
    "* At the end of the last lesson, we had the task of creating a function, `multiply_two_numbers()`\n",
    "  * This would take an argument `a` and an argument `b` and multiple them together\n",
    "* But, what if we wanted to multiple _three_ arguments together?\n",
    "* How about _four_?\n",
    "* For this, we're going to need to look at the `*` operator"
   ],
   "cell_type": "markdown",
   "metadata": {}
  },
  {
   "cell_type": "code",
   "execution_count": null,
   "metadata": {},
   "outputs": [],
   "source": [
    "def multiply_numbers(*numbers):\n",
    "    \"\"\"Return the result of multiply all the given numbers together.\"\"\"\n",
    "    counter = 1\n",
    "\n",
    "    for number in numbers:\n",
    "        counter = counter * number\n",
    "\n",
    "    return counter"
   ]
  },
  {
   "cell_type": "code",
   "execution_count": null,
   "metadata": {},
   "outputs": [],
   "source": [
    "print(multiply_numbers(1, 2, 3))"
   ]
  },
  {
   "source": [
    "* But what is this `*` value anyway? Lets use `type()` to find out!"
   ],
   "cell_type": "markdown",
   "metadata": {}
  },
  {
   "cell_type": "code",
   "execution_count": null,
   "metadata": {},
   "outputs": [],
   "source": [
    "def func(*what_am_i):\n",
    "    return type(what_am_i)\n",
    "\n",
    "print(func('x', 'y', 'z'))"
   ]
  },
  {
   "cell_type": "code",
   "execution_count": null,
   "metadata": {},
   "outputs": [],
   "source": [
    "def func(*values):\n",
    "    return values\n",
    "\n",
    "print(func(1, 'a', True))"
   ]
  },
  {
   "cell_type": "code",
   "execution_count": null,
   "metadata": {},
   "outputs": [],
   "source": [
    "def func(*values):\n",
    "    return values[1]\n",
    "\n",
    "print(func(1, 2, 3))"
   ]
  },
  {
   "source": [
    "* So, our variable which is prefixed with the `*` symbol accepts as many arguments as are given, and produces a `tuple` from them\n",
    "* Note that we don't actually need to provide an values at all!\n",
    "  * We'll just end up with an empty tuple"
   ],
   "cell_type": "markdown",
   "metadata": {}
  },
  {
   "cell_type": "code",
   "execution_count": null,
   "metadata": {},
   "outputs": [],
   "source": [
    "print(func())"
   ]
  },
  {
   "source": [
    "* Sometimes, we might want to require a certain number of arguments, and optionally allow others to be provided.\n",
    "  * We can combine our standard arguments with the `*` argument as necessary"
   ],
   "cell_type": "markdown",
   "metadata": {}
  },
  {
   "cell_type": "code",
   "execution_count": null,
   "metadata": {},
   "outputs": [],
   "source": [
    "def greet(host, *guests):\n",
    "    \"\"\"Greet a host, and all of their guests.\"\"\"\n",
    "    print(\"Your host this evening is...\", host)\n",
    "    print(\"And welcome to all of tonight's guests:\")\n",
    "\n",
    "    for guest in guests:\n",
    "        print(guest)\n",
    "\n",
    "greet('Alice', 'Bob', 'Charlotte', 'David')"
   ]
  },
  {
   "source": [
    "* Note: the `*` variable **_always_ needs to come at the end of your list** of arguments. So, this won't work...\n",
    "  * The exact reason _why_ this doesn't work, we'll might discuss later, but is different in Python 2 and Python 3"
   ],
   "cell_type": "markdown",
   "metadata": {}
  },
  {
   "cell_type": "code",
   "execution_count": null,
   "metadata": {},
   "outputs": [],
   "source": [
    "def greet(host, *guests, super_special_guest):\n",
    "    print(host, guests, super_special_guest)\n",
    "\n",
    "greet('Alice', 'Bob', 'Charlotte', 'David')"
   ]
  },
  {
   "source": [
    "* We'll often see this `*` variable named `*args`\n",
    "* This is a convention, and it just stands for \"arguments\""
   ],
   "cell_type": "markdown",
   "metadata": {}
  },
  {
   "source": [
    "----\n",
    "\n",
    "## Optional keyword arguments (`**kwargs`)\n",
    "* Sometimes, we may want to allow for multiple arguments to be provided, each with their own key\n",
    "* Lets imagine we want to calculate the total size of an apartment..."
   ],
   "cell_type": "markdown",
   "metadata": {}
  },
  {
   "cell_type": "code",
   "execution_count": null,
   "metadata": {},
   "outputs": [],
   "source": [
    "def total_size(kitchen, bedroom, bathroom, **other_rooms):\n",
    "    \"\"\"Return the total size of the apartment.\"\"\"\n",
    "    print(\"kitchen:\", kitchen)\n",
    "    print(\"bedroom:\", bedroom)\n",
    "    print(\"bathroom:\", bathroom)\n",
    "\n",
    "    total = kitchen + bedroom + bathroom\n",
    "\n",
    "    for name, size in other_rooms.items():\n",
    "        print(name + \":\", size)\n",
    "        total = total + size\n",
    "\n",
    "    return total"
   ]
  },
  {
   "cell_type": "code",
   "execution_count": null,
   "metadata": {},
   "outputs": [],
   "source": [
    "print(\"total:\", total_size(3, 5, 2, living_room=4, hallway=1))"
   ]
  },
  {
   "source": [
    "* Lets again use `type()` to work out what type of object our `**` argument is..."
   ],
   "cell_type": "markdown",
   "metadata": {}
  },
  {
   "cell_type": "code",
   "execution_count": null,
   "metadata": {},
   "outputs": [],
   "source": [
    "def func(**what_am_i):\n",
    "    return type(what_am_i)\n",
    "\n",
    "print(func(i=1, want=2, to=3, know=4))"
   ]
  },
  {
   "cell_type": "code",
   "execution_count": null,
   "metadata": {},
   "outputs": [],
   "source": [
    "def func(**values):\n",
    "    return values\n",
    "\n",
    "print(func(foo=1, bar=2, zulu=3))"
   ]
  },
  {
   "cell_type": "code",
   "execution_count": null,
   "metadata": {},
   "outputs": [],
   "source": [
    "def func(**values):\n",
    "    return values['bar']\n",
    "\n",
    "print(func(foo=1, bar=2, zulu=3))"
   ]
  },
  {
   "source": [
    "* So, an argument with `**` returns a _dictionary_\n",
    "* We'll look at this datatype more in the upcoming lessons, for now, all we need to know is that dictionaries store a collection of \"keys\" and \"values\"\n",
    "* In our apartment example above\n",
    "  * The \"keys\" were `\"living_room\"` and `\"hallway\"`\n",
    "  * The \"values\" were `4` and `1`\n",
    "  * And the \"items\" (the keys with their matching values) were `living_room=4` and `hallway=1`\n",
    "* Just as with `*args`, we don't _need_ to provide any additional keyword arguments..."
   ],
   "cell_type": "markdown",
   "metadata": {}
  },
  {
   "cell_type": "code",
   "execution_count": null,
   "metadata": {},
   "outputs": [],
   "source": [
    "def func(**values):\n",
    "    return values\n",
    "\n",
    "print(func())"
   ]
  },
  {
   "source": [
    "* Note: like our variable length arguments (`*args`), optional keyword arguments **must come at the end** of your arguments list"
   ],
   "cell_type": "markdown",
   "metadata": {}
  },
  {
   "cell_type": "code",
   "execution_count": null,
   "metadata": {},
   "outputs": [],
   "source": [
    "# What would we even expect to happen here?\n",
    "# def func(a, **b, c):   \n",
    "#    return a, b, c"
   ]
  },
  {
   "source": [
    "----\n",
    "\n",
    "## Complex function signatures\n",
    "* The \"signature\" of a function is the input that is takes, and the output which it returns\n",
    "* We can create functions which use _all of the features we've just seen above..."
   ],
   "cell_type": "markdown",
   "metadata": {}
  },
  {
   "cell_type": "code",
   "execution_count": null,
   "metadata": {},
   "outputs": [],
   "source": [
    "def greet(host, *guests, tone='friendly', **events):\n",
    "    if tone == 'friendly':\n",
    "        print('Good evening!')\n",
    "    else:\n",
    "        print('Oh... hi...')\n",
    "    \n",
    "    print('')\n",
    "    print('Your host this evening is...', host)\n",
    "    print('And welcome to all of tonight\\'s guests:')\n",
    "\n",
    "    for guest in guests:\n",
    "        print(guest)\n",
    "\n",
    "    if events:\n",
    "        print('')\n",
    "        print('The following events will take place this evening:')\n",
    "\n",
    "    for name, time in events.items():\n",
    "        print('* ' + name + ': ' + str(time) + 'pm')\n"
   ]
  },
  {
   "cell_type": "code",
   "execution_count": null,
   "metadata": {},
   "outputs": [],
   "source": [
    "greet('Alice', 'Bob', 'Charlie')"
   ]
  },
  {
   "cell_type": "code",
   "execution_count": null,
   "metadata": {},
   "outputs": [],
   "source": [
    "greet('Alice', 'Bob', 'Charlie', tone='miserable')"
   ]
  },
  {
   "cell_type": "code",
   "execution_count": null,
   "metadata": {},
   "outputs": [],
   "source": [
    "greet('Alice', 'Bob', 'Charlie', dinner=7, pool_party=8)"
   ]
  },
  {
   "source": [
    "----\n",
    "\n",
    "## Generators\n",
    "* A generator, is a special function which returns an \"iterator\"\n",
    "* Instead of the `return` keyword, we use the `yield` keyword to create generators\n",
    "* Lets look at an example..."
   ],
   "cell_type": "markdown",
   "metadata": {}
  },
  {
   "cell_type": "code",
   "execution_count": null,
   "metadata": {},
   "outputs": [],
   "source": [
    "def fruit_generator():\n",
    "    yield 'Apple'\n",
    "    yield 'Banana'\n",
    "    yield 'Cherry'\n",
    "\n",
    "# When we call a generator function, we get an \"iterator\" back\n",
    "fruit_iterator = fruit_generator()\n",
    "\n",
    "# We can then use the next() function to retrieve the results one by one\n",
    "print(next(fruit_iterator))\n",
    "print(next(fruit_iterator))\n",
    "print(next(fruit_iterator))\n",
    "# What happens if we call it a fourth time...\n",
    "# print(next(fruit_iterator))"
   ]
  },
  {
   "source": [
    "* Like lists, we can \"iterate\" over these \"iterators\" using a for loop"
   ],
   "cell_type": "markdown",
   "metadata": {}
  },
  {
   "cell_type": "code",
   "execution_count": null,
   "metadata": {},
   "outputs": [],
   "source": [
    "for fruit in fruit_generator():\n",
    "    print(fruit)"
   ]
  },
  {
   "source": [
    "* So, generators are _kind_ of like loops? But what's the point?\n",
    "* The answer is: _performance_\n",
    "* Remember the `range()` function which we've been using in the past few lessons...\n",
    "  * Lets try and write our own!"
   ],
   "cell_type": "markdown",
   "metadata": {}
  },
  {
   "cell_type": "code",
   "execution_count": null,
   "metadata": {},
   "outputs": [],
   "source": [
    "def my_range_list(start, stop):\n",
    "    \"\"\"A basic range function, returning a list.\"\"\"\n",
    "    values = []\n",
    "    current = start\n",
    "\n",
    "    while current < stop:\n",
    "        values.append(current)\n",
    "        current = current + 1\n",
    "\n",
    "    return values"
   ]
  },
  {
   "cell_type": "code",
   "execution_count": null,
   "metadata": {},
   "outputs": [],
   "source": [
    "# It works!\n",
    "print(my_range_list(4, 10))"
   ]
  },
  {
   "cell_type": "code",
   "execution_count": null,
   "metadata": {},
   "outputs": [],
   "source": [
    "# But, what does the *real* range() function return...\n",
    "print(range(4, 10))"
   ]
  },
  {
   "source": [
    "* This is because the built-in `range()` function *is a generator!*\n",
    "* We could write our own like this..."
   ],
   "cell_type": "markdown",
   "metadata": {}
  },
  {
   "cell_type": "code",
   "execution_count": null,
   "metadata": {},
   "outputs": [],
   "source": [
    "def my_range_generator(start, stop):\n",
    "    \"\"\"A basic range function, returning a generator.\"\"\"\n",
    "    current = start\n",
    "\n",
    "    while current < stop:\n",
    "        yield current\n",
    "        current = current + 1"
   ]
  },
  {
   "cell_type": "code",
   "execution_count": null,
   "metadata": {},
   "outputs": [],
   "source": [
    "print(my_range_generator(4, 10))"
   ]
  },
  {
   "cell_type": "code",
   "execution_count": null,
   "metadata": {},
   "outputs": [],
   "source": [
    "# Converting the result to a list is easy!\n",
    "print(list(my_range_generator(4, 10)))"
   ]
  },
  {
   "source": [
    "* The real value of a generator becomes clear when we consider what would happen if our range was reaaally big!"
   ],
   "cell_type": "markdown",
   "metadata": {}
  },
  {
   "cell_type": "code",
   "execution_count": null,
   "metadata": {},
   "outputs": [],
   "source": [
    "def first_multiple_of(*values, limit=100000000, range_fn=range):\n",
    "    \"\"\"Return the first multiple of all of the given values.\"\"\"\n",
    "    # Count upwards\n",
    "    for i in range_fn(1, limit + 1):\n",
    "        # For each of our values\n",
    "        for value in values:\n",
    "            # If it's not a multiple of our current number, check the next\n",
    "            if i % value != 0:\n",
    "                break\n",
    "        # We never hit the break\n",
    "        # so each of our numbers must have been a multiple!\n",
    "        else:\n",
    "            return i"
   ]
  },
  {
   "source": [
    "* To demonstrate the performance differences more clearly, we're going to make a helper function\n",
    "* This will record the time before we run our function, and the once we've finished, it will record the time again, and use that to determine how long it took for our function to run!"
   ],
   "cell_type": "markdown",
   "metadata": {}
  },
  {
   "cell_type": "code",
   "execution_count": null,
   "metadata": {},
   "outputs": [],
   "source": [
    "from time import time\n",
    "\n",
    "def print_with_time(fn, *args, **kwargs):\n",
    "    start = time()\n",
    "    print('Answer: ', fn(*args, **kwargs))\n",
    "    duration = int(time() - start)\n",
    "    print(\"Total time:\", duration, \"seconds\")"
   ]
  },
  {
   "cell_type": "code",
   "execution_count": null,
   "metadata": {},
   "outputs": [],
   "source": [
    "# Lets start with a simple one!\n",
    "print_with_time(first_multiple_of, 2, 3)"
   ]
  },
  {
   "cell_type": "code",
   "execution_count": null,
   "metadata": {},
   "outputs": [],
   "source": [
    "# Now lets do something a little harder\n",
    "print_with_time(first_multiple_of, 35, 971, 439)"
   ]
  },
  {
   "cell_type": "code",
   "execution_count": null,
   "metadata": {},
   "outputs": [],
   "source": [
    "# And now really tough!\n",
    "print_with_time(first_multiple_of, 932, 174, 43, 13)"
   ]
  },
  {
   "cell_type": "code",
   "execution_count": null,
   "metadata": {},
   "outputs": [],
   "source": [
    "# Lets compare this to our own list range function\n",
    "print_with_time(first_multiple_of, 932, 174, 43, 13, range_fn=my_range_list)"
   ]
  },
  {
   "cell_type": "code",
   "execution_count": null,
   "metadata": {},
   "outputs": [],
   "source": [
    "# And finally our generator range function\n",
    "print_with_time(first_multiple_of, 932, 174, 43, 13, range_fn=my_range_generator)"
   ]
  },
  {
   "cell_type": "code",
   "execution_count": null,
   "metadata": {},
   "outputs": [],
   "source": [
    "# In fact, our list version really struggles with even basic calculations...\n",
    "print_with_time(first_multiple_of, 2, 3, range_fn=my_range_list)"
   ]
  },
  {
   "source": [
    "* Why is is our list version _so much slower_ than the built-in `range()` or our generator version?\n",
    "* The answer is that before evening checking for a match, we have to generate a list of 100,000,000 (one hundred million) values\n",
    "* This takes a _lot_ of time, and is almost certainly completely unnecessary (unless our multiple was 99,999,999! And even then, our generator version will be quicker)"
   ],
   "cell_type": "markdown",
   "metadata": {}
  },
  {
   "source": [
    "----\n",
    "\n",
    "## Recursion\n",
    "* TODO!"
   ],
   "cell_type": "markdown",
   "metadata": {}
  },
  {
   "source": [
    "-----\n",
    "\n",
    "## The Fibonacci Sequence\n",
    "* *A sequence of numbers, where the value of one number in the sequence is defined by the sum of the two numbers preceding it in the sequence*\n",
    "* This can be expressed as `fib(n) = fib(n-1) + fib(n-2)`\n",
    "* The sequence starts with 0 and 1, such that `fib(0) = 0` and `fib(1) = 1`\n",
    "* Therefore, the sequence starts with `[0,] 1, 1, 2, 3, 5, 8, 13...`\n",
    "* We're going to explore some ways in which we can solve this using functions\n",
    "* But first..."
   ],
   "cell_type": "markdown",
   "metadata": {}
  },
  {
   "source": [
    "### Helper functions\n",
    "#### 1) Validator\n",
    "* We're going to write a number of different function which solve our Fibonacci sequence\n",
    "* To make sure that our functions work properly, we're going to create a validation function\n",
    "* We'll start off by taking the already known first 10 numbers in the sequence.\n",
    "  * We'll then compare this to the results from the function."
   ],
   "cell_type": "markdown",
   "metadata": {}
  },
  {
   "cell_type": "code",
   "execution_count": null,
   "metadata": {},
   "outputs": [],
   "source": [
    "\n",
    "KNOWN_SEQUENCE = (1, 1, 2, 3, 5, 8, 13, 21, 34, 55)\n",
    "\n",
    "def validate_fib_fn(fn):\n",
    "    \"\"\"Validate the given Fibonacci function works as expected.\"\"\"\n",
    "    # Loop over each of the numbers in the sequence above\n",
    "    for i, expected in enumerate(KNOWN_SEQUENCE):\n",
    "        # Calculate the actual value generated for this number by our function\n",
    "        actual = fn(i + 1)\n",
    "        # Assert that it matches our expectation\n",
    "        assert actual == expected, \\\n",
    "            f'fib({i + 1}) incorrect. Expected: {expected}. Actual: {actual}.'\n",
    "\n",
    "    # If we've reached here, all is well!\n",
    "    print(\"Given function works as expected!\")"
   ]
  },
  {
   "cell_type": "code",
   "execution_count": null,
   "metadata": {},
   "outputs": [],
   "source": [
    "def invalid_fib_fn(n):\n",
    "    return n\n",
    "\n",
    "#validate_fib_fn(invalid_fib_fn)"
   ]
  },
  {
   "source": [
    "#### 2) Print function\n",
    "* The second helper we're going to use, is a function which will print out the sequence of numbers generated by one of our functions, up until the nth number in the sequence that we'll specify\n",
    "* We'll pass a function that we want to use to generate the list\n",
    "* Another thing we'll do, is time the amount that it takes to generate the list.\n",
    "  * This will prove to be handy later!"
   ],
   "cell_type": "markdown",
   "metadata": {}
  },
  {
   "cell_type": "code",
   "execution_count": null,
   "metadata": {},
   "outputs": [],
   "source": [
    "from time import time\n",
    "\n",
    "def print_fib_sequence(fn, until=10):\n",
    "    \"\"\"Print out the Fibonacci numbers using the given function.\n",
    "\n",
    "    Once complete, print out the time it took to generate the sequence.\n",
    "    \n",
    "    \"\"\"\n",
    "    print('Fibonacci Sequence')\n",
    "    print('==================')\n",
    "    assert until <= 100, 'Cannot go beyond 100'\n",
    "    \n",
    "    # Capture the time before we start to generate the sequence\n",
    "    start = time()\n",
    "\n",
    "    # Start generating the sequence\n",
    "    for i in range(1, until + 1):\n",
    "        print(f'{fn(i)}, ', end='')\n",
    "\n",
    "    # Calculate the time it took to run generate the sequence\n",
    "    duration_seconds = time() - start\n",
    "    print('\\n------------------')\n",
    "    print(f'Time taken: {duration_seconds:.3f} seconds')"
   ]
  },
  {
   "source": [
    "-------\n",
    "\n",
    "### Solution 1 - Recursion"
   ],
   "cell_type": "markdown",
   "metadata": {}
  },
  {
   "cell_type": "code",
   "execution_count": null,
   "metadata": {},
   "outputs": [],
   "source": [
    "def fib_recursive(n):\n",
    "    \"\"\"Return the nth number in the Fibonacci sequence.\"\"\"\n",
    "    if n > 1:\n",
    "        return fib_recursive(n - 1) + fib_recursive(n - 2)\n",
    "    else:\n",
    "        return n"
   ]
  },
  {
   "cell_type": "code",
   "execution_count": null,
   "metadata": {},
   "outputs": [],
   "source": [
    "validate_fib_fn(fib_recursive)"
   ]
  },
  {
   "cell_type": "code",
   "execution_count": null,
   "metadata": {},
   "outputs": [],
   "source": [
    "print_fib_sequence(fib_recursive, 10)"
   ]
  },
  {
   "cell_type": "code",
   "execution_count": null,
   "metadata": {},
   "outputs": [],
   "source": [
    "def fib_recursive_debug(n, indent=0):\n",
    "    \"\"\"Return the nth number in the Fibonacci sequence.\"\"\"\n",
    "    print(('  ' * indent) + 'fib_recursive(' + str(n) + ')')\n",
    "\n",
    "    if n > 1:\n",
    "        return (\n",
    "            fib_recursive_debug(n - 1, indent=indent+1) +\n",
    "            fib_recursive_debug(n - 2, indent=indent+1)\n",
    "        )\n",
    "    else:\n",
    "        return n"
   ]
  },
  {
   "cell_type": "code",
   "execution_count": null,
   "metadata": {},
   "outputs": [],
   "source": [
    "print(fib_recursive_debug(5))"
   ]
  },
  {
   "source": [
    "### Solution 2 - Generator\n",
    "* Another very efficient way to generate our Fibonacci sequence, would be to use a generator"
   ],
   "cell_type": "markdown",
   "metadata": {}
  },
  {
   "cell_type": "code",
   "execution_count": null,
   "metadata": {},
   "outputs": [],
   "source": [
    "def gen_fibs():\n",
    "    \"\"\"Generate the fibonacci sequence from 0.\"\"\"\n",
    "    # Use a and b to keep track of the last two values\n",
    "    # Start with the 0th and 1st entries in the sequence\n",
    "    a, b = 0, 1\n",
    "\n",
    "    # Create an infinite loop\n",
    "    while True:\n",
    "        # Yield our a value\n",
    "        yield a\n",
    "        # And calculate a new value of b from our last two values\n",
    "        # and move the old value of b into a's place.\n",
    "        a, b = b, a + b"
   ]
  },
  {
   "cell_type": "code",
   "execution_count": null,
   "metadata": {},
   "outputs": [],
   "source": [
    "# This has a really nice benefit that we can easily answer a question\n",
    "# such as \"what are all the values in the sequence below 100\"\n",
    "for fib_n in gen_fibs():\n",
    "    if fib_n > 100:\n",
    "        break\n",
    "\n",
    "    print(f'{fib_n}, ', end='')"
   ]
  },
  {
   "cell_type": "code",
   "execution_count": null,
   "metadata": {},
   "outputs": [],
   "source": [
    "# And we can use our generate to retrieve the value at n\n",
    "def fib_as_generator(n):\n",
    "    \"\"\"Return the nth number in the Fibonacci sequence.\"\"\"\n",
    "    for x, fib_x in enumerate(gen_fibs()):\n",
    "        if n == x:\n",
    "            return fib_x"
   ]
  },
  {
   "cell_type": "code",
   "execution_count": null,
   "metadata": {},
   "outputs": [],
   "source": [
    "print_fib_sequence(fib_as_generator)"
   ]
  },
  {
   "source": [
    "### Solution 3 - Efficient Recursion\n",
    "* By tying all of the things we've learned so far, we can improve our recursive function to make it a lot better\n",
    "* We'll do this by introducing a \"cache\".\n",
    "  * The cache will be used to keep track of every number in the sequence which we've already calculated.\n",
    "  * As a result, we'll never need to duplicate a check again, we'll just pull it from our cache"
   ],
   "cell_type": "markdown",
   "metadata": {}
  },
  {
   "cell_type": "code",
   "execution_count": null,
   "metadata": {},
   "outputs": [],
   "source": [
    "def fib_recursive_cached(n):\n",
    "    \"\"\"Return the nth number in the Fibonacci sequence.\"\"\"\n",
    "    cache = {}\n",
    "\n",
    "    def inner(i):\n",
    "        if i not in cache:\n",
    "            if i > 1:\n",
    "                cache[i] = inner(i - 1) + inner(i - 2)\n",
    "            else:\n",
    "                cache[i] = i\n",
    "                \n",
    "        return cache[i]\n",
    "    \n",
    "    answer = inner(n)\n",
    "    return answer"
   ]
  },
  {
   "cell_type": "code",
   "execution_count": null,
   "metadata": {},
   "outputs": [],
   "source": [
    "print_fib_sequence(fib_recursive_cached, 100)"
   ]
  }
 ]
}