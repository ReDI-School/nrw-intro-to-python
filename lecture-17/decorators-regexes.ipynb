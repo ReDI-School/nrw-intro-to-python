{
 "metadata": {
  "language_info": {
   "codemirror_mode": {
    "name": "ipython",
    "version": 3
   },
   "file_extension": ".py",
   "mimetype": "text/x-python",
   "name": "python",
   "nbconvert_exporter": "python",
   "pygments_lexer": "ipython3",
   "version": "3.7.9-final"
  },
  "orig_nbformat": 2,
  "kernelspec": {
   "name": "python3",
   "display_name": "Python 3"
  }
 },
 "nbformat": 4,
 "nbformat_minor": 2,
 "cells": [
  {
   "source": [
    "# Introduction to Python\n",
    "## Lesson 17 - Decorators & Regular Expressions\n",
    "**Ian Clark - 30.11.2020**\n",
    "\n",
    "------"
   ],
   "cell_type": "markdown",
   "metadata": {}
  },
  {
   "source": [
    "## Objectives\n",
    "By the end of today's lesson, we'll have looked at:\n",
    "\n",
    "* Decorators\n",
    "* Regular expressions\n",
    "\n",
    "----"
   ],
   "cell_type": "markdown",
   "metadata": {}
  },
  {
   "source": [
    "## Decorators\n",
    "* A decorator, is quite simply: a function which *alters* the behaviour of another function or class\n",
    "* Lets return to lesson 6 (advanced functions)..."
   ],
   "cell_type": "markdown",
   "metadata": {}
  },
  {
   "cell_type": "code",
   "execution_count": null,
   "metadata": {},
   "outputs": [],
   "source": [
    "from time import time\n",
    "\n",
    "def print_with_time(fn, *args, **kwargs):\n",
    "    start = time()\n",
    "    print('Answer: ', fn(*args, **kwargs))\n",
    "    duration = round(time() - start, 2)\n",
    "    print(\"Total time:\", duration, \"seconds\")"
   ]
  },
  {
   "source": [
    "* Recall the `print_with_time()` function\n",
    "* We used it to \"profile\" our custom range functions - to work out how long they took to generate the result\n",
    "* For simplicity, lets say we had a function which took 3 seconds to complete"
   ],
   "cell_type": "markdown",
   "metadata": {}
  },
  {
   "cell_type": "code",
   "execution_count": null,
   "metadata": {},
   "outputs": [],
   "source": [
    "from time import sleep\n",
    "\n",
    "def delay(seconds):\n",
    "    sleep(seconds)\n",
    "    return \"My result\""
   ]
  },
  {
   "source": [
    "* We could profile it, by \"wrapping\" it in our `print_with_time()` function"
   ],
   "cell_type": "markdown",
   "metadata": {}
  },
  {
   "cell_type": "code",
   "execution_count": null,
   "metadata": {},
   "outputs": [],
   "source": [
    "print_with_time(delay, 0.2)"
   ]
  },
  {
   "source": [
    "* Using decorators, Python allows us to perform behaviour like this a little more expressively\n",
    "* Lets now rewrite this `print_with_time()` method as a decorator"
   ],
   "cell_type": "markdown",
   "metadata": {}
  },
  {
   "cell_type": "code",
   "execution_count": null,
   "metadata": {},
   "outputs": [],
   "source": [
    "from time import time\n",
    "\n",
    "def profile(fn):\n",
    "    def wrapper(*args, **kwargs):\n",
    "        start = time()\n",
    "        result = fn(*args, **kwargs)\n",
    "        duration = round(time() - start, 2)\n",
    "        print(\"(Total time:\", duration, \"seconds)\")\n",
    "        return result\n",
    "    \n",
    "    return wrapper"
   ]
  },
  {
   "source": [
    "* So, how does this differ from our original `print_with_time()` method?\n",
    "* The first thing to note is, our decorator is a _function which returns a function_\n",
    "* The function which is returned can change the behaviour of the function it is given\n",
    "* In this case, all we do is capture the time _before and after_, and then log the result\n",
    "* We *could* use our decorator by just overwriting the function..."
   ],
   "cell_type": "markdown",
   "metadata": {}
  },
  {
   "source": [
    "delay = profile(delay)"
   ],
   "cell_type": "code",
   "metadata": {},
   "execution_count": null,
   "outputs": []
  },
  {
   "cell_type": "code",
   "execution_count": null,
   "metadata": {},
   "outputs": [],
   "source": [
    "print(delay(0.3))"
   ]
  },
  {
   "source": [
    "* But Python provides a cleaner interface for this\n",
    "* Above the function we want to \"decorate\", we use the `@` symbol, followed by the name of the decorator"
   ],
   "cell_type": "markdown",
   "metadata": {}
  },
  {
   "cell_type": "code",
   "execution_count": null,
   "metadata": {},
   "outputs": [],
   "source": [
    "@profile\n",
    "def delay(seconds):\n",
    "    sleep(seconds)\n",
    "    return \"My result\""
   ]
  },
  {
   "cell_type": "code",
   "execution_count": null,
   "metadata": {},
   "outputs": [],
   "source": [
    "print(delay(0.15))"
   ]
  },
  {
   "source": [
    "* And we can combine these decorators..."
   ],
   "cell_type": "markdown",
   "metadata": {}
  },
  {
   "cell_type": "code",
   "execution_count": null,
   "metadata": {},
   "outputs": [],
   "source": [
    "# Adapted from: https://realpython.com/primer-on-python-decorators/#simple-decorators\n",
    "\n",
    "def debug(fn):\n",
    "    \"\"\"Print the function signature and return value\"\"\"\n",
    "    def wrapper(*args, **kwargs):\n",
    "        # Get the name of the function\n",
    "        fn_name = fn.__name__\n",
    "\n",
    "        # Convert all of the \"args\" to strings\n",
    "        args_repr = [str(a) for a in args]\n",
    "\n",
    "        # Convert all of the \"kwargs\" to strings                \n",
    "        kwargs_repr = [f\"{k}={v}\" for k, v in kwargs.items()]\n",
    "\n",
    "        # Combine all of our arg and kwarg strings\n",
    "        signature = \", \".join(args_repr + kwargs_repr)\n",
    "\n",
    "        # Print out the function signature, as if we did it ourselves\n",
    "        print(f\">>> {fn_name}({signature})\")\n",
    "\n",
    "        # Call and return the original function\n",
    "        return fn(*args, **kwargs)\n",
    "    return wrapper"
   ]
  },
  {
   "cell_type": "code",
   "execution_count": null,
   "metadata": {},
   "outputs": [],
   "source": [
    "@profile\n",
    "@debug\n",
    "def delay(seconds):\n",
    "    sleep(seconds)\n",
    "    return \"My result\""
   ]
  },
  {
   "cell_type": "code",
   "execution_count": null,
   "metadata": {},
   "outputs": [],
   "source": [
    "delay(0.02)"
   ]
  },
  {
   "source": [
    "* Decorators can also accept arguments themselves"
   ],
   "cell_type": "markdown",
   "metadata": {}
  },
  {
   "cell_type": "code",
   "execution_count": null,
   "metadata": {},
   "outputs": [],
   "source": [
    "def slow_down(seconds):\n",
    "    \"\"\"Sleep n second before calling the function\"\"\"\n",
    "    def outer(fn):\n",
    "        def inner(*args, **kwargs):\n",
    "            sleep(seconds)\n",
    "            return fn(*args, **kwargs)\n",
    "        return inner\n",
    "    return outer"
   ]
  },
  {
   "cell_type": "code",
   "execution_count": null,
   "metadata": {},
   "outputs": [],
   "source": [
    "@slow_down(0.4)\n",
    "@profile\n",
    "@debug\n",
    "def greet(name):\n",
    "    return f\"Hello {name}!\""
   ]
  },
  {
   "cell_type": "code",
   "execution_count": null,
   "metadata": {},
   "outputs": [],
   "source": [
    "greet(\"Alice\")"
   ]
  },
  {
   "source": [
    "* But, there's a bug here! It's reporting the time taken as 0 seconds\n",
    "* Remember that our decorators are really just shorthand for wrapping one function in another"
   ],
   "cell_type": "markdown",
   "metadata": {}
  },
  {
   "cell_type": "code",
   "execution_count": null,
   "metadata": {},
   "outputs": [],
   "source": [
    "\"\"\"\n",
    "Task 1: Rewrite the greet() function by explicitly wrapping our decorators in turn\n",
    "\n",
    "Example:\n",
    "function = decorator(function)\n",
    "\"\"\""
   ]
  },
  {
   "cell_type": "code",
   "execution_count": null,
   "metadata": {},
   "outputs": [],
   "source": [
    "\"\"\"\n",
    "Task 2: Fix the bug, rewrite the original greet, using the decorator syntax\n",
    "\n",
    "Example:\n",
    "@decorator\n",
    "def function():\n",
    "    pass"
   ]
  },
  {
   "source": [
    "----"
   ],
   "cell_type": "markdown",
   "metadata": {}
  },
  {
   "source": [
    "## Regular Expressions\n",
    "* A regular expression is a \"formal language\", which uses sequences of characters to define \"search patterns\"\n",
    "* Regular expressions are used everywhere, and available in some form in almost all programming languages\n",
    "* They are an incredibly powerful and expressive way of searching for, and manipulating text\n",
    "* Regular expressions are often shorted to \"regexes\""
   ],
   "cell_type": "markdown",
   "metadata": {}
  },
  {
   "source": [
    "### The Basics\n",
    "* At its core, a regular expression is described using a string"
   ],
   "cell_type": "markdown",
   "metadata": {}
  },
  {
   "cell_type": "code",
   "execution_count": null,
   "metadata": {},
   "outputs": [],
   "source": [
    "pattern = 'def'"
   ]
  },
  {
   "source": [
    "* This string forms a \"pattern\"\n",
    "* By using the special \"raw\" string syntax, we can write regular expressions more cleanly"
   ],
   "cell_type": "markdown",
   "metadata": {}
  },
  {
   "cell_type": "code",
   "execution_count": null,
   "metadata": {},
   "outputs": [],
   "source": [
    "# We'll see the benefit of this approach later\n",
    "# But notice that your code editor will highlight this a little differently\n",
    "pattern = r'def'"
   ]
  },
  {
   "source": [
    "* These matterns can then be \"matched\" against other strings\n",
    "* Python provides the built-in `re` module for regular expression usage\n",
    "* One way of matching is to use the `search()` function"
   ],
   "cell_type": "markdown",
   "metadata": {}
  },
  {
   "cell_type": "code",
   "execution_count": null,
   "metadata": {},
   "outputs": [],
   "source": [
    "import re\n",
    "\n",
    "# Given a string that includes our pattern, we get back a match\n",
    "print(re.search(pattern, 'abcdefghi'))"
   ]
  },
  {
   "cell_type": "code",
   "execution_count": null,
   "metadata": {},
   "outputs": [],
   "source": [
    "# And given one that doesn't, we get back none\n",
    "print(re.search(pattern, 'does not contain the pattern'))"
   ]
  },
  {
   "source": [
    "* Alternatively, we can \"compile\" a regular expression pattern, and use that directly "
   ],
   "cell_type": "markdown",
   "metadata": {}
  },
  {
   "cell_type": "code",
   "execution_count": null,
   "metadata": {},
   "outputs": [],
   "source": [
    "# We use the re.compile() method to compile a pattern\n",
    "pattern = re.compile(r'def')\n",
    "\n",
    "# And then we use the search() method on the *compiled* pattern\n",
    "# rather than directly using the re.search() method\n",
    "print(pattern.search('abcdefghi'))"
   ]
  },
  {
   "source": [
    "* OK, so we've seen that we can use regular expressions to find out whether `\"def\"` was within some given text\n",
    "* But, we could just do this... "
   ],
   "cell_type": "markdown",
   "metadata": {}
  },
  {
   "cell_type": "code",
   "execution_count": null,
   "metadata": {},
   "outputs": [],
   "source": [
    "print('def' in 'abcdefghi')"
   ]
  },
  {
   "source": [
    "* So, what do we need regular expressions for?"
   ],
   "cell_type": "markdown",
   "metadata": {}
  },
  {
   "source": [
    "### The language\n",
    "* The regular expression language is extremely powerful, but it is also extremely complicated\n",
    "* Do not be put off by this fact - many senior programmers still struggle with them\n",
    "* By the end of this lesson we want to understand *the basics*\n",
    "  * We should be able to spot regular expressions\n",
    "  * We should know _how_ to work out what they do\n",
    "* Common to all languages, regular expressions have a \"grammar\"\n",
    "* This is made up of certain characters - metacharacters - which have a special meaning\n",
    "  * Some of the most common examples are below  "
   ],
   "cell_type": "markdown",
   "metadata": {}
  },
  {
   "source": [
    "* `.` - matches *any* character\n",
    "* `[a-z]` - a character \"class\" - matches any characters within the block\n",
    "* `(abc)` - describes a *group* - we can split our regex into multiple groups\n",
    "* `*` - match the following character / group *0 to infinite* times \n",
    "* `+` - match the following character / group *1 to infinite* times\n",
    "* `?` - \"optionally\" match the following character / group (0 or 1 times)\n",
    "* `\\w` - any alphanumeric character (think: word) \n",
    "* `\\s` - any whitespace character (think: space)\n",
    "* `^` - the end of a string\n",
    "* `$` - the end of a string\n",
    "* `\\` - to use a \"literal\" value (e.g. if we want to actually match a `.` we need to write `\\.`)"
   ],
   "cell_type": "markdown",
   "metadata": {}
  },
  {
   "source": [
    "### Example - email address validation\n",
    "* We can combine everything what we have above to create a regex which can be used to validate email addresses\n",
    "* Lets simplify the rules for an email address\n",
    "  * It needs to start with an alphanumeric character\n",
    "    * We need at least one of these, but we can have more\n",
    "  * We then have an `@` sign\n",
    "  * We then need at least one more alhanumeric character\n",
    "  * We then need a `.`\n",
    "  * We then need at least one more alphanumeric character\n",
    "  * Then we need the string to end (i.e. nothing else)\n",
    "* Lets work on this together\n",
    "  * We'll use the really useful [regex101](https://regex101.com/) to help us here"
   ],
   "cell_type": "markdown",
   "metadata": {}
  },
  {
   "cell_type": "code",
   "execution_count": null,
   "metadata": {},
   "outputs": [],
   "source": [
    "import re\n",
    "\n",
    "email_regex = re.compile(r'solution here')\n",
    "\n",
    "# It should return a match for a valid email\n",
    "assert email_regex.search('valid@email.com')\n",
    "\n",
    "# It should not return a match for invalid emails\n",
    "assert not email_regex.search('invalid')\n",
    "assert not email_regex.search('no@topleveldomain')\n",
    "assert not email_regex.search('no.at')\n",
    "assert not email_regex.search('has spaces @ in it.com')"
   ]
  },
  {
   "source": [
    "----\n",
    "\n",
    "## Homework - Regular Expressions\n",
    "\n",
    "### Number validator\n",
    "* Create a regular expression to validate a *number*\n",
    "* Rules\n",
    "  * A number must be one or more digits\n",
    "  * The first digit cannot be 0\n",
    "  * It can then be followed by a dot, and then must have at least one more digit\n",
    "* Hints\n",
    "  * Use character classes to describe your possible numbers\n",
    "  * Use the `+` character to match *at least once*\n",
    "  * Use the `*` character to match *zero or many* times\n",
    "  * Use a \"group\" to make the \"floating\" (non-integer) part optional `?`\n",
    "  * Use regex101 to help you - and the internet is your friend!\n",
    "\n",
    "### Name replacer\n",
    "* Given the following text:\n",
    "\n",
    "> My name is Bejmamin. Or Ben. My friends called me benji.\n",
    "\n",
    "* Replace all of Benjamin's names with your own\n",
    "* Hints\n",
    "  * Python provides the `replace()` regular expression method. The first argument is a regular expression, and the second is the replacement, for which you'll use your name\n",
    "  * You'll need to replace all verions of Benjamin, regardless of whether it's spelled with an upper or lower case. To do this, you'll need to use a \"modifier\" - specifically the \"case insensitive\" modifier."
   ],
   "cell_type": "markdown",
   "metadata": {}
  },
  {
   "source": [
    "----\n",
    "\n",
    "## Homework - Recursion\n",
    "* Recall that in lesson 6 \"advanced functions\", we learned about recursive functions\n",
    "* Here's a very clear example of how we can use recursion as part of an algorithm to efficiently sort a list of numbers, strings e.g.\n",
    "* The algorithm below is called \"quick sort\", and was taken from a good repository on learning Python\n",
    "* Notice that the function is written with clear documentation and examples\n",
    "* Your task is to learn how it works\n",
    "  * Use the `debug()` and `profile()` decorators we created above to help you do this"
   ],
   "cell_type": "markdown",
   "metadata": {}
  },
  {
   "cell_type": "code",
   "execution_count": null,
   "metadata": {},
   "outputs": [],
   "source": [
    "# Taken from https://github.com/TheAlgorithms/Python\n",
    "def quick_sort(collection: list) -> list:\n",
    "    \"\"\"A pure Python implementation of quick sort algorithm\n",
    "    :param collection: a mutable collection of comparable items\n",
    "    :return: the same collection ordered by ascending\n",
    "    Examples:\n",
    "    >>> quick_sort([0, 5, 3, 2, 2])\n",
    "    [0, 2, 2, 3, 5]\n",
    "    >>> quick_sort([])\n",
    "    []\n",
    "    >>> quick_sort([-2, 5, 0, -45])\n",
    "    [-45, -2, 0, 5]\n",
    "    \"\"\"\n",
    "    if len(collection) < 2:\n",
    "        return collection\n",
    "    pivot = collection.pop()  # Use the last element as the first pivot\n",
    "    greater = []  # All elements greater than pivot\n",
    "    lesser = []  # All elements less than or equal to pivot\n",
    "    for element in collection:\n",
    "        (greater if element > pivot else lesser).append(element)\n",
    "    return quick_sort(lesser) + [pivot] + quick_sort(greater)"
   ]
  },
  {
   "cell_type": "code",
   "execution_count": null,
   "metadata": {},
   "outputs": [],
   "source": [
    "print(quick_sort([2, 3, 4, 5]))\n",
    "print(quick_sort(['r', 'e', 'd', 'i']))"
   ]
  }
 ]
}