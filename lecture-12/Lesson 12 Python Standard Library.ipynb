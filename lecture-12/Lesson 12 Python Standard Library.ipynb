{
 "cells": [
  {
   "cell_type": "markdown",
   "metadata": {},
   "source": [
    "# The Python Standard Library\n",
    "\n",
    "\n",
    "1. [Os/platform](#Os/platform)\n",
    "2. [Sys](#Sys)\n",
    "3. [Time](#Time)\n",
    "4. [Datetime](#Datetime)\n",
    "5. [Containers](#Containers)\n",
    "6. [Itertools](#Itertools)\n",
    "7. [CSV](#CSV)\n",
    "8. [XML](#XML)\n",
    "9. [Tkinter](#Tkinter)"
   ]
  },
  {
   "cell_type": "markdown",
   "metadata": {},
   "source": [
    "# Os/platform\n",
    "\n",
    "- The os module stands for *miscellaneous **operating system** interfaces*. \n",
    "\n",
    "- The module provides operating system dependent functionalities in a portable way. Some functions are are platform independent other are only available for a specific ones\n",
    "\n",
    "- Using os module is useful to retrieve the **information on your operating system or computer profile**. \n",
    "\n",
    "- You can use the os module to **work with files and directories**\n",
    "\n",
    "Check the docs of the os library https://docs.python.org/3/library/os.html\n",
    "\n",
    "## Working with files and paths"
   ]
  },
  {
   "cell_type": "code",
   "execution_count": null,
   "metadata": {},
   "outputs": [],
   "source": [
    "# What if you need to look up the current working directory?\n",
    "import os\n",
    "\n",
    "# Retrieve the absolute path of your working directory for the jupyter notebook script\n",
    "# CWD: Current Working Directory\n",
    "print(os.getcwd()) \n",
    "# What does the upper case C stand for?"
   ]
  },
  {
   "cell_type": "markdown",
   "metadata": {},
   "source": [
    "#### What is a drive?\n",
    "\n",
    "- **Windows PC drive letter**:  A single unique character A-Z assigned to a physical computer drive or drive partition on Windows\n",
    "\n",
    "| Drive letter | (Default) name/usage |\n",
    "|  :-: |  :- | \n",
    "| A | Floppy disk drive (historically) | \n",
    "| B | Floppy disk drive (historically) | \n",
    "| C | Boot drive, first hard disk partition (default hard drive)| \n",
    "| D | Disc drive (CD-ROM) | \n",
    "| E-Z |  USB flash drive, DVD drive, ...| \n",
    "\n",
    "\n",
    "\n",
    "- https://docs.microsoft.com/en-us/windows-hardware/drivers/gettingstarted/what-is-a-driver-#:~:text=In%20the%20most%20fundamental%20sense,device%20communicate%20with%20each%20other.&text=The%20application%20calls%20a%20function,function%20implemented%20by%20the%20driver.\n",
    "- https://www.pcworld.com/article/2686193/all-about-drive-letters-and-drive-names.html#:~:text=The%20drive%20letter%20standard%2C%20with,E%3A%2C%20and%20so%20on.\n",
    "- https://www.computerhope.com/jargon/d/drivelet.htm"
   ]
  },
  {
   "cell_type": "markdown",
   "metadata": {},
   "source": [
    "#### Recap on file paths:\n",
    "\n",
    "- ***Relative path*** is the directory location relative to a current working directory\n",
    "- Dot \".\": ***current directory***\n",
    "- Double-dot \"..\": ***parent directory***\n",
    "- **Absolute** or **full path** points to the same location in a file system, independent of the current working directory.\n",
    "\n"
   ]
  },
  {
   "cell_type": "code",
   "execution_count": null,
   "metadata": {},
   "outputs": [],
   "source": [
    "# Let us out of current directory and move to the parent directory\n",
    "import os \n",
    "\n",
    "# chdir: change directory\n",
    "os.chdir('.') # What has happened?\n",
    "print(os.getcwd())"
   ]
  },
  {
   "cell_type": "code",
   "execution_count": null,
   "metadata": {},
   "outputs": [],
   "source": [
    "import os\n",
    "\n",
    "# chdir: change directory\n",
    "os.chdir('..') # What has happened now?\n",
    "print(os.getcwd())"
   ]
  },
  {
   "cell_type": "code",
   "execution_count": null,
   "metadata": {},
   "outputs": [],
   "source": [
    "import os\n",
    "\n",
    "# listdir: list directories respective to current directory \n",
    "# specified by relative path\n",
    "print(os.listdir(path='.'))"
   ]
  },
  {
   "cell_type": "code",
   "execution_count": null,
   "metadata": {},
   "outputs": [],
   "source": [
    "import os \n",
    "\n",
    "# listdir: list directories respective to current directory \n",
    "# specified by absolute path\n",
    "print(os.listdir(path=os.getcwd()))"
   ]
  },
  {
   "cell_type": "code",
   "execution_count": null,
   "metadata": {},
   "outputs": [],
   "source": [
    "# Now let us move back into the previous working directory\n",
    "import os\n",
    "\n",
    "# First let us create the path to move into without worrying about file path convention\n",
    "relative_path = os.path.join('.','lecture-12')\n",
    "absolute_path = os.path.join(os.getcwd(),'lecture-12')\n",
    "\n",
    "print(\"Backslash Windows synthax done automatically \\nNo issues with escape characters such as with '\\\\f'\\n\")\n",
    "\n",
    "print('Relative path:',relative_path)\n",
    "print('Absolute path:',absolute_path)\n",
    "\n",
    "os.chdir(relative_path)\n"
   ]
  },
  {
   "cell_type": "code",
   "execution_count": null,
   "metadata": {},
   "outputs": [],
   "source": [
    "import os\n",
    "\n",
    "# Did we go back?\n",
    "\n",
    "print(os.getcwd())"
   ]
  },
  {
   "cell_type": "code",
   "execution_count": null,
   "metadata": {},
   "outputs": [],
   "source": [
    "# Now let us create an empty sub-directory\n",
    "import os\n",
    "\n",
    "# mkdir: make directory\n",
    "\n",
    "help(os.mkdir)\n",
    "sub_directory = 'my_sub_directory'\n",
    "absolute_path = os.path.join(os.getcwd(),sub_directory)\n",
    "new_directory_path = absolute_path\n",
    "\n",
    "os.mkdir(new_directory_path)"
   ]
  },
  {
   "cell_type": "code",
   "execution_count": null,
   "metadata": {},
   "outputs": [],
   "source": [
    "# Let us check our newly-created directory\n",
    "\n",
    "print(os.listdir(path='.'))"
   ]
  },
  {
   "cell_type": "code",
   "execution_count": null,
   "metadata": {},
   "outputs": [],
   "source": [
    "# What if we want to rename the directory?\n",
    "# Use os.rename(“C:\\old_filename”, “C:\\new_filename”)\n",
    "import os\n",
    "\n",
    "# Source\n",
    "old_dir = 'my_sub_directory'\n",
    "old_dir_path = os.path.join(os.getcwd(),old_dir)\n",
    "\n",
    "# Destination\n",
    "new_dir = 'renamed_sub_directory'\n",
    "new_dir_path = os.path.join(os.getcwd(),new_dir)\n",
    "\n",
    "os.rename(old_dir_path, new_dir_path)\n",
    "print(os.listdir(path=os.getcwd()))"
   ]
  },
  {
   "cell_type": "code",
   "execution_count": null,
   "metadata": {},
   "outputs": [],
   "source": [
    "# Function os.rename also works for renaming files\n",
    "help(os.rename)"
   ]
  },
  {
   "cell_type": "code",
   "execution_count": null,
   "metadata": {},
   "outputs": [],
   "source": [
    "# Now let us remove the empty directory with \n",
    "import os\n",
    "\n",
    "# rmdir: remove directory\n",
    "\n",
    "os.rmdir(new_dir_path)\n",
    "print(os.listdir(path='.'))"
   ]
  },
  {
   "cell_type": "code",
   "execution_count": null,
   "metadata": {},
   "outputs": [],
   "source": [
    "# Let us rename a file:\n",
    "\n",
    "if os.path.exists(\"demofile.txt\"):\n",
    "    \n",
    "    source =  \"demofile.txt\"\n",
    "    destination = \"demofile.dat\"\n",
    "    print(os.listdir(path='.'))\n",
    "    # Renaming\n",
    "    os.rename(source,destination)\n",
    "    print(os.listdir(path='.'))\n",
    "    # Resetting the renaming\n",
    "    os.rename(destination,source)\n",
    "    print(os.listdir(path='.'))\n",
    "else:\n",
    "    print(\"The file does not exist\")"
   ]
  },
  {
   "cell_type": "code",
   "execution_count": null,
   "metadata": {},
   "outputs": [],
   "source": [
    "# Let us create a dummy file, add text and then delete it using os.remove\n",
    "import os\n",
    "\n",
    "print(os.listdir(path=os.getcwd()))\n",
    "with open(\"dummy_file.txt\",mode=\"x\") as file:\n",
    "    file.write(\"text\")\n",
    "print(os.listdir(path=os.getcwd()))\n",
    "os.remove(\"dummy_file.txt\")\n",
    "print(os.listdir(path=os.getcwd()))"
   ]
  },
  {
   "cell_type": "markdown",
   "metadata": {},
   "source": [
    "### What about working with non-empty directories?\n",
    "\n",
    "- Use function **os.renames** to recursively rename a directory (homework)\n",
    "- Use function **os.removedir** to recursively remove a directory (homework)"
   ]
  },
  {
   "cell_type": "markdown",
   "metadata": {},
   "source": [
    "#### Retrieving misc. information"
   ]
  },
  {
   "cell_type": "code",
   "execution_count": null,
   "metadata": {},
   "outputs": [],
   "source": [
    "import os\n",
    "\n",
    "# OS types: 'posix' (Linux), 'nt' (Windows), 'os2', 'ce', 'java', 'riscos'.\n",
    "print(os.name)\n",
    "\n",
    "# Get name of logged in user\n",
    "os.getlogin()\n",
    "\n",
    "\n",
    "#Get number of hardware processor kernels\n",
    "print(os.cpu_count())"
   ]
  },
  {
   "cell_type": "markdown",
   "metadata": {},
   "source": [
    "### Platform \n",
    "\n",
    "- **Plaform**: Library to access underlying platform’s identifying data\n",
    "- The os library may be limited. Use platform library to retrieve more OS/hardware information\n",
    "- Platform functions contained in sys library as well"
   ]
  },
  {
   "cell_type": "code",
   "execution_count": null,
   "metadata": {},
   "outputs": [],
   "source": [
    "import platform\n",
    "\n",
    "print(platform.uname())"
   ]
  },
  {
   "cell_type": "markdown",
   "metadata": {},
   "source": [
    "# Sys\n",
    "\n",
    "The sys module provides access to some variables used or maintained by the interpreter and to functions that interact strongly with the interpreter.\n",
    "\n",
    "Check the docs of the sys library: https://docs.python.org/3/library/sys.html\n"
   ]
  },
  {
   "cell_type": "code",
   "execution_count": null,
   "metadata": {},
   "outputs": [],
   "source": [
    "import sys\n",
    "\n",
    "# Get copyright information of used pPthon interpreter\n",
    "sys.copyright"
   ]
  },
  {
   "cell_type": "code",
   "execution_count": null,
   "metadata": {},
   "outputs": [],
   "source": [
    "# Get prefix and path of Python interpreter\n",
    "import sys\n",
    "\n",
    "print(sys.exec_prefix)\n",
    "print(sys.executable)"
   ]
  },
  {
   "cell_type": "code",
   "execution_count": null,
   "metadata": {},
   "outputs": [],
   "source": [
    "# As commented in the previous section, the platform sub-package is useable\n",
    "import sys\n",
    "\n",
    "print(sys.platform)"
   ]
  },
  {
   "cell_type": "markdown",
   "metadata": {},
   "source": [
    "| System | platform value |\n",
    "|  :-: |  :- | \n",
    "| AIX | 'aix' | \n",
    "| Linux | 'linux' | \n",
    "| Windows | 'win32' | \n",
    "| Windows/Cygwin | 'cygwin' | \n",
    "| macOS | 'darwin' | \n"
   ]
  },
  {
   "cell_type": "code",
   "execution_count": null,
   "metadata": {},
   "outputs": [],
   "source": [
    "# Get info on python version\n",
    "print(sys.version_info)\n",
    "\n",
    "# The C API version for this interpreter. \n",
    "# Programmers may find this useful when debugging version conflicts between \n",
    "# Python and extension modules.\n",
    "print(sys.api_version)"
   ]
  },
  {
   "cell_type": "code",
   "execution_count": null,
   "metadata": {
    "slideshow": {
     "slide_type": "-"
    }
   },
   "outputs": [],
   "source": [
    "# Use sys.exit to terminate Python code with system exit status\n",
    "help(sys.exit)\n",
    "\n",
    "sys.exit(\"Ending jupyter cell\")\n",
    "print(\"This line of code will not be executed.\")"
   ]
  },
  {
   "cell_type": "markdown",
   "metadata": {},
   "source": [
    "Use \"sys.argv\" to use command line arguments\n",
    "\n",
    "- The list of command line arguments passed to a Python script. \n",
    "- argv[0] is the script name\n",
    "\n",
    "Better demonstrated on an actual command line."
   ]
  },
  {
   "cell_type": "markdown",
   "metadata": {},
   "source": [
    "# Time\n",
    "\n",
    "The time module provides various time-related functions. \n",
    "\n",
    "Check the docs of the time library: https://docs.python.org/3/library/time.html"
   ]
  },
  {
   "cell_type": "code",
   "execution_count": null,
   "metadata": {},
   "outputs": [],
   "source": [
    "import time\n",
    "\n",
    "# The time() function returns the number of seconds passed since epoch.\n",
    "# For Windows NT system, January 1, 1601\n",
    "# For Unix system, January 1, 1970, 00:00:00 at UTC is epoch (the point where time begins).\n",
    "\n",
    "seconds = time.time()\n",
    "\n",
    "print(\"Seconds since epoch =\", seconds)\n",
    "\n",
    "# The gmtime() function takes the number of seconds passed since epoch \n",
    "# as an argument and returns struct_time in UTC.\n",
    "print(time.gmtime(seconds))"
   ]
  },
  {
   "cell_type": "code",
   "execution_count": null,
   "metadata": {},
   "outputs": [],
   "source": [
    "# The epoch convention?\n",
    "print(\"Appr. amount of years =\",seconds/60/60/24/365)"
   ]
  },
  {
   "cell_type": "code",
   "execution_count": null,
   "metadata": {},
   "outputs": [],
   "source": [
    "# Use zero seconds and verify\n",
    "\n",
    "print(\"Always verify attributes\", time.gmtime(0)) # tm_wday: 0, 1, ..., 6; Monday is 0\n",
    "print(type(time.gmtime(0)))"
   ]
  },
  {
   "cell_type": "code",
   "execution_count": null,
   "metadata": {},
   "outputs": [],
   "source": [
    "# Let us get a formatted output of the current time with time.ctime\n",
    "import time\n",
    "\n",
    "seconds = time.time()\n",
    "\n",
    "# ctime: calender time\n",
    "local_time = time.ctime(seconds)\n",
    "print(\"Local time:\", local_time)"
   ]
  },
  {
   "cell_type": "code",
   "execution_count": null,
   "metadata": {},
   "outputs": [],
   "source": [
    "# Python time.sleep function is used to add delay in the execution of a program. \n",
    "# In practise, sleeping is used to schedule tasks\n",
    "\n",
    "import time\n",
    "\n",
    "print(\"This is printed immediately.\")\n",
    "time.sleep(5.0)\n",
    "print(\"This is printed after 5 seconds.\")"
   ]
  },
  {
   "cell_type": "code",
   "execution_count": null,
   "metadata": {},
   "outputs": [],
   "source": [
    "# The time.localtime function takes the number of seconds passed since epoch as an argument \n",
    "# and returns struct_time in local time.\n",
    "import time\n",
    "\n",
    "result = time.localtime(1545925769)\n",
    "print(\"result:\", result)\n",
    "print(\"\\nyear:\", result.tm_year)\n",
    "print(\"tm_hour:\", result.tm_hour)"
   ]
  },
  {
   "cell_type": "code",
   "execution_count": null,
   "metadata": {},
   "outputs": [],
   "source": [
    "# Conversely,  time.mktime the inverse function of localtime\n",
    "# The mktime function takes struct_time \n",
    "# (or a tuple containing 9 elements corresponding to struct_time) as an argument\n",
    "# returns the seconds passed since epoch in local time\n",
    "\n",
    "import time\n",
    "\n",
    "t = (2018, 12, 28, 8, 44, 4, 4, 362, 0)\n",
    "t_ = time.gmtime(time.time())\n",
    "print(\"tuple\",t)\n",
    "print(\"time.struct_time\", t_)\n",
    "\n",
    "generic_date = time.mktime(t)\n",
    "current_date = time.mktime(t_)\n",
    "\n",
    "print(\"Generic date in seconds:\", generic_date)\n",
    "print(\"Current date in seconds:\", current_date)\n",
    "\n"
   ]
  },
  {
   "cell_type": "code",
   "execution_count": null,
   "metadata": {},
   "outputs": [],
   "source": [
    "import time\n",
    "\n",
    "seconds = 1545925769\n",
    "\n",
    "# returns struct_time\n",
    "t = time.localtime(seconds)\n",
    "print(\"t1: \", t)\n",
    "\n",
    "# returns seconds from struct_time\n",
    "s = time.mktime(t)\n",
    "print(\"\\s:\", seconds)"
   ]
  },
  {
   "cell_type": "code",
   "execution_count": null,
   "metadata": {},
   "outputs": [],
   "source": [
    "# Test execution time of code\n",
    "\n",
    "import time\n",
    "\n",
    "t0 = time.time()\n",
    "\n",
    "x = 0\n",
    "for i in range(0,10**7): # Seven zeros needed for for-loop to take longer on my computer\n",
    "    x += 1\n",
    "\n",
    "t1 = time.time()\n",
    "\n",
    "elapsed_time = t1-t0\n",
    "print(\"Output\", str(x))\n",
    "print(\"Elapsed time:\", elapsed_time, \"s\")"
   ]
  },
  {
   "cell_type": "code",
   "execution_count": null,
   "metadata": {},
   "outputs": [],
   "source": [
    "# Test execution time of code reexpressed in nested for loop\n",
    "\n",
    "import time\n",
    "\n",
    "t0 = time.time()\n",
    "\n",
    "x = 0\n",
    "for i in range(0,100): \n",
    "    for j in range(0,100):\n",
    "         for k in range(0,100):\n",
    "            for k in range(0,10): # Four for loops: 100*100*100*10 = 10**7 ~ 1 s (Complexity theory)\n",
    "                x += 1 \n",
    "\n",
    "t1 = time.time()\n",
    "\n",
    "elapsed_time = t1-t0\n",
    "print(\"Output\", str(x))\n",
    "print(\"Simlar elapsed time:\", elapsed_time, \"s\")"
   ]
  },
  {
   "cell_type": "code",
   "execution_count": null,
   "metadata": {},
   "outputs": [],
   "source": [
    "# Let us add extra loops to get a code which will take 10.000 years to finish computing\n",
    "# => Bottle necks in computational performance \n",
    "# What tasks are even useful for a computer?\n",
    "\n",
    "import time\n",
    "\n",
    "t0 = time.time()\n",
    "\n",
    "x = 0\n",
    "for i in range(0,100): # ~ 1 microsecond (0.1 ms divided by 100)\n",
    "    for j in range(0,100): # ~ 0.1 ms (0.01 s divided by 100)\n",
    "         for k in range(0,100):# ~ 0.01 s (1.s divided by 100)\n",
    "            for k in range(0,10): # ~ 1 s (this we tested in the previous cell)\n",
    "                for l in range(0,60): # 1 m\n",
    "                    for m in range(0,60): # 1 h\n",
    "                        for n in range(0,24): # 1 day\n",
    "                            for o in range(0,365): # 1 year\n",
    "                                for p in range(0, 10000): # 10,000 years \n",
    "                                    x += 1 \n",
    "\n",
    "t1 = time.time()\n",
    "\n",
    "elapsed_time = t1-t0\n",
    "print(\"Output\", str(x))\n",
    "print(\"Simlar elapsed time:\", elapsed_time, \"s\")"
   ]
  },
  {
   "cell_type": "markdown",
   "metadata": {},
   "source": [
    "#### How to circumentvent time performance limitations\n",
    "\n",
    "- Use **task-optimized** routines or data structure\n",
    "- Use **efficient algorithms** for a task\n",
    "- **Compile code** to C language using Cython or use more performant language such as C, C++, Fortran or assembler\n",
    "- Exploit hardware, **parallelize code** to use multiples nodes, CPUs, GPUS (high performance computing)\n",
    "- Some tasks are (timewise) computationally complex: Stop using von Neumann computer architecture\n",
    "\n",
    "#### Which libary used for time perfomance benchmarks?\n",
    "\n",
    "    import timeit\n",
    "    timeit.timeit(\"[(a, b) for a in (1, 3, 5) for b in (2, 4, 6)]\", number=1000)"
   ]
  },
  {
   "cell_type": "markdown",
   "metadata": {},
   "source": [
    "# Datetime\n",
    "\n",
    "The datetime module supplies classes for manipulating dates and times.\n",
    "\n",
    "- A date in Python is not a data type of its own, but we can import a module named datetime to work with dates as date objects."
   ]
  },
  {
   "cell_type": "code",
   "execution_count": null,
   "metadata": {},
   "outputs": [],
   "source": [
    "import datetime\n",
    "\n",
    "current_date = datetime.datetime.now()\n",
    "print(current_date)\n",
    "print()\n",
    "help(current_date)"
   ]
  },
  {
   "cell_type": "code",
   "execution_count": null,
   "metadata": {},
   "outputs": [],
   "source": [
    "print(current_date.date())\n",
    "print(type(current_date.date()))\n",
    "print(current_date.second)\n",
    "print(current_date.minute)\n",
    "print(current_date.hour)\n",
    "print(current_date.day)\n",
    "print(current_date.month)\n",
    "print(current_date.year)"
   ]
  },
  {
   "cell_type": "code",
   "execution_count": null,
   "metadata": {},
   "outputs": [],
   "source": [
    "import datetime\n",
    "\n",
    "# Create a date time object\n",
    "datetime_object = datetime.datetime(2020, 5, 17)\n",
    "print(datetime_object)\n",
    "print(datetime_object.day)"
   ]
  },
  {
   "cell_type": "markdown",
   "metadata": {},
   "source": [
    "Specific date and time formatting conventions are available.\n",
    "\n",
    "https://www.w3schools.com/python/python_datetime.asp"
   ]
  },
  {
   "cell_type": "code",
   "execution_count": null,
   "metadata": {},
   "outputs": [],
   "source": [
    "import datetime\n",
    "\n",
    "# Create a date time object\n",
    "datetime_object = datetime.datetime(2020, 5, 17)\n",
    "\n",
    "# Design your own format\n",
    "print(datetime_object.strftime(\"%B %d, %Y - %I %p\"))\n",
    "# Use  the proper weekday in Gregorian calander system\n",
    "# and add  fixed date format convention with slashes\n",
    "print(datetime_object.strftime(\"%a %D\"))"
   ]
  },
  {
   "cell_type": "markdown",
   "metadata": {},
   "source": [
    "# Containers/itertools\n",
    "\n",
    "## Collection\n",
    "\n",
    "- The collection module in Python provides different types of containers. \n",
    "- A Container is an object that is used to store different objects and provide a way to access the contained objects and iterate over them. \n",
    "- Some of the built-in containers are Tuple, List or Dictionary. We can import specialized ones."
   ]
  },
  {
   "cell_type": "markdown",
   "metadata": {},
   "source": [
    "**Counter**:\n",
    "- a sub-class of the dictionary\n",
    "- It is used to keep the count of the elements in an iterable in the form of an unordered dictionary \n",
    "- Key represents the element in the iterable and value represents the count of that element in the iterable"
   ]
  },
  {
   "cell_type": "code",
   "execution_count": null,
   "metadata": {},
   "outputs": [],
   "source": [
    "# We are using the sub-package collections from package Counter\n",
    "from collections import Counter  \n",
    "    \n",
    "# With sequence of items \n",
    "\n",
    "# 1 with list\n",
    "grocery_list = ['chocolate','orange','apple','chocolate', 'apple',\n",
    "                'chocolate','apple','chocolate','milk','chocolate','milk']\n",
    "\n",
    "print(Counter(grocery_list)) \n",
    "    \n",
    "# 2 with dictionary  \n",
    "grocery_dict = {'chocolate': 5, 'apple': 3, 'milk': 2, 'orange': 1}\n",
    "print(Counter(grocery_dict)) \n",
    "    \n",
    "# 3 with keyword arguments  \n",
    "print(Counter(chocolate=5, apple=3, milk=2, orange=1))"
   ]
  },
  {
   "cell_type": "markdown",
   "metadata": {},
   "source": [
    "Container **defaultdict** works exactly like a normal dictionary, but is initialized with a function “default factory” that takes no arguments and **provides the default value for a nonexistent key**.\n",
    "\n",
    "- A **defaultdict will never raise a KeyError**. Any key that does not exist gets the value returned by the default factory.\n",
    "- A method to avoid many dictionary key checking in code"
   ]
  },
  {
   "cell_type": "code",
   "execution_count": null,
   "metadata": {},
   "outputs": [],
   "source": [
    "# Python program to demonstrate \n",
    "# defaultdict \n",
    "  \n",
    "  \n",
    "from collections import defaultdict \n",
    "  \n",
    "  \n",
    "# Function to return a default \n",
    "# values for keys that is not \n",
    "# present \n",
    "def def_value(): \n",
    "    return 0\n",
    "      \n",
    "# Defining the dict \n",
    "d = defaultdict(def_value) \n",
    "d[\"chocolate\"] = 5\n",
    "d[\"apple\"] = 3\n",
    "d[\"banana\"] = 2\n",
    "  \n",
    "print(d[\"chocolate\"]) \n",
    "print(d[\"apple\"]) \n",
    "print(d[\"banana\"]) \n",
    "print(d[\"carrot\"])"
   ]
  },
  {
   "cell_type": "code",
   "execution_count": null,
   "metadata": {},
   "outputs": [],
   "source": [
    "# Defining the dict \n",
    "d = {}\n",
    "d[\"chocolate\"] = 5\n",
    "d[\"apple\"] = 3\n",
    "d[\"banana\"] = 2\n",
    "  \n",
    "print(d[\"chocolate\"]) \n",
    "print(d[\"apple\"]) \n",
    "print(d[\"banana\"]) \n",
    "print(d[\"carrot\"])"
   ]
  },
  {
   "cell_type": "code",
   "execution_count": null,
   "metadata": {},
   "outputs": [],
   "source": [
    "# Ordered dict will maintain its order unlike conventional dictionaries\n",
    "\n",
    "from collections import OrderedDict  \n",
    "\n",
    "\n",
    "print(\"\\nThis is an ordered dict:\\n\")  \n",
    "\n",
    "# Create instance of OrderedDict class\n",
    "od = OrderedDict()  \n",
    "od['apple'] = 1\n",
    "od['chocolate'] = 3\n",
    "od['banana'] = 2\n",
    "\n",
    "print(od)"
   ]
  },
  {
   "cell_type": "code",
   "execution_count": null,
   "metadata": {},
   "outputs": [],
   "source": [
    "# A ChainMap encapsulates many dictionaries into a single unit \n",
    "# and returns a list of dictionaries.\n",
    "\n",
    "from collections import ChainMap  \n",
    "     \n",
    "     \n",
    "d1 = {'a': 1, 'b': 2} \n",
    "d2 = {'c': 3, 'd': 4} \n",
    "d3 = {'e': 5, 'f': 6} \n",
    "  \n",
    "# Defining the chainmap  \n",
    "c = ChainMap(d1, d2, d3)  \n",
    "     \n",
    "print(c)"
   ]
  },
  {
   "cell_type": "code",
   "execution_count": null,
   "metadata": {},
   "outputs": [],
   "source": [
    "#Deque (Doubly Ended Queue) is the optimized list for quicker append and pop operations \n",
    "# from both sides of the container\n",
    "\n",
    "from collections import deque \n",
    "    \n",
    "# Declaring deque \n",
    "grocery_queue = deque(['butter','orange','banana'])  \n",
    "print(grocery_queue)\n",
    "\n",
    "# Append right: add entry to right end of queue\n",
    "grocery_queue.append('chocolate') \n",
    "print(grocery_queue)\n",
    "\n",
    "# Append left: add entry to left end of queue\n",
    "grocery_queue.appendleft('chocolate') \n",
    "print(grocery_queue)\n",
    "\n",
    "# Pop right: remove entry from right end of queue\n",
    "grocery_queue.pop()  \n",
    "print(grocery_queue)\n",
    "\n",
    "# Pop left: remove entry from right end of queue\n",
    "grocery_queue.popleft() \n",
    "print(grocery_queue)"
   ]
  },
  {
   "cell_type": "markdown",
   "metadata": {},
   "source": [
    "## Itertools\n",
    "\n",
    "The itertools module implements a number of iterator building blocks.\n",
    "\n",
    "- Module standardizes a core set of fast, memory efficient tools which can be in combination. \n",
    "- They form an “iterator algebra” making it possible to construct specialized tools succinctly and efficiently in pure Python\n",
    "\n"
   ]
  },
  {
   "cell_type": "code",
   "execution_count": null,
   "metadata": {},
   "outputs": [],
   "source": [
    "import itertools\n",
    "\n",
    "# Take the all possible two place char list (string) arrangements\n",
    "two_fold_product = itertools.product(\"ACGT\", repeat=2)\n",
    "\n",
    "# Itertools.product object t\n",
    "print(type(two_fold_product))\n",
    "# Unpack object with star for printing\n",
    "print(*two_fold_product)\n",
    "\n",
    "# Take the all possible four place int list arrangements\n",
    "four_fold_product = itertools.product([0,1], repeat=4)\n",
    "\n",
    "# Unpack object with star for printing\n",
    "print(*four_fold_product) "
   ]
  },
  {
   "cell_type": "code",
   "execution_count": null,
   "metadata": {},
   "outputs": [],
   "source": [
    "import itertools\n",
    "\n",
    "dna_encoding = \"ACGT\"\n",
    "dna_permutations = itertools.permutations(dna_encoding, r=2)\n",
    "print(\"permutations\", type(dna_permutations) )\n",
    "print(*dna_permutations)\n",
    "\n",
    "dna_combinations = itertools.combinations(dna_encoding, r=2)\n",
    "print(\"combinations\", type(dna_combinations))\n",
    "print(*dna_combinations)"
   ]
  },
  {
   "cell_type": "markdown",
   "metadata": {},
   "source": [
    "## CSV\n",
    " \n",
    "The csv module implements classes to read and write tabular data in CSV format. It allows programmers to say, “write this data in the format preferred by Excel,” or “read data from this file which was generated by Excel,” without knowing the precise details of the CSV format used by Excel."
   ]
  },
  {
   "cell_type": "code",
   "execution_count": null,
   "metadata": {},
   "outputs": [],
   "source": [
    "import os\n",
    "import csv\n",
    "\n",
    "with open(os.path.join('.','folder','grocery_list.csv')) as csvfile:\n",
    "    readCSV = csv.reader(csvfile, delimiter=';')\n",
    "    for row in readCSV:\n",
    "        print(row[0],row[1],row[2])"
   ]
  },
  {
   "cell_type": "markdown",
   "metadata": {},
   "source": [
    "## XML\n",
    "\n",
    "Python’s interfaces for processing XML are grouped in the xml package.\n",
    "\n",
    "- **Elements**: Sections in XML documents defined by a beginning and an ending tag\n",
    "- **Root**: largest, top-level element containing all other elements\n",
    "- Elements can contain markup, including other elements, which are called \"child elements\"\n",
    "- **Tag**: is a markup construct that begins with < and ends with >\n",
    "- **Element's content**: characters between the start-tag and end-tag\n",
    "- **Attributes**: name–value pair that exist within a start-tag or empty-element tag\n",
    "- XML attribute can only have a **single value** and each attribute can appear **at most once** on each element."
   ]
  },
  {
   "cell_type": "code",
   "execution_count": null,
   "metadata": {},
   "outputs": [],
   "source": [
    "# A common practice to use the alias of ET\n",
    "import xml.etree.ElementTree as ET\n",
    "\n",
    "\n",
    "# String xml parsing\n",
    "with open(file_path) as xml_file:\n",
    "    xml_string = xml_file.read()\n",
    "    \n",
    "root = ET.fromstring(xml_string)\n",
    "root = tree.getroot()\n",
    "print(root)\n",
    "\n",
    "print(xml_string)"
   ]
  },
  {
   "cell_type": "code",
   "execution_count": null,
   "metadata": {},
   "outputs": [],
   "source": [
    "import xml.etree.ElementTree as ET\n",
    "\n",
    "\n",
    "file_path = os.path.join('.','folder','widget_metadata.xml')\n",
    "\n",
    "\n",
    "# File xml data parsing\n",
    "tree = ET.parse(file_path)\n",
    "root = tree.getroot()\n",
    "print(root)"
   ]
  },
  {
   "cell_type": "code",
   "execution_count": null,
   "metadata": {},
   "outputs": [],
   "source": [
    "print(root.tag)\n",
    "print(root.attrib)\n",
    "        "
   ]
  },
  {
   "cell_type": "code",
   "execution_count": null,
   "metadata": {},
   "outputs": [],
   "source": [
    "# The root node contains children nodes over which we can iterate\n",
    "\n",
    "for child in root:\n",
    "    print(child.tag, child.attrib)"
   ]
  },
  {
   "cell_type": "code",
   "execution_count": null,
   "metadata": {},
   "outputs": [],
   "source": [
    "\n",
    "[elem.tag for elem in root.iter()]"
   ]
  },
  {
   "cell_type": "code",
   "execution_count": null,
   "metadata": {},
   "outputs": [],
   "source": [
    "for item in root.iter('image'):\n",
    "    print(item.tag, item.attrib)\n",
    "\n",
    "# Linux synthax for path\n",
    "print(*[(x.tag) for x in root.findall('./image/*')])\n",
    "    "
   ]
  },
  {
   "cell_type": "markdown",
   "metadata": {},
   "source": [
    "### Tkinter\n",
    "\n",
    "The Tkinter package is a thin object-oriented layer on top of Tcl/Tk used to create **graphical user interfaces** (GUIs)"
   ]
  },
  {
   "cell_type": "code",
   "execution_count": null,
   "metadata": {},
   "outputs": [],
   "source": [
    "import tkinter\n",
    "\n",
    "# A window is an instance of Tkinter’s Tk class\n",
    "window = tkinter.Tk()\n",
    "\n",
    "# Add code to widgets\n",
    "# ...\n",
    "\n",
    "# window.mainloop() tells Python to run the Tkinter event loop. \n",
    "# This method listens for events, such as button clicks or keypresses,\n",
    "# blocks any code that comes after it from running until the window is closed.\n",
    "top.mainloop()"
   ]
  },
  {
   "cell_type": "code",
   "execution_count": null,
   "metadata": {},
   "outputs": [],
   "source": [
    "import tkinter\n",
    "\n",
    "# A window is an instance of Tkinter’s Tk class\n",
    "window = tkinter.Tk()\n",
    "\n",
    "\n",
    "# Add code to widgets\n",
    "label = tkinter.Label(\n",
    "    text=\"Hello, Tkinter\",\n",
    "    foreground=\"black\",  # Set the text color to white\n",
    "    background=\"grey\"  # Set the background color to black\n",
    ")\n",
    "\n",
    "#Pack methond necessary to embed label in existing widget\n",
    "label.pack()\n",
    "\n",
    "# window.mainloop() tells Python to run the Tkinter event loop. \n",
    "# This method listens for events, such as button clicks or keypresses,\n",
    "# blocks any code that comes after it from running until the window is closed.\n",
    "top.mainloop()"
   ]
  },
  {
   "cell_type": "code",
   "execution_count": null,
   "metadata": {},
   "outputs": [],
   "source": [
    "import tkinter\n",
    "\n",
    "# A window is an instance of Tkinter’s Tk class\n",
    "window = tkinter.Tk()\n",
    "\n",
    "\n",
    "# Add code to widgets\n",
    "label_1 = tkinter.Label(window, text=\"Red Sun\", bg=\"red\", fg=\"white\")\n",
    "# fill in x direction (width), border the background with 10 pixel padding\n",
    "label_1.pack(fill=tkinter.X,padx=10)\n",
    "\n",
    "label_2 = tkinter.Label(window, text=\"Green Grass\", bg=\"green\", fg=\"black\")\n",
    "label_2.pack(fill=tkinter.X,padx=10)\n",
    "\n",
    "label_3 = tkinter.Label(window, text=\"Blue Sky\", bg=\"blue\", fg=\"white\")\n",
    "label_3.pack(fill=tkinter.X,padx=10)\n",
    "\n",
    "# window.mainloop() tells Python to run the Tkinter event loop. \n",
    "# This method listens for events, such as button clicks or keypresses,\n",
    "# blocks any code that comes after it from running until the window is closed.\n",
    "top.mainloop()"
   ]
  },
  {
   "cell_type": "code",
   "execution_count": null,
   "metadata": {},
   "outputs": [],
   "source": [
    "# Using an alternative grid layout\n",
    "\n",
    "from tkinter import *\n",
    "\n",
    "colours = ['red','green','orange','white','yellow','blue']\n",
    "\n",
    "# Row number\n",
    "r = 0\n",
    "# Iterate over colors\n",
    "for c in colours:\n",
    "    # Create Label entry pairs\n",
    "    # Labels \n",
    "    Label(text=c, relief=RIDGE,width=15).grid(row=r,column=0)\n",
    "    # Entries per column\n",
    "    Entry(bg=c, relief=SUNKEN,width=30).grid(row=r,column=1)\n",
    "    r = r + 1\n",
    "\n",
    "mainloop()"
   ]
  },
  {
   "cell_type": "code",
   "execution_count": null,
   "metadata": {},
   "outputs": [],
   "source": [
    "# Using an interactive button \n",
    "\n",
    "import tkinter as tk\n",
    "\n",
    "# Our counting function\n",
    "counter = 0 \n",
    "# Label data type as input\n",
    "def counter_label(label):\n",
    "  def count():\n",
    "    global counter\n",
    "    counter += 1\n",
    "    label.config(text=str(counter))\n",
    "    # Counting step 1000 ms = 1 s\n",
    "    label.after(1000, count)\n",
    "  count()\n",
    " \n",
    " \n",
    "window = tk.Tk()\n",
    "window.title(\"Counting Seconds\")\n",
    "\n",
    "label = tk.Label(window, fg=\"green\")\n",
    "label.pack()\n",
    "\n",
    "counter_label(label)\n",
    "# Command to close window: window.destroy\n",
    "button = tk.Button(window, text='Stop', width=25, command=window.destroy)\n",
    "button.pack()\n",
    "\n",
    "window.mainloop()"
   ]
  },
  {
   "cell_type": "markdown",
   "metadata": {},
   "source": [
    "**Exercises**:\n",
    "\n",
    "#### OS\n",
    "\n",
    "- Use the \"os.sep\" and \"os.linesep\" functions and check the seperators of your system. How do these differ from Windows and Linux operating systems? (https://en.wikipedia.org/wiki/Path_(computing)#Absolute_and_relative_paths)\n",
    "- Create and write a file in a sub-directory, change the working directory and append more text to it\n",
    "- Check out the docs of the os.path functions  isdir, isfile, islink, exists; notate the input arguments an return values and demonstrate their usage for (non-)exising directories, files or links\n",
    "- Write a function with stores an arbitrary file (with content into an arbitrary directory path, the function should not fail: if the directory does not exist create it, if the file name \"fname.extension\" exists create a enumerated copy file such as  -\"fname - Copy (2).extension\" (no file overwriting)\n",
    "- Write a function \"delete_parent_directory\" which takes a directory path and removes it. Test the function on a directory containing (non-empty) sub-directories and files\n",
    "-  Write a function \"rename_parent_directory\" which takes a directory path and renames it. Test the function on a directory containing (non-empty) sub-directories and files.\n",
    "- Try to use Python functions to change working directory to that of the drive. Try using a USB stick or CD-ROM and list content on that associated drive.\n",
    "\n",
    "#### Platform\n",
    "\n",
    "- Check the individual functions/methods of the \"platform\" library to retrieve the entries of \"platform.uname\". Write a class os_sys. The initializer should store each entry property. These OS attributes should only be retrievable with getter functions. Then create an instance of the class and print the output of each getter function. **Tip**: Regarding class structure example, check the first code block in https://www.python-course.eu/python3_properties.php\n",
    "\n",
    "#### Sys\n",
    "- Check your version of python\n",
    "- Use argv to run a python script on the command line. Use the script \"add.py\" to do a simple addition task with variable number of arguments. If the option -h or --help is detected as an argument, print the documentation of the function instead.\n",
    "\n",
    "#### Time\n",
    "- Put the nested for loop example into a function \"run_nested_incrementor\" which returns the final value of x. Use the the timeit library to determine the average run time with 500 samples.\n",
    "\n",
    "#### Datetime\n",
    "- Create a function to read a German date string such as (e.g. 17.11.2020) and convert it into a American date convention ( e.g. 11/17/2020 or 11-17-2020). Use the function and print the return value.\n",
    "- Write a function get_time_zone which returns the internally stored timezone, look at the docs.\n",
    "\n",
    "#### Itertools\n",
    "\n",
    "- Check out the \"itertools.combinations_with_replacement\" function. How does \"itertools.combinations\" differ? Compare the results for \"ACGT\"\n",
    "- How many ways are there to make change for a 100  $\\text{€}$ bill using any number of 50  $\\text{€}$, 20 $\\text{€}$, 10 $\\text{€}$, 5 $\\text{€}$ and 1  $\\text{€}$ euro bills? **Tip**: Iterate over each combination and check if the sum results to 100 $\\text{€}$. Check the link for further reading on itertools: https://realpython.com/python-itertools/\n",
    "- How many ways are there to make change for a  $\\text{\\$}$ 1  bill using any number of 25, 10, 5 and 1 cent coins? **Tip**: Iterate over each combination and check if the sum results to $\\text{\\$}$ 1.\n",
    "\n",
    "#### Container\n",
    "\n",
    "- Check out the queue library. What is a queue data type? \n",
    "- What is the difference between LIFO and FIFO?\n",
    "- Recreate our longest grocery list starting from empty LIFO and FIFO queues using the put method and successively print out the entries removed with the get method.\n",
    "- What kind of Python programming feature is typically used with queues data structures?\n",
    "Further reading: https://www.guru99.com/python-queue-example.html\n",
    "\n",
    "- What is a stack and what kind of Python implementations exist? Which one have we learned about in this session? What are stacks good for? Further reading: \n",
    "  - https://www.geeksforgeeks.org/stack-in-python/ \n",
    "  - https://www.edureka.co/blog/stack-in-python/#:~:text=Stacks%20are%20simple%20data%20structures,for%20insert%20and%20delete%20operations.\n",
    "\n",
    "#### XML\n",
    "\n",
    "- Write a script to read the example xml file and convert it to its json format. **Tip**: Use ideas or code snippets from this site https://www.geeksforgeeks.org/python-xml-to-json/\n",
    "\n",
    "#### Tkinter\n",
    "\n",
    "- There are three main graphical layouts: place, grid and label. Create an example with the place layout. Warning: grid and place should not be mixed in the same Master window.\n",
    "\n",
    "- Play around with and create your own cool tkinter GUI. Think of a use purpose you would like to use it for."
   ]
  }
 ],
 "metadata": {
  "celltoolbar": "Slideshow",
  "kernelspec": {
   "display_name": "Python 3",
   "language": "python",
   "name": "python3"
  },
  "language_info": {
   "codemirror_mode": {
    "name": "ipython",
    "version": 3
   },
   "file_extension": ".py",
   "mimetype": "text/x-python",
   "name": "python",
   "nbconvert_exporter": "python",
   "pygments_lexer": "ipython3",
   "version": "3.7.9"
  }
 },
 "nbformat": 4,
 "nbformat_minor": 4
}
