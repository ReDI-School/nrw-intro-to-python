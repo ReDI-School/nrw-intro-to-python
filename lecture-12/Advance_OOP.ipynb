{
 "cells": [
  {
   "cell_type": "markdown",
   "metadata": {
    "id": "YIi1nAzi1uhG"
   },
   "source": [
    "# Quick Recap\n",
    "\n",
    "Object-oriented programming is a programming paradigm that provides a means of structuring programs so that properties and behaviors are bundled into individual objects."
   ]
  },
  {
   "cell_type": "markdown",
   "metadata": {
    "id": "uoXH6pkc2GX4"
   },
   "source": [
    "**Class**\n",
    "A category of objects: particular data and behavior: A “circle” (same as a type in python)\n",
    "\n",
    "**Instance**\n",
    "A particular object of a class: a specific circle.\n",
    "\n",
    "**Object**\n",
    "The general case of a instance – really any value.\n",
    "\n",
    "**Attribute**\n",
    "Something that belongs to an object (or class): generally thought of as a property of the object.\n",
    "\n",
    "**Method**\n",
    "A function that belongs to a class."
   ]
  },
  {
   "cell_type": "code",
   "execution_count": null,
   "metadata": {
    "id": "pnktHp-d5zWK"
   },
   "outputs": [],
   "source": [
    "class Employee:\n",
    "    empCount = 0  # <- Class Variable!\n",
    "\n",
    "    def __init__(self, name, salary):\n",
    "        self.name = name  # <- instance variable!\n",
    "        self.salary = salary\n",
    "        Employee.empCount += 1\n",
    "\n",
    "    def displayCount(self):\n",
    "        print(\"Total Employee %d\" % Employee.empCount) \n",
    "\n",
    "    def displayEmployee(self):\n",
    "        print(\"Name : \", self.name,  \", Salary: \", self.salary) "
   ]
  },
  {
   "cell_type": "markdown",
   "metadata": {
    "id": "WflJl5uF62gD"
   },
   "source": [
    "#Creating Instance Objects\n",
    "To create instances of a class, you call the class using class name and pass in whatever arguments its __init__ method accepts."
   ]
  },
  {
   "cell_type": "code",
   "execution_count": null,
   "metadata": {
    "id": "xVDWvSAe6Nnz"
   },
   "outputs": [],
   "source": [
    "# This would create first object of Employee class\n",
    "emp1 = Employee(\"Zara\", 2000)\n",
    "# This would create second object of Employee class\n",
    "emp2 = Employee(\"Manni\", 5000)"
   ]
  },
  {
   "cell_type": "markdown",
   "metadata": {
    "id": "BIEbgq8A7UNO"
   },
   "source": [
    "#Accessing Attributes\n",
    "You access the object's attributes using the dot operator with object. Class variable would be accessed using class name as follows"
   ]
  },
  {
   "cell_type": "code",
   "execution_count": null,
   "metadata": {
    "id": "fAvdx3917Nrb"
   },
   "outputs": [],
   "source": [
    "emp1.displayEmployee()\n",
    "emp2.displayEmployee()\n",
    "print(\"Total Employee %d\" % Employee.empCount)"
   ]
  },
  {
   "cell_type": "code",
   "execution_count": null,
   "metadata": {},
   "outputs": [],
   "source": [
    "# but also:\n",
    "print(emp1.empCount, emp2.empCount)"
   ]
  },
  {
   "cell_type": "markdown",
   "metadata": {},
   "source": [
    "## 4 Principles of Object Oriented Design\n",
    "1. Encapsulation\n",
    "2. Access control: private, protected, public\n",
    "3. hiding implementation details\n",
    "4. Polymorphism\n"
   ]
  },
  {
   "cell_type": "markdown",
   "metadata": {
    "id": "G7khkadj2n_i",
    "tags": []
   },
   "source": [
    "# Encapsulation in Python\n",
    "\n",
    "*   It is the idea of wrapping data and the methods that work on data within one unit. \n",
    "*   This puts restrictions on accessing variables and methods directly and can prevent the accidental modification of data.\n",
    " "
   ]
  },
  {
   "cell_type": "markdown",
   "metadata": {
    "id": "d1Hy-PtX78iX"
   },
   "source": [
    "Compared to languages like Java that offer access modifiers (public or private) for variables and methods, Python provides access to **all the variables and methods globally**."
   ]
  },
  {
   "cell_type": "markdown",
   "metadata": {
    "id": "MKkoNBszRmP1",
    "tags": []
   },
   "source": [
    "# Methods to Control Access\n",
    "\n",
    "**Using Single Underscore (Protected Variable)**\n",
    "\n",
    "Protected members (in C++ and JAVA) are those members of the class that cannot be accessed outside the class but can be accessed from within the class and its subclasses.\n",
    "\n",
    "Python does *not know any rules* that would allow you to make a member. However there is a *convention* through which you can indicate what other should (not) access.\n",
    "\n",
    "The convention to designate a *protected*  the convention by prefixing the name of the member by a single underscore **“_”**."
   ]
  },
  {
   "cell_type": "code",
   "execution_count": null,
   "metadata": {
    "id": "DPyCR05PU54g"
   },
   "outputs": [],
   "source": [
    "class Person:\n",
    "    def __init__(self, name, age=0):\n",
    "        self.name = name\n",
    "        self._age = age\n",
    "\n",
    "    def display(self):\n",
    "        print(self.name)\n",
    "        print(self._age)\n",
    "\n",
    "person = Person('Dev', 30)\n",
    "#accessing using class method\n",
    "person.display()\n",
    "#accessing directly from outside\n",
    "print(person.name)\n",
    "print(person._age)  # this would not work with a protected variable in e.g. Java"
   ]
  },
  {
   "cell_type": "markdown",
   "metadata": {
    "id": "zdPeYTCWVCYM"
   },
   "source": [
    "**Using Double Underscores(Private Variables)**\n",
    "\n",
    "If you want to make class members i.e. methods and variables private, then you should prefix them with double underscores.\n",
    "\n",
    "Python will actually raise an eror if you try to access a private member from outside!"
   ]
  },
  {
   "cell_type": "code",
   "execution_count": null,
   "metadata": {
    "id": "Hb9KSuUCGj3z"
   },
   "outputs": [],
   "source": [
    "class Person:\n",
    "    def __init__(self, name, age=0):\n",
    "        self.name = name\n",
    "        self.__age = age\n",
    " \n",
    "    def display(self):\n",
    "        print(self.name)\n",
    "        print(self.__age)\n",
    "\n",
    "person = Person('Dev', 30)\n",
    "#accessing using class method\n",
    "person.display()\n",
    "#accessing directly from outside\n",
    "print('Trying to access variables from outside the class ')\n",
    "print(person.name)\n",
    "print(person.__age)"
   ]
  },
  {
   "cell_type": "markdown",
   "metadata": {
    "id": "ntd5DQBAVdZG"
   },
   "source": [
    "**Using Getter and Setter methods to access private variables**\n",
    "\n",
    "If you want to access and change the private variables, accessor (getter) methods and mutators(setter methods) should be used, as they are part of Class."
   ]
  },
  {
   "cell_type": "code",
   "execution_count": null,
   "metadata": {
    "id": "fVRw9d5AVq8w"
   },
   "outputs": [],
   "source": [
    "class Person:\n",
    "    def __init__(self, name, age=0):\n",
    "        self.name = name\n",
    "        self.__age = age\n",
    "\n",
    "    def display(self):\n",
    "        print(self.name)\n",
    "        print(self.__age)\n",
    "\n",
    "    @property\n",
    "    def age(self):\n",
    "        return self.__age\n",
    "\n",
    "    @age.setter\n",
    "    def age(self, new_age):\n",
    "        self.__age = new_age\n",
    "\n",
    "\n",
    "person = Person('Dev', 30)\n",
    "print(person.age)\n",
    "#accessing using class method\n",
    "person.display()\n",
    "#changing age using setter\n",
    "person.age = 31\n",
    "print(f'the person is {person.age} years old')"
   ]
  },
  {
   "cell_type": "markdown",
   "metadata": {
    "id": "OkBFnSA0V2pY"
   },
   "source": [
    "## Exercise\n",
    "\n",
    "Write a Python class named Rectangle constructed by a length and width and a method which will display the attributes. Use Data encapsulation technique to restrict scope and access through getter and setter"
   ]
  },
  {
   "cell_type": "markdown",
   "metadata": {
    "id": "jl8TPMmnaBmI"
   },
   "source": [
    "# Polymorphism in Python\n",
    "\n",
    "What is Polymorphism : The word polymorphism means having many forms. \n",
    "\n",
    "In programming, polymorphism means same function name (but different signatures) being uses for different types."
   ]
  },
  {
   "cell_type": "code",
   "execution_count": null,
   "metadata": {
    "colab": {
     "base_uri": "https://localhost:8080/"
    },
    "id": "hIsHGEQgV1v-",
    "outputId": "6433b996-1971-4a65-b10b-55c23427aa87"
   },
   "outputs": [],
   "source": [
    "# Example of inbuilt polymorphic functions :\n",
    "# Python program to demonstrate in-built poly-morphic functions\n",
    "  \n",
    "# len() being used for a string\n",
    "print(len(\"ReDi\"))\n",
    "  \n",
    "# len() being used for a list\n",
    "print(len([10, 20, 30]))"
   ]
  },
  {
   "cell_type": "code",
   "execution_count": null,
   "metadata": {},
   "outputs": [],
   "source": [
    "# We can add numbers\n",
    "print(3 + 5)\n",
    "# we can add (Concatenate) strings, lists, tuples, ...\n",
    "print([1] + [2, 3])\n",
    "print((1,) + (2, 3))"
   ]
  },
  {
   "cell_type": "markdown",
   "metadata": {
    "id": "7p07r6jXabQQ"
   },
   "source": [
    "**Polymorphism with class methods**\n",
    "\n"
   ]
  },
  {
   "cell_type": "code",
   "execution_count": null,
   "metadata": {
    "id": "HN1RSZA9cMIM"
   },
   "outputs": [],
   "source": [
    "class Rectangle:\n",
    "    def __init__(self, color, filled, width, length):\n",
    "        self.__color = color\n",
    "        self.__filled = filled\n",
    "        self.__width = width\n",
    "        self.__length = length\n",
    "\n",
    "    @property\n",
    "    def color(self):\n",
    "        return self.__color\n",
    "\n",
    "    @color.setter\n",
    "    def color(self, color):\n",
    "        self.__color = color\n",
    "\n",
    "    @property\n",
    "    def filled(self):\n",
    "        return self.__filled\n",
    "\n",
    "    @filled.setter\n",
    "    def filled(self, filled):\n",
    "        self.__filled = filled\n",
    "\n",
    "    @property\n",
    "    def area(self):\n",
    "        return self.__width * self.__length\n",
    "\n",
    "class Circle:\n",
    "    def __init__(self, color, filled, radius):\n",
    "        self.__color = color\n",
    "        self.__filled = filled\n",
    "        self.__radius = radius      \n",
    "\n",
    "    @property\n",
    "    def color(self):\n",
    "        return self.__color\n",
    "\n",
    "    @color.setter\n",
    "    def color(self, color):\n",
    "        self.__color = color\n",
    "\n",
    "    @property\n",
    "    def filled(self):\n",
    "        return self.__filled\n",
    "\n",
    "    @filled.setter\n",
    "    def filled(self, filled):\n",
    "        self.__filled = filled\n",
    "\n",
    "    @property\n",
    "    def area(self):\n",
    "\n",
    "    def get_area(self):\n",
    "        return 3.1415 * self.__radius ** 2"
   ]
  },
  {
   "cell_type": "markdown",
   "metadata": {
    "id": "R_N9eTROcekT"
   },
   "source": [
    "Did you notice the amount of duplicate code we are writing?\n",
    "\n",
    "A child class class inherits all the attributes and methods from it's parent class, but it can also add attributes and methods of it's own.\n",
    "\n",
    "![image.png](data:image/png;base64,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)"
   ]
  },
  {
   "cell_type": "code",
   "execution_count": null,
   "metadata": {
    "id": "Ic4xsVxPcPKa"
   },
   "outputs": [],
   "source": [
    "class ParentClass:\n",
    "    # body of ParentClass\n",
    "    # method1 \n",
    "    # method2\n",
    "\n",
    "class ChildClass(ParentClass):  # <- Class in parenthesis is the class we inherit from\n",
    "    # body of ChildClass\n",
    "    # method 1\n",
    "    # method 2"
   ]
  },
  {
   "cell_type": "code",
   "execution_count": null,
   "metadata": {
    "id": "AkxoNVq0cs7R"
   },
   "outputs": [],
   "source": [
    "import math\n",
    "\n",
    "class Shape:\n",
    "\n",
    "    def __init__(self, color='black', filled=False):\n",
    "        self.__color = color\n",
    "        self.__filled = filled\n",
    "\n",
    "    @property\n",
    "    def color(self):\n",
    "        return self.__color\n",
    "\n",
    "    @color.setter\n",
    "    def color(self, color):\n",
    "        self.__color = color\n",
    "\n",
    "    @property\n",
    "    def filled(self):\n",
    "        return self.__filled\n",
    "\n",
    "    @filled.setter\n",
    "    def filled(self, filled):\n",
    "        self.__filled = filled\n",
    "\n",
    "class Rectangle(Shape):\n",
    "\n",
    "    def __init__(self, length, breadth):\n",
    "        super().__init__()\n",
    "        self.__length = length\n",
    "        self.__breadth = breadth\n",
    "\n",
    "    @property\n",
    "    def length(self):\n",
    "        return self.__length\n",
    "\n",
    "    @length.setter\n",
    "    def length(self, length):\n",
    "        self.__length = length\n",
    "\n",
    "    @property\n",
    "    def breadth(self):\n",
    "        return self.__breadth\n",
    "\n",
    "    @breadth.setter\n",
    "    def set_breadth(self, breadth):\n",
    "        self.__breadth = breadth\n",
    "\n",
    "    @property\n",
    "    def area(self):\n",
    "        return self.__length * self.__breadth\n",
    "\n",
    "    @property\n",
    "    def perimeter(self):\n",
    "        return 2 * (self.__length + self.__breadth)"
   ]
  },
  {
   "cell_type": "code",
   "execution_count": null,
   "metadata": {
    "id": "fOUIyS9dcwgD"
   },
   "outputs": [],
   "source": [
    "r1 = Rectangle(10.5, 2.5)\n",
    "\n",
    "print(\"Area of rectangle r1:\", r1.area)\n",
    "print(\"Perimeter of rectangle r1:\", r1.perimeter)\n",
    "print(\"Color of rectangle r1:\", r1.color)\n",
    "print(\"Is rectangle r1 filled ? \", r1.filled)\n",
    "r1.filled = True\n",
    "print(\"Is rectangle r1 filled ? \", r1.filled)\n",
    "r1.color = \"orange\"\n",
    "print(\"Color of rectangle r1:\", r1.color)"
   ]
  },
  {
   "cell_type": "markdown",
   "metadata": {
    "id": "xCsgojuFc33u"
   },
   "source": [
    "# Exercise\n",
    "\n",
    "Make a Circle class inherited from Shape class and print its area ($\\pi \\cdot r^2$) and perimeter ($2\\cdot\\pi\\cdot r$)."
   ]
  },
  {
   "cell_type": "code",
   "execution_count": null,
   "metadata": {
    "id": "DeSHxx-PdHsp"
   },
   "outputs": [],
   "source": [
    "class Circle(Shape):\n"
   ]
  },
  {
   "cell_type": "code",
   "execution_count": null,
   "metadata": {
    "id": "MU8IoT7AdKV_"
   },
   "outputs": [],
   "source": [
    "c1 = Circle(12)\n",
    "\n",
    "print(\"Area of circle c1:\", format(c1.area))\n",
    "print(\"Perimeter of circle c1:\", format(c1.perimeter))\n",
    "print(\"Color of circle c1:\", c1.color)\n",
    "print(\"Is circle c1 filled ? \", c1.filled)\n",
    "c1.filled = True\n",
    "print(\"Is circle c1 filled ? \", c1.filled)\n",
    "c1 = \"blue\"\n",
    "print(\"Color of circle c1:\", c1.color)"
   ]
  },
  {
   "cell_type": "markdown",
   "metadata": {
    "id": "1XCNxJLXe64A"
   },
   "source": [
    "# Homework\n",
    "\n",
    "Exercise 1: Create a Vehicle class with max_speed and mileage instance attributes\n",
    "\n",
    "Exercise 2: Create a Vehicle class without any variables and methods\n",
    "\n",
    "Exercise 3: Create a child class Bus that will inherit all of the variables and methods of the Vehicle class\n",
    "\n",
    "Exercise 4: Create a Bus object that will inherit all of the variables and methods of the Vehicle class and display it.\n",
    "\n",
    "Exercise 5: Use the Data encapsulation Technique to make your code safe (By defining scope and using getter and setters)"
   ]
  },
  {
   "cell_type": "markdown",
   "metadata": {
    "id": "5XnpB5acfdBz"
   },
   "source": [
    "# Reference and Reading Material\n",
    "\n",
    "https://docs.python.org/3/tutorial/classes.html\n",
    "\n",
    "https://www.tutorialspoint.com/python/python_classes_objects.htm\n",
    "\n",
    "https://www.datacamp.com/community/tutorials/python-oop-tutorial\n",
    "\n",
    "https://realpython.com/python3-object-oriented-programming/\n",
    "\n",
    "https://medium.com/@brandonthompson907/python-advanced-oos-e7b086b1c612"
   ]
  }
 ],
 "metadata": {
  "colab": {
   "collapsed_sections": [],
   "name": "Advance OOP.ipynb",
   "provenance": [],
   "toc_visible": true
  },
  "kernelspec": {
   "display_name": "Python 3 (ipykernel)",
   "language": "python",
   "name": "python3"
  },
  "language_info": {
   "codemirror_mode": {
    "name": "ipython",
    "version": 3
   },
   "file_extension": ".py",
   "mimetype": "text/x-python",
   "name": "python",
   "nbconvert_exporter": "python",
   "pygments_lexer": "ipython3",
   "version": "3.9.6"
  }
 },
 "nbformat": 4,
 "nbformat_minor": 4
}
