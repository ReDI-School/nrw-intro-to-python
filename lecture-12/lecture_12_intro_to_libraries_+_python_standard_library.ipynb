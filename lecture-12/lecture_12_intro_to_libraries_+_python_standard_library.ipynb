{
 "cells": [
  {
   "cell_type": "markdown",
   "metadata": {},
   "source": [
    "Andreas Bollig - Freelance Data Scientist - andreas.bollig@communityredi-school.org"
   ]
  },
  {
   "cell_type": "markdown",
   "metadata": {},
   "source": [
    "# Lecture 13 - Intro to Libraries + Python Standard Library"
   ]
  },
  {
   "cell_type": "markdown",
   "metadata": {},
   "source": [
    "* Library (called **package** in Python): collection of modules that extends the functionality of Python\n",
    "    * Examples:\n",
    "        * Pandas: Computation on tables of data\n",
    "        * Django: Framework for web applications\n",
    "        * Matplotlib: Data visualization\n",
    "* Module: File with extension .py, which contains reusable Python code. Example: `greetings.py` \n",
    "\n",
    "-> show `greetings.py`"
   ]
  },
  {
   "cell_type": "markdown",
   "metadata": {},
   "source": [
    "## Importing from a module\n",
    "\n",
    "Note: The first time you import something from a module, its code is executed!"
   ]
  },
  {
   "cell_type": "code",
   "execution_count": 1,
   "metadata": {},
   "outputs": [
    {
     "name": "stdout",
     "output_type": "stream",
     "text": [
      "You imported greetings\n"
     ]
    }
   ],
   "source": [
    "import greetings"
   ]
  },
  {
   "cell_type": "code",
   "execution_count": 2,
   "metadata": {},
   "outputs": [
    {
     "data": {
      "text/plain": [
       "'Hello Anne!'"
      ]
     },
     "execution_count": 2,
     "metadata": {},
     "output_type": "execute_result"
    }
   ],
   "source": [
    "greetings.hello(\"Anne\")"
   ]
  },
  {
   "cell_type": "code",
   "execution_count": 6,
   "metadata": {},
   "outputs": [
    {
     "data": {
      "text/plain": [
       "\"What's up Henning?\""
      ]
     },
     "execution_count": 6,
     "metadata": {},
     "output_type": "execute_result"
    }
   ],
   "source": [
    "greetings.whats_up('Henning')"
   ]
  },
  {
   "cell_type": "code",
   "execution_count": 3,
   "metadata": {},
   "outputs": [
    {
     "data": {
      "text/plain": [
       "'Howdy Paul!'"
      ]
     },
     "execution_count": 3,
     "metadata": {},
     "output_type": "execute_result"
    }
   ],
   "source": [
    "from greetings import howdy\n",
    "\n",
    "howdy(\"Paul\")"
   ]
  },
  {
   "cell_type": "code",
   "execution_count": 5,
   "metadata": {},
   "outputs": [
    {
     "data": {
      "text/plain": [
       "'Hello Paul!'"
      ]
     },
     "execution_count": 5,
     "metadata": {},
     "output_type": "execute_result"
    }
   ],
   "source": [
    "from greetings import hello\n",
    "hello('Paul')"
   ]
  },
  {
   "cell_type": "code",
   "execution_count": 7,
   "metadata": {},
   "outputs": [
    {
     "data": {
      "text/plain": [
       "\"What's up Jennifer?\""
      ]
     },
     "execution_count": 7,
     "metadata": {},
     "output_type": "execute_result"
    }
   ],
   "source": [
    "import greetings as g\n",
    "\n",
    "g.whats_up(\"Jennifer\")"
   ]
  },
  {
   "cell_type": "code",
   "execution_count": null,
   "metadata": {},
   "outputs": [],
   "source": [
    "from greetings import whats_up as sup\n",
    "\n",
    "sup(\"Kevin\")"
   ]
  },
  {
   "cell_type": "markdown",
   "metadata": {},
   "source": [
    "## Module search\n",
    "\n",
    "`greetings` can be imported because `greetings.py` is in the same folder as this notebook. What other places does the Python interpreter look when I try to import something?\n",
    "\n",
    "1. Built-in modules (built into the Python interpreter, e.g., `sys`)\n",
    "2. .py files in `sys.path` (in the order of `sys.path`)\n",
    "\n",
    "`sys.path` is initialized with\n",
    "\n",
    "* The current directory you are in when starting the Python interpreter by typing `python` into the shell, or the directory containing the script you are running with `python my_script.py`\n",
    "* Directories listed in the `PYTHON_PATH` environment variable\n",
    "* The default paths provided by your Python distribution (e.g. Anaconda) -> this includes the libraries you installed with `pip`"
   ]
  },
  {
   "cell_type": "code",
   "execution_count": null,
   "metadata": {},
   "outputs": [],
   "source": [
    "# What is in my sys.path?\n",
    "\n",
    "import sys\n",
    "\n",
    "sys.path"
   ]
  },
  {
   "cell_type": "code",
   "execution_count": null,
   "metadata": {},
   "outputs": [],
   "source": [
    "# The directory I ran `jupyter notebook` in\n",
    "\n",
    "import os\n",
    "\n",
    "os.getcwd()"
   ]
  },
  {
   "cell_type": "code",
   "execution_count": null,
   "metadata": {},
   "outputs": [],
   "source": [
    "# I didn't specify PYTHON_PATH\n",
    "os.getenv(\"PYTHON_PATH\", \"empty!\")"
   ]
  },
  {
   "cell_type": "code",
   "execution_count": null,
   "metadata": {},
   "outputs": [],
   "source": [
    "# You can modify sys.path in your code (it's just a list of strings)\n",
    "\n",
    "sys.path = [\"my_secret_module_collection\"] + sys.path\n",
    "\n",
    "sys.path"
   ]
  },
  {
   "cell_type": "code",
   "execution_count": null,
   "metadata": {},
   "outputs": [],
   "source": [
    "# Then I can import modules from the path I added\n",
    "\n",
    "from my_utils import add_one\n",
    "\n",
    "add_one(1)"
   ]
  },
  {
   "cell_type": "markdown",
   "metadata": {},
   "source": [
    "## Packages\n",
    "\n",
    "A package is a directory containing a file called `__init__.py` (\"dunder init dot p y\")\n",
    "\n",
    "Example:\n",
    "```\n",
    "sound/                          Top-level package\n",
    "      __init__.py               Initialize the sound package\n",
    "      formats/                  Subpackage for file format conversions\n",
    "              __init__.py\n",
    "              wavread.py\n",
    "              wavwrite.py\n",
    "              aiffread.py\n",
    "              aiffwrite.py\n",
    "              auread.py\n",
    "              auwrite.py\n",
    "              ...\n",
    "      effects/                  Subpackage for sound effects\n",
    "              __init__.py\n",
    "              echo.py\n",
    "              surround.py\n",
    "              reverse.py\n",
    "              ...\n",
    "      filters/                  Subpackage for filters\n",
    "              __init__.py\n",
    "              equalizer.py\n",
    "              vocoder.py\n",
    "              karaoke.py\n",
    "              ...\n",
    "```\n",
    "\n",
    "I created a scaffold of this folder structure in the current working directory."
   ]
  },
  {
   "cell_type": "code",
   "execution_count": 8,
   "metadata": {},
   "outputs": [
    {
     "name": "stdout",
     "output_type": "stream",
     "text": [
      "Not implemented!!\n"
     ]
    }
   ],
   "source": [
    "import sound.effects.echo\n",
    "\n",
    "sound.effects.echo.echofilter([3, 5, 7, 9, 1, 6, 3, 0])"
   ]
  },
  {
   "cell_type": "code",
   "execution_count": null,
   "metadata": {},
   "outputs": [],
   "source": [
    "from sound.effects import echo\n",
    "\n",
    "echo.echofilter([3, 5, 7, 9, 1, 6, 3, 0])"
   ]
  },
  {
   "cell_type": "code",
   "execution_count": null,
   "metadata": {},
   "outputs": [],
   "source": [
    "from sound.effects.echo import echofilter\n",
    "\n",
    "echofilter([3, 5, 7, 9, 1, 6, 3, 0])"
   ]
  },
  {
   "cell_type": "markdown",
   "metadata": {},
   "source": [
    "## Python Package Index (PyPI -> \"py p i\")\n",
    "\n",
    "* https://pypi.org/\n",
    "* Central repository of Python packages (currently over 300k packages)\n",
    "* Example: https://pypi.org/project/pandas/ -> look around\n",
    "* Install packages with `pip install <package name>`"
   ]
  },
  {
   "cell_type": "markdown",
   "metadata": {},
   "source": [
    "### More about packages \n",
    "\n",
    "* `conda` package manager (Anaconda package repository, conda-forge, ...), `poetry`, `pipenv`, ... \n",
    "* Dependency definition files\n",
    "* Virtual environments\n",
    "\n",
    "---> Lecture 17: \"Dependency Management 101\""
   ]
  },
  {
   "cell_type": "markdown",
   "metadata": {},
   "source": [
    "### How do I publish my own package on PyPI?\n",
    "\n",
    "Out of scope of this course, but you can start here: https://packaging.python.org/"
   ]
  },
  {
   "cell_type": "markdown",
   "metadata": {},
   "source": [
    "## [Python Standard Library](https://docs.python.org/3/library/index.html) (\"What do you mean, batteries included?\")\n",
    "\n",
    "* Python's standard library is huge. I'll pick a couple of examples that I use every day."
   ]
  },
  {
   "cell_type": "markdown",
   "metadata": {},
   "source": [
    "### Pick #1: datetime + calendar"
   ]
  },
  {
   "cell_type": "code",
   "execution_count": 9,
   "metadata": {},
   "outputs": [],
   "source": [
    "from datetime import datetime, date, timedelta"
   ]
  },
  {
   "cell_type": "code",
   "execution_count": 11,
   "metadata": {},
   "outputs": [
    {
     "data": {
      "text/plain": [
       "datetime.datetime(2021, 11, 3, 19, 32, 0, 272410)"
      ]
     },
     "execution_count": 11,
     "metadata": {},
     "output_type": "execute_result"
    }
   ],
   "source": [
    "# current date and time\n",
    "\n",
    "now = datetime.now()\n",
    "\n",
    "now"
   ]
  },
  {
   "cell_type": "code",
   "execution_count": 12,
   "metadata": {},
   "outputs": [
    {
     "data": {
      "text/plain": [
       "datetime.date(2021, 11, 3)"
      ]
     },
     "execution_count": 12,
     "metadata": {},
     "output_type": "execute_result"
    }
   ],
   "source": [
    "# current date\n",
    "\n",
    "today = date.today()\n",
    "\n",
    "today"
   ]
  },
  {
   "cell_type": "code",
   "execution_count": 18,
   "metadata": {},
   "outputs": [
    {
     "data": {
      "text/plain": [
       "datetime.date(2021, 11, 4)"
      ]
     },
     "execution_count": 18,
     "metadata": {},
     "output_type": "execute_result"
    }
   ],
   "source": [
    "tomorrow = today + timedelta(days=1)\n",
    "\n",
    "tomorrow"
   ]
  },
  {
   "cell_type": "code",
   "execution_count": 16,
   "metadata": {},
   "outputs": [],
   "source": [
    "if now.day == 1:\n",
    "    print(\"Payday, yay!\")"
   ]
  },
  {
   "cell_type": "code",
   "execution_count": 19,
   "metadata": {},
   "outputs": [
    {
     "data": {
      "text/plain": [
       "4"
      ]
     },
     "execution_count": 19,
     "metadata": {},
     "output_type": "execute_result"
    }
   ],
   "source": [
    "tomorrow.day"
   ]
  },
  {
   "cell_type": "code",
   "execution_count": null,
   "metadata": {},
   "outputs": [],
   "source": [
    "if now.weekday == 4:  # Friday -> weekday goes from 0 to 6 for Monday to Sunday\n",
    "    print(\"Hoooray, weekend!\")"
   ]
  },
  {
   "cell_type": "code",
   "execution_count": 20,
   "metadata": {},
   "outputs": [
    {
     "data": {
      "text/plain": [
       "datetime.datetime(2021, 5, 4, 0, 0)"
      ]
     },
     "execution_count": 20,
     "metadata": {},
     "output_type": "execute_result"
    }
   ],
   "source": [
    "# Format datetimes as strings and parse datetimes from strings\n",
    "# https://docs.python.org/3/library/datetime.html#strftime-and-strptime-format-codes\n",
    "\n",
    "my_datetime = datetime(2021, 5, 4)\n",
    "\n",
    "my_datetime"
   ]
  },
  {
   "cell_type": "code",
   "execution_count": 21,
   "metadata": {},
   "outputs": [
    {
     "data": {
      "text/plain": [
       "'04.05.2021'"
      ]
     },
     "execution_count": 21,
     "metadata": {},
     "output_type": "execute_result"
    }
   ],
   "source": [
    "# German\n",
    "\n",
    "my_datetime.strftime(\"%d.%m.%Y\")"
   ]
  },
  {
   "cell_type": "code",
   "execution_count": 22,
   "metadata": {},
   "outputs": [
    {
     "data": {
      "text/plain": [
       "'05/04/2021'"
      ]
     },
     "execution_count": 22,
     "metadata": {},
     "output_type": "execute_result"
    }
   ],
   "source": [
    "# American\n",
    "\n",
    "my_datetime.strftime(\"%m/%d/%Y\")"
   ]
  },
  {
   "cell_type": "code",
   "execution_count": 23,
   "metadata": {},
   "outputs": [
    {
     "data": {
      "text/plain": [
       "'2021-05-04'"
      ]
     },
     "execution_count": 23,
     "metadata": {},
     "output_type": "execute_result"
    }
   ],
   "source": [
    "# ISO System\n",
    "# example: 2021-11-03\n",
    "my_datetime.strftime(\"%Y-%m-%d\")"
   ]
  },
  {
   "cell_type": "code",
   "execution_count": 24,
   "metadata": {},
   "outputs": [
    {
     "data": {
      "text/plain": [
       "datetime.datetime(2021, 5, 4, 0, 0)"
      ]
     },
     "execution_count": 24,
     "metadata": {},
     "output_type": "execute_result"
    }
   ],
   "source": [
    "# parse formatted datetime\n",
    "\n",
    "datetime.strptime(\"05/04/2021\", \"%m/%d/%Y\")"
   ]
  },
  {
   "cell_type": "code",
   "execution_count": null,
   "metadata": {},
   "outputs": [],
   "source": [
    "# (Year, calendar week, weekday) -> date\n",
    "# Note, that here, weekday goes from 1 to 7 for Monday to Sunday\n",
    "# New in Python 3.8!\n",
    "\n",
    "date.fromisocalendar(2021, 18, 3)"
   ]
  },
  {
   "cell_type": "code",
   "execution_count": null,
   "metadata": {},
   "outputs": [],
   "source": [
    "import calendar\n",
    "\n",
    "# number of days in month\n",
    "\n",
    "for i in range(12):\n",
    "    year = 2010 + i\n",
    "    n_days_in_month = calendar.monthrange(year, 2)[1]\n",
    "    print(f\"{year}: {n_days_in_month}\")"
   ]
  },
  {
   "cell_type": "markdown",
   "metadata": {},
   "source": [
    "More infos: \n",
    "\n",
    "* https://docs.python.org/3/library/datetime.html\n",
    "* https://docs.python.org/3/library/calendar.html\n",
    "\n",
    "Pro tip: check out python-dateutil: https://dateutil.readthedocs.io/en/stable/index.html"
   ]
  },
  {
   "cell_type": "markdown",
   "metadata": {},
   "source": [
    "### Pick #2: itertools"
   ]
  },
  {
   "cell_type": "code",
   "execution_count": 26,
   "metadata": {},
   "outputs": [],
   "source": [
    "import itertools"
   ]
  },
  {
   "cell_type": "code",
   "execution_count": 27,
   "metadata": {},
   "outputs": [
    {
     "data": {
      "text/plain": [
       "[('Anne', 'Paul'),\n",
       " ('Anne', 'Jennifer'),\n",
       " ('Anne', 'Kevin'),\n",
       " ('Anne', 'Lea'),\n",
       " ('Anne', 'Matthew'),\n",
       " ('Paul', 'Jennifer'),\n",
       " ('Paul', 'Kevin'),\n",
       " ('Paul', 'Lea'),\n",
       " ('Paul', 'Matthew'),\n",
       " ('Jennifer', 'Kevin'),\n",
       " ('Jennifer', 'Lea'),\n",
       " ('Jennifer', 'Matthew'),\n",
       " ('Kevin', 'Lea'),\n",
       " ('Kevin', 'Matthew'),\n",
       " ('Lea', 'Matthew')]"
      ]
     },
     "execution_count": 27,
     "metadata": {},
     "output_type": "execute_result"
    }
   ],
   "source": [
    "# all possible combinations of size n\n",
    "\n",
    "team = [\"Anne\", \"Paul\", \"Jennifer\", \"Kevin\", \"Lea\", \"Matthew\"]\n",
    "\n",
    "get_to_know_lunches = list(itertools.combinations(team, 2))\n",
    "\n",
    "get_to_know_lunches"
   ]
  },
  {
   "cell_type": "markdown",
   "metadata": {},
   "source": [
    "More info: https://docs.python.org/3/library/itertools.html"
   ]
  },
  {
   "cell_type": "markdown",
   "metadata": {},
   "source": [
    "## Pick #4: time"
   ]
  },
  {
   "cell_type": "code",
   "execution_count": 29,
   "metadata": {},
   "outputs": [
    {
     "name": "stdout",
     "output_type": "stream",
     "text": [
      "hello\n",
      "This took 3.007156372 seconds\n"
     ]
    }
   ],
   "source": [
    "# Measure how long something takes\n",
    "\n",
    "from time import time, sleep\n",
    "\n",
    "\n",
    "def slow_func(n):\n",
    "    sleep(3)\n",
    "    print(n)\n",
    "\n",
    "\n",
    "start = time()  # start the stopwatch, keep note of start time in variable start\n",
    "\n",
    "slow_func(\"hello\")  # run our function\n",
    "\n",
    "end = time()  # stop the stopwatch\n",
    "\n",
    "print(f\"This took {round(end - start, 9)} seconds\")"
   ]
  },
  {
   "cell_type": "markdown",
   "metadata": {},
   "source": [
    "### Pick #3: functools"
   ]
  },
  {
   "cell_type": "code",
   "execution_count": 31,
   "metadata": {},
   "outputs": [
    {
     "data": {
      "text/plain": [
       "'3.9.6 | packaged by conda-forge | (default, Jul 11 2021, 03:37:25) [MSC v.1916 64 bit (AMD64)]'"
      ]
     },
     "execution_count": 31,
     "metadata": {},
     "output_type": "execute_result"
    }
   ],
   "source": [
    "from functools import cache, partial\n",
    "\n",
    "# PLEASE NOTE: THE CACHE FUNCTION WAS ONLY ADDED IN PYTHON 3.9\n",
    "# YOU CAN CHECK YOUR VERSION OF PYTHON AS FOLLOWS\n",
    "\n",
    "import sys\n",
    "\n",
    "sys.version"
   ]
  },
  {
   "cell_type": "code",
   "execution_count": 32,
   "metadata": {},
   "outputs": [
    {
     "name": "stdout",
     "output_type": "stream",
     "text": [
      "wow\n",
      "This took 3.0 seconds\n"
     ]
    }
   ],
   "source": [
    "# Cache slow computations\n",
    "\n",
    "cached_slow_func = cache(slow_func)\n",
    "\n",
    "start = time()\n",
    "cached_slow_func(\"wow\")\n",
    "print(f\"This took {round(time() - start, 1)} seconds\")"
   ]
  },
  {
   "cell_type": "code",
   "execution_count": 33,
   "metadata": {},
   "outputs": [
    {
     "name": "stdout",
     "output_type": "stream",
     "text": [
      "This took 0.0 seconds\n"
     ]
    }
   ],
   "source": [
    "start = time()\n",
    "cached_slow_func(\"wow\")\n",
    "print(f\"This took {round(time() - start, 1)} seconds\")"
   ]
  },
  {
   "cell_type": "code",
   "execution_count": null,
   "metadata": {},
   "outputs": [],
   "source": [
    "start = time()\n",
    "cached_slow_func(\"still fast?\")\n",
    "print(f\"This took {round(time() - start, 1)} seconds\")"
   ]
  },
  {
   "cell_type": "code",
   "execution_count": null,
   "metadata": {},
   "outputs": [],
   "source": [
    "start = time()\n",
    "cached_slow_func(\"still fast?\")\n",
    "print(f\"This took {round(time() - start, 1)} seconds\")"
   ]
  },
  {
   "cell_type": "code",
   "execution_count": 35,
   "metadata": {},
   "outputs": [
    {
     "name": "stdout",
     "output_type": "stream",
     "text": [
      "n=2, m=3\n"
     ]
    },
    {
     "data": {
      "text/plain": [
       "5"
      ]
     },
     "execution_count": 35,
     "metadata": {},
     "output_type": "execute_result"
    }
   ],
   "source": [
    "# partial function execution\n",
    "\n",
    "\n",
    "def add_number(n, m):\n",
    "    print(f'n={n}, m={m}')\n",
    "    return n + m\n",
    "\n",
    "\n",
    "add_one = partial(add_number, 1)\n",
    "add_two = partial(add_number, 2)\n",
    "\n",
    "add_two(3)"
   ]
  },
  {
   "cell_type": "markdown",
   "metadata": {},
   "source": [
    "### Pick #4: os + shutil\n",
    "\n",
    "Working with files and more"
   ]
  },
  {
   "cell_type": "code",
   "execution_count": null,
   "metadata": {},
   "outputs": [],
   "source": [
    "import os\n",
    "import shutil"
   ]
  },
  {
   "cell_type": "code",
   "execution_count": null,
   "metadata": {},
   "outputs": [],
   "source": [
    "with open(\"test_file.txt\", \"w\") as f:\n",
    "    f.write(\"hello\\n\")"
   ]
  },
  {
   "cell_type": "code",
   "execution_count": null,
   "metadata": {},
   "outputs": [],
   "source": [
    "os.listdir()"
   ]
  },
  {
   "cell_type": "code",
   "execution_count": null,
   "metadata": {},
   "outputs": [],
   "source": [
    "shutil.move(\"test_file.txt\", \"new_name.txt\")\n",
    "os.listdir()"
   ]
  },
  {
   "cell_type": "code",
   "execution_count": null,
   "metadata": {},
   "outputs": [],
   "source": [
    "os.remove(\"new_name.txt\")\n",
    "os.listdir()"
   ]
  },
  {
   "cell_type": "markdown",
   "metadata": {},
   "source": [
    "### Pick #5: json + pickle\n",
    "\n",
    "Serialize everything"
   ]
  },
  {
   "cell_type": "code",
   "execution_count": 36,
   "metadata": {},
   "outputs": [],
   "source": [
    "import json\n",
    "import pickle"
   ]
  },
  {
   "cell_type": "code",
   "execution_count": 37,
   "metadata": {},
   "outputs": [],
   "source": [
    "class employee:\n",
    "    def __init__(self, name, age):\n",
    "        self.name = name\n",
    "        self.age = age\n",
    "\n",
    "\n",
    "my_employee = employee(\"George\", 58)\n",
    "\n",
    "# employee_dict = {\"name\": \"George\", \"age\": 58}"
   ]
  },
  {
   "cell_type": "code",
   "execution_count": 41,
   "metadata": {},
   "outputs": [
    {
     "data": {
      "text/plain": [
       "<__main__.employee at 0x25ac70e4d30>"
      ]
     },
     "execution_count": 41,
     "metadata": {},
     "output_type": "execute_result"
    }
   ],
   "source": [
    "my_employee"
   ]
  },
  {
   "cell_type": "code",
   "execution_count": null,
   "metadata": {},
   "outputs": [],
   "source": [
    "# JSON can serialize lists, dicts and primitive data types just fine\n",
    "\n",
    "with open(\"employee_file.json\", \"w\") as f:\n",
    "    json.dump(employee_dict, f)"
   ]
  },
  {
   "cell_type": "code",
   "execution_count": null,
   "metadata": {},
   "outputs": [],
   "source": [
    "# !cat employee_file.json # This only works on Linux and MacOS"
   ]
  },
  {
   "cell_type": "code",
   "execution_count": null,
   "metadata": {},
   "outputs": [],
   "source": [
    "# But it can't serialize custom objects\n",
    "\n",
    "try:\n",
    "    with open(\"employee_file.json\", \"w\") as f:\n",
    "        json.dump(my_employee, f)\n",
    "except TypeError as e:\n",
    "    print(e)"
   ]
  },
  {
   "cell_type": "code",
   "execution_count": 42,
   "metadata": {},
   "outputs": [],
   "source": [
    "# pickle can serialize almost anything\n",
    "\n",
    "with open(\"employee_file.pickle\", \"wb\") as f:\n",
    "    pickle.dump(my_employee, f)"
   ]
  },
  {
   "cell_type": "code",
   "execution_count": 43,
   "metadata": {},
   "outputs": [
    {
     "data": {
      "text/plain": [
       "<__main__.employee at 0x25ac6fe0100>"
      ]
     },
     "execution_count": 43,
     "metadata": {},
     "output_type": "execute_result"
    }
   ],
   "source": [
    "with open(\"employee_file.pickle\", \"rb\") as f:\n",
    "    unpickled_employee = pickle.load(f)\n",
    "\n",
    "unpickled_employee"
   ]
  },
  {
   "cell_type": "code",
   "execution_count": 45,
   "metadata": {},
   "outputs": [
    {
     "data": {
      "text/plain": [
       "'George'"
      ]
     },
     "execution_count": 45,
     "metadata": {},
     "output_type": "execute_result"
    }
   ],
   "source": [
    "unpickled_employee.name"
   ]
  },
  {
   "cell_type": "markdown",
   "metadata": {},
   "source": [
    "More info:\n",
    "\n",
    "* https://docs.python.org/3/library/pickle.html\n",
    "* https://docs.python.org/3/library/json.html"
   ]
  },
  {
   "cell_type": "markdown",
   "metadata": {},
   "source": [
    "### Wrap Up\n",
    "\n",
    "For more info about the standard library, check out the two part tour: \n",
    "\n",
    "* Part 1: https://docs.python.org/3/tutorial/stdlib.html\n",
    "* Part 2: https://docs.python.org/3/tutorial/stdlib2.html"
   ]
  },
  {
   "cell_type": "markdown",
   "metadata": {},
   "source": [
    "# Excercises"
   ]
  },
  {
   "cell_type": "markdown",
   "metadata": {},
   "source": [
    "### Exercise 1\n",
    "\n",
    "Create a Python module containing a simple function. Import the module into this notebook and execute the function."
   ]
  },
  {
   "cell_type": "code",
   "execution_count": null,
   "metadata": {},
   "outputs": [],
   "source": [
    "from advmath import plus_two\n",
    "\n",
    "plus_two(3)"
   ]
  },
  {
   "cell_type": "markdown",
   "metadata": {},
   "source": [
    "### Exercise 2\n",
    "\n",
    "What date is 71 days from today?"
   ]
  },
  {
   "cell_type": "code",
   "execution_count": null,
   "metadata": {},
   "outputs": [],
   "source": [
    "date.today() + timedelta(71)"
   ]
  },
  {
   "cell_type": "markdown",
   "metadata": {},
   "source": [
    "### Exercise 3\n",
    "\n",
    "Which weekday is Halloween this year? Hint: it's on October 31."
   ]
  },
  {
   "cell_type": "code",
   "execution_count": null,
   "metadata": {},
   "outputs": [],
   "source": [
    "weekdays = [\n",
    "    \"Monday\",\n",
    "    \"Tuesday\",\n",
    "    \"Wednesday\",\n",
    "    \"Thursday\",\n",
    "    \"Friday\",\n",
    "    \"Saturday\",\n",
    "    \"Sunday\",\n",
    "]\n",
    "\n",
    "\n",
    "halloween_weekday = datetime(2021, 10, 31).weekday()\n",
    "halloween_weekday_name = weekdays[halloween_weekday]\n",
    "\n",
    "print(f\"This year, halloween is on a {halloween_weekday_name}\")"
   ]
  },
  {
   "cell_type": "markdown",
   "metadata": {},
   "source": [
    "### Exercise 4\n",
    "\n",
    "Write a function 'format_date' that formats a date so it looks like the following example\n",
    "\n",
    "`print(format_date(datetime(2021, 5, 5)))` -> `Wednesday, May 05, 2021`"
   ]
  },
  {
   "cell_type": "code",
   "execution_count": null,
   "metadata": {},
   "outputs": [],
   "source": [
    "def format_date(dt):\n",
    "    return dt.strftime(\"%A, %b %d, %Y\")\n",
    "\n",
    "\n",
    "format_date(datetime(2021, 5, 5))"
   ]
  },
  {
   "cell_type": "markdown",
   "metadata": {},
   "source": [
    "### Exercise 5\n",
    "\n",
    "What if I want to serialize a dictionary into a string instead of serializing it into a file? Maybe I need this to send the JSON string to a webserver.\n",
    "\n",
    "Research how this can be done and program an example"
   ]
  },
  {
   "cell_type": "code",
   "execution_count": null,
   "metadata": {},
   "outputs": [],
   "source": [
    "my_dict = {\"name\": \"Michael\", \"occupation\": \"Boss\"}\n",
    "\n",
    "json.dumps(my_dict)"
   ]
  },
  {
   "cell_type": "markdown",
   "metadata": {},
   "source": [
    "### Exercise 6 (Bonus)\n",
    "\n",
    "Write a random coffee meeting generator that produces pairs of employees from the list `team` (see above) such that no two people have a random coffee meeting twice. A list of random coffee meetings that already occurred is provided.\n",
    "\n",
    "Example output: \"This week's random coffees: [('Anne', 'Kevin'), ('Paul', 'Jennifer'), ('Lea', 'Matthew')]\"\n",
    "\n",
    "Hints: \n",
    "\n",
    "* You can use `itertools.permutations` to create all possible permutations of a list\n",
    "* You can check if a tuple is in a list like this: `(\"Anne\", \"Paul\") in already_had_coffee` -> True"
   ]
  },
  {
   "cell_type": "code",
   "execution_count": null,
   "metadata": {},
   "outputs": [],
   "source": [
    "already_had_coffee = [\n",
    "    (\"Anne\", \"Paul\"),\n",
    "    (\"Jennifer\", \"Lea\"),\n",
    "    (\"Kevin\", \"Matthew\"),\n",
    "    (\"Anne\", \"Jennifer\"),\n",
    "]\n",
    "\n",
    "\n",
    "def random_coffee_generator(team, already_had_coffee):\n",
    "    for permutation in itertools.permutations(team, 6):\n",
    "        permutation = list(permutation)\n",
    "\n",
    "        #     print(f\"Trying {permutation}\")\n",
    "\n",
    "        random_coffees = []\n",
    "        while len(permutation) > 0:\n",
    "            participant1 = permutation.pop(0)\n",
    "            participant2 = permutation.pop(0)\n",
    "            random_coffees.append((participant1, participant2))\n",
    "\n",
    "        constellation_valid = True\n",
    "        for done in already_had_coffee:\n",
    "            if done in random_coffees:\n",
    "                constellation_valid = False\n",
    "\n",
    "        if constellation_valid:\n",
    "            return f\"These are this week's random coffees: {random_coffees}\"\n",
    "\n",
    "\n",
    "random_coffee_generator(team, already_had_coffee)"
   ]
  },
  {
   "cell_type": "markdown",
   "metadata": {},
   "source": [
    "# Homework\n",
    "\n",
    "* If you didn't finish all exercises in the class, do the remaining ones as homework\n",
    "* Read up on Python modules: https://docs.python.org/3/tutorial/modules.html\n",
    "* Skim the TOC of the Python Standard Library reference and check out things that you find interesting: https://docs.python.org/3/library/index.html"
   ]
  },
  {
   "cell_type": "code",
   "execution_count": null,
   "metadata": {},
   "outputs": [],
   "source": [
    "1. Open a console\n",
    "2. run \"pip install numpy pandas matplotlib\""
   ]
  }
 ],
 "metadata": {
  "kernelspec": {
   "display_name": "Python 3 (ipykernel)",
   "language": "python",
   "name": "python3"
  },
  "language_info": {
   "codemirror_mode": {
    "name": "ipython",
    "version": 3
   },
   "file_extension": ".py",
   "mimetype": "text/x-python",
   "name": "python",
   "nbconvert_exporter": "python",
   "pygments_lexer": "ipython3",
   "version": "3.9.6"
  }
 },
 "nbformat": 4,
 "nbformat_minor": 4
}
