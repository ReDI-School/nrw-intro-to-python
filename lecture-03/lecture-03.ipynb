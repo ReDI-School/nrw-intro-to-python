{
 "cells": [
  {
   "cell_type": "markdown",
   "id": "7c09d50f-efe5-4e8c-9ce8-5157a99ee95e",
   "metadata": {
    "tags": []
   },
   "source": [
    "# Basic Data Types\n",
    "Storing, reading, writing, and manipulating data is fundamental to programming.\n",
    "\n",
    "Information is stored in [*variables*](https://en.wikipedia.org/wiki/Variable_(computer_science)). A variable is\n",
    "\n",
    "> [...] an abstract storage location paired with an associated symbolic name, which contains some known or unknown quantity of information referred to as a value\n",
    "\n",
    "(Source [Wikipedia](https://en.wikipedia.org/wiki/Variable_(computer_science)))\n",
    "\n",
    "When writing Python, you do not need to worry about the location, a variable is stored in memory. All you need to do is a assign a value to a symbolic name like\n",
    "\n",
    "```python\n",
    "x = 5\n",
    "```\n",
    "Here, `x` is the symbolic name, `5` is the value or expression we assign to that name. The equal sign (`=`) is also called the *assignment operator*, because it assigns a value to a variable.\n",
    "\n",
    "You can then reference the value by using the symbolic name (e.g. calculate the expression `x + 3`).\n",
    "\n",
    "Values can be of many different types. But fundamentally, Python supports the following \"basic\" data types:\n",
    "* Integers (whole numbers)\n",
    "* Floating point numbers\n",
    "* Boolean values (True or False)\n",
    "* Strings (text)\n",
    "* `None` Value (indicating \"no value\", used as baseline)\n",
    "\n",
    "There are more (like complex numbers) that we won't cover here, and in the next lectures you will learn how to build more complex data structures.\n",
    "\n",
    "You can check the type of the value assigned to a variable, by using the `type` function."
   ]
  },
  {
   "cell_type": "code",
   "execution_count": null,
   "id": "11ce39d6-6332-4a7f-af41-8d61212592ff",
   "metadata": {},
   "outputs": [],
   "source": [
    "x = 5\n",
    "type(x)"
   ]
  },
  {
   "cell_type": "markdown",
   "id": "b5832099-3631-4616-890e-96a60543308d",
   "metadata": {},
   "source": [
    "To see the value currently assigned to a variable or the result of an expression, you can use the `print` function."
   ]
  },
  {
   "cell_type": "code",
   "execution_count": null,
   "id": "50165fc6-e066-4492-b405-2faf252b2ce1",
   "metadata": {},
   "outputs": [],
   "source": [
    "print(x)"
   ]
  },
  {
   "cell_type": "markdown",
   "id": "d1f2fa5a-f57e-42a6-8cbd-ddd2d31337c9",
   "metadata": {},
   "source": [
    "Note that this function prints *the value to the screen* (console or Jupyter Notebook), this is **not** how you would access the value if you want to work with it."
   ]
  },
  {
   "cell_type": "markdown",
   "id": "e53077fd-51c8-469f-8a13-1739791ce913",
   "metadata": {},
   "source": [
    "## Operators\n",
    "*Operators* allow you to \"work\" with the values stored in variables. Using them you can form and evaluate (i.e. calculate the result) of *expressions*, which you can again store in a variable.. When working with numerical values, you will find the operators to be and behave just like you would expect. Note however, that the same operators can have very different meanings when applied to values of different type!"
   ]
  },
  {
   "cell_type": "code",
   "execution_count": null,
   "id": "8a5a2af0-1545-43d4-877d-3462f5b92e83",
   "metadata": {},
   "outputs": [],
   "source": [
    "x = 5  # assign value 5 to variable x\n",
    "y = x - 2  # assign the result of the expression \"x - 2\" to variable y. The minus sign is the operator.\n",
    "# What is the value of y?\n",
    "print(y)"
   ]
  },
  {
   "cell_type": "markdown",
   "id": "a6c9ccb8-01ee-44c3-8aad-71682e4dcaae",
   "metadata": {},
   "source": [
    "You might remember from school, that operators in math have different \"urgency\" (*precedence*): Multiplication should be done prior to addition for example. The same is true in Python. And (again, as in regular math), you can use brackets to define what should be calculated first:"
   ]
  },
  {
   "cell_type": "code",
   "execution_count": null,
   "id": "9dbe0d0d-7ca7-4628-9251-33533893e638",
   "metadata": {},
   "outputs": [],
   "source": [
    "2 + 4 * 3  # multiplication takes precedence"
   ]
  },
  {
   "cell_type": "code",
   "execution_count": null,
   "id": "951b30af-6bb1-4435-9ca1-d534eee4ecb4",
   "metadata": {},
   "outputs": [],
   "source": [
    "# Now with brackets!\n",
    "(2 + 4) * 3"
   ]
  },
  {
   "cell_type": "markdown",
   "id": "dcf6571c-169e-40b9-a7df-9e7f6857a345",
   "metadata": {},
   "source": [
    "## Numeric Values\n",
    "### Integers (Whole Numbers): `int`\n",
    "The Python datatype for integers is called `int`.\n",
    "\n",
    "Positive and negative integer numbers are supported. They are written as you would expect, e.g.: `3`, `-4`, `0`.\n",
    "\n",
    "### Floating point numbers: `float`\n",
    "The Python datatype for integers is called `float`.\n",
    "\n",
    "Positive and negative floating point numbers are supported. The decimal separator is the point (`.`). So valid floats are e.g. `2.0`, `-2.562`, ...\n",
    "\n",
    "If you want to write really large or really small numbers, you can specify the power of ten. E.g. $2000 = 2\\cdot 10^3$= `2e3` in Python. Note that such notation will always return a float (so `2000.0`)! Likewise you can specify negative powers and negative multiples, e.g. $-0.0008 = -8 \\cdot 10^{-4}$ = `-8e-4` in Python.\n",
    "\n",
    "### Operations on Numeric Values\n",
    "Among others, the following operators are defined when working with numeric values. Unless otherwise noted, you can use both integers and floating point numbers interchangeably.\n",
    "\n",
    "| Operator | Operation | Example | Example in Math Notation | Comment |\n",
    "| ----- | ----- | ------ | -------- |  ----- |\n",
    "| `+`  | Addition | 2.4 + 4 | $2.4 + 4$ |  |\n",
    "| `-`  | Subtraction | 4 - 7.0 | $4 - 7.0$ |  |\n",
    "| `*`  | Multiplication | 6 * -2 | $6 \\cdot (-2)$ |  |\n",
    "| `/`  | Division | 8 / 3.0 | $\\frac{8}{3.0}$ | Result is of type `float` |\n",
    "| `//` | Floor division | 8 // 3.0 | $\\lfloor\\frac{8}{3.0}\\rfloor$ | Result of division, rounded down to nearest integer. Result is of type `int` |\n",
    "| `%`  | [Modulo Operation](https://en.wikipedia.org/wiki/Modulo_(mathematics)) | 7 % 2 | $7 \\bmod 2$ | Remainder of division |\n",
    "| `**` | Power | 2 ** 3 | $2^3$ | Also floating point values as power allowed (e.g. `2 ** 0.5` = $\\sqrt{2}$) |\n",
    "\n",
    "In short: You can use Python just like a calculator, everything will work as expected!"
   ]
  },
  {
   "cell_type": "code",
   "execution_count": null,
   "id": "206efd83-61c4-42d7-9373-394beff40061",
   "metadata": {},
   "outputs": [],
   "source": [
    "x = 5"
   ]
  },
  {
   "cell_type": "code",
   "execution_count": null,
   "id": "0e9fa84b-5c3d-496b-a6e4-33fc904cce6d",
   "metadata": {},
   "outputs": [],
   "source": [
    "type(x)"
   ]
  },
  {
   "cell_type": "code",
   "execution_count": null,
   "id": "fa1c8dba-0fcb-40e9-80c9-eacad59aa288",
   "metadata": {},
   "outputs": [],
   "source": [
    "print(x)"
   ]
  },
  {
   "cell_type": "code",
   "execution_count": null,
   "id": "1e4d8c08-2d33-49cf-807b-7b6cea776f82",
   "metadata": {},
   "outputs": [],
   "source": [
    "print(2 + 5)"
   ]
  },
  {
   "cell_type": "markdown",
   "id": "26054351-cc0e-4540-9691-ebe6f79367a9",
   "metadata": {},
   "source": [
    "## String Values: `str`\n",
    "The Python datatype for string values is called `str`.\n",
    "String values may be encompassed in single or double quotes.\n",
    "```python\n",
    "x = 'test'\n",
    "y = \"Hello\"\n",
    "```\n",
    "If you want to assign a very long value to a variable, you can use triple quotes for multi-line inputs:\n",
    "```python\n",
    "x = '''\n",
    "    Line 1\n",
    "    Line 2\n",
    "    Line 3\n",
    "    '''\n",
    "y = \"\"\"\n",
    "    Line 1\n",
    "    Line 2\n",
    "    Line 3\n",
    "    \"\"\"\n",
    "```"
   ]
  },
  {
   "cell_type": "markdown",
   "id": "65bdb506-e02e-4e06-ab83-d33aeb978966",
   "metadata": {
    "tags": []
   },
   "source": [
    "### Operations on String Values\n",
    "You might be surprised to learn, but in Python you can \"add\" or \"multiply\" strings! That is: the `+` and `*` operators are defined for string values as well.\n",
    "\n",
    "#### \"Adding\" strings:\n",
    "Combining two string values with a `+` operator concatenates them:"
   ]
  },
  {
   "cell_type": "code",
   "execution_count": null,
   "id": "5497921c-79ec-4c52-bb96-d47bf684d8f8",
   "metadata": {},
   "outputs": [],
   "source": [
    "print(\"Hello \" + \"World\")"
   ]
  },
  {
   "cell_type": "markdown",
   "id": "df282f56-2d07-494a-93d3-2c4813804e06",
   "metadata": {},
   "source": [
    "#### \"Multiplying\" strings:\n",
    "Combining two a string and an integer values with the `*` operator, repeats the string:"
   ]
  },
  {
   "cell_type": "code",
   "execution_count": null,
   "id": "4b68dbb3-eb5d-4f20-9535-44b8474017a7",
   "metadata": {},
   "outputs": [],
   "source": [
    "\"Olé, \" * 3"
   ]
  },
  {
   "cell_type": "markdown",
   "id": "0fd383e0-51d0-49c7-97e2-0af0a0dae7b2",
   "metadata": {},
   "source": [
    "Note that you cannot \"multiply\" a string with another string. Also other arithmetic operators (like division, modulo, power, ...) are not defined!\n",
    "\n",
    "Note that the precendece of operators (\"multiplication\" before \"addition\" still applies for strings (and that you can still change it using brackets)!"
   ]
  },
  {
   "cell_type": "code",
   "execution_count": null,
   "id": "f999f535-00f9-4748-a8f9-e1c1f2e135ba",
   "metadata": {},
   "outputs": [],
   "source": [
    "'a' + 'b' * 3"
   ]
  },
  {
   "cell_type": "code",
   "execution_count": null,
   "id": "decec522-dd86-454b-9d08-b3f398dc0c20",
   "metadata": {},
   "outputs": [],
   "source": [
    "('a' + 'b') * 3"
   ]
  },
  {
   "cell_type": "markdown",
   "id": "ee000729-bec8-4ed2-999c-05a89ea89f35",
   "metadata": {},
   "source": [
    "### String Formatting\n",
    "You have seen above that you can use the `+` operator to concatenate strings and you can use that to e.g. combine variables and predefined strings as well:"
   ]
  },
  {
   "cell_type": "code",
   "execution_count": null,
   "id": "4820193c-6bb1-4bd4-aba9-5587f57bd796",
   "metadata": {},
   "outputs": [],
   "source": [
    "user_name = 'John Doe'\n",
    "print('Hello ' + user_name)"
   ]
  },
  {
   "cell_type": "markdown",
   "id": "dfc70b8d-9bab-4826-bbad-c983cb150aa5",
   "metadata": {},
   "source": [
    "However, this can quickly become hard to read, plus it won't work out of the box for non-string values. Python version 3.0 thus introduces so called \"[f-String formatting](https://realpython.com/python-f-strings/)\". As an easy way to integrate variables (of different types) and even simple expressions into strings. The notation is:\n",
    "```python\n",
    "f'Some text {variable_name_or_expression}'\n",
    "```\n",
    "Note the f ahead of the first quote!"
   ]
  },
  {
   "cell_type": "code",
   "execution_count": null,
   "id": "fd9d6c62-e287-49ae-8e01-4fd53bfcf52c",
   "metadata": {},
   "outputs": [],
   "source": [
    "user_name = 'John Doe'\n",
    "user_age = 42\n",
    "print(f'Hello {user_name}, you are {user_age}. That is half of {user_age * 2}')"
   ]
  },
  {
   "cell_type": "markdown",
   "id": "5283a055-a12e-4854-af39-a506b44cc84f",
   "metadata": {},
   "source": [
    "## Boolean Values: `bool`\n",
    "Most programming languages have the notion of boolean values, i.e. values that can only be either True or False.\n",
    "\n",
    "The Python datatype for boolean values is called `bool`. The two possible states are `True` and `False`. So you can assign boolean values to a variable like:"
   ]
  },
  {
   "cell_type": "code",
   "execution_count": null,
   "id": "661f7f8d-ddfd-47e1-867a-fabe282ab374",
   "metadata": {},
   "outputs": [],
   "source": [
    "x = True\n",
    "y = False"
   ]
  },
  {
   "cell_type": "code",
   "execution_count": null,
   "id": "7ae7768e-5e86-44f4-8cb6-4260751a891a",
   "metadata": {},
   "outputs": [],
   "source": [
    "type(x)"
   ]
  },
  {
   "cell_type": "markdown",
   "id": "c9fa07eb-c8f2-4d47-b020-90731f714561",
   "metadata": {
    "tags": []
   },
   "source": [
    "### Operations on Boolean Values\n",
    "For the arithmetic operators discussed for numeric values, boolean variables will behave just like numbers, where `True` behaves like `1` and `False` behaves like `0`. So you can do addition, multiplication, floor division, modulo operations and powers also with one or both operands being `bool`.\n",
    "\n",
    "However, boolean values also support *logical operators*, that relate to logical AND, OR, XOR, and NOT operations.\n",
    "\n",
    "| `a` | `b` | \\| | `not a` | `a and b` | `a or b` | `a xor b` |\n",
    "| --- | --- | -- | ------- | --------- | -------- | --------- |\n",
    "| `True` | `True` | \\| | `False` | `True` | `True` | `False` |\n",
    "| `True` | `False` | \\| | `False` | `False` | `True` | `True` |\n",
    "| `False` | `True` | \\| | `True` | `False` | `True` | `True` |\n",
    "| `False` | `False` | \\| | `True` | `False` | `False` | `False` |\n",
    "\n",
    "### Boolean values as the result of comparisons\n",
    "One reason, boolean values are important is that comparisons (checking for (in)equality of two values) will result in a boolean value: If you compare e.g. if two values are equal, the result will always be either true or false, i.e. boolean.\n",
    "\n",
    "Comparison operators in Python are:\n",
    "\n",
    "| Symbol | Name | Comment |\n",
    "| ------ | ------- | ------- |\n",
    "| `==` | Equal | Note the two equak signs. Single `=` assigns a value! |\n",
    "| `!=` | Not equal | |\n",
    "| `<` | (Strictly) less | For `str` values, checks if first string comes before second in lexicographical ordering |\n",
    "| `>` | (Strictly) less | For `str` values, checks if first string comes after second in lexicographical ordering |\n",
    "| `<=` | Less than or equal | |\n",
    "| `>=` | Greater than or equal | |"
   ]
  },
  {
   "cell_type": "code",
   "execution_count": null,
   "id": "9abc23a1-f29a-44af-ab54-e8e1d57b02e1",
   "metadata": {},
   "outputs": [],
   "source": [
    "# We assign to x the result of the comparison of 6 and 5.\n",
    "# Since 6 is in fact greater than 5, the comparison will evaluate to True \n",
    "# and that is what will be stored in x.\n",
    "x = 6 > 5\n",
    "print(x)"
   ]
  },
  {
   "cell_type": "code",
   "execution_count": null,
   "id": "f029b82a-3882-403a-bb94-81bd51ad2f72",
   "metadata": {},
   "outputs": [],
   "source": [
    "# With strings, remember that a string is considered \"less than\" another string, if it would come\n",
    "# before the other string in lexicographical sorting.\n",
    "x = 'abc' > 'bcd'  # abc comes before bcd, thus is considered \"smaller\", so this is false!\n",
    "print(x)"
   ]
  },
  {
   "cell_type": "markdown",
   "id": "314bfaca-2c52-40d5-b92e-be99dc5ae911",
   "metadata": {},
   "source": [
    "## Type Conversion\n",
    "You can convert variables between types, using the names of the Python types."
   ]
  },
  {
   "cell_type": "code",
   "execution_count": null,
   "id": "e21c9aef-0ed2-410f-855f-84f0f803f830",
   "metadata": {},
   "outputs": [],
   "source": [
    "x = int(4.0)   # will convert float to integer\n",
    "print(f'{x} is of type {type(x)}')"
   ]
  },
  {
   "cell_type": "code",
   "execution_count": null,
   "id": "1575aade-9c37-4af0-b5d3-5b7b959e6c33",
   "metadata": {},
   "outputs": [],
   "source": [
    "x = float(\"5.3\")  # will convert string to float\n",
    "print(f'{x} is of type {type(x)}')"
   ]
  },
  {
   "cell_type": "code",
   "execution_count": null,
   "id": "36f72ce4-a13d-4815-ae1a-cebce60f67c7",
   "metadata": {},
   "outputs": [],
   "source": [
    "x = str(True)  # will convert bool to string\n",
    "print(f'{x} is of type {type(x)}')"
   ]
  },
  {
   "cell_type": "markdown",
   "id": "90c3b1ba-1e94-48b3-8781-957e7443d511",
   "metadata": {},
   "source": [
    "## The None Type: `None`\n",
    "`None` is a special value in Python. You can use it, if you want to indicate that no value has been assigned to a variable so far. Most operators are not defined for `None` values."
   ]
  },
  {
   "cell_type": "markdown",
   "id": "80b96109-c7ad-41bd-9919-dad317ca72a3",
   "metadata": {},
   "source": [
    "## Type Hints\n",
    "In general, python is [*weakly typed*](https://en.wikipedia.org/wiki/Strong_and_weak_typing), meaning that you can use the same symbolic name to store values of different type."
   ]
  },
  {
   "cell_type": "code",
   "execution_count": null,
   "id": "ddbd190e-0510-4e0c-a7c1-505dead8f404",
   "metadata": {},
   "outputs": [],
   "source": [
    "x = 5  # now x points to an integer\n",
    "x = \"Test\"  # now x points to a string"
   ]
  },
  {
   "cell_type": "markdown",
   "id": "389bf232-340b-465f-a460-9ae8f641c5e0",
   "metadata": {},
   "source": [
    "This gives you great flexibility. However, it also has disadvantages, because if a particular operation can be performed, cannot be checked until the code is actually executed (no [static type checking](https://en.wikipedia.org/wiki/Type_system#Type_checking)). \n",
    "Python version 3.6 introduced the concept of [*type hints*](https://www.python.org/dev/peps/pep-0484/), as an optional way to define the type of a variable. While this may seem like unnecessary effort right now, it can help greatly when your code becomes more complex and modern python libraries are making increasingly use of it."
   ]
  },
  {
   "cell_type": "code",
   "execution_count": null,
   "id": "b52969fa-8ea9-48ce-85d8-eb376299188a",
   "metadata": {},
   "outputs": [],
   "source": [
    "x = 5\n",
    "print(x**2)  # works!"
   ]
  },
  {
   "cell_type": "code",
   "execution_count": null,
   "id": "567f5598-212d-4dc0-a8c9-e986825b6fd7",
   "metadata": {},
   "outputs": [],
   "source": [
    "x = 'test'\n",
    "print(x**2)  # does not work, because ** operator is not defined for strings (see above)!"
   ]
  },
  {
   "cell_type": "markdown",
   "id": "a47e3a55-09c7-462a-8aa4-d1120c2b6f58",
   "metadata": {},
   "source": [
    "Type annotations can help here (to a certain extend) because they allow many Python Editors as well as specialices python add-ons to recognize potential problems up front. The syntax is:\n",
    "\n",
    "```python\n",
    "symbolic_name: type = value\n",
    "```\n",
    "\n",
    "So you can (and at some point: should) also write:"
   ]
  },
  {
   "cell_type": "code",
   "execution_count": null,
   "id": "6f31d8f0-40f9-49ee-9a33-2f627efe924f",
   "metadata": {},
   "outputs": [],
   "source": [
    "x: int = 5  # now x points to an integer\n",
    "x: str = \"Test\"  # now x points to a string"
   ]
  }
 ],
 "metadata": {
  "kernelspec": {
   "display_name": "Python 3 (ipykernel)",
   "language": "python",
   "name": "python3"
  },
  "language_info": {
   "codemirror_mode": {
    "name": "ipython",
    "version": 3
   },
   "file_extension": ".py",
   "mimetype": "text/x-python",
   "name": "python",
   "nbconvert_exporter": "python",
   "pygments_lexer": "ipython3",
   "version": "3.9.6"
  }
 },
 "nbformat": 4,
 "nbformat_minor": 5
}
