{
 "cells": [
  {
   "cell_type": "markdown",
   "metadata": {},
   "source": [
    "# Basics"
   ]
  },
  {
   "cell_type": "markdown",
   "metadata": {},
   "source": [
    "***"
   ]
  },
  {
   "cell_type": "markdown",
   "metadata": {},
   "source": [
    "## Exercise 1"
   ]
  },
  {
   "cell_type": "markdown",
   "metadata": {},
   "source": [
    "1. Use input() to ask the user the name and assign the name to a variable <br>\n",
    "2. Create a message variable with a string saying Hello to the user (ex: \"Hello Adam!\") <br>\n",
    "3. Print the message variable <br>\n",
    "\n",
    "Tip: you can see more information about this here: https://www.w3schools.com/python/ref_func_input.asp  and  https://docs.python.org/3/library/functions.html#input  <br>\n",
    "Tip: while running the input function, the command palette will appear in the upper bar to write the user name"
   ]
  },
  {
   "cell_type": "code",
   "execution_count": 1,
   "metadata": {},
   "outputs": [],
   "source": [
    "# Write here the code\n"
   ]
  },
  {
   "cell_type": "markdown",
   "metadata": {},
   "source": [
    "## Exercise 2"
   ]
  },
  {
   "cell_type": "markdown",
   "metadata": {},
   "source": [
    "1. Create a variable called string_variable and assign a string to this variable <br>\n",
    "2. Create a variable called float_variable and assign a float to this variable <br>\n",
    "3. Create a variable called int_variable and assign a integer to this variable <br>\n",
    "4. Create a variable called boolean_variable and assign a boolean to this variable <br>\n",
    "5. Assign the value of the boolean_variable to the string_variable <br>\n",
    "6. Assign the value of the string_variable to the float_variable <br>\n",
    "7. Assign the value of the float_variable to the int_variable <br>\n",
    "8. Assign the value of the int_variable to the boolean_variable <br>\n",
    "9. Print the value of int_variable <br>"
   ]
  },
  {
   "cell_type": "code",
   "execution_count": 2,
   "metadata": {},
   "outputs": [],
   "source": [
    "# Write here the code\n"
   ]
  },
  {
   "cell_type": "markdown",
   "metadata": {},
   "source": [
    "## Exercise 3"
   ]
  },
  {
   "cell_type": "markdown",
   "metadata": {},
   "source": [
    "1. Create a variable called my_variable and assign the string 'I am learning'\n",
    "2. Create a variable called second_variable and assign the string 'Python'\n",
    "\n",
    "Tip: you can see more information about this here: https://www.w3schools.com/python/ref_func_print.asp  and  https://docs.python.org/3/library/functions.html#print <br>"
   ]
  },
  {
   "cell_type": "code",
   "execution_count": 3,
   "metadata": {},
   "outputs": [],
   "source": [
    "# Write here the code\n"
   ]
  },
  {
   "cell_type": "markdown",
   "metadata": {},
   "source": [
    "3. Print my_variable and specify the **end** as a blank space\n",
    "4. Print second_variable\n",
    "\n",
    "Tip: The print() function has different parameters like sep or end. Give a look through the documentation and try to understand how to change the values of these parameters."
   ]
  },
  {
   "cell_type": "code",
   "execution_count": 4,
   "metadata": {},
   "outputs": [],
   "source": [
    "# Write here the code\n"
   ]
  },
  {
   "cell_type": "markdown",
   "metadata": {},
   "source": [
    "5. Print my_variable and second_variable and specify the **sep** as a blank space using only one line of code"
   ]
  },
  {
   "cell_type": "code",
   "execution_count": 5,
   "metadata": {},
   "outputs": [],
   "source": [
    "# Write here the code\n"
   ]
  },
  {
   "cell_type": "markdown",
   "metadata": {},
   "source": [
    "## Exercise 4"
   ]
  },
  {
   "cell_type": "markdown",
   "metadata": {},
   "source": [
    "1. Create a variable called my_variable and assign the string \"Hello world\"\n",
    "2. Print the variable created (my_variable)\n",
    "3. Print the string \"my_variable\""
   ]
  },
  {
   "cell_type": "code",
   "execution_count": 6,
   "metadata": {},
   "outputs": [],
   "source": [
    "# Write here the code\n"
   ]
  }
 ],
 "metadata": {
  "interpreter": {
   "hash": "7101ece57323ae226d3ee33127f20849298572704d5292ba75a6e287de47f3f2"
  },
  "kernelspec": {
   "display_name": "Python 3.9.2 64-bit",
   "language": "python",
   "name": "python3"
  },
  "language_info": {
   "codemirror_mode": {
    "name": "ipython",
    "version": 3
   },
   "file_extension": ".py",
   "mimetype": "text/x-python",
   "name": "python",
   "nbconvert_exporter": "python",
   "pygments_lexer": "ipython3",
   "version": "3.9.2"
  },
  "orig_nbformat": 4
 },
 "nbformat": 4,
 "nbformat_minor": 2
}
