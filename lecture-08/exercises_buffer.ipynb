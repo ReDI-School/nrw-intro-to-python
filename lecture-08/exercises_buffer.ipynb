{
 "cells": [
  {
   "cell_type": "markdown",
   "id": "7322d7f9-5b85-4dcb-90fc-cbc063de56c4",
   "metadata": {},
   "source": [
    "### Exercise 1:\n",
    "Given two integer numbers return their product if the product is greater than 100, else return their sum.\n",
    "\n",
    "### Exercise 2:\n",
    "Create a for loop that sums all even numbers to 10 and prints the output\n",
    "\n",
    "### Exercise 3:\n",
    "Create a for while that sums all even numbers to 10 and prints the output\n",
    "\n",
    "### Exercise 4:\n",
    "Write a for loop which loops through all even numbers to 10 and returns the exponentiation of each number (not using math library)\n",
    "\n",
    "### Exercise 5:\n",
    "Write a function that receives a string from the user and prints the characters that are present at an even index number.\n",
    "\n",
    "### Exercise 6:\n",
    "Write a function that receives a string from the user and prints the number of times character 'a' is existent in that string.\n",
    "\n",
    "### Exercise 7:\n",
    "Write a function to return True if the first and last number of a given list is same. If numbers are different then return False.\n",
    "\n",
    "### Exercise 8:\n",
    "Given a two lists of numbers, write a function which retruns a sorted list that contains odd numbers from the first list and even numbers from the second list.\n",
    "\n",
    "### Exercise 9: \n",
    "Print multiplication table form 1 to 10\n",
    "\n",
    "### Exercise 10: Make all upper case\n",
    "my_var: str = 'all caps would be great'\n",
    "\n",
    "### Exercise 11: Make all lower case\n",
    "my_var_I_forgot_about: str = 'WHaT iS THis?' \n",
    "\n",
    "### Exercise 12: We need a capital first letter here\n",
    "my_other_var: str = 'manchester' \n",
    "\n",
    "### Exercise 13: Replace the h with a m\n",
    "some_var: str = 'A house is on fire' "
   ]
  }
 ],
 "metadata": {
  "kernelspec": {
   "display_name": "Python 3 (ipykernel)",
   "language": "python",
   "name": "python3"
  },
  "language_info": {
   "codemirror_mode": {
    "name": "ipython",
    "version": 3
   },
   "file_extension": ".py",
   "mimetype": "text/x-python",
   "name": "python",
   "nbconvert_exporter": "python",
   "pygments_lexer": "ipython3",
   "version": "3.8.7"
  }
 },
 "nbformat": 4,
 "nbformat_minor": 5
}
