{
 "cells": [
  {
   "cell_type": "markdown",
   "metadata": {},
   "source": [
    "Andreas Bollig - Freelance Data Scientist - andreas.bollig@communityredi-school.org"
   ]
  },
  {
   "cell_type": "code",
   "execution_count": 2,
   "metadata": {
    "scrolled": true
   },
   "outputs": [
    {
     "name": "stdout",
     "output_type": "stream",
     "text": [
      "Requirement already satisfied: nb_black in /Users/andreasbollig/miniconda3/lib/python3.7/site-packages (1.0.7)\n",
      "Requirement already satisfied: ipython in /Users/andreasbollig/miniconda3/lib/python3.7/site-packages (from nb_black) (7.21.0)\n",
      "Requirement already satisfied: black>='19.3' in /Users/andreasbollig/miniconda3/lib/python3.7/site-packages (from nb_black) (19.10b0)\n",
      "Requirement already satisfied: typed-ast>=1.4.0 in /Users/andreasbollig/miniconda3/lib/python3.7/site-packages (from black>='19.3'->nb_black) (1.4.2)\n",
      "Requirement already satisfied: pathspec<1,>=0.6 in /Users/andreasbollig/miniconda3/lib/python3.7/site-packages (from black>='19.3'->nb_black) (0.7.0)\n",
      "Requirement already satisfied: regex in /Users/andreasbollig/miniconda3/lib/python3.7/site-packages (from black>='19.3'->nb_black) (2021.3.17)\n",
      "Requirement already satisfied: attrs>=18.1.0 in /Users/andreasbollig/miniconda3/lib/python3.7/site-packages (from black>='19.3'->nb_black) (20.3.0)\n",
      "Requirement already satisfied: appdirs in /Users/andreasbollig/miniconda3/lib/python3.7/site-packages (from black>='19.3'->nb_black) (1.4.4)\n",
      "Requirement already satisfied: click>=6.5 in /Users/andreasbollig/miniconda3/lib/python3.7/site-packages (from black>='19.3'->nb_black) (7.1.2)\n",
      "Requirement already satisfied: toml>=0.9.4 in /Users/andreasbollig/miniconda3/lib/python3.7/site-packages (from black>='19.3'->nb_black) (0.10.2)\n",
      "Requirement already satisfied: jedi>=0.16 in /Users/andreasbollig/miniconda3/lib/python3.7/site-packages (from ipython->nb_black) (0.16.0)\n",
      "Requirement already satisfied: prompt-toolkit!=3.0.0,!=3.0.1,<3.1.0,>=2.0.0 in /Users/andreasbollig/miniconda3/lib/python3.7/site-packages (from ipython->nb_black) (3.0.17)\n",
      "Requirement already satisfied: pexpect>4.3 in /Users/andreasbollig/miniconda3/lib/python3.7/site-packages (from ipython->nb_black) (4.8.0)\n",
      "Requirement already satisfied: decorator in /Users/andreasbollig/miniconda3/lib/python3.7/site-packages (from ipython->nb_black) (4.4.2)\n",
      "Requirement already satisfied: traitlets>=4.2 in /Users/andreasbollig/miniconda3/lib/python3.7/site-packages (from ipython->nb_black) (5.0.5)\n",
      "Requirement already satisfied: backcall in /Users/andreasbollig/miniconda3/lib/python3.7/site-packages (from ipython->nb_black) (0.2.0)\n",
      "Requirement already satisfied: pickleshare in /Users/andreasbollig/miniconda3/lib/python3.7/site-packages (from ipython->nb_black) (0.7.5)\n",
      "Requirement already satisfied: setuptools>=18.5 in /Users/andreasbollig/miniconda3/lib/python3.7/site-packages (from ipython->nb_black) (52.0.0.post20210125)\n",
      "Requirement already satisfied: appnope in /Users/andreasbollig/miniconda3/lib/python3.7/site-packages (from ipython->nb_black) (0.1.2)\n",
      "Requirement already satisfied: pygments in /Users/andreasbollig/miniconda3/lib/python3.7/site-packages (from ipython->nb_black) (2.8.1)\n",
      "Requirement already satisfied: parso>=0.5.2 in /Users/andreasbollig/miniconda3/lib/python3.7/site-packages (from jedi>=0.16->ipython->nb_black) (0.8.1)\n",
      "Requirement already satisfied: ptyprocess>=0.5 in /Users/andreasbollig/miniconda3/lib/python3.7/site-packages (from pexpect>4.3->ipython->nb_black) (0.7.0)\n",
      "Requirement already satisfied: wcwidth in /Users/andreasbollig/miniconda3/lib/python3.7/site-packages (from prompt-toolkit!=3.0.0,!=3.0.1,<3.1.0,>=2.0.0->ipython->nb_black) (0.2.5)\n",
      "Requirement already satisfied: ipython-genutils in /Users/andreasbollig/miniconda3/lib/python3.7/site-packages (from traitlets>=4.2->ipython->nb_black) (0.2.0)\n"
     ]
    }
   ],
   "source": [
    "# !pip install nb_black"
   ]
  },
  {
   "cell_type": "code",
   "execution_count": 3,
   "metadata": {},
   "outputs": [
    {
     "data": {
      "application/javascript": [
       "\n",
       "            setTimeout(function() {\n",
       "                var nbb_cell_id = 3;\n",
       "                var nbb_unformatted_code = \"%load_ext nb_black\";\n",
       "                var nbb_formatted_code = \"%load_ext nb_black\";\n",
       "                var nbb_cells = Jupyter.notebook.get_cells();\n",
       "                for (var i = 0; i < nbb_cells.length; ++i) {\n",
       "                    if (nbb_cells[i].input_prompt_number == nbb_cell_id) {\n",
       "                        if (nbb_cells[i].get_text() == nbb_unformatted_code) {\n",
       "                             nbb_cells[i].set_text(nbb_formatted_code);\n",
       "                        }\n",
       "                        break;\n",
       "                    }\n",
       "                }\n",
       "            }, 500);\n",
       "            "
      ],
      "text/plain": [
       "<IPython.core.display.Javascript object>"
      ]
     },
     "metadata": {},
     "output_type": "display_data"
    }
   ],
   "source": [
    "%load_ext nb_black"
   ]
  },
  {
   "cell_type": "markdown",
   "metadata": {},
   "source": [
    "# Chapter 2 - Complex Data Types"
   ]
  },
  {
   "cell_type": "markdown",
   "metadata": {},
   "source": [
    "## Recap: Primitive Data Types"
   ]
  },
  {
   "cell_type": "code",
   "execution_count": 2,
   "metadata": {},
   "outputs": [
    {
     "data": {
      "application/javascript": [
       "\n",
       "            setTimeout(function() {\n",
       "                var nbb_cell_id = 2;\n",
       "                var nbb_unformatted_code = \"# Integer\\n\\nsome_int = 3\";\n",
       "                var nbb_formatted_code = \"# Integer\\n\\nsome_int = 3\";\n",
       "                var nbb_cells = Jupyter.notebook.get_cells();\n",
       "                for (var i = 0; i < nbb_cells.length; ++i) {\n",
       "                    if (nbb_cells[i].input_prompt_number == nbb_cell_id) {\n",
       "                        if (nbb_cells[i].get_text() == nbb_unformatted_code) {\n",
       "                             nbb_cells[i].set_text(nbb_formatted_code);\n",
       "                        }\n",
       "                        break;\n",
       "                    }\n",
       "                }\n",
       "            }, 500);\n",
       "            "
      ],
      "text/plain": [
       "<IPython.core.display.Javascript object>"
      ]
     },
     "metadata": {},
     "output_type": "display_data"
    }
   ],
   "source": [
    "# Integer\n",
    "\n",
    "some_int = 3"
   ]
  },
  {
   "cell_type": "code",
   "execution_count": 3,
   "metadata": {},
   "outputs": [
    {
     "data": {
      "application/javascript": [
       "\n",
       "            setTimeout(function() {\n",
       "                var nbb_cell_id = 3;\n",
       "                var nbb_unformatted_code = \"# Floating Point Number\\n\\nsome_float = 3.1415\";\n",
       "                var nbb_formatted_code = \"# Floating Point Number\\n\\nsome_float = 3.1415\";\n",
       "                var nbb_cells = Jupyter.notebook.get_cells();\n",
       "                for (var i = 0; i < nbb_cells.length; ++i) {\n",
       "                    if (nbb_cells[i].input_prompt_number == nbb_cell_id) {\n",
       "                        if (nbb_cells[i].get_text() == nbb_unformatted_code) {\n",
       "                             nbb_cells[i].set_text(nbb_formatted_code);\n",
       "                        }\n",
       "                        break;\n",
       "                    }\n",
       "                }\n",
       "            }, 500);\n",
       "            "
      ],
      "text/plain": [
       "<IPython.core.display.Javascript object>"
      ]
     },
     "metadata": {},
     "output_type": "display_data"
    }
   ],
   "source": [
    "# Floating Point Number\n",
    "\n",
    "some_float = 3.1415"
   ]
  },
  {
   "cell_type": "code",
   "execution_count": 4,
   "metadata": {},
   "outputs": [
    {
     "data": {
      "application/javascript": [
       "\n",
       "            setTimeout(function() {\n",
       "                var nbb_cell_id = 4;\n",
       "                var nbb_unformatted_code = \"# String\\n\\nsome_str = \\\"Hello World!\\\"\";\n",
       "                var nbb_formatted_code = \"# String\\n\\nsome_str = \\\"Hello World!\\\"\";\n",
       "                var nbb_cells = Jupyter.notebook.get_cells();\n",
       "                for (var i = 0; i < nbb_cells.length; ++i) {\n",
       "                    if (nbb_cells[i].input_prompt_number == nbb_cell_id) {\n",
       "                        if (nbb_cells[i].get_text() == nbb_unformatted_code) {\n",
       "                             nbb_cells[i].set_text(nbb_formatted_code);\n",
       "                        }\n",
       "                        break;\n",
       "                    }\n",
       "                }\n",
       "            }, 500);\n",
       "            "
      ],
      "text/plain": [
       "<IPython.core.display.Javascript object>"
      ]
     },
     "metadata": {},
     "output_type": "display_data"
    }
   ],
   "source": [
    "# String\n",
    "\n",
    "some_str = \"Hello World!\""
   ]
  },
  {
   "cell_type": "code",
   "execution_count": 5,
   "metadata": {},
   "outputs": [
    {
     "data": {
      "application/javascript": [
       "\n",
       "            setTimeout(function() {\n",
       "                var nbb_cell_id = 5;\n",
       "                var nbb_unformatted_code = \"# Boolean\\n\\nsome_bool = True\";\n",
       "                var nbb_formatted_code = \"# Boolean\\n\\nsome_bool = True\";\n",
       "                var nbb_cells = Jupyter.notebook.get_cells();\n",
       "                for (var i = 0; i < nbb_cells.length; ++i) {\n",
       "                    if (nbb_cells[i].input_prompt_number == nbb_cell_id) {\n",
       "                        if (nbb_cells[i].get_text() == nbb_unformatted_code) {\n",
       "                             nbb_cells[i].set_text(nbb_formatted_code);\n",
       "                        }\n",
       "                        break;\n",
       "                    }\n",
       "                }\n",
       "            }, 500);\n",
       "            "
      ],
      "text/plain": [
       "<IPython.core.display.Javascript object>"
      ]
     },
     "metadata": {},
     "output_type": "display_data"
    }
   ],
   "source": [
    "# Boolean\n",
    "\n",
    "some_bool = True"
   ]
  },
  {
   "cell_type": "markdown",
   "metadata": {},
   "source": [
    "## Complex Data Types (built-in)\n",
    "\n",
    "* Lists\n",
    "* Dictionaries\n",
    "* Sets\n",
    "* Tuples\n",
    "\n",
    "### Chapter 2 Contents\n",
    "\n",
    "- Class 8: Lists and Dictionaries\n",
    "- Class 9: Sets and Tuples\n",
    "- Class 10: Comprehensions"
   ]
  },
  {
   "cell_type": "markdown",
   "metadata": {},
   "source": [
    "# Class 8 - Lists and Dictionaries"
   ]
  },
  {
   "cell_type": "markdown",
   "metadata": {},
   "source": [
    "## Lists: Ordered Collections of Values"
   ]
  },
  {
   "cell_type": "markdown",
   "metadata": {},
   "source": [
    "### Creating Lists"
   ]
  },
  {
   "cell_type": "code",
   "execution_count": 6,
   "metadata": {},
   "outputs": [
    {
     "data": {
      "text/plain": [
       "['donuts', 'muffins', 'cake', 'cookies']"
      ]
     },
     "execution_count": 6,
     "metadata": {},
     "output_type": "execute_result"
    },
    {
     "data": {
      "application/javascript": [
       "\n",
       "            setTimeout(function() {\n",
       "                var nbb_cell_id = 6;\n",
       "                var nbb_unformatted_code = \"# Lists are defined using square brackets\\n# They can contain values of ANY type\\n\\nshopping_list = [\\\"donuts\\\", \\\"muffins\\\", \\\"cake\\\", \\\"cookies\\\"]\\nnumbers = [10, 10, 2, 30]\\n\\nshopping_list\";\n",
       "                var nbb_formatted_code = \"# Lists are defined using square brackets\\n# They can contain values of ANY type\\n\\nshopping_list = [\\\"donuts\\\", \\\"muffins\\\", \\\"cake\\\", \\\"cookies\\\"]\\nnumbers = [10, 10, 2, 30]\\n\\nshopping_list\";\n",
       "                var nbb_cells = Jupyter.notebook.get_cells();\n",
       "                for (var i = 0; i < nbb_cells.length; ++i) {\n",
       "                    if (nbb_cells[i].input_prompt_number == nbb_cell_id) {\n",
       "                        if (nbb_cells[i].get_text() == nbb_unformatted_code) {\n",
       "                             nbb_cells[i].set_text(nbb_formatted_code);\n",
       "                        }\n",
       "                        break;\n",
       "                    }\n",
       "                }\n",
       "            }, 500);\n",
       "            "
      ],
      "text/plain": [
       "<IPython.core.display.Javascript object>"
      ]
     },
     "metadata": {},
     "output_type": "display_data"
    }
   ],
   "source": [
    "# Lists are defined using square brackets\n",
    "# They can contain values of ANY type\n",
    "\n",
    "shopping_list = [\"donuts\", \"muffins\", \"cake\", \"cookies\"]\n",
    "numbers = [10, 10, 2, 30]\n",
    "\n",
    "shopping_list"
   ]
  },
  {
   "cell_type": "code",
   "execution_count": 7,
   "metadata": {},
   "outputs": [
    {
     "data": {
      "text/plain": [
       "['cups', 'plates', 'napkins', 'cutlery']"
      ]
     },
     "execution_count": 7,
     "metadata": {},
     "output_type": "execute_result"
    },
    {
     "data": {
      "application/javascript": [
       "\n",
       "            setTimeout(function() {\n",
       "                var nbb_cell_id = 7;\n",
       "                var nbb_unformatted_code = \"# Lists can also be created from other data types using methods like \\\"split\\\" on a string\\n\\nadditional_items = \\\"cups,plates,napkins,cutlery\\\"\\nadditional_items_list = additional_items.split(\\\",\\\")\\n\\nadditional_items_list\";\n",
       "                var nbb_formatted_code = \"# Lists can also be created from other data types using methods like \\\"split\\\" on a string\\n\\nadditional_items = \\\"cups,plates,napkins,cutlery\\\"\\nadditional_items_list = additional_items.split(\\\",\\\")\\n\\nadditional_items_list\";\n",
       "                var nbb_cells = Jupyter.notebook.get_cells();\n",
       "                for (var i = 0; i < nbb_cells.length; ++i) {\n",
       "                    if (nbb_cells[i].input_prompt_number == nbb_cell_id) {\n",
       "                        if (nbb_cells[i].get_text() == nbb_unformatted_code) {\n",
       "                             nbb_cells[i].set_text(nbb_formatted_code);\n",
       "                        }\n",
       "                        break;\n",
       "                    }\n",
       "                }\n",
       "            }, 500);\n",
       "            "
      ],
      "text/plain": [
       "<IPython.core.display.Javascript object>"
      ]
     },
     "metadata": {},
     "output_type": "display_data"
    }
   ],
   "source": [
    "# Lists can also be created from other data types using methods like \"split\" on a string\n",
    "\n",
    "additional_items = \"cups,plates,napkins,cutlery\"\n",
    "additional_items_list = additional_items.split(\",\")\n",
    "\n",
    "additional_items_list"
   ]
  },
  {
   "cell_type": "code",
   "execution_count": 8,
   "metadata": {},
   "outputs": [
    {
     "data": {
      "text/plain": [
       "'cups,plates,napkins,cutlery'"
      ]
     },
     "execution_count": 8,
     "metadata": {},
     "output_type": "execute_result"
    },
    {
     "data": {
      "application/javascript": [
       "\n",
       "            setTimeout(function() {\n",
       "                var nbb_cell_id = 8;\n",
       "                var nbb_unformatted_code = \"# The reverse of split is join\\n\\n\\\",\\\".join(additional_items_list)\";\n",
       "                var nbb_formatted_code = \"# The reverse of split is join\\n\\n\\\",\\\".join(additional_items_list)\";\n",
       "                var nbb_cells = Jupyter.notebook.get_cells();\n",
       "                for (var i = 0; i < nbb_cells.length; ++i) {\n",
       "                    if (nbb_cells[i].input_prompt_number == nbb_cell_id) {\n",
       "                        if (nbb_cells[i].get_text() == nbb_unformatted_code) {\n",
       "                             nbb_cells[i].set_text(nbb_formatted_code);\n",
       "                        }\n",
       "                        break;\n",
       "                    }\n",
       "                }\n",
       "            }, 500);\n",
       "            "
      ],
      "text/plain": [
       "<IPython.core.display.Javascript object>"
      ]
     },
     "metadata": {},
     "output_type": "display_data"
    }
   ],
   "source": [
    "# The reverse of split is join\n",
    "\n",
    "\",\".join(additional_items_list)"
   ]
  },
  {
   "cell_type": "code",
   "execution_count": 9,
   "metadata": {},
   "outputs": [
    {
     "data": {
      "text/plain": [
       "[0, 1, 2, 3, 4]"
      ]
     },
     "execution_count": 9,
     "metadata": {},
     "output_type": "execute_result"
    },
    {
     "data": {
      "application/javascript": [
       "\n",
       "            setTimeout(function() {\n",
       "                var nbb_cell_id = 9;\n",
       "                var nbb_unformatted_code = \"# Create a list from an iterator\\n\\nlist(range(5))\";\n",
       "                var nbb_formatted_code = \"# Create a list from an iterator\\n\\nlist(range(5))\";\n",
       "                var nbb_cells = Jupyter.notebook.get_cells();\n",
       "                for (var i = 0; i < nbb_cells.length; ++i) {\n",
       "                    if (nbb_cells[i].input_prompt_number == nbb_cell_id) {\n",
       "                        if (nbb_cells[i].get_text() == nbb_unformatted_code) {\n",
       "                             nbb_cells[i].set_text(nbb_formatted_code);\n",
       "                        }\n",
       "                        break;\n",
       "                    }\n",
       "                }\n",
       "            }, 500);\n",
       "            "
      ],
      "text/plain": [
       "<IPython.core.display.Javascript object>"
      ]
     },
     "metadata": {},
     "output_type": "display_data"
    }
   ],
   "source": [
    "# Create a list from an iterator\n",
    "\n",
    "list(range(5))"
   ]
  },
  {
   "cell_type": "markdown",
   "metadata": {},
   "source": [
    "### Indexing and Slicing"
   ]
  },
  {
   "cell_type": "code",
   "execution_count": 10,
   "metadata": {},
   "outputs": [
    {
     "name": "stdout",
     "output_type": "stream",
     "text": [
      "shopping_list = ['donuts', 'muffins', 'cake', 'cookies']\n",
      "\n",
      "Item at index 0: donuts\n",
      "Item at index 1: muffins\n",
      "Item at index -1: cookies\n",
      "Item at index -2: cake\n"
     ]
    },
    {
     "data": {
      "application/javascript": [
       "\n",
       "            setTimeout(function() {\n",
       "                var nbb_cell_id = 10;\n",
       "                var nbb_unformatted_code = \"# Indexing starts at zero; negative indices count from the end of the list\\n\\nprint(f\\\"shopping_list = {shopping_list}\\\\n\\\")\\n\\nprint(f\\\"Item at index 0: {shopping_list[0]}\\\")\\nprint(f\\\"Item at index 1: {shopping_list[1]}\\\")\\nprint(f\\\"Item at index -1: {shopping_list[-1]}\\\")\\nprint(f\\\"Item at index -2: {shopping_list[-2]}\\\")\";\n",
       "                var nbb_formatted_code = \"# Indexing starts at zero; negative indices count from the end of the list\\n\\nprint(f\\\"shopping_list = {shopping_list}\\\\n\\\")\\n\\nprint(f\\\"Item at index 0: {shopping_list[0]}\\\")\\nprint(f\\\"Item at index 1: {shopping_list[1]}\\\")\\nprint(f\\\"Item at index -1: {shopping_list[-1]}\\\")\\nprint(f\\\"Item at index -2: {shopping_list[-2]}\\\")\";\n",
       "                var nbb_cells = Jupyter.notebook.get_cells();\n",
       "                for (var i = 0; i < nbb_cells.length; ++i) {\n",
       "                    if (nbb_cells[i].input_prompt_number == nbb_cell_id) {\n",
       "                        if (nbb_cells[i].get_text() == nbb_unformatted_code) {\n",
       "                             nbb_cells[i].set_text(nbb_formatted_code);\n",
       "                        }\n",
       "                        break;\n",
       "                    }\n",
       "                }\n",
       "            }, 500);\n",
       "            "
      ],
      "text/plain": [
       "<IPython.core.display.Javascript object>"
      ]
     },
     "metadata": {},
     "output_type": "display_data"
    }
   ],
   "source": [
    "# Indexing starts at zero; negative indices count from the end of the list\n",
    "\n",
    "print(f\"shopping_list = {shopping_list}\\n\")\n",
    "\n",
    "print(f\"Item at index 0: {shopping_list[0]}\")\n",
    "print(f\"Item at index 1: {shopping_list[1]}\")\n",
    "print(f\"Item at index -1: {shopping_list[-1]}\")\n",
    "print(f\"Item at index -2: {shopping_list[-2]}\")"
   ]
  },
  {
   "cell_type": "code",
   "execution_count": 11,
   "metadata": {},
   "outputs": [
    {
     "name": "stdout",
     "output_type": "stream",
     "text": [
      "Second and third item: ['muffins', 'cake']\n"
     ]
    },
    {
     "data": {
      "application/javascript": [
       "\n",
       "            setTimeout(function() {\n",
       "                var nbb_cell_id = 11;\n",
       "                var nbb_unformatted_code = \"# 1:3 means 1, 2 (zero-indexed, last index not included)\\nprint(f\\\"Second and third item: {shopping_list[1:3]}\\\")\";\n",
       "                var nbb_formatted_code = \"# 1:3 means 1, 2 (zero-indexed, last index not included)\\nprint(f\\\"Second and third item: {shopping_list[1:3]}\\\")\";\n",
       "                var nbb_cells = Jupyter.notebook.get_cells();\n",
       "                for (var i = 0; i < nbb_cells.length; ++i) {\n",
       "                    if (nbb_cells[i].input_prompt_number == nbb_cell_id) {\n",
       "                        if (nbb_cells[i].get_text() == nbb_unformatted_code) {\n",
       "                             nbb_cells[i].set_text(nbb_formatted_code);\n",
       "                        }\n",
       "                        break;\n",
       "                    }\n",
       "                }\n",
       "            }, 500);\n",
       "            "
      ],
      "text/plain": [
       "<IPython.core.display.Javascript object>"
      ]
     },
     "metadata": {},
     "output_type": "display_data"
    }
   ],
   "source": [
    "# 1:3 means 1, 2 (zero-indexed, last index not included)\n",
    "print(f\"Second and third item: {shopping_list[1:3]}\")"
   ]
  },
  {
   "cell_type": "code",
   "execution_count": 12,
   "metadata": {},
   "outputs": [
    {
     "name": "stdout",
     "output_type": "stream",
     "text": [
      "Third item and all items after that: ['cake', 'cookies']\n"
     ]
    },
    {
     "data": {
      "application/javascript": [
       "\n",
       "            setTimeout(function() {\n",
       "                var nbb_cell_id = 12;\n",
       "                var nbb_unformatted_code = \"# 2: means 2, 3, ...\\nprint(f\\\"Third item and all items after that: {shopping_list[2:]}\\\")\";\n",
       "                var nbb_formatted_code = \"# 2: means 2, 3, ...\\nprint(f\\\"Third item and all items after that: {shopping_list[2:]}\\\")\";\n",
       "                var nbb_cells = Jupyter.notebook.get_cells();\n",
       "                for (var i = 0; i < nbb_cells.length; ++i) {\n",
       "                    if (nbb_cells[i].input_prompt_number == nbb_cell_id) {\n",
       "                        if (nbb_cells[i].get_text() == nbb_unformatted_code) {\n",
       "                             nbb_cells[i].set_text(nbb_formatted_code);\n",
       "                        }\n",
       "                        break;\n",
       "                    }\n",
       "                }\n",
       "            }, 500);\n",
       "            "
      ],
      "text/plain": [
       "<IPython.core.display.Javascript object>"
      ]
     },
     "metadata": {},
     "output_type": "display_data"
    }
   ],
   "source": [
    "# 2: means 2, 3, ...\n",
    "print(f\"Third item and all items after that: {shopping_list[2:]}\")"
   ]
  },
  {
   "cell_type": "code",
   "execution_count": 13,
   "metadata": {},
   "outputs": [
    {
     "name": "stdout",
     "output_type": "stream",
     "text": [
      "All items before the 4th one: ['donuts', 'muffins', 'cake']\n"
     ]
    },
    {
     "data": {
      "application/javascript": [
       "\n",
       "            setTimeout(function() {\n",
       "                var nbb_cell_id = 13;\n",
       "                var nbb_unformatted_code = \"# :3 means 0, 1, 2\\nprint(f\\\"All items before the 4th one: {shopping_list[:3]}\\\")\";\n",
       "                var nbb_formatted_code = \"# :3 means 0, 1, 2\\nprint(f\\\"All items before the 4th one: {shopping_list[:3]}\\\")\";\n",
       "                var nbb_cells = Jupyter.notebook.get_cells();\n",
       "                for (var i = 0; i < nbb_cells.length; ++i) {\n",
       "                    if (nbb_cells[i].input_prompt_number == nbb_cell_id) {\n",
       "                        if (nbb_cells[i].get_text() == nbb_unformatted_code) {\n",
       "                             nbb_cells[i].set_text(nbb_formatted_code);\n",
       "                        }\n",
       "                        break;\n",
       "                    }\n",
       "                }\n",
       "            }, 500);\n",
       "            "
      ],
      "text/plain": [
       "<IPython.core.display.Javascript object>"
      ]
     },
     "metadata": {},
     "output_type": "display_data"
    }
   ],
   "source": [
    "# :3 means 0, 1, 2\n",
    "print(f\"All items before the 4th one: {shopping_list[:3]}\")"
   ]
  },
  {
   "cell_type": "code",
   "execution_count": 14,
   "metadata": {},
   "outputs": [
    {
     "data": {
      "text/plain": [
       "3"
      ]
     },
     "execution_count": 14,
     "metadata": {},
     "output_type": "execute_result"
    },
    {
     "data": {
      "application/javascript": [
       "\n",
       "            setTimeout(function() {\n",
       "                var nbb_cell_id = 14;\n",
       "                var nbb_unformatted_code = \"# List of lists\\n\\nlist_of_lists = [[1, 2, 3], [4, 5, 6]]\\n\\nlist_of_lists[0][2]\";\n",
       "                var nbb_formatted_code = \"# List of lists\\n\\nlist_of_lists = [[1, 2, 3], [4, 5, 6]]\\n\\nlist_of_lists[0][2]\";\n",
       "                var nbb_cells = Jupyter.notebook.get_cells();\n",
       "                for (var i = 0; i < nbb_cells.length; ++i) {\n",
       "                    if (nbb_cells[i].input_prompt_number == nbb_cell_id) {\n",
       "                        if (nbb_cells[i].get_text() == nbb_unformatted_code) {\n",
       "                             nbb_cells[i].set_text(nbb_formatted_code);\n",
       "                        }\n",
       "                        break;\n",
       "                    }\n",
       "                }\n",
       "            }, 500);\n",
       "            "
      ],
      "text/plain": [
       "<IPython.core.display.Javascript object>"
      ]
     },
     "metadata": {},
     "output_type": "display_data"
    }
   ],
   "source": [
    "# List of lists\n",
    "\n",
    "list_of_lists = [[1, 2, 3], [4, 5, 6]]\n",
    "\n",
    "list_of_lists[0][2]"
   ]
  },
  {
   "cell_type": "markdown",
   "metadata": {},
   "source": [
    "### Adding, Removing, and Changing Items"
   ]
  },
  {
   "cell_type": "code",
   "execution_count": 15,
   "metadata": {},
   "outputs": [
    {
     "data": {
      "text/plain": [
       "['donuts',\n",
       " 'muffins',\n",
       " 'cake',\n",
       " 'cookies',\n",
       " 'cups',\n",
       " 'plates',\n",
       " 'napkins',\n",
       " 'cutlery']"
      ]
     },
     "execution_count": 15,
     "metadata": {},
     "output_type": "execute_result"
    },
    {
     "data": {
      "application/javascript": [
       "\n",
       "            setTimeout(function() {\n",
       "                var nbb_cell_id = 15;\n",
       "                var nbb_unformatted_code = \"# Concatenate lists\\n\\ncomplete_list = shopping_list + additional_items_list\\n\\ncomplete_list\";\n",
       "                var nbb_formatted_code = \"# Concatenate lists\\n\\ncomplete_list = shopping_list + additional_items_list\\n\\ncomplete_list\";\n",
       "                var nbb_cells = Jupyter.notebook.get_cells();\n",
       "                for (var i = 0; i < nbb_cells.length; ++i) {\n",
       "                    if (nbb_cells[i].input_prompt_number == nbb_cell_id) {\n",
       "                        if (nbb_cells[i].get_text() == nbb_unformatted_code) {\n",
       "                             nbb_cells[i].set_text(nbb_formatted_code);\n",
       "                        }\n",
       "                        break;\n",
       "                    }\n",
       "                }\n",
       "            }, 500);\n",
       "            "
      ],
      "text/plain": [
       "<IPython.core.display.Javascript object>"
      ]
     },
     "metadata": {},
     "output_type": "display_data"
    }
   ],
   "source": [
    "# Concatenate lists\n",
    "\n",
    "complete_list = shopping_list + additional_items_list\n",
    "\n",
    "complete_list"
   ]
  },
  {
   "cell_type": "code",
   "execution_count": 16,
   "metadata": {},
   "outputs": [
    {
     "data": {
      "text/plain": [
       "['donuts',\n",
       " 'muffins',\n",
       " 'cake',\n",
       " 'cookies',\n",
       " 'cups',\n",
       " 'plates',\n",
       " 'napkins',\n",
       " 'cutlery',\n",
       " 'lemonade']"
      ]
     },
     "execution_count": 16,
     "metadata": {},
     "output_type": "execute_result"
    },
    {
     "data": {
      "application/javascript": [
       "\n",
       "            setTimeout(function() {\n",
       "                var nbb_cell_id = 16;\n",
       "                var nbb_unformatted_code = \"# Add new items to the end of the list via \\\"append\\\"\\n\\ncomplete_list.append(\\\"lemonade\\\")\\n\\ncomplete_list\";\n",
       "                var nbb_formatted_code = \"# Add new items to the end of the list via \\\"append\\\"\\n\\ncomplete_list.append(\\\"lemonade\\\")\\n\\ncomplete_list\";\n",
       "                var nbb_cells = Jupyter.notebook.get_cells();\n",
       "                for (var i = 0; i < nbb_cells.length; ++i) {\n",
       "                    if (nbb_cells[i].input_prompt_number == nbb_cell_id) {\n",
       "                        if (nbb_cells[i].get_text() == nbb_unformatted_code) {\n",
       "                             nbb_cells[i].set_text(nbb_formatted_code);\n",
       "                        }\n",
       "                        break;\n",
       "                    }\n",
       "                }\n",
       "            }, 500);\n",
       "            "
      ],
      "text/plain": [
       "<IPython.core.display.Javascript object>"
      ]
     },
     "metadata": {},
     "output_type": "display_data"
    }
   ],
   "source": [
    "# Add new items to the end of the list via \"append\"\n",
    "\n",
    "complete_list.append(\"lemonade\")\n",
    "\n",
    "complete_list"
   ]
  },
  {
   "cell_type": "code",
   "execution_count": 17,
   "metadata": {},
   "outputs": [
    {
     "data": {
      "text/plain": [
       "['donuts',\n",
       " 'muffins',\n",
       " 'cake',\n",
       " 'candles',\n",
       " 'cookies',\n",
       " 'cups',\n",
       " 'plates',\n",
       " 'napkins',\n",
       " 'cutlery',\n",
       " 'lemonade']"
      ]
     },
     "execution_count": 17,
     "metadata": {},
     "output_type": "execute_result"
    },
    {
     "data": {
      "application/javascript": [
       "\n",
       "            setTimeout(function() {\n",
       "                var nbb_cell_id = 17;\n",
       "                var nbb_unformatted_code = \"# Insert items anywhere in the list\\n\\ncomplete_list.insert(3, \\\"candles\\\")\\n\\ncomplete_list\";\n",
       "                var nbb_formatted_code = \"# Insert items anywhere in the list\\n\\ncomplete_list.insert(3, \\\"candles\\\")\\n\\ncomplete_list\";\n",
       "                var nbb_cells = Jupyter.notebook.get_cells();\n",
       "                for (var i = 0; i < nbb_cells.length; ++i) {\n",
       "                    if (nbb_cells[i].input_prompt_number == nbb_cell_id) {\n",
       "                        if (nbb_cells[i].get_text() == nbb_unformatted_code) {\n",
       "                             nbb_cells[i].set_text(nbb_formatted_code);\n",
       "                        }\n",
       "                        break;\n",
       "                    }\n",
       "                }\n",
       "            }, 500);\n",
       "            "
      ],
      "text/plain": [
       "<IPython.core.display.Javascript object>"
      ]
     },
     "metadata": {},
     "output_type": "display_data"
    }
   ],
   "source": [
    "# Insert items anywhere in the list\n",
    "\n",
    "complete_list.insert(3, \"candles\")\n",
    "\n",
    "complete_list"
   ]
  },
  {
   "cell_type": "code",
   "execution_count": 18,
   "metadata": {},
   "outputs": [
    {
     "data": {
      "text/plain": [
       "['donuts',\n",
       " 'muffins',\n",
       " 'carrot cake',\n",
       " 'candles',\n",
       " 'cookies',\n",
       " 'cups',\n",
       " 'plates',\n",
       " 'napkins',\n",
       " 'cutlery',\n",
       " 'lemonade']"
      ]
     },
     "execution_count": 18,
     "metadata": {},
     "output_type": "execute_result"
    },
    {
     "data": {
      "application/javascript": [
       "\n",
       "            setTimeout(function() {\n",
       "                var nbb_cell_id = 18;\n",
       "                var nbb_unformatted_code = \"# You can change items in the list\\n\\ncomplete_list[2] = \\\"carrot cake\\\"\\n\\ncomplete_list\";\n",
       "                var nbb_formatted_code = \"# You can change items in the list\\n\\ncomplete_list[2] = \\\"carrot cake\\\"\\n\\ncomplete_list\";\n",
       "                var nbb_cells = Jupyter.notebook.get_cells();\n",
       "                for (var i = 0; i < nbb_cells.length; ++i) {\n",
       "                    if (nbb_cells[i].input_prompt_number == nbb_cell_id) {\n",
       "                        if (nbb_cells[i].get_text() == nbb_unformatted_code) {\n",
       "                             nbb_cells[i].set_text(nbb_formatted_code);\n",
       "                        }\n",
       "                        break;\n",
       "                    }\n",
       "                }\n",
       "            }, 500);\n",
       "            "
      ],
      "text/plain": [
       "<IPython.core.display.Javascript object>"
      ]
     },
     "metadata": {},
     "output_type": "display_data"
    }
   ],
   "source": [
    "# You can change items in the list\n",
    "\n",
    "complete_list[2] = \"carrot cake\"\n",
    "\n",
    "complete_list"
   ]
  },
  {
   "cell_type": "code",
   "execution_count": 19,
   "metadata": {},
   "outputs": [
    {
     "data": {
      "text/plain": [
       "['muffins',\n",
       " 'carrot cake',\n",
       " 'candles',\n",
       " 'cookies',\n",
       " 'cups',\n",
       " 'plates',\n",
       " 'napkins',\n",
       " 'cutlery',\n",
       " 'lemonade']"
      ]
     },
     "execution_count": 19,
     "metadata": {},
     "output_type": "execute_result"
    },
    {
     "data": {
      "application/javascript": [
       "\n",
       "            setTimeout(function() {\n",
       "                var nbb_cell_id = 19;\n",
       "                var nbb_unformatted_code = \"complete_list.remove(\\\"donuts\\\")\\n\\ncomplete_list\";\n",
       "                var nbb_formatted_code = \"complete_list.remove(\\\"donuts\\\")\\n\\ncomplete_list\";\n",
       "                var nbb_cells = Jupyter.notebook.get_cells();\n",
       "                for (var i = 0; i < nbb_cells.length; ++i) {\n",
       "                    if (nbb_cells[i].input_prompt_number == nbb_cell_id) {\n",
       "                        if (nbb_cells[i].get_text() == nbb_unformatted_code) {\n",
       "                             nbb_cells[i].set_text(nbb_formatted_code);\n",
       "                        }\n",
       "                        break;\n",
       "                    }\n",
       "                }\n",
       "            }, 500);\n",
       "            "
      ],
      "text/plain": [
       "<IPython.core.display.Javascript object>"
      ]
     },
     "metadata": {},
     "output_type": "display_data"
    }
   ],
   "source": [
    "complete_list.remove(\"donuts\")\n",
    "\n",
    "complete_list"
   ]
  },
  {
   "cell_type": "code",
   "execution_count": 20,
   "metadata": {},
   "outputs": [
    {
     "data": {
      "text/plain": [
       "['muffins',\n",
       " 'carrot cake',\n",
       " 'candles',\n",
       " 'cookies',\n",
       " 'cups',\n",
       " 'plates',\n",
       " 'cutlery',\n",
       " 'lemonade']"
      ]
     },
     "execution_count": 20,
     "metadata": {},
     "output_type": "execute_result"
    },
    {
     "data": {
      "application/javascript": [
       "\n",
       "            setTimeout(function() {\n",
       "                var nbb_cell_id = 20;\n",
       "                var nbb_unformatted_code = \"del complete_list[6]  # removes napkins\\n\\ncomplete_list\";\n",
       "                var nbb_formatted_code = \"del complete_list[6]  # removes napkins\\n\\ncomplete_list\";\n",
       "                var nbb_cells = Jupyter.notebook.get_cells();\n",
       "                for (var i = 0; i < nbb_cells.length; ++i) {\n",
       "                    if (nbb_cells[i].input_prompt_number == nbb_cell_id) {\n",
       "                        if (nbb_cells[i].get_text() == nbb_unformatted_code) {\n",
       "                             nbb_cells[i].set_text(nbb_formatted_code);\n",
       "                        }\n",
       "                        break;\n",
       "                    }\n",
       "                }\n",
       "            }, 500);\n",
       "            "
      ],
      "text/plain": [
       "<IPython.core.display.Javascript object>"
      ]
     },
     "metadata": {},
     "output_type": "display_data"
    }
   ],
   "source": [
    "del complete_list[6]  # removes napkins\n",
    "\n",
    "complete_list"
   ]
  },
  {
   "cell_type": "markdown",
   "metadata": {},
   "source": [
    "### Other List Operations"
   ]
  },
  {
   "cell_type": "code",
   "execution_count": 21,
   "metadata": {},
   "outputs": [
    {
     "data": {
      "text/plain": [
       "8"
      ]
     },
     "execution_count": 21,
     "metadata": {},
     "output_type": "execute_result"
    },
    {
     "data": {
      "application/javascript": [
       "\n",
       "            setTimeout(function() {\n",
       "                var nbb_cell_id = 21;\n",
       "                var nbb_unformatted_code = \"# Get the length of the list\\n\\nlen(complete_list)\";\n",
       "                var nbb_formatted_code = \"# Get the length of the list\\n\\nlen(complete_list)\";\n",
       "                var nbb_cells = Jupyter.notebook.get_cells();\n",
       "                for (var i = 0; i < nbb_cells.length; ++i) {\n",
       "                    if (nbb_cells[i].input_prompt_number == nbb_cell_id) {\n",
       "                        if (nbb_cells[i].get_text() == nbb_unformatted_code) {\n",
       "                             nbb_cells[i].set_text(nbb_formatted_code);\n",
       "                        }\n",
       "                        break;\n",
       "                    }\n",
       "                }\n",
       "            }, 500);\n",
       "            "
      ],
      "text/plain": [
       "<IPython.core.display.Javascript object>"
      ]
     },
     "metadata": {},
     "output_type": "display_data"
    }
   ],
   "source": [
    "# Get the length of the list\n",
    "\n",
    "len(complete_list)"
   ]
  },
  {
   "cell_type": "code",
   "execution_count": 22,
   "metadata": {},
   "outputs": [
    {
     "name": "stdout",
     "output_type": "stream",
     "text": [
      "Are plates in the list?\n"
     ]
    },
    {
     "data": {
      "text/plain": [
       "True"
      ]
     },
     "execution_count": 22,
     "metadata": {},
     "output_type": "execute_result"
    },
    {
     "data": {
      "application/javascript": [
       "\n",
       "            setTimeout(function() {\n",
       "                var nbb_cell_id = 22;\n",
       "                var nbb_unformatted_code = \"# Test if an item is in a list or not -> result is a boolean\\n\\nprint(\\\"Are plates in the list?\\\")\\n\\n\\\"plates\\\" in complete_list\";\n",
       "                var nbb_formatted_code = \"# Test if an item is in a list or not -> result is a boolean\\n\\nprint(\\\"Are plates in the list?\\\")\\n\\n\\\"plates\\\" in complete_list\";\n",
       "                var nbb_cells = Jupyter.notebook.get_cells();\n",
       "                for (var i = 0; i < nbb_cells.length; ++i) {\n",
       "                    if (nbb_cells[i].input_prompt_number == nbb_cell_id) {\n",
       "                        if (nbb_cells[i].get_text() == nbb_unformatted_code) {\n",
       "                             nbb_cells[i].set_text(nbb_formatted_code);\n",
       "                        }\n",
       "                        break;\n",
       "                    }\n",
       "                }\n",
       "            }, 500);\n",
       "            "
      ],
      "text/plain": [
       "<IPython.core.display.Javascript object>"
      ]
     },
     "metadata": {},
     "output_type": "display_data"
    }
   ],
   "source": [
    "# Test if an item is in a list or not -> result is a boolean\n",
    "\n",
    "print(\"Are plates in the list?\")\n",
    "\n",
    "\"plates\" in complete_list"
   ]
  },
  {
   "cell_type": "code",
   "execution_count": 23,
   "metadata": {},
   "outputs": [
    {
     "name": "stdout",
     "output_type": "stream",
     "text": [
      "Are cookies NOT in the list? False\n"
     ]
    },
    {
     "data": {
      "application/javascript": [
       "\n",
       "            setTimeout(function() {\n",
       "                var nbb_cell_id = 23;\n",
       "                var nbb_unformatted_code = \"print(\\\"Are cookies NOT in the list?\\\", \\\"cookies\\\" not in complete_list)\";\n",
       "                var nbb_formatted_code = \"print(\\\"Are cookies NOT in the list?\\\", \\\"cookies\\\" not in complete_list)\";\n",
       "                var nbb_cells = Jupyter.notebook.get_cells();\n",
       "                for (var i = 0; i < nbb_cells.length; ++i) {\n",
       "                    if (nbb_cells[i].input_prompt_number == nbb_cell_id) {\n",
       "                        if (nbb_cells[i].get_text() == nbb_unformatted_code) {\n",
       "                             nbb_cells[i].set_text(nbb_formatted_code);\n",
       "                        }\n",
       "                        break;\n",
       "                    }\n",
       "                }\n",
       "            }, 500);\n",
       "            "
      ],
      "text/plain": [
       "<IPython.core.display.Javascript object>"
      ]
     },
     "metadata": {},
     "output_type": "display_data"
    }
   ],
   "source": [
    "print(\"Are cookies NOT in the list?\", \"cookies\" not in complete_list)"
   ]
  },
  {
   "cell_type": "markdown",
   "metadata": {},
   "source": [
    "### Iterating over Lists"
   ]
  },
  {
   "cell_type": "code",
   "execution_count": 24,
   "metadata": {},
   "outputs": [
    {
     "name": "stdout",
     "output_type": "stream",
     "text": [
      "Please remember to buy muffins!\n",
      "Please remember to buy carrot cake!\n",
      "Please remember to buy candles!\n",
      "Please remember to buy cookies!\n",
      "Please remember to buy cups!\n",
      "Please remember to buy plates!\n",
      "Please remember to buy cutlery!\n",
      "Please remember to buy lemonade!\n"
     ]
    },
    {
     "data": {
      "application/javascript": [
       "\n",
       "            setTimeout(function() {\n",
       "                var nbb_cell_id = 24;\n",
       "                var nbb_unformatted_code = \"for item in complete_list:\\n    print(f\\\"Please remember to buy {item}!\\\")\";\n",
       "                var nbb_formatted_code = \"for item in complete_list:\\n    print(f\\\"Please remember to buy {item}!\\\")\";\n",
       "                var nbb_cells = Jupyter.notebook.get_cells();\n",
       "                for (var i = 0; i < nbb_cells.length; ++i) {\n",
       "                    if (nbb_cells[i].input_prompt_number == nbb_cell_id) {\n",
       "                        if (nbb_cells[i].get_text() == nbb_unformatted_code) {\n",
       "                             nbb_cells[i].set_text(nbb_formatted_code);\n",
       "                        }\n",
       "                        break;\n",
       "                    }\n",
       "                }\n",
       "            }, 500);\n",
       "            "
      ],
      "text/plain": [
       "<IPython.core.display.Javascript object>"
      ]
     },
     "metadata": {},
     "output_type": "display_data"
    }
   ],
   "source": [
    "for item in complete_list:\n",
    "    print(f\"Please remember to buy {item}!\")"
   ]
  },
  {
   "cell_type": "code",
   "execution_count": 25,
   "metadata": {},
   "outputs": [
    {
     "name": "stdout",
     "output_type": "stream",
     "text": [
      "Item no. 0: muffins\n",
      "Item no. 1: carrot cake\n",
      "Item no. 2: candles\n",
      "Item no. 3: cookies\n",
      "Item no. 4: cups\n",
      "Item no. 5: plates\n",
      "Item no. 6: cutlery\n",
      "Item no. 7: lemonade\n"
     ]
    },
    {
     "data": {
      "application/javascript": [
       "\n",
       "            setTimeout(function() {\n",
       "                var nbb_cell_id = 25;\n",
       "                var nbb_unformatted_code = \"# Getting the current list index in the loop\\n\\nfor i, item in enumerate(complete_list):\\n    print(f\\\"Item no. {i}: {item}\\\")\";\n",
       "                var nbb_formatted_code = \"# Getting the current list index in the loop\\n\\nfor i, item in enumerate(complete_list):\\n    print(f\\\"Item no. {i}: {item}\\\")\";\n",
       "                var nbb_cells = Jupyter.notebook.get_cells();\n",
       "                for (var i = 0; i < nbb_cells.length; ++i) {\n",
       "                    if (nbb_cells[i].input_prompt_number == nbb_cell_id) {\n",
       "                        if (nbb_cells[i].get_text() == nbb_unformatted_code) {\n",
       "                             nbb_cells[i].set_text(nbb_formatted_code);\n",
       "                        }\n",
       "                        break;\n",
       "                    }\n",
       "                }\n",
       "            }, 500);\n",
       "            "
      ],
      "text/plain": [
       "<IPython.core.display.Javascript object>"
      ]
     },
     "metadata": {},
     "output_type": "display_data"
    }
   ],
   "source": [
    "# Getting the current list index in the loop\n",
    "\n",
    "for i, item in enumerate(complete_list):\n",
    "    print(f\"Item no. {i}: {item}\")"
   ]
  },
  {
   "cell_type": "markdown",
   "metadata": {},
   "source": [
    "### Sorting"
   ]
  },
  {
   "cell_type": "code",
   "execution_count": 26,
   "metadata": {},
   "outputs": [
    {
     "name": "stdout",
     "output_type": "stream",
     "text": [
      "Sorted list: ['candles', 'carrot cake', 'cookies', 'cups', 'cutlery', 'lemonade', 'muffins', 'plates']\n",
      "List sorted in reverse: ['plates', 'muffins', 'lemonade', 'cutlery', 'cups', 'cookies', 'carrot cake', 'candles']\n"
     ]
    },
    {
     "data": {
      "application/javascript": [
       "\n",
       "            setTimeout(function() {\n",
       "                var nbb_cell_id = 26;\n",
       "                var nbb_unformatted_code = \"# in place\\n\\ncomplete_list.sort()\\nprint(f\\\"Sorted list: {complete_list}\\\")\\n\\ncomplete_list.sort(reverse=True)\\nprint(f\\\"List sorted in reverse: {complete_list}\\\")\";\n",
       "                var nbb_formatted_code = \"# in place\\n\\ncomplete_list.sort()\\nprint(f\\\"Sorted list: {complete_list}\\\")\\n\\ncomplete_list.sort(reverse=True)\\nprint(f\\\"List sorted in reverse: {complete_list}\\\")\";\n",
       "                var nbb_cells = Jupyter.notebook.get_cells();\n",
       "                for (var i = 0; i < nbb_cells.length; ++i) {\n",
       "                    if (nbb_cells[i].input_prompt_number == nbb_cell_id) {\n",
       "                        if (nbb_cells[i].get_text() == nbb_unformatted_code) {\n",
       "                             nbb_cells[i].set_text(nbb_formatted_code);\n",
       "                        }\n",
       "                        break;\n",
       "                    }\n",
       "                }\n",
       "            }, 500);\n",
       "            "
      ],
      "text/plain": [
       "<IPython.core.display.Javascript object>"
      ]
     },
     "metadata": {},
     "output_type": "display_data"
    }
   ],
   "source": [
    "# in place\n",
    "\n",
    "complete_list.sort()\n",
    "print(f\"Sorted list: {complete_list}\")\n",
    "\n",
    "complete_list.sort(reverse=True)\n",
    "print(f\"List sorted in reverse: {complete_list}\")"
   ]
  },
  {
   "cell_type": "code",
   "execution_count": 27,
   "metadata": {},
   "outputs": [
    {
     "name": "stdout",
     "output_type": "stream",
     "text": [
      "unsorted_list: [5, 3, 8, 1, 2]\n",
      "sorted_list: [1, 2, 3, 5, 8]\n"
     ]
    },
    {
     "data": {
      "application/javascript": [
       "\n",
       "            setTimeout(function() {\n",
       "                var nbb_cell_id = 27;\n",
       "                var nbb_unformatted_code = \"# create new sorted list (also works with reverse=True)\\n\\nunsorted_list = [5, 3, 8, 1, 2]\\n\\nsorted_list = sorted(unsorted_list)\\n\\nprint(f\\\"unsorted_list: {unsorted_list}\\\")\\nprint(f\\\"sorted_list: {sorted_list}\\\")\";\n",
       "                var nbb_formatted_code = \"# create new sorted list (also works with reverse=True)\\n\\nunsorted_list = [5, 3, 8, 1, 2]\\n\\nsorted_list = sorted(unsorted_list)\\n\\nprint(f\\\"unsorted_list: {unsorted_list}\\\")\\nprint(f\\\"sorted_list: {sorted_list}\\\")\";\n",
       "                var nbb_cells = Jupyter.notebook.get_cells();\n",
       "                for (var i = 0; i < nbb_cells.length; ++i) {\n",
       "                    if (nbb_cells[i].input_prompt_number == nbb_cell_id) {\n",
       "                        if (nbb_cells[i].get_text() == nbb_unformatted_code) {\n",
       "                             nbb_cells[i].set_text(nbb_formatted_code);\n",
       "                        }\n",
       "                        break;\n",
       "                    }\n",
       "                }\n",
       "            }, 500);\n",
       "            "
      ],
      "text/plain": [
       "<IPython.core.display.Javascript object>"
      ]
     },
     "metadata": {},
     "output_type": "display_data"
    }
   ],
   "source": [
    "# create new sorted list (also works with reverse=True)\n",
    "\n",
    "unsorted_list = [5, 3, 8, 1, 2]\n",
    "\n",
    "sorted_list = sorted(unsorted_list)\n",
    "\n",
    "print(f\"unsorted_list: {unsorted_list}\")\n",
    "print(f\"sorted_list: {sorted_list}\")"
   ]
  },
  {
   "cell_type": "markdown",
   "metadata": {},
   "source": [
    "### Min, Max, Sum"
   ]
  },
  {
   "cell_type": "code",
   "execution_count": 28,
   "metadata": {},
   "outputs": [
    {
     "name": "stdout",
     "output_type": "stream",
     "text": [
      "Minimum: 1\n",
      "Maximum: 8\n",
      "Sum: 19\n"
     ]
    },
    {
     "data": {
      "application/javascript": [
       "\n",
       "            setTimeout(function() {\n",
       "                var nbb_cell_id = 28;\n",
       "                var nbb_unformatted_code = \"some_numbers = [5, 3, 8, 1, 2]\\n\\nprint(f\\\"Minimum: {min(some_numbers)}\\\")\\nprint(f\\\"Maximum: {max(some_numbers)}\\\")\\nprint(f\\\"Sum: {sum(some_numbers)}\\\")\";\n",
       "                var nbb_formatted_code = \"some_numbers = [5, 3, 8, 1, 2]\\n\\nprint(f\\\"Minimum: {min(some_numbers)}\\\")\\nprint(f\\\"Maximum: {max(some_numbers)}\\\")\\nprint(f\\\"Sum: {sum(some_numbers)}\\\")\";\n",
       "                var nbb_cells = Jupyter.notebook.get_cells();\n",
       "                for (var i = 0; i < nbb_cells.length; ++i) {\n",
       "                    if (nbb_cells[i].input_prompt_number == nbb_cell_id) {\n",
       "                        if (nbb_cells[i].get_text() == nbb_unformatted_code) {\n",
       "                             nbb_cells[i].set_text(nbb_formatted_code);\n",
       "                        }\n",
       "                        break;\n",
       "                    }\n",
       "                }\n",
       "            }, 500);\n",
       "            "
      ],
      "text/plain": [
       "<IPython.core.display.Javascript object>"
      ]
     },
     "metadata": {},
     "output_type": "display_data"
    }
   ],
   "source": [
    "some_numbers = [5, 3, 8, 1, 2]\n",
    "\n",
    "print(f\"Minimum: {min(some_numbers)}\")\n",
    "print(f\"Maximum: {max(some_numbers)}\")\n",
    "print(f\"Sum: {sum(some_numbers)}\")"
   ]
  },
  {
   "cell_type": "markdown",
   "metadata": {},
   "source": [
    "## Dictionaries: (Unordered) Key-Value Pairs"
   ]
  },
  {
   "cell_type": "markdown",
   "metadata": {},
   "source": [
    "### Creating Dictionaries"
   ]
  },
  {
   "cell_type": "code",
   "execution_count": 29,
   "metadata": {},
   "outputs": [
    {
     "data": {
      "text/plain": [
       "{'donuts': 10, 'muffins': 10, 'cake': 2}"
      ]
     },
     "execution_count": 29,
     "metadata": {},
     "output_type": "execute_result"
    },
    {
     "data": {
      "application/javascript": [
       "\n",
       "            setTimeout(function() {\n",
       "                var nbb_cell_id = 29;\n",
       "                var nbb_unformatted_code = \"# Dictionary literal\\n\\n{\\\"donuts\\\": 10, \\\"muffins\\\": 10, \\\"cake\\\": 2}\";\n",
       "                var nbb_formatted_code = \"# Dictionary literal\\n\\n{\\\"donuts\\\": 10, \\\"muffins\\\": 10, \\\"cake\\\": 2}\";\n",
       "                var nbb_cells = Jupyter.notebook.get_cells();\n",
       "                for (var i = 0; i < nbb_cells.length; ++i) {\n",
       "                    if (nbb_cells[i].input_prompt_number == nbb_cell_id) {\n",
       "                        if (nbb_cells[i].get_text() == nbb_unformatted_code) {\n",
       "                             nbb_cells[i].set_text(nbb_formatted_code);\n",
       "                        }\n",
       "                        break;\n",
       "                    }\n",
       "                }\n",
       "            }, 500);\n",
       "            "
      ],
      "text/plain": [
       "<IPython.core.display.Javascript object>"
      ]
     },
     "metadata": {},
     "output_type": "display_data"
    }
   ],
   "source": [
    "# Dictionary literal\n",
    "\n",
    "{\"donuts\": 10, \"muffins\": 10, \"cake\": 2}"
   ]
  },
  {
   "cell_type": "code",
   "execution_count": 30,
   "metadata": {},
   "outputs": [
    {
     "data": {
      "text/plain": [
       "{'donuts': 10, 'muffins': 10, 'cake': 2}"
      ]
     },
     "execution_count": 30,
     "metadata": {},
     "output_type": "execute_result"
    },
    {
     "data": {
      "application/javascript": [
       "\n",
       "            setTimeout(function() {\n",
       "                var nbb_cell_id = 30;\n",
       "                var nbb_unformatted_code = \"# dict function with list of lists as parameter (or tuple of tuples, etc.)\\n\\ndict([[\\\"donuts\\\", 10], [\\\"muffins\\\", 10], [\\\"cake\\\", 2]])\";\n",
       "                var nbb_formatted_code = \"# dict function with list of lists as parameter (or tuple of tuples, etc.)\\n\\ndict([[\\\"donuts\\\", 10], [\\\"muffins\\\", 10], [\\\"cake\\\", 2]])\";\n",
       "                var nbb_cells = Jupyter.notebook.get_cells();\n",
       "                for (var i = 0; i < nbb_cells.length; ++i) {\n",
       "                    if (nbb_cells[i].input_prompt_number == nbb_cell_id) {\n",
       "                        if (nbb_cells[i].get_text() == nbb_unformatted_code) {\n",
       "                             nbb_cells[i].set_text(nbb_formatted_code);\n",
       "                        }\n",
       "                        break;\n",
       "                    }\n",
       "                }\n",
       "            }, 500);\n",
       "            "
      ],
      "text/plain": [
       "<IPython.core.display.Javascript object>"
      ]
     },
     "metadata": {},
     "output_type": "display_data"
    }
   ],
   "source": [
    "# dict function with list of lists as parameter (or tuple of tuples, etc.)\n",
    "\n",
    "dict([[\"donuts\", 10], [\"muffins\", 10], [\"cake\", 2]])"
   ]
  },
  {
   "cell_type": "code",
   "execution_count": 31,
   "metadata": {},
   "outputs": [
    {
     "data": {
      "text/plain": [
       "{'donuts': 10, 'muffins': 10, 'cake': 2}"
      ]
     },
     "execution_count": 31,
     "metadata": {},
     "output_type": "execute_result"
    },
    {
     "data": {
      "application/javascript": [
       "\n",
       "            setTimeout(function() {\n",
       "                var nbb_cell_id = 31;\n",
       "                var nbb_unformatted_code = \"# dict function with key-value pairs as function parameters\\n\\ndict(donuts=10, muffins=10, cake=2)\";\n",
       "                var nbb_formatted_code = \"# dict function with key-value pairs as function parameters\\n\\ndict(donuts=10, muffins=10, cake=2)\";\n",
       "                var nbb_cells = Jupyter.notebook.get_cells();\n",
       "                for (var i = 0; i < nbb_cells.length; ++i) {\n",
       "                    if (nbb_cells[i].input_prompt_number == nbb_cell_id) {\n",
       "                        if (nbb_cells[i].get_text() == nbb_unformatted_code) {\n",
       "                             nbb_cells[i].set_text(nbb_formatted_code);\n",
       "                        }\n",
       "                        break;\n",
       "                    }\n",
       "                }\n",
       "            }, 500);\n",
       "            "
      ],
      "text/plain": [
       "<IPython.core.display.Javascript object>"
      ]
     },
     "metadata": {},
     "output_type": "display_data"
    }
   ],
   "source": [
    "# dict function with key-value pairs as function parameters\n",
    "\n",
    "dict(donuts=10, muffins=10, cake=2)"
   ]
  },
  {
   "cell_type": "code",
   "execution_count": 32,
   "metadata": {},
   "outputs": [
    {
     "data": {
      "text/plain": [
       "{'donuts': 10, 'muffins': 10, 'cake': 2}"
      ]
     },
     "execution_count": 32,
     "metadata": {},
     "output_type": "execute_result"
    },
    {
     "data": {
      "application/javascript": [
       "\n",
       "            setTimeout(function() {\n",
       "                var nbb_cell_id = 32;\n",
       "                var nbb_unformatted_code = \"# Building dictionaries entry by entry\\n\\nmy_dict = {}\\n\\nmy_dict[\\\"donuts\\\"] = 10\\nmy_dict[\\\"muffins\\\"] = 10\\nmy_dict[\\\"cake\\\"] = 2\\n\\nmy_dict\";\n",
       "                var nbb_formatted_code = \"# Building dictionaries entry by entry\\n\\nmy_dict = {}\\n\\nmy_dict[\\\"donuts\\\"] = 10\\nmy_dict[\\\"muffins\\\"] = 10\\nmy_dict[\\\"cake\\\"] = 2\\n\\nmy_dict\";\n",
       "                var nbb_cells = Jupyter.notebook.get_cells();\n",
       "                for (var i = 0; i < nbb_cells.length; ++i) {\n",
       "                    if (nbb_cells[i].input_prompt_number == nbb_cell_id) {\n",
       "                        if (nbb_cells[i].get_text() == nbb_unformatted_code) {\n",
       "                             nbb_cells[i].set_text(nbb_formatted_code);\n",
       "                        }\n",
       "                        break;\n",
       "                    }\n",
       "                }\n",
       "            }, 500);\n",
       "            "
      ],
      "text/plain": [
       "<IPython.core.display.Javascript object>"
      ]
     },
     "metadata": {},
     "output_type": "display_data"
    }
   ],
   "source": [
    "# Building dictionaries entry by entry\n",
    "\n",
    "my_dict = {}\n",
    "\n",
    "my_dict[\"donuts\"] = 10\n",
    "my_dict[\"muffins\"] = 10\n",
    "my_dict[\"cake\"] = 2\n",
    "\n",
    "my_dict"
   ]
  },
  {
   "cell_type": "markdown",
   "metadata": {},
   "source": [
    "### Accessing Values and Iterating over Dictionaries"
   ]
  },
  {
   "cell_type": "code",
   "execution_count": 33,
   "metadata": {},
   "outputs": [
    {
     "data": {
      "text/plain": [
       "10"
      ]
     },
     "execution_count": 33,
     "metadata": {},
     "output_type": "execute_result"
    },
    {
     "data": {
      "application/javascript": [
       "\n",
       "            setTimeout(function() {\n",
       "                var nbb_cell_id = 33;\n",
       "                var nbb_unformatted_code = \"# simple lookup\\n\\nmy_dict[\\\"donuts\\\"]\";\n",
       "                var nbb_formatted_code = \"# simple lookup\\n\\nmy_dict[\\\"donuts\\\"]\";\n",
       "                var nbb_cells = Jupyter.notebook.get_cells();\n",
       "                for (var i = 0; i < nbb_cells.length; ++i) {\n",
       "                    if (nbb_cells[i].input_prompt_number == nbb_cell_id) {\n",
       "                        if (nbb_cells[i].get_text() == nbb_unformatted_code) {\n",
       "                             nbb_cells[i].set_text(nbb_formatted_code);\n",
       "                        }\n",
       "                        break;\n",
       "                    }\n",
       "                }\n",
       "            }, 500);\n",
       "            "
      ],
      "text/plain": [
       "<IPython.core.display.Javascript object>"
      ]
     },
     "metadata": {},
     "output_type": "display_data"
    }
   ],
   "source": [
    "# simple lookup\n",
    "\n",
    "my_dict[\"donuts\"]"
   ]
  },
  {
   "cell_type": "code",
   "execution_count": 34,
   "metadata": {},
   "outputs": [
    {
     "data": {
      "text/plain": [
       "0"
      ]
     },
     "execution_count": 34,
     "metadata": {},
     "output_type": "execute_result"
    },
    {
     "data": {
      "application/javascript": [
       "\n",
       "            setTimeout(function() {\n",
       "                var nbb_cell_id = 34;\n",
       "                var nbb_unformatted_code = \"# If you are not sure whether a key is in the dictionary, provide a default value\\n\\nmy_dict.get(\\\"cookies\\\", 0)\";\n",
       "                var nbb_formatted_code = \"# If you are not sure whether a key is in the dictionary, provide a default value\\n\\nmy_dict.get(\\\"cookies\\\", 0)\";\n",
       "                var nbb_cells = Jupyter.notebook.get_cells();\n",
       "                for (var i = 0; i < nbb_cells.length; ++i) {\n",
       "                    if (nbb_cells[i].input_prompt_number == nbb_cell_id) {\n",
       "                        if (nbb_cells[i].get_text() == nbb_unformatted_code) {\n",
       "                             nbb_cells[i].set_text(nbb_formatted_code);\n",
       "                        }\n",
       "                        break;\n",
       "                    }\n",
       "                }\n",
       "            }, 500);\n",
       "            "
      ],
      "text/plain": [
       "<IPython.core.display.Javascript object>"
      ]
     },
     "metadata": {},
     "output_type": "display_data"
    }
   ],
   "source": [
    "# If you are not sure whether a key is in the dictionary, provide a default value\n",
    "\n",
    "my_dict.get(\"cookies\", 0)"
   ]
  },
  {
   "cell_type": "code",
   "execution_count": 35,
   "metadata": {},
   "outputs": [
    {
     "data": {
      "application/javascript": [
       "\n",
       "            setTimeout(function() {\n",
       "                var nbb_cell_id = 35;\n",
       "                var nbb_unformatted_code = \"# Otherwise you get an error\\n\\n# my_dict[\\\"cookies\\\"]\\n\\n\\n# Result would be:\\n\\n# ---------------------------------------------------------------------------\\n# KeyError                                  Traceback (most recent call last)\\n# <ipython-input-53-1d4f44725099> in <module>\\n#       1 # Otherwise you get an error\\n#       2\\n# ----> 3 my_dict[\\\"cookies\\\"]\\n\\n# KeyError: 'cookies'\";\n",
       "                var nbb_formatted_code = \"# Otherwise you get an error\\n\\n# my_dict[\\\"cookies\\\"]\\n\\n\\n# Result would be:\\n\\n# ---------------------------------------------------------------------------\\n# KeyError                                  Traceback (most recent call last)\\n# <ipython-input-53-1d4f44725099> in <module>\\n#       1 # Otherwise you get an error\\n#       2\\n# ----> 3 my_dict[\\\"cookies\\\"]\\n\\n# KeyError: 'cookies'\";\n",
       "                var nbb_cells = Jupyter.notebook.get_cells();\n",
       "                for (var i = 0; i < nbb_cells.length; ++i) {\n",
       "                    if (nbb_cells[i].input_prompt_number == nbb_cell_id) {\n",
       "                        if (nbb_cells[i].get_text() == nbb_unformatted_code) {\n",
       "                             nbb_cells[i].set_text(nbb_formatted_code);\n",
       "                        }\n",
       "                        break;\n",
       "                    }\n",
       "                }\n",
       "            }, 500);\n",
       "            "
      ],
      "text/plain": [
       "<IPython.core.display.Javascript object>"
      ]
     },
     "metadata": {},
     "output_type": "display_data"
    }
   ],
   "source": [
    "# Otherwise you get an error\n",
    "\n",
    "# my_dict[\"cookies\"]\n",
    "\n",
    "\n",
    "# Result would be:\n",
    "\n",
    "# ---------------------------------------------------------------------------\n",
    "# KeyError                                  Traceback (most recent call last)\n",
    "# <ipython-input-53-1d4f44725099> in <module>\n",
    "#       1 # Otherwise you get an error\n",
    "#       2\n",
    "# ----> 3 my_dict[\"cookies\"]\n",
    "\n",
    "# KeyError: 'cookies'"
   ]
  },
  {
   "cell_type": "code",
   "execution_count": 36,
   "metadata": {},
   "outputs": [
    {
     "name": "stdout",
     "output_type": "stream",
     "text": [
      "cookies:  0\n"
     ]
    },
    {
     "data": {
      "application/javascript": [
       "\n",
       "            setTimeout(function() {\n",
       "                var nbb_cell_id = 36;\n",
       "                var nbb_unformatted_code = \"# Which you could also catch\\n\\ntry:\\n    print(\\\"cookies: \\\", my_dict[\\\"cookies\\\"])\\nexcept KeyError:\\n    print(\\\"cookies: \\\", 0)\";\n",
       "                var nbb_formatted_code = \"# Which you could also catch\\n\\ntry:\\n    print(\\\"cookies: \\\", my_dict[\\\"cookies\\\"])\\nexcept KeyError:\\n    print(\\\"cookies: \\\", 0)\";\n",
       "                var nbb_cells = Jupyter.notebook.get_cells();\n",
       "                for (var i = 0; i < nbb_cells.length; ++i) {\n",
       "                    if (nbb_cells[i].input_prompt_number == nbb_cell_id) {\n",
       "                        if (nbb_cells[i].get_text() == nbb_unformatted_code) {\n",
       "                             nbb_cells[i].set_text(nbb_formatted_code);\n",
       "                        }\n",
       "                        break;\n",
       "                    }\n",
       "                }\n",
       "            }, 500);\n",
       "            "
      ],
      "text/plain": [
       "<IPython.core.display.Javascript object>"
      ]
     },
     "metadata": {},
     "output_type": "display_data"
    }
   ],
   "source": [
    "# Which you could also catch\n",
    "\n",
    "try:\n",
    "    print(\"cookies: \", my_dict[\"cookies\"])\n",
    "except KeyError:\n",
    "    print(\"cookies: \", 0)"
   ]
  },
  {
   "cell_type": "code",
   "execution_count": 37,
   "metadata": {},
   "outputs": [
    {
     "data": {
      "text/plain": [
       "True"
      ]
     },
     "execution_count": 37,
     "metadata": {},
     "output_type": "execute_result"
    },
    {
     "data": {
      "application/javascript": [
       "\n",
       "            setTimeout(function() {\n",
       "                var nbb_cell_id = 37;\n",
       "                var nbb_unformatted_code = \"# check if key is in dictionary\\n\\n\\\"muffins\\\" in my_dict\";\n",
       "                var nbb_formatted_code = \"# check if key is in dictionary\\n\\n\\\"muffins\\\" in my_dict\";\n",
       "                var nbb_cells = Jupyter.notebook.get_cells();\n",
       "                for (var i = 0; i < nbb_cells.length; ++i) {\n",
       "                    if (nbb_cells[i].input_prompt_number == nbb_cell_id) {\n",
       "                        if (nbb_cells[i].get_text() == nbb_unformatted_code) {\n",
       "                             nbb_cells[i].set_text(nbb_formatted_code);\n",
       "                        }\n",
       "                        break;\n",
       "                    }\n",
       "                }\n",
       "            }, 500);\n",
       "            "
      ],
      "text/plain": [
       "<IPython.core.display.Javascript object>"
      ]
     },
     "metadata": {},
     "output_type": "display_data"
    }
   ],
   "source": [
    "# check if key is in dictionary\n",
    "\n",
    "\"muffins\" in my_dict"
   ]
  },
  {
   "cell_type": "code",
   "execution_count": 38,
   "metadata": {},
   "outputs": [
    {
     "data": {
      "text/plain": [
       "False"
      ]
     },
     "execution_count": 38,
     "metadata": {},
     "output_type": "execute_result"
    },
    {
     "data": {
      "application/javascript": [
       "\n",
       "            setTimeout(function() {\n",
       "                var nbb_cell_id = 38;\n",
       "                var nbb_unformatted_code = \"\\\"cookies\\\" in my_dict\";\n",
       "                var nbb_formatted_code = \"\\\"cookies\\\" in my_dict\";\n",
       "                var nbb_cells = Jupyter.notebook.get_cells();\n",
       "                for (var i = 0; i < nbb_cells.length; ++i) {\n",
       "                    if (nbb_cells[i].input_prompt_number == nbb_cell_id) {\n",
       "                        if (nbb_cells[i].get_text() == nbb_unformatted_code) {\n",
       "                             nbb_cells[i].set_text(nbb_formatted_code);\n",
       "                        }\n",
       "                        break;\n",
       "                    }\n",
       "                }\n",
       "            }, 500);\n",
       "            "
      ],
      "text/plain": [
       "<IPython.core.display.Javascript object>"
      ]
     },
     "metadata": {},
     "output_type": "display_data"
    }
   ],
   "source": [
    "\"cookies\" in my_dict"
   ]
  },
  {
   "cell_type": "code",
   "execution_count": 39,
   "metadata": {},
   "outputs": [
    {
     "name": "stdout",
     "output_type": "stream",
     "text": [
      "Oh no :(\n"
     ]
    },
    {
     "data": {
      "application/javascript": [
       "\n",
       "            setTimeout(function() {\n",
       "                var nbb_cell_id = 39;\n",
       "                var nbb_unformatted_code = \"# Useful in combination with if/else\\n\\nif \\\"cookies\\\" in my_dict:\\n    print(\\\"Yay!\\\")\\nelse:\\n    print(\\\"Oh no :(\\\")\";\n",
       "                var nbb_formatted_code = \"# Useful in combination with if/else\\n\\nif \\\"cookies\\\" in my_dict:\\n    print(\\\"Yay!\\\")\\nelse:\\n    print(\\\"Oh no :(\\\")\";\n",
       "                var nbb_cells = Jupyter.notebook.get_cells();\n",
       "                for (var i = 0; i < nbb_cells.length; ++i) {\n",
       "                    if (nbb_cells[i].input_prompt_number == nbb_cell_id) {\n",
       "                        if (nbb_cells[i].get_text() == nbb_unformatted_code) {\n",
       "                             nbb_cells[i].set_text(nbb_formatted_code);\n",
       "                        }\n",
       "                        break;\n",
       "                    }\n",
       "                }\n",
       "            }, 500);\n",
       "            "
      ],
      "text/plain": [
       "<IPython.core.display.Javascript object>"
      ]
     },
     "metadata": {},
     "output_type": "display_data"
    }
   ],
   "source": [
    "# Useful in combination with if/else\n",
    "\n",
    "if \"cookies\" in my_dict:\n",
    "    print(\"Yay!\")\n",
    "else:\n",
    "    print(\"Oh no :(\")"
   ]
  },
  {
   "cell_type": "code",
   "execution_count": 40,
   "metadata": {},
   "outputs": [
    {
     "data": {
      "text/plain": [
       "dict_keys(['donuts', 'muffins', 'cake'])"
      ]
     },
     "execution_count": 40,
     "metadata": {},
     "output_type": "execute_result"
    },
    {
     "data": {
      "application/javascript": [
       "\n",
       "            setTimeout(function() {\n",
       "                var nbb_cell_id = 40;\n",
       "                var nbb_unformatted_code = \"# Dictionary keys\\n\\nmy_dict.keys()\";\n",
       "                var nbb_formatted_code = \"# Dictionary keys\\n\\nmy_dict.keys()\";\n",
       "                var nbb_cells = Jupyter.notebook.get_cells();\n",
       "                for (var i = 0; i < nbb_cells.length; ++i) {\n",
       "                    if (nbb_cells[i].input_prompt_number == nbb_cell_id) {\n",
       "                        if (nbb_cells[i].get_text() == nbb_unformatted_code) {\n",
       "                             nbb_cells[i].set_text(nbb_formatted_code);\n",
       "                        }\n",
       "                        break;\n",
       "                    }\n",
       "                }\n",
       "            }, 500);\n",
       "            "
      ],
      "text/plain": [
       "<IPython.core.display.Javascript object>"
      ]
     },
     "metadata": {},
     "output_type": "display_data"
    }
   ],
   "source": [
    "# Dictionary keys\n",
    "\n",
    "my_dict.keys()"
   ]
  },
  {
   "cell_type": "code",
   "execution_count": 41,
   "metadata": {},
   "outputs": [
    {
     "name": "stdout",
     "output_type": "stream",
     "text": [
      "donuts: 10\n",
      "muffins: 10\n",
      "cake: 2\n"
     ]
    },
    {
     "data": {
      "application/javascript": [
       "\n",
       "            setTimeout(function() {\n",
       "                var nbb_cell_id = 41;\n",
       "                var nbb_unformatted_code = \"# Explicitly iterating over the keys\\n\\nfor k in my_dict.keys():\\n    print(f\\\"{k}: {my_dict[k]}\\\")\";\n",
       "                var nbb_formatted_code = \"# Explicitly iterating over the keys\\n\\nfor k in my_dict.keys():\\n    print(f\\\"{k}: {my_dict[k]}\\\")\";\n",
       "                var nbb_cells = Jupyter.notebook.get_cells();\n",
       "                for (var i = 0; i < nbb_cells.length; ++i) {\n",
       "                    if (nbb_cells[i].input_prompt_number == nbb_cell_id) {\n",
       "                        if (nbb_cells[i].get_text() == nbb_unformatted_code) {\n",
       "                             nbb_cells[i].set_text(nbb_formatted_code);\n",
       "                        }\n",
       "                        break;\n",
       "                    }\n",
       "                }\n",
       "            }, 500);\n",
       "            "
      ],
      "text/plain": [
       "<IPython.core.display.Javascript object>"
      ]
     },
     "metadata": {},
     "output_type": "display_data"
    }
   ],
   "source": [
    "# Explicitly iterating over the keys\n",
    "\n",
    "for k in my_dict.keys():\n",
    "    print(f\"{k}: {my_dict[k]}\")"
   ]
  },
  {
   "cell_type": "code",
   "execution_count": 42,
   "metadata": {},
   "outputs": [
    {
     "name": "stdout",
     "output_type": "stream",
     "text": [
      "donuts: 10\n",
      "muffins: 10\n",
      "cake: 2\n"
     ]
    },
    {
     "data": {
      "application/javascript": [
       "\n",
       "            setTimeout(function() {\n",
       "                var nbb_cell_id = 42;\n",
       "                var nbb_unformatted_code = \"# Syntactic sugar for looping over dictionary keys\\n\\nfor k in my_dict:\\n    print(f\\\"{k}: {my_dict[k]}\\\")\";\n",
       "                var nbb_formatted_code = \"# Syntactic sugar for looping over dictionary keys\\n\\nfor k in my_dict:\\n    print(f\\\"{k}: {my_dict[k]}\\\")\";\n",
       "                var nbb_cells = Jupyter.notebook.get_cells();\n",
       "                for (var i = 0; i < nbb_cells.length; ++i) {\n",
       "                    if (nbb_cells[i].input_prompt_number == nbb_cell_id) {\n",
       "                        if (nbb_cells[i].get_text() == nbb_unformatted_code) {\n",
       "                             nbb_cells[i].set_text(nbb_formatted_code);\n",
       "                        }\n",
       "                        break;\n",
       "                    }\n",
       "                }\n",
       "            }, 500);\n",
       "            "
      ],
      "text/plain": [
       "<IPython.core.display.Javascript object>"
      ]
     },
     "metadata": {},
     "output_type": "display_data"
    }
   ],
   "source": [
    "# Syntactic sugar for looping over dictionary keys\n",
    "\n",
    "for k in my_dict:\n",
    "    print(f\"{k}: {my_dict[k]}\")"
   ]
  },
  {
   "cell_type": "code",
   "execution_count": 43,
   "metadata": {},
   "outputs": [
    {
     "data": {
      "text/plain": [
       "['donuts', 'muffins', 'cake']"
      ]
     },
     "execution_count": 43,
     "metadata": {},
     "output_type": "execute_result"
    },
    {
     "data": {
      "application/javascript": [
       "\n",
       "            setTimeout(function() {\n",
       "                var nbb_cell_id = 43;\n",
       "                var nbb_unformatted_code = \"# Another way to get a list of dictionary keys (too many options... :D)\\n\\nlist(my_dict)\";\n",
       "                var nbb_formatted_code = \"# Another way to get a list of dictionary keys (too many options... :D)\\n\\nlist(my_dict)\";\n",
       "                var nbb_cells = Jupyter.notebook.get_cells();\n",
       "                for (var i = 0; i < nbb_cells.length; ++i) {\n",
       "                    if (nbb_cells[i].input_prompt_number == nbb_cell_id) {\n",
       "                        if (nbb_cells[i].get_text() == nbb_unformatted_code) {\n",
       "                             nbb_cells[i].set_text(nbb_formatted_code);\n",
       "                        }\n",
       "                        break;\n",
       "                    }\n",
       "                }\n",
       "            }, 500);\n",
       "            "
      ],
      "text/plain": [
       "<IPython.core.display.Javascript object>"
      ]
     },
     "metadata": {},
     "output_type": "display_data"
    }
   ],
   "source": [
    "# Another way to get a list of dictionary keys (too many options... :D)\n",
    "\n",
    "list(my_dict)"
   ]
  },
  {
   "cell_type": "code",
   "execution_count": 44,
   "metadata": {},
   "outputs": [
    {
     "data": {
      "text/plain": [
       "dict_values([10, 10, 2])"
      ]
     },
     "execution_count": 44,
     "metadata": {},
     "output_type": "execute_result"
    },
    {
     "data": {
      "application/javascript": [
       "\n",
       "            setTimeout(function() {\n",
       "                var nbb_cell_id = 44;\n",
       "                var nbb_unformatted_code = \"# Dictionary values\\n\\nmy_dict.values()\";\n",
       "                var nbb_formatted_code = \"# Dictionary values\\n\\nmy_dict.values()\";\n",
       "                var nbb_cells = Jupyter.notebook.get_cells();\n",
       "                for (var i = 0; i < nbb_cells.length; ++i) {\n",
       "                    if (nbb_cells[i].input_prompt_number == nbb_cell_id) {\n",
       "                        if (nbb_cells[i].get_text() == nbb_unformatted_code) {\n",
       "                             nbb_cells[i].set_text(nbb_formatted_code);\n",
       "                        }\n",
       "                        break;\n",
       "                    }\n",
       "                }\n",
       "            }, 500);\n",
       "            "
      ],
      "text/plain": [
       "<IPython.core.display.Javascript object>"
      ]
     },
     "metadata": {},
     "output_type": "display_data"
    }
   ],
   "source": [
    "# Dictionary values\n",
    "\n",
    "my_dict.values()"
   ]
  },
  {
   "cell_type": "code",
   "execution_count": 45,
   "metadata": {},
   "outputs": [
    {
     "data": {
      "text/plain": [
       "dict_items([('donuts', 10), ('muffins', 10), ('cake', 2)])"
      ]
     },
     "execution_count": 45,
     "metadata": {},
     "output_type": "execute_result"
    },
    {
     "data": {
      "application/javascript": [
       "\n",
       "            setTimeout(function() {\n",
       "                var nbb_cell_id = 45;\n",
       "                var nbb_unformatted_code = \"# Dictionary items\\n\\nmy_dict.items()\";\n",
       "                var nbb_formatted_code = \"# Dictionary items\\n\\nmy_dict.items()\";\n",
       "                var nbb_cells = Jupyter.notebook.get_cells();\n",
       "                for (var i = 0; i < nbb_cells.length; ++i) {\n",
       "                    if (nbb_cells[i].input_prompt_number == nbb_cell_id) {\n",
       "                        if (nbb_cells[i].get_text() == nbb_unformatted_code) {\n",
       "                             nbb_cells[i].set_text(nbb_formatted_code);\n",
       "                        }\n",
       "                        break;\n",
       "                    }\n",
       "                }\n",
       "            }, 500);\n",
       "            "
      ],
      "text/plain": [
       "<IPython.core.display.Javascript object>"
      ]
     },
     "metadata": {},
     "output_type": "display_data"
    }
   ],
   "source": [
    "# Dictionary items\n",
    "\n",
    "my_dict.items()"
   ]
  },
  {
   "cell_type": "code",
   "execution_count": 46,
   "metadata": {},
   "outputs": [
    {
     "name": "stdout",
     "output_type": "stream",
     "text": [
      "donuts 10\n",
      "muffins 10\n",
      "cake 2\n"
     ]
    },
    {
     "data": {
      "application/javascript": [
       "\n",
       "            setTimeout(function() {\n",
       "                var nbb_cell_id = 46;\n",
       "                var nbb_unformatted_code = \"# Iterating over items\\n\\nfor k, v in my_dict.items():\\n    print(k, v)\";\n",
       "                var nbb_formatted_code = \"# Iterating over items\\n\\nfor k, v in my_dict.items():\\n    print(k, v)\";\n",
       "                var nbb_cells = Jupyter.notebook.get_cells();\n",
       "                for (var i = 0; i < nbb_cells.length; ++i) {\n",
       "                    if (nbb_cells[i].input_prompt_number == nbb_cell_id) {\n",
       "                        if (nbb_cells[i].get_text() == nbb_unformatted_code) {\n",
       "                             nbb_cells[i].set_text(nbb_formatted_code);\n",
       "                        }\n",
       "                        break;\n",
       "                    }\n",
       "                }\n",
       "            }, 500);\n",
       "            "
      ],
      "text/plain": [
       "<IPython.core.display.Javascript object>"
      ]
     },
     "metadata": {},
     "output_type": "display_data"
    }
   ],
   "source": [
    "# Iterating over items\n",
    "\n",
    "for k, v in my_dict.items():\n",
    "    print(k, v)"
   ]
  },
  {
   "cell_type": "markdown",
   "metadata": {},
   "source": [
    "### Valid Keys and Values"
   ]
  },
  {
   "cell_type": "code",
   "execution_count": 47,
   "metadata": {},
   "outputs": [
    {
     "data": {
      "text/plain": [
       "{'joe': 'hello', 3: 'or more'}"
      ]
     },
     "execution_count": 47,
     "metadata": {},
     "output_type": "execute_result"
    },
    {
     "data": {
      "application/javascript": [
       "\n",
       "            setTimeout(function() {\n",
       "                var nbb_cell_id = 47;\n",
       "                var nbb_unformatted_code = \"# Valid keys:\\n# Everything that is immutable (can't be changed in place): strings, numbers, tuples of strings and numbers, ...\\n\\n{\\\"joe\\\": \\\"hello\\\", 3: \\\"or more\\\"}\";\n",
       "                var nbb_formatted_code = \"# Valid keys:\\n# Everything that is immutable (can't be changed in place): strings, numbers, tuples of strings and numbers, ...\\n\\n{\\\"joe\\\": \\\"hello\\\", 3: \\\"or more\\\"}\";\n",
       "                var nbb_cells = Jupyter.notebook.get_cells();\n",
       "                for (var i = 0; i < nbb_cells.length; ++i) {\n",
       "                    if (nbb_cells[i].input_prompt_number == nbb_cell_id) {\n",
       "                        if (nbb_cells[i].get_text() == nbb_unformatted_code) {\n",
       "                             nbb_cells[i].set_text(nbb_formatted_code);\n",
       "                        }\n",
       "                        break;\n",
       "                    }\n",
       "                }\n",
       "            }, 500);\n",
       "            "
      ],
      "text/plain": [
       "<IPython.core.display.Javascript object>"
      ]
     },
     "metadata": {},
     "output_type": "display_data"
    }
   ],
   "source": [
    "# Valid keys:\n",
    "# Everything that is immutable (can't be changed in place): strings, numbers, tuples of strings and numbers, ...\n",
    "\n",
    "{\"joe\": \"hello\", 3: \"or more\"}"
   ]
  },
  {
   "cell_type": "code",
   "execution_count": 48,
   "metadata": {},
   "outputs": [
    {
     "data": {
      "text/plain": [
       "{'key1': ['entry1', 'entry2'], 'key2': 5}"
      ]
     },
     "execution_count": 48,
     "metadata": {},
     "output_type": "execute_result"
    },
    {
     "data": {
      "application/javascript": [
       "\n",
       "            setTimeout(function() {\n",
       "                var nbb_cell_id = 48;\n",
       "                var nbb_unformatted_code = \"# Valid values: everything\\n\\n{\\\"key1\\\": [\\\"entry1\\\", \\\"entry2\\\"], \\\"key2\\\": 5}\";\n",
       "                var nbb_formatted_code = \"# Valid values: everything\\n\\n{\\\"key1\\\": [\\\"entry1\\\", \\\"entry2\\\"], \\\"key2\\\": 5}\";\n",
       "                var nbb_cells = Jupyter.notebook.get_cells();\n",
       "                for (var i = 0; i < nbb_cells.length; ++i) {\n",
       "                    if (nbb_cells[i].input_prompt_number == nbb_cell_id) {\n",
       "                        if (nbb_cells[i].get_text() == nbb_unformatted_code) {\n",
       "                             nbb_cells[i].set_text(nbb_formatted_code);\n",
       "                        }\n",
       "                        break;\n",
       "                    }\n",
       "                }\n",
       "            }, 500);\n",
       "            "
      ],
      "text/plain": [
       "<IPython.core.display.Javascript object>"
      ]
     },
     "metadata": {},
     "output_type": "display_data"
    }
   ],
   "source": [
    "# Valid values: everything\n",
    "\n",
    "{\"key1\": [\"entry1\", \"entry2\"], \"key2\": 5}"
   ]
  },
  {
   "cell_type": "markdown",
   "metadata": {},
   "source": [
    "### Other Dictionary Operations"
   ]
  },
  {
   "cell_type": "code",
   "execution_count": 49,
   "metadata": {},
   "outputs": [
    {
     "name": "stdout",
     "output_type": "stream",
     "text": [
      "{'donuts': 10, 'muffins': 10, 'cake': 2}\n",
      "{'muffins': 10, 'cake': 2}\n"
     ]
    },
    {
     "data": {
      "application/javascript": [
       "\n",
       "            setTimeout(function() {\n",
       "                var nbb_cell_id = 49;\n",
       "                var nbb_unformatted_code = \"# Delete key-value pair\\n\\nprint(my_dict)\\n\\ndel my_dict[\\\"donuts\\\"]\\n\\nprint(my_dict)\";\n",
       "                var nbb_formatted_code = \"# Delete key-value pair\\n\\nprint(my_dict)\\n\\ndel my_dict[\\\"donuts\\\"]\\n\\nprint(my_dict)\";\n",
       "                var nbb_cells = Jupyter.notebook.get_cells();\n",
       "                for (var i = 0; i < nbb_cells.length; ++i) {\n",
       "                    if (nbb_cells[i].input_prompt_number == nbb_cell_id) {\n",
       "                        if (nbb_cells[i].get_text() == nbb_unformatted_code) {\n",
       "                             nbb_cells[i].set_text(nbb_formatted_code);\n",
       "                        }\n",
       "                        break;\n",
       "                    }\n",
       "                }\n",
       "            }, 500);\n",
       "            "
      ],
      "text/plain": [
       "<IPython.core.display.Javascript object>"
      ]
     },
     "metadata": {},
     "output_type": "display_data"
    }
   ],
   "source": [
    "# Delete key-value pair\n",
    "\n",
    "print(my_dict)\n",
    "\n",
    "del my_dict[\"donuts\"]\n",
    "\n",
    "print(my_dict)"
   ]
  },
  {
   "cell_type": "code",
   "execution_count": 50,
   "metadata": {},
   "outputs": [
    {
     "data": {
      "text/plain": [
       "{'muffins': 10, 'cake': 2, 'donuts': 10}"
      ]
     },
     "execution_count": 50,
     "metadata": {},
     "output_type": "execute_result"
    },
    {
     "data": {
      "application/javascript": [
       "\n",
       "            setTimeout(function() {\n",
       "                var nbb_cell_id = 50;\n",
       "                var nbb_unformatted_code = \"# Merge dictionaries\\n\\nmy_other_dict = {\\\"donuts\\\": 10}\\n\\n{**my_dict, **my_other_dict}\";\n",
       "                var nbb_formatted_code = \"# Merge dictionaries\\n\\nmy_other_dict = {\\\"donuts\\\": 10}\\n\\n{**my_dict, **my_other_dict}\";\n",
       "                var nbb_cells = Jupyter.notebook.get_cells();\n",
       "                for (var i = 0; i < nbb_cells.length; ++i) {\n",
       "                    if (nbb_cells[i].input_prompt_number == nbb_cell_id) {\n",
       "                        if (nbb_cells[i].get_text() == nbb_unformatted_code) {\n",
       "                             nbb_cells[i].set_text(nbb_formatted_code);\n",
       "                        }\n",
       "                        break;\n",
       "                    }\n",
       "                }\n",
       "            }, 500);\n",
       "            "
      ],
      "text/plain": [
       "<IPython.core.display.Javascript object>"
      ]
     },
     "metadata": {},
     "output_type": "display_data"
    }
   ],
   "source": [
    "# Merge dictionaries\n",
    "\n",
    "my_other_dict = {\"donuts\": 10}\n",
    "\n",
    "{**my_dict, **my_other_dict}"
   ]
  },
  {
   "cell_type": "code",
   "execution_count": 51,
   "metadata": {},
   "outputs": [
    {
     "data": {
      "text/plain": [
       "2"
      ]
     },
     "execution_count": 51,
     "metadata": {},
     "output_type": "execute_result"
    },
    {
     "data": {
      "application/javascript": [
       "\n",
       "            setTimeout(function() {\n",
       "                var nbb_cell_id = 51;\n",
       "                var nbb_unformatted_code = \"# Number of key-value pairs in dictionary\\n\\nlen(my_dict)\";\n",
       "                var nbb_formatted_code = \"# Number of key-value pairs in dictionary\\n\\nlen(my_dict)\";\n",
       "                var nbb_cells = Jupyter.notebook.get_cells();\n",
       "                for (var i = 0; i < nbb_cells.length; ++i) {\n",
       "                    if (nbb_cells[i].input_prompt_number == nbb_cell_id) {\n",
       "                        if (nbb_cells[i].get_text() == nbb_unformatted_code) {\n",
       "                             nbb_cells[i].set_text(nbb_formatted_code);\n",
       "                        }\n",
       "                        break;\n",
       "                    }\n",
       "                }\n",
       "            }, 500);\n",
       "            "
      ],
      "text/plain": [
       "<IPython.core.display.Javascript object>"
      ]
     },
     "metadata": {},
     "output_type": "display_data"
    }
   ],
   "source": [
    "# Number of key-value pairs in dictionary\n",
    "\n",
    "len(my_dict)"
   ]
  },
  {
   "cell_type": "markdown",
   "metadata": {},
   "source": [
    "## Exercises"
   ]
  },
  {
   "cell_type": "code",
   "execution_count": 52,
   "metadata": {},
   "outputs": [
    {
     "data": {
      "application/javascript": [
       "\n",
       "            setTimeout(function() {\n",
       "                var nbb_cell_id = 52;\n",
       "                var nbb_unformatted_code = \"# Exercise 1\\n\\n# Create a list of things you like and print the text \\\"I like <thing>\\\" for each of them\\n\\n# things_i_like = ...\\n\\n# for ...\";\n",
       "                var nbb_formatted_code = \"# Exercise 1\\n\\n# Create a list of things you like and print the text \\\"I like <thing>\\\" for each of them\\n\\n# things_i_like = ...\\n\\n# for ...\";\n",
       "                var nbb_cells = Jupyter.notebook.get_cells();\n",
       "                for (var i = 0; i < nbb_cells.length; ++i) {\n",
       "                    if (nbb_cells[i].input_prompt_number == nbb_cell_id) {\n",
       "                        if (nbb_cells[i].get_text() == nbb_unformatted_code) {\n",
       "                             nbb_cells[i].set_text(nbb_formatted_code);\n",
       "                        }\n",
       "                        break;\n",
       "                    }\n",
       "                }\n",
       "            }, 500);\n",
       "            "
      ],
      "text/plain": [
       "<IPython.core.display.Javascript object>"
      ]
     },
     "metadata": {},
     "output_type": "display_data"
    }
   ],
   "source": [
    "# Exercise 1\n",
    "\n",
    "# Create a list of things you like and print the text \"I like <thing>\" for each of them\n",
    "\n",
    "# things_i_like = ...\n",
    "\n",
    "# for ..."
   ]
  },
  {
   "cell_type": "code",
   "execution_count": 53,
   "metadata": {},
   "outputs": [
    {
     "data": {
      "application/javascript": [
       "\n",
       "            setTimeout(function() {\n",
       "                var nbb_cell_id = 53;\n",
       "                var nbb_unformatted_code = \"# Exercise 2\\n\\n# 1) Take the first two items from the list of things you like,\\n# 2) add 'Python' to the list,\\n# 3) sort the list and\\n# 4) print it\";\n",
       "                var nbb_formatted_code = \"# Exercise 2\\n\\n# 1) Take the first two items from the list of things you like,\\n# 2) add 'Python' to the list,\\n# 3) sort the list and\\n# 4) print it\";\n",
       "                var nbb_cells = Jupyter.notebook.get_cells();\n",
       "                for (var i = 0; i < nbb_cells.length; ++i) {\n",
       "                    if (nbb_cells[i].input_prompt_number == nbb_cell_id) {\n",
       "                        if (nbb_cells[i].get_text() == nbb_unformatted_code) {\n",
       "                             nbb_cells[i].set_text(nbb_formatted_code);\n",
       "                        }\n",
       "                        break;\n",
       "                    }\n",
       "                }\n",
       "            }, 500);\n",
       "            "
      ],
      "text/plain": [
       "<IPython.core.display.Javascript object>"
      ]
     },
     "metadata": {},
     "output_type": "display_data"
    }
   ],
   "source": [
    "# Exercise 2\n",
    "\n",
    "# 1) Take the first two items from the list of things you like,\n",
    "# 2) add 'Python' to the list,\n",
    "# 3) sort the list and\n",
    "# 4) print it"
   ]
  },
  {
   "cell_type": "code",
   "execution_count": 54,
   "metadata": {},
   "outputs": [
    {
     "data": {
      "application/javascript": [
       "\n",
       "            setTimeout(function() {\n",
       "                var nbb_cell_id = 54;\n",
       "                var nbb_unformatted_code = \"# Exercise 3\\n\\n# Create a dictionary containing the employee information of an imaginary company.\\n# It should contain the following three things: the name of the employee, his/her role,\\n# as well as the year, the employee joined the company.\\n\\n# employee1 = ...\";\n",
       "                var nbb_formatted_code = \"# Exercise 3\\n\\n# Create a dictionary containing the employee information of an imaginary company.\\n# It should contain the following three things: the name of the employee, his/her role,\\n# as well as the year, the employee joined the company.\\n\\n# employee1 = ...\";\n",
       "                var nbb_cells = Jupyter.notebook.get_cells();\n",
       "                for (var i = 0; i < nbb_cells.length; ++i) {\n",
       "                    if (nbb_cells[i].input_prompt_number == nbb_cell_id) {\n",
       "                        if (nbb_cells[i].get_text() == nbb_unformatted_code) {\n",
       "                             nbb_cells[i].set_text(nbb_formatted_code);\n",
       "                        }\n",
       "                        break;\n",
       "                    }\n",
       "                }\n",
       "            }, 500);\n",
       "            "
      ],
      "text/plain": [
       "<IPython.core.display.Javascript object>"
      ]
     },
     "metadata": {},
     "output_type": "display_data"
    }
   ],
   "source": [
    "# Exercise 3\n",
    "\n",
    "# Create a dictionary containing the employee information of an imaginary company.\n",
    "# It should contain the following three things: the name of the employee, his/her role,\n",
    "# as well as the year, the employee joined the company.\n",
    "\n",
    "# employee1 = ..."
   ]
  },
  {
   "cell_type": "code",
   "execution_count": 55,
   "metadata": {},
   "outputs": [
    {
     "data": {
      "application/javascript": [
       "\n",
       "            setTimeout(function() {\n",
       "                var nbb_cell_id = 55;\n",
       "                var nbb_unformatted_code = \"# Exercise 4\\n\\n# Create two more dictionaries with employee info. Then create a list of the three dictionaries.\\n# Loop over the list and print the following text for each employee:\\n# \\\"<name> is a <role> and joined the company in <year>\\\"\";\n",
       "                var nbb_formatted_code = \"# Exercise 4\\n\\n# Create two more dictionaries with employee info. Then create a list of the three dictionaries.\\n# Loop over the list and print the following text for each employee:\\n# \\\"<name> is a <role> and joined the company in <year>\\\"\";\n",
       "                var nbb_cells = Jupyter.notebook.get_cells();\n",
       "                for (var i = 0; i < nbb_cells.length; ++i) {\n",
       "                    if (nbb_cells[i].input_prompt_number == nbb_cell_id) {\n",
       "                        if (nbb_cells[i].get_text() == nbb_unformatted_code) {\n",
       "                             nbb_cells[i].set_text(nbb_formatted_code);\n",
       "                        }\n",
       "                        break;\n",
       "                    }\n",
       "                }\n",
       "            }, 500);\n",
       "            "
      ],
      "text/plain": [
       "<IPython.core.display.Javascript object>"
      ]
     },
     "metadata": {},
     "output_type": "display_data"
    }
   ],
   "source": [
    "# Exercise 4\n",
    "\n",
    "# Create two more dictionaries with employee info. Then create a list of the three dictionaries.\n",
    "# Loop over the list and print the following text for each employee:\n",
    "# \"<name> is a <role> and joined the company in <year>\""
   ]
  },
  {
   "cell_type": "code",
   "execution_count": 56,
   "metadata": {},
   "outputs": [
    {
     "data": {
      "application/javascript": [
       "\n",
       "            setTimeout(function() {\n",
       "                var nbb_cell_id = 56;\n",
       "                var nbb_unformatted_code = \"# Exercise 5\\n\\n# Add a favorite beverage to two of the three employees' dictionaries.\\n# Then loop over the employees again, printing a modified version of the above text, which includes\\n# the employee's favorite beverage.\\n# For employees without a known favorite beverage, print 'unknown' as the favorite beverage.\";\n",
       "                var nbb_formatted_code = \"# Exercise 5\\n\\n# Add a favorite beverage to two of the three employees' dictionaries.\\n# Then loop over the employees again, printing a modified version of the above text, which includes\\n# the employee's favorite beverage.\\n# For employees without a known favorite beverage, print 'unknown' as the favorite beverage.\";\n",
       "                var nbb_cells = Jupyter.notebook.get_cells();\n",
       "                for (var i = 0; i < nbb_cells.length; ++i) {\n",
       "                    if (nbb_cells[i].input_prompt_number == nbb_cell_id) {\n",
       "                        if (nbb_cells[i].get_text() == nbb_unformatted_code) {\n",
       "                             nbb_cells[i].set_text(nbb_formatted_code);\n",
       "                        }\n",
       "                        break;\n",
       "                    }\n",
       "                }\n",
       "            }, 500);\n",
       "            "
      ],
      "text/plain": [
       "<IPython.core.display.Javascript object>"
      ]
     },
     "metadata": {},
     "output_type": "display_data"
    }
   ],
   "source": [
    "# Exercise 5\n",
    "\n",
    "# Add a favorite beverage to two of the three employees' dictionaries.\n",
    "# Then loop over the employees again, printing a modified version of the above text, which includes\n",
    "# the employee's favorite beverage.\n",
    "# For employees without a known favorite beverage, print 'unknown' as the favorite beverage."
   ]
  },
  {
   "cell_type": "markdown",
   "metadata": {},
   "source": [
    "Exercise 6 (Bonus)\n",
    "\n",
    "Read up on the `zip` function at [here](https://docs.python.org/3/library/functions.html#zip). After that, create the dictionary\n",
    "\n",
    "{\"donuts\": 10, \"muffins\": 10, \"cake\": 2}\n",
    "\n",
    "from the two given lists below, using the `zip` function.\n"
   ]
  },
  {
   "cell_type": "code",
   "execution_count": 57,
   "metadata": {},
   "outputs": [
    {
     "data": {
      "application/javascript": [
       "\n",
       "            setTimeout(function() {\n",
       "                var nbb_cell_id = 57;\n",
       "                var nbb_unformatted_code = \"food_items = [\\\"donuts\\\", \\\"muffins\\\", \\\"cakes\\\"]\\nfood_counts = [10, 10, 2]\\n\\n# food_dict = ...\";\n",
       "                var nbb_formatted_code = \"food_items = [\\\"donuts\\\", \\\"muffins\\\", \\\"cakes\\\"]\\nfood_counts = [10, 10, 2]\\n\\n# food_dict = ...\";\n",
       "                var nbb_cells = Jupyter.notebook.get_cells();\n",
       "                for (var i = 0; i < nbb_cells.length; ++i) {\n",
       "                    if (nbb_cells[i].input_prompt_number == nbb_cell_id) {\n",
       "                        if (nbb_cells[i].get_text() == nbb_unformatted_code) {\n",
       "                             nbb_cells[i].set_text(nbb_formatted_code);\n",
       "                        }\n",
       "                        break;\n",
       "                    }\n",
       "                }\n",
       "            }, 500);\n",
       "            "
      ],
      "text/plain": [
       "<IPython.core.display.Javascript object>"
      ]
     },
     "metadata": {},
     "output_type": "display_data"
    }
   ],
   "source": [
    "food_items = [\"donuts\", \"muffins\", \"cakes\"]\n",
    "food_counts = [10, 10, 2]\n",
    "\n",
    "# food_dict = ..."
   ]
  },
  {
   "cell_type": "markdown",
   "metadata": {},
   "source": [
    "# Homework\n",
    "\n",
    "* If you didn't finish all exercises in the class, do the remaining ones as homework\n",
    "* Review [section 5.1 \"More on Lists\"](https://docs.python.org/3/tutorial/datastructures.html#more-on-lists) in the official Python tutorial and experiment with the methods that lists provide out of the box\n",
    "* Review [\"Mapping Types - dict\"](https://docs.python.org/3/library/stdtypes.html#mapping-types-dict) in the official Python documentation and experiment with the methods that dictionaries provide out of the box. Please be aware that some functionality of dictionaries has only been added in the most recent versions of Python and might not be available in your version of Python. To view the documentation of your version of Python, select the version at the top of the linked page. You can find out your version of Python by running `python --version` on the command line."
   ]
  }
 ],
 "metadata": {
  "kernelspec": {
   "display_name": "Python 3",
   "language": "python",
   "name": "python3"
  },
  "language_info": {
   "codemirror_mode": {
    "name": "ipython",
    "version": 3
   },
   "file_extension": ".py",
   "mimetype": "text/x-python",
   "name": "python",
   "nbconvert_exporter": "python",
   "pygments_lexer": "ipython3",
   "version": "3.7.4"
  }
 },
 "nbformat": 4,
 "nbformat_minor": 4
}
