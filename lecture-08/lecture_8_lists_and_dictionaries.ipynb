{
 "cells": [
  {
   "cell_type": "markdown",
   "metadata": {},
   "source": [
    "Andreas Bollig - Freelance Data Scientist - andreas.bollig@communityredi-school.org"
   ]
  },
  {
   "cell_type": "code",
   "execution_count": 1,
   "metadata": {
    "scrolled": true
   },
   "outputs": [],
   "source": [
    "# !pip install nb_black"
   ]
  },
  {
   "cell_type": "code",
   "execution_count": 2,
   "metadata": {},
   "outputs": [],
   "source": [
    "# %load_ext nb_black"
   ]
  },
  {
   "cell_type": "markdown",
   "metadata": {},
   "source": [
    "# Chapter 2 - Complex Data Types"
   ]
  },
  {
   "cell_type": "markdown",
   "metadata": {},
   "source": [
    "## Recap: Primitive Data Types"
   ]
  },
  {
   "cell_type": "code",
   "execution_count": 3,
   "metadata": {},
   "outputs": [],
   "source": [
    "# Integer\n",
    "\n",
    "some_int = 3"
   ]
  },
  {
   "cell_type": "code",
   "execution_count": 4,
   "metadata": {},
   "outputs": [],
   "source": [
    "# Floating Point Number\n",
    "\n",
    "some_float = 3.1415"
   ]
  },
  {
   "cell_type": "code",
   "execution_count": 5,
   "metadata": {},
   "outputs": [],
   "source": [
    "# String\n",
    "\n",
    "some_str = \"Hello World!\""
   ]
  },
  {
   "cell_type": "code",
   "execution_count": 6,
   "metadata": {},
   "outputs": [],
   "source": [
    "# Boolean\n",
    "\n",
    "some_bool = True"
   ]
  },
  {
   "cell_type": "markdown",
   "metadata": {},
   "source": [
    "## Complex Data Types (built-in)\n",
    "\n",
    "* Lists\n",
    "* Dictionaries\n",
    "* Sets\n",
    "* Tuples\n",
    "\n",
    "### Chapter 2 Contents\n",
    "\n",
    "- Class 8: Lists and Dictionaries\n",
    "- Class 9: Sets and Tuples\n",
    "- Class 10: Comprehensions"
   ]
  },
  {
   "cell_type": "markdown",
   "metadata": {},
   "source": [
    "# Class 8 - Lists and Dictionaries"
   ]
  },
  {
   "cell_type": "markdown",
   "metadata": {},
   "source": [
    "## Lists: Ordered Collections of Values"
   ]
  },
  {
   "cell_type": "markdown",
   "metadata": {},
   "source": [
    "### Creating Lists"
   ]
  },
  {
   "cell_type": "code",
   "execution_count": 7,
   "metadata": {},
   "outputs": [
    {
     "data": {
      "text/plain": [
       "['donuts', 'muffins', 'cake', 'cookies']"
      ]
     },
     "execution_count": 7,
     "metadata": {},
     "output_type": "execute_result"
    }
   ],
   "source": [
    "# Lists are defined using square brackets\n",
    "# They can contain values of ANY type\n",
    "\n",
    "shopping_list = [\"donuts\", \"muffins\", \"cake\", \"cookies\"]\n",
    "numbers = [10, 10, 2, 30]\n",
    "\n",
    "shopping_list"
   ]
  },
  {
   "cell_type": "code",
   "execution_count": 8,
   "metadata": {},
   "outputs": [
    {
     "data": {
      "text/plain": [
       "['cups', 'plates', 'napkins', 'cutlery']"
      ]
     },
     "execution_count": 8,
     "metadata": {},
     "output_type": "execute_result"
    }
   ],
   "source": [
    "# Lists can also be created from other data types using methods like \"split\" on a string\n",
    "\n",
    "additional_items = \"cups,plates,napkins,cutlery\"\n",
    "additional_items_list = additional_items.split(\",\")\n",
    "\n",
    "additional_items_list"
   ]
  },
  {
   "cell_type": "code",
   "execution_count": 9,
   "metadata": {},
   "outputs": [
    {
     "data": {
      "text/plain": [
       "'cups,plates,napkins,cutlery'"
      ]
     },
     "execution_count": 9,
     "metadata": {},
     "output_type": "execute_result"
    }
   ],
   "source": [
    "# The reverse of split is join\n",
    "\n",
    "\",\".join(additional_items_list)"
   ]
  },
  {
   "cell_type": "code",
   "execution_count": 10,
   "metadata": {},
   "outputs": [
    {
     "data": {
      "text/plain": [
       "[0, 1, 2, 3, 4]"
      ]
     },
     "execution_count": 10,
     "metadata": {},
     "output_type": "execute_result"
    }
   ],
   "source": [
    "# Create a list from an iterator\n",
    "\n",
    "list(range(5))"
   ]
  },
  {
   "cell_type": "markdown",
   "metadata": {},
   "source": [
    "### Indexing and Slicing"
   ]
  },
  {
   "cell_type": "code",
   "execution_count": 11,
   "metadata": {},
   "outputs": [
    {
     "name": "stdout",
     "output_type": "stream",
     "text": [
      "shopping_list = ['donuts', 'muffins', 'cake', 'cookies']\n",
      "\n",
      "Item at index 0: donuts\n",
      "Item at index 1: muffins\n",
      "Item at index -1: cookies\n",
      "Item at index -2: cake\n"
     ]
    }
   ],
   "source": [
    "# Indexing starts at zero; negative indices count from the end of the list\n",
    "\n",
    "print(f\"shopping_list = {shopping_list}\\n\")\n",
    "\n",
    "print(f\"Item at index 0: {shopping_list[0]}\")\n",
    "print(f\"Item at index 1: {shopping_list[1]}\")\n",
    "print(f\"Item at index -1: {shopping_list[-1]}\")\n",
    "print(f\"Item at index -2: {shopping_list[-2]}\")"
   ]
  },
  {
   "cell_type": "code",
   "execution_count": 12,
   "metadata": {},
   "outputs": [
    {
     "name": "stdout",
     "output_type": "stream",
     "text": [
      "Second and third item: ['muffins', 'cake']\n"
     ]
    }
   ],
   "source": [
    "# 1:3 means 1, 2 (zero-indexed, last index not included)\n",
    "print(f\"Second and third item: {shopping_list[1:3]}\")"
   ]
  },
  {
   "cell_type": "code",
   "execution_count": 13,
   "metadata": {},
   "outputs": [
    {
     "name": "stdout",
     "output_type": "stream",
     "text": [
      "Third item and all items after that: ['cake', 'cookies']\n"
     ]
    }
   ],
   "source": [
    "# 2: means 2, 3, ...\n",
    "print(f\"Third item and all items after that: {shopping_list[2:]}\")"
   ]
  },
  {
   "cell_type": "code",
   "execution_count": 14,
   "metadata": {},
   "outputs": [
    {
     "name": "stdout",
     "output_type": "stream",
     "text": [
      "All items before the 4th one: ['donuts', 'muffins', 'cake']\n"
     ]
    }
   ],
   "source": [
    "# :3 means 0, 1, 2\n",
    "print(f\"All items before the 4th one: {shopping_list[:3]}\")"
   ]
  },
  {
   "cell_type": "code",
   "execution_count": 15,
   "metadata": {},
   "outputs": [
    {
     "data": {
      "text/plain": [
       "3"
      ]
     },
     "execution_count": 15,
     "metadata": {},
     "output_type": "execute_result"
    }
   ],
   "source": [
    "# List of lists\n",
    "\n",
    "list_of_lists = [[1, 2, 3], [4, 5, 6]]\n",
    "\n",
    "list_of_lists[0][2]"
   ]
  },
  {
   "cell_type": "markdown",
   "metadata": {},
   "source": [
    "### Adding, Removing, and Changing Items"
   ]
  },
  {
   "cell_type": "code",
   "execution_count": 16,
   "metadata": {},
   "outputs": [
    {
     "data": {
      "text/plain": [
       "['donuts',\n",
       " 'muffins',\n",
       " 'cake',\n",
       " 'cookies',\n",
       " 'cups',\n",
       " 'plates',\n",
       " 'napkins',\n",
       " 'cutlery']"
      ]
     },
     "execution_count": 16,
     "metadata": {},
     "output_type": "execute_result"
    }
   ],
   "source": [
    "# Concatenate lists\n",
    "\n",
    "complete_list = shopping_list + additional_items_list\n",
    "\n",
    "complete_list"
   ]
  },
  {
   "cell_type": "code",
   "execution_count": 17,
   "metadata": {},
   "outputs": [
    {
     "data": {
      "text/plain": [
       "['donuts',\n",
       " 'muffins',\n",
       " 'cake',\n",
       " 'cookies',\n",
       " 'cups',\n",
       " 'plates',\n",
       " 'napkins',\n",
       " 'cutlery',\n",
       " 'lemonade']"
      ]
     },
     "execution_count": 17,
     "metadata": {},
     "output_type": "execute_result"
    }
   ],
   "source": [
    "# Add new items to the end of the list via \"append\"\n",
    "\n",
    "complete_list.append(\"lemonade\")\n",
    "\n",
    "complete_list"
   ]
  },
  {
   "cell_type": "code",
   "execution_count": 18,
   "metadata": {},
   "outputs": [
    {
     "data": {
      "text/plain": [
       "['donuts',\n",
       " 'muffins',\n",
       " 'cake',\n",
       " 'candles',\n",
       " 'cookies',\n",
       " 'cups',\n",
       " 'plates',\n",
       " 'napkins',\n",
       " 'cutlery',\n",
       " 'lemonade']"
      ]
     },
     "execution_count": 18,
     "metadata": {},
     "output_type": "execute_result"
    }
   ],
   "source": [
    "# Insert items anywhere in the list\n",
    "\n",
    "complete_list.insert(3, \"candles\")\n",
    "\n",
    "complete_list"
   ]
  },
  {
   "cell_type": "code",
   "execution_count": 19,
   "metadata": {},
   "outputs": [
    {
     "data": {
      "text/plain": [
       "['donuts',\n",
       " 'muffins',\n",
       " 'carrot cake',\n",
       " 'candles',\n",
       " 'cookies',\n",
       " 'cups',\n",
       " 'plates',\n",
       " 'napkins',\n",
       " 'cutlery',\n",
       " 'lemonade']"
      ]
     },
     "execution_count": 19,
     "metadata": {},
     "output_type": "execute_result"
    }
   ],
   "source": [
    "# You can change items in the list\n",
    "\n",
    "complete_list[2] = \"carrot cake\"\n",
    "\n",
    "complete_list"
   ]
  },
  {
   "cell_type": "code",
   "execution_count": 20,
   "metadata": {},
   "outputs": [
    {
     "data": {
      "text/plain": [
       "['muffins',\n",
       " 'carrot cake',\n",
       " 'candles',\n",
       " 'cookies',\n",
       " 'cups',\n",
       " 'plates',\n",
       " 'napkins',\n",
       " 'cutlery',\n",
       " 'lemonade']"
      ]
     },
     "execution_count": 20,
     "metadata": {},
     "output_type": "execute_result"
    }
   ],
   "source": [
    "complete_list.remove(\"donuts\")\n",
    "\n",
    "complete_list"
   ]
  },
  {
   "cell_type": "code",
   "execution_count": 21,
   "metadata": {},
   "outputs": [
    {
     "data": {
      "text/plain": [
       "['muffins',\n",
       " 'carrot cake',\n",
       " 'candles',\n",
       " 'cookies',\n",
       " 'cups',\n",
       " 'plates',\n",
       " 'cutlery',\n",
       " 'lemonade']"
      ]
     },
     "execution_count": 21,
     "metadata": {},
     "output_type": "execute_result"
    }
   ],
   "source": [
    "del complete_list[6]  # removes napkins\n",
    "\n",
    "complete_list"
   ]
  },
  {
   "cell_type": "markdown",
   "metadata": {},
   "source": [
    "### Other List Operations"
   ]
  },
  {
   "cell_type": "code",
   "execution_count": 22,
   "metadata": {},
   "outputs": [
    {
     "data": {
      "text/plain": [
       "8"
      ]
     },
     "execution_count": 22,
     "metadata": {},
     "output_type": "execute_result"
    }
   ],
   "source": [
    "# Get the length of the list\n",
    "\n",
    "len(complete_list)"
   ]
  },
  {
   "cell_type": "code",
   "execution_count": 23,
   "metadata": {},
   "outputs": [
    {
     "name": "stdout",
     "output_type": "stream",
     "text": [
      "Are plates in the list?\n"
     ]
    },
    {
     "data": {
      "text/plain": [
       "True"
      ]
     },
     "execution_count": 23,
     "metadata": {},
     "output_type": "execute_result"
    }
   ],
   "source": [
    "# Test if an item is in a list or not -> result is a boolean\n",
    "\n",
    "print(\"Are plates in the list?\")\n",
    "\n",
    "\"plates\" in complete_list"
   ]
  },
  {
   "cell_type": "code",
   "execution_count": 24,
   "metadata": {},
   "outputs": [
    {
     "name": "stdout",
     "output_type": "stream",
     "text": [
      "Are cookies NOT in the list? False\n"
     ]
    }
   ],
   "source": [
    "print(\"Are cookies NOT in the list?\", \"cookies\" not in complete_list)"
   ]
  },
  {
   "cell_type": "markdown",
   "metadata": {},
   "source": [
    "### Iterating over Lists"
   ]
  },
  {
   "cell_type": "code",
   "execution_count": 25,
   "metadata": {},
   "outputs": [
    {
     "name": "stdout",
     "output_type": "stream",
     "text": [
      "Please remember to buy muffins!\n",
      "Please remember to buy carrot cake!\n",
      "Please remember to buy candles!\n",
      "Please remember to buy cookies!\n",
      "Please remember to buy cups!\n",
      "Please remember to buy plates!\n",
      "Please remember to buy cutlery!\n",
      "Please remember to buy lemonade!\n"
     ]
    }
   ],
   "source": [
    "for item in complete_list:\n",
    "    print(f\"Please remember to buy {item}!\")"
   ]
  },
  {
   "cell_type": "code",
   "execution_count": 26,
   "metadata": {},
   "outputs": [
    {
     "name": "stdout",
     "output_type": "stream",
     "text": [
      "Item no. 0: muffins\n",
      "Item no. 1: carrot cake\n",
      "Item no. 2: candles\n",
      "Item no. 3: cookies\n",
      "Item no. 4: cups\n",
      "Item no. 5: plates\n",
      "Item no. 6: cutlery\n",
      "Item no. 7: lemonade\n"
     ]
    }
   ],
   "source": [
    "# Getting the current list index in the loop\n",
    "\n",
    "for i, item in enumerate(complete_list):\n",
    "    print(f\"Item no. {i}: {item}\")"
   ]
  },
  {
   "cell_type": "markdown",
   "metadata": {},
   "source": [
    "### Sorting"
   ]
  },
  {
   "cell_type": "code",
   "execution_count": 27,
   "metadata": {},
   "outputs": [
    {
     "name": "stdout",
     "output_type": "stream",
     "text": [
      "Sorted list: ['candles', 'carrot cake', 'cookies', 'cups', 'cutlery', 'lemonade', 'muffins', 'plates']\n",
      "List sorted in reverse: ['plates', 'muffins', 'lemonade', 'cutlery', 'cups', 'cookies', 'carrot cake', 'candles']\n"
     ]
    }
   ],
   "source": [
    "# in place\n",
    "\n",
    "complete_list.sort()\n",
    "print(f\"Sorted list: {complete_list}\")\n",
    "\n",
    "complete_list.sort(reverse=True)\n",
    "print(f\"List sorted in reverse: {complete_list}\")"
   ]
  },
  {
   "cell_type": "code",
   "execution_count": 28,
   "metadata": {},
   "outputs": [
    {
     "name": "stdout",
     "output_type": "stream",
     "text": [
      "unsorted_list: [5, 3, 8, 1, 2]\n",
      "sorted_list: [1, 2, 3, 5, 8]\n"
     ]
    }
   ],
   "source": [
    "# create new sorted list (also works with reverse=True)\n",
    "\n",
    "unsorted_list = [5, 3, 8, 1, 2]\n",
    "\n",
    "sorted_list = sorted(unsorted_list)\n",
    "\n",
    "print(f\"unsorted_list: {unsorted_list}\")\n",
    "print(f\"sorted_list: {sorted_list}\")"
   ]
  },
  {
   "cell_type": "markdown",
   "metadata": {},
   "source": [
    "### Min, Max, Sum"
   ]
  },
  {
   "cell_type": "code",
   "execution_count": 29,
   "metadata": {},
   "outputs": [
    {
     "name": "stdout",
     "output_type": "stream",
     "text": [
      "Minimum: 1\n",
      "Maximum: 8\n",
      "Sum: 19\n"
     ]
    }
   ],
   "source": [
    "some_numbers = [5, 3, 8, 1, 2]\n",
    "\n",
    "print(f\"Minimum: {min(some_numbers)}\")\n",
    "print(f\"Maximum: {max(some_numbers)}\")\n",
    "print(f\"Sum: {sum(some_numbers)}\")"
   ]
  },
  {
   "cell_type": "markdown",
   "metadata": {},
   "source": [
    "## Dictionaries: (Unordered) Key-Value Pairs"
   ]
  },
  {
   "cell_type": "markdown",
   "metadata": {},
   "source": [
    "### Creating Dictionaries"
   ]
  },
  {
   "cell_type": "code",
   "execution_count": 30,
   "metadata": {},
   "outputs": [
    {
     "data": {
      "text/plain": [
       "{'donuts': 10, 'muffins': 10, 'cake': 2}"
      ]
     },
     "execution_count": 30,
     "metadata": {},
     "output_type": "execute_result"
    }
   ],
   "source": [
    "# Dictionary literal\n",
    "\n",
    "{\"donuts\": 10, \"muffins\": 10, \"cake\": 2}"
   ]
  },
  {
   "cell_type": "code",
   "execution_count": 31,
   "metadata": {},
   "outputs": [
    {
     "data": {
      "text/plain": [
       "{'donuts': 10, 'muffins': 10, 'cake': 2}"
      ]
     },
     "execution_count": 31,
     "metadata": {},
     "output_type": "execute_result"
    }
   ],
   "source": [
    "# dict function with list of lists as parameter (or tuple of tuples, etc.)\n",
    "\n",
    "dict([[\"donuts\", 10], [\"muffins\", 10], [\"cake\", 2]])"
   ]
  },
  {
   "cell_type": "code",
   "execution_count": 32,
   "metadata": {},
   "outputs": [
    {
     "data": {
      "text/plain": [
       "{'donuts': 10, 'muffins': 10, 'cake': 2}"
      ]
     },
     "execution_count": 32,
     "metadata": {},
     "output_type": "execute_result"
    }
   ],
   "source": [
    "# dict function with key-value pairs as function parameters\n",
    "\n",
    "dict(donuts=10, muffins=10, cake=2)"
   ]
  },
  {
   "cell_type": "code",
   "execution_count": 33,
   "metadata": {},
   "outputs": [
    {
     "data": {
      "text/plain": [
       "{'donuts': 10, 'muffins': 10, 'cake': 2}"
      ]
     },
     "execution_count": 33,
     "metadata": {},
     "output_type": "execute_result"
    }
   ],
   "source": [
    "# Building dictionaries entry by entry\n",
    "\n",
    "my_dict = {}\n",
    "\n",
    "my_dict[\"donuts\"] = 10\n",
    "my_dict[\"muffins\"] = 10\n",
    "my_dict[\"cake\"] = 2\n",
    "\n",
    "my_dict"
   ]
  },
  {
   "cell_type": "markdown",
   "metadata": {},
   "source": [
    "### Accessing Values and Iterating over Dictionaries"
   ]
  },
  {
   "cell_type": "code",
   "execution_count": 34,
   "metadata": {},
   "outputs": [
    {
     "data": {
      "text/plain": [
       "10"
      ]
     },
     "execution_count": 34,
     "metadata": {},
     "output_type": "execute_result"
    }
   ],
   "source": [
    "# simple lookup\n",
    "\n",
    "my_dict[\"donuts\"]"
   ]
  },
  {
   "cell_type": "code",
   "execution_count": 35,
   "metadata": {},
   "outputs": [
    {
     "data": {
      "text/plain": [
       "0"
      ]
     },
     "execution_count": 35,
     "metadata": {},
     "output_type": "execute_result"
    }
   ],
   "source": [
    "# If you are not sure whether a key is in the dictionary, provide a default value\n",
    "\n",
    "my_dict.get(\"cookies\", 0)"
   ]
  },
  {
   "cell_type": "code",
   "execution_count": 36,
   "metadata": {},
   "outputs": [],
   "source": [
    "# Otherwise you get an error\n",
    "\n",
    "# my_dict[\"cookies\"]\n",
    "\n",
    "\n",
    "# Result would be:\n",
    "\n",
    "# ---------------------------------------------------------------------------\n",
    "# KeyError                                  Traceback (most recent call last)\n",
    "# <ipython-input-53-1d4f44725099> in <module>\n",
    "#       1 # Otherwise you get an error\n",
    "#       2\n",
    "# ----> 3 my_dict[\"cookies\"]\n",
    "\n",
    "# KeyError: 'cookies'"
   ]
  },
  {
   "cell_type": "code",
   "execution_count": 37,
   "metadata": {},
   "outputs": [
    {
     "name": "stdout",
     "output_type": "stream",
     "text": [
      "cookies:  0\n"
     ]
    }
   ],
   "source": [
    "# Which you could also catch\n",
    "\n",
    "try:\n",
    "    print(\"cookies: \", my_dict[\"cookies\"])\n",
    "except KeyError:\n",
    "    print(\"cookies: \", 0)"
   ]
  },
  {
   "cell_type": "code",
   "execution_count": 38,
   "metadata": {},
   "outputs": [
    {
     "data": {
      "text/plain": [
       "True"
      ]
     },
     "execution_count": 38,
     "metadata": {},
     "output_type": "execute_result"
    }
   ],
   "source": [
    "# check if key is in dictionary\n",
    "\n",
    "\"muffins\" in my_dict"
   ]
  },
  {
   "cell_type": "code",
   "execution_count": 39,
   "metadata": {},
   "outputs": [
    {
     "data": {
      "text/plain": [
       "False"
      ]
     },
     "execution_count": 39,
     "metadata": {},
     "output_type": "execute_result"
    }
   ],
   "source": [
    "\"cookies\" in my_dict"
   ]
  },
  {
   "cell_type": "code",
   "execution_count": 40,
   "metadata": {},
   "outputs": [
    {
     "name": "stdout",
     "output_type": "stream",
     "text": [
      "Oh no :(\n"
     ]
    }
   ],
   "source": [
    "# Useful in combination with if/else\n",
    "\n",
    "if \"cookies\" in my_dict:\n",
    "    print(\"Yay!\")\n",
    "else:\n",
    "    print(\"Oh no :(\")"
   ]
  },
  {
   "cell_type": "code",
   "execution_count": 41,
   "metadata": {},
   "outputs": [
    {
     "data": {
      "text/plain": [
       "dict_keys(['donuts', 'muffins', 'cake'])"
      ]
     },
     "execution_count": 41,
     "metadata": {},
     "output_type": "execute_result"
    }
   ],
   "source": [
    "# Dictionary keys\n",
    "\n",
    "my_dict.keys()"
   ]
  },
  {
   "cell_type": "code",
   "execution_count": 42,
   "metadata": {},
   "outputs": [
    {
     "name": "stdout",
     "output_type": "stream",
     "text": [
      "donuts: 10\n",
      "muffins: 10\n",
      "cake: 2\n"
     ]
    }
   ],
   "source": [
    "# Explicitly iterating over the keys\n",
    "\n",
    "for k in my_dict.keys():\n",
    "    print(f\"{k}: {my_dict[k]}\")"
   ]
  },
  {
   "cell_type": "code",
   "execution_count": 43,
   "metadata": {},
   "outputs": [
    {
     "name": "stdout",
     "output_type": "stream",
     "text": [
      "donuts: 10\n",
      "muffins: 10\n",
      "cake: 2\n"
     ]
    }
   ],
   "source": [
    "# Syntactic sugar for looping over dictionary keys\n",
    "\n",
    "for k in my_dict:\n",
    "    print(f\"{k}: {my_dict[k]}\")"
   ]
  },
  {
   "cell_type": "code",
   "execution_count": 44,
   "metadata": {},
   "outputs": [
    {
     "data": {
      "text/plain": [
       "['donuts', 'muffins', 'cake']"
      ]
     },
     "execution_count": 44,
     "metadata": {},
     "output_type": "execute_result"
    }
   ],
   "source": [
    "# Another way to get a list of dictionary keys (too many options... :D)\n",
    "\n",
    "list(my_dict)"
   ]
  },
  {
   "cell_type": "code",
   "execution_count": 45,
   "metadata": {},
   "outputs": [
    {
     "data": {
      "text/plain": [
       "dict_values([10, 10, 2])"
      ]
     },
     "execution_count": 45,
     "metadata": {},
     "output_type": "execute_result"
    }
   ],
   "source": [
    "# Dictionary values\n",
    "\n",
    "my_dict.values()"
   ]
  },
  {
   "cell_type": "code",
   "execution_count": 46,
   "metadata": {},
   "outputs": [
    {
     "data": {
      "text/plain": [
       "dict_items([('donuts', 10), ('muffins', 10), ('cake', 2)])"
      ]
     },
     "execution_count": 46,
     "metadata": {},
     "output_type": "execute_result"
    }
   ],
   "source": [
    "# Dictionary items\n",
    "\n",
    "my_dict.items()"
   ]
  },
  {
   "cell_type": "code",
   "execution_count": 47,
   "metadata": {},
   "outputs": [
    {
     "name": "stdout",
     "output_type": "stream",
     "text": [
      "donuts 10\n",
      "muffins 10\n",
      "cake 2\n"
     ]
    }
   ],
   "source": [
    "# Iterating over items\n",
    "\n",
    "for k, v in my_dict.items():\n",
    "    print(k, v)"
   ]
  },
  {
   "cell_type": "markdown",
   "metadata": {},
   "source": [
    "### Valid Keys and Values"
   ]
  },
  {
   "cell_type": "code",
   "execution_count": 48,
   "metadata": {},
   "outputs": [
    {
     "data": {
      "text/plain": [
       "{'joe': 'hello', 3: 'or more'}"
      ]
     },
     "execution_count": 48,
     "metadata": {},
     "output_type": "execute_result"
    }
   ],
   "source": [
    "# Valid keys:\n",
    "# Everything that is immutable (can't be changed in place): strings, numbers, tuples of strings and numbers, ...\n",
    "\n",
    "{\"joe\": \"hello\", 3: \"or more\"}"
   ]
  },
  {
   "cell_type": "code",
   "execution_count": 49,
   "metadata": {},
   "outputs": [
    {
     "data": {
      "text/plain": [
       "{'key1': ['entry1', 'entry2'], 'key2': 5}"
      ]
     },
     "execution_count": 49,
     "metadata": {},
     "output_type": "execute_result"
    }
   ],
   "source": [
    "# Valid values: everything\n",
    "\n",
    "{\"key1\": [\"entry1\", \"entry2\"], \"key2\": 5}"
   ]
  },
  {
   "cell_type": "markdown",
   "metadata": {},
   "source": [
    "### Other Dictionary Operations"
   ]
  },
  {
   "cell_type": "code",
   "execution_count": 50,
   "metadata": {},
   "outputs": [
    {
     "name": "stdout",
     "output_type": "stream",
     "text": [
      "{'donuts': 10, 'muffins': 10, 'cake': 2}\n",
      "{'muffins': 10, 'cake': 2}\n"
     ]
    }
   ],
   "source": [
    "# Delete key-value pair\n",
    "\n",
    "print(my_dict)\n",
    "\n",
    "del my_dict[\"donuts\"]\n",
    "\n",
    "print(my_dict)"
   ]
  },
  {
   "cell_type": "code",
   "execution_count": 51,
   "metadata": {},
   "outputs": [
    {
     "data": {
      "text/plain": [
       "{'muffins': 10, 'cake': 2, 'donuts': 10}"
      ]
     },
     "execution_count": 51,
     "metadata": {},
     "output_type": "execute_result"
    }
   ],
   "source": [
    "# Merge dictionaries\n",
    "\n",
    "my_other_dict = {\"donuts\": 10}\n",
    "\n",
    "{**my_dict, **my_other_dict}"
   ]
  },
  {
   "cell_type": "code",
   "execution_count": 52,
   "metadata": {},
   "outputs": [
    {
     "data": {
      "text/plain": [
       "2"
      ]
     },
     "execution_count": 52,
     "metadata": {},
     "output_type": "execute_result"
    }
   ],
   "source": [
    "# Number of key-value pairs in dictionary\n",
    "\n",
    "len(my_dict)"
   ]
  },
  {
   "cell_type": "markdown",
   "metadata": {},
   "source": [
    "## Exercises"
   ]
  },
  {
   "cell_type": "code",
   "execution_count": 53,
   "metadata": {},
   "outputs": [
    {
     "name": "stdout",
     "output_type": "stream",
     "text": [
      "I like Cheese\n",
      "I like Star Wars\n",
      "I like Nintendo\n"
     ]
    }
   ],
   "source": [
    "# Exercise 1\n",
    "\n",
    "# Create a list of things you like and print the text \"I like <thing>\" for each of them\n",
    "\n",
    "things_i_like = [\"Cheese\", \"Star Wars\", \"Nintendo\"]\n",
    "\n",
    "for thing in things_i_like:\n",
    "    print(f\"I like {thing}\")"
   ]
  },
  {
   "cell_type": "code",
   "execution_count": 54,
   "metadata": {},
   "outputs": [
    {
     "name": "stdout",
     "output_type": "stream",
     "text": [
      "['Cheese', 'Python', 'Star Wars']\n"
     ]
    }
   ],
   "source": [
    "# Exercise 2\n",
    "\n",
    "# 1) Take the first two items from the list of things you like,\n",
    "# 2) add 'Python' to the list,\n",
    "# 3) sort the list and\n",
    "# 4) print it\n",
    "\n",
    "print(sorted(things_i_like[:2] + [\"Python\"]))"
   ]
  },
  {
   "cell_type": "code",
   "execution_count": 55,
   "metadata": {},
   "outputs": [
    {
     "data": {
      "text/plain": [
       "{'name': 'Michael Scott', 'role': 'Boss', 'joined': 2005}"
      ]
     },
     "execution_count": 55,
     "metadata": {},
     "output_type": "execute_result"
    }
   ],
   "source": [
    "# Exercise 3\n",
    "\n",
    "# Create a dictionary containing the employee information of an imaginary company.\n",
    "# It should contain the following three things: the name of the employee, his/her role,\n",
    "# as well as the year, the employee joined the company.\n",
    "\n",
    "employee1 = {\"name\": \"Michael Scott\", \"role\": \"Boss\", \"joined\": 2005}\n",
    "\n",
    "employee1"
   ]
  },
  {
   "cell_type": "code",
   "execution_count": 56,
   "metadata": {},
   "outputs": [
    {
     "data": {
      "text/plain": [
       "[{'name': 'Michael Scott', 'role': 'Boss', 'joined': 2005},\n",
       " {'name': 'Dwight Schrute', 'role': 'Sales Person', 'joined': 2006},\n",
       " {'name': 'Pam Beesly', 'role': 'Secretary', 'joined': 2007}]"
      ]
     },
     "execution_count": 56,
     "metadata": {},
     "output_type": "execute_result"
    }
   ],
   "source": [
    "# Exercise 4\n",
    "\n",
    "# Create two more dictionaries with employee info. Then create a list of the three dictionaries.\n",
    "# Loop over the list and print the following text for each employee:\n",
    "# \"<name> is a <role> and joined the company in <year>\"\n",
    "\n",
    "employee2 = {\"name\": \"Dwight Schrute\", \"role\": \"Sales Person\", \"joined\": 2006}\n",
    "employee3 = {\"name\": \"Pam Beesly\", \"role\": \"Secretary\", \"joined\": 2007}\n",
    "\n",
    "employees = [employee1, employee2, employee3]\n",
    "\n",
    "employees"
   ]
  },
  {
   "cell_type": "code",
   "execution_count": 57,
   "metadata": {},
   "outputs": [
    {
     "name": "stdout",
     "output_type": "stream",
     "text": [
      "Michael Scott is a Boss and joined the company in 2005.\n",
      "Dwight Schrute is a Sales Person and joined the company in 2006.\n",
      "Pam Beesly is a Secretary and joined the company in 2007.\n"
     ]
    }
   ],
   "source": [
    "for employee in employees:\n",
    "    print(\n",
    "        f\"{employee['name']} is a {employee['role']} and joined the company in {employee['joined']}.\"\n",
    "    )"
   ]
  },
  {
   "cell_type": "code",
   "execution_count": 58,
   "metadata": {},
   "outputs": [
    {
     "data": {
      "text/plain": [
       "[{'name': 'Michael Scott',\n",
       "  'role': 'Boss',\n",
       "  'joined': 2005,\n",
       "  'fav_beverage': 'Coffee'},\n",
       " {'name': 'Dwight Schrute',\n",
       "  'role': 'Sales Person',\n",
       "  'joined': 2006,\n",
       "  'fav_beverage': 'Cola'},\n",
       " {'name': 'Pam Beesly', 'role': 'Secretary', 'joined': 2007}]"
      ]
     },
     "execution_count": 58,
     "metadata": {},
     "output_type": "execute_result"
    }
   ],
   "source": [
    "# Exercise 5\n",
    "\n",
    "# Add a favorite beverage to two of the three employees' dictionaries.\n",
    "# Then loop over the employees again, printing a modified version of the above text, which includes\n",
    "# the employee's favorite beverage.\n",
    "# For employees without a known favorite beverage, print 'unknown' as the favorite beverage.\n",
    "\n",
    "employees[0][\"fav_beverage\"] = \"Coffee\"\n",
    "employees[1][\"fav_beverage\"] = \"Cola\"\n",
    "\n",
    "employees"
   ]
  },
  {
   "cell_type": "code",
   "execution_count": 59,
   "metadata": {},
   "outputs": [
    {
     "name": "stdout",
     "output_type": "stream",
     "text": [
      "Michael Scott is a Boss, joined the company in 2005 and likes Coffee.\n",
      "Dwight Schrute is a Sales Person, joined the company in 2006 and likes Cola.\n",
      "Pam Beesly is a Secretary, joined the company in 2007 and likes <unknown>.\n"
     ]
    }
   ],
   "source": [
    "for employee in employees:\n",
    "    if \"fav_beverage\" in employee:\n",
    "        print(\n",
    "            f\"{employee['name']} is a {employee['role']}, joined the company in {employee['joined']} and likes {employee['fav_beverage']}.\"\n",
    "        )\n",
    "    else:\n",
    "        print(\n",
    "            f\"{employee['name']} is a {employee['role']}, joined the company in {employee['joined']} and likes <unknown>.\"\n",
    "        )"
   ]
  },
  {
   "cell_type": "markdown",
   "metadata": {},
   "source": [
    "Exercise 6 (Bonus)\n",
    "\n",
    "Read up on the `zip` function at [here](https://docs.python.org/3/library/functions.html#zip). After that, create the dictionary\n",
    "\n",
    "{\"donuts\": 10, \"muffins\": 10, \"cake\": 2}\n",
    "\n",
    "from the two given lists below, using the `zip` function.\n"
   ]
  },
  {
   "cell_type": "code",
   "execution_count": 60,
   "metadata": {},
   "outputs": [
    {
     "data": {
      "text/plain": [
       "{'donuts': 10, 'muffins': 10, 'cake': 2}"
      ]
     },
     "execution_count": 60,
     "metadata": {},
     "output_type": "execute_result"
    }
   ],
   "source": [
    "food_items = [\"donuts\", \"muffins\", \"cake\"]\n",
    "food_counts = [10, 10, 2]\n",
    "\n",
    "food_dict = dict(zip(food_items, food_counts))\n",
    "\n",
    "food_dict"
   ]
  },
  {
   "cell_type": "markdown",
   "metadata": {},
   "source": [
    "# Homework\n",
    "\n",
    "* If you didn't finish all exercises in the class, do the remaining ones as homework\n",
    "* Review [section 5.1 \"More on Lists\"](https://docs.python.org/3/tutorial/datastructures.html#more-on-lists) in the official Python tutorial and experiment with the methods that lists provide out of the box\n",
    "* Review [\"Mapping Types - dict\"](https://docs.python.org/3/library/stdtypes.html#mapping-types-dict) in the official Python documentation and experiment with the methods that dictionaries provide out of the box. Please be aware that some functionality of dictionaries has only been added in the most recent versions of Python and might not be available in your version of Python. To view the documentation of your version of Python, select the version at the top of the linked page. You can find out your version of Python by running `python --version` on the command line."
   ]
  }
 ],
 "metadata": {
  "kernelspec": {
   "display_name": "Python 3",
   "language": "python",
   "name": "python3"
  },
  "language_info": {
   "codemirror_mode": {
    "name": "ipython",
    "version": 3
   },
   "file_extension": ".py",
   "mimetype": "text/x-python",
   "name": "python",
   "nbconvert_exporter": "python",
   "pygments_lexer": "ipython3",
   "version": "3.7.4"
  }
 },
 "nbformat": 4,
 "nbformat_minor": 4
}
