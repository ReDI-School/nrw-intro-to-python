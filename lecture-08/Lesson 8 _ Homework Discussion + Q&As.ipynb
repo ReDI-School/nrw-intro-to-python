{
 "cells": [
  {
   "cell_type": "code",
   "execution_count": 1,
   "metadata": {},
   "outputs": [],
   "source": [
    "# Thanh Nam Le - Thanh.Nam.Le@communityredi-school.org\n",
    "# Andreas Bollig - Andreas.Bollig@communityredi-school.org"
   ]
  },
  {
   "cell_type": "code",
   "execution_count": 2,
   "metadata": {},
   "outputs": [],
   "source": [
    "# !pip install nb_black"
   ]
  },
  {
   "cell_type": "code",
   "execution_count": 3,
   "metadata": {},
   "outputs": [],
   "source": [
    "# %load_ext nb_black"
   ]
  },
  {
   "cell_type": "markdown",
   "metadata": {},
   "source": [
    "## If Statement\n",
    "### Exe. 1\n",
    "Naomi is trying to write a program in Python for her youth club, which asks the user to type in their age.  If the user’s age is between 12 and 16, then they are eligible to be members. If they are not in this age range, they are ineligible to be members. Please help her."
   ]
  },
  {
   "cell_type": "code",
   "execution_count": 4,
   "metadata": {},
   "outputs": [
    {
     "name": "stdout",
     "output_type": "stream",
     "text": [
      "10\n",
      "No access!\n"
     ]
    }
   ],
   "source": [
    "age = int(input())\n",
    "if age >= 12 and age <= 16:\n",
    "    print(\"Welcome to the club\")\n",
    "else:\n",
    "    print(\"No access!\")"
   ]
  },
  {
   "cell_type": "markdown",
   "metadata": {},
   "source": [
    "## for loop\n",
    "### Exe. 1\n",
    "Accept a number from user and calculate the PRODUCT of all numbers from 1 to a given number (factorial, denoted in Maths by !) <br>\n",
    "Example: 4! = 1 * 2 * 3 * 4 = 24. Try to use for loops instead of the factorial() function in the math library =))"
   ]
  },
  {
   "cell_type": "code",
   "execution_count": 5,
   "metadata": {},
   "outputs": [
    {
     "name": "stdout",
     "output_type": "stream",
     "text": [
      "Please type a number:4\n",
      "24\n"
     ]
    }
   ],
   "source": [
    "number = int(input(\"Please type a number:\"))\n",
    "factorial = 1\n",
    "for i in range(1, number + 1):\n",
    "    factorial *= i\n",
    "\n",
    "print(factorial)"
   ]
  },
  {
   "cell_type": "markdown",
   "metadata": {},
   "source": [
    "### Exe. 2\n",
    "Print the following pattern using for loop(s): <br>\n",
    "    5 4 3 2 1 <br>\n",
    "    4 3 2 1 <br>\n",
    "    3 2 1 <br>\n",
    "    2 1 <br>\n",
    "    1  "
   ]
  },
  {
   "cell_type": "code",
   "execution_count": 6,
   "metadata": {},
   "outputs": [
    {
     "name": "stdout",
     "output_type": "stream",
     "text": [
      "5 4 3 2 1 \n",
      "4 3 2 1 \n",
      "3 2 1 \n",
      "2 1 \n",
      "1 \n"
     ]
    }
   ],
   "source": [
    "number = 5\n",
    "for row_index in range(5, 0, -1):\n",
    "    row_str = \"\"\n",
    "    for col_index in range(row_index, 0, -1):\n",
    "        row_str += f\"{col_index} \"\n",
    "    print(row_str)"
   ]
  },
  {
   "cell_type": "markdown",
   "metadata": {},
   "source": [
    "### Exe. 3\n",
    "Write a Python program to count the number of even and odd numbers from a series of numbers <br>\n",
    "Example: input = (1, 2, 3, 4, 5, 6, 7, 8, 9) <br>\n",
    "Expected Output : <br>\n",
    "Number of even numbers : 4 <br>\n",
    "Number of odd numbers : 5 <br>"
   ]
  },
  {
   "cell_type": "code",
   "execution_count": 7,
   "metadata": {},
   "outputs": [
    {
     "name": "stdout",
     "output_type": "stream",
     "text": [
      "n_even_numbers:  4\n",
      "n_odd_numbers:  5\n"
     ]
    }
   ],
   "source": [
    "input_list = [1, 2, 3, 4, 5, 6, 7, 8, 9]\n",
    "\n",
    "n_even_numbers = 0\n",
    "n_odd_numbers = 0\n",
    "for number in input_list:\n",
    "    if number % 2 == 0:  # is even\n",
    "        n_even_numbers = n_even_numbers + 1\n",
    "    else:  # is odd\n",
    "        n_odd_numbers += 1\n",
    "\n",
    "print(\"n_even_numbers: \", n_even_numbers)\n",
    "print(\"n_odd_numbers: \", n_odd_numbers)"
   ]
  },
  {
   "cell_type": "markdown",
   "metadata": {},
   "source": [
    "## while loop\n",
    "\n",
    "### Exe. 1: get all the Fibonacci series between 0 to 50\n",
    "\n",
    "The Fibonacci Sequence is the series of numbers :\n",
    "0, 1, 1, 2, 3, 5, 8, 13, 21, .... <br>\n",
    "Every next number is calculated by adding up the two numbers before it. <br>\n",
    "Expected Output : 1 1 2 3 5 8 13 21 34 <br>\n",
    "<br>\n",
    "Hint: in previous examples we have only one variable x. For this problem, you will need two variables"
   ]
  },
  {
   "cell_type": "code",
   "execution_count": 8,
   "metadata": {},
   "outputs": [
    {
     "name": "stdout",
     "output_type": "stream",
     "text": [
      "0, 1, 1, 2, 3, 5, 8, 13, 21, 34\n"
     ]
    }
   ],
   "source": [
    "fib_one = 0\n",
    "fib_two = 1\n",
    "fib_str = \"0\"\n",
    "while fib_two < 50:\n",
    "    fib_str += f\", {fib_two}\"\n",
    "    fib_temp = fib_one\n",
    "    fib_one = fib_two\n",
    "    fib_two = fib_temp + fib_one\n",
    "\n",
    "print(fib_str)"
   ]
  },
  {
   "cell_type": "code",
   "execution_count": 9,
   "metadata": {},
   "outputs": [
    {
     "name": "stdout",
     "output_type": "stream",
     "text": [
      "0, 1, 1, 2, 3, 5, 8, 13, 21, 34\n"
     ]
    }
   ],
   "source": [
    "fib_one = 0\n",
    "fib_two = 1\n",
    "fib_str = \"0\"\n",
    "while fib_two < 50:\n",
    "    fib_str += f\", {fib_two}\"\n",
    "    fib_one, fib_two = fib_two, fib_one + fib_two\n",
    "\n",
    "print(fib_str)"
   ]
  }
 ],
 "metadata": {
  "kernelspec": {
   "display_name": "Python 3.10.0 64-bit ('shims')",
   "language": "python",
   "name": "python3"
  },
  "language_info": {
   "codemirror_mode": {
    "name": "ipython",
    "version": 3
   },
   "file_extension": ".py",
   "mimetype": "text/x-python",
   "name": "python",
   "nbconvert_exporter": "python",
   "pygments_lexer": "ipython3",
   "version": "3.10.0"
  },
  "vscode": {
   "interpreter": {
    "hash": "c28fabd06cc59429ff85a1764202395e700d0cab4a820ec5bf068da32573324c"
   }
  }
 },
 "nbformat": 4,
 "nbformat_minor": 4
}
