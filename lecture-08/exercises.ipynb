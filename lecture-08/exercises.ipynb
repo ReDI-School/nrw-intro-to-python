{
 "cells": [
  {
   "cell_type": "markdown",
   "id": "7322d7f9-5b85-4dcb-90fc-cbc063de56c4",
   "metadata": {},
   "source": [
    "### Exercise 1:\n",
    "Given two integer numbers return their product if the product is greater than 100, else return their sum.\n",
    "\n",
    "### Exercise 2:\n",
    "Create a for loop that sums all even numbers to 10 and prints the output\n",
    "\n",
    "### Exercise 3:\n",
    "Create a for while that sums all even numbers to 10 and prints the output\n",
    "\n",
    "### Exercise 4:\n",
    "Write a for loop which loops through all even numbers to 10 and returns the exponentiation of each number (not using math library)"
   ]
  }
 ],
 "metadata": {
  "kernelspec": {
   "display_name": "Python 3.10.0 64-bit ('shims')",
   "language": "python",
   "name": "python3"
  },
  "language_info": {
   "codemirror_mode": {
    "name": "ipython",
    "version": 3
   },
   "file_extension": ".py",
   "mimetype": "text/x-python",
   "name": "python",
   "nbconvert_exporter": "python",
   "pygments_lexer": "ipython3",
   "version": "3.10.0"
  },
  "vscode": {
   "interpreter": {
    "hash": "c28fabd06cc59429ff85a1764202395e700d0cab4a820ec5bf068da32573324c"
   }
  }
 },
 "nbformat": 4,
 "nbformat_minor": 5
}
