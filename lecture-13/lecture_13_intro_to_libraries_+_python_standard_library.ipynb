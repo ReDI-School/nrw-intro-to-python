{
 "cells": [
  {
   "cell_type": "markdown",
   "metadata": {},
   "source": [
    "Andreas Bollig - Freelance Data Scientist - andreas.bollig@communityredi-school.org"
   ]
  },
  {
   "cell_type": "code",
   "execution_count": 1,
   "metadata": {},
   "outputs": [],
   "source": [
    "# !pip install nb_black"
   ]
  },
  {
   "cell_type": "code",
   "execution_count": 2,
   "metadata": {},
   "outputs": [],
   "source": [
    "# %load_ext nb_black"
   ]
  },
  {
   "cell_type": "markdown",
   "metadata": {},
   "source": [
    "# Lecture 13 - Intro to Libraries + Python Standard Library"
   ]
  },
  {
   "cell_type": "markdown",
   "metadata": {},
   "source": [
    "* Library (called **package** in Python): collection of modules that extends the functionality of Python\n",
    "    * Examples:\n",
    "        * Pandas: Computation on tables of data\n",
    "        * Django: Framework for web applications\n",
    "        * Matplotlib: Data visualization\n",
    "* Module: File with extension .py, which contains reusable Python code. Example: `greetings.py` \n",
    "\n",
    "-> show `greetings.py`"
   ]
  },
  {
   "cell_type": "markdown",
   "metadata": {},
   "source": [
    "## Importing from a module\n",
    "\n",
    "Note: The first time you import something from a module, its code is executed!"
   ]
  },
  {
   "cell_type": "code",
   "execution_count": 3,
   "metadata": {},
   "outputs": [
    {
     "name": "stdout",
     "output_type": "stream",
     "text": [
      "You imported greetings\n"
     ]
    }
   ],
   "source": [
    "import greetings"
   ]
  },
  {
   "cell_type": "code",
   "execution_count": 4,
   "metadata": {},
   "outputs": [
    {
     "data": {
      "text/plain": [
       "'Hello Anne!'"
      ]
     },
     "execution_count": 4,
     "metadata": {},
     "output_type": "execute_result"
    }
   ],
   "source": [
    "greetings.hello(\"Anne\")"
   ]
  },
  {
   "cell_type": "code",
   "execution_count": 5,
   "metadata": {},
   "outputs": [
    {
     "data": {
      "text/plain": [
       "'Howdy Paul!'"
      ]
     },
     "execution_count": 5,
     "metadata": {},
     "output_type": "execute_result"
    }
   ],
   "source": [
    "from greetings import howdy\n",
    "\n",
    "howdy(\"Paul\")"
   ]
  },
  {
   "cell_type": "code",
   "execution_count": 6,
   "metadata": {},
   "outputs": [
    {
     "data": {
      "text/plain": [
       "\"What's up Jennifer?\""
      ]
     },
     "execution_count": 6,
     "metadata": {},
     "output_type": "execute_result"
    }
   ],
   "source": [
    "import greetings as g\n",
    "\n",
    "g.whats_up(\"Jennifer\")"
   ]
  },
  {
   "cell_type": "code",
   "execution_count": 7,
   "metadata": {},
   "outputs": [
    {
     "data": {
      "text/plain": [
       "\"What's up Kevin?\""
      ]
     },
     "execution_count": 7,
     "metadata": {},
     "output_type": "execute_result"
    }
   ],
   "source": [
    "from greetings import whats_up as sup\n",
    "\n",
    "sup(\"Kevin\")"
   ]
  },
  {
   "cell_type": "markdown",
   "metadata": {},
   "source": [
    "## Module search\n",
    "\n",
    "`greetings` can be imported because `greetings.py` is in the same folder as this notebook. What other places does the Python interpreter look when I try to import something?\n",
    "\n",
    "1. Built-in modules (built into the Python interpreter, e.g., `sys`)\n",
    "2. .py files in `sys.path` (in the order of `sys.path`)\n",
    "\n",
    "`sys.path` is initialized with\n",
    "\n",
    "* The current directory you are in when starting the Python interpreter by typing `python` into the shell, or the directory containing the script you are running with `python my_script.py`\n",
    "* Directories listed in the `PYTHON_PATH` environment variable\n",
    "* The default paths provided by your Python distribution (e.g. Anaconda) -> this includes the libraries you installed with `pip`"
   ]
  },
  {
   "cell_type": "code",
   "execution_count": 8,
   "metadata": {},
   "outputs": [
    {
     "data": {
      "text/plain": [
       "['/Users/andreasbollig/projects/2102_redi_school/nrw-intro-to-python/lecture-13',\n",
       " '/Users/andreasbollig/miniconda3/envs/redi_2021_spring/lib/python39.zip',\n",
       " '/Users/andreasbollig/miniconda3/envs/redi_2021_spring/lib/python3.9',\n",
       " '/Users/andreasbollig/miniconda3/envs/redi_2021_spring/lib/python3.9/lib-dynload',\n",
       " '',\n",
       " '/Users/andreasbollig/miniconda3/envs/redi_2021_spring/lib/python3.9/site-packages',\n",
       " '/Users/andreasbollig/miniconda3/envs/redi_2021_spring/lib/python3.9/site-packages/IPython/extensions',\n",
       " '/Users/andreasbollig/.ipython']"
      ]
     },
     "execution_count": 8,
     "metadata": {},
     "output_type": "execute_result"
    }
   ],
   "source": [
    "# What is in my sys.path?\n",
    "\n",
    "import sys\n",
    "\n",
    "sys.path"
   ]
  },
  {
   "cell_type": "code",
   "execution_count": 9,
   "metadata": {},
   "outputs": [
    {
     "data": {
      "text/plain": [
       "'/Users/andreasbollig/projects/2102_redi_school/nrw-intro-to-python/lecture-13'"
      ]
     },
     "execution_count": 9,
     "metadata": {},
     "output_type": "execute_result"
    }
   ],
   "source": [
    "# The directory I ran `jupyter notebook` in\n",
    "\n",
    "import os\n",
    "\n",
    "os.getcwd()"
   ]
  },
  {
   "cell_type": "code",
   "execution_count": 10,
   "metadata": {},
   "outputs": [
    {
     "data": {
      "text/plain": [
       "'empty!'"
      ]
     },
     "execution_count": 10,
     "metadata": {},
     "output_type": "execute_result"
    }
   ],
   "source": [
    "# I didn't specify PYTHON_PATH\n",
    "os.getenv(\"PYTHON_PATH\", \"empty!\")"
   ]
  },
  {
   "cell_type": "code",
   "execution_count": 11,
   "metadata": {},
   "outputs": [
    {
     "data": {
      "text/plain": [
       "['my_secret_module_collection',\n",
       " '/Users/andreasbollig/projects/2102_redi_school/nrw-intro-to-python/lecture-13',\n",
       " '/Users/andreasbollig/miniconda3/envs/redi_2021_spring/lib/python39.zip',\n",
       " '/Users/andreasbollig/miniconda3/envs/redi_2021_spring/lib/python3.9',\n",
       " '/Users/andreasbollig/miniconda3/envs/redi_2021_spring/lib/python3.9/lib-dynload',\n",
       " '',\n",
       " '/Users/andreasbollig/miniconda3/envs/redi_2021_spring/lib/python3.9/site-packages',\n",
       " '/Users/andreasbollig/miniconda3/envs/redi_2021_spring/lib/python3.9/site-packages/IPython/extensions',\n",
       " '/Users/andreasbollig/.ipython']"
      ]
     },
     "execution_count": 11,
     "metadata": {},
     "output_type": "execute_result"
    }
   ],
   "source": [
    "# You can modify sys.path in your code (it's just a list of strings)\n",
    "\n",
    "sys.path = [\"my_secret_module_collection\"] + sys.path\n",
    "\n",
    "sys.path"
   ]
  },
  {
   "cell_type": "code",
   "execution_count": 12,
   "metadata": {},
   "outputs": [
    {
     "data": {
      "text/plain": [
       "2"
      ]
     },
     "execution_count": 12,
     "metadata": {},
     "output_type": "execute_result"
    }
   ],
   "source": [
    "# Then I can import modules from the path I added\n",
    "\n",
    "from my_utils import add_one\n",
    "\n",
    "add_one(1)"
   ]
  },
  {
   "cell_type": "markdown",
   "metadata": {},
   "source": [
    "## Packages\n",
    "\n",
    "A package is a directory containing a file called `__init__.py` (\"dunder init dot p y\")\n",
    "\n",
    "Example:\n",
    "```\n",
    "sound/                          Top-level package\n",
    "      __init__.py               Initialize the sound package\n",
    "      formats/                  Subpackage for file format conversions\n",
    "              __init__.py\n",
    "              wavread.py\n",
    "              wavwrite.py\n",
    "              aiffread.py\n",
    "              aiffwrite.py\n",
    "              auread.py\n",
    "              auwrite.py\n",
    "              ...\n",
    "      effects/                  Subpackage for sound effects\n",
    "              __init__.py\n",
    "              echo.py\n",
    "              surround.py\n",
    "              reverse.py\n",
    "              ...\n",
    "      filters/                  Subpackage for filters\n",
    "              __init__.py\n",
    "              equalizer.py\n",
    "              vocoder.py\n",
    "              karaoke.py\n",
    "              ...\n",
    "```\n",
    "\n",
    "I created a scaffold of this folder structure in the current working directory."
   ]
  },
  {
   "cell_type": "code",
   "execution_count": 13,
   "metadata": {},
   "outputs": [
    {
     "name": "stdout",
     "output_type": "stream",
     "text": [
      "Not implemented!!\n"
     ]
    }
   ],
   "source": [
    "import sound.effects.echo\n",
    "\n",
    "sound.effects.echo.echofilter([3, 5, 7, 9, 1, 6, 3, 0])"
   ]
  },
  {
   "cell_type": "code",
   "execution_count": 14,
   "metadata": {},
   "outputs": [
    {
     "name": "stdout",
     "output_type": "stream",
     "text": [
      "Not implemented!!\n"
     ]
    }
   ],
   "source": [
    "from sound.effects import echo\n",
    "\n",
    "echo.echofilter([3, 5, 7, 9, 1, 6, 3, 0])"
   ]
  },
  {
   "cell_type": "code",
   "execution_count": 15,
   "metadata": {},
   "outputs": [
    {
     "name": "stdout",
     "output_type": "stream",
     "text": [
      "Not implemented!!\n"
     ]
    }
   ],
   "source": [
    "from sound.effects.echo import echofilter\n",
    "\n",
    "echofilter([3, 5, 7, 9, 1, 6, 3, 0])"
   ]
  },
  {
   "cell_type": "markdown",
   "metadata": {},
   "source": [
    "## Python Package Index (PyPI -> \"py p i\")\n",
    "\n",
    "* https://pypi.org/\n",
    "* Central repository of Python packages (currently over 300k packages)\n",
    "* Example: https://pypi.org/project/pandas/ -> look around\n",
    "* Install packages with `pip install <package name>`"
   ]
  },
  {
   "cell_type": "markdown",
   "metadata": {},
   "source": [
    "### More about packages \n",
    "\n",
    "* `conda` package manager (Anaconda package repository, conda-forge, ...), `poetry`, `pipenv`, ... \n",
    "* Dependency definition files\n",
    "* Virtual environments\n",
    "\n",
    "---> Lecture 17: \"Dependency Management 101\""
   ]
  },
  {
   "cell_type": "markdown",
   "metadata": {},
   "source": [
    "### How do I publish my own package on PyPI?\n",
    "\n",
    "Out of scope of this course, but you can start here: https://packaging.python.org/"
   ]
  },
  {
   "cell_type": "markdown",
   "metadata": {},
   "source": [
    "## Python Standard Library (\"What do you mean, batteries included?\")\n",
    "\n",
    "* Python's standard library is huge. I'll pick a couple of examples that I use every day."
   ]
  },
  {
   "cell_type": "markdown",
   "metadata": {},
   "source": [
    "### Pick #1: datetime + calendar"
   ]
  },
  {
   "cell_type": "code",
   "execution_count": 16,
   "metadata": {},
   "outputs": [],
   "source": [
    "from datetime import datetime, date, timedelta"
   ]
  },
  {
   "cell_type": "code",
   "execution_count": 17,
   "metadata": {},
   "outputs": [
    {
     "data": {
      "text/plain": [
       "datetime.datetime(2021, 5, 5, 21, 13, 22, 784078)"
      ]
     },
     "execution_count": 17,
     "metadata": {},
     "output_type": "execute_result"
    }
   ],
   "source": [
    "# current date and time\n",
    "\n",
    "now = datetime.now()\n",
    "\n",
    "now"
   ]
  },
  {
   "cell_type": "code",
   "execution_count": 18,
   "metadata": {},
   "outputs": [
    {
     "data": {
      "text/plain": [
       "datetime.date(2021, 5, 5)"
      ]
     },
     "execution_count": 18,
     "metadata": {},
     "output_type": "execute_result"
    }
   ],
   "source": [
    "# current date\n",
    "\n",
    "today = date.today()\n",
    "\n",
    "today"
   ]
  },
  {
   "cell_type": "code",
   "execution_count": 19,
   "metadata": {},
   "outputs": [
    {
     "data": {
      "text/plain": [
       "datetime.date(2021, 5, 6)"
      ]
     },
     "execution_count": 19,
     "metadata": {},
     "output_type": "execute_result"
    }
   ],
   "source": [
    "tomorrow = today + timedelta(days=1)\n",
    "\n",
    "tomorrow"
   ]
  },
  {
   "cell_type": "code",
   "execution_count": 20,
   "metadata": {},
   "outputs": [],
   "source": [
    "if now.day == 1:\n",
    "    print(\"Payday, yay!\")"
   ]
  },
  {
   "cell_type": "code",
   "execution_count": 21,
   "metadata": {},
   "outputs": [],
   "source": [
    "if now.weekday == 4:  # Friday -> weekday goes from 0 to 6 for Monday to Sunday\n",
    "    print(\"Hoooray, weekend!\")"
   ]
  },
  {
   "cell_type": "code",
   "execution_count": 22,
   "metadata": {},
   "outputs": [
    {
     "data": {
      "text/plain": [
       "datetime.datetime(2021, 5, 4, 0, 0)"
      ]
     },
     "execution_count": 22,
     "metadata": {},
     "output_type": "execute_result"
    }
   ],
   "source": [
    "# Format datetimes as strings and parse datetimes from strings\n",
    "# https://docs.python.org/3/library/datetime.html#strftime-and-strptime-format-codes\n",
    "\n",
    "my_datetime = datetime(2021, 5, 4)\n",
    "\n",
    "my_datetime"
   ]
  },
  {
   "cell_type": "code",
   "execution_count": 23,
   "metadata": {},
   "outputs": [
    {
     "data": {
      "text/plain": [
       "'04.05.2021'"
      ]
     },
     "execution_count": 23,
     "metadata": {},
     "output_type": "execute_result"
    }
   ],
   "source": [
    "# German\n",
    "\n",
    "my_datetime.strftime(\"%d.%m.%Y\")"
   ]
  },
  {
   "cell_type": "code",
   "execution_count": 24,
   "metadata": {},
   "outputs": [
    {
     "data": {
      "text/plain": [
       "'05/04/2021'"
      ]
     },
     "execution_count": 24,
     "metadata": {},
     "output_type": "execute_result"
    }
   ],
   "source": [
    "# American\n",
    "\n",
    "my_datetime.strftime(\"%m/%d/%Y\")"
   ]
  },
  {
   "cell_type": "code",
   "execution_count": 25,
   "metadata": {},
   "outputs": [
    {
     "data": {
      "text/plain": [
       "datetime.datetime(2021, 5, 4, 0, 0)"
      ]
     },
     "execution_count": 25,
     "metadata": {},
     "output_type": "execute_result"
    }
   ],
   "source": [
    "# parse formatted datetime\n",
    "\n",
    "datetime.strptime(\"05/04/2021\", \"%m/%d/%Y\")"
   ]
  },
  {
   "cell_type": "code",
   "execution_count": 26,
   "metadata": {},
   "outputs": [
    {
     "data": {
      "text/plain": [
       "datetime.date(2021, 5, 5)"
      ]
     },
     "execution_count": 26,
     "metadata": {},
     "output_type": "execute_result"
    }
   ],
   "source": [
    "# (Year, calendar week, weekday) -> date\n",
    "# Note, that here, weekday goes from 1 to 7 for Monday to Sunday\n",
    "# New in Python 3.8!\n",
    "\n",
    "date.fromisocalendar(2021, 18, 3)"
   ]
  },
  {
   "cell_type": "code",
   "execution_count": 27,
   "metadata": {},
   "outputs": [
    {
     "name": "stdout",
     "output_type": "stream",
     "text": [
      "2010: 28\n",
      "2011: 28\n",
      "2012: 29\n",
      "2013: 28\n",
      "2014: 28\n",
      "2015: 28\n",
      "2016: 29\n",
      "2017: 28\n",
      "2018: 28\n",
      "2019: 28\n",
      "2020: 29\n",
      "2021: 28\n"
     ]
    }
   ],
   "source": [
    "import calendar\n",
    "\n",
    "# number of days in month\n",
    "\n",
    "for i in range(12):\n",
    "    year = 2010 + i\n",
    "    n_days_in_month = calendar.monthrange(year, 2)[1]\n",
    "    print(f\"{year}: {n_days_in_month}\")"
   ]
  },
  {
   "cell_type": "markdown",
   "metadata": {},
   "source": [
    "More infos: \n",
    "\n",
    "* https://docs.python.org/3/library/datetime.html\n",
    "* https://docs.python.org/3/library/calendar.html\n",
    "\n",
    "Pro tip: check out python-dateutil: https://dateutil.readthedocs.io/en/stable/index.html"
   ]
  },
  {
   "cell_type": "markdown",
   "metadata": {},
   "source": [
    "### Pick #2: itertools"
   ]
  },
  {
   "cell_type": "code",
   "execution_count": 28,
   "metadata": {},
   "outputs": [],
   "source": [
    "import itertools"
   ]
  },
  {
   "cell_type": "code",
   "execution_count": 29,
   "metadata": {},
   "outputs": [
    {
     "data": {
      "text/plain": [
       "[('Anne', 'Paul'),\n",
       " ('Anne', 'Jennifer'),\n",
       " ('Anne', 'Kevin'),\n",
       " ('Anne', 'Lea'),\n",
       " ('Anne', 'Matthew'),\n",
       " ('Paul', 'Jennifer'),\n",
       " ('Paul', 'Kevin'),\n",
       " ('Paul', 'Lea'),\n",
       " ('Paul', 'Matthew'),\n",
       " ('Jennifer', 'Kevin'),\n",
       " ('Jennifer', 'Lea'),\n",
       " ('Jennifer', 'Matthew'),\n",
       " ('Kevin', 'Lea'),\n",
       " ('Kevin', 'Matthew'),\n",
       " ('Lea', 'Matthew')]"
      ]
     },
     "execution_count": 29,
     "metadata": {},
     "output_type": "execute_result"
    }
   ],
   "source": [
    "# all possible combinations of size n\n",
    "\n",
    "team = [\"Anne\", \"Paul\", \"Jennifer\", \"Kevin\", \"Lea\", \"Matthew\"]\n",
    "\n",
    "get_to_know_lunches = list(itertools.combinations(team, 2))\n",
    "\n",
    "get_to_know_lunches"
   ]
  },
  {
   "cell_type": "markdown",
   "metadata": {},
   "source": [
    "More info: https://docs.python.org/3/library/itertools.html"
   ]
  },
  {
   "cell_type": "markdown",
   "metadata": {},
   "source": [
    "## Pick #4: time"
   ]
  },
  {
   "cell_type": "code",
   "execution_count": 30,
   "metadata": {},
   "outputs": [
    {
     "name": "stdout",
     "output_type": "stream",
     "text": [
      "hello\n",
      "This took 3.0 seconds\n"
     ]
    }
   ],
   "source": [
    "# Measure how long something takes\n",
    "\n",
    "from time import time, sleep\n",
    "\n",
    "\n",
    "def slow_func(n):\n",
    "    sleep(3)\n",
    "    print(n)\n",
    "\n",
    "\n",
    "start = time()\n",
    "\n",
    "slow_func(\"hello\")\n",
    "\n",
    "print(f\"This took {round(time() - start, 1)} seconds\")"
   ]
  },
  {
   "cell_type": "markdown",
   "metadata": {},
   "source": [
    "### Pick #3: functools"
   ]
  },
  {
   "cell_type": "code",
   "execution_count": 31,
   "metadata": {},
   "outputs": [
    {
     "data": {
      "text/plain": [
       "'3.9.4 (default, Apr  9 2021, 09:32:38) \\n[Clang 10.0.0 ]'"
      ]
     },
     "execution_count": 31,
     "metadata": {},
     "output_type": "execute_result"
    }
   ],
   "source": [
    "from functools import cache, partial\n",
    "\n",
    "# PLEASE NOTE: THE CACHE FUNCTION WAS ONLY ADDED IN PYTHON 3.9\n",
    "# YOU CAN CHECK YOUR VERSION OF PYTHON AS FOLLOWS\n",
    "\n",
    "import sys\n",
    "\n",
    "sys.version"
   ]
  },
  {
   "cell_type": "code",
   "execution_count": 32,
   "metadata": {},
   "outputs": [
    {
     "name": "stdout",
     "output_type": "stream",
     "text": [
      "wow\n",
      "This took 3.0 seconds\n"
     ]
    }
   ],
   "source": [
    "# Cache slow computations\n",
    "\n",
    "cached_slow_func = cache(slow_func)\n",
    "\n",
    "start = time()\n",
    "cached_slow_func(\"wow\")\n",
    "print(f\"This took {round(time() - start, 1)} seconds\")"
   ]
  },
  {
   "cell_type": "code",
   "execution_count": 33,
   "metadata": {},
   "outputs": [
    {
     "name": "stdout",
     "output_type": "stream",
     "text": [
      "This took 0.0 seconds\n"
     ]
    }
   ],
   "source": [
    "start = time()\n",
    "cached_slow_func(\"wow\")\n",
    "print(f\"This took {round(time() - start, 1)} seconds\")"
   ]
  },
  {
   "cell_type": "code",
   "execution_count": 34,
   "metadata": {},
   "outputs": [
    {
     "name": "stdout",
     "output_type": "stream",
     "text": [
      "still fast?\n",
      "This took 3.0 seconds\n"
     ]
    }
   ],
   "source": [
    "start = time()\n",
    "cached_slow_func(\"still fast?\")\n",
    "print(f\"This took {round(time() - start, 1)} seconds\")"
   ]
  },
  {
   "cell_type": "code",
   "execution_count": 35,
   "metadata": {},
   "outputs": [
    {
     "name": "stdout",
     "output_type": "stream",
     "text": [
      "This took 0.0 seconds\n"
     ]
    }
   ],
   "source": [
    "start = time()\n",
    "cached_slow_func(\"still fast?\")\n",
    "print(f\"This took {round(time() - start, 1)} seconds\")"
   ]
  },
  {
   "cell_type": "code",
   "execution_count": 36,
   "metadata": {},
   "outputs": [
    {
     "data": {
      "text/plain": [
       "4"
      ]
     },
     "execution_count": 36,
     "metadata": {},
     "output_type": "execute_result"
    }
   ],
   "source": [
    "# partial function execution\n",
    "\n",
    "\n",
    "def add_number(n, m):\n",
    "    return n + m\n",
    "\n",
    "\n",
    "add_one = partial(add_number, 1)\n",
    "add_two = partial(add_number, 2)\n",
    "\n",
    "add_one(3)"
   ]
  },
  {
   "cell_type": "markdown",
   "metadata": {},
   "source": [
    "### Pick #4: os + shutil\n",
    "\n",
    "Working with files and more"
   ]
  },
  {
   "cell_type": "code",
   "execution_count": 37,
   "metadata": {},
   "outputs": [],
   "source": [
    "import os\n",
    "import shutil"
   ]
  },
  {
   "cell_type": "code",
   "execution_count": 38,
   "metadata": {},
   "outputs": [],
   "source": [
    "with open(\"test_file.txt\", \"w\") as f:\n",
    "    f.write(\"hello\\n\")"
   ]
  },
  {
   "cell_type": "code",
   "execution_count": 39,
   "metadata": {},
   "outputs": [
    {
     "data": {
      "text/plain": [
       "['my_secret_module_collection',\n",
       " '__pycache__',\n",
       " 'greetings.py',\n",
       " 'test_file.txt',\n",
       " '.ipynb_checkpoints',\n",
       " 'lecture_13_intro_to_libraries_+_python_standard_library.ipynb',\n",
       " 'sound']"
      ]
     },
     "execution_count": 39,
     "metadata": {},
     "output_type": "execute_result"
    }
   ],
   "source": [
    "os.listdir()"
   ]
  },
  {
   "cell_type": "code",
   "execution_count": 40,
   "metadata": {},
   "outputs": [
    {
     "data": {
      "text/plain": [
       "['my_secret_module_collection',\n",
       " '__pycache__',\n",
       " 'new_name.txt',\n",
       " 'greetings.py',\n",
       " '.ipynb_checkpoints',\n",
       " 'lecture_13_intro_to_libraries_+_python_standard_library.ipynb',\n",
       " 'sound']"
      ]
     },
     "execution_count": 40,
     "metadata": {},
     "output_type": "execute_result"
    }
   ],
   "source": [
    "shutil.move(\"test_file.txt\", \"new_name.txt\")\n",
    "os.listdir()"
   ]
  },
  {
   "cell_type": "code",
   "execution_count": 41,
   "metadata": {},
   "outputs": [
    {
     "data": {
      "text/plain": [
       "['my_secret_module_collection',\n",
       " '__pycache__',\n",
       " 'greetings.py',\n",
       " '.ipynb_checkpoints',\n",
       " 'lecture_13_intro_to_libraries_+_python_standard_library.ipynb',\n",
       " 'sound']"
      ]
     },
     "execution_count": 41,
     "metadata": {},
     "output_type": "execute_result"
    }
   ],
   "source": [
    "os.remove(\"new_name.txt\")\n",
    "os.listdir()"
   ]
  },
  {
   "cell_type": "markdown",
   "metadata": {},
   "source": [
    "### Pick #5: json + pickle\n",
    "\n",
    "Serialize everything"
   ]
  },
  {
   "cell_type": "code",
   "execution_count": 42,
   "metadata": {},
   "outputs": [],
   "source": [
    "import json\n",
    "import pickle"
   ]
  },
  {
   "cell_type": "code",
   "execution_count": 43,
   "metadata": {},
   "outputs": [],
   "source": [
    "class employee:\n",
    "    def __init__(self, name, age):\n",
    "        self.name = name\n",
    "        self.age = age\n",
    "\n",
    "    def __repr__(self):\n",
    "        return f'employee(\"{self.name}\", {self.age})'\n",
    "\n",
    "\n",
    "my_employee = employee(\"George\", 58)\n",
    "\n",
    "employee_dict = {\"name\": \"George\", \"age\": 58}"
   ]
  },
  {
   "cell_type": "code",
   "execution_count": 44,
   "metadata": {},
   "outputs": [
    {
     "data": {
      "text/plain": [
       "employee(\"George\", 58)"
      ]
     },
     "execution_count": 44,
     "metadata": {},
     "output_type": "execute_result"
    }
   ],
   "source": [
    "my_employee"
   ]
  },
  {
   "cell_type": "code",
   "execution_count": 45,
   "metadata": {},
   "outputs": [],
   "source": [
    "# JSON can serialize lists, dicts and primitive data types just fine\n",
    "\n",
    "with open(\"employee_file.json\", \"w\") as f:\n",
    "    json.dump(employee_dict, f)"
   ]
  },
  {
   "cell_type": "code",
   "execution_count": 46,
   "metadata": {},
   "outputs": [],
   "source": [
    "# !cat employee_file.json # This only works on Linux and MacOS"
   ]
  },
  {
   "cell_type": "code",
   "execution_count": 47,
   "metadata": {},
   "outputs": [
    {
     "name": "stdout",
     "output_type": "stream",
     "text": [
      "Object of type employee is not JSON serializable\n"
     ]
    }
   ],
   "source": [
    "# But it can't serialize custom objects\n",
    "\n",
    "try:\n",
    "    with open(\"employee_file.json\", \"w\") as f:\n",
    "        json.dump(my_employee, f)\n",
    "except TypeError as e:\n",
    "    print(e)"
   ]
  },
  {
   "cell_type": "code",
   "execution_count": 48,
   "metadata": {},
   "outputs": [],
   "source": [
    "# pickle can serialize almost anything\n",
    "\n",
    "with open(\"employee_file.pickle\", \"wb\") as f:\n",
    "    pickle.dump(my_employee, f)"
   ]
  },
  {
   "cell_type": "code",
   "execution_count": 49,
   "metadata": {},
   "outputs": [
    {
     "data": {
      "text/plain": [
       "employee(\"George\", 58)"
      ]
     },
     "execution_count": 49,
     "metadata": {},
     "output_type": "execute_result"
    }
   ],
   "source": [
    "with open(\"employee_file.pickle\", \"rb\") as f:\n",
    "    unpickled_employee = pickle.load(f)\n",
    "\n",
    "unpickled_employee"
   ]
  },
  {
   "cell_type": "markdown",
   "metadata": {},
   "source": [
    "More info:\n",
    "\n",
    "* https://docs.python.org/3/library/pickle.html\n",
    "* https://docs.python.org/3/library/json.html"
   ]
  },
  {
   "cell_type": "markdown",
   "metadata": {},
   "source": [
    "### Wrap Up\n",
    "\n",
    "For more info about the standard library, check out the two part tour: \n",
    "\n",
    "* Part 1: https://docs.python.org/3/tutorial/stdlib.html\n",
    "* Part 2: https://docs.python.org/3/tutorial/stdlib2.html"
   ]
  },
  {
   "cell_type": "markdown",
   "metadata": {},
   "source": [
    "# Excercises"
   ]
  },
  {
   "cell_type": "markdown",
   "metadata": {},
   "source": [
    "### Exercise 1\n",
    "\n",
    "Create a Python module containing a simple function. Import the module into this notebook and execute the function."
   ]
  },
  {
   "cell_type": "code",
   "execution_count": 50,
   "metadata": {},
   "outputs": [],
   "source": [
    "# import ..."
   ]
  },
  {
   "cell_type": "markdown",
   "metadata": {},
   "source": [
    "### Exercise 2\n",
    "\n",
    "What date is 71 days from today?"
   ]
  },
  {
   "cell_type": "code",
   "execution_count": 51,
   "metadata": {},
   "outputs": [],
   "source": [
    "# ..."
   ]
  },
  {
   "cell_type": "markdown",
   "metadata": {},
   "source": [
    "### Exercise 3\n",
    "\n",
    "Which weekday is Halloween this year? Hint: it's on October 31."
   ]
  },
  {
   "cell_type": "code",
   "execution_count": 52,
   "metadata": {},
   "outputs": [],
   "source": [
    "# ..."
   ]
  },
  {
   "cell_type": "markdown",
   "metadata": {},
   "source": [
    "### Exercise 4\n",
    "\n",
    "Write a function 'format_date' that formats a date so it looks like the following example\n",
    "\n",
    "`print(format_date(datetime(2021, 5, 5)))` -> `Wednesday, May 05, 2021`"
   ]
  },
  {
   "cell_type": "code",
   "execution_count": 53,
   "metadata": {},
   "outputs": [],
   "source": [
    "# def format_date(dt):\n",
    "# ..."
   ]
  },
  {
   "cell_type": "markdown",
   "metadata": {},
   "source": [
    "### Exercise 5\n",
    "\n",
    "What if I want to serialize a dictionary into a string instead of serializing it into a file? Maybe I need this to send the JSON string to a webserver.\n",
    "\n",
    "Research how this can be done and program an example"
   ]
  },
  {
   "cell_type": "code",
   "execution_count": 54,
   "metadata": {},
   "outputs": [],
   "source": [
    "# ..."
   ]
  },
  {
   "cell_type": "markdown",
   "metadata": {},
   "source": [
    "### Exercise 6 (Bonus)\n",
    "\n",
    "Write a random coffee meeting generator that produces pairs of employees from the list `team` (see above) such that no two people have a random coffee meeting twice. A list of random coffee meetings that already occurred is provided.\n",
    "\n",
    "Example output: \"This week's random coffees: [('Anne', 'Kevin'), ('Paul', 'Jennifer'), ('Lea', 'Matthew')]\"\n",
    "\n",
    "Hints: \n",
    "\n",
    "* You can use `itertools.permutations` to create all possible permutations of a list\n",
    "* You can check if a tuple is in a list like this: `(\"Anne\", \"Paul\") in already_had_coffee` -> True"
   ]
  },
  {
   "cell_type": "code",
   "execution_count": 55,
   "metadata": {},
   "outputs": [],
   "source": [
    "already_had_coffee = [\n",
    "    (\"Anne\", \"Paul\"),\n",
    "    (\"Jennifer\", \"Lea\"),\n",
    "    (\"Kevin\", \"Matthew\"),\n",
    "    (\"Anne\", \"Jennifer\"),\n",
    "]\n",
    "\n",
    "\n",
    "def random_coffee_generator(team, already_had_coffee):\n",
    "    # here goes your code (remove 'pass')\n",
    "    pass\n",
    "\n",
    "\n",
    "random_coffee_generator(team, already_had_coffee)"
   ]
  },
  {
   "cell_type": "markdown",
   "metadata": {},
   "source": [
    "# Homework\n",
    "\n",
    "* If you didn't finish all exercises in the class, do the remaining ones as homework\n",
    "* Read up on Python modules: https://docs.python.org/3/tutorial/modules.html\n",
    "* Skim the TOC of the Python Standard Library reference and check out things that you find interesting: https://docs.python.org/3/library/index.html"
   ]
  }
 ],
 "metadata": {
  "kernelspec": {
   "display_name": "Python 3",
   "language": "python",
   "name": "python3"
  },
  "language_info": {
   "codemirror_mode": {
    "name": "ipython",
    "version": 3
   },
   "file_extension": ".py",
   "mimetype": "text/x-python",
   "name": "python",
   "nbconvert_exporter": "python",
   "pygments_lexer": "ipython3",
   "version": "3.9.4"
  }
 },
 "nbformat": 4,
 "nbformat_minor": 4
}
