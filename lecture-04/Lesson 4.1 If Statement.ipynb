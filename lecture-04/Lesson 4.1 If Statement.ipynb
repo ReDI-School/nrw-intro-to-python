{
 "cells": [
  {
   "cell_type": "markdown",
   "metadata": {},
   "source": [
    "# If statements\n",
    "## Basic if Statment (keyword = if)\n",
    "\n",
    "<code>if</code> statements in Python are very simple. We tell the computer to perform alternative actions based on a certain result. \n",
    "\n",
    "Let's take an easy example: \"if A is true, then do B\" -> the computer checks whether condition \"A is True\" is met. If yes it will perform action B, otherwise it will not perform action B.\n",
    "\n",
    "    if A is True:\n",
    "        do B\n",
    "\n",
    "Let's try this in Python:"
   ]
  },
  {
   "cell_type": "code",
   "execution_count": null,
   "metadata": {},
   "outputs": [],
   "source": [
    "a = True   # a is our variable, we assign it the boolean value True\n",
    "\n",
    "if a == True:  # \"a == True\" is the condition\n",
    "    print('do B')"
   ]
  },
  {
   "cell_type": "markdown",
   "metadata": {},
   "source": [
    "Note that\n",
    "```python\n",
    "a == True\n",
    "```\n",
    "\n",
    "returns a boolean value (in the same way that `5 == 5` or `5 == 4` or `3 < 4 < 5`) return boolean values."
   ]
  },
  {
   "cell_type": "code",
   "execution_count": null,
   "metadata": {},
   "outputs": [],
   "source": [
    "a = True\n",
    "print(f'a if of type {type(a)}. It has the value {a}.')\n",
    "print(f'a == True if of type {type(a == True)}. It has the value {a == True}.')\n",
    "print(f'5 == 4 if of type {type(5 == 4)}. It has the value {5 == 4}.')\n",
    "print(f'3 < 4 < 5 if of type {type(3 < 4 < 5)}. It has the value {3 < 4 < 5}.')"
   ]
  },
  {
   "cell_type": "markdown",
   "metadata": {},
   "source": [
    "So we can write more concisely:"
   ]
  },
  {
   "cell_type": "code",
   "execution_count": null,
   "metadata": {},
   "outputs": [],
   "source": [
    "a = True   # a is our variable, we assign it the boolean value True\n",
    "\n",
    "if a:  # equivalent to \"if a == True\"\n",
    "    print('do B')"
   ]
  },
  {
   "cell_type": "markdown",
   "metadata": {},
   "source": [
    "### Combining conditions (keywords = and, or)\n",
    "You can also combine multiple conditions, using `and` and `or` respectively.\n",
    "* If you combine conditions, using `and`, the code block will only be executed, if **both** conditions are met\n",
    "* If you combine conditions, using `or`, the code block will only be executed, if **one or both** conditions are met"
   ]
  },
  {
   "cell_type": "code",
   "execution_count": null,
   "metadata": {},
   "outputs": [],
   "source": [
    "a = True\n",
    "b = False\n",
    "if a and b:\n",
    "    print('a and b are True')\n",
    "if a or b:\n",
    "    print('Either a or b (or both) are True')"
   ]
  },
  {
   "cell_type": "markdown",
   "metadata": {},
   "source": [
    "Note that the condition\n",
    "```python\n",
    "3 < x < 5\n",
    "```\n",
    "\n",
    "we explored above, is a python shorthand for\n",
    "```python\n",
    "3 < x and x < 5\n",
    "```\n",
    "\n",
    "This is conveniency provided in Python, not found in a lot of other programming languages!"
   ]
  },
  {
   "cell_type": "markdown",
   "metadata": {
    "tags": []
   },
   "source": [
    "## If-else Statements (keyword = else)\n",
    "Let's elaborate more on our example: \"if A is true, then do B, else do C\" -> the computer checks whether statement A is correct. If yes it will perform action B, otherwise it perform action C.\n",
    "\n",
    "    if A is True:\n",
    "        do B\n",
    "    else:\n",
    "        do C\n",
    "\n",
    "Let's try this in Python"
   ]
  },
  {
   "cell_type": "code",
   "execution_count": null,
   "metadata": {},
   "outputs": [],
   "source": [
    "a = True\n",
    "\n",
    "if a == True:\n",
    "    # there might be more statements here\n",
    "    print('do B')\n",
    "else:\n",
    "    print('do C')\n",
    "    # there can also be more statements here"
   ]
  },
  {
   "cell_type": "markdown",
   "metadata": {},
   "source": [
    "<img src=\"https://cdn.educba.com/academy/wp-content/uploads/2019/08/If-Else-Statement-Flow-Diagram-2.png\" style = \"width:550px;height:500px\"/>"
   ]
  },
  {
   "cell_type": "markdown",
   "metadata": {},
   "source": [
    "Let's do a more realistic example:\n",
    "\n",
    "> we have a supersonic jet. The flying speed (rating) is measured in km/h. The temperature of the jet engine (level) is a categorical variable, which takes values as either MILD or HOT.\n",
    "> If the rating is below 20000, the level is MILD, otherwise it is HOT."
   ]
  },
  {
   "cell_type": "code",
   "execution_count": null,
   "metadata": {},
   "outputs": [],
   "source": [
    "rating = 18000\n",
    "\n",
    "if rating < 20000:\n",
    "    level = 'MILD'\n",
    "else:\n",
    "    level = 'HOT'\n",
    "\n",
    "print(level)"
   ]
  },
  {
   "cell_type": "markdown",
   "metadata": {},
   "source": [
    "# If-elif-else Statements (keyword=elif)\n",
    "Only \"MILD\" or \"HOT\"? That's quite simplistic for a supersonic jet! In fact, the \"level\" can take more values, as follows:\n",
    "\n",
    "| min. rating | max. rating | level |\n",
    "| --- | --- | --- |\n",
    "| 0 | 5000 | MILD |\n",
    "| 5000 | 20000 | MEDIUM |\n",
    "| 20000 | 70000 | HOT |\n",
    "| 70000 | --- | EXTREME |\n",
    "\n",
    "Note that we now have **more than two alternatives**!"
   ]
  },
  {
   "cell_type": "markdown",
   "metadata": {},
   "source": [
    "Recall that [`input`](https://docs.python.org/3/library/functions.html#input) is a Python built-in function that returns a string value. We convert this string into a float number in order to make numeric comparisons"
   ]
  },
  {
   "cell_type": "code",
   "execution_count": null,
   "metadata": {},
   "outputs": [],
   "source": [
    "rating = float(input('What is your rating in km/h?'))\n",
    "\n",
    "if rating < 5000: \n",
    "    level = 'MILD'\n",
    "elif rating < 20000: #more explicityly: if 5000 <= rating < 20000\n",
    "    level = 'MEDIUM'\n",
    "elif rating < 70000: #more explicityly: if 20000 <= rating < 70000\n",
    "    level = 'HOT'\n",
    "else:                #more explicityly: if 70000 <= rating\n",
    "    level = 'EXTREME' \n",
    "\n",
    "print(level)"
   ]
  },
  {
   "cell_type": "markdown",
   "metadata": {},
   "source": [
    "With if/elif/else we can implement a control flow like this:\n",
    "![If/elif/else](https://media.geeksforgeeks.org/wp-content/uploads/if-elseif-ladder.jpg)\n",
    "\n",
    "Remember that **INDENTATION** is very important, especially when things start to get messy (an if/elif/else statement is located inside another if/elif/else statement). Let's rewrite the above code\n",
    "\n",
    "## Nested if Statements\n",
    "We _can_ (**but you never should**) write the above case handling as follows:"
   ]
  },
  {
   "cell_type": "code",
   "execution_count": null,
   "metadata": {},
   "outputs": [],
   "source": [
    "rating = float(input('What is your rating in km/h? '))\n",
    "\n",
    "if rating < 20000:\n",
    "    if rating < 5000:  #0 < rating < 5000   \n",
    "        level = 'MILD'\n",
    "    else:              #5000 <= rating < 20000 \n",
    "        level = 'MEDIUM'\n",
    "else:\n",
    "    if rating < 70000: #20000 <= rating < 70000\n",
    "        level = 'HOT'\n",
    "    else:              #70000 <= rating \n",
    "        rating = 'EXTREME'\n",
    "print(level)"
   ]
  }
 ],
 "metadata": {
  "kernelspec": {
   "display_name": "Python 3 (ipykernel)",
   "language": "python",
   "name": "python3"
  },
  "language_info": {
   "codemirror_mode": {
    "name": "ipython",
    "version": 3
   },
   "file_extension": ".py",
   "mimetype": "text/x-python",
   "name": "python",
   "nbconvert_exporter": "python",
   "pygments_lexer": "ipython3",
   "version": "3.9.6"
  }
 },
 "nbformat": 4,
 "nbformat_minor": 4
}
