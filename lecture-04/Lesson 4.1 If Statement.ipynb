{
 "cells": [
  {
   "cell_type": "markdown",
   "metadata": {},
   "source": [
    "# Nested If statements (keywords = if, elif, else)\n",
    "\n",
    "<code>if</code> statements in Python are very simple. We tell the computer to perform alternative actions based on a certain result. \n",
    "\n",
    "Let's take an easy example: \"if A is true, then do B\" -> the computer checks whether statement A is correct. If yes it will perform action B, otherwise it will not perform action B.\n",
    "\n",
    "    if A is True:\n",
    "        do B\n",
    "\n",
    "Let's elaborate more on our example: \"if A is true, then do B, else do C\" -> the computer checks whether statement A is correct. If yes it will perform action B, otherwise it perform action C.\n",
    "\n",
    "    if A is True:\n",
    "        do B\n",
    "    else:\n",
    "        do C\n",
    "\n",
    "How about elif? elif means else if. It works as follows. An if loop can have one if, one else but many elif statements   \n",
    "\n",
    "Our example: we have a supersonic jet. The flying speed (rating) is measured in km/h. The temperature of the jet engine (level) is a categorical variable, which takes values as either MILD, MEDIUM, HOT or EXTREME as follows. The value of jet engine's temperature (level) is dependent on the flying speed (rating) as follows\n",
    "- 0 < rating < 5000         ---> MILD\n",
    "- 5000 <= rating < 20000    ---> MEDIUM\n",
    "- 20000 <= rating < 70000   ---> HOT\n",
    "- 70000 <= rating           ---> EXTREME\n",
    "<br><br>Let's translate that example into Python"
   ]
  },
  {
   "cell_type": "markdown",
   "metadata": {},
   "source": [
    "Recall that <code>input</code> is a Python built-in function that returns a string value. We convert this string into a float number in order to make numeric comparisons"
   ]
  },
  {
   "cell_type": "code",
   "execution_count": 4,
   "metadata": {},
   "outputs": [
    {
     "name": "stdout",
     "output_type": "stream",
     "text": [
      "What is your rating in km/h?5000\n",
      "MEDIUM\n"
     ]
    }
   ],
   "source": [
    "rating = float(input('What is your rating in km/h?'))\n",
    "\n",
    "if rating < 5000: \n",
    "    level = 'MILD'\n",
    "elif rating < 20000: #more explicityly: if 5000 <= rating < 20000\n",
    "    level = 'MEDIUM'\n",
    "elif rating < 70000: #more explicityly: if 20000 <= rating < 70000\n",
    "    level = 'HOT'\n",
    "else:                #more explicityly: if 70000 <= rating\n",
    "    level = 'EXTREME' \n",
    "\n",
    "print(level)"
   ]
  },
  {
   "cell_type": "markdown",
   "metadata": {},
   "source": [
    "<img src = \"if_else.jpg\" style = \"width:550px;height:500px\"/>"
   ]
  },
  {
   "cell_type": "markdown",
   "metadata": {},
   "source": [
    "Remember that **INDENTATION** is very important, especially when things start to get messy (an if/elif/else statement is located inside another if/elif/else statement). Let's rewrite the above code"
   ]
  },
  {
   "cell_type": "code",
   "execution_count": 5,
   "metadata": {},
   "outputs": [
    {
     "name": "stdout",
     "output_type": "stream",
     "text": [
      "What is your rating in km/h? 45000\n",
      "HOT\n"
     ]
    }
   ],
   "source": [
    "rating = float(input('What is your rating in km/h? '))\n",
    "\n",
    "if rating < 20000:\n",
    "    if rating < 5000:  #0 < rating < 5000   \n",
    "        level = 'MILD'\n",
    "    else:              #5000 <= rating < 20000 \n",
    "        level = 'MEDIUM'\n",
    "else:\n",
    "    if rating < 70000: #20000 <= rating < 70000\n",
    "        level = 'HOT'\n",
    "    else:              #70000 <= rating \n",
    "        rating = 'EXTREME'\n",
    "print(level)"
   ]
  },
  {
   "cell_type": "markdown",
   "metadata": {},
   "source": [
    "## Homework\n",
    "\n",
    "Naomi is trying to write a program in Python for her youth club which asks the user to type in their age.  If the user’s age is between 12 and 16, then they are eligible to be members. If they are not in this age range, they are ineligible to be members. Please help her."
   ]
  }
 ],
 "metadata": {
  "kernelspec": {
   "display_name": "Python 3",
   "language": "python",
   "name": "python3"
  },
  "language_info": {
   "codemirror_mode": {
    "name": "ipython",
    "version": 3
   },
   "file_extension": ".py",
   "mimetype": "text/x-python",
   "name": "python",
   "nbconvert_exporter": "python",
   "pygments_lexer": "ipython3",
   "version": "3.8.5"
  }
 },
 "nbformat": 4,
 "nbformat_minor": 1
}
