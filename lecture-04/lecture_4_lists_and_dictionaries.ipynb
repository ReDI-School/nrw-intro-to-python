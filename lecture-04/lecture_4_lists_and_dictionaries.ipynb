{
 "cells": [
  {
   "cell_type": "markdown",
   "metadata": {},
   "source": [
    "Andreas Bollig - Freelance Data Scientist - andreas.bollig@communityredi-school.org"
   ]
  },
  {
   "cell_type": "markdown",
   "metadata": {},
   "source": [
    "# Complex Data Types"
   ]
  },
  {
   "cell_type": "markdown",
   "metadata": {},
   "source": [
    "## Recap: Primitive Data Types"
   ]
  },
  {
   "cell_type": "code",
   "execution_count": null,
   "metadata": {},
   "outputs": [],
   "source": [
    "# Integer\n",
    "some_int: int = 3"
   ]
  },
  {
   "cell_type": "code",
   "execution_count": null,
   "metadata": {},
   "outputs": [],
   "source": [
    "# Floating Point Number\n",
    "some_float: float = 3.1415"
   ]
  },
  {
   "cell_type": "code",
   "execution_count": null,
   "metadata": {},
   "outputs": [],
   "source": [
    "# String\n",
    "some_str: str = \"Hello World!\""
   ]
  },
  {
   "cell_type": "code",
   "execution_count": null,
   "metadata": {},
   "outputs": [],
   "source": [
    "# Boolean\n",
    "some_bool: bool = True"
   ]
  },
  {
   "cell_type": "markdown",
   "metadata": {},
   "source": [
    "## Complex Data Types (built-in)\n",
    "\n",
    "* Lists\n",
    "* Dictionaries\n",
    "* Sets\n",
    "* Tuples"
   ]
  },
  {
   "cell_type": "markdown",
   "metadata": {},
   "source": [
    "## Lists: Ordered Collections of Values"
   ]
  },
  {
   "cell_type": "markdown",
   "metadata": {},
   "source": [
    "### Creating Lists"
   ]
  },
  {
   "cell_type": "code",
   "execution_count": null,
   "metadata": {},
   "outputs": [],
   "source": [
    "# Lists are defined using square brackets\n",
    "# They can contain values of ANY type\n",
    "\n",
    "shopping_list = [\"donuts\", \"muffins\", \"cake\", \"cookies\"]\n",
    "numbers = [10, 10, 2, 30]\n",
    "\n",
    "shopping_list"
   ]
  },
  {
   "cell_type": "code",
   "execution_count": null,
   "metadata": {},
   "outputs": [],
   "source": [
    "# Lists can also be created from other data types using methods like \"split\" on a string\n",
    "\n",
    "additional_items = \"cups,plates,napkins,cutlery\"\n",
    "additional_items_list = additional_items.split(\",\")\n",
    "\n",
    "additional_items_list"
   ]
  },
  {
   "cell_type": "code",
   "execution_count": null,
   "metadata": {},
   "outputs": [],
   "source": [
    "# The reverse of split is join\n",
    "\n",
    "\",\".join(additional_items_list)"
   ]
  },
  {
   "cell_type": "code",
   "execution_count": null,
   "metadata": {},
   "outputs": [],
   "source": [
    "# Create a list from an iterator\n",
    "list(range(5))"
   ]
  },
  {
   "cell_type": "markdown",
   "metadata": {},
   "source": [
    "### Indexing and Slicing"
   ]
  },
  {
   "cell_type": "code",
   "execution_count": null,
   "metadata": {},
   "outputs": [],
   "source": [
    "# Indexing starts at zero; negative indices count from the end of the list\n",
    "\n",
    "print(f\"shopping_list = {shopping_list}\\n\")\n",
    "\n",
    "print(f\"Item at index 0: {shopping_list[0]}\")\n",
    "print(f\"Item at index 1: {shopping_list[1]}\")\n",
    "print(f\"Item at index -1: {shopping_list[-1]}\")\n",
    "print(f\"Item at index -2: {shopping_list[-2]}\")"
   ]
  },
  {
   "cell_type": "code",
   "execution_count": null,
   "metadata": {},
   "outputs": [],
   "source": [
    "# 1:3 means 1, 2 (zero-indexed, last index not included)\n",
    "print(f\"Second and third item: {shopping_list[1:3]}\")"
   ]
  },
  {
   "cell_type": "code",
   "execution_count": null,
   "metadata": {},
   "outputs": [],
   "source": [
    "# 2: means 2, 3, ...\n",
    "print(f\"Third item and all items after that: {shopping_list[2:]}\")"
   ]
  },
  {
   "cell_type": "code",
   "execution_count": null,
   "metadata": {},
   "outputs": [],
   "source": [
    "# :3 means 0, 1, 2\n",
    "print(f\"All items before the 4th one: {shopping_list[:3]}\")"
   ]
  },
  {
   "cell_type": "code",
   "execution_count": null,
   "metadata": {},
   "outputs": [],
   "source": [
    "# List of lists\n",
    "\n",
    "list_of_lists = [[1, 2, 3], [4, 5, 6]]\n",
    "\n",
    "list_of_lists[0][2]"
   ]
  },
  {
   "cell_type": "markdown",
   "metadata": {},
   "source": [
    "### Adding, Removing, and Changing Items"
   ]
  },
  {
   "cell_type": "code",
   "execution_count": null,
   "metadata": {},
   "outputs": [],
   "source": [
    "# Concatenate lists\n",
    "\n",
    "complete_list = shopping_list + additional_items_list\n",
    "\n",
    "complete_list"
   ]
  },
  {
   "cell_type": "code",
   "execution_count": null,
   "metadata": {},
   "outputs": [],
   "source": [
    "# Add new items to the end of the list via \"append\"\n",
    "\n",
    "complete_list.append(\"lemonade\")\n",
    "\n",
    "complete_list"
   ]
  },
  {
   "cell_type": "code",
   "execution_count": null,
   "metadata": {},
   "outputs": [],
   "source": [
    "# Insert items anywhere in the list\n",
    "\n",
    "complete_list.insert(3, \"candles\")\n",
    "\n",
    "complete_list"
   ]
  },
  {
   "cell_type": "code",
   "execution_count": null,
   "metadata": {},
   "outputs": [],
   "source": [
    "# You can change items in the list\n",
    "\n",
    "complete_list[2] = \"carrot cake\"\n",
    "\n",
    "complete_list"
   ]
  },
  {
   "cell_type": "code",
   "execution_count": null,
   "metadata": {},
   "outputs": [],
   "source": [
    "complete_list.remove(\"donuts\")\n",
    "\n",
    "complete_list"
   ]
  },
  {
   "cell_type": "code",
   "execution_count": null,
   "metadata": {},
   "outputs": [],
   "source": [
    "del complete_list[6]  # removes napkins\n",
    "\n",
    "complete_list"
   ]
  },
  {
   "cell_type": "markdown",
   "metadata": {},
   "source": [
    "### Other List Operations"
   ]
  },
  {
   "cell_type": "code",
   "execution_count": null,
   "metadata": {},
   "outputs": [],
   "source": [
    "# Get the length of the list\n",
    "\n",
    "len(complete_list)"
   ]
  },
  {
   "cell_type": "code",
   "execution_count": null,
   "metadata": {},
   "outputs": [],
   "source": [
    "# Test if an item is in a list or not -> result is a boolean\n",
    "\n",
    "print(\"Are plates in the list?\")\n",
    "\n",
    "\"plates\" in complete_list"
   ]
  },
  {
   "cell_type": "code",
   "execution_count": null,
   "metadata": {},
   "outputs": [],
   "source": [
    "print(\"Are cookies NOT in the list?\", \"cookies\" not in complete_list)"
   ]
  },
  {
   "cell_type": "markdown",
   "metadata": {},
   "source": [
    "### Sorting"
   ]
  },
  {
   "cell_type": "code",
   "execution_count": null,
   "metadata": {},
   "outputs": [],
   "source": [
    "# in place\n",
    "\n",
    "complete_list.sort()\n",
    "print(f\"Sorted list: {complete_list}\")\n",
    "\n",
    "complete_list.sort(reverse=True)\n",
    "print(f\"List sorted in reverse: {complete_list}\")"
   ]
  },
  {
   "cell_type": "code",
   "execution_count": null,
   "metadata": {},
   "outputs": [],
   "source": [
    "# create new sorted list (also works with reverse=True)\n",
    "\n",
    "unsorted_list = [5, 3, 8, 1, 2]\n",
    "\n",
    "sorted_list = sorted(unsorted_list)\n",
    "\n",
    "print(f\"unsorted_list: {unsorted_list}\")\n",
    "print(f\"sorted_list: {sorted_list}\")"
   ]
  },
  {
   "cell_type": "markdown",
   "metadata": {},
   "source": [
    "### Min, Max, Sum"
   ]
  },
  {
   "cell_type": "code",
   "execution_count": null,
   "metadata": {},
   "outputs": [],
   "source": [
    "some_numbers = [5, 3, 8, 1, 2]\n",
    "\n",
    "print(f\"Minimum: {min(some_numbers)}\")\n",
    "print(f\"Maximum: {max(some_numbers)}\")\n",
    "print(f\"Sum: {sum(some_numbers)}\")"
   ]
  },
  {
   "cell_type": "markdown",
   "metadata": {},
   "source": [
    "## Dictionaries: (Unordered) Key-Value Pairs"
   ]
  },
  {
   "cell_type": "markdown",
   "metadata": {},
   "source": [
    "### Creating Dictionaries"
   ]
  },
  {
   "cell_type": "code",
   "execution_count": null,
   "metadata": {},
   "outputs": [],
   "source": [
    "# Dictionary literal\n",
    "\n",
    "{\"donuts\": 10, \"muffins\": 10, \"cake\": 2}"
   ]
  },
  {
   "cell_type": "code",
   "execution_count": null,
   "metadata": {},
   "outputs": [],
   "source": [
    "# dict function with list of lists as parameter (or tuple of tuples, etc.)\n",
    "\n",
    "dict([[\"donuts\", 10], [\"muffins\", 10], [\"cake\", 2]])"
   ]
  },
  {
   "cell_type": "code",
   "execution_count": null,
   "metadata": {},
   "outputs": [],
   "source": [
    "# dict function with key-value pairs as function parameters\n",
    "\n",
    "dict(donuts=10, muffins=10, cake=2)"
   ]
  },
  {
   "cell_type": "code",
   "execution_count": null,
   "metadata": {},
   "outputs": [],
   "source": [
    "# Building dictionaries entry by entry\n",
    "\n",
    "my_dict = {}\n",
    "\n",
    "my_dict[\"donuts\"] = 10\n",
    "my_dict[\"muffins\"] = 10\n",
    "my_dict[\"cake\"] = 2\n",
    "\n",
    "my_dict"
   ]
  },
  {
   "cell_type": "markdown",
   "metadata": {},
   "source": [
    "### Accessing Values and Iterating over Dictionaries"
   ]
  },
  {
   "cell_type": "code",
   "execution_count": null,
   "metadata": {},
   "outputs": [],
   "source": [
    "# simple lookup\n",
    "\n",
    "my_dict[\"donuts\"]"
   ]
  },
  {
   "cell_type": "code",
   "execution_count": null,
   "metadata": {},
   "outputs": [],
   "source": [
    "# If you are not sure whether a key is in the dictionary, provide a default value\n",
    "\n",
    "my_dict.get(\"cookies\", 0)"
   ]
  },
  {
   "cell_type": "code",
   "execution_count": null,
   "metadata": {},
   "outputs": [],
   "source": [
    "# Otherwise you get an error\n",
    "\n",
    "# my_dict[\"cookies\"]\n",
    "\n",
    "\n",
    "# Result would be:\n",
    "\n",
    "# ---------------------------------------------------------------------------\n",
    "# KeyError                                  Traceback (most recent call last)\n",
    "# <ipython-input-53-1d4f44725099> in <module>\n",
    "#       1 # Otherwise you get an error\n",
    "#       2\n",
    "# ----> 3 my_dict[\"cookies\"]\n",
    "\n",
    "# KeyError: 'cookies'"
   ]
  },
  {
   "cell_type": "code",
   "execution_count": null,
   "metadata": {},
   "outputs": [],
   "source": [
    "# Which you could also catch\n",
    "try:\n",
    "    print(\"cookies: \", my_dict[\"cookies\"])\n",
    "except KeyError:\n",
    "    print(\"cookies: \", 0)"
   ]
  },
  {
   "cell_type": "code",
   "execution_count": null,
   "metadata": {},
   "outputs": [],
   "source": [
    "# check if key is in dictionary\n",
    "\"muffins\" in my_dict"
   ]
  },
  {
   "cell_type": "code",
   "execution_count": null,
   "metadata": {},
   "outputs": [],
   "source": [
    "\"cookies\" in my_dict"
   ]
  },
  {
   "cell_type": "code",
   "execution_count": null,
   "metadata": {},
   "outputs": [],
   "source": [
    "# Useful in combination with if/else\n",
    "if \"cookies\" in my_dict:\n",
    "    print(\"Yay!\")\n",
    "else:\n",
    "    print(\"Oh no :(\")"
   ]
  },
  {
   "cell_type": "code",
   "execution_count": null,
   "metadata": {},
   "outputs": [],
   "source": [
    "# Dictionary keys\n",
    "my_dict.keys()"
   ]
  },
  {
   "cell_type": "code",
   "execution_count": null,
   "metadata": {},
   "outputs": [],
   "source": [
    "# Another way to get a list of dictionary keys (too many options... :D)\n",
    "\n",
    "list(my_dict)"
   ]
  },
  {
   "cell_type": "code",
   "execution_count": null,
   "metadata": {},
   "outputs": [],
   "source": [
    "# Dictionary values\n",
    "\n",
    "my_dict.values()"
   ]
  },
  {
   "cell_type": "code",
   "execution_count": null,
   "metadata": {},
   "outputs": [],
   "source": [
    "# Dictionary items\n",
    "\n",
    "my_dict.items()"
   ]
  },
  {
   "cell_type": "markdown",
   "metadata": {},
   "source": [
    "### Valid Keys and Values"
   ]
  },
  {
   "cell_type": "code",
   "execution_count": null,
   "metadata": {},
   "outputs": [],
   "source": [
    "# Valid keys:\n",
    "# Everything that is immutable (can't be changed in place): strings, numbers, tuples of strings and numbers, ...\n",
    "\n",
    "{\"joe\": \"hello\", 3: \"or more\"}"
   ]
  },
  {
   "cell_type": "code",
   "execution_count": null,
   "metadata": {},
   "outputs": [],
   "source": [
    "# Valid values: everything\n",
    "\n",
    "{\"key1\": [\"entry1\", \"entry2\"], \"key2\": 5}"
   ]
  },
  {
   "cell_type": "markdown",
   "metadata": {},
   "source": [
    "### Other Dictionary Operations"
   ]
  },
  {
   "cell_type": "code",
   "execution_count": null,
   "metadata": {},
   "outputs": [],
   "source": [
    "# Delete key-value pair\n",
    "\n",
    "print(my_dict)\n",
    "\n",
    "del my_dict[\"donuts\"]\n",
    "\n",
    "print(my_dict)"
   ]
  },
  {
   "cell_type": "code",
   "execution_count": null,
   "metadata": {},
   "outputs": [],
   "source": [
    "# Merge dictionaries\n",
    "\n",
    "my_other_dict = {\"donuts\": 10}\n",
    "\n",
    "{**my_dict, **my_other_dict}"
   ]
  },
  {
   "cell_type": "code",
   "execution_count": null,
   "metadata": {},
   "outputs": [],
   "source": [
    "# Number of key-value pairs in dictionary\n",
    "\n",
    "len(my_dict)"
   ]
  },
  {
   "cell_type": "markdown",
   "metadata": {},
   "source": [
    "## Exercises"
   ]
  },
  {
   "cell_type": "code",
   "execution_count": null,
   "metadata": {},
   "outputs": [],
   "source": [
    "# Exercise 1\n",
    "\n",
    "# 1) Take the first two items from the list of things you like,\n",
    "# 2) add 'Python' to the list,\n",
    "# 3) sort the list and\n",
    "# 4) print it\n",
    "\n",
    "print(sorted(things_i_like[:2] + [\"Python\"]))"
   ]
  },
  {
   "cell_type": "code",
   "execution_count": null,
   "metadata": {},
   "outputs": [],
   "source": [
    "# Exercise 2\n",
    "\n",
    "# Create a dictionary containing the employee information of an imaginary company.\n",
    "# It should contain the following three things: the name of the employee, his/her role,\n",
    "# as well as the year, the employee joined the company.\n",
    "\n",
    "employee1 = {\"name\": \"Michael Scott\", \"role\": \"Boss\", \"joined\": 2005}\n",
    "\n",
    "employee1"
   ]
  },
  {
   "cell_type": "code",
   "execution_count": null,
   "metadata": {},
   "outputs": [],
   "source": [
    "# Exercise 3\n",
    "\n",
    "# Create two more dictionaries with employee info. Then create a list of the three dictionaries.\n",
    "# Loop over the list and print the following text for each employee:\n",
    "# \"<name> is a <role> and joined the company in <year>\"\n",
    "\n",
    "employee2 = {\"name\": \"Dwight Schrute\", \"role\": \"Sales Person\", \"joined\": 2006}\n",
    "employee3 = {\"name\": \"Pam Beesly\", \"role\": \"Secretary\", \"joined\": 2007}\n",
    "\n",
    "employees = [employee1, employee2, employee3]\n",
    "\n",
    "employees"
   ]
  },
  {
   "cell_type": "code",
   "execution_count": null,
   "metadata": {},
   "outputs": [],
   "source": [
    "for employee in employees:\n",
    "    print(\n",
    "        f\"{employee['name']} is a {employee['role']} and joined the company in {employee['joined']}.\"\n",
    "    )"
   ]
  },
  {
   "cell_type": "markdown",
   "metadata": {},
   "source": [
    "Exercise 4 (Bonus)\n",
    "\n",
    "Read up on the `zip` function at [here](https://docs.python.org/3/library/functions.html#zip). After that, create the dictionary\n",
    "\n",
    "{\"donuts\": 10, \"muffins\": 10, \"cake\": 2}\n",
    "\n",
    "from the two given lists below, using the `zip` function.\n"
   ]
  },
  {
   "cell_type": "code",
   "execution_count": null,
   "metadata": {},
   "outputs": [],
   "source": [
    "food_items = [\"donuts\", \"muffins\", \"cake\"]\n",
    "food_counts = [10, 10, 2]\n",
    "\n",
    "food_dict = dict(zip(food_items, food_counts))\n",
    "\n",
    "food_dict"
   ]
  },
  {
   "cell_type": "markdown",
   "metadata": {},
   "source": [
    "# Homework\n",
    "\n",
    "* If you didn't finish all exercises in the class, do the remaining ones as homework\n",
    "* Review [section 5.1 \"More on Lists\"](https://docs.python.org/3/tutorial/datastructures.html#more-on-lists) in the official Python tutorial and experiment with the methods that lists provide out of the box\n",
    "* Review [\"Mapping Types - dict\"](https://docs.python.org/3/library/stdtypes.html#mapping-types-dict) in the official Python documentation and experiment with the methods that dictionaries provide out of the box. Please be aware that some functionality of dictionaries has only been added in the most recent versions of Python and might not be available in your version of Python. To view the documentation of your version of Python, select the version at the top of the linked page. You can find out your version of Python by running `python --version` on the command line."
   ]
  }
 ],
 "metadata": {
  "kernelspec": {
   "display_name": "Python 3 (ipykernel)",
   "language": "python",
   "name": "python3"
  },
  "language_info": {
   "codemirror_mode": {
    "name": "ipython",
    "version": 3
   },
   "file_extension": ".py",
   "mimetype": "text/x-python",
   "name": "python",
   "nbconvert_exporter": "python",
   "pygments_lexer": "ipython3",
   "version": "3.9.6"
  }
 },
 "nbformat": 4,
 "nbformat_minor": 4
}
