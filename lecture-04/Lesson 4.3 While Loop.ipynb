{
 "cells": [
  {
   "cell_type": "markdown",
   "metadata": {
    "collapsed": true
   },
   "source": [
    "# while Loops\n",
    "\n",
    "The <code>while</code> loop in Python is one of most general ways to perform iteration. A <code>while</code> statement will repeatedly execute the body code as long as the <code>while</code> condition is true. The term 'loop' means that the body code is looped through over and over again until the condition no longer holds True.\n",
    "\n",
    "The general format of a while loop is:\n",
    "\n",
    "    while condition is True:\n",
    "        execute body code  "
   ]
  },
  {
   "attachments": {
    "If%20%20Statement.png": {
     "image/png": "[encoded data removed]"
    }
   },
   "cell_type": "markdown",
   "metadata": {},
   "source": [
    "![If%20%20Statement.png](attachment:If%20%20Statement.png)"
   ]
  },
  {
   "cell_type": "markdown",
   "metadata": {},
   "source": [
    "## Example 1: print all natural even numbers less than 17"
   ]
  },
  {
   "cell_type": "code",
   "execution_count": 2,
   "metadata": {},
   "outputs": [
    {
     "name": "stdout",
     "output_type": "stream",
     "text": [
      "The current even number is :  0\n",
      "The current even number is :  2\n",
      "The current even number is :  4\n",
      "The current even number is :  6\n",
      "The current even number is :  8\n",
      "The current even number is :  10\n",
      "The current even number is :  12\n",
      "The current even number is :  14\n",
      "The current even number is :  16\n",
      "Out of the while loop\n"
     ]
    }
   ],
   "source": [
    "x = 0\n",
    "while x < 17:\n",
    "    print('The current even number is : ', x)\n",
    "    x = x + 2\n",
    "print('Out of the while loop')"
   ]
  },
  {
   "cell_type": "markdown",
   "metadata": {},
   "source": [
    "## break, continue, pass\n",
    "\n",
    "Three key words in loops are <code>break</code>, <code>continue</code>, and <code>pass</code>. Their meanings are\n",
    "\n",
    "    break: breaks out of the current closest enclosing loop.\n",
    "    continue: Goes to the top of the closest enclosing loop (you can forget it for now)\n",
    "    pass: does nothing at all (you can forget it for now)\n",
    "\n",
    "<code>break</code> statements appear especially often inside an <code>if</code> statement to execute a break action based on a condition."
   ]
  },
  {
   "cell_type": "markdown",
   "metadata": {},
   "source": [
    "## Example 2: print all natural even numbers less than 300. But we will stop if that number has a remainder of 9 when divided by 11"
   ]
  },
  {
   "cell_type": "code",
   "execution_count": 11,
   "metadata": {},
   "outputs": [
    {
     "name": "stdout",
     "output_type": "stream",
     "text": [
      "The current even number is :  4\n",
      "The current even number is :  6\n",
      "The current even number is :  8\n",
      "The current even number is :  10\n",
      "The current even number is :  12\n",
      "The current even number is :  14\n",
      "The current even number is :  16\n",
      "The current even number is :  18\n",
      "The current even number is :  20\n",
      "Out of the while loop\n"
     ]
    }
   ],
   "source": [
    "x = 4 \n",
    "while x < 300:\n",
    "    print('The current even number is : ', x)\n",
    "    if x % 11 != 9:\n",
    "        x = x + 2 \n",
    "    else:\n",
    "        break\n",
    "print('Out of the while loop')"
   ]
  },
  {
   "cell_type": "markdown",
   "metadata": {},
   "source": [
    "## Homework: get all the Fibonacci series between 0 to 50\n",
    "\n",
    "The Fibonacci Sequence is the series of numbers :\n",
    "0, 1, 1, 2, 3, 5, 8, 13, 21, .... <br>\n",
    "Every next number is calculated by adding up the two numbers before it. <br>\n",
    "Expected Output : 1 1 2 3 5 8 13 21 34 <br>\n",
    "<br>\n",
    "Hint: in previous examples we have only one variable x. For this problem, you will need two variables"
   ]
  }
 ],
 "metadata": {
  "kernelspec": {
   "display_name": "Python 3",
   "language": "python",
   "name": "python3"
  },
  "language_info": {
   "codemirror_mode": {
    "name": "ipython",
    "version": 3
   },
   "file_extension": ".py",
   "mimetype": "text/x-python",
   "name": "python",
   "nbconvert_exporter": "python",
   "pygments_lexer": "ipython3",
   "version": "3.8.5"
  }
 },
 "nbformat": 4,
 "nbformat_minor": 1
}
