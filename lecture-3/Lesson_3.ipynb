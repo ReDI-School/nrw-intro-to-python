{
 "metadata": {
  "language_info": {
   "codemirror_mode": {
    "name": "ipython",
    "version": 3
   },
   "file_extension": ".py",
   "mimetype": "text/x-python",
   "name": "python",
   "nbconvert_exporter": "python",
   "pygments_lexer": "ipython3",
   "version": "3.8.5-final"
  },
  "orig_nbformat": 2,
  "kernelspec": {
   "name": "Python 3.8.5 32-bit",
   "display_name": "Python 3.8.5 32-bit",
   "metadata": {
    "interpreter": {
     "hash": "72f90aae225b33e48d7a8501261e124c854c63d7c499cae684ff05072378f77c"
    }
   }
  }
 },
 "nbformat": 4,
 "nbformat_minor": 2,
 "cells": [
  {
   "source": [
    "# Lesson 3\n",
    "\n",
    "During the first two lessons you have familiarized yourself with the language and saw the first basic data types. Today's class is all about editors, comments, branching and lists!\n",
    "\n",
    "## Editors\n",
    "\n",
    "There is an abundance of different editors available to work with Python. During the first two lessons you already saw some of them being used. Today, we'll go into a bit more detail and examine IDLE, the built-in editor, Visual Studio Code, and PyCharm. While we are working with Jupyter Notebooks, which are quite popular in data sciences, they are not always easy to work with. And of course you would not develop an actual program within a notebook.\n",
    "\n",
    "### IDLE\n",
    "\n",
    "The acronym IDLE stands for `Integrated Development and Learning Environment`, although some believe it was named after Eric Idle of Monty Python fame. IDLE is developed entirely in Python, so there really is no need to install any additional components.\n",
    "\n",
    "As far as the editing experience goes, IDLE is really bare-bones and only contains the minimum needed to start coding. Compared to the other development environments it leaves a lot to be desired. However, it is easily accessible and does not require any setup to be done.  \n",
    "![First start of IDLE](./assets/Idle.png)  \n",
    "\n",
    "The first start of IDLE places you in the interactive Python shell - you can start running commands and scripts immediately. By pressing Control+N (Apple: Command+N) you can open a new editor window. In the editor window you would develop longer pieces of code like libraries or complex tools.  \n",
    "![IDLE editor](./assets/IdleEditor.png)  \n",
    "IDLE also includes a debugger. Debuggers let you examine the runtime environment during code execution. We will see this in a much later lesson, since debugging is something slightly more advanced. While tools like PyCharm and Code are easier to use while debugging, IDLE is good enough.\n",
    "\n",
    "In addition to a debugger you also get what is called Calltips (other IDEs call this code completion, IntelliSense, ...) - interactive tips how to use a given method, including the first line of the docstring of this method.\n",
    "\n",
    "### Visual Studio Code\n",
    "\n",
    "Visual Studio Code is an open source, cross-platform editor based on the Electron framework developed by Microsoft and the open source community. Being open source like Python, you could compile it from source, or use one of the many installation packages for your platform.  \n",
    "![Downloading Visual Studio Code](./assets/Code.png)  \n",
    "Upon the first start of VS Code, you cannot do anything with Python - yet. VS Code is extensible through downloading extensions for the languages you would like to develop in. So in addition to Python and VS Code you would also need to enable the Python extension.  \n",
    "![Extending Visual Studio Code](./assets/CodeExtension.png)  \n",
    "To use the editor with Python, either create an empty file and select the language mode `Python` or simply open any file with the `py` or `ipynb` extension. This automatically starts the Python extension and even a terminal running Python if you want. The extension can be tweaked and configured to your liking, with over 160 individual settings. The defaults are usually adequate, but especially when collaborating with peers you could setup the extension for all your project members, as these settings can be included alongside your code.  \n",
    "![Using Python](./assets/ChangingLanguageMode.png)  \n",
    "Development can now be done in the scripting pane which can be moved and docked at a position you are comfortable with. The editing experience includes automatic code completion with IntelliSense. Through contextual pop-ups you can discover interactively how methods can be used, which properties an object contains and so on. Running single lines of code in the terminal the key combination `Shift+Enter` can be used. This helps you execute your code line by line, for example during a lengthy debug session.  \n",
    "![IntelliSense](./assets/IntelliSense.png) \n",
    "\n",
    "### PyCharm\n",
    "\n",
    "PyCharm is a popular closed source editor by JetBrains, a leader in development tools. Like all of their tooling it is nicely polished, super customizable, extensible and free for individual developers. Installation packages are available for different platforms.  \n",
    "![PyCharm download](./assets/PyCharm.png)  \n",
    "The code environment itself is geared towards developers, with code lense and code completion, debugging tools and its modularity. One of the greatest feature about PyCharm is its refactoring capabilities. Refactoring is something that will come up at some point in the life of a developer. Your code base has grown, bits and pieces are copied and pasted rather than extracted into a function. The levels of nesting are getting deeper. The module has grown too large purely in lines of code. All of this can be remedied with clever refactoring. PyCharm can help extract code into a method and replace all references to it by the newly created method for example.  \n",
    "![PyCharm editor](./assets/PyCharmEditor.png)  \n",
    "Moreover, PyCharm contains a linter like VS Code and is capable of displaying syntax errors as well as PEP violations. In the previous screenshot for example, the last line of code should be a blank line. PyCharm of course also boasts an internal console to test pieces of code, access to source code management systems and much more. Support for Jupyter notebooks however is only available in the non-free editions.\n",
    "\n",
    "## Branching\n",
    "\n",
    "Often in your code you will encounter situations that require you to decide: Do I need execute this or that bit of code? These decisions are connected to one or more conditions. Once a condition or a set of conditions is satisfied, a certain branch of your code is executed - hence the term \"branching\".  \n",
    "\n",
    "![Fork in the road](./assets/ForkInRoad.jpg) (Original image [here](https://images.unsplash.com/photo-1465513460455-046f1c24be48))\n",
    "\n",
    "In Python, there are three basic branching statements which you will find in other languages as well: `if`, `elif` and `else`. Both `if` and `elif` expect one or more conditions to be evaluated before a code branch is executed, whereas `else` can optionally be executed if none of the previous conditions is met.  \n",
    "\n",
    "### Operators  \n",
    "\n",
    "In order to work with branching statements, we first of all have to have a look at comparison operators and logical operators.\n",
    "\n",
    "#### Comparisons\n",
    "\n",
    "Comparisons are used to compare values or expressions, as long as they are actually comparable. The result of such a comparison is a `Boolean` datatype. Incidentally, our branching conditions use `Boolean` datatypes to check if a condition is met 👍  "
   ],
   "cell_type": "markdown",
   "metadata": {}
  },
  {
   "cell_type": "code",
   "execution_count": null,
   "metadata": {},
   "outputs": [],
   "source": [
    "# Greater Than\n",
    "print('Greater Than: ' + str(3 > 4))\n",
    "# Greater or Equal\n",
    "print('Greater or Equal: ' + str(4 >= 4))\n",
    "# Less Than\n",
    "print('Less Than: ' + str(3.14 < 6.02214076e23))\n",
    "# Less or Equal\n",
    "print('Less or Equal: ' + str(4 <= pow(2,2)))\n",
    "# Not equal\n",
    "print('Not equal: ' + str(3 != 3.14))\n",
    "# Equal\n",
    "print('Equal: ' + str(1 + 1 == 2))"
   ]
  },
  {
   "source": [
    "A special type of comparison is `is` and `is not`. Using these comparisons implies that you want to compare if two references point the same object in memory. Using the `==` operator instead compares two objects for equality, using their own comparison methods."
   ],
   "cell_type": "markdown",
   "metadata": {}
  },
  {
   "cell_type": "code",
   "execution_count": null,
   "metadata": {},
   "outputs": [],
   "source": [
    "# Object identity\n",
    "firstRefType = datetime.date.today()\n",
    "secondRefType = datetime.date.today()\n",
    "print('Equality of reference type: ' + str(firstRefType == secondRefType))\n",
    "print('Identity of reference type: ' + str(firstRefType is secondRefType))"
   ]
  },
  {
   "source": [
    "#### Logical\n",
    "\n",
    "Logical operators are used to combine conditional statements and follow the rules of Boolean algebra. We often use logical operators in branching statements to check for more than one condition in the same statement. This technique also spares you from endlessly nesting branching statements that are hard to read, maintain and troubleshoot."
   ],
   "cell_type": "markdown",
   "metadata": {}
  },
  {
   "cell_type": "code",
   "execution_count": null,
   "metadata": {},
   "outputs": [],
   "source": [
    "# Logical AND - only true if all conditions are true\n",
    "# TRUE and TRUE\n",
    "print(3 > 0 and 7 < 10)\n",
    "\n",
    "# FALSE and TRUE\n",
    "print(3 == 0 and 7 < 10)\n",
    "\n",
    "# FALSE and FALSE\n",
    "print(3 < 0 and 7 > 10)"
   ]
  },
  {
   "cell_type": "code",
   "execution_count": null,
   "metadata": {},
   "outputs": [],
   "source": [
    "# Logical OR - only true if at least one condition is true\n",
    "# TRUE or TRUE\n",
    "print(3 > 0 or 7 < 10)\n",
    "\n",
    "# FALSE or TRUE\n",
    "print(3 == 0 or 7 < 10)\n",
    "\n",
    "# FALSE or FALSE\n",
    "print(3 < 0 or 7 > 10)"
   ]
  },
  {
   "cell_type": "code",
   "execution_count": null,
   "metadata": {},
   "outputs": [],
   "source": [
    "# Logical NOT to negate a condition\n",
    "print(not True)\n",
    "\n",
    "# Useful for things like\n",
    "number = input('Enter your lucky number...')\n",
    "print(not number.isnumeric())"
   ]
  },
  {
   "source": [
    "### Single `if` statement\n",
    "\n",
    "Now that we know the most important operators, we can examine the following example. We branch off in our code only on Mondays. The condition that is evaluated in this statement is `now.weekday() == 0`. With the current timestamp stored in the variable `now` we access the `weekday` method to find out which day of the week it is. By default, the week starts with Monday as the element at index 0.\n",
    "\n",
    "If the condition is not met, this branch is not executed. The code after our branch is always executed, regardless of the evaluation of the condition."
   ],
   "cell_type": "markdown",
   "metadata": {}
  },
  {
   "cell_type": "code",
   "execution_count": null,
   "metadata": {},
   "outputs": [],
   "source": [
    "import datetime\n",
    "now = datetime.datetime.now()\n",
    "\n",
    "if now.weekday() == 0:\n",
    "    print(\"What good are Mondays \\N{crying face}\")\n",
    "\n",
    "print(\"Everyone loves \" + now.strftime('%A'))"
   ]
  },
  {
   "source": [
    "In order for these branches to work properly, it is imperative that you use indentation and that you apply consistent indents in your code. The previous example uses four space characters to indent the line `print(\"What good are Mondays \\N{crying face}\")`. This follows the recommendations layed out in [PEP8](https://pep8.org). What happens if we forget about the indentation?"
   ],
   "cell_type": "markdown",
   "metadata": {}
  },
  {
   "cell_type": "code",
   "execution_count": null,
   "metadata": {},
   "outputs": [],
   "source": [
    "import datetime\n",
    "now = datetime.datetime.now()\n",
    "\n",
    "if now.weekday() == 0:\n",
    "print(\"What good are Mondays \\N{crying face}\")\n",
    "\n",
    "print(\"Everyone loves \" + now.strftime('%A'))"
   ]
  },
  {
   "source": [
    "As you would expect, an error occurs. Mixing different whitespace characters such as tabs and spaces in the same code file will also lead to errors. As a general rule of thumb, just stick to spaces instead of tabs for indentation. This advice is also viable for countless other programming languages!\n",
    "\n",
    "### Single condition with `else` branch  \n",
    "\n",
    "An `else` branch could have also been used to execute the rest of the previous code sample. Everytime the condition of the `if` statement is not met, the `else` branch is executed."
   ],
   "cell_type": "markdown",
   "metadata": {}
  },
  {
   "cell_type": "code",
   "execution_count": null,
   "metadata": {},
   "outputs": [],
   "source": [
    "import random\n",
    "\n",
    "rnd = random.randint(0, 100)\n",
    "\n",
    "if rnd % 2 == 0:\n",
    "    print(str(rnd) + \" is even\")\n",
    "else:\n",
    "    print(str(rnd) + \" is odd\")"
   ]
  },
  {
   "source": [
    "### Multiple conditions with `elif`\n",
    "\n",
    "In order to test for multiple conditions, the `elif` statement is useful as well. The next sample reads user input, checks the value that is input, and prints a message. Note that once any condition is met, the other conditions will not be evaluated."
   ],
   "cell_type": "markdown",
   "metadata": {}
  },
  {
   "cell_type": "code",
   "execution_count": null,
   "metadata": {},
   "outputs": [],
   "source": [
    "value = input('How old are you?')\n",
    "\n",
    "if not value.isnumeric():\n",
    "    print(value + ' is not numeric :(')\n",
    "elif value.isnumeric() and int(value) <=30 and int(value) >= 20:\n",
    "    print('You are between 20 and 30 years old.')\n",
    "elif value.isnumeric() and int(value) >30 and int(value) <=55:\n",
    "    print('You are between 31 and 55 years old.')\n",
    "elif value.isnumeric() and int(value) >55 and int(value) <=67:\n",
    "    print('You are between 56 and 67 years old.')\n",
    "else:\n",
    "    print('You are either younger than 20 or older than 67.')"
   ]
  },
  {
   "source": [
    "### Ternary operator\n",
    "\n",
    "A simple `if - else` statement can be simplified even more, using the ternary operator. Often this also increases the readability of your code. While other programming languages often use `?` as their ternary operator, Python uses `if` as well, as seen in the following example. Notice how the `if` branch is placed before the statement itself.\n",
    "\n"
   ],
   "cell_type": "markdown",
   "metadata": {}
  },
  {
   "cell_type": "code",
   "execution_count": null,
   "metadata": {},
   "outputs": [],
   "source": [
    "import random\n",
    "\n",
    "rnd = random.randint(0, 100)\n",
    "\n",
    "result = str(rnd) + \" is even\" if rnd % 2 == 0  else str(rnd) + \" is odd\"\n",
    "print(result)\n",
    "\n",
    "# Depending on what you are checking, there is an even shorter ternary operation using the `or` operator.\n",
    "output = None\n",
    "msg = output or \"No data returned\"\n",
    "print(msg)"
   ]
  },
  {
   "source": [
    "#### Nested branching\n",
    "\n",
    "There may come a time when the complexity of your code increases. When this happens, additional levels of nesting may be necessary. By the way: Nesting depth is one of the metrics for good code. As a general recommendation, steer away from excessive nesting - your colleagues will thank you!\n",
    "\n",
    "With nested branching, indentation gets even more crucial. Through proper indentation the nesting level becomes immediately apparent. In the following example, we simply want to check if the current day is the twelveth of the month, that the hour is at least nineteen and that the minute is greater or equal to zero. This can easily be done in a single statement. Unfortunately, and this is all too human, we do not see the easier solution right off the bat."
   ],
   "cell_type": "markdown",
   "metadata": {}
  },
  {
   "cell_type": "code",
   "execution_count": null,
   "metadata": {},
   "outputs": [],
   "source": [
    "import datetime\n",
    "\n",
    "now = datetime.datetime.now()\n",
    "\n",
    "if now.day == 12:\n",
    "    print(now.day)\n",
    "    if now.hour >= 19:\n",
    "        print(now.hour)\n",
    "        if now.minute >= 0:\n",
    "            print(now.minute)\n",
    "            print('All true, but this is so ugly')\n",
    "        print('After innermost if')\n",
    "    print('After middle if')\n",
    "print('After all the ifs')"
   ]
  },
  {
   "source": [
    "Now by carefully gathering the data necessary and intelligently designing our condition, we can condense the code quite drastically. In the next code sample, we achieve this by building the object we want to compare our current date with beforehand. The constructor of the datetime class can take parameters, which is precisely what we can use to generate our time stamp.  \n",
    "\n",
    "The method strftime (quite literally string-formatted time) is used to format the date as we would like. You can review all format options at your leisure [here](https://docs.python.org/3/library/datetime.html#strftime-and-strptime-format-codes)."
   ],
   "cell_type": "markdown",
   "metadata": {}
  },
  {
   "cell_type": "code",
   "execution_count": null,
   "metadata": {},
   "outputs": [],
   "source": [
    "import datetime\n",
    "\n",
    "now = datetime.datetime.now()\n",
    "compareTimestamp = datetime.datetime(2020, 10, 12, 19, 0)\n",
    "\n",
    "if now >= compareTimestamp:\n",
    "    print('It is some time after' + compareTimestamp.strftime('%Y-%m-%d %H:%M-%S'))"
   ]
  },
  {
   "source": [
    "## Loops and loop statements\n",
    "\n",
    "When we check data for certain conditions, we are usually processing larger collections of items. You will see how to process those collections, also known as lists, in the upcoming lesson. Today, we will start with a loop that is often used while evaluating statements. This is the `while` loop.  \n",
    "\n",
    "The good old while loop is written thusly: \n",
    "```code\n",
    "while_stmt ::=  \"while\" assignment_expression \":\" suite\n",
    "                [\"else\" \":\" suite]\n",
    "```  \n",
    "\n",
    "`While` loops are great for continuously checking for a certain state, for example during the evaluation of user input. The loop is perfectly usable on its own, but can be extended with an else branch. The else branch is executed in case the while condition is not true any longer.\n",
    "\n",
    "The condition for a while loop is evaluated before the loop body is executed. This can result in the loop body not being executed at all, jumping straight to the else branch or continuing with the code after the loop.\n",
    "\n"
   ],
   "cell_type": "markdown",
   "metadata": {}
  },
  {
   "cell_type": "code",
   "execution_count": null,
   "metadata": {},
   "outputs": [],
   "source": [
    "userInput = input('Continue adding numbers? (y,n)')\n",
    "result = 0\n",
    "count = 0\n",
    "while userInput == 'y':\n",
    "    result += pow(count, 2)\n",
    "    count += 1\n",
    "    userInput = input('Continue adding numbers? (y,n)')\n",
    "else:\n",
    "    print('Your result is ' + str(result))"
   ]
  },
  {
   "source": [
    "---\n",
    "\n",
    "Take a look at the following example of a highly critical business process.  \n",
    "![Human thinking of food](./assets/importantdecisions.png)  \n",
    "\n",
    "<details>\n",
    "<summary>Think about this for a moment. How would you construct the code?</summary>\n",
    "The first decision is of course: Do we want Pizza or Burger? If we decide to get a burger, we can already place the order.  \n",
    "In case of Pizza, we would need to generate the list of toppings - so much to decide. In other words: *while* the list of Pizza toppings is not complete, prompt for more toppings.  \n",
    "The condition for the `while` loop would for example be `input('Are there any more toppings? (yes,no)' == yes`. While this condition is true,another prompt is displayed, asking the user to add a topping.  \n",
    "Finally, once the condition is not satisfied any longer, we can continue with the program and place the order.\n",
    "</details>\n",
    "\n",
    "With this out of the way, let's examine the code!"
   ],
   "cell_type": "markdown",
   "metadata": {}
  },
  {
   "cell_type": "code",
   "execution_count": null,
   "metadata": {},
   "outputs": [],
   "source": [
    "foodType = input('Would you like to eat Pizza or Burger?')\n",
    "toppings = [] # This is discussed in detail in the next lesson!\n",
    "\n",
    "if foodType == 'Pizza':\n",
    "    moreToppings = 'y'\n",
    "    while moreToppings in ['y', 'yes']:\n",
    "        toppings.append(input('Which topping would you like to add?'))\n",
    "        moreToppings = input('Add some more? (yes, no)')\n",
    "    else:\n",
    "        print('You ordered a pizza with ' + str(toppings))\n",
    "else:\n",
    "    print('you ordered a burger.')"
   ]
  },
  {
   "source": [
    "## Recap\n",
    "Today, we've looked at:\n",
    "\n",
    "✔️ Different IDEs\n",
    "\n",
    "✔️ Logical operators\n",
    "\n",
    "✔️ Branching with if, elif and else\n",
    "\n",
    "\n",
    "---\n",
    "\n",
    "## Homework assignments\n",
    "\n",
    "### Exercise 1\n",
    "\n",
    "Write a short program that prints one of several messages to the user based on their input.\n",
    "\n",
    "First, prompt the user about whether they want to continue or not.\n",
    "\n",
    "If the user responds with either no or n, print the phrase Exiting. Try to match the following\n",
    "output if a user answers with no or n:  \n",
    "\n",
    "```output\n",
    "Would you like to continue? no\n",
    "Exiting\n",
    "```  \n",
    "\n",
    "If the user responds with either yes or y, the output should instead look like this:  \n",
    "\n",
    "```output\n",
    "Would you like to continue? yes\n",
    "Continuing ...\n",
    "```  \n",
    "\n",
    "If the user responds with anything else, e.g. `python`, please match the following output:  \n",
    "\n",
    "```output\n",
    "Would you like to continue? python \n",
    "Please try again and respond with yes or no.\n",
    "```  \n",
    "\n",
    "Hints:\n",
    "- The input function can be used to prompt a user\n",
    "- The comparison for equality, `==` could be used here\n",
    "- The print function is used to print output on the screen\n",
    "\n",
    "Save your code as a file with the name `lesson3-ex1-YourNameOrNickname.py` and upload it to the classroom if you want to.  \n",
    "\n",
    "### Exercise 2\n",
    "\n",
    "You are tasked with developing a program that calculates various shapes depending on the user's input. We\n",
    "would like to see at least two different shapes, for example:\n",
    "- Area of a circle, `2*Pi*R^2` (Assume Pi as 3.14)\n",
    "- Area of a rectangle, x*y\n",
    "\n",
    "*Feel free to come up with different or more shapes, as long as you can get the necessary parameters from your user input!*\n",
    "\n",
    "To accomplish this, you need to make sure that:\n",
    "- The user is prompted what they want to caluclate\n",
    "- The input is in the correct format\n",
    "\n",
    "\n",
    "Hints:\n",
    "- Remember the input() and print() functions\n",
    "- Remember to use if, elif and else\n",
    "- There may be some nesting, and multiple input() functions, depending on the shapes you chose\n",
    "\n",
    "\n",
    "Save your code as a file with the name `lesson3-ex2-YourNameOrNickname.py` and upload it to the classroom if you want to.   \n",
    "\n",
    "### Exercise 3 - Stretch goal!\n",
    "\n",
    "***Attempt this exercise only if Exercise 1 and 2 were easy for you. This touches on topics that we only very briefly explored and should be seen as a stretch goal.***  \n",
    "\n",
    "Create a deck of 52 poker cards and draw a hand of cards for the player.\n",
    "- A hand consists of five cards\n",
    "- A poker deck contains the Suits Clubs, Spades, Hearts and Diamonds and contains the pictures 2,3,4,5,6,7,8,9,10, Jack, Queen, King, Ace\n",
    "- The name of the card should be a combination of Suit and Picture (Suite of Picture) e.g. Queen of Hearts or 4 of Spades.\n",
    "- \"Drawing\" a random card can be achieded with the random module:  \n",
    "```python\n",
    "import random\n",
    "# List starts at index 0, we have 52 cards\n",
    "random.randint(0, 51)\n",
    "```  \n",
    "\n",
    "<details>\n",
    "<summary>Hints:</summary>\n",
    "- Look for a way to draw more cards   while   the total amount of cards drawn is not 5. There are two comparisons you can make to achieve this!\n",
    "- To make deck building easier, you need to combine two lists - we've not seen those yet in detail. The following code might help:  \n",
    "  ```python\n",
    "  deck = []\n",
    "  suites = ['Clubs','Spades','Hearts','Diamonds']\n",
    "  pictures = ['2','3','4','5','6','7','8','9','10','Jack','Queen','King','Ace']\n",
    "  for suite in suites:\n",
    "      for picture in pictures:\n",
    "          deck.append(picture + ' of ' + suite)\n",
    "  ```  \n",
    "</details>\n",
    "\n",
    "Save your code as a file with the name lesson3-ex3-YourNameOrNickname.py and upload it to the classroom if you want to.  "
   ],
   "cell_type": "markdown",
   "metadata": {}
  }
 ]
}